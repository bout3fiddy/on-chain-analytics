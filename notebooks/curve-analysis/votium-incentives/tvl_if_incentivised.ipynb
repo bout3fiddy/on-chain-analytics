{
 "cells": [
  {
   "cell_type": "code",
   "execution_count": 1,
   "metadata": {},
   "outputs": [],
   "source": [
    "import sys, os, datetime\n",
    "sys.path.append(\"../../../\")\n",
    "\n",
    "from utils.contract_utils import init_contract\n",
    "from utils.network_utils import configure_network_and_connect\n",
    "\n",
    "import brownie"
   ]
  },
  {
   "cell_type": "code",
   "execution_count": 2,
   "metadata": {},
   "outputs": [],
   "source": [
    "import pandas as pd\n",
    "import matplotlib.pyplot as plt\n",
    "import matplotlib.dates as mdates\n",
    "import seaborn as sns\n",
    "sns.set_style(\"whitegrid\")"
   ]
  },
  {
   "cell_type": "code",
   "execution_count": 3,
   "metadata": {},
   "outputs": [],
   "source": [
    "ALCHEMY_API_KEY = os.environ['ALCHEMY_API_KEY']\n",
    "configure_network_and_connect(\n",
    "    node_provider_https=f\"https://eth-mainnet.alchemyapi.io/v2/{ALCHEMY_API_KEY}\",\n",
    "    network_name='mainnet'\n",
    ")"
   ]
  },
  {
   "cell_type": "code",
   "execution_count": 4,
   "metadata": {},
   "outputs": [],
   "source": [
    "pools = {\n",
    "    \"ankreth\": \"0xA96A65c051bF88B4095Ee1f2451C2A9d43F53Ae2\",\n",
    "    \"reth\": \"0xF9440930043eb3997fc70e1339dBb11F341de7A8\",\n",
    "    \"alusd\": \"0x43b4FdFD4Ff969587185cDB6f0BD875c5Fc83f8c\",\n",
    "    \"frax\": \"0xd632f22692FaC7611d2AA1C0D552930D43CAEd3B\",\n",
    "}"
   ]
  },
  {
   "cell_type": "code",
   "execution_count": 5,
   "outputs": [],
   "source": [
    "pools = {\n",
    "    \"ren\": \"0x93054188d876f558f4a66B2EF1d97d16eDf0895B\",\n",
    "    \"bbtc\": \"0x071c661B4DeefB59E2a3DdB20Db036821eeE8F4b\",\n",
    "    \"sbtc\": \"0x7fC77b5c7614E1533320Ea6DDc2Eb61fa00A9714\",\n",
    "    \"hbtc\": \"0x4CA9b3063Ec5866A4B82E437059D2C43d1be596F\",\n",
    "    \"tbtc\": \"0xC25099792E9349C7DD09759744ea681C7de2cb66\",\n",
    "    \"pbtc\": \"0x7F55DDe206dbAD629C080068923b36fe9D6bDBeF\",\n",
    "    \"obtc\": \"0x7F55DDe206dbAD629C080068923b36fe9D6bDBeF\"\n",
    "}"
   ],
   "metadata": {
    "collapsed": false,
    "pycharm": {
     "name": "#%%\n"
    }
   }
  },
  {
   "cell_type": "code",
   "execution_count": 6,
   "outputs": [],
   "source": [
    "pools = {\n",
    "    \"usdm\": \"0x5B3b5DF2BF2B6543f78e053bD91C4Bdd820929f1\",\n",
    "}"
   ],
   "metadata": {
    "collapsed": false,
    "pycharm": {
     "name": "#%%\n"
    }
   }
  },
  {
   "cell_type": "code",
   "execution_count": 12,
   "metadata": {},
   "outputs": [],
   "source": [
    "block_number_start = brownie.web3.eth.block_number - 50000"
   ]
  },
  {
   "cell_type": "code",
   "execution_count": 13,
   "metadata": {},
   "outputs": [],
   "source": [
    "def get_token_balances_from_block(\n",
    "    block_number_start: int,\n",
    "    pool_contract: brownie.Contract, \n",
    "    block_steps: int = 10000\n",
    ") -> pd.DataFrame:\n",
    "\n",
    "    current_block = brownie.web3.eth.block_number\n",
    "    blocks_to_calculate = list(range(block_number_start, current_block, block_steps))\n",
    "    blocks_to_calculate.append(current_block)\n",
    "\n",
    "    data = {'timestamp': [], 'block_number': [], 'total_coin_balances': []}\n",
    "\n",
    "    for block_number in blocks_to_calculate:\n",
    "\n",
    "        block_details = brownie.web3.eth.get_block(block_number)\n",
    "        block_time = datetime.datetime.fromtimestamp(block_details['timestamp'])\n",
    "\n",
    "        try:\n",
    "            pool_balances = pool_contract.get_balances(block_identifier=block_number)\n",
    "        except ValueError:\n",
    "            continue\n",
    "        except:  # old vyper contracts did not have get_balances method\n",
    "            pool_balances = []\n",
    "            for coin_index in range(10):\n",
    "                try:\n",
    "                    pool_balance_coin = pool_contract.balances(coin_index, block_identifier=block_number)\n",
    "                    pool_balances.append(pool_balance_coin)\n",
    "                except ValueError:\n",
    "                    break\n",
    "\n",
    "        total_coins = sum(pool_balances)\n",
    "\n",
    "        data['timestamp'].append(block_time)\n",
    "        data['block_number'].append(block_number)\n",
    "        data['total_coin_balances'].append(total_coins)\n",
    "\n",
    "    df_data = pd.DataFrame(data)\n",
    "\n",
    "    return df_data.set_index('timestamp')\n"
   ]
  },
  {
   "cell_type": "code",
   "execution_count": null,
   "metadata": {
    "pycharm": {
     "is_executing": true
    }
   },
   "outputs": [],
   "source": [
    "dict_data_pools = {}\n",
    "for pool_name, pool_addr in pools.items():\n",
    "\n",
    "    pool_contract_obj = init_contract(pool_addr)\n",
    "\n",
    "    dict_data_pools[pool_name] = get_token_balances_from_block(\n",
    "        block_number_start=block_number_start,\n",
    "        pool_contract=pool_contract_obj,\n",
    "        block_steps=200\n",
    "    )\n",
    "dict_data_pools"
   ]
  },
  {
   "cell_type": "code",
   "execution_count": null,
   "metadata": {
    "pycharm": {
     "is_executing": true
    }
   },
   "outputs": [],
   "source": [
    "bribe_tx = pd.Timestamp(\"2021-11-11 00:35:00\", tz=\"utc\")\n",
    "bribe_tx"
   ]
  },
  {
   "cell_type": "code",
   "execution_count": null,
   "metadata": {
    "pycharm": {
     "is_executing": true
    }
   },
   "outputs": [],
   "source": [
    "for pool_name, df_pool_tvl in dict_data_pools.items():\n",
    "\n",
    "    fig, ax = plt.subplots(1,1, figsize=(25, 8))\n",
    "\n",
    "    plot_start_date = pd.Timestamp(\"2021-09-01\")\n",
    "    df_plot = df_pool_tvl[df_pool_tvl.index > plot_start_date]\n",
    "    df_plot.reset_index(inplace=True)\n",
    "\n",
    "    decimals = 1e-18\n",
    "    millionth_decimal = False\n",
    "    if (df_plot.total_coin_balances * 1e-18).mean() > 1e8:\n",
    "        decimals *= 1e-7\n",
    "        millionth_decimal = True\n",
    "\n",
    "    ax.plot(df_plot.timestamp, df_plot.total_coin_balances * decimals, marker='x', color='r', lw=3, ms=10, label=pool_name)\n",
    "    ax.axvline(x=bribe_tx, label=\"Andre's Tweet\", color='k', ls='--')\n",
    "\n",
    "    ax.set_ylabel(\"\")\n",
    "    if not millionth_decimal:\n",
    "        ax.set_ylabel(\"Total Coins\", fontsize=25)\n",
    "    else:\n",
    "        ax.set_ylabel(\"Total Coins [Millions]\", fontsize=25)\n",
    "    ax.set_title(f\"USDM Curve Pool\", fontsize=25);\n",
    "    ax.tick_params(axis='both', which='major', labelsize=25);\n",
    "\n",
    "    ax.legend(fontsize=25);\n",
    "    try:\n",
    "\n",
    "        ax.ticklabel_format(useOffset=False, style='plain');\n",
    "    \n",
    "    except AttributeError:\n",
    "\n",
    "        continue"
   ]
  },
  {
   "cell_type": "code",
   "execution_count": 11,
   "outputs": [],
   "source": [],
   "metadata": {
    "collapsed": false,
    "pycharm": {
     "name": "#%%\n"
    }
   }
  }
 ],
 "metadata": {
  "kernelspec": {
   "display_name": "Python 3.7.10 64-bit ('venv': venv)",
   "name": "pythonjvsc74a57bd0ea544804ad94ad4b7270d2af05439f03f30e7952cca8d55759a97e338bf96f36"
  },
  "language_info": {
   "codemirror_mode": {
    "name": "ipython",
    "version": 3
   },
   "file_extension": ".py",
   "mimetype": "text/x-python",
   "name": "python",
   "nbconvert_exporter": "python",
   "pygments_lexer": "ipython3",
   "version": "3.7.10"
  },
  "metadata": {
   "interpreter": {
    "hash": "21df2f293af9707545440a88aaf24e48b342b3531ee3aea9e212c79967abcd9c"
   }
  },
  "orig_nbformat": 2
 },
 "nbformat": 4,
 "nbformat_minor": 2
}