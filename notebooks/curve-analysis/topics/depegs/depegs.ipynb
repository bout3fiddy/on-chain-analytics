{
 "cells": [
  {
   "cell_type": "code",
   "execution_count": 1,
   "metadata": {
    "collapsed": true,
    "pycharm": {
     "name": "#%%\n"
    }
   },
   "outputs": [],
   "source": [
    "import os\n",
    "import json\n",
    "import requests\n",
    "\n",
    "from web3 import Web3, HTTPProvider\n",
    "\n",
    "import pandas as pd\n",
    "import numpy as np\n",
    "import matplotlib.pyplot as plt\n",
    "import seaborn as sns\n",
    "sns.set_style(\"whitegrid\")\n",
    "\n",
    "from utils.eth_blocks_utils import get_block_for_timestamp, get_timestamp_for_block\n",
    "\n",
    "from pandas import Timestamp"
   ]
  },
  {
   "cell_type": "code",
   "execution_count": 2,
   "outputs": [],
   "source": [
    "ALCHEMY_API_KEY = os.environ['ALCHEMY_API_KEY']\n",
    "web3 = Web3(HTTPProvider(f\"https://eth-mainnet.alchemyapi.io/v2/{ALCHEMY_API_KEY}\"))"
   ],
   "metadata": {
    "collapsed": false,
    "pycharm": {
     "name": "#%%\n"
    }
   }
  },
  {
   "cell_type": "code",
   "execution_count": 3,
   "outputs": [],
   "source": [
    "api = \"https://api.thegraph.com/subgraphs/name/convex-community/volume-mainnet\""
   ],
   "metadata": {
    "collapsed": false,
    "pycharm": {
     "name": "#%%\n"
    }
   }
  },
  {
   "cell_type": "code",
   "execution_count": 4,
   "outputs": [],
   "source": [
    "mim3crv = \"0x5a6A4D54456819380173272A5E8E9B9904BdF41B\"\n",
    "with open(\"./mim-3pool.json\", 'r') as f:\n",
    "    abi = json.load(f)\n",
    "mim_3pool = web3.eth.contract(address=mim3crv, abi=abi)\n",
    "\n",
    "wormholeust3crv = \"0xCEAF7747579696A2F0bb206a14210e3c9e6fB269\"\n",
    "with open(\"./wormholeust-3pool.json\", 'r') as f:\n",
    "    abi = json.load(f)\n",
    "wormholeust_3pool = web3.eth.contract(address=wormholeust3crv, abi=abi)\n",
    "\n",
    "usdn3crv = \"0x0f9cb53Ebe405d49A0bbdBD291A65Ff571bC83e1\"\n",
    "with open(\"./usdn-3pool.json\", 'r') as f:\n",
    "    abi = json.load(f)\n",
    "usdn_3pool = web3.eth.contract(address=usdn3crv, abi=abi)\n",
    "\n",
    "pools = [\n",
    "    \"0x5a6A4D54456819380173272A5E8E9B9904BdF41B\",\n",
    "    \"0xCEAF7747579696A2F0bb206a14210e3c9e6fB269\",\n",
    "    \"0x0f9cb53Ebe405d49A0bbdBD291A65Ff571bC83e1\"\n",
    "]"
   ],
   "metadata": {
    "collapsed": false,
    "pycharm": {
     "name": "#%%\n"
    }
   }
  },
  {
   "cell_type": "code",
   "execution_count": 29,
   "outputs": [
    {
     "data": {
      "text/plain": "1652342427"
     },
     "execution_count": 29,
     "metadata": {},
     "output_type": "execute_result"
    }
   ],
   "source": [
    "end_block = web3.eth.get_block_number()\n",
    "end_block_timestamp = get_timestamp_for_block(end_block-1)\n",
    "end_block_timestamp"
   ],
   "metadata": {
    "collapsed": false,
    "pycharm": {
     "name": "#%%\n"
    }
   }
  },
  {
   "cell_type": "markdown",
   "source": [
    "MIM was the first depeg so we start our queries from around mid Feb"
   ],
   "metadata": {
    "collapsed": false,
    "pycharm": {
     "name": "#%% md\n"
    }
   }
  },
  {
   "cell_type": "code",
   "execution_count": 6,
   "outputs": [
    {
     "data": {
      "text/plain": "14207339"
     },
     "execution_count": 6,
     "metadata": {},
     "output_type": "execute_result"
    }
   ],
   "source": [
    "depegs_start = int(Timestamp(2022, 2, 15).timestamp())\n",
    "query_start_block = get_block_for_timestamp(depegs_start)\n",
    "query_start_block"
   ],
   "metadata": {
    "collapsed": false,
    "pycharm": {
     "name": "#%%\n"
    }
   }
  },
  {
   "cell_type": "code",
   "execution_count": 30,
   "outputs": [
    {
     "data": {
      "text/plain": "745"
     },
     "execution_count": 30,
     "metadata": {},
     "output_type": "execute_result"
    }
   ],
   "source": [
    "step = 10000\n",
    "time_steps = list(range(depegs_start, end_block_timestamp, step))\n",
    "time_boxes = list(zip(time_steps, time_steps[1:]))\n",
    "len(time_boxes)"
   ],
   "metadata": {
    "collapsed": false,
    "pycharm": {
     "name": "#%%\n"
    }
   }
  },
  {
   "cell_type": "code",
   "execution_count": null,
   "outputs": [],
   "source": [
    "blocks_to_inspect = []\n",
    "c = len(time_boxes)\n",
    "for time_box in time_boxes:\n",
    "    print(f\"left: {c}\")\n",
    "    c -= 1\n",
    "    for pool in pools:\n",
    "        query = f\"\"\"\n",
    "        {{\n",
    "          swapEvents(\n",
    "            where: {{\n",
    "              pool: \"{pool.lower()}\"\n",
    "              timestamp_gte: {time_box[0]}\n",
    "              timestamp_lt: {time_box[1]}\n",
    "            }}\n",
    "          ) {{\n",
    "            block\n",
    "          }}\n",
    "        }}\n",
    "        \"\"\"\n",
    "        r = requests.post(api, json={'query': query})\n",
    "        queried_data = [int(i['block']) for i in dict(r.json())['data']['swapEvents']]\n",
    "        blocks_to_inspect.extend(queried_data)\n",
    "        data = list(set(blocks_to_inspect))\n",
    "\n",
    "blocks_to_inspect"
   ],
   "metadata": {
    "collapsed": false,
    "pycharm": {
     "name": "#%%\n",
     "is_executing": true
    }
   }
  },
  {
   "cell_type": "markdown",
   "source": [
    "Get blocks wherever transactions happened."
   ],
   "metadata": {
    "collapsed": false,
    "pycharm": {
     "name": "#%% md\n"
    }
   }
  },
  {
   "cell_type": "code",
   "execution_count": 33,
   "outputs": [
    {
     "data": {
      "text/plain": "14670"
     },
     "execution_count": 33,
     "metadata": {},
     "output_type": "execute_result"
    }
   ],
   "source": [
    "num_blocks = len(blocks_to_inspect)\n",
    "num_blocks"
   ],
   "metadata": {
    "collapsed": false,
    "pycharm": {
     "name": "#%%\n"
    }
   }
  },
  {
   "cell_type": "markdown",
   "source": [
    "We want token reserves and spot prices at swap_blocks (but first remove duplicates!)"
   ],
   "metadata": {
    "collapsed": false,
    "pycharm": {
     "name": "#%% md\n"
    }
   }
  },
  {
   "cell_type": "code",
   "execution_count": 21,
   "outputs": [],
   "source": [
    "data = []\n",
    "done_blocks = []"
   ],
   "metadata": {
    "collapsed": false,
    "pycharm": {
     "name": "#%%\n"
    }
   }
  },
  {
   "cell_type": "code",
   "execution_count": null,
   "outputs": [],
   "source": [
    "dec_18 = 1000000000000000000\n",
    "dec_6 = 1000000\n",
    "for block in blocks_to_inspect:\n",
    "\n",
    "    if block in done_blocks:\n",
    "        continue\n",
    "\n",
    "    print(f\"blocks left: {num_blocks - len(done_blocks)}\")\n",
    "\n",
    "    block_timestamp = pd.Timestamp.fromtimestamp(get_timestamp_for_block(block))\n",
    "\n",
    "    # spot prices - outputs are in 3crv so 18 decimals are divided\n",
    "    mim_spot_price = mim_3pool.functions.get_dy(0, 1, dec_18).call(block_identifier=block) * 1e-18\n",
    "    wormholeust_spot_price = wormholeust_3pool.functions.get_dy(0, 1, dec_6).call(block_identifier=block) * 1e-18\n",
    "    usdn_spot_price = usdn_3pool.functions.get_dy(0, 1, dec_18).call(block_identifier=block) * 1e-18\n",
    "\n",
    "    # reserves\n",
    "    mim_reserve = mim_3pool.functions.balances(0).call(block_identifier=block) * 1e-18\n",
    "    mim_3crv_reserve = mim_3pool.functions.balances(1).call(block_identifier=block) * 1e-18\n",
    "\n",
    "    wormholeust_reserve = wormholeust_3pool.functions.balances(0).call(block_identifier=block) * 1e-6\n",
    "    wormholeust_3crv_reserve = wormholeust_3pool.functions.balances(1).call(block_identifier=block) * 1e-18\n",
    "\n",
    "    usdn_reserve = usdn_3pool.functions.balances(0).call(block_identifier=block) * 1e-18\n",
    "    usdn_3crv_reserve = usdn_3pool.functions.balances(1).call(block_identifier=block) * 1e-18\n",
    "\n",
    "    data.append(\n",
    "        {\n",
    "            \"block\": block,\n",
    "            \"timestamp\": block_timestamp,\n",
    "            \"mim_spot_price\": mim_spot_price,\n",
    "            \"wormholeust_spot_price\": wormholeust_spot_price,\n",
    "            \"usdn_spot_price\": usdn_spot_price,\n",
    "            \"mim_reserve\": mim_reserve,\n",
    "            \"mim_3crv_reserve\": mim_3crv_reserve,\n",
    "            \"wormholeust_reserve\": wormholeust_reserve,\n",
    "            \"wormholeust_3crv_reserve\": wormholeust_3crv_reserve,\n",
    "            \"usdn_reserve\": usdn_reserve,\n",
    "            \"usdn_3crv_reserve\": usdn_3crv_reserve,\n",
    "        }\n",
    "    )\n",
    "    done_blocks.append(block)"
   ],
   "metadata": {
    "collapsed": false,
    "pycharm": {
     "name": "#%%\n",
     "is_executing": true
    }
   }
  },
  {
   "cell_type": "code",
   "execution_count": null,
   "outputs": [],
   "source": [
    "df_data = pd.DataFrame(data)\n",
    "df_data"
   ],
   "metadata": {
    "collapsed": false,
    "pycharm": {
     "name": "#%%\n",
     "is_executing": true
    }
   }
  },
  {
   "cell_type": "code",
   "execution_count": 31,
   "outputs": [],
   "source": [
    "df_data.to_csv(\"./mim_usdn_wormhole_depeg_reserves_spot_price.csv\")"
   ],
   "metadata": {
    "collapsed": false,
    "pycharm": {
     "name": "#%%\n"
    }
   }
  },
  {
   "cell_type": "code",
   "execution_count": null,
   "outputs": [],
   "source": [],
   "metadata": {
    "collapsed": false,
    "pycharm": {
     "name": "#%%\n"
    }
   }
  }
 ],
 "metadata": {
  "kernelspec": {
   "display_name": "Python 3",
   "language": "python",
   "name": "python3"
  },
  "language_info": {
   "codemirror_mode": {
    "name": "ipython",
    "version": 2
   },
   "file_extension": ".py",
   "mimetype": "text/x-python",
   "name": "python",
   "nbconvert_exporter": "python",
   "pygments_lexer": "ipython2",
   "version": "2.7.6"
  }
 },
 "nbformat": 4,
 "nbformat_minor": 0
}