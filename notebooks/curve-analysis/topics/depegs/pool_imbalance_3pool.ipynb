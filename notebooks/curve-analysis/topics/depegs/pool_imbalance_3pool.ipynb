{
 "cells": [
  {
   "cell_type": "code",
   "execution_count": 3,
   "metadata": {
    "collapsed": true,
    "pycharm": {
     "name": "#%%\n"
    }
   },
   "outputs": [],
   "source": [
    "import os\n",
    "import json\n",
    "import requests\n",
    "\n",
    "from web3 import Web3, HTTPProvider\n",
    "\n",
    "import pandas as pd\n",
    "import numpy as np\n",
    "import matplotlib.pyplot as plt\n",
    "import seaborn as sns\n",
    "sns.set_style(\"whitegrid\")\n",
    "\n",
    "from utils.eth_blocks_utils import get_block_for_timestamp, get_timestamp_for_block\n",
    "\n",
    "from pandas import Timestamp"
   ]
  },
  {
   "cell_type": "code",
   "execution_count": 4,
   "outputs": [],
   "source": [
    "ALCHEMY_API_KEY = os.environ['ALCHEMY_API_KEY']\n",
    "web3 = Web3(HTTPProvider(f\"https://eth-mainnet.alchemyapi.io/v2/{ALCHEMY_API_KEY}\"))"
   ],
   "metadata": {
    "collapsed": false,
    "pycharm": {
     "name": "#%%\n"
    }
   }
  },
  {
   "cell_type": "code",
   "execution_count": 5,
   "outputs": [],
   "source": [
    "api = \"https://api.thegraph.com/subgraphs/name/convex-community/volume-mainnet\""
   ],
   "metadata": {
    "collapsed": false,
    "pycharm": {
     "name": "#%%\n"
    }
   }
  },
  {
   "cell_type": "code",
   "execution_count": 6,
   "outputs": [],
   "source": [
    "pool_addr = \"0xbEbc44782C7dB0a1A60Cb6fe97d0b483032FF1C7\"\n",
    "with open(\"./3pool.json\", 'r') as f:\n",
    "    abi = json.load(f)\n",
    "tripool = web3.eth.contract(address=pool_addr, abi=abi)"
   ],
   "metadata": {
    "collapsed": false,
    "pycharm": {
     "name": "#%%\n"
    }
   }
  },
  {
   "cell_type": "code",
   "execution_count": 8,
   "outputs": [
    {
     "data": {
      "text/plain": "1652346032"
     },
     "execution_count": 8,
     "metadata": {},
     "output_type": "execute_result"
    }
   ],
   "source": [
    "end_block = web3.eth.get_block_number()\n",
    "end_block_timestamp = get_timestamp_for_block(end_block-2)\n",
    "end_block_timestamp"
   ],
   "metadata": {
    "collapsed": false,
    "pycharm": {
     "name": "#%%\n"
    }
   }
  },
  {
   "cell_type": "markdown",
   "source": [
    "USDT balances got borky from the 7th of May 2022. So let's start from the 5th."
   ],
   "metadata": {
    "collapsed": false,
    "pycharm": {
     "name": "#%% md\n"
    }
   }
  },
  {
   "cell_type": "code",
   "execution_count": 9,
   "outputs": [
    {
     "data": {
      "text/plain": "14713964"
     },
     "execution_count": 9,
     "metadata": {},
     "output_type": "execute_result"
    }
   ],
   "source": [
    "depegs_start = int(Timestamp(2022, 5, 5).timestamp())\n",
    "query_start_block = get_block_for_timestamp(depegs_start)\n",
    "query_start_block"
   ],
   "metadata": {
    "collapsed": false,
    "pycharm": {
     "name": "#%%\n"
    }
   }
  },
  {
   "cell_type": "code",
   "execution_count": 10,
   "outputs": [
    {
     "data": {
      "text/plain": "177"
     },
     "execution_count": 10,
     "metadata": {},
     "output_type": "execute_result"
    }
   ],
   "source": [
    "step = 3600\n",
    "time_steps = list(range(depegs_start, end_block_timestamp, step))\n",
    "time_boxes = list(zip(time_steps, time_steps[1:]))\n",
    "len(time_boxes)"
   ],
   "metadata": {
    "collapsed": false,
    "pycharm": {
     "name": "#%%\n"
    }
   }
  },
  {
   "cell_type": "code",
   "execution_count": 11,
   "outputs": [
    {
     "name": "stdout",
     "output_type": "stream",
     "text": [
      "left: 177\n",
      "left: 176\n",
      "left: 175\n",
      "left: 174\n",
      "left: 173\n",
      "left: 172\n",
      "left: 171\n",
      "left: 170\n",
      "left: 169\n",
      "left: 168\n",
      "left: 167\n",
      "left: 166\n",
      "left: 165\n",
      "left: 164\n",
      "left: 163\n",
      "left: 162\n",
      "left: 161\n",
      "left: 160\n",
      "left: 159\n",
      "left: 158\n",
      "left: 157\n",
      "left: 156\n",
      "left: 155\n",
      "left: 154\n",
      "left: 153\n",
      "left: 152\n",
      "left: 151\n",
      "left: 150\n",
      "left: 149\n",
      "left: 148\n",
      "left: 147\n",
      "left: 146\n",
      "left: 145\n",
      "left: 144\n",
      "left: 143\n",
      "left: 142\n",
      "left: 141\n",
      "left: 140\n",
      "left: 139\n",
      "left: 138\n",
      "left: 137\n",
      "left: 136\n",
      "left: 135\n",
      "left: 134\n",
      "left: 133\n",
      "left: 132\n",
      "left: 131\n",
      "left: 130\n",
      "left: 129\n",
      "left: 128\n",
      "left: 127\n",
      "left: 126\n",
      "left: 125\n",
      "left: 124\n",
      "left: 123\n",
      "left: 122\n",
      "left: 121\n",
      "left: 120\n",
      "left: 119\n",
      "left: 118\n",
      "left: 117\n",
      "left: 116\n",
      "left: 115\n",
      "left: 114\n",
      "left: 113\n",
      "left: 112\n",
      "left: 111\n",
      "left: 110\n",
      "left: 109\n",
      "left: 108\n",
      "left: 107\n",
      "left: 106\n",
      "left: 105\n",
      "left: 104\n",
      "left: 103\n",
      "left: 102\n",
      "left: 101\n",
      "left: 100\n",
      "left: 99\n",
      "left: 98\n",
      "left: 97\n",
      "left: 96\n",
      "left: 95\n",
      "left: 94\n",
      "left: 93\n",
      "left: 92\n",
      "left: 91\n",
      "left: 90\n",
      "left: 89\n",
      "left: 88\n",
      "left: 87\n",
      "left: 86\n",
      "left: 85\n",
      "left: 84\n",
      "left: 83\n",
      "left: 82\n",
      "left: 81\n",
      "left: 80\n",
      "left: 79\n",
      "left: 78\n",
      "left: 77\n",
      "left: 76\n",
      "left: 75\n",
      "left: 74\n",
      "left: 73\n",
      "left: 72\n",
      "left: 71\n",
      "left: 70\n",
      "left: 69\n",
      "left: 68\n",
      "left: 67\n",
      "left: 66\n",
      "left: 65\n",
      "left: 64\n",
      "left: 63\n",
      "left: 62\n",
      "left: 61\n",
      "left: 60\n",
      "left: 59\n",
      "left: 58\n",
      "left: 57\n",
      "left: 56\n",
      "left: 55\n",
      "left: 54\n",
      "left: 53\n",
      "left: 52\n",
      "left: 51\n",
      "left: 50\n",
      "left: 49\n",
      "left: 48\n",
      "left: 47\n",
      "left: 46\n",
      "left: 45\n",
      "left: 44\n",
      "left: 43\n",
      "left: 42\n",
      "left: 41\n",
      "left: 40\n",
      "left: 39\n",
      "left: 38\n",
      "left: 37\n",
      "left: 36\n",
      "left: 35\n",
      "left: 34\n",
      "left: 33\n",
      "left: 32\n",
      "left: 31\n",
      "left: 30\n",
      "left: 29\n",
      "left: 28\n",
      "left: 27\n",
      "left: 26\n",
      "left: 25\n",
      "left: 24\n",
      "left: 23\n",
      "left: 22\n",
      "left: 21\n",
      "left: 20\n",
      "left: 19\n",
      "left: 18\n",
      "left: 17\n",
      "left: 16\n",
      "left: 15\n",
      "left: 14\n",
      "left: 13\n",
      "left: 12\n",
      "left: 11\n",
      "left: 10\n",
      "left: 9\n",
      "left: 8\n",
      "left: 7\n",
      "left: 6\n",
      "left: 5\n",
      "left: 4\n",
      "left: 3\n",
      "left: 2\n",
      "left: 1\n"
     ]
    },
    {
     "data": {
      "text/plain": "[14714120,\n 14714304,\n 14714570,\n 14714768,\n 14714810,\n 14714861,\n 14714984,\n 14715185,\n 14715410,\n 14715629,\n 14715668,\n 14715575,\n 14715570,\n 14715572,\n 14715952,\n 14716019,\n 14716040,\n 14716155,\n 14716411,\n 14716564,\n 14716609,\n 14716710,\n 14716967,\n 14717586,\n 14717626,\n 14717910,\n 14717926,\n 14717917,\n 14717958,\n 14718315,\n 14718164,\n 14718238,\n 14718168,\n 14718658,\n 14718671,\n 14718783,\n 14718712,\n 14719137,\n 14719137,\n 14719137,\n 14719106,\n 14719137,\n 14719025,\n 14719137,\n 14719423,\n 14719349,\n 14719421,\n 14719491,\n 14720442,\n 14720468,\n 14720690,\n 14720676,\n 14720955,\n 14720795,\n 14721063,\n 14721347,\n 14721597,\n 14721897,\n 14722016,\n 14722434,\n 14722472,\n 14722448,\n 14722736,\n 14722793,\n 14723067,\n 14723413,\n 14723175,\n 14723628,\n 14723581,\n 14723526,\n 14723468,\n 14723583,\n 14723420,\n 14723844,\n 14723830,\n 14724075,\n 14724114,\n 14724009,\n 14724009,\n 14724442,\n 14724214,\n 14724712,\n 14724706,\n 14724919,\n 14724928,\n 14725000,\n 14725012,\n 14725141,\n 14725251,\n 14725409,\n 14725332,\n 14725288,\n 14725491,\n 14725760,\n 14725574,\n 14725594,\n 14725596,\n 14725595,\n 14725792,\n 14725859,\n 14725953,\n 14726483,\n 14726368,\n 14726619,\n 14726579,\n 14726938,\n 14727080,\n 14726904,\n 14727009,\n 14727205,\n 14727158,\n 14727243,\n 14727183,\n 14727387,\n 14727453,\n 14727433,\n 14727615,\n 14727605,\n 14727607,\n 14727808,\n 14727705,\n 14727611,\n 14727814,\n 14728499,\n 14728499,\n 14728568,\n 14728497,\n 14728416,\n 14728495,\n 14728550,\n 14728720,\n 14728744,\n 14729120,\n 14728983,\n 14729226,\n 14729166,\n 14729899,\n 14729954,\n 14730090,\n 14730622,\n 14730874,\n 14731075,\n 14731348,\n 14731295,\n 14731319,\n 14731577,\n 14731742,\n 14731752,\n 14731577,\n 14731794,\n 14732001,\n 14732002,\n 14732134,\n 14732297,\n 14732120,\n 14732088,\n 14732062,\n 14732447,\n 14732495,\n 14732504,\n 14732488,\n 14732488,\n 14732348,\n 14732528,\n 14732441,\n 14732499,\n 14732533,\n 14732746,\n 14732626,\n 14732696,\n 14732600,\n 14732690,\n 14732611,\n 14732709,\n 14732797,\n 14732603,\n 14732794,\n 14732939,\n 14732874,\n 14732900,\n 14733266,\n 14733308,\n 14733269,\n 14733554,\n 14733591,\n 14733496,\n 14733419,\n 14733591,\n 14733569,\n 14733347,\n 14733365,\n 14733595,\n 14733464,\n 14733556,\n 14733591,\n 14733496,\n 14733536,\n 14733496,\n 14733496,\n 14733472,\n 14733552,\n 14733591,\n 14733464,\n 14733526,\n 14733496,\n 14733528,\n 14733364,\n 14733646,\n 14733653,\n 14733656,\n 14734028,\n 14734077,\n 14734032,\n 14733961,\n 14733941,\n 14734323,\n 14734240,\n 14734240,\n 14734610,\n 14734545,\n 14735066,\n 14735566,\n 14735660,\n 14735520,\n 14735753,\n 14735722,\n 14735942,\n 14735937,\n 14736226,\n 14736087,\n 14736073,\n 14736425,\n 14736571,\n 14736921,\n 14736800,\n 14736988,\n 14737197,\n 14736996,\n 14737357,\n 14737375,\n 14737512,\n 14737737,\n 14737753,\n 14737723,\n 14737625,\n 14737721,\n 14737709,\n 14737760,\n 14738043,\n 14738095,\n 14738294,\n 14738534,\n 14738494,\n 14738433,\n 14738586,\n 14738532,\n 14738905,\n 14738994,\n 14738991,\n 14738959,\n 14738950,\n 14738909,\n 14738998,\n 14739101,\n 14739320,\n 14739342,\n 14739288,\n 14739439,\n 14739601,\n 14739443,\n 14739433,\n 14739831,\n 14739803,\n 14739787,\n 14739757,\n 14739909,\n 14739778,\n 14739988,\n 14740024,\n 14739998,\n 14740361,\n 14740337,\n 14740309,\n 14740625,\n 14740777,\n 14741024,\n 14741357,\n 14741393,\n 14741907,\n 14741990,\n 14741994,\n 14741902,\n 14742154,\n 14742157,\n 14742154,\n 14742286,\n 14742206,\n 14742157,\n 14742113,\n 14742255,\n 14742554,\n 14742486,\n 14742437,\n 14742306,\n 14742517,\n 14742629,\n 14742587,\n 14742587,\n 14742775,\n 14742735,\n 14742735,\n 14742599,\n 14742600,\n 14742570,\n 14742876,\n 14743051,\n 14742916,\n 14743267,\n 14743185,\n 14743283,\n 14743068,\n 14743187,\n 14743265,\n 14743469,\n 14743316,\n 14743365,\n 14743522,\n 14743359,\n 14743294,\n 14743403,\n 14743352,\n 14743564,\n 14743722,\n 14743568,\n 14743624,\n 14743574,\n 14743642,\n 14743675,\n 14743564,\n 14743660,\n 14743584,\n 14743686,\n 14743613,\n 14744039,\n 14743887,\n 14744007,\n 14743910,\n 14743871,\n 14744007,\n 14743910,\n 14744007,\n 14743884,\n 14743832,\n 14743832,\n 14743832,\n 14743832,\n 14743998,\n 14743832,\n 14743910,\n 14743832,\n 14743832,\n 14744208,\n 14744136,\n 14744107,\n 14744136,\n 14744282,\n 14744215,\n 14744136,\n 14744212,\n 14744262,\n 14744423,\n 14744444,\n 14744372,\n 14744446,\n 14744346,\n 14744444,\n 14744465,\n 14744393,\n 14744444,\n 14744500,\n 14744359,\n 14744526,\n 14744349,\n 14744518,\n 14744461,\n 14744673,\n 14744621,\n 14744603,\n 14744819,\n 14744678,\n 14744816,\n 14744645,\n 14744820,\n 14744789,\n 14745031,\n 14744946,\n 14744925,\n 14745265,\n 14745291,\n 14745304,\n 14745348,\n 14745339,\n 14745348,\n 14745593,\n 14745398,\n 14745568,\n 14745529,\n 14745461,\n 14745615,\n 14745460,\n 14745368,\n 14745874,\n 14745745,\n 14745801,\n 14745849,\n 14745832,\n 14745792,\n 14745849,\n 14745662,\n 14745891,\n 14745846,\n 14746007,\n 14746022,\n 14745928,\n 14746020,\n 14745922,\n 14746036,\n 14746303,\n 14746302,\n 14746156,\n 14746173,\n 14746210,\n 14746324,\n 14746393,\n 14746556,\n 14746599,\n 14746539,\n 14746579,\n 14746669,\n 14746468,\n 14746508,\n 14746727,\n 14746789,\n 14746886,\n 14746917,\n 14746983,\n 14747028,\n 14746995,\n 14746933,\n 14746946,\n 14747313,\n 14747262,\n 14747358,\n 14747313,\n 14747313,\n 14747216,\n 14747519,\n 14747456,\n 14747672,\n 14747705,\n 14747781,\n 14748368,\n 14748430,\n 14748295,\n 14748177,\n 14748358,\n 14748472,\n 14748532,\n 14748548,\n 14748672,\n 14748528,\n 14748458,\n 14748454,\n 14748688,\n 14748886,\n 14748924,\n 14748775,\n 14748773,\n 14748809,\n 14748791,\n 14748796,\n 14749120,\n 14749161,\n 14749179,\n 14749189,\n 14749195,\n 14749140,\n 14749103,\n 14749357,\n 14749350,\n 14749332,\n 14749565,\n 14749588,\n 14749697,\n 14749594,\n 14749548,\n 14749680,\n 14749578,\n 14749621,\n 14749657,\n 14749542,\n 14749898,\n 14749936,\n 14749760,\n 14749968,\n 14749767,\n 14749900,\n 14749858,\n 14749763,\n 14749919,\n 14749846,\n 14749746,\n 14749864,\n 14749981,\n 14749910,\n 14749723,\n 14749802,\n 14750131,\n 14750018,\n 14750130,\n 14750033,\n 14750065,\n 14750482,\n 14750394,\n 14750304,\n 14750530,\n 14750763,\n 14750870,\n 14751044,\n 14751042,\n 14750954,\n 14750861,\n 14750927,\n 14751223,\n 14751183,\n 14751096,\n 14751114,\n 14751096,\n 14751090,\n 14751292,\n 14751149,\n 14751552,\n 14751328,\n 14751526,\n 14751450,\n 14751415,\n 14751549,\n 14751432,\n 14751410,\n 14751367,\n 14751467,\n 14751653,\n 14751791,\n 14752012,\n 14751991,\n 14751960,\n 14751966,\n 14752081,\n 14751978,\n 14752177,\n 14752102,\n 14752096,\n 14752241,\n 14752137,\n 14752458,\n 14752520,\n 14752711,\n 14752696,\n 14752803,\n 14752811,\n 14752794,\n 14752911,\n 14752919,\n 14753042,\n 14752917,\n 14752910,\n 14752898,\n 14753387,\n 14753337,\n 14753144,\n 14753174,\n 14753308,\n 14753148,\n 14753390,\n 14753232,\n 14753358,\n 14753563,\n 14753531,\n 14753459,\n 14753585,\n 14753560,\n 14753549,\n 14753452,\n 14753495,\n 14753573,\n 14753678,\n 14753573,\n 14753626,\n 14753727,\n 14753822,\n 14753866,\n 14753739,\n 14753726,\n 14753711,\n 14753739,\n 14753692,\n 14753776,\n 14753725,\n 14753755,\n 14753771,\n 14753967,\n 14754059,\n 14754143,\n 14754135,\n 14754163,\n 14754152,\n 14754097,\n 14754074,\n 14754069,\n 14754185,\n 14754422,\n 14754466,\n 14754369,\n 14754397,\n 14754297,\n 14754198,\n 14754485,\n 14754403,\n 14754384,\n 14754226,\n 14754230,\n 14754688,\n 14754700,\n 14754516,\n 14754552,\n 14754542,\n 14754559,\n 14754609,\n 14754645,\n 14754659,\n 14754679,\n 14754569,\n 14754814,\n 14755007,\n 14754736,\n 14754903,\n 14754798,\n 14754815,\n 14754731,\n 14754914,\n 14754943,\n 14755007,\n 14754821,\n 14754973,\n 14754865,\n 14754933,\n 14754887,\n 14754956,\n 14754865,\n 14754819,\n 14754852,\n 14754893,\n 14754809,\n 14755006,\n 14754950,\n 14754954,\n 14754996,\n 14755167,\n 14755240,\n 14755010,\n 14755053,\n 14755204,\n 14755205,\n 14755146,\n 14755155,\n 14755045,\n 14755208,\n 14755209,\n 14755077,\n 14755045,\n 14755141,\n 14755041,\n 14755242,\n 14755134,\n 14755188,\n 14755117,\n 14755195,\n 14755135,\n 14755224,\n 14755149,\n 14755048,\n 14755214,\n 14755073,\n 14755139,\n 14755020,\n 14755166,\n 14755189,\n 14755161,\n 14755165,\n 14755141,\n 14755216,\n 14755222,\n 14755228,\n 14755021,\n 14755197,\n 14755060,\n 14755209,\n 14755032,\n 14755205,\n 14755122,\n 14755200,\n 14755070,\n 14755208,\n 14755165,\n 14755151,\n 14755067,\n 14755183,\n 14755149,\n 14755220,\n 14755112,\n 14755027,\n 14755188,\n 14755016,\n 14755135,\n 14755340,\n 14755273,\n 14755259,\n 14755497,\n 14755320,\n 14755315,\n 14755289,\n 14755355,\n 14755344,\n 14755460,\n 14755275,\n 14755499,\n 14755496,\n 14755420,\n 14755312,\n 14755255,\n 14755302,\n 14755489,\n 14755434,\n 14755247,\n 14755455,\n 14755500,\n 14755320,\n 14755311,\n 14755447,\n 14755421,\n 14755406,\n 14755299,\n 14755294,\n 14755254,\n 14755277,\n 14755343,\n 14755266,\n 14755439,\n 14755285,\n 14755298,\n 14755605,\n 14755581,\n 14755581,\n 14755687,\n 14755759,\n 14755670,\n 14755660,\n 14755580,\n 14755765,\n 14755765,\n 14755752,\n 14755514,\n 14755550,\n 14755566,\n 14755762,\n 14755754,\n 14755681,\n 14755768,\n 14755739,\n 14755767,\n 14755657,\n 14755733,\n 14755701,\n 14755761,\n 14755649,\n 14755749,\n 14755752,\n 14755560,\n 14755751,\n 14755738,\n 14755544,\n 14755712,\n 14755577,\n 14755594,\n 14755597,\n 14755799,\n 14756031,\n 14755882,\n 14755840,\n 14755783,\n 14755821,\n 14755794,\n 14755987,\n 14755797,\n 14756030,\n 14755848,\n 14755913,\n 14756009,\n 14755852,\n 14756004,\n 14755864,\n 14755820,\n 14755982,\n 14755934,\n 14755866,\n 14755880,\n 14755838,\n 14755864,\n 14755827,\n 14755865,\n 14755964,\n 14756036,\n 14756035,\n 14755941,\n 14756019,\n 14755860,\n 14755864,\n 14755808,\n 14755941,\n 14755962,\n 14755989,\n 14756022,\n 14756019,\n 14755837,\n 14755827,\n 14755934,\n 14755922,\n 14756037,\n 14756304,\n 14756146,\n 14756112,\n 14756221,\n 14756081,\n 14756304,\n 14756257,\n 14756175,\n 14756242,\n 14756310,\n 14756154,\n 14756209,\n 14756159,\n 14756232,\n 14756094,\n 14756274,\n 14756102,\n 14756178,\n 14756284,\n 14756177,\n 14756090,\n 14756310,\n 14756116,\n 14756156,\n 14756107,\n 14756225,\n 14756239,\n 14756301,\n 14756174,\n 14756272,\n 14756186,\n 14756157,\n 14756098,\n 14756265,\n 14756273,\n 14756233,\n 14756174,\n 14756069,\n 14756294,\n 14756206,\n 14756254,\n 14756288,\n 14756066,\n 14756388,\n 14756450,\n 14756491,\n 14756510,\n 14756525,\n 14756466,\n 14756500,\n 14756584,\n 14756381,\n 14756348,\n 14756568,\n 14756548,\n 14756591,\n 14756331,\n 14756491,\n 14756335,\n 14756509,\n 14756319,\n 14756402,\n 14756482,\n 14756573,\n 14756464,\n 14756594,\n 14756400,\n 14756471,\n 14756509,\n 14756427,\n 14756545,\n 14756495,\n 14756454,\n 14756501,\n 14756551,\n 14756678,\n 14756861,\n 14756859,\n 14756632,\n 14756604,\n 14756804,\n 14756815,\n 14756607,\n 14756840,\n 14756676,\n 14756632,\n 14756772,\n 14756851,\n 14756700,\n 14756704,\n 14756752,\n 14756758,\n 14756814,\n 14756815,\n 14756691,\n 14756781,\n 14756848,\n 14756758,\n 14756634,\n 14756678,\n 14756619,\n 14756658,\n 14756638,\n 14756828,\n 14756753,\n 14756690,\n 14756803,\n 14756726,\n 14756730,\n 14756825,\n 14756888,\n 14756982,\n 14756944,\n 14757058,\n 14756939,\n 14757104,\n 14756958,\n 14757005,\n 14757054,\n 14756989,\n 14756897,\n 14757104,\n 14756934,\n 14757057,\n 14756893,\n 14757043,\n 14756934,\n 14757073,\n 14756932,\n 14756902,\n 14757022,\n 14757009,\n 14756984,\n 14756891,\n 14757040,\n 14756990,\n 14756989,\n 14756922,\n 14756980,\n 14756920,\n 14756963,\n 14757086,\n 14756885,\n 14756983,\n 14757034,\n 14757073,\n 14757043,\n 14757079,\n 14756894,\n 14756934,\n 14756947,\n 14757035,\n 14756881,\n 14757110,\n 14756915,\n 14757303,\n 14757193,\n 14757130,\n 14757343,\n 14757341,\n 14757162,\n 14757340,\n ...]"
     },
     "execution_count": 11,
     "metadata": {},
     "output_type": "execute_result"
    }
   ],
   "source": [
    "blocks_to_inspect = []\n",
    "c = len(time_boxes)\n",
    "for time_box in time_boxes:\n",
    "    print(f\"left: {c}\")\n",
    "    c -= 1\n",
    "    query = f\"\"\"\n",
    "    {{\n",
    "      swapEvents(\n",
    "        where: {{\n",
    "          pool: \"{pool_addr.lower()}\"\n",
    "          timestamp_gte: {time_box[0]}\n",
    "          timestamp_lt: {time_box[1]}\n",
    "        }}\n",
    "      ) {{\n",
    "        block\n",
    "      }}\n",
    "    }}\n",
    "    \"\"\"\n",
    "    r = requests.post(api, json={'query': query})\n",
    "    queried_data = [int(i['block']) for i in dict(r.json())['data']['swapEvents']]\n",
    "    blocks_to_inspect.extend(queried_data)\n",
    "    data = list(set(blocks_to_inspect))\n",
    "\n",
    "blocks_to_inspect"
   ],
   "metadata": {
    "collapsed": false,
    "pycharm": {
     "name": "#%%\n"
    }
   }
  },
  {
   "cell_type": "markdown",
   "source": [
    "Get blocks wherever transactions happened."
   ],
   "metadata": {
    "collapsed": false,
    "pycharm": {
     "name": "#%% md\n"
    }
   }
  },
  {
   "cell_type": "code",
   "execution_count": 12,
   "outputs": [
    {
     "data": {
      "text/plain": "1726"
     },
     "execution_count": 12,
     "metadata": {},
     "output_type": "execute_result"
    }
   ],
   "source": [
    "num_blocks = len(blocks_to_inspect)\n",
    "num_blocks"
   ],
   "metadata": {
    "collapsed": false,
    "pycharm": {
     "name": "#%%\n"
    }
   }
  },
  {
   "cell_type": "markdown",
   "source": [
    "We want token reserves and spot prices at swap_blocks (but first remove duplicates!)"
   ],
   "metadata": {
    "collapsed": false,
    "pycharm": {
     "name": "#%% md\n"
    }
   }
  },
  {
   "cell_type": "code",
   "execution_count": 19,
   "outputs": [],
   "source": [
    "data = []\n",
    "done_blocks = []"
   ],
   "metadata": {
    "collapsed": false,
    "pycharm": {
     "name": "#%%\n"
    }
   }
  },
  {
   "cell_type": "code",
   "execution_count": 20,
   "outputs": [
    {
     "name": "stdout",
     "output_type": "stream",
     "text": [
      "blocks left: 1726\n",
      "blocks left: 1725\n",
      "blocks left: 1724\n",
      "blocks left: 1723\n",
      "blocks left: 1722\n",
      "blocks left: 1721\n",
      "blocks left: 1720\n",
      "blocks left: 1719\n",
      "blocks left: 1718\n",
      "blocks left: 1717\n",
      "blocks left: 1716\n",
      "blocks left: 1715\n",
      "blocks left: 1714\n",
      "blocks left: 1713\n",
      "blocks left: 1712\n",
      "blocks left: 1711\n",
      "blocks left: 1710\n",
      "blocks left: 1709\n",
      "blocks left: 1708\n",
      "blocks left: 1707\n",
      "blocks left: 1706\n",
      "blocks left: 1705\n",
      "blocks left: 1704\n",
      "blocks left: 1703\n",
      "blocks left: 1702\n",
      "blocks left: 1701\n",
      "blocks left: 1700\n",
      "blocks left: 1699\n",
      "blocks left: 1698\n",
      "blocks left: 1697\n",
      "blocks left: 1696\n",
      "blocks left: 1695\n",
      "blocks left: 1694\n",
      "blocks left: 1693\n",
      "blocks left: 1692\n",
      "blocks left: 1691\n",
      "blocks left: 1690\n",
      "blocks left: 1689\n",
      "blocks left: 1688\n",
      "blocks left: 1687\n",
      "blocks left: 1686\n",
      "blocks left: 1685\n",
      "blocks left: 1684\n",
      "blocks left: 1683\n",
      "blocks left: 1682\n",
      "blocks left: 1681\n",
      "blocks left: 1680\n",
      "blocks left: 1679\n",
      "blocks left: 1678\n",
      "blocks left: 1677\n",
      "blocks left: 1676\n"
     ]
    },
    {
     "ename": "ConnectionError",
     "evalue": "('Connection aborted.', ConnectionResetError(54, 'Connection reset by peer'))",
     "output_type": "error",
     "traceback": [
      "\u001B[0;31m---------------------------------------------------------------------------\u001B[0m",
      "\u001B[0;31mConnectionResetError\u001B[0m                      Traceback (most recent call last)",
      "\u001B[0;32m~/Projects/git/on-chain-analytics/venv/lib/python3.7/site-packages/urllib3/connectionpool.py\u001B[0m in \u001B[0;36murlopen\u001B[0;34m(self, method, url, body, headers, retries, redirect, assert_same_host, timeout, pool_timeout, release_conn, chunked, body_pos, **response_kw)\u001B[0m\n\u001B[1;32m    705\u001B[0m                 \u001B[0mheaders\u001B[0m\u001B[0;34m=\u001B[0m\u001B[0mheaders\u001B[0m\u001B[0;34m,\u001B[0m\u001B[0;34m\u001B[0m\u001B[0;34m\u001B[0m\u001B[0m\n\u001B[0;32m--> 706\u001B[0;31m                 \u001B[0mchunked\u001B[0m\u001B[0;34m=\u001B[0m\u001B[0mchunked\u001B[0m\u001B[0;34m,\u001B[0m\u001B[0;34m\u001B[0m\u001B[0;34m\u001B[0m\u001B[0m\n\u001B[0m\u001B[1;32m    707\u001B[0m             )\n",
      "\u001B[0;32m~/Projects/git/on-chain-analytics/venv/lib/python3.7/site-packages/urllib3/connectionpool.py\u001B[0m in \u001B[0;36m_make_request\u001B[0;34m(self, conn, method, url, timeout, chunked, **httplib_request_kw)\u001B[0m\n\u001B[1;32m    381\u001B[0m         \u001B[0;32mtry\u001B[0m\u001B[0;34m:\u001B[0m\u001B[0;34m\u001B[0m\u001B[0;34m\u001B[0m\u001B[0m\n\u001B[0;32m--> 382\u001B[0;31m             \u001B[0mself\u001B[0m\u001B[0;34m.\u001B[0m\u001B[0m_validate_conn\u001B[0m\u001B[0;34m(\u001B[0m\u001B[0mconn\u001B[0m\u001B[0;34m)\u001B[0m\u001B[0;34m\u001B[0m\u001B[0;34m\u001B[0m\u001B[0m\n\u001B[0m\u001B[1;32m    383\u001B[0m         \u001B[0;32mexcept\u001B[0m \u001B[0;34m(\u001B[0m\u001B[0mSocketTimeout\u001B[0m\u001B[0;34m,\u001B[0m \u001B[0mBaseSSLError\u001B[0m\u001B[0;34m)\u001B[0m \u001B[0;32mas\u001B[0m \u001B[0me\u001B[0m\u001B[0;34m:\u001B[0m\u001B[0;34m\u001B[0m\u001B[0;34m\u001B[0m\u001B[0m\n",
      "\u001B[0;32m~/Projects/git/on-chain-analytics/venv/lib/python3.7/site-packages/urllib3/connectionpool.py\u001B[0m in \u001B[0;36m_validate_conn\u001B[0;34m(self, conn)\u001B[0m\n\u001B[1;32m   1009\u001B[0m         \u001B[0;32mif\u001B[0m \u001B[0;32mnot\u001B[0m \u001B[0mgetattr\u001B[0m\u001B[0;34m(\u001B[0m\u001B[0mconn\u001B[0m\u001B[0;34m,\u001B[0m \u001B[0;34m\"sock\"\u001B[0m\u001B[0;34m,\u001B[0m \u001B[0;32mNone\u001B[0m\u001B[0;34m)\u001B[0m\u001B[0;34m:\u001B[0m  \u001B[0;31m# AppEngine might not have  `.sock`\u001B[0m\u001B[0;34m\u001B[0m\u001B[0;34m\u001B[0m\u001B[0m\n\u001B[0;32m-> 1010\u001B[0;31m             \u001B[0mconn\u001B[0m\u001B[0;34m.\u001B[0m\u001B[0mconnect\u001B[0m\u001B[0;34m(\u001B[0m\u001B[0;34m)\u001B[0m\u001B[0;34m\u001B[0m\u001B[0;34m\u001B[0m\u001B[0m\n\u001B[0m\u001B[1;32m   1011\u001B[0m \u001B[0;34m\u001B[0m\u001B[0m\n",
      "\u001B[0;32m~/Projects/git/on-chain-analytics/venv/lib/python3.7/site-packages/urllib3/connection.py\u001B[0m in \u001B[0;36mconnect\u001B[0;34m(self)\u001B[0m\n\u001B[1;32m    425\u001B[0m             \u001B[0mssl_context\u001B[0m\u001B[0;34m=\u001B[0m\u001B[0mcontext\u001B[0m\u001B[0;34m,\u001B[0m\u001B[0;34m\u001B[0m\u001B[0;34m\u001B[0m\u001B[0m\n\u001B[0;32m--> 426\u001B[0;31m             \u001B[0mtls_in_tls\u001B[0m\u001B[0;34m=\u001B[0m\u001B[0mtls_in_tls\u001B[0m\u001B[0;34m,\u001B[0m\u001B[0;34m\u001B[0m\u001B[0;34m\u001B[0m\u001B[0m\n\u001B[0m\u001B[1;32m    427\u001B[0m         )\n",
      "\u001B[0;32m~/Projects/git/on-chain-analytics/venv/lib/python3.7/site-packages/urllib3/util/ssl_.py\u001B[0m in \u001B[0;36mssl_wrap_socket\u001B[0;34m(sock, keyfile, certfile, cert_reqs, ca_certs, server_hostname, ssl_version, ciphers, ssl_context, ca_cert_dir, key_password, ca_cert_data, tls_in_tls)\u001B[0m\n\u001B[1;32m    449\u001B[0m         ssl_sock = _ssl_wrap_socket_impl(\n\u001B[0;32m--> 450\u001B[0;31m             \u001B[0msock\u001B[0m\u001B[0;34m,\u001B[0m \u001B[0mcontext\u001B[0m\u001B[0;34m,\u001B[0m \u001B[0mtls_in_tls\u001B[0m\u001B[0;34m,\u001B[0m \u001B[0mserver_hostname\u001B[0m\u001B[0;34m=\u001B[0m\u001B[0mserver_hostname\u001B[0m\u001B[0;34m\u001B[0m\u001B[0;34m\u001B[0m\u001B[0m\n\u001B[0m\u001B[1;32m    451\u001B[0m         )\n",
      "\u001B[0;32m~/Projects/git/on-chain-analytics/venv/lib/python3.7/site-packages/urllib3/util/ssl_.py\u001B[0m in \u001B[0;36m_ssl_wrap_socket_impl\u001B[0;34m(sock, ssl_context, tls_in_tls, server_hostname)\u001B[0m\n\u001B[1;32m    492\u001B[0m     \u001B[0;32mif\u001B[0m \u001B[0mserver_hostname\u001B[0m\u001B[0;34m:\u001B[0m\u001B[0;34m\u001B[0m\u001B[0;34m\u001B[0m\u001B[0m\n\u001B[0;32m--> 493\u001B[0;31m         \u001B[0;32mreturn\u001B[0m \u001B[0mssl_context\u001B[0m\u001B[0;34m.\u001B[0m\u001B[0mwrap_socket\u001B[0m\u001B[0;34m(\u001B[0m\u001B[0msock\u001B[0m\u001B[0;34m,\u001B[0m \u001B[0mserver_hostname\u001B[0m\u001B[0;34m=\u001B[0m\u001B[0mserver_hostname\u001B[0m\u001B[0;34m)\u001B[0m\u001B[0;34m\u001B[0m\u001B[0;34m\u001B[0m\u001B[0m\n\u001B[0m\u001B[1;32m    494\u001B[0m     \u001B[0;32melse\u001B[0m\u001B[0;34m:\u001B[0m\u001B[0;34m\u001B[0m\u001B[0;34m\u001B[0m\u001B[0m\n",
      "\u001B[0;32m/usr/local/Cellar/python@3.7/3.7.10_2/Frameworks/Python.framework/Versions/3.7/lib/python3.7/ssl.py\u001B[0m in \u001B[0;36mwrap_socket\u001B[0;34m(self, sock, server_side, do_handshake_on_connect, suppress_ragged_eofs, server_hostname, session)\u001B[0m\n\u001B[1;32m    422\u001B[0m             \u001B[0mcontext\u001B[0m\u001B[0;34m=\u001B[0m\u001B[0mself\u001B[0m\u001B[0;34m,\u001B[0m\u001B[0;34m\u001B[0m\u001B[0;34m\u001B[0m\u001B[0m\n\u001B[0;32m--> 423\u001B[0;31m             \u001B[0msession\u001B[0m\u001B[0;34m=\u001B[0m\u001B[0msession\u001B[0m\u001B[0;34m\u001B[0m\u001B[0;34m\u001B[0m\u001B[0m\n\u001B[0m\u001B[1;32m    424\u001B[0m         )\n",
      "\u001B[0;32m/usr/local/Cellar/python@3.7/3.7.10_2/Frameworks/Python.framework/Versions/3.7/lib/python3.7/ssl.py\u001B[0m in \u001B[0;36m_create\u001B[0;34m(cls, sock, server_side, do_handshake_on_connect, suppress_ragged_eofs, server_hostname, context, session)\u001B[0m\n\u001B[1;32m    869\u001B[0m                         \u001B[0;32mraise\u001B[0m \u001B[0mValueError\u001B[0m\u001B[0;34m(\u001B[0m\u001B[0;34m\"do_handshake_on_connect should not be specified for non-blocking sockets\"\u001B[0m\u001B[0;34m)\u001B[0m\u001B[0;34m\u001B[0m\u001B[0;34m\u001B[0m\u001B[0m\n\u001B[0;32m--> 870\u001B[0;31m                     \u001B[0mself\u001B[0m\u001B[0;34m.\u001B[0m\u001B[0mdo_handshake\u001B[0m\u001B[0;34m(\u001B[0m\u001B[0;34m)\u001B[0m\u001B[0;34m\u001B[0m\u001B[0;34m\u001B[0m\u001B[0m\n\u001B[0m\u001B[1;32m    871\u001B[0m             \u001B[0;32mexcept\u001B[0m \u001B[0;34m(\u001B[0m\u001B[0mOSError\u001B[0m\u001B[0;34m,\u001B[0m \u001B[0mValueError\u001B[0m\u001B[0;34m)\u001B[0m\u001B[0;34m:\u001B[0m\u001B[0;34m\u001B[0m\u001B[0;34m\u001B[0m\u001B[0m\n",
      "\u001B[0;32m/usr/local/Cellar/python@3.7/3.7.10_2/Frameworks/Python.framework/Versions/3.7/lib/python3.7/ssl.py\u001B[0m in \u001B[0;36mdo_handshake\u001B[0;34m(self, block)\u001B[0m\n\u001B[1;32m   1138\u001B[0m                 \u001B[0mself\u001B[0m\u001B[0;34m.\u001B[0m\u001B[0msettimeout\u001B[0m\u001B[0;34m(\u001B[0m\u001B[0;32mNone\u001B[0m\u001B[0;34m)\u001B[0m\u001B[0;34m\u001B[0m\u001B[0;34m\u001B[0m\u001B[0m\n\u001B[0;32m-> 1139\u001B[0;31m             \u001B[0mself\u001B[0m\u001B[0;34m.\u001B[0m\u001B[0m_sslobj\u001B[0m\u001B[0;34m.\u001B[0m\u001B[0mdo_handshake\u001B[0m\u001B[0;34m(\u001B[0m\u001B[0;34m)\u001B[0m\u001B[0;34m\u001B[0m\u001B[0;34m\u001B[0m\u001B[0m\n\u001B[0m\u001B[1;32m   1140\u001B[0m         \u001B[0;32mfinally\u001B[0m\u001B[0;34m:\u001B[0m\u001B[0;34m\u001B[0m\u001B[0;34m\u001B[0m\u001B[0m\n",
      "\u001B[0;31mConnectionResetError\u001B[0m: [Errno 54] Connection reset by peer",
      "\nDuring handling of the above exception, another exception occurred:\n",
      "\u001B[0;31mProtocolError\u001B[0m                             Traceback (most recent call last)",
      "\u001B[0;32m~/Projects/git/on-chain-analytics/venv/lib/python3.7/site-packages/requests/adapters.py\u001B[0m in \u001B[0;36msend\u001B[0;34m(self, request, stream, timeout, verify, cert, proxies)\u001B[0m\n\u001B[1;32m    448\u001B[0m                     \u001B[0mretries\u001B[0m\u001B[0;34m=\u001B[0m\u001B[0mself\u001B[0m\u001B[0;34m.\u001B[0m\u001B[0mmax_retries\u001B[0m\u001B[0;34m,\u001B[0m\u001B[0;34m\u001B[0m\u001B[0;34m\u001B[0m\u001B[0m\n\u001B[0;32m--> 449\u001B[0;31m                     \u001B[0mtimeout\u001B[0m\u001B[0;34m=\u001B[0m\u001B[0mtimeout\u001B[0m\u001B[0;34m\u001B[0m\u001B[0;34m\u001B[0m\u001B[0m\n\u001B[0m\u001B[1;32m    450\u001B[0m                 )\n",
      "\u001B[0;32m~/Projects/git/on-chain-analytics/venv/lib/python3.7/site-packages/urllib3/connectionpool.py\u001B[0m in \u001B[0;36murlopen\u001B[0;34m(self, method, url, body, headers, retries, redirect, assert_same_host, timeout, pool_timeout, release_conn, chunked, body_pos, **response_kw)\u001B[0m\n\u001B[1;32m    755\u001B[0m             retries = retries.increment(\n\u001B[0;32m--> 756\u001B[0;31m                 \u001B[0mmethod\u001B[0m\u001B[0;34m,\u001B[0m \u001B[0murl\u001B[0m\u001B[0;34m,\u001B[0m \u001B[0merror\u001B[0m\u001B[0;34m=\u001B[0m\u001B[0me\u001B[0m\u001B[0;34m,\u001B[0m \u001B[0m_pool\u001B[0m\u001B[0;34m=\u001B[0m\u001B[0mself\u001B[0m\u001B[0;34m,\u001B[0m \u001B[0m_stacktrace\u001B[0m\u001B[0;34m=\u001B[0m\u001B[0msys\u001B[0m\u001B[0;34m.\u001B[0m\u001B[0mexc_info\u001B[0m\u001B[0;34m(\u001B[0m\u001B[0;34m)\u001B[0m\u001B[0;34m[\u001B[0m\u001B[0;36m2\u001B[0m\u001B[0;34m]\u001B[0m\u001B[0;34m\u001B[0m\u001B[0;34m\u001B[0m\u001B[0m\n\u001B[0m\u001B[1;32m    757\u001B[0m             )\n",
      "\u001B[0;32m~/Projects/git/on-chain-analytics/venv/lib/python3.7/site-packages/urllib3/util/retry.py\u001B[0m in \u001B[0;36mincrement\u001B[0;34m(self, method, url, response, error, _pool, _stacktrace)\u001B[0m\n\u001B[1;32m    531\u001B[0m             \u001B[0;32mif\u001B[0m \u001B[0mread\u001B[0m \u001B[0;32mis\u001B[0m \u001B[0;32mFalse\u001B[0m \u001B[0;32mor\u001B[0m \u001B[0;32mnot\u001B[0m \u001B[0mself\u001B[0m\u001B[0;34m.\u001B[0m\u001B[0m_is_method_retryable\u001B[0m\u001B[0;34m(\u001B[0m\u001B[0mmethod\u001B[0m\u001B[0;34m)\u001B[0m\u001B[0;34m:\u001B[0m\u001B[0;34m\u001B[0m\u001B[0;34m\u001B[0m\u001B[0m\n\u001B[0;32m--> 532\u001B[0;31m                 \u001B[0;32mraise\u001B[0m \u001B[0msix\u001B[0m\u001B[0;34m.\u001B[0m\u001B[0mreraise\u001B[0m\u001B[0;34m(\u001B[0m\u001B[0mtype\u001B[0m\u001B[0;34m(\u001B[0m\u001B[0merror\u001B[0m\u001B[0;34m)\u001B[0m\u001B[0;34m,\u001B[0m \u001B[0merror\u001B[0m\u001B[0;34m,\u001B[0m \u001B[0m_stacktrace\u001B[0m\u001B[0;34m)\u001B[0m\u001B[0;34m\u001B[0m\u001B[0;34m\u001B[0m\u001B[0m\n\u001B[0m\u001B[1;32m    533\u001B[0m             \u001B[0;32melif\u001B[0m \u001B[0mread\u001B[0m \u001B[0;32mis\u001B[0m \u001B[0;32mnot\u001B[0m \u001B[0;32mNone\u001B[0m\u001B[0;34m:\u001B[0m\u001B[0;34m\u001B[0m\u001B[0;34m\u001B[0m\u001B[0m\n",
      "\u001B[0;32m~/Projects/git/on-chain-analytics/venv/lib/python3.7/site-packages/urllib3/packages/six.py\u001B[0m in \u001B[0;36mreraise\u001B[0;34m(tp, value, tb)\u001B[0m\n\u001B[1;32m    768\u001B[0m             \u001B[0;32mif\u001B[0m \u001B[0mvalue\u001B[0m\u001B[0;34m.\u001B[0m\u001B[0m__traceback__\u001B[0m \u001B[0;32mis\u001B[0m \u001B[0;32mnot\u001B[0m \u001B[0mtb\u001B[0m\u001B[0;34m:\u001B[0m\u001B[0;34m\u001B[0m\u001B[0;34m\u001B[0m\u001B[0m\n\u001B[0;32m--> 769\u001B[0;31m                 \u001B[0;32mraise\u001B[0m \u001B[0mvalue\u001B[0m\u001B[0;34m.\u001B[0m\u001B[0mwith_traceback\u001B[0m\u001B[0;34m(\u001B[0m\u001B[0mtb\u001B[0m\u001B[0;34m)\u001B[0m\u001B[0;34m\u001B[0m\u001B[0;34m\u001B[0m\u001B[0m\n\u001B[0m\u001B[1;32m    770\u001B[0m             \u001B[0;32mraise\u001B[0m \u001B[0mvalue\u001B[0m\u001B[0;34m\u001B[0m\u001B[0;34m\u001B[0m\u001B[0m\n",
      "\u001B[0;32m~/Projects/git/on-chain-analytics/venv/lib/python3.7/site-packages/urllib3/connectionpool.py\u001B[0m in \u001B[0;36murlopen\u001B[0;34m(self, method, url, body, headers, retries, redirect, assert_same_host, timeout, pool_timeout, release_conn, chunked, body_pos, **response_kw)\u001B[0m\n\u001B[1;32m    705\u001B[0m                 \u001B[0mheaders\u001B[0m\u001B[0;34m=\u001B[0m\u001B[0mheaders\u001B[0m\u001B[0;34m,\u001B[0m\u001B[0;34m\u001B[0m\u001B[0;34m\u001B[0m\u001B[0m\n\u001B[0;32m--> 706\u001B[0;31m                 \u001B[0mchunked\u001B[0m\u001B[0;34m=\u001B[0m\u001B[0mchunked\u001B[0m\u001B[0;34m,\u001B[0m\u001B[0;34m\u001B[0m\u001B[0;34m\u001B[0m\u001B[0m\n\u001B[0m\u001B[1;32m    707\u001B[0m             )\n",
      "\u001B[0;32m~/Projects/git/on-chain-analytics/venv/lib/python3.7/site-packages/urllib3/connectionpool.py\u001B[0m in \u001B[0;36m_make_request\u001B[0;34m(self, conn, method, url, timeout, chunked, **httplib_request_kw)\u001B[0m\n\u001B[1;32m    381\u001B[0m         \u001B[0;32mtry\u001B[0m\u001B[0;34m:\u001B[0m\u001B[0;34m\u001B[0m\u001B[0;34m\u001B[0m\u001B[0m\n\u001B[0;32m--> 382\u001B[0;31m             \u001B[0mself\u001B[0m\u001B[0;34m.\u001B[0m\u001B[0m_validate_conn\u001B[0m\u001B[0;34m(\u001B[0m\u001B[0mconn\u001B[0m\u001B[0;34m)\u001B[0m\u001B[0;34m\u001B[0m\u001B[0;34m\u001B[0m\u001B[0m\n\u001B[0m\u001B[1;32m    383\u001B[0m         \u001B[0;32mexcept\u001B[0m \u001B[0;34m(\u001B[0m\u001B[0mSocketTimeout\u001B[0m\u001B[0;34m,\u001B[0m \u001B[0mBaseSSLError\u001B[0m\u001B[0;34m)\u001B[0m \u001B[0;32mas\u001B[0m \u001B[0me\u001B[0m\u001B[0;34m:\u001B[0m\u001B[0;34m\u001B[0m\u001B[0;34m\u001B[0m\u001B[0m\n",
      "\u001B[0;32m~/Projects/git/on-chain-analytics/venv/lib/python3.7/site-packages/urllib3/connectionpool.py\u001B[0m in \u001B[0;36m_validate_conn\u001B[0;34m(self, conn)\u001B[0m\n\u001B[1;32m   1009\u001B[0m         \u001B[0;32mif\u001B[0m \u001B[0;32mnot\u001B[0m \u001B[0mgetattr\u001B[0m\u001B[0;34m(\u001B[0m\u001B[0mconn\u001B[0m\u001B[0;34m,\u001B[0m \u001B[0;34m\"sock\"\u001B[0m\u001B[0;34m,\u001B[0m \u001B[0;32mNone\u001B[0m\u001B[0;34m)\u001B[0m\u001B[0;34m:\u001B[0m  \u001B[0;31m# AppEngine might not have  `.sock`\u001B[0m\u001B[0;34m\u001B[0m\u001B[0;34m\u001B[0m\u001B[0m\n\u001B[0;32m-> 1010\u001B[0;31m             \u001B[0mconn\u001B[0m\u001B[0;34m.\u001B[0m\u001B[0mconnect\u001B[0m\u001B[0;34m(\u001B[0m\u001B[0;34m)\u001B[0m\u001B[0;34m\u001B[0m\u001B[0;34m\u001B[0m\u001B[0m\n\u001B[0m\u001B[1;32m   1011\u001B[0m \u001B[0;34m\u001B[0m\u001B[0m\n",
      "\u001B[0;32m~/Projects/git/on-chain-analytics/venv/lib/python3.7/site-packages/urllib3/connection.py\u001B[0m in \u001B[0;36mconnect\u001B[0;34m(self)\u001B[0m\n\u001B[1;32m    425\u001B[0m             \u001B[0mssl_context\u001B[0m\u001B[0;34m=\u001B[0m\u001B[0mcontext\u001B[0m\u001B[0;34m,\u001B[0m\u001B[0;34m\u001B[0m\u001B[0;34m\u001B[0m\u001B[0m\n\u001B[0;32m--> 426\u001B[0;31m             \u001B[0mtls_in_tls\u001B[0m\u001B[0;34m=\u001B[0m\u001B[0mtls_in_tls\u001B[0m\u001B[0;34m,\u001B[0m\u001B[0;34m\u001B[0m\u001B[0;34m\u001B[0m\u001B[0m\n\u001B[0m\u001B[1;32m    427\u001B[0m         )\n",
      "\u001B[0;32m~/Projects/git/on-chain-analytics/venv/lib/python3.7/site-packages/urllib3/util/ssl_.py\u001B[0m in \u001B[0;36mssl_wrap_socket\u001B[0;34m(sock, keyfile, certfile, cert_reqs, ca_certs, server_hostname, ssl_version, ciphers, ssl_context, ca_cert_dir, key_password, ca_cert_data, tls_in_tls)\u001B[0m\n\u001B[1;32m    449\u001B[0m         ssl_sock = _ssl_wrap_socket_impl(\n\u001B[0;32m--> 450\u001B[0;31m             \u001B[0msock\u001B[0m\u001B[0;34m,\u001B[0m \u001B[0mcontext\u001B[0m\u001B[0;34m,\u001B[0m \u001B[0mtls_in_tls\u001B[0m\u001B[0;34m,\u001B[0m \u001B[0mserver_hostname\u001B[0m\u001B[0;34m=\u001B[0m\u001B[0mserver_hostname\u001B[0m\u001B[0;34m\u001B[0m\u001B[0;34m\u001B[0m\u001B[0m\n\u001B[0m\u001B[1;32m    451\u001B[0m         )\n",
      "\u001B[0;32m~/Projects/git/on-chain-analytics/venv/lib/python3.7/site-packages/urllib3/util/ssl_.py\u001B[0m in \u001B[0;36m_ssl_wrap_socket_impl\u001B[0;34m(sock, ssl_context, tls_in_tls, server_hostname)\u001B[0m\n\u001B[1;32m    492\u001B[0m     \u001B[0;32mif\u001B[0m \u001B[0mserver_hostname\u001B[0m\u001B[0;34m:\u001B[0m\u001B[0;34m\u001B[0m\u001B[0;34m\u001B[0m\u001B[0m\n\u001B[0;32m--> 493\u001B[0;31m         \u001B[0;32mreturn\u001B[0m \u001B[0mssl_context\u001B[0m\u001B[0;34m.\u001B[0m\u001B[0mwrap_socket\u001B[0m\u001B[0;34m(\u001B[0m\u001B[0msock\u001B[0m\u001B[0;34m,\u001B[0m \u001B[0mserver_hostname\u001B[0m\u001B[0;34m=\u001B[0m\u001B[0mserver_hostname\u001B[0m\u001B[0;34m)\u001B[0m\u001B[0;34m\u001B[0m\u001B[0;34m\u001B[0m\u001B[0m\n\u001B[0m\u001B[1;32m    494\u001B[0m     \u001B[0;32melse\u001B[0m\u001B[0;34m:\u001B[0m\u001B[0;34m\u001B[0m\u001B[0;34m\u001B[0m\u001B[0m\n",
      "\u001B[0;32m/usr/local/Cellar/python@3.7/3.7.10_2/Frameworks/Python.framework/Versions/3.7/lib/python3.7/ssl.py\u001B[0m in \u001B[0;36mwrap_socket\u001B[0;34m(self, sock, server_side, do_handshake_on_connect, suppress_ragged_eofs, server_hostname, session)\u001B[0m\n\u001B[1;32m    422\u001B[0m             \u001B[0mcontext\u001B[0m\u001B[0;34m=\u001B[0m\u001B[0mself\u001B[0m\u001B[0;34m,\u001B[0m\u001B[0;34m\u001B[0m\u001B[0;34m\u001B[0m\u001B[0m\n\u001B[0;32m--> 423\u001B[0;31m             \u001B[0msession\u001B[0m\u001B[0;34m=\u001B[0m\u001B[0msession\u001B[0m\u001B[0;34m\u001B[0m\u001B[0;34m\u001B[0m\u001B[0m\n\u001B[0m\u001B[1;32m    424\u001B[0m         )\n",
      "\u001B[0;32m/usr/local/Cellar/python@3.7/3.7.10_2/Frameworks/Python.framework/Versions/3.7/lib/python3.7/ssl.py\u001B[0m in \u001B[0;36m_create\u001B[0;34m(cls, sock, server_side, do_handshake_on_connect, suppress_ragged_eofs, server_hostname, context, session)\u001B[0m\n\u001B[1;32m    869\u001B[0m                         \u001B[0;32mraise\u001B[0m \u001B[0mValueError\u001B[0m\u001B[0;34m(\u001B[0m\u001B[0;34m\"do_handshake_on_connect should not be specified for non-blocking sockets\"\u001B[0m\u001B[0;34m)\u001B[0m\u001B[0;34m\u001B[0m\u001B[0;34m\u001B[0m\u001B[0m\n\u001B[0;32m--> 870\u001B[0;31m                     \u001B[0mself\u001B[0m\u001B[0;34m.\u001B[0m\u001B[0mdo_handshake\u001B[0m\u001B[0;34m(\u001B[0m\u001B[0;34m)\u001B[0m\u001B[0;34m\u001B[0m\u001B[0;34m\u001B[0m\u001B[0m\n\u001B[0m\u001B[1;32m    871\u001B[0m             \u001B[0;32mexcept\u001B[0m \u001B[0;34m(\u001B[0m\u001B[0mOSError\u001B[0m\u001B[0;34m,\u001B[0m \u001B[0mValueError\u001B[0m\u001B[0;34m)\u001B[0m\u001B[0;34m:\u001B[0m\u001B[0;34m\u001B[0m\u001B[0;34m\u001B[0m\u001B[0m\n",
      "\u001B[0;32m/usr/local/Cellar/python@3.7/3.7.10_2/Frameworks/Python.framework/Versions/3.7/lib/python3.7/ssl.py\u001B[0m in \u001B[0;36mdo_handshake\u001B[0;34m(self, block)\u001B[0m\n\u001B[1;32m   1138\u001B[0m                 \u001B[0mself\u001B[0m\u001B[0;34m.\u001B[0m\u001B[0msettimeout\u001B[0m\u001B[0;34m(\u001B[0m\u001B[0;32mNone\u001B[0m\u001B[0;34m)\u001B[0m\u001B[0;34m\u001B[0m\u001B[0;34m\u001B[0m\u001B[0m\n\u001B[0;32m-> 1139\u001B[0;31m             \u001B[0mself\u001B[0m\u001B[0;34m.\u001B[0m\u001B[0m_sslobj\u001B[0m\u001B[0;34m.\u001B[0m\u001B[0mdo_handshake\u001B[0m\u001B[0;34m(\u001B[0m\u001B[0;34m)\u001B[0m\u001B[0;34m\u001B[0m\u001B[0;34m\u001B[0m\u001B[0m\n\u001B[0m\u001B[1;32m   1140\u001B[0m         \u001B[0;32mfinally\u001B[0m\u001B[0;34m:\u001B[0m\u001B[0;34m\u001B[0m\u001B[0;34m\u001B[0m\u001B[0m\n",
      "\u001B[0;31mProtocolError\u001B[0m: ('Connection aborted.', ConnectionResetError(54, 'Connection reset by peer'))",
      "\nDuring handling of the above exception, another exception occurred:\n",
      "\u001B[0;31mConnectionError\u001B[0m                           Traceback (most recent call last)",
      "\u001B[0;32m/var/folders/w7/3c51j_5j2gq4n13mljt4rrb80000gn/T/ipykernel_12489/2875457150.py\u001B[0m in \u001B[0;36m<module>\u001B[0;34m\u001B[0m\n\u001B[1;32m      8\u001B[0m     \u001B[0mprint\u001B[0m\u001B[0;34m(\u001B[0m\u001B[0;34mf\"blocks left: {num_blocks - len(done_blocks)}\"\u001B[0m\u001B[0;34m)\u001B[0m\u001B[0;34m\u001B[0m\u001B[0;34m\u001B[0m\u001B[0m\n\u001B[1;32m      9\u001B[0m \u001B[0;34m\u001B[0m\u001B[0m\n\u001B[0;32m---> 10\u001B[0;31m     \u001B[0mblock_timestamp\u001B[0m \u001B[0;34m=\u001B[0m \u001B[0mpd\u001B[0m\u001B[0;34m.\u001B[0m\u001B[0mTimestamp\u001B[0m\u001B[0;34m.\u001B[0m\u001B[0mfromtimestamp\u001B[0m\u001B[0;34m(\u001B[0m\u001B[0mget_timestamp_for_block\u001B[0m\u001B[0;34m(\u001B[0m\u001B[0mblock\u001B[0m\u001B[0;34m)\u001B[0m\u001B[0;34m)\u001B[0m\u001B[0;34m\u001B[0m\u001B[0;34m\u001B[0m\u001B[0m\n\u001B[0m\u001B[1;32m     11\u001B[0m \u001B[0;34m\u001B[0m\u001B[0m\n\u001B[1;32m     12\u001B[0m     \u001B[0;31m# spot prices - outputs are in 3crv so 18 decimals are divided\u001B[0m\u001B[0;34m\u001B[0m\u001B[0;34m\u001B[0m\u001B[0;34m\u001B[0m\u001B[0m\n",
      "\u001B[0;32m~/Projects/git/on-chain-analytics/utils/eth_blocks_utils.py\u001B[0m in \u001B[0;36mget_timestamp_for_block\u001B[0;34m(block)\u001B[0m\n\u001B[1;32m     57\u001B[0m     )\n\u001B[1;32m     58\u001B[0m \u001B[0;34m\u001B[0m\u001B[0m\n\u001B[0;32m---> 59\u001B[0;31m     \u001B[0mr\u001B[0m \u001B[0;34m=\u001B[0m \u001B[0mrequests\u001B[0m\u001B[0;34m.\u001B[0m\u001B[0mpost\u001B[0m\u001B[0;34m(\u001B[0m\u001B[0mETH_BLOCKS_SUBGRAPH\u001B[0m\u001B[0;34m,\u001B[0m \u001B[0mjson\u001B[0m\u001B[0;34m=\u001B[0m\u001B[0;34m{\u001B[0m\u001B[0;34m'query'\u001B[0m\u001B[0;34m:\u001B[0m \u001B[0mquery\u001B[0m\u001B[0;34m}\u001B[0m\u001B[0;34m)\u001B[0m\u001B[0;34m\u001B[0m\u001B[0;34m\u001B[0m\u001B[0m\n\u001B[0m\u001B[1;32m     60\u001B[0m     \u001B[0mpayload\u001B[0m \u001B[0;34m=\u001B[0m \u001B[0mdict\u001B[0m\u001B[0;34m(\u001B[0m\u001B[0mr\u001B[0m\u001B[0;34m.\u001B[0m\u001B[0mjson\u001B[0m\u001B[0;34m(\u001B[0m\u001B[0;34m)\u001B[0m\u001B[0;34m)\u001B[0m\u001B[0;34m\u001B[0m\u001B[0;34m\u001B[0m\u001B[0m\n\u001B[1;32m     61\u001B[0m \u001B[0;34m\u001B[0m\u001B[0m\n",
      "\u001B[0;32m~/Projects/git/on-chain-analytics/venv/lib/python3.7/site-packages/requests/api.py\u001B[0m in \u001B[0;36mpost\u001B[0;34m(url, data, json, **kwargs)\u001B[0m\n\u001B[1;32m    115\u001B[0m     \"\"\"\n\u001B[1;32m    116\u001B[0m \u001B[0;34m\u001B[0m\u001B[0m\n\u001B[0;32m--> 117\u001B[0;31m     \u001B[0;32mreturn\u001B[0m \u001B[0mrequest\u001B[0m\u001B[0;34m(\u001B[0m\u001B[0;34m'post'\u001B[0m\u001B[0;34m,\u001B[0m \u001B[0murl\u001B[0m\u001B[0;34m,\u001B[0m \u001B[0mdata\u001B[0m\u001B[0;34m=\u001B[0m\u001B[0mdata\u001B[0m\u001B[0;34m,\u001B[0m \u001B[0mjson\u001B[0m\u001B[0;34m=\u001B[0m\u001B[0mjson\u001B[0m\u001B[0;34m,\u001B[0m \u001B[0;34m**\u001B[0m\u001B[0mkwargs\u001B[0m\u001B[0;34m)\u001B[0m\u001B[0;34m\u001B[0m\u001B[0;34m\u001B[0m\u001B[0m\n\u001B[0m\u001B[1;32m    118\u001B[0m \u001B[0;34m\u001B[0m\u001B[0m\n\u001B[1;32m    119\u001B[0m \u001B[0;34m\u001B[0m\u001B[0m\n",
      "\u001B[0;32m~/Projects/git/on-chain-analytics/venv/lib/python3.7/site-packages/requests/api.py\u001B[0m in \u001B[0;36mrequest\u001B[0;34m(method, url, **kwargs)\u001B[0m\n\u001B[1;32m     59\u001B[0m     \u001B[0;31m# cases, and look like a memory leak in others.\u001B[0m\u001B[0;34m\u001B[0m\u001B[0;34m\u001B[0m\u001B[0;34m\u001B[0m\u001B[0m\n\u001B[1;32m     60\u001B[0m     \u001B[0;32mwith\u001B[0m \u001B[0msessions\u001B[0m\u001B[0;34m.\u001B[0m\u001B[0mSession\u001B[0m\u001B[0;34m(\u001B[0m\u001B[0;34m)\u001B[0m \u001B[0;32mas\u001B[0m \u001B[0msession\u001B[0m\u001B[0;34m:\u001B[0m\u001B[0;34m\u001B[0m\u001B[0;34m\u001B[0m\u001B[0m\n\u001B[0;32m---> 61\u001B[0;31m         \u001B[0;32mreturn\u001B[0m \u001B[0msession\u001B[0m\u001B[0;34m.\u001B[0m\u001B[0mrequest\u001B[0m\u001B[0;34m(\u001B[0m\u001B[0mmethod\u001B[0m\u001B[0;34m=\u001B[0m\u001B[0mmethod\u001B[0m\u001B[0;34m,\u001B[0m \u001B[0murl\u001B[0m\u001B[0;34m=\u001B[0m\u001B[0murl\u001B[0m\u001B[0;34m,\u001B[0m \u001B[0;34m**\u001B[0m\u001B[0mkwargs\u001B[0m\u001B[0;34m)\u001B[0m\u001B[0;34m\u001B[0m\u001B[0;34m\u001B[0m\u001B[0m\n\u001B[0m\u001B[1;32m     62\u001B[0m \u001B[0;34m\u001B[0m\u001B[0m\n\u001B[1;32m     63\u001B[0m \u001B[0;34m\u001B[0m\u001B[0m\n",
      "\u001B[0;32m~/Projects/git/on-chain-analytics/venv/lib/python3.7/site-packages/requests/sessions.py\u001B[0m in \u001B[0;36mrequest\u001B[0;34m(self, method, url, params, data, headers, cookies, files, auth, timeout, allow_redirects, proxies, hooks, stream, verify, cert, json)\u001B[0m\n\u001B[1;32m    540\u001B[0m         }\n\u001B[1;32m    541\u001B[0m         \u001B[0msend_kwargs\u001B[0m\u001B[0;34m.\u001B[0m\u001B[0mupdate\u001B[0m\u001B[0;34m(\u001B[0m\u001B[0msettings\u001B[0m\u001B[0;34m)\u001B[0m\u001B[0;34m\u001B[0m\u001B[0;34m\u001B[0m\u001B[0m\n\u001B[0;32m--> 542\u001B[0;31m         \u001B[0mresp\u001B[0m \u001B[0;34m=\u001B[0m \u001B[0mself\u001B[0m\u001B[0;34m.\u001B[0m\u001B[0msend\u001B[0m\u001B[0;34m(\u001B[0m\u001B[0mprep\u001B[0m\u001B[0;34m,\u001B[0m \u001B[0;34m**\u001B[0m\u001B[0msend_kwargs\u001B[0m\u001B[0;34m)\u001B[0m\u001B[0;34m\u001B[0m\u001B[0;34m\u001B[0m\u001B[0m\n\u001B[0m\u001B[1;32m    543\u001B[0m \u001B[0;34m\u001B[0m\u001B[0m\n\u001B[1;32m    544\u001B[0m         \u001B[0;32mreturn\u001B[0m \u001B[0mresp\u001B[0m\u001B[0;34m\u001B[0m\u001B[0;34m\u001B[0m\u001B[0m\n",
      "\u001B[0;32m~/Projects/git/on-chain-analytics/venv/lib/python3.7/site-packages/requests/sessions.py\u001B[0m in \u001B[0;36msend\u001B[0;34m(self, request, **kwargs)\u001B[0m\n\u001B[1;32m    653\u001B[0m \u001B[0;34m\u001B[0m\u001B[0m\n\u001B[1;32m    654\u001B[0m         \u001B[0;31m# Send the request\u001B[0m\u001B[0;34m\u001B[0m\u001B[0;34m\u001B[0m\u001B[0;34m\u001B[0m\u001B[0m\n\u001B[0;32m--> 655\u001B[0;31m         \u001B[0mr\u001B[0m \u001B[0;34m=\u001B[0m \u001B[0madapter\u001B[0m\u001B[0;34m.\u001B[0m\u001B[0msend\u001B[0m\u001B[0;34m(\u001B[0m\u001B[0mrequest\u001B[0m\u001B[0;34m,\u001B[0m \u001B[0;34m**\u001B[0m\u001B[0mkwargs\u001B[0m\u001B[0;34m)\u001B[0m\u001B[0;34m\u001B[0m\u001B[0;34m\u001B[0m\u001B[0m\n\u001B[0m\u001B[1;32m    656\u001B[0m \u001B[0;34m\u001B[0m\u001B[0m\n\u001B[1;32m    657\u001B[0m         \u001B[0;31m# Total elapsed time of the request (approximately)\u001B[0m\u001B[0;34m\u001B[0m\u001B[0;34m\u001B[0m\u001B[0;34m\u001B[0m\u001B[0m\n",
      "\u001B[0;32m~/Projects/git/on-chain-analytics/venv/lib/python3.7/site-packages/requests/adapters.py\u001B[0m in \u001B[0;36msend\u001B[0;34m(self, request, stream, timeout, verify, cert, proxies)\u001B[0m\n\u001B[1;32m    496\u001B[0m \u001B[0;34m\u001B[0m\u001B[0m\n\u001B[1;32m    497\u001B[0m         \u001B[0;32mexcept\u001B[0m \u001B[0;34m(\u001B[0m\u001B[0mProtocolError\u001B[0m\u001B[0;34m,\u001B[0m \u001B[0msocket\u001B[0m\u001B[0;34m.\u001B[0m\u001B[0merror\u001B[0m\u001B[0;34m)\u001B[0m \u001B[0;32mas\u001B[0m \u001B[0merr\u001B[0m\u001B[0;34m:\u001B[0m\u001B[0;34m\u001B[0m\u001B[0;34m\u001B[0m\u001B[0m\n\u001B[0;32m--> 498\u001B[0;31m             \u001B[0;32mraise\u001B[0m \u001B[0mConnectionError\u001B[0m\u001B[0;34m(\u001B[0m\u001B[0merr\u001B[0m\u001B[0;34m,\u001B[0m \u001B[0mrequest\u001B[0m\u001B[0;34m=\u001B[0m\u001B[0mrequest\u001B[0m\u001B[0;34m)\u001B[0m\u001B[0;34m\u001B[0m\u001B[0;34m\u001B[0m\u001B[0m\n\u001B[0m\u001B[1;32m    499\u001B[0m \u001B[0;34m\u001B[0m\u001B[0m\n\u001B[1;32m    500\u001B[0m         \u001B[0;32mexcept\u001B[0m \u001B[0mMaxRetryError\u001B[0m \u001B[0;32mas\u001B[0m \u001B[0me\u001B[0m\u001B[0;34m:\u001B[0m\u001B[0;34m\u001B[0m\u001B[0;34m\u001B[0m\u001B[0m\n",
      "\u001B[0;31mConnectionError\u001B[0m: ('Connection aborted.', ConnectionResetError(54, 'Connection reset by peer'))"
     ]
    }
   ],
   "source": [
    "dec_18 = 1000000000000000000\n",
    "dec_6 = 1000000\n",
    "for block in blocks_to_inspect:\n",
    "\n",
    "    if block in done_blocks:\n",
    "        continue\n",
    "\n",
    "    print(f\"blocks left: {num_blocks - len(done_blocks)}\")\n",
    "\n",
    "    block_timestamp = pd.Timestamp.fromtimestamp(get_timestamp_for_block(block))\n",
    "\n",
    "    # spot prices - outputs are in 3crv so 18 decimals are divided\n",
    "    usdt_dai_spot_price = tripool.functions.get_dy(2, 0, dec_6).call(block_identifier=block) * 1e-18\n",
    "    usdt_usdc_spot_price = tripool.functions.get_dy(2, 1, dec_6).call(block_identifier=block) * 1e-6\n",
    "\n",
    "    # reserves\n",
    "    dai_reserve = tripool.functions.balances(0).call(block_identifier=block) * 1e-18\n",
    "    usdc_reserve = tripool.functions.balances(1).call(block_identifier=block) * 1e-6\n",
    "    usdt_reserve = tripool.functions.balances(2).call(block_identifier=block) * 1e-6\n",
    "\n",
    "    data.append(\n",
    "        {\n",
    "            \"block\": block,\n",
    "            \"timestamp\": block_timestamp,\n",
    "            \"dai_usdt_spot_price\": usdt_dai_spot_price,\n",
    "            \"usdc_usdt_spot_price\": usdt_usdc_spot_price,\n",
    "            \"dai_reserve\": dai_reserve,\n",
    "            \"usdc_reserve\": usdc_reserve,\n",
    "            \"usdt_reserve\": usdt_reserve,\n",
    "        }\n",
    "    )\n",
    "    done_blocks.append(block)"
   ],
   "metadata": {
    "collapsed": false,
    "pycharm": {
     "name": "#%%\n"
    }
   }
  },
  {
   "cell_type": "code",
   "execution_count": null,
   "outputs": [],
   "source": [
    "df_data = pd.DataFrame(data)\n",
    "df_data"
   ],
   "metadata": {
    "collapsed": false,
    "pycharm": {
     "name": "#%%\n"
    }
   }
  },
  {
   "cell_type": "code",
   "execution_count": null,
   "outputs": [],
   "source": [
    "df_data.to_csv(\"./usdt_pool_imbalance_reserves_spot_price.csv\")"
   ],
   "metadata": {
    "collapsed": false,
    "pycharm": {
     "name": "#%%\n"
    }
   }
  },
  {
   "cell_type": "code",
   "execution_count": null,
   "outputs": [],
   "source": [],
   "metadata": {
    "collapsed": false,
    "pycharm": {
     "name": "#%%\n"
    }
   }
  }
 ],
 "metadata": {
  "kernelspec": {
   "display_name": "Python 3",
   "language": "python",
   "name": "python3"
  },
  "language_info": {
   "codemirror_mode": {
    "name": "ipython",
    "version": 2
   },
   "file_extension": ".py",
   "mimetype": "text/x-python",
   "name": "python",
   "nbconvert_exporter": "python",
   "pygments_lexer": "ipython2",
   "version": "2.7.6"
  }
 },
 "nbformat": 4,
 "nbformat_minor": 0
}