{
 "cells": [
  {
   "cell_type": "code",
   "execution_count": 55,
   "metadata": {
    "collapsed": true
   },
   "outputs": [],
   "source": [
    "import os\n",
    "from typing import List\n",
    "\n",
    "import requests as requests\n",
    "from typing import Union"
   ]
  },
  {
   "cell_type": "code",
   "execution_count": 68,
   "outputs": [],
   "source": [
    "def alchemy_asset_transfers(\n",
    "        from_address: str,\n",
    "        to_address: str,\n",
    "        from_block: Union[int, str],\n",
    "        to_block: Union[int, str] = 'latest',\n",
    "        page_key: str = None\n",
    "):\n",
    "    if not to_block == 'latest':\n",
    "        to_block = hex(to_block)\n",
    "\n",
    "    parameters = {\n",
    "        \"fromBlock\": hex(from_block),\n",
    "        \"toBlock\": to_block,\n",
    "        \"fromAddress\": from_address,\n",
    "        \"toAddress\": to_address\n",
    "    }\n",
    "\n",
    "    if not from_address:\n",
    "        parameters.pop('fromAddress')\n",
    "    if not to_address:\n",
    "        parameters.pop('toAddress')\n",
    "\n",
    "    if page_key:\n",
    "        parameters['pageKey'] = page_key\n",
    "\n",
    "    response_post = requests.post(\n",
    "        \"https://eth-mainnet.alchemyapi.io/v2/\"\n",
    "        + os.environ[\"ALCHEMY_API_KEY\"],\n",
    "        json={\n",
    "            \"jsonrpc\": \"2.0\",\n",
    "            \"id\": 0,\n",
    "            \"method\": \"alchemy_getAssetTransfers\",\n",
    "            \"params\": [parameters]\n",
    "        },\n",
    "    )\n",
    "\n",
    "    response_json = response_post.json()\n",
    "    return response_json\n",
    "\n",
    "def get_lp_swaps(\n",
    "        from_address: str,\n",
    "        to_address: str,\n",
    "        from_block: Union[int, str],\n",
    "        to_block: Union[int, str]\n",
    ") -> List:\n",
    "\n",
    "    page_key = None\n",
    "    all_txes = []\n",
    "    while True:\n",
    "        response = alchemy_asset_transfers(\n",
    "            from_address=from_address,\n",
    "            to_address=to_address,\n",
    "            from_block=from_block,\n",
    "            to_block=to_block,\n",
    "            page_key=page_key\n",
    "        )\n",
    "        transactions = response[\"result\"][\"transfers\"]\n",
    "        all_txes.extend(transactions)\n",
    "        if not 'pageKey' in response['result'].keys():\n",
    "            break\n",
    "        page_key = response['result']['pageKey']\n",
    "\n",
    "    return all_txes"
   ],
   "metadata": {
    "collapsed": false,
    "pycharm": {
     "name": "#%%\n"
    }
   }
  },
  {
   "cell_type": "code",
   "execution_count": 69,
   "outputs": [],
   "source": [
    "block_start = 13483245\n",
    "pool_addr = \"0xbEbc44782C7dB0a1A60Cb6fe97d0b483032FF1C7\""
   ],
   "metadata": {
    "collapsed": false,
    "pycharm": {
     "name": "#%%\n"
    }
   }
  },
  {
   "cell_type": "code",
   "execution_count": 70,
   "outputs": [],
   "source": [
    "txes = get_lp_swaps(\n",
    "    from_address=pool_addr, to_address='', from_block=block_start, to_block='latest'\n",
    ")"
   ],
   "metadata": {
    "collapsed": false,
    "pycharm": {
     "name": "#%%\n"
    }
   }
  },
  {
   "cell_type": "code",
   "execution_count": 83,
   "outputs": [
    {
     "data": {
      "text/plain": "[{'blockNum': '0xcdbd14',\n  'hash': '0xdc1f480f3e470bb22dfbe38f5399abf91c05db6b8eb2dd42bac0b9889d061bf2',\n  'from': '0xbebc44782c7db0a1a60cb6fe97d0b483032ff1c7',\n  'to': '0xed279fdd11ca84beef15af5d39bb4d4bee23f0ca',\n  'value': 414375.4527277479,\n  'erc721TokenId': None,\n  'erc1155Metadata': None,\n  'asset': 'DAI',\n  'category': 'token',\n  'rawContract': {'value': '0x57bf569b10a52aad70e3',\n   'address': '0x6b175474e89094c44da98b954eedeac495271d0f',\n   'decimal': '0x12'}},\n {'blockNum': '0xcdbd15',\n  'hash': '0x410a77a44b532ee42a5a50173f848d537c32301520da8a90242905b34ea8ab4c',\n  'from': '0xbebc44782c7db0a1a60cb6fe97d0b483032ff1c7',\n  'to': '0xed279fdd11ca84beef15af5d39bb4d4bee23f0ca',\n  'value': 424332.8130128671,\n  'erc721TokenId': None,\n  'erc1155Metadata': None,\n  'asset': 'DAI',\n  'category': 'token',\n  'rawContract': {'value': '0x59db20bd279af34abdf2',\n   'address': '0x6b175474e89094c44da98b954eedeac495271d0f',\n   'decimal': '0x12'}},\n {'blockNum': '0xcdbd1c',\n  'hash': '0x1c1909bf32b5e41c1e62f7641e8dafb3d80e6cc363c6d22e74d5c463fa7178b8',\n  'from': '0xbebc44782c7db0a1a60cb6fe97d0b483032ff1c7',\n  'to': '0xd632f22692fac7611d2aa1c0d552930d43caed3b',\n  'value': 3054.959805170118,\n  'erc721TokenId': None,\n  'erc1155Metadata': None,\n  'asset': 'DAI',\n  'category': 'token',\n  'rawContract': {'value': '0xa59c157cee75722a70',\n   'address': '0x6b175474e89094c44da98b954eedeac495271d0f',\n   'decimal': '0x12'}},\n {'blockNum': '0xcdbd39',\n  'hash': '0x8ee23d699a8f4875072ba1a4eb2b859d2542e80ae48dac1337651b7324b507fb',\n  'from': '0xbebc44782c7db0a1a60cb6fe97d0b483032ff1c7',\n  'to': '0xed279fdd11ca84beef15af5d39bb4d4bee23f0ca',\n  'value': 103169.143691,\n  'erc721TokenId': None,\n  'erc1155Metadata': None,\n  'asset': 'USDC',\n  'category': 'token',\n  'rawContract': {'value': '0x18055c338b',\n   'address': '0xa0b86991c6218b36c1d19d4a2e9eb0ce3606eb48',\n   'decimal': '0x6'}},\n {'blockNum': '0xcdbd41',\n  'hash': '0xee2afda40c11b8c4e759f111d39d43e162a06051e58cc908e98856157ed73b2a',\n  'from': '0xbebc44782c7db0a1a60cb6fe97d0b483032ff1c7',\n  'to': '0xed279fdd11ca84beef15af5d39bb4d4bee23f0ca',\n  'value': 119727.716401,\n  'erc721TokenId': None,\n  'erc1155Metadata': None,\n  'asset': 'USDC',\n  'category': 'token',\n  'rawContract': {'value': '0x1be053f831',\n   'address': '0xa0b86991c6218b36c1d19d4a2e9eb0ce3606eb48',\n   'decimal': '0x6'}}]"
     },
     "execution_count": 83,
     "metadata": {},
     "output_type": "execute_result"
    }
   ],
   "source": [
    "txes[:5]"
   ],
   "metadata": {
    "collapsed": false,
    "pycharm": {
     "name": "#%%\n"
    }
   }
  },
  {
   "cell_type": "code",
   "execution_count": 72,
   "outputs": [
    {
     "data": {
      "text/plain": "5141"
     },
     "execution_count": 72,
     "metadata": {},
     "output_type": "execute_result"
    }
   ],
   "source": [
    "len(txes)"
   ],
   "metadata": {
    "collapsed": false,
    "pycharm": {
     "name": "#%%\n"
    }
   }
  },
  {
   "cell_type": "code",
   "execution_count": 80,
   "outputs": [],
   "source": [
    "fraction_fee = 0.03 / 100"
   ],
   "metadata": {
    "collapsed": false,
    "pycharm": {
     "name": "#%%\n"
    }
   }
  },
  {
   "cell_type": "code",
   "execution_count": 82,
   "outputs": [
    {
     "name": "stdout",
     "output_type": "stream",
     "text": [
      "Fees collected by 0xbEbc44782C7dB0a1A60Cb6fe97d0b483032FF1C7 from block 13483245 to 13584561 is 1108278.2.\n"
     ]
    }
   ],
   "source": [
    "total_fees = 0\n",
    "for i in txes:\n",
    "    total_fees += i['value'] * fraction_fee\n",
    "    block_num = i['blockNum']\n",
    "    block_end = int(block_num, 16)\n",
    "\n",
    "print(f\"Fees collected by {pool_addr} from block {block_start} to {block_end} is {round(total_fees, 2)}.\")"
   ],
   "metadata": {
    "collapsed": false,
    "pycharm": {
     "name": "#%%\n"
    }
   }
  },
  {
   "cell_type": "code",
   "execution_count": 78,
   "outputs": [
    {
     "data": {
      "text/plain": "13483284"
     },
     "execution_count": 78,
     "metadata": {},
     "output_type": "execute_result"
    }
   ],
   "source": [
    "int(block_num, 16)"
   ],
   "metadata": {
    "collapsed": false,
    "pycharm": {
     "name": "#%%\n"
    }
   }
  },
  {
   "cell_type": "code",
   "execution_count": null,
   "outputs": [],
   "source": [],
   "metadata": {
    "collapsed": false,
    "pycharm": {
     "name": "#%%\n"
    }
   }
  }
 ],
 "metadata": {
  "kernelspec": {
   "display_name": "Python 3",
   "language": "python",
   "name": "python3"
  },
  "language_info": {
   "codemirror_mode": {
    "name": "ipython",
    "version": 2
   },
   "file_extension": ".py",
   "mimetype": "text/x-python",
   "name": "python",
   "nbconvert_exporter": "python",
   "pygments_lexer": "ipython2",
   "version": "2.7.6"
  }
 },
 "nbformat": 4,
 "nbformat_minor": 0
}