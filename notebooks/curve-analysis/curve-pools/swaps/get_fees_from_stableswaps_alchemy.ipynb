{
 "cells": [
  {
   "cell_type": "code",
   "execution_count": 55,
   "metadata": {
    "collapsed": true
   },
   "outputs": [],
   "source": [
    "import os\n",
    "from typing import List\n",
    "\n",
    "import requests as requests\n",
    "from typing import Union"
   ]
  },
  {
   "cell_type": "code",
   "execution_count": 68,
   "outputs": [],
   "source": [
    "def alchemy_asset_transfers(\n",
    "        from_address: str,\n",
    "        to_address: str,\n",
    "        from_block: Union[int, str],\n",
    "        to_block: Union[int, str] = 'latest',\n",
    "        page_key: str = None\n",
    "):\n",
    "    if not to_block == 'latest':\n",
    "        to_block = hex(to_block)\n",
    "\n",
    "    parameters = {\n",
    "        \"fromBlock\": hex(from_block),\n",
    "        \"toBlock\": to_block,\n",
    "        \"fromAddress\": from_address,\n",
    "        \"toAddress\": to_address\n",
    "    }\n",
    "\n",
    "    if not from_address:\n",
    "        parameters.pop('fromAddress')\n",
    "    if not to_address:\n",
    "        parameters.pop('toAddress')\n",
    "\n",
    "    if page_key:\n",
    "        parameters['pageKey'] = page_key\n",
    "\n",
    "    response_post = requests.post(\n",
    "        \"https://eth-mainnet.alchemyapi.io/v2/\"\n",
    "        + os.environ[\"ALCHEMY_API_KEY\"],\n",
    "        json={\n",
    "            \"jsonrpc\": \"2.0\",\n",
    "            \"id\": 0,\n",
    "            \"method\": \"alchemy_getAssetTransfers\",\n",
    "            \"params\": [parameters]\n",
    "        },\n",
    "    )\n",
    "\n",
    "    response_json = response_post.json()\n",
    "    return response_json\n",
    "\n",
    "def get_lp_swaps(\n",
    "        from_address: str,\n",
    "        to_address: str,\n",
    "        from_block: Union[int, str],\n",
    "        to_block: Union[int, str]\n",
    ") -> List:\n",
    "\n",
    "    page_key = None\n",
    "    all_txes = []\n",
    "    while True:\n",
    "        response = alchemy_asset_transfers(\n",
    "            from_address=from_address,\n",
    "            to_address=to_address,\n",
    "            from_block=from_block,\n",
    "            to_block=to_block,\n",
    "            page_key=page_key\n",
    "        )\n",
    "        transactions = response[\"result\"][\"transfers\"]\n",
    "        all_txes.extend(transactions)\n",
    "        if not 'pageKey' in response['result'].keys():\n",
    "            break\n",
    "        page_key = response['result']['pageKey']\n",
    "\n",
    "    return all_txes"
   ],
   "metadata": {
    "collapsed": false,
    "pycharm": {
     "name": "#%%\n"
    }
   }
  },
  {
   "cell_type": "code",
   "execution_count": 99,
   "outputs": [],
   "source": [
    "block_start = 13182518\n",
    "block_end = 13206754\n",
    "pool_addr = \"0xbEbc44782C7dB0a1A60Cb6fe97d0b483032FF1C7\""
   ],
   "metadata": {
    "collapsed": false,
    "pycharm": {
     "name": "#%%\n"
    }
   }
  },
  {
   "cell_type": "code",
   "execution_count": 100,
   "outputs": [],
   "source": [
    "txes = get_lp_swaps(\n",
    "    from_address=pool_addr, to_address='', from_block=block_start, to_block=block_end\n",
    ")"
   ],
   "metadata": {
    "collapsed": false,
    "pycharm": {
     "name": "#%%\n"
    }
   }
  },
  {
   "cell_type": "code",
   "execution_count": 101,
   "outputs": [
    {
     "data": {
      "text/plain": "[{'blockNum': '0xc92644',\n  'hash': '0xb344330689146906be75d8f6a1814d2d8442c66be3ae4bbbf716d8dfdbf55230',\n  'from': '0xbebc44782c7db0a1a60cb6fe97d0b483032ff1c7',\n  'to': '0x27239549dd40e1d60f5b80b0c4196923745b1fd2',\n  'value': 494023.496198,\n  'erc721TokenId': None,\n  'erc1155Metadata': None,\n  'asset': 'USDC',\n  'category': 'token',\n  'rawContract': {'value': '0x7306185206',\n   'address': '0xa0b86991c6218b36c1d19d4a2e9eb0ce3606eb48',\n   'decimal': '0x6'}},\n {'blockNum': '0xc9264b',\n  'hash': '0xe24619974f19e867c2fdb2901aed86e5b4c89e45cdecbb70a2bc603c6f1c3c7b',\n  'from': '0xbebc44782c7db0a1a60cb6fe97d0b483032ff1c7',\n  'to': '0x61e10659fe3aa93d036d099405224e4ac24996d0',\n  'value': 499304.860926,\n  'erc721TokenId': None,\n  'erc1155Metadata': None,\n  'asset': 'USDC',\n  'category': 'token',\n  'rawContract': {'value': '0x7440e38cfe',\n   'address': '0xa0b86991c6218b36c1d19d4a2e9eb0ce3606eb48',\n   'decimal': '0x6'}},\n {'blockNum': '0xc9264f',\n  'hash': '0xcd9626758a54d2d392a3e1721114f11489f54821957e4dd9681a233f8bffabb8',\n  'from': '0xbebc44782c7db0a1a60cb6fe97d0b483032ff1c7',\n  'to': '0x890f4e345b1daed0367a877a1612f86a1f86985f',\n  'value': 66347.328431,\n  'erc721TokenId': None,\n  'erc1155Metadata': None,\n  'asset': 'USDC',\n  'category': 'token',\n  'rawContract': {'value': '0x0f729be3af',\n   'address': '0xa0b86991c6218b36c1d19d4a2e9eb0ce3606eb48',\n   'decimal': '0x6'}},\n {'blockNum': '0xc92685',\n  'hash': '0x57f71dd4781f30d876f545a7bf477dcaf461bc99860432fd1970ee81b37c2f14',\n  'from': '0xbebc44782c7db0a1a60cb6fe97d0b483032ff1c7',\n  'to': '0x5a6a4d54456819380173272a5e8e9b9904bdf41b',\n  'value': 141975.06278259165,\n  'erc721TokenId': None,\n  'erc1155Metadata': None,\n  'asset': 'DAI',\n  'category': 'token',\n  'rawContract': {'value': '0x1e107bcb98a55d49fdbc',\n   'address': '0x6b175474e89094c44da98b954eedeac495271d0f',\n   'decimal': '0x12'}},\n {'blockNum': '0xc926aa',\n  'hash': '0x588ec5f09711df6c064646a5afc126648592aee88622e528a34a5e147c92b18e',\n  'from': '0xbebc44782c7db0a1a60cb6fe97d0b483032ff1c7',\n  'to': '0x27239549dd40e1d60f5b80b0c4196923745b1fd2',\n  'value': 58073.965548,\n  'erc721TokenId': None,\n  'erc1155Metadata': None,\n  'asset': 'USDC',\n  'category': 'token',\n  'rawContract': {'value': '0x0d857a63ec',\n   'address': '0xa0b86991c6218b36c1d19d4a2e9eb0ce3606eb48',\n   'decimal': '0x6'}}]"
     },
     "execution_count": 101,
     "metadata": {},
     "output_type": "execute_result"
    }
   ],
   "source": [
    "txes[:5]"
   ],
   "metadata": {
    "collapsed": false,
    "pycharm": {
     "name": "#%%\n"
    }
   }
  },
  {
   "cell_type": "code",
   "execution_count": 102,
   "outputs": [
    {
     "data": {
      "text/plain": "1746"
     },
     "execution_count": 102,
     "metadata": {},
     "output_type": "execute_result"
    }
   ],
   "source": [
    "len(txes)"
   ],
   "metadata": {
    "collapsed": false,
    "pycharm": {
     "name": "#%%\n"
    }
   }
  },
  {
   "cell_type": "code",
   "execution_count": 103,
   "outputs": [],
   "source": [
    "fraction_fee = 0.03 / 100"
   ],
   "metadata": {
    "collapsed": false,
    "pycharm": {
     "name": "#%%\n"
    }
   }
  },
  {
   "cell_type": "code",
   "execution_count": 104,
   "outputs": [
    {
     "name": "stdout",
     "output_type": "stream",
     "text": [
      "Fees collected by 0xbEbc44782C7dB0a1A60Cb6fe97d0b483032FF1C7 from block 13182518 to 13206749 is 145389.59.\n"
     ]
    }
   ],
   "source": [
    "total_fees = 0\n",
    "for i in txes:\n",
    "    total_fees += i['value'] * fraction_fee\n",
    "    block_num = i['blockNum']\n",
    "    block_end = int(block_num, 16)\n",
    "\n",
    "print(f\"Fees collected by {pool_addr} from block {block_start} to {block_end} is {round(total_fees, 2)}.\")"
   ],
   "metadata": {
    "collapsed": false,
    "pycharm": {
     "name": "#%%\n"
    }
   }
  },
  {
   "cell_type": "code",
   "execution_count": 113,
   "outputs": [
    {
     "data": {
      "text/plain": "[12693255,\n 12733780,\n 12740342,\n 12826286,\n 12865685,\n 12960904,\n 12993519,\n 13048460,\n 13073420,\n 13182518,\n 13206754,\n 13278344,\n 13307602,\n 13360861,\n 13402155,\n 13456217,\n 13484749,\n 13541142]"
     },
     "execution_count": 113,
     "metadata": {},
     "output_type": "execute_result"
    }
   ],
   "source": [
    "blocks_to_query = [{\n",
    "    \"block\": \"12693255\"\n",
    "},\n",
    "{\n",
    "    \"block\": \"12733780\"\n",
    "},\n",
    "{\n",
    "    \"block\": \"12740342\"\n",
    "},\n",
    "{\n",
    "    \"block\": \"12826286\"\n",
    "},\n",
    "{\n",
    "    \"block\": \"12865685\"\n",
    "},\n",
    "{\n",
    "    \"block\": \"12960904\"\n",
    "},\n",
    "{\n",
    "    \"block\": \"12993519\"\n",
    "},\n",
    "{\n",
    "    \"block\": \"13048460\"\n",
    "},\n",
    "{\n",
    "    \"block\": \"13073420\"\n",
    "},\n",
    "{\n",
    "    \"block\": \"13182518\"\n",
    "},\n",
    "{\n",
    "    \"block\": \"13206754\"\n",
    "},\n",
    "{\n",
    "    \"block\": \"13278344\"\n",
    "},\n",
    "{\n",
    "    \"block\": \"13307602\"\n",
    "},\n",
    "{\n",
    "    \"block\": \"13360861\"\n",
    "},\n",
    "{\n",
    "    \"block\": \"13402155\"\n",
    "},\n",
    "{\n",
    "    \"block\": \"13456217\"\n",
    "},\n",
    "{\n",
    "    \"block\": \"13484749\"\n",
    "},\n",
    "{\n",
    "    \"block\": \"13541142\"\n",
    "}\n",
    "]\n",
    "blocks = []\n",
    "for i in blocks_to_query:\n",
    "    blocks.append(int(i['block']))\n",
    "blocks"
   ],
   "metadata": {
    "collapsed": false,
    "pycharm": {
     "name": "#%%\n"
    }
   }
  },
  {
   "cell_type": "code",
   "execution_count": 115,
   "outputs": [
    {
     "data": {
      "text/plain": "[(12693255, 12733780),\n (12733780, 12740342),\n (12740342, 12826286),\n (12826286, 12865685),\n (12865685, 12960904),\n (12960904, 12993519),\n (12993519, 13048460),\n (13048460, 13073420),\n (13073420, 13182518),\n (13182518, 13206754),\n (13206754, 13278344),\n (13278344, 13307602),\n (13307602, 13360861),\n (13360861, 13402155),\n (13402155, 13456217),\n (13456217, 13484749),\n (13484749, 13541142)]"
     },
     "execution_count": 115,
     "metadata": {},
     "output_type": "execute_result"
    }
   ],
   "source": [
    "block_ranges = list(zip(blocks, blocks[1:]))\n",
    "block_ranges"
   ],
   "metadata": {
    "collapsed": false,
    "pycharm": {
     "name": "#%%\n"
    }
   }
  },
  {
   "cell_type": "code",
   "execution_count": 120,
   "outputs": [
    {
     "name": "stdout",
     "output_type": "stream",
     "text": [
      "Block range 12693255:12733780 has 4370 transactions for 0xbEbc44782C7dB0a1A60Cb6fe97d0b483032FF1C7\n",
      "Fees collected by 0xbEbc44782C7dB0a1A60Cb6fe97d0b483032FF1C7 from block 12693255 to 12733758 is 235315.84.\n",
      "Block range 12733780:12740342 has 617 transactions for 0xbEbc44782C7dB0a1A60Cb6fe97d0b483032FF1C7\n",
      "Fees collected by 0xbEbc44782C7dB0a1A60Cb6fe97d0b483032FF1C7 from block 12733780 to 12740339 is 51611.65.\n",
      "Block range 12740342:12826286 has 7819 transactions for 0xbEbc44782C7dB0a1A60Cb6fe97d0b483032FF1C7\n",
      "Fees collected by 0xbEbc44782C7dB0a1A60Cb6fe97d0b483032FF1C7 from block 12740342 to 12826277 is 486920.36.\n",
      "Block range 12826286:12865685 has 3595 transactions for 0xbEbc44782C7dB0a1A60Cb6fe97d0b483032FF1C7\n",
      "Fees collected by 0xbEbc44782C7dB0a1A60Cb6fe97d0b483032FF1C7 from block 12826286 to 12865674 is 275079.78.\n",
      "Block range 12865685:12960904 has 9745 transactions for 0xbEbc44782C7dB0a1A60Cb6fe97d0b483032FF1C7\n",
      "Fees collected by 0xbEbc44782C7dB0a1A60Cb6fe97d0b483032FF1C7 from block 12865685 to 12960887 is 741996.08.\n",
      "Block range 12960904:12993519 has 2504 transactions for 0xbEbc44782C7dB0a1A60Cb6fe97d0b483032FF1C7\n",
      "Fees collected by 0xbEbc44782C7dB0a1A60Cb6fe97d0b483032FF1C7 from block 12960904 to 12993504 is 232767.92.\n",
      "Block range 12993519:13048460 has 3968 transactions for 0xbEbc44782C7dB0a1A60Cb6fe97d0b483032FF1C7\n",
      "Fees collected by 0xbEbc44782C7dB0a1A60Cb6fe97d0b483032FF1C7 from block 12993519 to 13048438 is 379169.46.\n",
      "Block range 13048460:13073420 has 2168 transactions for 0xbEbc44782C7dB0a1A60Cb6fe97d0b483032FF1C7\n",
      "Fees collected by 0xbEbc44782C7dB0a1A60Cb6fe97d0b483032FF1C7 from block 13048460 to 13073407 is 199588.39.\n",
      "Block range 13073420:13182518 has 5848 transactions for 0xbEbc44782C7dB0a1A60Cb6fe97d0b483032FF1C7\n",
      "Fees collected by 0xbEbc44782C7dB0a1A60Cb6fe97d0b483032FF1C7 from block 13073420 to 13182512 is 574380.83.\n",
      "Block range 13182518:13206754 has 1746 transactions for 0xbEbc44782C7dB0a1A60Cb6fe97d0b483032FF1C7\n",
      "Fees collected by 0xbEbc44782C7dB0a1A60Cb6fe97d0b483032FF1C7 from block 13182518 to 13206749 is 145389.59.\n",
      "Block range 13206754:13278344 has 5382 transactions for 0xbEbc44782C7dB0a1A60Cb6fe97d0b483032FF1C7\n",
      "Fees collected by 0xbEbc44782C7dB0a1A60Cb6fe97d0b483032FF1C7 from block 13206754 to 13278297 is 479242.51.\n",
      "Block range 13278344:13307602 has 2421 transactions for 0xbEbc44782C7dB0a1A60Cb6fe97d0b483032FF1C7\n",
      "Fees collected by 0xbEbc44782C7dB0a1A60Cb6fe97d0b483032FF1C7 from block 13278344 to 13307601 is 252981.91.\n",
      "Block range 13307602:13360861 has 3714 transactions for 0xbEbc44782C7dB0a1A60Cb6fe97d0b483032FF1C7\n",
      "Fees collected by 0xbEbc44782C7dB0a1A60Cb6fe97d0b483032FF1C7 from block 13307602 to 13360851 is 327884.33.\n",
      "Block range 13360861:13402155 has 2807 transactions for 0xbEbc44782C7dB0a1A60Cb6fe97d0b483032FF1C7\n",
      "Fees collected by 0xbEbc44782C7dB0a1A60Cb6fe97d0b483032FF1C7 from block 13360861 to 13402117 is 312335.42.\n",
      "Block range 13402155:13456217 has 4028 transactions for 0xbEbc44782C7dB0a1A60Cb6fe97d0b483032FF1C7\n",
      "Fees collected by 0xbEbc44782C7dB0a1A60Cb6fe97d0b483032FF1C7 from block 13402155 to 13456180 is 569665.73.\n",
      "Block range 13456217:13484749 has 1871 transactions for 0xbEbc44782C7dB0a1A60Cb6fe97d0b483032FF1C7\n",
      "Fees collected by 0xbEbc44782C7dB0a1A60Cb6fe97d0b483032FF1C7 from block 13456217 to 13484734 is 227896.96.\n",
      "Block range 13484749:13541142 has 2856 transactions for 0xbEbc44782C7dB0a1A60Cb6fe97d0b483032FF1C7\n",
      "Fees collected by 0xbEbc44782C7dB0a1A60Cb6fe97d0b483032FF1C7 from block 13484749 to 13541139 is 645644.35.\n"
     ]
    }
   ],
   "source": [
    "fees_for_range = {}\n",
    "for (block_start, block_end) in block_ranges:\n",
    "\n",
    "    txes = get_lp_swaps(\n",
    "        from_address=pool_addr, to_address='', from_block=block_start, to_block=block_end\n",
    "    )\n",
    "    print(f\"Block range {block_start}:{block_end} has {len(txes)} transactions for {pool_addr}\")\n",
    "\n",
    "    total_fees = 0\n",
    "    for i in txes:\n",
    "        total_fees += i['value'] * fraction_fee\n",
    "        block_num = i['blockNum']\n",
    "        last_block = int(block_num, 16)\n",
    "\n",
    "    print(f\"Fees collected by {pool_addr} from block {block_start} to {last_block} is {round(total_fees, 2)}.\")\n",
    "\n",
    "    fees_for_range[(block_start, block_end)] = total_fees"
   ],
   "metadata": {
    "collapsed": false,
    "pycharm": {
     "name": "#%%\n"
    }
   }
  },
  {
   "cell_type": "code",
   "execution_count": 121,
   "outputs": [
    {
     "data": {
      "text/plain": "{(12693255, 12733780): 235315.84329081108,\n (12733780, 12740342): 51611.64508063634,\n (12740342, 12826286): 486920.3576488525,\n (12826286, 12865685): 275079.7803891132,\n (12865685, 12960904): 741996.076269439,\n (12960904, 12993519): 232767.91744170382,\n (12993519, 13048460): 379169.4613490703,\n (13048460, 13073420): 199588.39389553465,\n (13073420, 13182518): 574380.8313389953,\n (13182518, 13206754): 145389.58763483487,\n (13206754, 13278344): 479242.510586363,\n (13278344, 13307602): 252981.9117894561,\n (13307602, 13360861): 327884.333095976,\n (13360861, 13402155): 312335.41524615674,\n (13402155, 13456217): 569665.7341419263,\n (13456217, 13484749): 227896.96185654632,\n (13484749, 13541142): 645644.3463880663}"
     },
     "execution_count": 121,
     "metadata": {},
     "output_type": "execute_result"
    }
   ],
   "source": [
    "fees_for_range"
   ],
   "metadata": {
    "collapsed": false,
    "pycharm": {
     "name": "#%%\n"
    }
   }
  },
  {
   "cell_type": "code",
   "execution_count": null,
   "outputs": [],
   "source": [],
   "metadata": {
    "collapsed": false,
    "pycharm": {
     "name": "#%%\n"
    }
   }
  }
 ],
 "metadata": {
  "kernelspec": {
   "display_name": "Python 3",
   "language": "python",
   "name": "python3"
  },
  "language_info": {
   "codemirror_mode": {
    "name": "ipython",
    "version": 2
   },
   "file_extension": ".py",
   "mimetype": "text/x-python",
   "name": "python",
   "nbconvert_exporter": "python",
   "pygments_lexer": "ipython2",
   "version": "2.7.6"
  }
 },
 "nbformat": 4,
 "nbformat_minor": 0
}