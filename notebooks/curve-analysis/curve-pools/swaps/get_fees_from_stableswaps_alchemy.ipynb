{
 "cells": [
  {
   "cell_type": "code",
   "execution_count": 1,
   "metadata": {
    "collapsed": true
   },
   "outputs": [],
   "source": [
    "import os\n",
    "from typing import List\n",
    "\n",
    "import requests as requests\n",
    "from typing import Union\n",
    "\n",
    "import datetime\n",
    "from utils.eth_blocks_utils import get_block_for_timestamp"
   ]
  },
  {
   "cell_type": "code",
   "execution_count": 2,
   "outputs": [],
   "source": [
    "def alchemy_asset_transfers(\n",
    "        from_address: str,\n",
    "        to_address: str,\n",
    "        from_block: Union[int, str],\n",
    "        to_block: Union[int, str] = 'latest',\n",
    "        page_key: str = None\n",
    "):\n",
    "    if not to_block == 'latest':\n",
    "        to_block = hex(to_block)\n",
    "\n",
    "    parameters = {\n",
    "        \"fromBlock\": hex(from_block),\n",
    "        \"toBlock\": to_block,\n",
    "        \"fromAddress\": from_address,\n",
    "        \"toAddress\": to_address\n",
    "    }\n",
    "\n",
    "    if not from_address:\n",
    "        parameters.pop('fromAddress')\n",
    "    if not to_address:\n",
    "        parameters.pop('toAddress')\n",
    "\n",
    "    if page_key:\n",
    "        parameters['pageKey'] = page_key\n",
    "\n",
    "    response_post = requests.post(\n",
    "        \"https://eth-mainnet.alchemyapi.io/v2/\"\n",
    "        + os.environ[\"ALCHEMY_API_KEY\"],\n",
    "        json={\n",
    "            \"jsonrpc\": \"2.0\",\n",
    "            \"id\": 0,\n",
    "            \"method\": \"alchemy_getAssetTransfers\",\n",
    "            \"params\": [parameters]\n",
    "        },\n",
    "    )\n",
    "\n",
    "    response_json = response_post.json()\n",
    "    return response_json\n",
    "\n",
    "def get_lp_swaps(\n",
    "        from_address: str,\n",
    "        to_address: str,\n",
    "        from_block: Union[int, str],\n",
    "        to_block: Union[int, str]\n",
    ") -> List:\n",
    "\n",
    "    page_key = None\n",
    "    all_txes = []\n",
    "    while True:\n",
    "        response = alchemy_asset_transfers(\n",
    "            from_address=from_address,\n",
    "            to_address=to_address,\n",
    "            from_block=from_block,\n",
    "            to_block=to_block,\n",
    "            page_key=page_key\n",
    "        )\n",
    "        transactions = response[\"result\"][\"transfers\"]\n",
    "        all_txes.extend(transactions)\n",
    "        if not 'pageKey' in response['result'].keys():\n",
    "            break\n",
    "        page_key = response['result']['pageKey']\n",
    "\n",
    "    return all_txes"
   ],
   "metadata": {
    "collapsed": false,
    "pycharm": {
     "name": "#%%\n"
    }
   }
  },
  {
   "cell_type": "code",
   "execution_count": 99,
   "outputs": [],
   "source": [
    "pool_addr = \"0xbEbc44782C7dB0a1A60Cb6fe97d0b483032FF1C7\""
   ],
   "metadata": {
    "collapsed": false,
    "pycharm": {
     "name": "#%%\n"
    }
   }
  },
  {
   "cell_type": "code",
   "execution_count": 103,
   "outputs": [],
   "source": [
    "fraction_fee = 0.03 / 100"
   ],
   "metadata": {
    "collapsed": false,
    "pycharm": {
     "name": "#%%\n"
    }
   }
  },
  {
   "cell_type": "code",
   "execution_count": null,
   "outputs": [],
   "source": [
    "current_block ="
   ],
   "metadata": {
    "collapsed": false,
    "pycharm": {
     "name": "#%%\n"
    }
   }
  },
  {
   "cell_type": "code",
   "execution_count": null,
   "outputs": [],
   "source": [
    "blocks = list(\n",
    "    range(\n",
    "        int(get_block_for_timestamp(datetime.datetime.ut)),\n",
    "\n",
    "    )\n",
    ")"
   ],
   "metadata": {
    "collapsed": false,
    "pycharm": {
     "name": "#%%\n"
    }
   }
  },
  {
   "cell_type": "code",
   "execution_count": 115,
   "outputs": [
    {
     "data": {
      "text/plain": "[(12693255, 12733780),\n (12733780, 12740342),\n (12740342, 12826286),\n (12826286, 12865685),\n (12865685, 12960904),\n (12960904, 12993519),\n (12993519, 13048460),\n (13048460, 13073420),\n (13073420, 13182518),\n (13182518, 13206754),\n (13206754, 13278344),\n (13278344, 13307602),\n (13307602, 13360861),\n (13360861, 13402155),\n (13402155, 13456217),\n (13456217, 13484749),\n (13484749, 13541142)]"
     },
     "execution_count": 115,
     "metadata": {},
     "output_type": "execute_result"
    }
   ],
   "source": [
    "block_ranges = list(zip(blocks, blocks[1:]))\n",
    "block_ranges"
   ],
   "metadata": {
    "collapsed": false,
    "pycharm": {
     "name": "#%%\n"
    }
   }
  },
  {
   "cell_type": "code",
   "execution_count": 145,
   "outputs": [
    {
     "name": "stdout",
     "output_type": "stream",
     "text": [
      "0x57d5cfcf1a30f6f756a5fcaf55835250fab0c703b8ebeb280898869cd8cc6562\n"
     ]
    },
    {
     "ename": "RuntimeError",
     "evalue": "No active exception to reraise",
     "output_type": "error",
     "traceback": [
      "\u001B[0;31m---------------------------------------------------------------------------\u001B[0m",
      "\u001B[0;31mRuntimeError\u001B[0m                              Traceback (most recent call last)",
      "\u001B[0;32m/var/folders/w7/3c51j_5j2gq4n13mljt4rrb80000gn/T/ipykernel_5831/3841949126.py\u001B[0m in \u001B[0;36m<module>\u001B[0;34m\u001B[0m\n\u001B[1;32m     25\u001B[0m             \u001B[0mtotal_fees\u001B[0m \u001B[0;34m+=\u001B[0m \u001B[0min_value\u001B[0m \u001B[0;34m*\u001B[0m \u001B[0mfraction_fee\u001B[0m\u001B[0;34m\u001B[0m\u001B[0;34m\u001B[0m\u001B[0m\n\u001B[1;32m     26\u001B[0m             \u001B[0mprint\u001B[0m\u001B[0;34m(\u001B[0m\u001B[0mi\u001B[0m\u001B[0;34m[\u001B[0m\u001B[0;34m'hash'\u001B[0m\u001B[0;34m]\u001B[0m\u001B[0;34m)\u001B[0m\u001B[0;34m\u001B[0m\u001B[0;34m\u001B[0m\u001B[0m\n\u001B[0;32m---> 27\u001B[0;31m             \u001B[0;32mraise\u001B[0m\u001B[0;34m\u001B[0m\u001B[0;34m\u001B[0m\u001B[0m\n\u001B[0m\u001B[1;32m     28\u001B[0m \u001B[0;34m\u001B[0m\u001B[0m\n\u001B[1;32m     29\u001B[0m     \u001B[0mfees_for_range\u001B[0m\u001B[0;34m[\u001B[0m\u001B[0;34m(\u001B[0m\u001B[0mblock_start\u001B[0m\u001B[0;34m,\u001B[0m \u001B[0mblock_end\u001B[0m\u001B[0;34m)\u001B[0m\u001B[0;34m]\u001B[0m \u001B[0;34m=\u001B[0m \u001B[0mtotal_fees\u001B[0m\u001B[0;34m\u001B[0m\u001B[0;34m\u001B[0m\u001B[0m\n",
      "\u001B[0;31mRuntimeError\u001B[0m: No active exception to reraise"
     ]
    }
   ],
   "source": [
    "fees_for_range = {}\n",
    "for (block_start, block_end) in block_ranges:\n",
    "\n",
    "    from_txes = get_lp_swaps(\n",
    "        from_address=pool_addr, to_address='', from_block=block_start, to_block=block_end\n",
    "    )\n",
    "    from_tx_hashes = [i['hash'] for i in from_txes]\n",
    "\n",
    "    to_txes = get_lp_swaps(\n",
    "        from_address='', to_address=pool_addr, from_block=block_start, to_block=block_end\n",
    "    )\n",
    "    to_tx_hashes = [i['hash'] for i in to_txes]\n",
    "\n",
    "    total_fees = 0\n",
    "    for i in to_txes:\n",
    "        # add_liquidity txes and swaps\n",
    "        out_value = i['value']\n",
    "        total_fees += i['value'] * fraction_fee\n",
    "\n",
    "    for i in from_txes:\n",
    "        if i['hash'] not in to_tx_hashes:\n",
    "            # here very rough estimates of fees for removing liquidity\n",
    "            total_fees += i['value'] * fraction_fee\n",
    "            in_value = out_value / (1 - fraction_fee)\n",
    "            total_fees += in_value * fraction_fee\n",
    "            print(i['hash'])\n",
    "            raise\n",
    "\n",
    "    fees_for_range[(block_start, block_end)] = total_fees"
   ],
   "metadata": {
    "collapsed": false,
    "pycharm": {
     "name": "#%%\n"
    }
   }
  },
  {
   "cell_type": "code",
   "execution_count": 144,
   "outputs": [
    {
     "data": {
      "text/plain": "'0xb3cf211ce2cf3c92e88d9f18322562736f59ee995abf649cdb44f37f2fcb4986'"
     },
     "execution_count": 144,
     "metadata": {},
     "output_type": "execute_result"
    }
   ],
   "source": [
    "i['hash']"
   ],
   "metadata": {
    "collapsed": false,
    "pycharm": {
     "name": "#%%\n"
    }
   }
  },
  {
   "cell_type": "code",
   "execution_count": null,
   "outputs": [],
   "source": [],
   "metadata": {
    "collapsed": false,
    "pycharm": {
     "name": "#%%\n"
    }
   }
  },
  {
   "cell_type": "code",
   "execution_count": 136,
   "outputs": [
    {
     "data": {
      "text/plain": "{(12693255, 12733780): 286153.683618792,\n (12733780, 12740342): 86525.73740506361,\n (12740342, 12826286): 769659.7330381555,\n (12826286, 12865685): 377819.2952715634,\n (12865685, 12960904): 884789.9911307511,\n (12960904, 12993519): 309939.782394324,\n (12993519, 13048460): 545952.9301074691,\n (13048460, 13073420): 282702.77075993945,\n (13073420, 13182518): 877265.8728324103,\n (13182518, 13206754): 303965.9061378624,\n (13206754, 13278344): 692746.6687058664,\n (13278344, 13307602): 324502.46422951383,\n (13307602, 13360861): 376507.43964128953,\n (13360861, 13402155): 565520.4336126104,\n (13402155, 13456217): 858646.3213057646,\n (13456217, 13484749): 283132.3856365297,\n (13484749, 13541142): 745315.8085302708}"
     },
     "execution_count": 136,
     "metadata": {},
     "output_type": "execute_result"
    }
   ],
   "source": [
    "fees_for_range"
   ],
   "metadata": {
    "collapsed": false,
    "pycharm": {
     "name": "#%%\n"
    }
   }
  },
  {
   "cell_type": "code",
   "execution_count": 121,
   "outputs": [
    {
     "data": {
      "text/plain": "{(12693255, 12733780): 235315.84329081108,\n (12733780, 12740342): 51611.64508063634,\n (12740342, 12826286): 486920.3576488525,\n (12826286, 12865685): 275079.7803891132,\n (12865685, 12960904): 741996.076269439,\n (12960904, 12993519): 232767.91744170382,\n (12993519, 13048460): 379169.4613490703,\n (13048460, 13073420): 199588.39389553465,\n (13073420, 13182518): 574380.8313389953,\n (13182518, 13206754): 145389.58763483487,\n (13206754, 13278344): 479242.510586363,\n (13278344, 13307602): 252981.9117894561,\n (13307602, 13360861): 327884.333095976,\n (13360861, 13402155): 312335.41524615674,\n (13402155, 13456217): 569665.7341419263,\n (13456217, 13484749): 227896.96185654632,\n (13484749, 13541142): 645644.3463880663}"
     },
     "execution_count": 121,
     "metadata": {},
     "output_type": "execute_result"
    }
   ],
   "source": [
    "fees_for_range"
   ],
   "metadata": {
    "collapsed": false,
    "pycharm": {
     "name": "#%%\n"
    }
   }
  },
  {
   "cell_type": "code",
   "execution_count": null,
   "outputs": [],
   "source": [],
   "metadata": {
    "collapsed": false,
    "pycharm": {
     "name": "#%%\n"
    }
   }
  }
 ],
 "metadata": {
  "kernelspec": {
   "display_name": "Python 3",
   "language": "python",
   "name": "python3"
  },
  "language_info": {
   "codemirror_mode": {
    "name": "ipython",
    "version": 2
   },
   "file_extension": ".py",
   "mimetype": "text/x-python",
   "name": "python",
   "nbconvert_exporter": "python",
   "pygments_lexer": "ipython2",
   "version": "2.7.6"
  }
 },
 "nbformat": 4,
 "nbformat_minor": 0
}