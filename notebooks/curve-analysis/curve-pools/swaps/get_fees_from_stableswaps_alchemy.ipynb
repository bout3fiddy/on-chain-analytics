{
 "cells": [
  {
   "cell_type": "code",
   "execution_count": 1,
   "metadata": {
    "collapsed": true
   },
   "outputs": [],
   "source": [
    "import os\n",
    "from typing import List\n",
    "import json\n",
    "\n",
    "import requests as requests\n",
    "from typing import Union\n",
    "\n",
    "from web3 import Web3, HTTPProvider, IPCProvider"
   ]
  },
  {
   "cell_type": "code",
   "execution_count": 2,
   "outputs": [],
   "source": [
    "ALCHEMY_API_KEY = os.environ['ALCHEMY_API_KEY']\n",
    "web3 = Web3(HTTPProvider(f\"https://eth-mainnet.alchemyapi.io/v2/{ALCHEMY_API_KEY}\"))"
   ],
   "metadata": {
    "collapsed": false,
    "pycharm": {
     "name": "#%%\n"
    }
   }
  },
  {
   "cell_type": "code",
   "execution_count": 3,
   "outputs": [],
   "source": [
    "def alchemy_asset_transfers(\n",
    "        from_address: str,\n",
    "        to_address: str,\n",
    "        from_block: Union[int, str],\n",
    "        to_block: Union[int, str] = 'latest',\n",
    "        page_key: str = None\n",
    "):\n",
    "    if not to_block == 'latest':\n",
    "        to_block = hex(to_block)\n",
    "\n",
    "    parameters = {\n",
    "        \"fromBlock\": hex(from_block),\n",
    "        \"toBlock\": to_block,\n",
    "        \"fromAddress\": from_address,\n",
    "        \"toAddress\": to_address\n",
    "    }\n",
    "\n",
    "    if not from_address:\n",
    "        parameters.pop('fromAddress')\n",
    "    if not to_address:\n",
    "        parameters.pop('toAddress')\n",
    "\n",
    "    if page_key:\n",
    "        parameters['pageKey'] = page_key\n",
    "\n",
    "    response_post = requests.post(\n",
    "        \"https://eth-mainnet.alchemyapi.io/v2/\"\n",
    "        + os.environ[\"ALCHEMY_API_KEY\"],\n",
    "        json={\n",
    "            \"jsonrpc\": \"2.0\",\n",
    "            \"id\": 0,\n",
    "            \"method\": \"alchemy_getAssetTransfers\",\n",
    "            \"params\": [parameters]\n",
    "        },\n",
    "    )\n",
    "\n",
    "    response_json = response_post.json()\n",
    "    return response_json\n",
    "\n",
    "def get_lp_swaps(\n",
    "        from_address: str,\n",
    "        to_address: str,\n",
    "        from_block: Union[int, str],\n",
    "        to_block: Union[int, str]\n",
    ") -> List:\n",
    "\n",
    "    page_key = None\n",
    "    all_txes = []\n",
    "    while True:\n",
    "        response = alchemy_asset_transfers(\n",
    "            from_address=from_address,\n",
    "            to_address=to_address,\n",
    "            from_block=from_block,\n",
    "            to_block=to_block,\n",
    "            page_key=page_key\n",
    "        )\n",
    "        transactions = response[\"result\"][\"transfers\"]\n",
    "        all_txes.extend(transactions)\n",
    "        if not 'pageKey' in response['result'].keys():\n",
    "            break\n",
    "        page_key = response['result']['pageKey']\n",
    "\n",
    "    return all_txes"
   ],
   "metadata": {
    "collapsed": false,
    "pycharm": {
     "name": "#%%\n"
    }
   }
  },
  {
   "cell_type": "code",
   "execution_count": 4,
   "outputs": [],
   "source": [
    "pool_addr = \"0xbEbc44782C7dB0a1A60Cb6fe97d0b483032FF1C7\"\n",
    "with open(\"./3pool.json\", 'r') as f:\n",
    "    abi = json.load(f)\n",
    "contract = web3.eth.contract(address=pool_addr, abi=abi)"
   ],
   "metadata": {
    "collapsed": false,
    "pycharm": {
     "name": "#%%\n"
    }
   }
  },
  {
   "cell_type": "code",
   "execution_count": 5,
   "outputs": [],
   "source": [
    "fraction_fee = 0.03 / 100"
   ],
   "metadata": {
    "collapsed": false,
    "pycharm": {
     "name": "#%%\n"
    }
   }
  },
  {
   "cell_type": "code",
   "execution_count": 6,
   "outputs": [],
   "source": [
    "block_ranges = [(12693255, 12733780),\n",
    "                (12733780, 12740342),\n",
    "                (12740342, 12826286),\n",
    "                (12826286, 12865685),\n",
    "                (12865685, 12960904),\n",
    "                (12960904, 12993519),\n",
    "                (12993519, 13048460),\n",
    "                (13048460, 13073420),\n",
    "                (13073420, 13182518),\n",
    "                (13182518, 13206754),\n",
    "                (13206754, 13278344),\n",
    "                (13278344, 13307602),\n",
    "                (13307602, 13360861),\n",
    "                (13360861, 13402155),\n",
    "                (13402155, 13456217),\n",
    "                (13456217, 13484749),\n",
    "                (13484749, 13541142)]"
   ],
   "metadata": {
    "collapsed": false,
    "pycharm": {
     "name": "#%%\n"
    }
   }
  },
  {
   "cell_type": "code",
   "execution_count": 7,
   "outputs": [],
   "source": [
    "fees_for_range = {}\n",
    "for (block_start, block_end) in block_ranges:\n",
    "\n",
    "    from_txes = get_lp_swaps(\n",
    "        from_address=pool_addr, to_address='', from_block=block_start, to_block=block_end\n",
    "    )\n",
    "    from_tx_hashes = [i['hash'] for i in from_txes]\n",
    "\n",
    "    to_txes = get_lp_swaps(\n",
    "        from_address='', to_address=pool_addr, from_block=block_start, to_block=block_end\n",
    "    )\n",
    "    to_tx_hashes = [i['hash'] for i in to_txes]\n",
    "\n",
    "    total_fees = 0\n",
    "    for i in to_txes:\n",
    "        # add_liquidity txes and swaps\n",
    "        out_value = i['value']\n",
    "        total_fees += i['value'] * fraction_fee\n",
    "\n",
    "    # remove liquidity imbalanced:\n",
    "    event_filter = contract.events.RemoveLiquidityImbalance.createFilter(\n",
    "        fromBlock=block_start,\n",
    "        toBlock=block_end\n",
    "    )\n",
    "    remove_liquidity_imbalanced = event_filter.get_all_entries()\n",
    "    remove_liquidity_imbalanced_tx_hash = []\n",
    "    for event in remove_liquidity_imbalanced:\n",
    "        fees = event['args']['fees']\n",
    "        total_fees += fees[0]*1e-18 + 1e-6*(fees[1] + fees[2])\n",
    "        remove_liquidity_imbalanced_tx_hash.append(event['blockHash'].hex())\n",
    "\n",
    "    # remove liquidity one:\n",
    "    for i in from_txes:\n",
    "        # if not a swap and not a tx with remove liquidity imbalance event\n",
    "        if i not in [to_txes + remove_liquidity_imbalanced_tx_hash]:\n",
    "            out_value = i['value']\n",
    "            in_value = out_value/(1-fraction_fee)\n",
    "            estimated_fees = fraction_fee*in_value\n",
    "            total_fees += estimated_fees\n",
    "\n",
    "    fees_for_range[(block_start, block_end)] = total_fees"
   ],
   "metadata": {
    "collapsed": false,
    "pycharm": {
     "name": "#%%\n"
    }
   }
  },
  {
   "cell_type": "code",
   "execution_count": 8,
   "outputs": [
    {
     "data": {
      "text/plain": "{(12693255, 12733780): 307410.7348346571,\n (12733780, 12740342): 103771.17515825875,\n (12740342, 12826286): 949705.8357643525,\n (12826286, 12865685): 508285.0047144548,\n (12865685, 12960904): 1059108.6911517421,\n (12960904, 12993519): 467215.7981490432,\n (12993519, 13048460): 751542.6233646222,\n (13048460, 13073420): 385974.7236686516,\n (13073420, 13182518): 1166879.5080928653,\n (13182518, 13206754): 369635.16680853924,\n (13206754, 13278344): 866113.3254025063,\n (13278344, 13307602): 416406.7956135295,\n (13307602, 13360861): 429318.25855426985,\n (13360861, 13402155): 726002.6644070608,\n (13402155, 13456217): 1062627.5215839637,\n (13456217, 13484749): 382623.9428388932,\n (13484749, 13541142): 802364.887326217}"
     },
     "execution_count": 8,
     "metadata": {},
     "output_type": "execute_result"
    }
   ],
   "source": [
    "fees_for_range"
   ],
   "metadata": {
    "collapsed": false,
    "pycharm": {
     "name": "#%%\n"
    }
   }
  },
  {
   "cell_type": "code",
   "execution_count": null,
   "outputs": [],
   "source": [],
   "metadata": {
    "collapsed": false,
    "pycharm": {
     "name": "#%%\n"
    }
   }
  }
 ],
 "metadata": {
  "kernelspec": {
   "display_name": "Python 3",
   "language": "python",
   "name": "python3"
  },
  "language_info": {
   "codemirror_mode": {
    "name": "ipython",
    "version": 2
   },
   "file_extension": ".py",
   "mimetype": "text/x-python",
   "name": "python",
   "nbconvert_exporter": "python",
   "pygments_lexer": "ipython2",
   "version": "2.7.6"
  }
 },
 "nbformat": 4,
 "nbformat_minor": 0
}