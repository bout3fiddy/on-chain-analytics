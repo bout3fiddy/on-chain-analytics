{
 "cells": [
  {
   "cell_type": "markdown",
   "metadata": {},
   "source": [
    "swap rates for different coin balances at certain A"
   ]
  },
  {
   "cell_type": "code",
   "execution_count": 1,
   "metadata": {},
   "outputs": [],
   "source": [
    "import sys, os\n",
    "sys.path.append(\"../../\")\n",
    "\n",
    "from utils.contract_utils import init_contract\n",
    "from utils.network_utils import configure_network\n",
    "\n",
    "import brownie\n",
    "from brownie.network import chain"
   ]
  },
  {
   "cell_type": "code",
   "execution_count": 2,
   "metadata": {},
   "outputs": [],
   "source": [
    "import pandas as pd\n",
    "import matplotlib.pyplot as plt\n",
    "import seaborn as sns\n",
    "sns.set_style(\"whitegrid\")"
   ]
  },
  {
   "cell_type": "code",
   "execution_count": 3,
   "metadata": {},
   "outputs": [
    {
     "name": "stdout",
     "output_type": "stream",
     "text": [
      "\n",
      "Launching 'ganache-cli --port 8545 --gasLimit 12000000 --accounts 10 --hardfork istanbul --mnemonic brownie --fork https://eth-mainnet.alchemyapi.io/v2/AxU0de70ONfvbD-3_pQX0wUlaBK6g3G4 --chainId 1'...\n"
     ]
    }
   ],
   "source": [
    "ALCHEMY_API_KEY = os.environ['ALCHEMY_API_KEY']\n",
    "configure_network(\n",
    "    node_provider_https=f\"https://eth-mainnet.alchemyapi.io/v2/{ALCHEMY_API_KEY}\",\n",
    "    network_name='mainnet'\n",
    ")\n",
    "brownie.network.connect('mainnet-fork')"
   ]
  },
  {
   "cell_type": "code",
   "execution_count": 4,
   "metadata": {},
   "outputs": [
    {
     "data": {
      "text/plain": "'Curve.fi Factory Plain Pool: cvxCRV'"
     },
     "execution_count": 4,
     "metadata": {},
     "output_type": "execute_result"
    }
   ],
   "source": [
    "pool_contract_addr = \"0x9D0464996170c6B9e75eED71c68B99dDEDf279e8\"  # cvxcrv pool addr\n",
    "pool_contract = init_contract(contract_addr=pool_contract_addr)\n",
    "pool_contract.name()"
   ]
  },
  {
   "cell_type": "markdown",
   "metadata": {},
   "source": [
    "# Ramp A then swap for different coin balances"
   ]
  },
  {
   "cell_type": "code",
   "execution_count": 5,
   "metadata": {},
   "outputs": [],
   "source": [
    "sender = brownie.accounts.at(init_contract(\"0xb9fc157394af804a3578134a6585c0dc9cc990d4\").admin(), force=True)"
   ]
  },
  {
   "cell_type": "code",
   "execution_count": 6,
   "metadata": {},
   "outputs": [],
   "source": [
    "future_A = int(500)\n",
    "chain.snapshot()\n",
    "t0 = chain.time()\n",
    "t1 = int(t0 + 7 * 86400)\n",
    "\n",
    "pool_contract.ramp_A(future_A, t1, {\"from\": sender})\n",
    "\n",
    "chain.sleep(t1)\n",
    "chain.mine()"
   ]
  },
  {
   "cell_type": "markdown",
   "metadata": {},
   "source": [
    "coin A to B"
   ]
  },
  {
   "cell_type": "markdown",
   "metadata": {},
   "source": [
    "disconnect."
   ]
  },
  {
   "cell_type": "code",
   "execution_count": 13,
   "metadata": {},
   "outputs": [
    {
     "name": "stdout",
     "output_type": "stream",
     "text": [
      "Terminating local RPC client...\n"
     ]
    }
   ],
   "source": [
    "brownie.network.disconnect()"
   ]
  }
 ],
 "metadata": {
  "kernelspec": {
   "display_name": "Python 3.7.10 64-bit ('venv': venv)",
   "name": "pythonjvsc74a57bd0ea544804ad94ad4b7270d2af05439f03f30e7952cca8d55759a97e338bf96f36"
  },
  "language_info": {
   "codemirror_mode": {
    "name": "ipython",
    "version": 3
   },
   "file_extension": ".py",
   "mimetype": "text/x-python",
   "name": "python",
   "nbconvert_exporter": "python",
   "pygments_lexer": "ipython3",
   "version": "3.7.10"
  },
  "metadata": {
   "interpreter": {
    "hash": "21df2f293af9707545440a88aaf24e48b342b3531ee3aea9e212c79967abcd9c"
   }
  },
  "orig_nbformat": 2
 },
 "nbformat": 4,
 "nbformat_minor": 2
}