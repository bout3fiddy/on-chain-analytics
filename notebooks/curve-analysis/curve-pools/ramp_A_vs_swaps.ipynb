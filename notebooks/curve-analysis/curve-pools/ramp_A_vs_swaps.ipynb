{
 "cells": [
  {
   "cell_type": "markdown",
   "metadata": {},
   "source": [
    "A vs swap slippage"
   ]
  },
  {
   "cell_type": "code",
   "execution_count": 1,
   "metadata": {},
   "outputs": [],
   "source": [
    "import sys, os\n",
    "sys.path.append(\"../../\")\n",
    "\n",
    "from utils.contract_utils import init_contract\n",
    "from utils.network_utils import configure_network\n",
    "\n",
    "import brownie\n",
    "from brownie.network import chain"
   ]
  },
  {
   "cell_type": "code",
   "execution_count": 2,
   "metadata": {},
   "outputs": [],
   "source": [
    "import pandas as pd\n",
    "import matplotlib.pyplot as plt\n",
    "import seaborn as sns\n",
    "sns.set_style(\"whitegrid\")"
   ]
  },
  {
   "cell_type": "code",
   "execution_count": 3,
   "metadata": {},
   "outputs": [
    {
     "name": "stdout",
     "output_type": "stream",
     "text": [
      "\n",
      "Launching 'ganache-cli --port 8545 --gasLimit 12000000 --accounts 10 --hardfork istanbul --mnemonic brownie --fork https://eth-mainnet.alchemyapi.io/v2/AxU0de70ONfvbD-3_pQX0wUlaBK6g3G4 --chainId 1'...\n"
     ]
    }
   ],
   "source": [
    "ALCHEMY_API_KEY = os.environ['ALCHEMY_API_KEY']\n",
    "configure_network(\n",
    "    node_provider_https=f\"https://eth-mainnet.alchemyapi.io/v2/{ALCHEMY_API_KEY}\",\n",
    "    network_name='mainnet'\n",
    ")\n",
    "brownie.network.connect('mainnet-fork')"
   ]
  },
  {
   "cell_type": "code",
   "execution_count": 4,
   "metadata": {},
   "outputs": [
    {
     "name": "stdout",
     "output_type": "stream",
     "text": [
      "  \u001b[0;1;35m@title \u001b[0;mStableSwap\n",
      "  \u001b[0;1;35m@notice \u001b[0;m2 coin pool implementation with no lending\n",
      "  \u001b[0;1;35m@author \u001b[0;mCurve.Fi\n",
      "  \u001b[0;1;35m@details \u001b[0;mOptimized to only support ERC20's with 18\n",
      "           decimals that return True/revert\n",
      "\n",
      "pool param details:\n",
      "initial_A: 5000\n",
      "initial_A_time: 0\n",
      "A: 50\n",
      "A_precise: 5000\n",
      "A_precision: 100\n"
     ]
    }
   ],
   "source": [
    "pool_contract_addr = \"0x9D0464996170c6B9e75eED71c68B99dDEDf279e8\"  # cvxcrv pool addr\n",
    "\n",
    "pool_contract = init_contract(contract_addr=pool_contract_addr)\n",
    "pool_info = pool_contract.info()\n",
    "\n",
    "initial_A = pool_contract.initial_A()\n",
    "initial_A_time = pool_contract.initial_A_time()\n",
    "A = pool_contract.A()\n",
    "A_precise = pool_contract.A_precise()\n",
    "A_precision = int(A_precise/A)\n",
    "\n",
    "print(f\"pool param details:\")\n",
    "print(f\"initial_A: {initial_A}\")\n",
    "print(f\"initial_A_time: {initial_A_time}\")\n",
    "print(f\"A: {A}\")\n",
    "print(f\"A_precise: {A_precise}\")\n",
    "print(f\"A_precision: {A_precision}\")"
   ]
  },
  {
   "cell_type": "code",
   "execution_count": 5,
   "metadata": {},
   "outputs": [
    {
     "data": {
      "text/plain": "'Pool ratios: Curve DAO Token: 37.08%, Convex CRV: 62.92%'"
     },
     "execution_count": 5,
     "metadata": {},
     "output_type": "execute_result"
    }
   ],
   "source": [
    "coin_0 = init_contract(pool_contract.coins(0)).name()\n",
    "coin_1 = init_contract(pool_contract.coins(1)).name()\n",
    "\n",
    "pool_balances = pool_contract.get_balances()\n",
    "total_coins = (pool_balances[1]+pool_balances[0])\n",
    "\n",
    "coin_perc_string = f\"Pool ratios: {coin_0}: {round(pool_balances[0]/total_coins * 100, 2)}%, {coin_1}: {round(pool_balances[1]/total_coins * 100, 2)}%\"\n",
    "\n",
    "coin_perc_string"
   ]
  },
  {
   "cell_type": "markdown",
   "metadata": {},
   "source": [
    "# Swap rates as a function of A"
   ]
  },
  {
   "cell_type": "code",
   "execution_count": 6,
   "metadata": {},
   "outputs": [],
   "source": [
    "sender = brownie.accounts.at(init_contract(\"0xb9fc157394af804a3578134a6585c0dc9cc990d4\").admin(), force=True)"
   ]
  },
  {
   "cell_type": "code",
   "execution_count": 7,
   "metadata": {},
   "outputs": [],
   "source": [
    "dx = 10000 * 1e18"
   ]
  },
  {
   "cell_type": "code",
   "execution_count": 8,
   "metadata": {},
   "outputs": [],
   "source": [
    "future_A = int(500)\n",
    "A_ramp_steps = int(10)\n",
    "A_params_simulation = list(range(A, future_A+A_ramp_steps, A_ramp_steps))"
   ]
  },
  {
   "cell_type": "markdown",
   "metadata": {},
   "source": [
    "coin A to B"
   ]
  },
  {
   "cell_type": "markdown",
   "metadata": {},
   "source": [
    "make snapshot of chain first:"
   ]
  },
  {
   "cell_type": "code",
   "execution_count": 9,
   "metadata": {},
   "outputs": [],
   "source": [
    "chain.snapshot()\n",
    "t0 = chain.time()\n",
    "t1 = int(t0 + 7 * 86400)"
   ]
  },
  {
   "cell_type": "code",
   "execution_count": 10,
   "metadata": {},
   "outputs": [
    {
     "name": "stdout",
     "output_type": "stream",
     "text": [
      "Transaction sent: \u001b[0;1;34m0x26b5cc62fe67a8622a472f4399d7a43a5f3ce4f7c99eb9e8aa27c074af374723\u001b[0;m\n",
      "  Gas price: \u001b[0;1;34m0.0\u001b[0;m gwei   Gas limit: \u001b[0;1;34m12000000\u001b[0;m   Nonce: \u001b[0;1;34m900\u001b[0;m\n",
      "  Vyper_contract.ramp_A confirmed   Block: \u001b[0;1;34m13270828\u001b[0;m   Gas used: \u001b[0;1;34m72974\u001b[0;m (\u001b[0;1;34m0.61%\u001b[0;m)\n",
      "\n",
      "Transaction sent: \u001b[0;1;34m0x94887bfa322a13ebf76889e84499db9b6d6818b17fa46398ae169899f9760830\u001b[0;m\n",
      "  Gas price: \u001b[0;1;34m0.0\u001b[0;m gwei   Gas limit: \u001b[0;1;34m12000000\u001b[0;m   Nonce: \u001b[0;1;34m900\u001b[0;m\n",
      "  Vyper_contract.ramp_A confirmed   Block: \u001b[0;1;34m13270828\u001b[0;m   Gas used: \u001b[0;1;34m77174\u001b[0;m (\u001b[0;1;34m0.64%\u001b[0;m)\n",
      "\n",
      "Transaction sent: \u001b[0;1;34m0xda56da9a371619ec67de0c35455c3380c881ee13cc4ba5178e6b74f1e2e09019\u001b[0;m\n",
      "  Gas price: \u001b[0;1;34m0.0\u001b[0;m gwei   Gas limit: \u001b[0;1;34m12000000\u001b[0;m   Nonce: \u001b[0;1;34m900\u001b[0;m\n",
      "  Vyper_contract.ramp_A confirmed   Block: \u001b[0;1;34m13270828\u001b[0;m   Gas used: \u001b[0;1;34m77174\u001b[0;m (\u001b[0;1;34m0.64%\u001b[0;m)\n",
      "\n",
      "Transaction sent: \u001b[0;1;34m0x11cfc4f6fd9f81bcc56493651982fca0aa0ad2db4ae569306b356d81950ef3cd\u001b[0;m\n",
      "  Gas price: \u001b[0;1;34m0.0\u001b[0;m gwei   Gas limit: \u001b[0;1;34m12000000\u001b[0;m   Nonce: \u001b[0;1;34m900\u001b[0;m\n",
      "  Vyper_contract.ramp_A confirmed   Block: \u001b[0;1;34m13270828\u001b[0;m   Gas used: \u001b[0;1;34m77174\u001b[0;m (\u001b[0;1;34m0.64%\u001b[0;m)\n",
      "\n",
      "Transaction sent: \u001b[0;1;34m0x33f323399dc7739b014f9cd566f3dfcc935b5bd9084407f327d250add0ac67f5\u001b[0;m\n",
      "  Gas price: \u001b[0;1;34m0.0\u001b[0;m gwei   Gas limit: \u001b[0;1;34m12000000\u001b[0;m   Nonce: \u001b[0;1;34m900\u001b[0;m\n",
      "  Vyper_contract.ramp_A confirmed   Block: \u001b[0;1;34m13270828\u001b[0;m   Gas used: \u001b[0;1;34m77174\u001b[0;m (\u001b[0;1;34m0.64%\u001b[0;m)\n",
      "\n",
      "Transaction sent: \u001b[0;1;34m0x38551edd8d5e305a5e1d1d907a2032271037f8b36dd9e175d462ef8816a52850\u001b[0;m\n",
      "  Gas price: \u001b[0;1;34m0.0\u001b[0;m gwei   Gas limit: \u001b[0;1;34m12000000\u001b[0;m   Nonce: \u001b[0;1;34m900\u001b[0;m\n",
      "  Vyper_contract.ramp_A confirmed   Block: \u001b[0;1;34m13270828\u001b[0;m   Gas used: \u001b[0;1;34m77174\u001b[0;m (\u001b[0;1;34m0.64%\u001b[0;m)\n",
      "\n",
      "Transaction sent: \u001b[0;1;34m0xb5d856b57ef3573c06aee23cbfc569d04373f02a1e1808b8a0eaa3b54e8ad378\u001b[0;m\n",
      "  Gas price: \u001b[0;1;34m0.0\u001b[0;m gwei   Gas limit: \u001b[0;1;34m12000000\u001b[0;m   Nonce: \u001b[0;1;34m900\u001b[0;m\n",
      "  Vyper_contract.ramp_A confirmed   Block: \u001b[0;1;34m13270828\u001b[0;m   Gas used: \u001b[0;1;34m77174\u001b[0;m (\u001b[0;1;34m0.64%\u001b[0;m)\n",
      "\n",
      "Transaction sent: \u001b[0;1;34m0xcd31486aec1c4d463afa46d55ebd2be1a6106cbabce2b0779c9e0e5885e04315\u001b[0;m\n",
      "  Gas price: \u001b[0;1;34m0.0\u001b[0;m gwei   Gas limit: \u001b[0;1;34m12000000\u001b[0;m   Nonce: \u001b[0;1;34m900\u001b[0;m\n",
      "  Vyper_contract.ramp_A confirmed   Block: \u001b[0;1;34m13270828\u001b[0;m   Gas used: \u001b[0;1;34m77174\u001b[0;m (\u001b[0;1;34m0.64%\u001b[0;m)\n",
      "\n",
      "Transaction sent: \u001b[0;1;34m0xaf9f601f895d67924c3c1e8cf90b3873d4023981be055551c2b8e8be5ab09496\u001b[0;m\n",
      "  Gas price: \u001b[0;1;34m0.0\u001b[0;m gwei   Gas limit: \u001b[0;1;34m12000000\u001b[0;m   Nonce: \u001b[0;1;34m900\u001b[0;m\n",
      "  Vyper_contract.ramp_A confirmed   Block: \u001b[0;1;34m13270828\u001b[0;m   Gas used: \u001b[0;1;34m77174\u001b[0;m (\u001b[0;1;34m0.64%\u001b[0;m)\n",
      "\n",
      "Transaction sent: \u001b[0;1;34m0x97cbafae3bdf22b1bbad0c35a84d41bec62df44009893ceb47a2e017fbda13d8\u001b[0;m\n",
      "  Gas price: \u001b[0;1;34m0.0\u001b[0;m gwei   Gas limit: \u001b[0;1;34m12000000\u001b[0;m   Nonce: \u001b[0;1;34m900\u001b[0;m\n",
      "  Vyper_contract.ramp_A confirmed   Block: \u001b[0;1;34m13270828\u001b[0;m   Gas used: \u001b[0;1;34m77174\u001b[0;m (\u001b[0;1;34m0.64%\u001b[0;m)\n",
      "\n",
      "Transaction sent: \u001b[0;1;34m0x7f9009c618d38a4cd53333df003e0523cccf683531458bc85bee7acdb1e5e718\u001b[0;m\n",
      "  Gas price: \u001b[0;1;34m0.0\u001b[0;m gwei   Gas limit: \u001b[0;1;34m12000000\u001b[0;m   Nonce: \u001b[0;1;34m900\u001b[0;m\n",
      "  Vyper_contract.ramp_A confirmed   Block: \u001b[0;1;34m13270828\u001b[0;m   Gas used: \u001b[0;1;34m77174\u001b[0;m (\u001b[0;1;34m0.64%\u001b[0;m)\n",
      "\n",
      "Transaction sent: \u001b[0;1;34m0x87bd4e138e4fcd1611bdc9710fcf50430821f41c5b357788cd5bbfbdfe1cba0a\u001b[0;m\n",
      "  Gas price: \u001b[0;1;34m0.0\u001b[0;m gwei   Gas limit: \u001b[0;1;34m12000000\u001b[0;m   Nonce: \u001b[0;1;34m900\u001b[0;m\n",
      "  Vyper_contract.ramp_A confirmed   Block: \u001b[0;1;34m13270828\u001b[0;m   Gas used: \u001b[0;1;34m77174\u001b[0;m (\u001b[0;1;34m0.64%\u001b[0;m)\n",
      "\n",
      "Transaction sent: \u001b[0;1;34m0x1a2b52a1d35101e450ce655f155477600af74e173bceb2b2d01557b912b62ede\u001b[0;m\n",
      "  Gas price: \u001b[0;1;34m0.0\u001b[0;m gwei   Gas limit: \u001b[0;1;34m12000000\u001b[0;m   Nonce: \u001b[0;1;34m900\u001b[0;m\n",
      "  Vyper_contract.ramp_A confirmed   Block: \u001b[0;1;34m13270828\u001b[0;m   Gas used: \u001b[0;1;34m77174\u001b[0;m (\u001b[0;1;34m0.64%\u001b[0;m)\n",
      "\n",
      "Transaction sent: \u001b[0;1;34m0xf9a173d98bd05bcfd41bd8b403e665f7ee13a453fd7cf9b2f1e1be42a44bf448\u001b[0;m\n",
      "  Gas price: \u001b[0;1;34m0.0\u001b[0;m gwei   Gas limit: \u001b[0;1;34m12000000\u001b[0;m   Nonce: \u001b[0;1;34m900\u001b[0;m\n",
      "  Vyper_contract.ramp_A confirmed   Block: \u001b[0;1;34m13270828\u001b[0;m   Gas used: \u001b[0;1;34m77174\u001b[0;m (\u001b[0;1;34m0.64%\u001b[0;m)\n",
      "\n",
      "Transaction sent: \u001b[0;1;34m0x113cc5bc275dbf9a82181dad99e65308a6fdd495610cceff19b7d19648f78eae\u001b[0;m\n",
      "  Gas price: \u001b[0;1;34m0.0\u001b[0;m gwei   Gas limit: \u001b[0;1;34m12000000\u001b[0;m   Nonce: \u001b[0;1;34m900\u001b[0;m\n",
      "  Vyper_contract.ramp_A confirmed   Block: \u001b[0;1;34m13270828\u001b[0;m   Gas used: \u001b[0;1;34m77174\u001b[0;m (\u001b[0;1;34m0.64%\u001b[0;m)\n",
      "\n",
      "Transaction sent: \u001b[0;1;34m0x1dc1c169f95c0dab0db28645c3fa0bdc346ee48c165148b8764f9cfc391d1900\u001b[0;m\n",
      "  Gas price: \u001b[0;1;34m0.0\u001b[0;m gwei   Gas limit: \u001b[0;1;34m12000000\u001b[0;m   Nonce: \u001b[0;1;34m900\u001b[0;m\n",
      "  Vyper_contract.ramp_A confirmed   Block: \u001b[0;1;34m13270828\u001b[0;m   Gas used: \u001b[0;1;34m77174\u001b[0;m (\u001b[0;1;34m0.64%\u001b[0;m)\n",
      "\n",
      "Transaction sent: \u001b[0;1;34m0x8ede2698b1b4185c1cf7692b2eb458d4da379972fb931da4787db5c1cd067160\u001b[0;m\n",
      "  Gas price: \u001b[0;1;34m0.0\u001b[0;m gwei   Gas limit: \u001b[0;1;34m12000000\u001b[0;m   Nonce: \u001b[0;1;34m900\u001b[0;m\n",
      "  Vyper_contract.ramp_A confirmed   Block: \u001b[0;1;34m13270828\u001b[0;m   Gas used: \u001b[0;1;34m77174\u001b[0;m (\u001b[0;1;34m0.64%\u001b[0;m)\n",
      "\n",
      "Transaction sent: \u001b[0;1;34m0xa1d77d4c8c9272e0ec0c1f60a96c9995fd17140914cdde05da4872972b48d55b\u001b[0;m\n",
      "  Gas price: \u001b[0;1;34m0.0\u001b[0;m gwei   Gas limit: \u001b[0;1;34m12000000\u001b[0;m   Nonce: \u001b[0;1;34m900\u001b[0;m\n",
      "  Vyper_contract.ramp_A confirmed   Block: \u001b[0;1;34m13270828\u001b[0;m   Gas used: \u001b[0;1;34m77174\u001b[0;m (\u001b[0;1;34m0.64%\u001b[0;m)\n",
      "\n",
      "Transaction sent: \u001b[0;1;34m0x3d2513e22daa28538bbb31be0b273625231090671186c550ac6f4ddf63b21f29\u001b[0;m\n",
      "  Gas price: \u001b[0;1;34m0.0\u001b[0;m gwei   Gas limit: \u001b[0;1;34m12000000\u001b[0;m   Nonce: \u001b[0;1;34m900\u001b[0;m\n",
      "  Vyper_contract.ramp_A confirmed   Block: \u001b[0;1;34m13270828\u001b[0;m   Gas used: \u001b[0;1;34m77174\u001b[0;m (\u001b[0;1;34m0.64%\u001b[0;m)\n",
      "\n",
      "Transaction sent: \u001b[0;1;34m0xc4ea5927e5faa67c3c5aa20e51852a968b1c36d76171a4c490e0f35cc5bb9a0d\u001b[0;m\n",
      "  Gas price: \u001b[0;1;34m0.0\u001b[0;m gwei   Gas limit: \u001b[0;1;34m12000000\u001b[0;m   Nonce: \u001b[0;1;34m900\u001b[0;m\n",
      "  Vyper_contract.ramp_A confirmed   Block: \u001b[0;1;34m13270828\u001b[0;m   Gas used: \u001b[0;1;34m77174\u001b[0;m (\u001b[0;1;34m0.64%\u001b[0;m)\n",
      "\n",
      "Transaction sent: \u001b[0;1;34m0xae81c0a01118cad6aeeea93d9d7386cb738a1243b25a4fc7dc78893f302432f3\u001b[0;m\n",
      "  Gas price: \u001b[0;1;34m0.0\u001b[0;m gwei   Gas limit: \u001b[0;1;34m12000000\u001b[0;m   Nonce: \u001b[0;1;34m900\u001b[0;m\n",
      "  Vyper_contract.ramp_A confirmed   Block: \u001b[0;1;34m13270828\u001b[0;m   Gas used: \u001b[0;1;34m77174\u001b[0;m (\u001b[0;1;34m0.64%\u001b[0;m)\n",
      "\n",
      "Transaction sent: \u001b[0;1;34m0x833e6a01a8b084426babce0f40f5491552ba5a47e481778e3c6225603c7f0a13\u001b[0;m\n",
      "  Gas price: \u001b[0;1;34m0.0\u001b[0;m gwei   Gas limit: \u001b[0;1;34m12000000\u001b[0;m   Nonce: \u001b[0;1;34m900\u001b[0;m\n",
      "  Vyper_contract.ramp_A confirmed   Block: \u001b[0;1;34m13270828\u001b[0;m   Gas used: \u001b[0;1;34m77186\u001b[0;m (\u001b[0;1;34m0.64%\u001b[0;m)\n",
      "\n",
      "Transaction sent: \u001b[0;1;34m0x5e8cc183da9e47c61dee90a4e7464a3860d436a63f5e40370815cd6326d7c20f\u001b[0;m\n",
      "  Gas price: \u001b[0;1;34m0.0\u001b[0;m gwei   Gas limit: \u001b[0;1;34m12000000\u001b[0;m   Nonce: \u001b[0;1;34m900\u001b[0;m\n",
      "  Vyper_contract.ramp_A confirmed   Block: \u001b[0;1;34m13270828\u001b[0;m   Gas used: \u001b[0;1;34m77186\u001b[0;m (\u001b[0;1;34m0.64%\u001b[0;m)\n",
      "\n",
      "Transaction sent: \u001b[0;1;34m0xa2cac5ebf1ab67d50506aff21a4af6ac243b29d8997b54b689c2383485f06d19\u001b[0;m\n",
      "  Gas price: \u001b[0;1;34m0.0\u001b[0;m gwei   Gas limit: \u001b[0;1;34m12000000\u001b[0;m   Nonce: \u001b[0;1;34m900\u001b[0;m\n",
      "  Vyper_contract.ramp_A confirmed   Block: \u001b[0;1;34m13270828\u001b[0;m   Gas used: \u001b[0;1;34m77186\u001b[0;m (\u001b[0;1;34m0.64%\u001b[0;m)\n",
      "\n",
      "Transaction sent: \u001b[0;1;34m0x640e9b70a4576d36d91b31693340d8bc0c5c5da41160785730343345def54b77\u001b[0;m\n",
      "  Gas price: \u001b[0;1;34m0.0\u001b[0;m gwei   Gas limit: \u001b[0;1;34m12000000\u001b[0;m   Nonce: \u001b[0;1;34m900\u001b[0;m\n",
      "  Vyper_contract.ramp_A confirmed   Block: \u001b[0;1;34m13270828\u001b[0;m   Gas used: \u001b[0;1;34m77186\u001b[0;m (\u001b[0;1;34m0.64%\u001b[0;m)\n",
      "\n",
      "Transaction sent: \u001b[0;1;34m0x108a17344c149637fe811f65101e68efb8e6dc45d17150c73af85acfcdf52fb9\u001b[0;m\n",
      "  Gas price: \u001b[0;1;34m0.0\u001b[0;m gwei   Gas limit: \u001b[0;1;34m12000000\u001b[0;m   Nonce: \u001b[0;1;34m900\u001b[0;m\n",
      "  Vyper_contract.ramp_A confirmed   Block: \u001b[0;1;34m13270828\u001b[0;m   Gas used: \u001b[0;1;34m77186\u001b[0;m (\u001b[0;1;34m0.64%\u001b[0;m)\n",
      "\n",
      "Transaction sent: \u001b[0;1;34m0x6dbc0d374ef623c9a76812eeba1dd1d6d26a5b7ca785f439e1f4244e08503033\u001b[0;m\n",
      "  Gas price: \u001b[0;1;34m0.0\u001b[0;m gwei   Gas limit: \u001b[0;1;34m12000000\u001b[0;m   Nonce: \u001b[0;1;34m900\u001b[0;m\n",
      "  Vyper_contract.ramp_A confirmed   Block: \u001b[0;1;34m13270828\u001b[0;m   Gas used: \u001b[0;1;34m77186\u001b[0;m (\u001b[0;1;34m0.64%\u001b[0;m)\n",
      "\n",
      "Transaction sent: \u001b[0;1;34m0xa44e1a4dba917d2ecfb9683b8a8cc6c572c201090286f11b8b3da11801535a76\u001b[0;m\n",
      "  Gas price: \u001b[0;1;34m0.0\u001b[0;m gwei   Gas limit: \u001b[0;1;34m12000000\u001b[0;m   Nonce: \u001b[0;1;34m900\u001b[0;m\n",
      "  Vyper_contract.ramp_A confirmed   Block: \u001b[0;1;34m13270828\u001b[0;m   Gas used: \u001b[0;1;34m77186\u001b[0;m (\u001b[0;1;34m0.64%\u001b[0;m)\n",
      "\n",
      "Transaction sent: \u001b[0;1;34m0xc8b846a6ec05c3bfb3dc2ea2aa20f3c224037b5078ba8fc7f14a0944342e00d4\u001b[0;m\n",
      "  Gas price: \u001b[0;1;34m0.0\u001b[0;m gwei   Gas limit: \u001b[0;1;34m12000000\u001b[0;m   Nonce: \u001b[0;1;34m900\u001b[0;m\n",
      "  Vyper_contract.ramp_A confirmed   Block: \u001b[0;1;34m13270828\u001b[0;m   Gas used: \u001b[0;1;34m77186\u001b[0;m (\u001b[0;1;34m0.64%\u001b[0;m)\n",
      "\n",
      "Transaction sent: \u001b[0;1;34m0x8c952c9a0dbec5b22b3a29c6f4435a1393c41791dae1cfab29af15722dfe3127\u001b[0;m\n",
      "  Gas price: \u001b[0;1;34m0.0\u001b[0;m gwei   Gas limit: \u001b[0;1;34m12000000\u001b[0;m   Nonce: \u001b[0;1;34m900\u001b[0;m\n",
      "  Vyper_contract.ramp_A confirmed   Block: \u001b[0;1;34m13270828\u001b[0;m   Gas used: \u001b[0;1;34m77186\u001b[0;m (\u001b[0;1;34m0.64%\u001b[0;m)\n",
      "\n",
      "Transaction sent: \u001b[0;1;34m0x378dfb5cb01a08cc2d6f63eda1dab9fb91d0ac29358c080d11340ba271a41fc5\u001b[0;m\n",
      "  Gas price: \u001b[0;1;34m0.0\u001b[0;m gwei   Gas limit: \u001b[0;1;34m12000000\u001b[0;m   Nonce: \u001b[0;1;34m900\u001b[0;m\n",
      "  Vyper_contract.ramp_A confirmed   Block: \u001b[0;1;34m13270828\u001b[0;m   Gas used: \u001b[0;1;34m77186\u001b[0;m (\u001b[0;1;34m0.64%\u001b[0;m)\n",
      "\n",
      "Transaction sent: \u001b[0;1;34m0x063a922c2075b7f7649483beaad0716fec7f8ac491f4dc9fe0b819c7feef6eb6\u001b[0;m\n",
      "  Gas price: \u001b[0;1;34m0.0\u001b[0;m gwei   Gas limit: \u001b[0;1;34m12000000\u001b[0;m   Nonce: \u001b[0;1;34m900\u001b[0;m\n",
      "  Vyper_contract.ramp_A confirmed   Block: \u001b[0;1;34m13270828\u001b[0;m   Gas used: \u001b[0;1;34m77186\u001b[0;m (\u001b[0;1;34m0.64%\u001b[0;m)\n",
      "\n",
      "Transaction sent: \u001b[0;1;34m0xd58b4d6d46f474ccd1dd1fe58f9728c808ed3ba10847ee83abe7bb29fd5fba37\u001b[0;m\n",
      "  Gas price: \u001b[0;1;34m0.0\u001b[0;m gwei   Gas limit: \u001b[0;1;34m12000000\u001b[0;m   Nonce: \u001b[0;1;34m900\u001b[0;m\n",
      "  Vyper_contract.ramp_A confirmed   Block: \u001b[0;1;34m13270828\u001b[0;m   Gas used: \u001b[0;1;34m77186\u001b[0;m (\u001b[0;1;34m0.64%\u001b[0;m)\n",
      "\n",
      "Transaction sent: \u001b[0;1;34m0xc68f48e7d9a894e6f015f06f05356a9b6e30f5ea5c1c928d6117ed91334c2beb\u001b[0;m\n",
      "  Gas price: \u001b[0;1;34m0.0\u001b[0;m gwei   Gas limit: \u001b[0;1;34m12000000\u001b[0;m   Nonce: \u001b[0;1;34m900\u001b[0;m\n",
      "  Vyper_contract.ramp_A confirmed   Block: \u001b[0;1;34m13270828\u001b[0;m   Gas used: \u001b[0;1;34m77186\u001b[0;m (\u001b[0;1;34m0.64%\u001b[0;m)\n",
      "\n",
      "Transaction sent: \u001b[0;1;34m0x6252f6bcbf283b2f34324bf0696f909ac5ec84b04db42b30ad1328bbf7d174d0\u001b[0;m\n",
      "  Gas price: \u001b[0;1;34m0.0\u001b[0;m gwei   Gas limit: \u001b[0;1;34m12000000\u001b[0;m   Nonce: \u001b[0;1;34m900\u001b[0;m\n",
      "  Vyper_contract.ramp_A confirmed   Block: \u001b[0;1;34m13270828\u001b[0;m   Gas used: \u001b[0;1;34m77186\u001b[0;m (\u001b[0;1;34m0.64%\u001b[0;m)\n",
      "\n",
      "Transaction sent: \u001b[0;1;34m0x4529eba801b4a49a21ada356a214117c6b73d24b970e0fee2f306eb8e3a9a3a8\u001b[0;m\n",
      "  Gas price: \u001b[0;1;34m0.0\u001b[0;m gwei   Gas limit: \u001b[0;1;34m12000000\u001b[0;m   Nonce: \u001b[0;1;34m900\u001b[0;m\n",
      "  Vyper_contract.ramp_A confirmed   Block: \u001b[0;1;34m13270828\u001b[0;m   Gas used: \u001b[0;1;34m77186\u001b[0;m (\u001b[0;1;34m0.64%\u001b[0;m)\n",
      "\n",
      "Transaction sent: \u001b[0;1;34m0xdf183ca041f40a368bd4c187115234a7832fdb0cc0ba84086898c335e81edb1d\u001b[0;m\n",
      "  Gas price: \u001b[0;1;34m0.0\u001b[0;m gwei   Gas limit: \u001b[0;1;34m12000000\u001b[0;m   Nonce: \u001b[0;1;34m900\u001b[0;m\n",
      "  Vyper_contract.ramp_A confirmed   Block: \u001b[0;1;34m13270828\u001b[0;m   Gas used: \u001b[0;1;34m77186\u001b[0;m (\u001b[0;1;34m0.64%\u001b[0;m)\n",
      "\n",
      "Transaction sent: \u001b[0;1;34m0xe5417c841959f81d4c95fae8697c46a1cf3f6ddbeb165aed1da6816e49237124\u001b[0;m\n",
      "  Gas price: \u001b[0;1;34m0.0\u001b[0;m gwei   Gas limit: \u001b[0;1;34m12000000\u001b[0;m   Nonce: \u001b[0;1;34m900\u001b[0;m\n",
      "  Vyper_contract.ramp_A confirmed   Block: \u001b[0;1;34m13270828\u001b[0;m   Gas used: \u001b[0;1;34m77186\u001b[0;m (\u001b[0;1;34m0.64%\u001b[0;m)\n",
      "\n",
      "Transaction sent: \u001b[0;1;34m0x96446a9aa07d5e0bfac2ab4bcb2f6c2be625be97420012f7abd1201ff333a284\u001b[0;m\n",
      "  Gas price: \u001b[0;1;34m0.0\u001b[0;m gwei   Gas limit: \u001b[0;1;34m12000000\u001b[0;m   Nonce: \u001b[0;1;34m900\u001b[0;m\n",
      "  Vyper_contract.ramp_A confirmed   Block: \u001b[0;1;34m13270828\u001b[0;m   Gas used: \u001b[0;1;34m77186\u001b[0;m (\u001b[0;1;34m0.64%\u001b[0;m)\n",
      "\n",
      "Transaction sent: \u001b[0;1;34m0x03eba1779373eab7719e3259078ca368331027b85119df7e0d29a683ee828dae\u001b[0;m\n",
      "  Gas price: \u001b[0;1;34m0.0\u001b[0;m gwei   Gas limit: \u001b[0;1;34m12000000\u001b[0;m   Nonce: \u001b[0;1;34m900\u001b[0;m\n",
      "  Vyper_contract.ramp_A confirmed   Block: \u001b[0;1;34m13270828\u001b[0;m   Gas used: \u001b[0;1;34m77186\u001b[0;m (\u001b[0;1;34m0.64%\u001b[0;m)\n",
      "\n",
      "Transaction sent: \u001b[0;1;34m0x3b7f21509c1e428cb91a5e0dba1a4ed541869c8e5f716a6481bded395a6336f6\u001b[0;m\n",
      "  Gas price: \u001b[0;1;34m0.0\u001b[0;m gwei   Gas limit: \u001b[0;1;34m12000000\u001b[0;m   Nonce: \u001b[0;1;34m900\u001b[0;m\n",
      "  Vyper_contract.ramp_A confirmed   Block: \u001b[0;1;34m13270828\u001b[0;m   Gas used: \u001b[0;1;34m77186\u001b[0;m (\u001b[0;1;34m0.64%\u001b[0;m)\n",
      "\n",
      "Transaction sent: \u001b[0;1;34m0x793ba3752d08eec9914514340bf85cb6e5d625efb601dd22ec5c3aa456fcdee0\u001b[0;m\n",
      "  Gas price: \u001b[0;1;34m0.0\u001b[0;m gwei   Gas limit: \u001b[0;1;34m12000000\u001b[0;m   Nonce: \u001b[0;1;34m900\u001b[0;m\n",
      "  Vyper_contract.ramp_A confirmed   Block: \u001b[0;1;34m13270828\u001b[0;m   Gas used: \u001b[0;1;34m77186\u001b[0;m (\u001b[0;1;34m0.64%\u001b[0;m)\n",
      "\n",
      "Transaction sent: \u001b[0;1;34m0xf63814325cce762c95b5d2759c3a6d1c2a3c49daaa743853ca2d90865c8627ab\u001b[0;m\n",
      "  Gas price: \u001b[0;1;34m0.0\u001b[0;m gwei   Gas limit: \u001b[0;1;34m12000000\u001b[0;m   Nonce: \u001b[0;1;34m900\u001b[0;m\n",
      "  Vyper_contract.ramp_A confirmed   Block: \u001b[0;1;34m13270828\u001b[0;m   Gas used: \u001b[0;1;34m77186\u001b[0;m (\u001b[0;1;34m0.64%\u001b[0;m)\n",
      "\n",
      "Transaction sent: \u001b[0;1;34m0xad65b4371752bff1d81246a2aa1cc25f8ec231cae489e442509b98099c9a0350\u001b[0;m\n",
      "  Gas price: \u001b[0;1;34m0.0\u001b[0;m gwei   Gas limit: \u001b[0;1;34m12000000\u001b[0;m   Nonce: \u001b[0;1;34m900\u001b[0;m\n",
      "  Vyper_contract.ramp_A confirmed   Block: \u001b[0;1;34m13270828\u001b[0;m   Gas used: \u001b[0;1;34m77186\u001b[0;m (\u001b[0;1;34m0.64%\u001b[0;m)\n",
      "\n",
      "Transaction sent: \u001b[0;1;34m0x14bf8e1da7cde7c227bc3524a6a72279396633e61b1cf0b1a7b69d31ec2fdc82\u001b[0;m\n",
      "  Gas price: \u001b[0;1;34m0.0\u001b[0;m gwei   Gas limit: \u001b[0;1;34m12000000\u001b[0;m   Nonce: \u001b[0;1;34m900\u001b[0;m\n",
      "  Vyper_contract.ramp_A confirmed   Block: \u001b[0;1;34m13270828\u001b[0;m   Gas used: \u001b[0;1;34m77186\u001b[0;m (\u001b[0;1;34m0.64%\u001b[0;m)\n",
      "\n",
      "Transaction sent: \u001b[0;1;34m0x987e30949f428e8b323aebe1dfa7d095586748d2ccc0212b057ce333ea5b8d0f\u001b[0;m\n",
      "  Gas price: \u001b[0;1;34m0.0\u001b[0;m gwei   Gas limit: \u001b[0;1;34m12000000\u001b[0;m   Nonce: \u001b[0;1;34m900\u001b[0;m\n",
      "  Vyper_contract.ramp_A confirmed   Block: \u001b[0;1;34m13270828\u001b[0;m   Gas used: \u001b[0;1;34m77186\u001b[0;m (\u001b[0;1;34m0.64%\u001b[0;m)\n",
      "\n"
     ]
    },
    {
     "data": {
      "text/plain": "[10101147488225433060420,\n 10082092864432003627980,\n 10068409260855919662621,\n 10058106233733718603058,\n 10050068732023823206639,\n 10043623519201598733704,\n 10038340069764961959796,\n 10033930235508327081227,\n 10030193883361883890911,\n 10026987673976959396820,\n 10024206250081629953199,\n 10021770437436450080571,\n 10019619586934366254667,\n 10017706455879466630008,\n 10015993697627397645359,\n 10014451399332061084116,\n 10013055320009593620019,\n 10011785607053661802778,\n 10010625846188211394144,\n 10009562347990388732189,\n 10008583604996019743062,\n 10007679873629652990356,\n 10006842848711329666666,\n 10006065407474598775208,\n 10005341406372302662818,\n 10004665518392097910053,\n 10004033101762467691427,\n 10003440093203006132788,\n 10002882920527652844926,\n 10002358430627619597251,\n 10001863829766451096164,\n 10001396633799536190813,\n 10000954626445311345947,\n 10000535824128673638489,\n 10000138446219861958170,\n 9999760889726852084564,\n 9999401707682679584577,\n 9999059590613268783995,\n 9998733350585403394615,\n 9998421907425252387752,\n 9998124276770525611583,\n 9997839559677807785820,\n 9997566933553919206758,\n 9997305644218600138181,\n 9997054998937216269089,\n 9996814360287941744043]"
     },
     "execution_count": 10,
     "metadata": {},
     "output_type": "execute_result"
    }
   ],
   "source": [
    "swap_rates_A_to_B = []\n",
    "for amplification_factor in A_params_simulation:\n",
    "\n",
    "    pool_contract.ramp_A(amplification_factor, t1, {\"from\": sender})\n",
    "\n",
    "    chain.sleep(t1)\n",
    "    chain.mine()\n",
    "\n",
    "    dy = pool_contract.get_dy(0, 1, dx)\n",
    "\n",
    "    swap_rates_A_to_B.append(dy)\n",
    "\n",
    "    chain.revert()\n",
    "\n",
    "swap_rates_A_to_B"
   ]
  },
  {
   "cell_type": "markdown",
   "metadata": {},
   "source": [
    "coin B to A"
   ]
  },
  {
   "cell_type": "code",
   "execution_count": 11,
   "metadata": {},
   "outputs": [
    {
     "name": "stdout",
     "output_type": "stream",
     "text": [
      "Transaction sent: \u001b[0;1;34m0x26b5cc62fe67a8622a472f4399d7a43a5f3ce4f7c99eb9e8aa27c074af374723\u001b[0;m\n",
      "  Gas price: \u001b[0;1;34m0.0\u001b[0;m gwei   Gas limit: \u001b[0;1;34m12000000\u001b[0;m   Nonce: \u001b[0;1;34m900\u001b[0;m\n",
      "  Vyper_contract.ramp_A confirmed   Block: \u001b[0;1;34m13270828\u001b[0;m   Gas used: \u001b[0;1;34m72974\u001b[0;m (\u001b[0;1;34m0.61%\u001b[0;m)\n",
      "\n",
      "Transaction sent: \u001b[0;1;34m0x94887bfa322a13ebf76889e84499db9b6d6818b17fa46398ae169899f9760830\u001b[0;m\n",
      "  Gas price: \u001b[0;1;34m0.0\u001b[0;m gwei   Gas limit: \u001b[0;1;34m12000000\u001b[0;m   Nonce: \u001b[0;1;34m900\u001b[0;m\n",
      "  Vyper_contract.ramp_A confirmed   Block: \u001b[0;1;34m13270828\u001b[0;m   Gas used: \u001b[0;1;34m77174\u001b[0;m (\u001b[0;1;34m0.64%\u001b[0;m)\n",
      "\n",
      "Transaction sent: \u001b[0;1;34m0xda56da9a371619ec67de0c35455c3380c881ee13cc4ba5178e6b74f1e2e09019\u001b[0;m\n",
      "  Gas price: \u001b[0;1;34m0.0\u001b[0;m gwei   Gas limit: \u001b[0;1;34m12000000\u001b[0;m   Nonce: \u001b[0;1;34m900\u001b[0;m\n",
      "  Vyper_contract.ramp_A confirmed   Block: \u001b[0;1;34m13270828\u001b[0;m   Gas used: \u001b[0;1;34m77174\u001b[0;m (\u001b[0;1;34m0.64%\u001b[0;m)\n",
      "\n",
      "Transaction sent: \u001b[0;1;34m0x11cfc4f6fd9f81bcc56493651982fca0aa0ad2db4ae569306b356d81950ef3cd\u001b[0;m\n",
      "  Gas price: \u001b[0;1;34m0.0\u001b[0;m gwei   Gas limit: \u001b[0;1;34m12000000\u001b[0;m   Nonce: \u001b[0;1;34m900\u001b[0;m\n",
      "  Vyper_contract.ramp_A confirmed   Block: \u001b[0;1;34m13270828\u001b[0;m   Gas used: \u001b[0;1;34m77174\u001b[0;m (\u001b[0;1;34m0.64%\u001b[0;m)\n",
      "\n",
      "Transaction sent: \u001b[0;1;34m0x33f323399dc7739b014f9cd566f3dfcc935b5bd9084407f327d250add0ac67f5\u001b[0;m\n",
      "  Gas price: \u001b[0;1;34m0.0\u001b[0;m gwei   Gas limit: \u001b[0;1;34m12000000\u001b[0;m   Nonce: \u001b[0;1;34m900\u001b[0;m\n",
      "  Vyper_contract.ramp_A confirmed   Block: \u001b[0;1;34m13270828\u001b[0;m   Gas used: \u001b[0;1;34m77174\u001b[0;m (\u001b[0;1;34m0.64%\u001b[0;m)\n",
      "\n",
      "Transaction sent: \u001b[0;1;34m0x38551edd8d5e305a5e1d1d907a2032271037f8b36dd9e175d462ef8816a52850\u001b[0;m\n",
      "  Gas price: \u001b[0;1;34m0.0\u001b[0;m gwei   Gas limit: \u001b[0;1;34m12000000\u001b[0;m   Nonce: \u001b[0;1;34m900\u001b[0;m\n",
      "  Vyper_contract.ramp_A confirmed   Block: \u001b[0;1;34m13270828\u001b[0;m   Gas used: \u001b[0;1;34m77174\u001b[0;m (\u001b[0;1;34m0.64%\u001b[0;m)\n",
      "\n",
      "Transaction sent: \u001b[0;1;34m0xb5d856b57ef3573c06aee23cbfc569d04373f02a1e1808b8a0eaa3b54e8ad378\u001b[0;m\n",
      "  Gas price: \u001b[0;1;34m0.0\u001b[0;m gwei   Gas limit: \u001b[0;1;34m12000000\u001b[0;m   Nonce: \u001b[0;1;34m900\u001b[0;m\n",
      "  Vyper_contract.ramp_A confirmed   Block: \u001b[0;1;34m13270828\u001b[0;m   Gas used: \u001b[0;1;34m77174\u001b[0;m (\u001b[0;1;34m0.64%\u001b[0;m)\n",
      "\n",
      "Transaction sent: \u001b[0;1;34m0xcd31486aec1c4d463afa46d55ebd2be1a6106cbabce2b0779c9e0e5885e04315\u001b[0;m\n",
      "  Gas price: \u001b[0;1;34m0.0\u001b[0;m gwei   Gas limit: \u001b[0;1;34m12000000\u001b[0;m   Nonce: \u001b[0;1;34m900\u001b[0;m\n",
      "  Vyper_contract.ramp_A confirmed   Block: \u001b[0;1;34m13270828\u001b[0;m   Gas used: \u001b[0;1;34m77174\u001b[0;m (\u001b[0;1;34m0.64%\u001b[0;m)\n",
      "\n",
      "Transaction sent: \u001b[0;1;34m0xaf9f601f895d67924c3c1e8cf90b3873d4023981be055551c2b8e8be5ab09496\u001b[0;m\n",
      "  Gas price: \u001b[0;1;34m0.0\u001b[0;m gwei   Gas limit: \u001b[0;1;34m12000000\u001b[0;m   Nonce: \u001b[0;1;34m900\u001b[0;m\n",
      "  Vyper_contract.ramp_A confirmed   Block: \u001b[0;1;34m13270828\u001b[0;m   Gas used: \u001b[0;1;34m77174\u001b[0;m (\u001b[0;1;34m0.64%\u001b[0;m)\n",
      "\n",
      "Transaction sent: \u001b[0;1;34m0x97cbafae3bdf22b1bbad0c35a84d41bec62df44009893ceb47a2e017fbda13d8\u001b[0;m\n",
      "  Gas price: \u001b[0;1;34m0.0\u001b[0;m gwei   Gas limit: \u001b[0;1;34m12000000\u001b[0;m   Nonce: \u001b[0;1;34m900\u001b[0;m\n",
      "  Vyper_contract.ramp_A confirmed   Block: \u001b[0;1;34m13270828\u001b[0;m   Gas used: \u001b[0;1;34m77174\u001b[0;m (\u001b[0;1;34m0.64%\u001b[0;m)\n",
      "\n",
      "Transaction sent: \u001b[0;1;34m0x7f9009c618d38a4cd53333df003e0523cccf683531458bc85bee7acdb1e5e718\u001b[0;m\n",
      "  Gas price: \u001b[0;1;34m0.0\u001b[0;m gwei   Gas limit: \u001b[0;1;34m12000000\u001b[0;m   Nonce: \u001b[0;1;34m900\u001b[0;m\n",
      "  Vyper_contract.ramp_A confirmed   Block: \u001b[0;1;34m13270828\u001b[0;m   Gas used: \u001b[0;1;34m77174\u001b[0;m (\u001b[0;1;34m0.64%\u001b[0;m)\n",
      "\n",
      "Transaction sent: \u001b[0;1;34m0x87bd4e138e4fcd1611bdc9710fcf50430821f41c5b357788cd5bbfbdfe1cba0a\u001b[0;m\n",
      "  Gas price: \u001b[0;1;34m0.0\u001b[0;m gwei   Gas limit: \u001b[0;1;34m12000000\u001b[0;m   Nonce: \u001b[0;1;34m900\u001b[0;m\n",
      "  Vyper_contract.ramp_A confirmed   Block: \u001b[0;1;34m13270828\u001b[0;m   Gas used: \u001b[0;1;34m77174\u001b[0;m (\u001b[0;1;34m0.64%\u001b[0;m)\n",
      "\n",
      "Transaction sent: \u001b[0;1;34m0x1a2b52a1d35101e450ce655f155477600af74e173bceb2b2d01557b912b62ede\u001b[0;m\n",
      "  Gas price: \u001b[0;1;34m0.0\u001b[0;m gwei   Gas limit: \u001b[0;1;34m12000000\u001b[0;m   Nonce: \u001b[0;1;34m900\u001b[0;m\n",
      "  Vyper_contract.ramp_A confirmed   Block: \u001b[0;1;34m13270828\u001b[0;m   Gas used: \u001b[0;1;34m77174\u001b[0;m (\u001b[0;1;34m0.64%\u001b[0;m)\n",
      "\n",
      "Transaction sent: \u001b[0;1;34m0xf9a173d98bd05bcfd41bd8b403e665f7ee13a453fd7cf9b2f1e1be42a44bf448\u001b[0;m\n",
      "  Gas price: \u001b[0;1;34m0.0\u001b[0;m gwei   Gas limit: \u001b[0;1;34m12000000\u001b[0;m   Nonce: \u001b[0;1;34m900\u001b[0;m\n",
      "  Vyper_contract.ramp_A confirmed   Block: \u001b[0;1;34m13270828\u001b[0;m   Gas used: \u001b[0;1;34m77174\u001b[0;m (\u001b[0;1;34m0.64%\u001b[0;m)\n",
      "\n",
      "Transaction sent: \u001b[0;1;34m0x113cc5bc275dbf9a82181dad99e65308a6fdd495610cceff19b7d19648f78eae\u001b[0;m\n",
      "  Gas price: \u001b[0;1;34m0.0\u001b[0;m gwei   Gas limit: \u001b[0;1;34m12000000\u001b[0;m   Nonce: \u001b[0;1;34m900\u001b[0;m\n",
      "  Vyper_contract.ramp_A confirmed   Block: \u001b[0;1;34m13270828\u001b[0;m   Gas used: \u001b[0;1;34m77174\u001b[0;m (\u001b[0;1;34m0.64%\u001b[0;m)\n",
      "\n",
      "Transaction sent: \u001b[0;1;34m0x1dc1c169f95c0dab0db28645c3fa0bdc346ee48c165148b8764f9cfc391d1900\u001b[0;m\n",
      "  Gas price: \u001b[0;1;34m0.0\u001b[0;m gwei   Gas limit: \u001b[0;1;34m12000000\u001b[0;m   Nonce: \u001b[0;1;34m900\u001b[0;m\n",
      "  Vyper_contract.ramp_A confirmed   Block: \u001b[0;1;34m13270828\u001b[0;m   Gas used: \u001b[0;1;34m77174\u001b[0;m (\u001b[0;1;34m0.64%\u001b[0;m)\n",
      "\n",
      "Transaction sent: \u001b[0;1;34m0x8ede2698b1b4185c1cf7692b2eb458d4da379972fb931da4787db5c1cd067160\u001b[0;m\n",
      "  Gas price: \u001b[0;1;34m0.0\u001b[0;m gwei   Gas limit: \u001b[0;1;34m12000000\u001b[0;m   Nonce: \u001b[0;1;34m900\u001b[0;m\n",
      "  Vyper_contract.ramp_A confirmed   Block: \u001b[0;1;34m13270828\u001b[0;m   Gas used: \u001b[0;1;34m77174\u001b[0;m (\u001b[0;1;34m0.64%\u001b[0;m)\n",
      "\n",
      "Transaction sent: \u001b[0;1;34m0xa1d77d4c8c9272e0ec0c1f60a96c9995fd17140914cdde05da4872972b48d55b\u001b[0;m\n",
      "  Gas price: \u001b[0;1;34m0.0\u001b[0;m gwei   Gas limit: \u001b[0;1;34m12000000\u001b[0;m   Nonce: \u001b[0;1;34m900\u001b[0;m\n",
      "  Vyper_contract.ramp_A confirmed   Block: \u001b[0;1;34m13270828\u001b[0;m   Gas used: \u001b[0;1;34m77174\u001b[0;m (\u001b[0;1;34m0.64%\u001b[0;m)\n",
      "\n",
      "Transaction sent: \u001b[0;1;34m0x3d2513e22daa28538bbb31be0b273625231090671186c550ac6f4ddf63b21f29\u001b[0;m\n",
      "  Gas price: \u001b[0;1;34m0.0\u001b[0;m gwei   Gas limit: \u001b[0;1;34m12000000\u001b[0;m   Nonce: \u001b[0;1;34m900\u001b[0;m\n",
      "  Vyper_contract.ramp_A confirmed   Block: \u001b[0;1;34m13270828\u001b[0;m   Gas used: \u001b[0;1;34m77174\u001b[0;m (\u001b[0;1;34m0.64%\u001b[0;m)\n",
      "\n",
      "Transaction sent: \u001b[0;1;34m0xc4ea5927e5faa67c3c5aa20e51852a968b1c36d76171a4c490e0f35cc5bb9a0d\u001b[0;m\n",
      "  Gas price: \u001b[0;1;34m0.0\u001b[0;m gwei   Gas limit: \u001b[0;1;34m12000000\u001b[0;m   Nonce: \u001b[0;1;34m900\u001b[0;m\n",
      "  Vyper_contract.ramp_A confirmed   Block: \u001b[0;1;34m13270828\u001b[0;m   Gas used: \u001b[0;1;34m77174\u001b[0;m (\u001b[0;1;34m0.64%\u001b[0;m)\n",
      "\n",
      "Transaction sent: \u001b[0;1;34m0xae81c0a01118cad6aeeea93d9d7386cb738a1243b25a4fc7dc78893f302432f3\u001b[0;m\n",
      "  Gas price: \u001b[0;1;34m0.0\u001b[0;m gwei   Gas limit: \u001b[0;1;34m12000000\u001b[0;m   Nonce: \u001b[0;1;34m900\u001b[0;m\n",
      "  Vyper_contract.ramp_A confirmed   Block: \u001b[0;1;34m13270828\u001b[0;m   Gas used: \u001b[0;1;34m77174\u001b[0;m (\u001b[0;1;34m0.64%\u001b[0;m)\n",
      "\n",
      "Transaction sent: \u001b[0;1;34m0x833e6a01a8b084426babce0f40f5491552ba5a47e481778e3c6225603c7f0a13\u001b[0;m\n",
      "  Gas price: \u001b[0;1;34m0.0\u001b[0;m gwei   Gas limit: \u001b[0;1;34m12000000\u001b[0;m   Nonce: \u001b[0;1;34m900\u001b[0;m\n",
      "  Vyper_contract.ramp_A confirmed   Block: \u001b[0;1;34m13270828\u001b[0;m   Gas used: \u001b[0;1;34m77186\u001b[0;m (\u001b[0;1;34m0.64%\u001b[0;m)\n",
      "\n",
      "Transaction sent: \u001b[0;1;34m0x5e8cc183da9e47c61dee90a4e7464a3860d436a63f5e40370815cd6326d7c20f\u001b[0;m\n",
      "  Gas price: \u001b[0;1;34m0.0\u001b[0;m gwei   Gas limit: \u001b[0;1;34m12000000\u001b[0;m   Nonce: \u001b[0;1;34m900\u001b[0;m\n",
      "  Vyper_contract.ramp_A confirmed   Block: \u001b[0;1;34m13270828\u001b[0;m   Gas used: \u001b[0;1;34m77186\u001b[0;m (\u001b[0;1;34m0.64%\u001b[0;m)\n",
      "\n",
      "Transaction sent: \u001b[0;1;34m0xa2cac5ebf1ab67d50506aff21a4af6ac243b29d8997b54b689c2383485f06d19\u001b[0;m\n",
      "  Gas price: \u001b[0;1;34m0.0\u001b[0;m gwei   Gas limit: \u001b[0;1;34m12000000\u001b[0;m   Nonce: \u001b[0;1;34m900\u001b[0;m\n",
      "  Vyper_contract.ramp_A confirmed   Block: \u001b[0;1;34m13270828\u001b[0;m   Gas used: \u001b[0;1;34m77186\u001b[0;m (\u001b[0;1;34m0.64%\u001b[0;m)\n",
      "\n",
      "Transaction sent: \u001b[0;1;34m0x640e9b70a4576d36d91b31693340d8bc0c5c5da41160785730343345def54b77\u001b[0;m\n",
      "  Gas price: \u001b[0;1;34m0.0\u001b[0;m gwei   Gas limit: \u001b[0;1;34m12000000\u001b[0;m   Nonce: \u001b[0;1;34m900\u001b[0;m\n",
      "  Vyper_contract.ramp_A confirmed   Block: \u001b[0;1;34m13270828\u001b[0;m   Gas used: \u001b[0;1;34m77186\u001b[0;m (\u001b[0;1;34m0.64%\u001b[0;m)\n",
      "\n",
      "Transaction sent: \u001b[0;1;34m0x108a17344c149637fe811f65101e68efb8e6dc45d17150c73af85acfcdf52fb9\u001b[0;m\n",
      "  Gas price: \u001b[0;1;34m0.0\u001b[0;m gwei   Gas limit: \u001b[0;1;34m12000000\u001b[0;m   Nonce: \u001b[0;1;34m900\u001b[0;m\n",
      "  Vyper_contract.ramp_A confirmed   Block: \u001b[0;1;34m13270828\u001b[0;m   Gas used: \u001b[0;1;34m77186\u001b[0;m (\u001b[0;1;34m0.64%\u001b[0;m)\n",
      "\n",
      "Transaction sent: \u001b[0;1;34m0x6dbc0d374ef623c9a76812eeba1dd1d6d26a5b7ca785f439e1f4244e08503033\u001b[0;m\n",
      "  Gas price: \u001b[0;1;34m0.0\u001b[0;m gwei   Gas limit: \u001b[0;1;34m12000000\u001b[0;m   Nonce: \u001b[0;1;34m900\u001b[0;m\n",
      "  Vyper_contract.ramp_A confirmed   Block: \u001b[0;1;34m13270828\u001b[0;m   Gas used: \u001b[0;1;34m77186\u001b[0;m (\u001b[0;1;34m0.64%\u001b[0;m)\n",
      "\n",
      "Transaction sent: \u001b[0;1;34m0xa44e1a4dba917d2ecfb9683b8a8cc6c572c201090286f11b8b3da11801535a76\u001b[0;m\n",
      "  Gas price: \u001b[0;1;34m0.0\u001b[0;m gwei   Gas limit: \u001b[0;1;34m12000000\u001b[0;m   Nonce: \u001b[0;1;34m900\u001b[0;m\n",
      "  Vyper_contract.ramp_A confirmed   Block: \u001b[0;1;34m13270828\u001b[0;m   Gas used: \u001b[0;1;34m77186\u001b[0;m (\u001b[0;1;34m0.64%\u001b[0;m)\n",
      "\n",
      "Transaction sent: \u001b[0;1;34m0xc8b846a6ec05c3bfb3dc2ea2aa20f3c224037b5078ba8fc7f14a0944342e00d4\u001b[0;m\n",
      "  Gas price: \u001b[0;1;34m0.0\u001b[0;m gwei   Gas limit: \u001b[0;1;34m12000000\u001b[0;m   Nonce: \u001b[0;1;34m900\u001b[0;m\n",
      "  Vyper_contract.ramp_A confirmed   Block: \u001b[0;1;34m13270828\u001b[0;m   Gas used: \u001b[0;1;34m77186\u001b[0;m (\u001b[0;1;34m0.64%\u001b[0;m)\n",
      "\n",
      "Transaction sent: \u001b[0;1;34m0x8c952c9a0dbec5b22b3a29c6f4435a1393c41791dae1cfab29af15722dfe3127\u001b[0;m\n",
      "  Gas price: \u001b[0;1;34m0.0\u001b[0;m gwei   Gas limit: \u001b[0;1;34m12000000\u001b[0;m   Nonce: \u001b[0;1;34m900\u001b[0;m\n",
      "  Vyper_contract.ramp_A confirmed   Block: \u001b[0;1;34m13270828\u001b[0;m   Gas used: \u001b[0;1;34m77186\u001b[0;m (\u001b[0;1;34m0.64%\u001b[0;m)\n",
      "\n",
      "Transaction sent: \u001b[0;1;34m0x378dfb5cb01a08cc2d6f63eda1dab9fb91d0ac29358c080d11340ba271a41fc5\u001b[0;m\n",
      "  Gas price: \u001b[0;1;34m0.0\u001b[0;m gwei   Gas limit: \u001b[0;1;34m12000000\u001b[0;m   Nonce: \u001b[0;1;34m900\u001b[0;m\n",
      "  Vyper_contract.ramp_A confirmed   Block: \u001b[0;1;34m13270828\u001b[0;m   Gas used: \u001b[0;1;34m77186\u001b[0;m (\u001b[0;1;34m0.64%\u001b[0;m)\n",
      "\n",
      "Transaction sent: \u001b[0;1;34m0x063a922c2075b7f7649483beaad0716fec7f8ac491f4dc9fe0b819c7feef6eb6\u001b[0;m\n",
      "  Gas price: \u001b[0;1;34m0.0\u001b[0;m gwei   Gas limit: \u001b[0;1;34m12000000\u001b[0;m   Nonce: \u001b[0;1;34m900\u001b[0;m\n",
      "  Vyper_contract.ramp_A confirmed   Block: \u001b[0;1;34m13270828\u001b[0;m   Gas used: \u001b[0;1;34m77186\u001b[0;m (\u001b[0;1;34m0.64%\u001b[0;m)\n",
      "\n",
      "Transaction sent: \u001b[0;1;34m0xd58b4d6d46f474ccd1dd1fe58f9728c808ed3ba10847ee83abe7bb29fd5fba37\u001b[0;m\n",
      "  Gas price: \u001b[0;1;34m0.0\u001b[0;m gwei   Gas limit: \u001b[0;1;34m12000000\u001b[0;m   Nonce: \u001b[0;1;34m900\u001b[0;m\n",
      "  Vyper_contract.ramp_A confirmed   Block: \u001b[0;1;34m13270828\u001b[0;m   Gas used: \u001b[0;1;34m77186\u001b[0;m (\u001b[0;1;34m0.64%\u001b[0;m)\n",
      "\n",
      "Transaction sent: \u001b[0;1;34m0xc68f48e7d9a894e6f015f06f05356a9b6e30f5ea5c1c928d6117ed91334c2beb\u001b[0;m\n",
      "  Gas price: \u001b[0;1;34m0.0\u001b[0;m gwei   Gas limit: \u001b[0;1;34m12000000\u001b[0;m   Nonce: \u001b[0;1;34m900\u001b[0;m\n",
      "  Vyper_contract.ramp_A confirmed   Block: \u001b[0;1;34m13270828\u001b[0;m   Gas used: \u001b[0;1;34m77186\u001b[0;m (\u001b[0;1;34m0.64%\u001b[0;m)\n",
      "\n",
      "Transaction sent: \u001b[0;1;34m0x6252f6bcbf283b2f34324bf0696f909ac5ec84b04db42b30ad1328bbf7d174d0\u001b[0;m\n",
      "  Gas price: \u001b[0;1;34m0.0\u001b[0;m gwei   Gas limit: \u001b[0;1;34m12000000\u001b[0;m   Nonce: \u001b[0;1;34m900\u001b[0;m\n",
      "  Vyper_contract.ramp_A confirmed   Block: \u001b[0;1;34m13270828\u001b[0;m   Gas used: \u001b[0;1;34m77186\u001b[0;m (\u001b[0;1;34m0.64%\u001b[0;m)\n",
      "\n",
      "Transaction sent: \u001b[0;1;34m0x4529eba801b4a49a21ada356a214117c6b73d24b970e0fee2f306eb8e3a9a3a8\u001b[0;m\n",
      "  Gas price: \u001b[0;1;34m0.0\u001b[0;m gwei   Gas limit: \u001b[0;1;34m12000000\u001b[0;m   Nonce: \u001b[0;1;34m900\u001b[0;m\n",
      "  Vyper_contract.ramp_A confirmed   Block: \u001b[0;1;34m13270828\u001b[0;m   Gas used: \u001b[0;1;34m77186\u001b[0;m (\u001b[0;1;34m0.64%\u001b[0;m)\n",
      "\n",
      "Transaction sent: \u001b[0;1;34m0xdf183ca041f40a368bd4c187115234a7832fdb0cc0ba84086898c335e81edb1d\u001b[0;m\n",
      "  Gas price: \u001b[0;1;34m0.0\u001b[0;m gwei   Gas limit: \u001b[0;1;34m12000000\u001b[0;m   Nonce: \u001b[0;1;34m900\u001b[0;m\n",
      "  Vyper_contract.ramp_A confirmed   Block: \u001b[0;1;34m13270828\u001b[0;m   Gas used: \u001b[0;1;34m77186\u001b[0;m (\u001b[0;1;34m0.64%\u001b[0;m)\n",
      "\n",
      "Transaction sent: \u001b[0;1;34m0xe5417c841959f81d4c95fae8697c46a1cf3f6ddbeb165aed1da6816e49237124\u001b[0;m\n",
      "  Gas price: \u001b[0;1;34m0.0\u001b[0;m gwei   Gas limit: \u001b[0;1;34m12000000\u001b[0;m   Nonce: \u001b[0;1;34m900\u001b[0;m\n",
      "  Vyper_contract.ramp_A confirmed   Block: \u001b[0;1;34m13270828\u001b[0;m   Gas used: \u001b[0;1;34m77186\u001b[0;m (\u001b[0;1;34m0.64%\u001b[0;m)\n",
      "\n",
      "Transaction sent: \u001b[0;1;34m0x96446a9aa07d5e0bfac2ab4bcb2f6c2be625be97420012f7abd1201ff333a284\u001b[0;m\n",
      "  Gas price: \u001b[0;1;34m0.0\u001b[0;m gwei   Gas limit: \u001b[0;1;34m12000000\u001b[0;m   Nonce: \u001b[0;1;34m900\u001b[0;m\n",
      "  Vyper_contract.ramp_A confirmed   Block: \u001b[0;1;34m13270828\u001b[0;m   Gas used: \u001b[0;1;34m77186\u001b[0;m (\u001b[0;1;34m0.64%\u001b[0;m)\n",
      "\n",
      "Transaction sent: \u001b[0;1;34m0x03eba1779373eab7719e3259078ca368331027b85119df7e0d29a683ee828dae\u001b[0;m\n",
      "  Gas price: \u001b[0;1;34m0.0\u001b[0;m gwei   Gas limit: \u001b[0;1;34m12000000\u001b[0;m   Nonce: \u001b[0;1;34m900\u001b[0;m\n",
      "  Vyper_contract.ramp_A confirmed   Block: \u001b[0;1;34m13270828\u001b[0;m   Gas used: \u001b[0;1;34m77186\u001b[0;m (\u001b[0;1;34m0.64%\u001b[0;m)\n",
      "\n",
      "Transaction sent: \u001b[0;1;34m0x3b7f21509c1e428cb91a5e0dba1a4ed541869c8e5f716a6481bded395a6336f6\u001b[0;m\n",
      "  Gas price: \u001b[0;1;34m0.0\u001b[0;m gwei   Gas limit: \u001b[0;1;34m12000000\u001b[0;m   Nonce: \u001b[0;1;34m900\u001b[0;m\n",
      "  Vyper_contract.ramp_A confirmed   Block: \u001b[0;1;34m13270828\u001b[0;m   Gas used: \u001b[0;1;34m77186\u001b[0;m (\u001b[0;1;34m0.64%\u001b[0;m)\n",
      "\n",
      "Transaction sent: \u001b[0;1;34m0x793ba3752d08eec9914514340bf85cb6e5d625efb601dd22ec5c3aa456fcdee0\u001b[0;m\n",
      "  Gas price: \u001b[0;1;34m0.0\u001b[0;m gwei   Gas limit: \u001b[0;1;34m12000000\u001b[0;m   Nonce: \u001b[0;1;34m900\u001b[0;m\n",
      "  Vyper_contract.ramp_A confirmed   Block: \u001b[0;1;34m13270828\u001b[0;m   Gas used: \u001b[0;1;34m77186\u001b[0;m (\u001b[0;1;34m0.64%\u001b[0;m)\n",
      "\n",
      "Transaction sent: \u001b[0;1;34m0xf63814325cce762c95b5d2759c3a6d1c2a3c49daaa743853ca2d90865c8627ab\u001b[0;m\n",
      "  Gas price: \u001b[0;1;34m0.0\u001b[0;m gwei   Gas limit: \u001b[0;1;34m12000000\u001b[0;m   Nonce: \u001b[0;1;34m900\u001b[0;m\n",
      "  Vyper_contract.ramp_A confirmed   Block: \u001b[0;1;34m13270828\u001b[0;m   Gas used: \u001b[0;1;34m77186\u001b[0;m (\u001b[0;1;34m0.64%\u001b[0;m)\n",
      "\n",
      "Transaction sent: \u001b[0;1;34m0xad65b4371752bff1d81246a2aa1cc25f8ec231cae489e442509b98099c9a0350\u001b[0;m\n",
      "  Gas price: \u001b[0;1;34m0.0\u001b[0;m gwei   Gas limit: \u001b[0;1;34m12000000\u001b[0;m   Nonce: \u001b[0;1;34m900\u001b[0;m\n",
      "  Vyper_contract.ramp_A confirmed   Block: \u001b[0;1;34m13270828\u001b[0;m   Gas used: \u001b[0;1;34m77186\u001b[0;m (\u001b[0;1;34m0.64%\u001b[0;m)\n",
      "\n",
      "Transaction sent: \u001b[0;1;34m0x14bf8e1da7cde7c227bc3524a6a72279396633e61b1cf0b1a7b69d31ec2fdc82\u001b[0;m\n",
      "  Gas price: \u001b[0;1;34m0.0\u001b[0;m gwei   Gas limit: \u001b[0;1;34m12000000\u001b[0;m   Nonce: \u001b[0;1;34m900\u001b[0;m\n",
      "  Vyper_contract.ramp_A confirmed   Block: \u001b[0;1;34m13270828\u001b[0;m   Gas used: \u001b[0;1;34m77186\u001b[0;m (\u001b[0;1;34m0.64%\u001b[0;m)\n",
      "\n",
      "Transaction sent: \u001b[0;1;34m0x987e30949f428e8b323aebe1dfa7d095586748d2ccc0212b057ce333ea5b8d0f\u001b[0;m\n",
      "  Gas price: \u001b[0;1;34m0.0\u001b[0;m gwei   Gas limit: \u001b[0;1;34m12000000\u001b[0;m   Nonce: \u001b[0;1;34m900\u001b[0;m\n",
      "  Vyper_contract.ramp_A confirmed   Block: \u001b[0;1;34m13270828\u001b[0;m   Gas used: \u001b[0;1;34m77186\u001b[0;m (\u001b[0;1;34m0.64%\u001b[0;m)\n",
      "\n"
     ]
    },
    {
     "data": {
      "text/plain": "[9869864906677226396641,\n 9888570849087497049383,\n 9902047900319405252785,\n 9912219696298666505130,\n 9920169359328824197065,\n 9926553362393683050505,\n 9931792773152920882137,\n 9936170091309528448252,\n 9939881917030767980819,\n 9943069293831944970928,\n 9945836038228473534865,\n 9948260261627628163969,\n 9950401862373263610601,\n 9952307541746193745049,\n 9954014248774327683553,\n 9955551599544137168638,\n 9956943610343659414659,\n 9958209961436779946907,\n 9959366933364275187871,\n 9960428110671897979031,\n 9961404917784719923565,\n 9962307031951306186343,\n 9963142704946566797573,\n 9963919016218010505114,\n 9964642073935540323431,\n 9965317176038123133464,\n 9965948940265335111319,\n 9966541409925618616647,\n 9967098140523932277123,\n 9967622271171611416484,\n 9968116583808567349320,\n 9968583552597480557640,\n 9969025385341576801827,\n 9969444058389351625432,\n 9969841346190620350602,\n 9970218846436294860967,\n 9970578001533042285206,\n 9970920117021430078096,\n 9971246377433340315206,\n 9971557859994610427464,\n 9971855546506935412303,\n 9972140333685168804450,\n 9972413042179312264274,\n 9972674424472391808765,\n 9972925171814301253149,\n 9973165920326159788878]"
     },
     "execution_count": 11,
     "metadata": {},
     "output_type": "execute_result"
    }
   ],
   "source": [
    "swap_rates_B_to_A = []\n",
    "for amplification_factor in A_params_simulation:\n",
    "\n",
    "    pool_contract.ramp_A(amplification_factor, t1, {\"from\": sender})\n",
    "\n",
    "    chain.sleep(t1)\n",
    "    chain.mine()\n",
    "\n",
    "    swap_rates_B_to_A.append(pool_contract.get_dy(1, 0, dx))\n",
    "\n",
    "    chain.revert()\n",
    "\n",
    "swap_rates_B_to_A"
   ]
  },
  {
   "cell_type": "markdown",
   "metadata": {},
   "source": [
    "add decimals"
   ]
  },
  {
   "cell_type": "code",
   "execution_count": 16,
   "metadata": {},
   "outputs": [],
   "source": [
    "perc_A_to_B = [round((i-dx) / dx * 100, 4) for i in swap_rates_A_to_B]\n",
    "perc_B_to_A = [round((i-dx) / dx * 100, 4) for i in swap_rates_B_to_A]"
   ]
  },
  {
   "cell_type": "code",
   "execution_count": 13,
   "metadata": {},
   "outputs": [],
   "source": [
    "current_block = brownie.web3.eth.block_number"
   ]
  },
  {
   "cell_type": "code",
   "execution_count": 21,
   "metadata": {},
   "outputs": [
    {
     "data": {
      "image/png": "[encoded data removed]",
      "text/plain": "<Figure size 1080x576 with 1 Axes>"
     },
     "metadata": {},
     "output_type": "display_data"
    }
   ],
   "source": [
    "fig, ax = plt.subplots(1,1, figsize=(15, 8))\n",
    "\n",
    "ax.plot(A_params_simulation, perc_A_to_B, label=\"CRV to cvxCRV swaps\")\n",
    "ax.plot(A_params_simulation, perc_B_to_A, 'r', label=\"cvxCRV to CRV swaps\")\n",
    "\n",
    "ax.axvline(x=A, label=\"Current A\", color='k', ls='--')\n",
    "\n",
    "ax.set_xlabel(\"Pool Amplification Factor [A]\", fontsize=20)\n",
    "ax.set_ylabel(\"Swap Rate [%]\", fontsize=20)\n",
    "ax.set_title(f\"Num tokens out as a function of A for {int(dx*1e-18)} tokens in (at block {current_block})\\n{coin_perc_string}\", fontsize=15);\n",
    "ax.tick_params(axis='both', which='major', labelsize=15);\n",
    "\n",
    "ax.legend(fontsize=15);"
   ]
  },
  {
   "cell_type": "markdown",
   "metadata": {},
   "source": [
    "disconnect."
   ]
  },
  {
   "cell_type": "code",
   "execution_count": 15,
   "metadata": {},
   "outputs": [
    {
     "name": "stdout",
     "output_type": "stream",
     "text": [
      "Terminating local RPC client...\n"
     ]
    }
   ],
   "source": [
    "brownie.network.disconnect()"
   ]
  },
  {
   "cell_type": "code",
   "execution_count": null,
   "metadata": {},
   "outputs": [],
   "source": []
  }
 ],
 "metadata": {
  "kernelspec": {
   "display_name": "Python 3.7.10 64-bit ('venv': venv)",
   "name": "pythonjvsc74a57bd0ea544804ad94ad4b7270d2af05439f03f30e7952cca8d55759a97e338bf96f36"
  },
  "language_info": {
   "codemirror_mode": {
    "name": "ipython",
    "version": 3
   },
   "file_extension": ".py",
   "mimetype": "text/x-python",
   "name": "python",
   "nbconvert_exporter": "python",
   "pygments_lexer": "ipython3",
   "version": "3.7.10"
  },
  "metadata": {
   "interpreter": {
    "hash": "21df2f293af9707545440a88aaf24e48b342b3531ee3aea9e212c79967abcd9c"
   }
  },
  "orig_nbformat": 2
 },
 "nbformat": 4,
 "nbformat_minor": 2
}