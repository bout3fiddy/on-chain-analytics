{
 "cells": [
  {
   "cell_type": "code",
   "execution_count": 3,
   "metadata": {
    "collapsed": true
   },
   "outputs": [],
   "source": [
    "import requests\n",
    "import pandas as pd"
   ]
  },
  {
   "cell_type": "code",
   "execution_count": 4,
   "outputs": [],
   "source": [
    "api = \"https://api.studio.thegraph.com/query/1729/tricrypto-eth-1/v0.0.3\""
   ],
   "metadata": {
    "collapsed": false,
    "pycharm": {
     "name": "#%%\n"
    }
   }
  },
  {
   "cell_type": "code",
   "execution_count": 5,
   "outputs": [
    {
     "data": {
      "text/plain": "  blockNumber            btcOraclePrice btcScalePrice  \\\n0    13190530  46210.070617015880804731             0   \n1    13462408  64558.258992127116613978             0   \n2    13628866  60222.561027002492925578             0   \n3    13624827  61630.553214901580013419             0   \n4    13410034  55766.736623661531067848             0   \n\n            crv3CryptoSupply                ethBalance  \\\n0  304237.739817166480710438  46982.421726479249592682   \n1  408633.964115203182219155  64063.815289454798625913   \n2  531965.541009809579655034  80662.783002720281498239   \n3  531238.288292420547886989  78976.844825606149460781   \n4  424846.447881398312194403  71058.742674611917843255   \n\n            ethOraclePrice ethScalePrice         fee  \\\n0  3505.639407562792603599             0  0.16493465   \n1  4179.113032641856987662             0  0.13088842   \n2   4259.70376575625778067             0  0.09782713   \n3   4358.51573145176590093             0  0.07216457   \n4  3486.726860643180032683             0  0.08693051   \n\n                                                  id   timestamp  \\\n0  0x0000a051465f674c738951bbee1363c43501ec29a8bd...  1631177128   \n1  0x0001bf5585a38f102397bd2b8cba837b15ced82c8a3b...  1634837799   \n2  0x00032be1982bf81ffc3c56d3c878c310c42995d50552...  1637096622   \n3  0x000342cf18da059253b2acd74add8e783d4e41ef4560...  1637041182   \n4  0x0007e54f83ee62c35a6d7c3a813c82b5b166ba858d52...  1634128754   \n\n        usdtBalance          virtualPrice    wbtcBalance  \n0  167948781.743778  1.003488336958882268  360611.156976  \n1  260780088.827771  1.005475989269216084  415134.999394  \n2  336210519.472042  1.005807401978425974  564782.909424  \n3   342641906.70397  1.005759578812980003  563630.101439  \n4  244914598.143537  1.005080732013891165  447345.023718  ",
      "text/html": "<div>\n<style scoped>\n    .dataframe tbody tr th:only-of-type {\n        vertical-align: middle;\n    }\n\n    .dataframe tbody tr th {\n        vertical-align: top;\n    }\n\n    .dataframe thead th {\n        text-align: right;\n    }\n</style>\n<table border=\"1\" class=\"dataframe\">\n  <thead>\n    <tr style=\"text-align: right;\">\n      <th></th>\n      <th>blockNumber</th>\n      <th>btcOraclePrice</th>\n      <th>btcScalePrice</th>\n      <th>crv3CryptoSupply</th>\n      <th>ethBalance</th>\n      <th>ethOraclePrice</th>\n      <th>ethScalePrice</th>\n      <th>fee</th>\n      <th>id</th>\n      <th>timestamp</th>\n      <th>usdtBalance</th>\n      <th>virtualPrice</th>\n      <th>wbtcBalance</th>\n    </tr>\n  </thead>\n  <tbody>\n    <tr>\n      <th>0</th>\n      <td>13190530</td>\n      <td>46210.070617015880804731</td>\n      <td>0</td>\n      <td>304237.739817166480710438</td>\n      <td>46982.421726479249592682</td>\n      <td>3505.639407562792603599</td>\n      <td>0</td>\n      <td>0.16493465</td>\n      <td>0x0000a051465f674c738951bbee1363c43501ec29a8bd...</td>\n      <td>1631177128</td>\n      <td>167948781.743778</td>\n      <td>1.003488336958882268</td>\n      <td>360611.156976</td>\n    </tr>\n    <tr>\n      <th>1</th>\n      <td>13462408</td>\n      <td>64558.258992127116613978</td>\n      <td>0</td>\n      <td>408633.964115203182219155</td>\n      <td>64063.815289454798625913</td>\n      <td>4179.113032641856987662</td>\n      <td>0</td>\n      <td>0.13088842</td>\n      <td>0x0001bf5585a38f102397bd2b8cba837b15ced82c8a3b...</td>\n      <td>1634837799</td>\n      <td>260780088.827771</td>\n      <td>1.005475989269216084</td>\n      <td>415134.999394</td>\n    </tr>\n    <tr>\n      <th>2</th>\n      <td>13628866</td>\n      <td>60222.561027002492925578</td>\n      <td>0</td>\n      <td>531965.541009809579655034</td>\n      <td>80662.783002720281498239</td>\n      <td>4259.70376575625778067</td>\n      <td>0</td>\n      <td>0.09782713</td>\n      <td>0x00032be1982bf81ffc3c56d3c878c310c42995d50552...</td>\n      <td>1637096622</td>\n      <td>336210519.472042</td>\n      <td>1.005807401978425974</td>\n      <td>564782.909424</td>\n    </tr>\n    <tr>\n      <th>3</th>\n      <td>13624827</td>\n      <td>61630.553214901580013419</td>\n      <td>0</td>\n      <td>531238.288292420547886989</td>\n      <td>78976.844825606149460781</td>\n      <td>4358.51573145176590093</td>\n      <td>0</td>\n      <td>0.07216457</td>\n      <td>0x000342cf18da059253b2acd74add8e783d4e41ef4560...</td>\n      <td>1637041182</td>\n      <td>342641906.70397</td>\n      <td>1.005759578812980003</td>\n      <td>563630.101439</td>\n    </tr>\n    <tr>\n      <th>4</th>\n      <td>13410034</td>\n      <td>55766.736623661531067848</td>\n      <td>0</td>\n      <td>424846.447881398312194403</td>\n      <td>71058.742674611917843255</td>\n      <td>3486.726860643180032683</td>\n      <td>0</td>\n      <td>0.08693051</td>\n      <td>0x0007e54f83ee62c35a6d7c3a813c82b5b166ba858d52...</td>\n      <td>1634128754</td>\n      <td>244914598.143537</td>\n      <td>1.005080732013891165</td>\n      <td>447345.023718</td>\n    </tr>\n  </tbody>\n</table>\n</div>"
     },
     "execution_count": 5,
     "metadata": {},
     "output_type": "execute_result"
    }
   ],
   "source": [
    "query = \"\"\"\n",
    "{\n",
    "  tricryptoSnapshots(first: 5) {\n",
    "    id\n",
    "    blockNumber\n",
    "    timestamp\n",
    "    usdtBalance\n",
    "    ethBalance\n",
    "    wbtcBalance\n",
    "    virtualPrice\n",
    "    ethOraclePrice\n",
    "    btcOraclePrice\n",
    "    ethScalePrice\n",
    "    btcScalePrice\n",
    "    fee\n",
    "    crv3CryptoSupply\n",
    "  }\n",
    "}\n",
    "\"\"\"\n",
    "r = requests.post(api, json={'query': query})\n",
    "data = dict(r.json())\n",
    "df = pd.DataFrame(data['data']['tricryptoSnapshots'])\n",
    "df"
   ],
   "metadata": {
    "collapsed": false,
    "pycharm": {
     "name": "#%%\n"
    }
   }
  },
  {
   "cell_type": "code",
   "execution_count": 6,
   "outputs": [
    {
     "data": {
      "text/plain": "                                      address    amountBTC  \\\n0  0x3993d34e7e99abf6b6f367309975d1360222d446            0   \n1  0xb10fe1db47ce0a5297c5c7360621541274e281b4            0   \n2  0xb10fe1db47ce0a5297c5c7360621541274e281b4            0   \n3  0x85d94ae34808ac936a12ada6cf6d50e53a7d6fb6            0   \n4  0xd10d54830714003575d9f472d62268a29c902e5a  7880.998905   \n\n                         amountBTCUSD                amountETH  \\\n0                                   0                        0   \n1                                   0                        0   \n2                                   0                        0   \n3                                   0     1.876416965896246134   \n4  465168721.501241345535476198794605  1244.911791139253829917   \n\n                          amountETHUSD      amountUSD blockNumber fee  \\\n0                                    0   99645.903951    13460735   0   \n1                                    0           1000    12889153   0   \n2                                    0          20000    13148949   0   \n3  6044.688596335346307899222423213932              0    13018049   0   \n4    4690583.9431887150046941514208151  4752754.32445    13421763   0   \n\n                                                  id   timestamp  \\\n0  0x00138617cf53ac81c1ac55ba6fd006711d18a890dbac...  1634815887   \n1  0x0030e6b63edb86dadf510cf6832f7994341ff0701cc3...  1627131958   \n2  0x0042f539474fd33c4074588f15f8815f510c82514676...  1630620966   \n3  0x0050655b289eaef3b7e3ad0163a2dbc8f73212bd811f...  1628873817   \n4  0x00a72459f07be1d2af3c856f8add63291fe5d67a8512...  1634288960   \n\n                         totalAddedUSD  \\\n0                         99645.903951   \n1                                 1000   \n2                                20000   \n3  6044.688596335346307899222423213932   \n4  474612059.7688800605401703502154201   \n\n                                              txHash  \n0  0x00138617cf53ac81c1ac55ba6fd006711d18a890dbac...  \n1  0x0030e6b63edb86dadf510cf6832f7994341ff0701cc3...  \n2  0x0042f539474fd33c4074588f15f8815f510c82514676...  \n3  0x0050655b289eaef3b7e3ad0163a2dbc8f73212bd811f...  \n4  0x00a72459f07be1d2af3c856f8add63291fe5d67a8512...  ",
      "text/html": "<div>\n<style scoped>\n    .dataframe tbody tr th:only-of-type {\n        vertical-align: middle;\n    }\n\n    .dataframe tbody tr th {\n        vertical-align: top;\n    }\n\n    .dataframe thead th {\n        text-align: right;\n    }\n</style>\n<table border=\"1\" class=\"dataframe\">\n  <thead>\n    <tr style=\"text-align: right;\">\n      <th></th>\n      <th>address</th>\n      <th>amountBTC</th>\n      <th>amountBTCUSD</th>\n      <th>amountETH</th>\n      <th>amountETHUSD</th>\n      <th>amountUSD</th>\n      <th>blockNumber</th>\n      <th>fee</th>\n      <th>id</th>\n      <th>timestamp</th>\n      <th>totalAddedUSD</th>\n      <th>txHash</th>\n    </tr>\n  </thead>\n  <tbody>\n    <tr>\n      <th>0</th>\n      <td>0x3993d34e7e99abf6b6f367309975d1360222d446</td>\n      <td>0</td>\n      <td>0</td>\n      <td>0</td>\n      <td>0</td>\n      <td>99645.903951</td>\n      <td>13460735</td>\n      <td>0</td>\n      <td>0x00138617cf53ac81c1ac55ba6fd006711d18a890dbac...</td>\n      <td>1634815887</td>\n      <td>99645.903951</td>\n      <td>0x00138617cf53ac81c1ac55ba6fd006711d18a890dbac...</td>\n    </tr>\n    <tr>\n      <th>1</th>\n      <td>0xb10fe1db47ce0a5297c5c7360621541274e281b4</td>\n      <td>0</td>\n      <td>0</td>\n      <td>0</td>\n      <td>0</td>\n      <td>1000</td>\n      <td>12889153</td>\n      <td>0</td>\n      <td>0x0030e6b63edb86dadf510cf6832f7994341ff0701cc3...</td>\n      <td>1627131958</td>\n      <td>1000</td>\n      <td>0x0030e6b63edb86dadf510cf6832f7994341ff0701cc3...</td>\n    </tr>\n    <tr>\n      <th>2</th>\n      <td>0xb10fe1db47ce0a5297c5c7360621541274e281b4</td>\n      <td>0</td>\n      <td>0</td>\n      <td>0</td>\n      <td>0</td>\n      <td>20000</td>\n      <td>13148949</td>\n      <td>0</td>\n      <td>0x0042f539474fd33c4074588f15f8815f510c82514676...</td>\n      <td>1630620966</td>\n      <td>20000</td>\n      <td>0x0042f539474fd33c4074588f15f8815f510c82514676...</td>\n    </tr>\n    <tr>\n      <th>3</th>\n      <td>0x85d94ae34808ac936a12ada6cf6d50e53a7d6fb6</td>\n      <td>0</td>\n      <td>0</td>\n      <td>1.876416965896246134</td>\n      <td>6044.688596335346307899222423213932</td>\n      <td>0</td>\n      <td>13018049</td>\n      <td>0</td>\n      <td>0x0050655b289eaef3b7e3ad0163a2dbc8f73212bd811f...</td>\n      <td>1628873817</td>\n      <td>6044.688596335346307899222423213932</td>\n      <td>0x0050655b289eaef3b7e3ad0163a2dbc8f73212bd811f...</td>\n    </tr>\n    <tr>\n      <th>4</th>\n      <td>0xd10d54830714003575d9f472d62268a29c902e5a</td>\n      <td>7880.998905</td>\n      <td>465168721.501241345535476198794605</td>\n      <td>1244.911791139253829917</td>\n      <td>4690583.9431887150046941514208151</td>\n      <td>4752754.32445</td>\n      <td>13421763</td>\n      <td>0</td>\n      <td>0x00a72459f07be1d2af3c856f8add63291fe5d67a8512...</td>\n      <td>1634288960</td>\n      <td>474612059.7688800605401703502154201</td>\n      <td>0x00a72459f07be1d2af3c856f8add63291fe5d67a8512...</td>\n    </tr>\n  </tbody>\n</table>\n</div>"
     },
     "execution_count": 6,
     "metadata": {},
     "output_type": "execute_result"
    }
   ],
   "source": [
    "query = \"\"\"\n",
    "{\n",
    "  addLiquidityEvents(first: 5) {\n",
    "    id\n",
    "    timestamp\n",
    "    blockNumber\n",
    "    txHash\n",
    "    address\n",
    "    fee\n",
    "    amountUSD\n",
    "    amountETH\n",
    "    amountETHUSD\n",
    "    amountBTC\n",
    "    amountBTCUSD\n",
    "    totalAddedUSD\n",
    "  }\n",
    "}\n",
    "\"\"\"\n",
    "r = requests.post(api, json={'query': query})\n",
    "data = dict(r.json())\n",
    "df = pd.DataFrame(data['data']['addLiquidityEvents'])\n",
    "df"
   ],
   "metadata": {
    "collapsed": false,
    "pycharm": {
     "name": "#%%\n"
    }
   }
  },
  {
   "cell_type": "code",
   "execution_count": 7,
   "outputs": [
    {
     "data": {
      "text/plain": "                                      address    amountBTC  \\\n0  0xfb4a5ae508dc15e2e1172bae69fb8ad18cc81d73   163.475922   \n1  0x971987058ed70d8b0e8a3cf84564589a906cdda2  1424.156388   \n2  0xe03a338d5c305613afc3877389dd3b0617233387     1.138102   \n3  0x8f63277257a7eead6de9cf22f809be1de12a5e12            0   \n4  0xe03a338d5c305613afc3877389dd3b0617233387  1022.168304   \n\n                        amountBTCUSD               amountETH  \\\n0  10478335.991462045315607140847582   22.542867334320735893   \n1  89856822.445470487510160162867196  195.080502224299084009   \n2     72577.308929860089511982523292                       0   \n3                                  0    0.803875620517393694   \n4  43504936.002125969448408172645968                       0   \n\n                          amountETHUSD      amountUSD blockNumber  \\\n0  104858.3680826692871762288606257049  103965.874547    13605099   \n1  894861.0938405842423593936143024335  901598.384537    13543258   \n2                                    0              0    13622809   \n3  2551.532843705543527498164017987431              0    13095221   \n4                                    0              0    13295931   \n\n                                                  id   timestamp  \\\n0  0x008ed26e53dd04fe58e8509210721a3ced2c76ac6ba0...  1636771203   \n1  0x00c15e1f8537a1ff53a6e4623d8f19f3fca596bd14f0...  1635934052   \n2  0x00f3fa8b0cb8ecf54a4b9fe226d729870865c72467b6...  1637013506   \n3  0x012134d790551268dc21227b7a6cd35a012971b523e1...  1629904024   \n4  0x01bb75b199667276ee84d9067101dd3e735450a0d9ea...  1632585604   \n\n                       totalRemovedUSD  \\\n0   10687160.2340917146027833697082077   \n1  91653281.92384807175251955648149843   \n2       72577.308929860089511982523292   \n3  2551.532843705543527498164017987431   \n4    43504936.002125969448408172645968   \n\n                                              txHash  \n0  0x008ed26e53dd04fe58e8509210721a3ced2c76ac6ba0...  \n1  0x00c15e1f8537a1ff53a6e4623d8f19f3fca596bd14f0...  \n2  0x00f3fa8b0cb8ecf54a4b9fe226d729870865c72467b6...  \n3  0x012134d790551268dc21227b7a6cd35a012971b523e1...  \n4  0x01bb75b199667276ee84d9067101dd3e735450a0d9ea...  ",
      "text/html": "<div>\n<style scoped>\n    .dataframe tbody tr th:only-of-type {\n        vertical-align: middle;\n    }\n\n    .dataframe tbody tr th {\n        vertical-align: top;\n    }\n\n    .dataframe thead th {\n        text-align: right;\n    }\n</style>\n<table border=\"1\" class=\"dataframe\">\n  <thead>\n    <tr style=\"text-align: right;\">\n      <th></th>\n      <th>address</th>\n      <th>amountBTC</th>\n      <th>amountBTCUSD</th>\n      <th>amountETH</th>\n      <th>amountETHUSD</th>\n      <th>amountUSD</th>\n      <th>blockNumber</th>\n      <th>id</th>\n      <th>timestamp</th>\n      <th>totalRemovedUSD</th>\n      <th>txHash</th>\n    </tr>\n  </thead>\n  <tbody>\n    <tr>\n      <th>0</th>\n      <td>0xfb4a5ae508dc15e2e1172bae69fb8ad18cc81d73</td>\n      <td>163.475922</td>\n      <td>10478335.991462045315607140847582</td>\n      <td>22.542867334320735893</td>\n      <td>104858.3680826692871762288606257049</td>\n      <td>103965.874547</td>\n      <td>13605099</td>\n      <td>0x008ed26e53dd04fe58e8509210721a3ced2c76ac6ba0...</td>\n      <td>1636771203</td>\n      <td>10687160.2340917146027833697082077</td>\n      <td>0x008ed26e53dd04fe58e8509210721a3ced2c76ac6ba0...</td>\n    </tr>\n    <tr>\n      <th>1</th>\n      <td>0x971987058ed70d8b0e8a3cf84564589a906cdda2</td>\n      <td>1424.156388</td>\n      <td>89856822.445470487510160162867196</td>\n      <td>195.080502224299084009</td>\n      <td>894861.0938405842423593936143024335</td>\n      <td>901598.384537</td>\n      <td>13543258</td>\n      <td>0x00c15e1f8537a1ff53a6e4623d8f19f3fca596bd14f0...</td>\n      <td>1635934052</td>\n      <td>91653281.92384807175251955648149843</td>\n      <td>0x00c15e1f8537a1ff53a6e4623d8f19f3fca596bd14f0...</td>\n    </tr>\n    <tr>\n      <th>2</th>\n      <td>0xe03a338d5c305613afc3877389dd3b0617233387</td>\n      <td>1.138102</td>\n      <td>72577.308929860089511982523292</td>\n      <td>0</td>\n      <td>0</td>\n      <td>0</td>\n      <td>13622809</td>\n      <td>0x00f3fa8b0cb8ecf54a4b9fe226d729870865c72467b6...</td>\n      <td>1637013506</td>\n      <td>72577.308929860089511982523292</td>\n      <td>0x00f3fa8b0cb8ecf54a4b9fe226d729870865c72467b6...</td>\n    </tr>\n    <tr>\n      <th>3</th>\n      <td>0x8f63277257a7eead6de9cf22f809be1de12a5e12</td>\n      <td>0</td>\n      <td>0</td>\n      <td>0.803875620517393694</td>\n      <td>2551.532843705543527498164017987431</td>\n      <td>0</td>\n      <td>13095221</td>\n      <td>0x012134d790551268dc21227b7a6cd35a012971b523e1...</td>\n      <td>1629904024</td>\n      <td>2551.532843705543527498164017987431</td>\n      <td>0x012134d790551268dc21227b7a6cd35a012971b523e1...</td>\n    </tr>\n    <tr>\n      <th>4</th>\n      <td>0xe03a338d5c305613afc3877389dd3b0617233387</td>\n      <td>1022.168304</td>\n      <td>43504936.002125969448408172645968</td>\n      <td>0</td>\n      <td>0</td>\n      <td>0</td>\n      <td>13295931</td>\n      <td>0x01bb75b199667276ee84d9067101dd3e735450a0d9ea...</td>\n      <td>1632585604</td>\n      <td>43504936.002125969448408172645968</td>\n      <td>0x01bb75b199667276ee84d9067101dd3e735450a0d9ea...</td>\n    </tr>\n  </tbody>\n</table>\n</div>"
     },
     "execution_count": 7,
     "metadata": {},
     "output_type": "execute_result"
    }
   ],
   "source": [
    "query = \"\"\"\n",
    "{\n",
    "  removeLiquidityEvents(first: 5) {\n",
    "    id\n",
    "    timestamp\n",
    "    blockNumber\n",
    "    txHash\n",
    "    address\n",
    "    amountUSD\n",
    "    amountETH\n",
    "    amountETHUSD\n",
    "    amountBTC\n",
    "    amountBTCUSD\n",
    "    totalRemovedUSD\n",
    "  }\n",
    "}\n",
    "\"\"\"\n",
    "r = requests.post(api, json={'query': query})\n",
    "data = dict(r.json())\n",
    "df = pd.DataFrame(data['data']['removeLiquidityEvents'])\n",
    "df"
   ],
   "metadata": {
    "collapsed": false,
    "pycharm": {
     "name": "#%%\n"
    }
   }
  },
  {
   "cell_type": "code",
   "execution_count": null,
   "outputs": [],
   "source": [
    "query = \"\"\"\n",
    "{\n",
    "  exchangeEvents(first: 5) {\n",
    "    id\n",
    "    timestamp\n",
    "    blockNumber\n",
    "    txHash\n",
    "    address\n",
    "    amountUSDSold\n",
    "    amountETHSold\n",
    "    amountETHSoldUSD\n",
    "    amountBTCSold\n",
    "    amountBTCSoldUSD\n",
    "    amountUSDBought\n",
    "    amountETHBought\n",
    "    amountETHBoughtUSD\n",
    "    amountBTCBought\n",
    "    amountBTCBoughtUSD\n",
    "    totalSoldUSD\n",
    "    totalBoughtUSD\n",
    "  }\n",
    "}\n",
    "\"\"\"\n",
    "r = requests.post(api, json={'query': query})\n",
    "data = dict(r.json())\n",
    "df = pd.DataFrame(data['data']['exchangeEvents'])\n",
    "df"
   ],
   "metadata": {
    "collapsed": false,
    "pycharm": {
     "name": "#%%\n",
     "is_executing": true
    }
   }
  },
  {
   "cell_type": "code",
   "execution_count": null,
   "outputs": [],
   "source": [
    "query = \"\"\"\n",
    "{\n",
    "  claimAdminFeeEvents(first: 5) {\n",
    "    id\n",
    "    timestamp\n",
    "    blockNumber\n",
    "    txHash\n",
    "    amountClaimed\n",
    "    claimDollarValue\n",
    "  }\n",
    "}\n",
    "\"\"\"\n",
    "r = requests.post(api, json={'query': query})\n",
    "data = dict(r.json())\n",
    "df = pd.DataFrame(data['data']['claimAdminFeeEvents'])\n",
    "df"
   ],
   "metadata": {
    "collapsed": false,
    "pycharm": {
     "name": "#%%\n"
    }
   }
  },
  {
   "cell_type": "code",
   "execution_count": null,
   "outputs": [],
   "source": [
    "query = \"\"\"\n",
    "{\n",
    "  assetPrices(first: 5) {\n",
    "    id\n",
    "    timestamp\n",
    "    blockNumber\n",
    "    crv3cryptoUSD\n",
    "    crv3cryptoETH\n",
    "    crv3cryptoBTC\n",
    "    btcPrice\n",
    "    ethPrice\n",
    "    indexNumUSD\n",
    "    indexNumBTC\n",
    "    indexNumETH\n",
    "  }\n",
    "}\n",
    "\"\"\"\n",
    "r = requests.post(api, json={'query': query})\n",
    "data = dict(r.json())\n",
    "df = pd.DataFrame(data['data']['assetPrices'])\n",
    "df"
   ],
   "metadata": {
    "collapsed": false,
    "pycharm": {
     "name": "#%%\n"
    }
   }
  },
  {
   "cell_type": "code",
   "execution_count": null,
   "outputs": [],
   "source": [],
   "metadata": {
    "collapsed": false,
    "pycharm": {
     "name": "#%%\n"
    }
   }
  }
 ],
 "metadata": {
  "kernelspec": {
   "display_name": "Python 3",
   "language": "python",
   "name": "python3"
  },
  "language_info": {
   "codemirror_mode": {
    "name": "ipython",
    "version": 2
   },
   "file_extension": ".py",
   "mimetype": "text/x-python",
   "name": "python",
   "nbconvert_exporter": "python",
   "pygments_lexer": "ipython2",
   "version": "2.7.6"
  }
 },
 "nbformat": 4,
 "nbformat_minor": 0
}