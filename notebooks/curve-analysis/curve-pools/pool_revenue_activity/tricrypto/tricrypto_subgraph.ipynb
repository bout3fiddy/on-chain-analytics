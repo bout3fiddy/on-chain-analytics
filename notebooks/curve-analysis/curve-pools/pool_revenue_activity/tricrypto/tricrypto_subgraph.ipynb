{
 "cells": [
  {
   "cell_type": "code",
   "execution_count": 9,
   "metadata": {
    "collapsed": true
   },
   "outputs": [],
   "source": [
    "import requests\n",
    "import pandas as pd"
   ]
  },
  {
   "cell_type": "code",
   "execution_count": 10,
   "outputs": [],
   "source": [
    "api = \"https://api.studio.thegraph.com/query/1729/tricrypto-eth-1/v0.0.3\""
   ],
   "metadata": {
    "collapsed": false,
    "pycharm": {
     "name": "#%%\n"
    }
   }
  },
  {
   "cell_type": "code",
   "execution_count": 11,
   "outputs": [
    {
     "data": {
      "text/plain": "  blockNumber            btcOraclePrice btcScalePrice  \\\n0    13190530  46210.070617015880804731             0   \n1    13462408  64558.258992127116613978             0   \n2    13628866  60222.561027002492925578             0   \n3    13624827  61630.553214901580013419             0   \n4    13410034  55766.736623661531067848             0   \n\n            crv3CryptoSupply                ethBalance  \\\n0  304237.739817166480710438  46982.421726479249592682   \n1  408633.964115203182219155  64063.815289454798625913   \n2  531965.541009809579655034  80662.783002720281498239   \n3  531238.288292420547886989  78976.844825606149460781   \n4  424846.447881398312194403  71058.742674611917843255   \n\n            ethOraclePrice ethScalePrice         fee  \\\n0  3505.639407562792603599             0  0.16493465   \n1  4179.113032641856987662             0  0.13088842   \n2   4259.70376575625778067             0  0.09782713   \n3   4358.51573145176590093             0  0.07216457   \n4  3486.726860643180032683             0  0.08693051   \n\n                                                  id   timestamp  \\\n0  0x0000a051465f674c738951bbee1363c43501ec29a8bd...  1631177128   \n1  0x0001bf5585a38f102397bd2b8cba837b15ced82c8a3b...  1634837799   \n2  0x00032be1982bf81ffc3c56d3c878c310c42995d50552...  1637096622   \n3  0x000342cf18da059253b2acd74add8e783d4e41ef4560...  1637041182   \n4  0x0007e54f83ee62c35a6d7c3a813c82b5b166ba858d52...  1634128754   \n\n        usdtBalance          virtualPrice    wbtcBalance  \n0  167948781.743778  1.003488336958882268  360611.156976  \n1  260780088.827771  1.005475989269216084  415134.999394  \n2  336210519.472042  1.005807401978425974  564782.909424  \n3   342641906.70397  1.005759578812980003  563630.101439  \n4  244914598.143537  1.005080732013891165  447345.023718  ",
      "text/html": "<div>\n<style scoped>\n    .dataframe tbody tr th:only-of-type {\n        vertical-align: middle;\n    }\n\n    .dataframe tbody tr th {\n        vertical-align: top;\n    }\n\n    .dataframe thead th {\n        text-align: right;\n    }\n</style>\n<table border=\"1\" class=\"dataframe\">\n  <thead>\n    <tr style=\"text-align: right;\">\n      <th></th>\n      <th>blockNumber</th>\n      <th>btcOraclePrice</th>\n      <th>btcScalePrice</th>\n      <th>crv3CryptoSupply</th>\n      <th>ethBalance</th>\n      <th>ethOraclePrice</th>\n      <th>ethScalePrice</th>\n      <th>fee</th>\n      <th>id</th>\n      <th>timestamp</th>\n      <th>usdtBalance</th>\n      <th>virtualPrice</th>\n      <th>wbtcBalance</th>\n    </tr>\n  </thead>\n  <tbody>\n    <tr>\n      <th>0</th>\n      <td>13190530</td>\n      <td>46210.070617015880804731</td>\n      <td>0</td>\n      <td>304237.739817166480710438</td>\n      <td>46982.421726479249592682</td>\n      <td>3505.639407562792603599</td>\n      <td>0</td>\n      <td>0.16493465</td>\n      <td>0x0000a051465f674c738951bbee1363c43501ec29a8bd...</td>\n      <td>1631177128</td>\n      <td>167948781.743778</td>\n      <td>1.003488336958882268</td>\n      <td>360611.156976</td>\n    </tr>\n    <tr>\n      <th>1</th>\n      <td>13462408</td>\n      <td>64558.258992127116613978</td>\n      <td>0</td>\n      <td>408633.964115203182219155</td>\n      <td>64063.815289454798625913</td>\n      <td>4179.113032641856987662</td>\n      <td>0</td>\n      <td>0.13088842</td>\n      <td>0x0001bf5585a38f102397bd2b8cba837b15ced82c8a3b...</td>\n      <td>1634837799</td>\n      <td>260780088.827771</td>\n      <td>1.005475989269216084</td>\n      <td>415134.999394</td>\n    </tr>\n    <tr>\n      <th>2</th>\n      <td>13628866</td>\n      <td>60222.561027002492925578</td>\n      <td>0</td>\n      <td>531965.541009809579655034</td>\n      <td>80662.783002720281498239</td>\n      <td>4259.70376575625778067</td>\n      <td>0</td>\n      <td>0.09782713</td>\n      <td>0x00032be1982bf81ffc3c56d3c878c310c42995d50552...</td>\n      <td>1637096622</td>\n      <td>336210519.472042</td>\n      <td>1.005807401978425974</td>\n      <td>564782.909424</td>\n    </tr>\n    <tr>\n      <th>3</th>\n      <td>13624827</td>\n      <td>61630.553214901580013419</td>\n      <td>0</td>\n      <td>531238.288292420547886989</td>\n      <td>78976.844825606149460781</td>\n      <td>4358.51573145176590093</td>\n      <td>0</td>\n      <td>0.07216457</td>\n      <td>0x000342cf18da059253b2acd74add8e783d4e41ef4560...</td>\n      <td>1637041182</td>\n      <td>342641906.70397</td>\n      <td>1.005759578812980003</td>\n      <td>563630.101439</td>\n    </tr>\n    <tr>\n      <th>4</th>\n      <td>13410034</td>\n      <td>55766.736623661531067848</td>\n      <td>0</td>\n      <td>424846.447881398312194403</td>\n      <td>71058.742674611917843255</td>\n      <td>3486.726860643180032683</td>\n      <td>0</td>\n      <td>0.08693051</td>\n      <td>0x0007e54f83ee62c35a6d7c3a813c82b5b166ba858d52...</td>\n      <td>1634128754</td>\n      <td>244914598.143537</td>\n      <td>1.005080732013891165</td>\n      <td>447345.023718</td>\n    </tr>\n  </tbody>\n</table>\n</div>"
     },
     "execution_count": 3,
     "metadata": {},
     "output_type": "execute_result"
    },
    {
     "data": {
      "text/plain": "  blockNumber            btcOraclePrice btcScalePrice  \\\n0    13190530  46210.070617015880804731             0   \n1    13462408  64558.258992127116613978             0   \n2    13628866  60222.561027002492925578             0   \n3    13624827  61630.553214901580013419             0   \n4    13410034  55766.736623661531067848             0   \n\n            crv3CryptoSupply                ethBalance  \\\n0  304237.739817166480710438  46982.421726479249592682   \n1  408633.964115203182219155  64063.815289454798625913   \n2  531965.541009809579655034  80662.783002720281498239   \n3  531238.288292420547886989  78976.844825606149460781   \n4  424846.447881398312194403  71058.742674611917843255   \n\n            ethOraclePrice ethScalePrice         fee  \\\n0  3505.639407562792603599             0  0.16493465   \n1  4179.113032641856987662             0  0.13088842   \n2   4259.70376575625778067             0  0.09782713   \n3   4358.51573145176590093             0  0.07216457   \n4  3486.726860643180032683             0  0.08693051   \n\n                                                  id   timestamp  \\\n0  0x0000a051465f674c738951bbee1363c43501ec29a8bd...  1631177128   \n1  0x0001bf5585a38f102397bd2b8cba837b15ced82c8a3b...  1634837799   \n2  0x00032be1982bf81ffc3c56d3c878c310c42995d50552...  1637096622   \n3  0x000342cf18da059253b2acd74add8e783d4e41ef4560...  1637041182   \n4  0x0007e54f83ee62c35a6d7c3a813c82b5b166ba858d52...  1634128754   \n\n        usdtBalance          virtualPrice    wbtcBalance  \n0  167948781.743778  1.003488336958882268  360611.156976  \n1  260780088.827771  1.005475989269216084  415134.999394  \n2  336210519.472042  1.005807401978425974  564782.909424  \n3   342641906.70397  1.005759578812980003  563630.101439  \n4  244914598.143537  1.005080732013891165  447345.023718  ",
      "text/html": "<div>\n<style scoped>\n    .dataframe tbody tr th:only-of-type {\n        vertical-align: middle;\n    }\n\n    .dataframe tbody tr th {\n        vertical-align: top;\n    }\n\n    .dataframe thead th {\n        text-align: right;\n    }\n</style>\n<table border=\"1\" class=\"dataframe\">\n  <thead>\n    <tr style=\"text-align: right;\">\n      <th></th>\n      <th>blockNumber</th>\n      <th>btcOraclePrice</th>\n      <th>btcScalePrice</th>\n      <th>crv3CryptoSupply</th>\n      <th>ethBalance</th>\n      <th>ethOraclePrice</th>\n      <th>ethScalePrice</th>\n      <th>fee</th>\n      <th>id</th>\n      <th>timestamp</th>\n      <th>usdtBalance</th>\n      <th>virtualPrice</th>\n      <th>wbtcBalance</th>\n    </tr>\n  </thead>\n  <tbody>\n    <tr>\n      <th>0</th>\n      <td>13190530</td>\n      <td>46210.070617015880804731</td>\n      <td>0</td>\n      <td>304237.739817166480710438</td>\n      <td>46982.421726479249592682</td>\n      <td>3505.639407562792603599</td>\n      <td>0</td>\n      <td>0.16493465</td>\n      <td>0x0000a051465f674c738951bbee1363c43501ec29a8bd...</td>\n      <td>1631177128</td>\n      <td>167948781.743778</td>\n      <td>1.003488336958882268</td>\n      <td>360611.156976</td>\n    </tr>\n    <tr>\n      <th>1</th>\n      <td>13462408</td>\n      <td>64558.258992127116613978</td>\n      <td>0</td>\n      <td>408633.964115203182219155</td>\n      <td>64063.815289454798625913</td>\n      <td>4179.113032641856987662</td>\n      <td>0</td>\n      <td>0.13088842</td>\n      <td>0x0001bf5585a38f102397bd2b8cba837b15ced82c8a3b...</td>\n      <td>1634837799</td>\n      <td>260780088.827771</td>\n      <td>1.005475989269216084</td>\n      <td>415134.999394</td>\n    </tr>\n    <tr>\n      <th>2</th>\n      <td>13628866</td>\n      <td>60222.561027002492925578</td>\n      <td>0</td>\n      <td>531965.541009809579655034</td>\n      <td>80662.783002720281498239</td>\n      <td>4259.70376575625778067</td>\n      <td>0</td>\n      <td>0.09782713</td>\n      <td>0x00032be1982bf81ffc3c56d3c878c310c42995d50552...</td>\n      <td>1637096622</td>\n      <td>336210519.472042</td>\n      <td>1.005807401978425974</td>\n      <td>564782.909424</td>\n    </tr>\n    <tr>\n      <th>3</th>\n      <td>13624827</td>\n      <td>61630.553214901580013419</td>\n      <td>0</td>\n      <td>531238.288292420547886989</td>\n      <td>78976.844825606149460781</td>\n      <td>4358.51573145176590093</td>\n      <td>0</td>\n      <td>0.07216457</td>\n      <td>0x000342cf18da059253b2acd74add8e783d4e41ef4560...</td>\n      <td>1637041182</td>\n      <td>342641906.70397</td>\n      <td>1.005759578812980003</td>\n      <td>563630.101439</td>\n    </tr>\n    <tr>\n      <th>4</th>\n      <td>13410034</td>\n      <td>55766.736623661531067848</td>\n      <td>0</td>\n      <td>424846.447881398312194403</td>\n      <td>71058.742674611917843255</td>\n      <td>3486.726860643180032683</td>\n      <td>0</td>\n      <td>0.08693051</td>\n      <td>0x0007e54f83ee62c35a6d7c3a813c82b5b166ba858d52...</td>\n      <td>1634128754</td>\n      <td>244914598.143537</td>\n      <td>1.005080732013891165</td>\n      <td>447345.023718</td>\n    </tr>\n  </tbody>\n</table>\n</div>"
     },
     "execution_count": 11,
     "metadata": {},
     "output_type": "execute_result"
    }
   ],
   "source": [
    "query = \"\"\"\n",
    "{\n",
    "  tricryptoSnapshots(first: 5) {\n",
    "    id\n",
    "    blockNumber\n",
    "    timestamp\n",
    "    usdtBalance\n",
    "    ethBalance\n",
    "    wbtcBalance\n",
    "    virtualPrice\n",
    "    ethOraclePrice\n",
    "    btcOraclePrice\n",
    "    ethScalePrice\n",
    "    btcScalePrice\n",
    "    fee\n",
    "    crv3CryptoSupply\n",
    "  }\n",
    "}\n",
    "\"\"\"\n",
    "r = requests.post(api, json={'query': query})\n",
    "data = dict(r.json())\n",
    "df = pd.DataFrame(data['data']['tricryptoSnapshots'])\n",
    "df"
   ],
   "metadata": {
    "collapsed": false,
    "pycharm": {
     "name": "#%%\n"
    }
   }
  },
  {
   "cell_type": "code",
   "execution_count": 12,
   "outputs": [
    {
     "data": {
      "text/plain": "                                      address    amountBTC  \\\n0  0x3993d34e7e99abf6b6f367309975d1360222d446            0   \n1  0xb10fe1db47ce0a5297c5c7360621541274e281b4            0   \n2  0xb10fe1db47ce0a5297c5c7360621541274e281b4            0   \n3  0x85d94ae34808ac936a12ada6cf6d50e53a7d6fb6            0   \n4  0xd10d54830714003575d9f472d62268a29c902e5a  7880.998905   \n\n                         amountBTCUSD                amountETH  \\\n0                                   0                        0   \n1                                   0                        0   \n2                                   0                        0   \n3                                   0     1.876416965896246134   \n4  465168721.501241345535476198794605  1244.911791139253829917   \n\n                          amountETHUSD      amountUSD blockNumber fee  \\\n0                                    0   99645.903951    13460735   0   \n1                                    0           1000    12889153   0   \n2                                    0          20000    13148949   0   \n3  6044.688596335346307899222423213932              0    13018049   0   \n4    4690583.9431887150046941514208151  4752754.32445    13421763   0   \n\n                                                  id   timestamp  \\\n0  0x00138617cf53ac81c1ac55ba6fd006711d18a890dbac...  1634815887   \n1  0x0030e6b63edb86dadf510cf6832f7994341ff0701cc3...  1627131958   \n2  0x0042f539474fd33c4074588f15f8815f510c82514676...  1630620966   \n3  0x0050655b289eaef3b7e3ad0163a2dbc8f73212bd811f...  1628873817   \n4  0x00a72459f07be1d2af3c856f8add63291fe5d67a8512...  1634288960   \n\n                         totalAddedUSD  \\\n0                         99645.903951   \n1                                 1000   \n2                                20000   \n3  6044.688596335346307899222423213932   \n4  474612059.7688800605401703502154201   \n\n                                              txHash  \n0  0x00138617cf53ac81c1ac55ba6fd006711d18a890dbac...  \n1  0x0030e6b63edb86dadf510cf6832f7994341ff0701cc3...  \n2  0x0042f539474fd33c4074588f15f8815f510c82514676...  \n3  0x0050655b289eaef3b7e3ad0163a2dbc8f73212bd811f...  \n4  0x00a72459f07be1d2af3c856f8add63291fe5d67a8512...  ",
      "text/html": "<div>\n<style scoped>\n    .dataframe tbody tr th:only-of-type {\n        vertical-align: middle;\n    }\n\n    .dataframe tbody tr th {\n        vertical-align: top;\n    }\n\n    .dataframe thead th {\n        text-align: right;\n    }\n</style>\n<table border=\"1\" class=\"dataframe\">\n  <thead>\n    <tr style=\"text-align: right;\">\n      <th></th>\n      <th>address</th>\n      <th>amountBTC</th>\n      <th>amountBTCUSD</th>\n      <th>amountETH</th>\n      <th>amountETHUSD</th>\n      <th>amountUSD</th>\n      <th>blockNumber</th>\n      <th>fee</th>\n      <th>id</th>\n      <th>timestamp</th>\n      <th>totalAddedUSD</th>\n      <th>txHash</th>\n    </tr>\n  </thead>\n  <tbody>\n    <tr>\n      <th>0</th>\n      <td>0x3993d34e7e99abf6b6f367309975d1360222d446</td>\n      <td>0</td>\n      <td>0</td>\n      <td>0</td>\n      <td>0</td>\n      <td>99645.903951</td>\n      <td>13460735</td>\n      <td>0</td>\n      <td>0x00138617cf53ac81c1ac55ba6fd006711d18a890dbac...</td>\n      <td>1634815887</td>\n      <td>99645.903951</td>\n      <td>0x00138617cf53ac81c1ac55ba6fd006711d18a890dbac...</td>\n    </tr>\n    <tr>\n      <th>1</th>\n      <td>0xb10fe1db47ce0a5297c5c7360621541274e281b4</td>\n      <td>0</td>\n      <td>0</td>\n      <td>0</td>\n      <td>0</td>\n      <td>1000</td>\n      <td>12889153</td>\n      <td>0</td>\n      <td>0x0030e6b63edb86dadf510cf6832f7994341ff0701cc3...</td>\n      <td>1627131958</td>\n      <td>1000</td>\n      <td>0x0030e6b63edb86dadf510cf6832f7994341ff0701cc3...</td>\n    </tr>\n    <tr>\n      <th>2</th>\n      <td>0xb10fe1db47ce0a5297c5c7360621541274e281b4</td>\n      <td>0</td>\n      <td>0</td>\n      <td>0</td>\n      <td>0</td>\n      <td>20000</td>\n      <td>13148949</td>\n      <td>0</td>\n      <td>0x0042f539474fd33c4074588f15f8815f510c82514676...</td>\n      <td>1630620966</td>\n      <td>20000</td>\n      <td>0x0042f539474fd33c4074588f15f8815f510c82514676...</td>\n    </tr>\n    <tr>\n      <th>3</th>\n      <td>0x85d94ae34808ac936a12ada6cf6d50e53a7d6fb6</td>\n      <td>0</td>\n      <td>0</td>\n      <td>1.876416965896246134</td>\n      <td>6044.688596335346307899222423213932</td>\n      <td>0</td>\n      <td>13018049</td>\n      <td>0</td>\n      <td>0x0050655b289eaef3b7e3ad0163a2dbc8f73212bd811f...</td>\n      <td>1628873817</td>\n      <td>6044.688596335346307899222423213932</td>\n      <td>0x0050655b289eaef3b7e3ad0163a2dbc8f73212bd811f...</td>\n    </tr>\n    <tr>\n      <th>4</th>\n      <td>0xd10d54830714003575d9f472d62268a29c902e5a</td>\n      <td>7880.998905</td>\n      <td>465168721.501241345535476198794605</td>\n      <td>1244.911791139253829917</td>\n      <td>4690583.9431887150046941514208151</td>\n      <td>4752754.32445</td>\n      <td>13421763</td>\n      <td>0</td>\n      <td>0x00a72459f07be1d2af3c856f8add63291fe5d67a8512...</td>\n      <td>1634288960</td>\n      <td>474612059.7688800605401703502154201</td>\n      <td>0x00a72459f07be1d2af3c856f8add63291fe5d67a8512...</td>\n    </tr>\n  </tbody>\n</table>\n</div>"
     },
     "execution_count": 4,
     "metadata": {},
     "output_type": "execute_result"
    },
    {
     "data": {
      "text/plain": "                                      address    amountBTC  \\\n0  0x3993d34e7e99abf6b6f367309975d1360222d446            0   \n1  0xb10fe1db47ce0a5297c5c7360621541274e281b4            0   \n2  0xb10fe1db47ce0a5297c5c7360621541274e281b4            0   \n3  0x85d94ae34808ac936a12ada6cf6d50e53a7d6fb6            0   \n4  0xd10d54830714003575d9f472d62268a29c902e5a  7880.998905   \n\n                         amountBTCUSD                amountETH  \\\n0                                   0                        0   \n1                                   0                        0   \n2                                   0                        0   \n3                                   0     1.876416965896246134   \n4  465168721.501241345535476198794605  1244.911791139253829917   \n\n                          amountETHUSD      amountUSD blockNumber fee  \\\n0                                    0   99645.903951    13460735   0   \n1                                    0           1000    12889153   0   \n2                                    0          20000    13148949   0   \n3  6044.688596335346307899222423213932              0    13018049   0   \n4    4690583.9431887150046941514208151  4752754.32445    13421763   0   \n\n                                                  id   timestamp  \\\n0  0x00138617cf53ac81c1ac55ba6fd006711d18a890dbac...  1634815887   \n1  0x0030e6b63edb86dadf510cf6832f7994341ff0701cc3...  1627131958   \n2  0x0042f539474fd33c4074588f15f8815f510c82514676...  1630620966   \n3  0x0050655b289eaef3b7e3ad0163a2dbc8f73212bd811f...  1628873817   \n4  0x00a72459f07be1d2af3c856f8add63291fe5d67a8512...  1634288960   \n\n                         totalAddedUSD  \\\n0                         99645.903951   \n1                                 1000   \n2                                20000   \n3  6044.688596335346307899222423213932   \n4  474612059.7688800605401703502154201   \n\n                                              txHash  \n0  0x00138617cf53ac81c1ac55ba6fd006711d18a890dbac...  \n1  0x0030e6b63edb86dadf510cf6832f7994341ff0701cc3...  \n2  0x0042f539474fd33c4074588f15f8815f510c82514676...  \n3  0x0050655b289eaef3b7e3ad0163a2dbc8f73212bd811f...  \n4  0x00a72459f07be1d2af3c856f8add63291fe5d67a8512...  ",
      "text/html": "<div>\n<style scoped>\n    .dataframe tbody tr th:only-of-type {\n        vertical-align: middle;\n    }\n\n    .dataframe tbody tr th {\n        vertical-align: top;\n    }\n\n    .dataframe thead th {\n        text-align: right;\n    }\n</style>\n<table border=\"1\" class=\"dataframe\">\n  <thead>\n    <tr style=\"text-align: right;\">\n      <th></th>\n      <th>address</th>\n      <th>amountBTC</th>\n      <th>amountBTCUSD</th>\n      <th>amountETH</th>\n      <th>amountETHUSD</th>\n      <th>amountUSD</th>\n      <th>blockNumber</th>\n      <th>fee</th>\n      <th>id</th>\n      <th>timestamp</th>\n      <th>totalAddedUSD</th>\n      <th>txHash</th>\n    </tr>\n  </thead>\n  <tbody>\n    <tr>\n      <th>0</th>\n      <td>0x3993d34e7e99abf6b6f367309975d1360222d446</td>\n      <td>0</td>\n      <td>0</td>\n      <td>0</td>\n      <td>0</td>\n      <td>99645.903951</td>\n      <td>13460735</td>\n      <td>0</td>\n      <td>0x00138617cf53ac81c1ac55ba6fd006711d18a890dbac...</td>\n      <td>1634815887</td>\n      <td>99645.903951</td>\n      <td>0x00138617cf53ac81c1ac55ba6fd006711d18a890dbac...</td>\n    </tr>\n    <tr>\n      <th>1</th>\n      <td>0xb10fe1db47ce0a5297c5c7360621541274e281b4</td>\n      <td>0</td>\n      <td>0</td>\n      <td>0</td>\n      <td>0</td>\n      <td>1000</td>\n      <td>12889153</td>\n      <td>0</td>\n      <td>0x0030e6b63edb86dadf510cf6832f7994341ff0701cc3...</td>\n      <td>1627131958</td>\n      <td>1000</td>\n      <td>0x0030e6b63edb86dadf510cf6832f7994341ff0701cc3...</td>\n    </tr>\n    <tr>\n      <th>2</th>\n      <td>0xb10fe1db47ce0a5297c5c7360621541274e281b4</td>\n      <td>0</td>\n      <td>0</td>\n      <td>0</td>\n      <td>0</td>\n      <td>20000</td>\n      <td>13148949</td>\n      <td>0</td>\n      <td>0x0042f539474fd33c4074588f15f8815f510c82514676...</td>\n      <td>1630620966</td>\n      <td>20000</td>\n      <td>0x0042f539474fd33c4074588f15f8815f510c82514676...</td>\n    </tr>\n    <tr>\n      <th>3</th>\n      <td>0x85d94ae34808ac936a12ada6cf6d50e53a7d6fb6</td>\n      <td>0</td>\n      <td>0</td>\n      <td>1.876416965896246134</td>\n      <td>6044.688596335346307899222423213932</td>\n      <td>0</td>\n      <td>13018049</td>\n      <td>0</td>\n      <td>0x0050655b289eaef3b7e3ad0163a2dbc8f73212bd811f...</td>\n      <td>1628873817</td>\n      <td>6044.688596335346307899222423213932</td>\n      <td>0x0050655b289eaef3b7e3ad0163a2dbc8f73212bd811f...</td>\n    </tr>\n    <tr>\n      <th>4</th>\n      <td>0xd10d54830714003575d9f472d62268a29c902e5a</td>\n      <td>7880.998905</td>\n      <td>465168721.501241345535476198794605</td>\n      <td>1244.911791139253829917</td>\n      <td>4690583.9431887150046941514208151</td>\n      <td>4752754.32445</td>\n      <td>13421763</td>\n      <td>0</td>\n      <td>0x00a72459f07be1d2af3c856f8add63291fe5d67a8512...</td>\n      <td>1634288960</td>\n      <td>474612059.7688800605401703502154201</td>\n      <td>0x00a72459f07be1d2af3c856f8add63291fe5d67a8512...</td>\n    </tr>\n  </tbody>\n</table>\n</div>"
     },
     "execution_count": 12,
     "metadata": {},
     "output_type": "execute_result"
    }
   ],
   "source": [
    "query = \"\"\"\n",
    "{\n",
    "  addLiquidityEvents(first: 5) {\n",
    "    id\n",
    "    timestamp\n",
    "    blockNumber\n",
    "    txHash\n",
    "    address\n",
    "    fee\n",
    "    amountUSD\n",
    "    amountETH\n",
    "    amountETHUSD\n",
    "    amountBTC\n",
    "    amountBTCUSD\n",
    "    totalAddedUSD\n",
    "  }\n",
    "}\n",
    "\"\"\"\n",
    "r = requests.post(api, json={'query': query})\n",
    "data = dict(r.json())\n",
    "df = pd.DataFrame(data['data']['addLiquidityEvents'])\n",
    "df"
   ],
   "metadata": {
    "collapsed": false,
    "pycharm": {
     "name": "#%%\n"
    }
   }
  },
  {
   "cell_type": "code",
   "execution_count": 5,
   "outputs": [
    {
     "data": {
      "text/plain": "                                      address    amountBTC  \\\n0  0xfb4a5ae508dc15e2e1172bae69fb8ad18cc81d73   163.475922   \n1  0x971987058ed70d8b0e8a3cf84564589a906cdda2  1424.156388   \n2  0xe03a338d5c305613afc3877389dd3b0617233387     1.138102   \n3  0x8f63277257a7eead6de9cf22f809be1de12a5e12            0   \n4  0xe03a338d5c305613afc3877389dd3b0617233387  1022.168304   \n\n                        amountBTCUSD               amountETH  \\\n0  10478335.991462045315607140847582   22.542867334320735893   \n1  89856822.445470487510160162867196  195.080502224299084009   \n2     72577.308929860089511982523292                       0   \n3                                  0    0.803875620517393694   \n4  43504936.002125969448408172645968                       0   \n\n                          amountETHUSD      amountUSD blockNumber  \\\n0  104858.3680826692871762288606257049  103965.874547    13605099   \n1  894861.0938405842423593936143024335  901598.384537    13543258   \n2                                    0              0    13622809   \n3  2551.532843705543527498164017987431              0    13095221   \n4                                    0              0    13295931   \n\n                                                  id   timestamp  \\\n0  0x008ed26e53dd04fe58e8509210721a3ced2c76ac6ba0...  1636771203   \n1  0x00c15e1f8537a1ff53a6e4623d8f19f3fca596bd14f0...  1635934052   \n2  0x00f3fa8b0cb8ecf54a4b9fe226d729870865c72467b6...  1637013506   \n3  0x012134d790551268dc21227b7a6cd35a012971b523e1...  1629904024   \n4  0x01bb75b199667276ee84d9067101dd3e735450a0d9ea...  1632585604   \n\n                       totalRemovedUSD  \\\n0   10687160.2340917146027833697082077   \n1  91653281.92384807175251955648149843   \n2       72577.308929860089511982523292   \n3  2551.532843705543527498164017987431   \n4    43504936.002125969448408172645968   \n\n                                              txHash  \n0  0x008ed26e53dd04fe58e8509210721a3ced2c76ac6ba0...  \n1  0x00c15e1f8537a1ff53a6e4623d8f19f3fca596bd14f0...  \n2  0x00f3fa8b0cb8ecf54a4b9fe226d729870865c72467b6...  \n3  0x012134d790551268dc21227b7a6cd35a012971b523e1...  \n4  0x01bb75b199667276ee84d9067101dd3e735450a0d9ea...  ",
      "text/html": "<div>\n<style scoped>\n    .dataframe tbody tr th:only-of-type {\n        vertical-align: middle;\n    }\n\n    .dataframe tbody tr th {\n        vertical-align: top;\n    }\n\n    .dataframe thead th {\n        text-align: right;\n    }\n</style>\n<table border=\"1\" class=\"dataframe\">\n  <thead>\n    <tr style=\"text-align: right;\">\n      <th></th>\n      <th>address</th>\n      <th>amountBTC</th>\n      <th>amountBTCUSD</th>\n      <th>amountETH</th>\n      <th>amountETHUSD</th>\n      <th>amountUSD</th>\n      <th>blockNumber</th>\n      <th>id</th>\n      <th>timestamp</th>\n      <th>totalRemovedUSD</th>\n      <th>txHash</th>\n    </tr>\n  </thead>\n  <tbody>\n    <tr>\n      <th>0</th>\n      <td>0xfb4a5ae508dc15e2e1172bae69fb8ad18cc81d73</td>\n      <td>163.475922</td>\n      <td>10478335.991462045315607140847582</td>\n      <td>22.542867334320735893</td>\n      <td>104858.3680826692871762288606257049</td>\n      <td>103965.874547</td>\n      <td>13605099</td>\n      <td>0x008ed26e53dd04fe58e8509210721a3ced2c76ac6ba0...</td>\n      <td>1636771203</td>\n      <td>10687160.2340917146027833697082077</td>\n      <td>0x008ed26e53dd04fe58e8509210721a3ced2c76ac6ba0...</td>\n    </tr>\n    <tr>\n      <th>1</th>\n      <td>0x971987058ed70d8b0e8a3cf84564589a906cdda2</td>\n      <td>1424.156388</td>\n      <td>89856822.445470487510160162867196</td>\n      <td>195.080502224299084009</td>\n      <td>894861.0938405842423593936143024335</td>\n      <td>901598.384537</td>\n      <td>13543258</td>\n      <td>0x00c15e1f8537a1ff53a6e4623d8f19f3fca596bd14f0...</td>\n      <td>1635934052</td>\n      <td>91653281.92384807175251955648149843</td>\n      <td>0x00c15e1f8537a1ff53a6e4623d8f19f3fca596bd14f0...</td>\n    </tr>\n    <tr>\n      <th>2</th>\n      <td>0xe03a338d5c305613afc3877389dd3b0617233387</td>\n      <td>1.138102</td>\n      <td>72577.308929860089511982523292</td>\n      <td>0</td>\n      <td>0</td>\n      <td>0</td>\n      <td>13622809</td>\n      <td>0x00f3fa8b0cb8ecf54a4b9fe226d729870865c72467b6...</td>\n      <td>1637013506</td>\n      <td>72577.308929860089511982523292</td>\n      <td>0x00f3fa8b0cb8ecf54a4b9fe226d729870865c72467b6...</td>\n    </tr>\n    <tr>\n      <th>3</th>\n      <td>0x8f63277257a7eead6de9cf22f809be1de12a5e12</td>\n      <td>0</td>\n      <td>0</td>\n      <td>0.803875620517393694</td>\n      <td>2551.532843705543527498164017987431</td>\n      <td>0</td>\n      <td>13095221</td>\n      <td>0x012134d790551268dc21227b7a6cd35a012971b523e1...</td>\n      <td>1629904024</td>\n      <td>2551.532843705543527498164017987431</td>\n      <td>0x012134d790551268dc21227b7a6cd35a012971b523e1...</td>\n    </tr>\n    <tr>\n      <th>4</th>\n      <td>0xe03a338d5c305613afc3877389dd3b0617233387</td>\n      <td>1022.168304</td>\n      <td>43504936.002125969448408172645968</td>\n      <td>0</td>\n      <td>0</td>\n      <td>0</td>\n      <td>13295931</td>\n      <td>0x01bb75b199667276ee84d9067101dd3e735450a0d9ea...</td>\n      <td>1632585604</td>\n      <td>43504936.002125969448408172645968</td>\n      <td>0x01bb75b199667276ee84d9067101dd3e735450a0d9ea...</td>\n    </tr>\n  </tbody>\n</table>\n</div>"
     },
     "execution_count": 5,
     "metadata": {},
     "output_type": "execute_result"
    }
   ],
   "source": [
    "query = \"\"\"\n",
    "{\n",
    "  removeLiquidityEvents(first: 5) {\n",
    "    id\n",
    "    timestamp\n",
    "    blockNumber\n",
    "    txHash\n",
    "    address\n",
    "    amountUSD\n",
    "    amountETH\n",
    "    amountETHUSD\n",
    "    amountBTC\n",
    "    amountBTCUSD\n",
    "    totalRemovedUSD\n",
    "  }\n",
    "}\n",
    "\"\"\"\n",
    "r = requests.post(api, json={'query': query})\n",
    "data = dict(r.json())\n",
    "df = pd.DataFrame(data['data']['removeLiquidityEvents'])\n",
    "df"
   ],
   "metadata": {
    "collapsed": false,
    "pycharm": {
     "name": "#%%\n"
    }
   }
  },
  {
   "cell_type": "code",
   "execution_count": 6,
   "outputs": [
    {
     "data": {
      "text/plain": "                                      address amountBTCBought  \\\n0  0xcd9e13b2f3bfc26cd99989fb849a2751932595c4               0   \n1  0xfa9a30350048b2bf66865ee20363067c66f67e58               0   \n2  0xbf3f6477dbd514ef85b7d3ec6ac2205fd0962039       468.46534   \n3  0x4d246be90c2f36730bb853ad41d0a189061192d3               0   \n4  0x27239549dd40e1d60f5b80b0c4196923745b1fd2               0   \n\n                amountBTCBoughtUSD amountBTCSold  \\\n0                                0    379.796632   \n1                                0             0   \n2  27931819.5991927878053437416086             0   \n3                                0       490.403   \n4                                0             0   \n\n                    amountBTCSoldUSD amountETHBought amountETHBoughtUSD  \\\n0  17620583.552574403330666922089984               0                  0   \n1                                  0               0                  0   \n2                                  0               0                  0   \n3      30059570.69447684125882906888               0                  0   \n4                                  0               0                  0   \n\n  amountETHSold           amountETHSoldUSD amountUSDBought amountUSDSold  \\\n0             0                          0   176191.519056             0   \n1            10    40954.46878815717156742    40868.342323             0   \n2             0                          0               0        280000   \n3             0                          0   300490.286666             0   \n4            52  179411.361508484107521688   180001.001873             0   \n\n  blockNumber                                                 id   timestamp  \\\n0    13190530  0x0000a051465f674c738951bbee1363c43501ec29a8bd...  1631177128   \n1    13462408  0x0001bf5585a38f102397bd2b8cba837b15ced82c8a3b...  1634837799   \n2    13628866  0x00032be1982bf81ffc3c56d3c878c310c42995d50552...  1637096622   \n3    13624827  0x000342cf18da059253b2acd74add8e783d4e41ef4560...  1637041182   \n4    13410034  0x0007e54f83ee62c35a6d7c3a813c82b5b166ba858d52...  1634128754   \n\n                    totalBoughtUSD                       totalSoldUSD  \\\n0                    176191.519056  17620583.552574403330666922089984   \n1                     40868.342323            40954.46878815717156742   \n2  27931819.5991927878053437416086                             280000   \n3                    300490.286666      30059570.69447684125882906888   \n4                    180001.001873          179411.361508484107521688   \n\n                                              txHash  \n0  0x0000a051465f674c738951bbee1363c43501ec29a8bd...  \n1  0x0001bf5585a38f102397bd2b8cba837b15ced82c8a3b...  \n2  0x00032be1982bf81ffc3c56d3c878c310c42995d50552...  \n3  0x000342cf18da059253b2acd74add8e783d4e41ef4560...  \n4  0x0007e54f83ee62c35a6d7c3a813c82b5b166ba858d52...  ",
      "text/html": "<div>\n<style scoped>\n    .dataframe tbody tr th:only-of-type {\n        vertical-align: middle;\n    }\n\n    .dataframe tbody tr th {\n        vertical-align: top;\n    }\n\n    .dataframe thead th {\n        text-align: right;\n    }\n</style>\n<table border=\"1\" class=\"dataframe\">\n  <thead>\n    <tr style=\"text-align: right;\">\n      <th></th>\n      <th>address</th>\n      <th>amountBTCBought</th>\n      <th>amountBTCBoughtUSD</th>\n      <th>amountBTCSold</th>\n      <th>amountBTCSoldUSD</th>\n      <th>amountETHBought</th>\n      <th>amountETHBoughtUSD</th>\n      <th>amountETHSold</th>\n      <th>amountETHSoldUSD</th>\n      <th>amountUSDBought</th>\n      <th>amountUSDSold</th>\n      <th>blockNumber</th>\n      <th>id</th>\n      <th>timestamp</th>\n      <th>totalBoughtUSD</th>\n      <th>totalSoldUSD</th>\n      <th>txHash</th>\n    </tr>\n  </thead>\n  <tbody>\n    <tr>\n      <th>0</th>\n      <td>0xcd9e13b2f3bfc26cd99989fb849a2751932595c4</td>\n      <td>0</td>\n      <td>0</td>\n      <td>379.796632</td>\n      <td>17620583.552574403330666922089984</td>\n      <td>0</td>\n      <td>0</td>\n      <td>0</td>\n      <td>0</td>\n      <td>176191.519056</td>\n      <td>0</td>\n      <td>13190530</td>\n      <td>0x0000a051465f674c738951bbee1363c43501ec29a8bd...</td>\n      <td>1631177128</td>\n      <td>176191.519056</td>\n      <td>17620583.552574403330666922089984</td>\n      <td>0x0000a051465f674c738951bbee1363c43501ec29a8bd...</td>\n    </tr>\n    <tr>\n      <th>1</th>\n      <td>0xfa9a30350048b2bf66865ee20363067c66f67e58</td>\n      <td>0</td>\n      <td>0</td>\n      <td>0</td>\n      <td>0</td>\n      <td>0</td>\n      <td>0</td>\n      <td>10</td>\n      <td>40954.46878815717156742</td>\n      <td>40868.342323</td>\n      <td>0</td>\n      <td>13462408</td>\n      <td>0x0001bf5585a38f102397bd2b8cba837b15ced82c8a3b...</td>\n      <td>1634837799</td>\n      <td>40868.342323</td>\n      <td>40954.46878815717156742</td>\n      <td>0x0001bf5585a38f102397bd2b8cba837b15ced82c8a3b...</td>\n    </tr>\n    <tr>\n      <th>2</th>\n      <td>0xbf3f6477dbd514ef85b7d3ec6ac2205fd0962039</td>\n      <td>468.46534</td>\n      <td>27931819.5991927878053437416086</td>\n      <td>0</td>\n      <td>0</td>\n      <td>0</td>\n      <td>0</td>\n      <td>0</td>\n      <td>0</td>\n      <td>0</td>\n      <td>280000</td>\n      <td>13628866</td>\n      <td>0x00032be1982bf81ffc3c56d3c878c310c42995d50552...</td>\n      <td>1637096622</td>\n      <td>27931819.5991927878053437416086</td>\n      <td>280000</td>\n      <td>0x00032be1982bf81ffc3c56d3c878c310c42995d50552...</td>\n    </tr>\n    <tr>\n      <th>3</th>\n      <td>0x4d246be90c2f36730bb853ad41d0a189061192d3</td>\n      <td>0</td>\n      <td>0</td>\n      <td>490.403</td>\n      <td>30059570.69447684125882906888</td>\n      <td>0</td>\n      <td>0</td>\n      <td>0</td>\n      <td>0</td>\n      <td>300490.286666</td>\n      <td>0</td>\n      <td>13624827</td>\n      <td>0x000342cf18da059253b2acd74add8e783d4e41ef4560...</td>\n      <td>1637041182</td>\n      <td>300490.286666</td>\n      <td>30059570.69447684125882906888</td>\n      <td>0x000342cf18da059253b2acd74add8e783d4e41ef4560...</td>\n    </tr>\n    <tr>\n      <th>4</th>\n      <td>0x27239549dd40e1d60f5b80b0c4196923745b1fd2</td>\n      <td>0</td>\n      <td>0</td>\n      <td>0</td>\n      <td>0</td>\n      <td>0</td>\n      <td>0</td>\n      <td>52</td>\n      <td>179411.361508484107521688</td>\n      <td>180001.001873</td>\n      <td>0</td>\n      <td>13410034</td>\n      <td>0x0007e54f83ee62c35a6d7c3a813c82b5b166ba858d52...</td>\n      <td>1634128754</td>\n      <td>180001.001873</td>\n      <td>179411.361508484107521688</td>\n      <td>0x0007e54f83ee62c35a6d7c3a813c82b5b166ba858d52...</td>\n    </tr>\n  </tbody>\n</table>\n</div>"
     },
     "execution_count": 6,
     "metadata": {},
     "output_type": "execute_result"
    }
   ],
   "source": [
    "query = \"\"\"\n",
    "{\n",
    "  exchangeEvents(first: 5) {\n",
    "    id\n",
    "    timestamp\n",
    "    blockNumber\n",
    "    txHash\n",
    "    address\n",
    "    amountUSDSold\n",
    "    amountETHSold\n",
    "    amountETHSoldUSD\n",
    "    amountBTCSold\n",
    "    amountBTCSoldUSD\n",
    "    amountUSDBought\n",
    "    amountETHBought\n",
    "    amountETHBoughtUSD\n",
    "    amountBTCBought\n",
    "    amountBTCBoughtUSD\n",
    "    totalSoldUSD\n",
    "    totalBoughtUSD\n",
    "  }\n",
    "}\n",
    "\"\"\"\n",
    "r = requests.post(api, json={'query': query})\n",
    "data = dict(r.json())\n",
    "df = pd.DataFrame(data['data']['exchangeEvents'])\n",
    "df"
   ],
   "metadata": {
    "collapsed": false,
    "pycharm": {
     "name": "#%%\n"
    }
   }
  },
  {
   "cell_type": "code",
   "execution_count": 7,
   "outputs": [
    {
     "data": {
      "text/plain": "           amountClaimed blockNumber                     claimDollarValue  \\\n0   5.267110729045378315    12972332  5355.537801728523709562870310218041   \n1   7.034432518135627403    13546987  9695.898990009944773754925394065006   \n2  10.535610224168214847    13186478  11911.15366609846225184717224268235   \n3   0.240644868002566741    12909594  219.6494855668118772849093378019471   \n4   0.004294233080973243    12850491    3.5472677504198792998458897296379   \n\n                                                  id   timestamp  \\\n0  0x001151dbee8cf65f0f5661b91a6e344d3029d20e9e80...  1628265264   \n1  0x0050409604a71ec8d00f96f1d68d227850f271b52b4e...  1635984190   \n2  0x02185464118ebc3afed022a6ecb69c6c789e066eedac...  1631122032   \n3  0x031493020b2c69e32e5a82072975fb5c5dc0749f7296...  1627409197   \n4  0x03cb06dc95d86e2e1f89fb947f90d0b54ada6c40e635...  1626609979   \n\n                                              txHash  \n0  0x001151dbee8cf65f0f5661b91a6e344d3029d20e9e80...  \n1  0x0050409604a71ec8d00f96f1d68d227850f271b52b4e...  \n2  0x02185464118ebc3afed022a6ecb69c6c789e066eedac...  \n3  0x031493020b2c69e32e5a82072975fb5c5dc0749f7296...  \n4  0x03cb06dc95d86e2e1f89fb947f90d0b54ada6c40e635...  ",
      "text/html": "<div>\n<style scoped>\n    .dataframe tbody tr th:only-of-type {\n        vertical-align: middle;\n    }\n\n    .dataframe tbody tr th {\n        vertical-align: top;\n    }\n\n    .dataframe thead th {\n        text-align: right;\n    }\n</style>\n<table border=\"1\" class=\"dataframe\">\n  <thead>\n    <tr style=\"text-align: right;\">\n      <th></th>\n      <th>amountClaimed</th>\n      <th>blockNumber</th>\n      <th>claimDollarValue</th>\n      <th>id</th>\n      <th>timestamp</th>\n      <th>txHash</th>\n    </tr>\n  </thead>\n  <tbody>\n    <tr>\n      <th>0</th>\n      <td>5.267110729045378315</td>\n      <td>12972332</td>\n      <td>5355.537801728523709562870310218041</td>\n      <td>0x001151dbee8cf65f0f5661b91a6e344d3029d20e9e80...</td>\n      <td>1628265264</td>\n      <td>0x001151dbee8cf65f0f5661b91a6e344d3029d20e9e80...</td>\n    </tr>\n    <tr>\n      <th>1</th>\n      <td>7.034432518135627403</td>\n      <td>13546987</td>\n      <td>9695.898990009944773754925394065006</td>\n      <td>0x0050409604a71ec8d00f96f1d68d227850f271b52b4e...</td>\n      <td>1635984190</td>\n      <td>0x0050409604a71ec8d00f96f1d68d227850f271b52b4e...</td>\n    </tr>\n    <tr>\n      <th>2</th>\n      <td>10.535610224168214847</td>\n      <td>13186478</td>\n      <td>11911.15366609846225184717224268235</td>\n      <td>0x02185464118ebc3afed022a6ecb69c6c789e066eedac...</td>\n      <td>1631122032</td>\n      <td>0x02185464118ebc3afed022a6ecb69c6c789e066eedac...</td>\n    </tr>\n    <tr>\n      <th>3</th>\n      <td>0.240644868002566741</td>\n      <td>12909594</td>\n      <td>219.6494855668118772849093378019471</td>\n      <td>0x031493020b2c69e32e5a82072975fb5c5dc0749f7296...</td>\n      <td>1627409197</td>\n      <td>0x031493020b2c69e32e5a82072975fb5c5dc0749f7296...</td>\n    </tr>\n    <tr>\n      <th>4</th>\n      <td>0.004294233080973243</td>\n      <td>12850491</td>\n      <td>3.5472677504198792998458897296379</td>\n      <td>0x03cb06dc95d86e2e1f89fb947f90d0b54ada6c40e635...</td>\n      <td>1626609979</td>\n      <td>0x03cb06dc95d86e2e1f89fb947f90d0b54ada6c40e635...</td>\n    </tr>\n  </tbody>\n</table>\n</div>"
     },
     "execution_count": 7,
     "metadata": {},
     "output_type": "execute_result"
    }
   ],
   "source": [
    "query = \"\"\"\n",
    "{\n",
    "  claimAdminFeeEvents(first: 5) {\n",
    "    id\n",
    "    timestamp\n",
    "    blockNumber\n",
    "    txHash\n",
    "    amountClaimed\n",
    "    claimDollarValue\n",
    "  }\n",
    "}\n",
    "\"\"\"\n",
    "r = requests.post(api, json={'query': query})\n",
    "data = dict(r.json())\n",
    "df = pd.DataFrame(data['data']['claimAdminFeeEvents'])\n",
    "df"
   ],
   "metadata": {
    "collapsed": false,
    "pycharm": {
     "name": "#%%\n"
    }
   }
  },
  {
   "cell_type": "code",
   "execution_count": 8,
   "outputs": [
    {
     "data": {
      "text/plain": "  blockNumber                  btcPrice  \\\n0    13190530  46394.786230159100859712   \n1    13462408  63176.257882341414232109   \n2    13628866   59624.09001099801279929   \n3    13624827   61295.65009691384689496   \n4    13410034  55169.614351440606531219   \n\n                           crv3cryptoBTC  \\\n0  0.02458795267319142113851134941035205   \n1  0.02101854126587413170699042978996131   \n2  0.02201437066293764768033688176004783   \n3   0.0218828327070965443942012594679246   \n4  0.02172518014427717970068146684801579   \n\n                          crv3cryptoETH       crv3cryptoUSD  \\\n0  0.3219889172375084713527369363121787   1140.752808109985   \n1  0.3242314752492848041486400287990465  1327.8727833234989   \n2  0.3132730417022926212873858998147979  1312.5868179424683   \n3  0.3083897614167792433103905411003951  1341.3224567434918   \n4  0.3473895388245562330270976565838952  1198.5698102753468   \n\n                  ethPrice                                                 id  \\\n0  3542.832523234121946961  0x0000a051465f674c738951bbee1363c43501ec29a8bd...   \n1  4095.446878815717156742  0x0001bf5585a38f102397bd2b8cba837b15ced82c8a3b...   \n2  4189.913089265549835721  0x00032be1982bf81ffc3c56d3c878c310c42995d50552...   \n3  4349.439004010045272171  0x000342cf18da059253b2acd74add8e783d4e41ef4560...   \n4  3450.218490547771298494  0x0007e54f83ee62c35a6d7c3a813c82b5b166ba858d52...   \n\n                              indexNumBTC  \\\n0  0.008195984224397140379503783136784017   \n1  0.007006180421958043902330143263320437   \n2  0.007338123554312549226778960586682611   \n3  0.007294277569032181464733753155974866   \n4  0.007241726714759059900227155616005262   \n\n                            indexNumETH                          indexNumUSD  \\\n0  0.1073296390791694904509123121040596  380.2509360366616666666666666666667   \n1  0.1080771584164282680495466762663488  442.6242611078329666666666666666667   \n2  0.1044243472340975404291286332715993                    437.5289393141561   \n3   0.102796587138926414436796847033465  447.1074855811639333333333333333333   \n4  0.1157965129415187443423658855279651  399.5232700917822666666666666666667   \n\n    timestamp  \n0  1631177128  \n1  1634837799  \n2  1637096622  \n3  1637041182  \n4  1634128754  ",
      "text/html": "<div>\n<style scoped>\n    .dataframe tbody tr th:only-of-type {\n        vertical-align: middle;\n    }\n\n    .dataframe tbody tr th {\n        vertical-align: top;\n    }\n\n    .dataframe thead th {\n        text-align: right;\n    }\n</style>\n<table border=\"1\" class=\"dataframe\">\n  <thead>\n    <tr style=\"text-align: right;\">\n      <th></th>\n      <th>blockNumber</th>\n      <th>btcPrice</th>\n      <th>crv3cryptoBTC</th>\n      <th>crv3cryptoETH</th>\n      <th>crv3cryptoUSD</th>\n      <th>ethPrice</th>\n      <th>id</th>\n      <th>indexNumBTC</th>\n      <th>indexNumETH</th>\n      <th>indexNumUSD</th>\n      <th>timestamp</th>\n    </tr>\n  </thead>\n  <tbody>\n    <tr>\n      <th>0</th>\n      <td>13190530</td>\n      <td>46394.786230159100859712</td>\n      <td>0.02458795267319142113851134941035205</td>\n      <td>0.3219889172375084713527369363121787</td>\n      <td>1140.752808109985</td>\n      <td>3542.832523234121946961</td>\n      <td>0x0000a051465f674c738951bbee1363c43501ec29a8bd...</td>\n      <td>0.008195984224397140379503783136784017</td>\n      <td>0.1073296390791694904509123121040596</td>\n      <td>380.2509360366616666666666666666667</td>\n      <td>1631177128</td>\n    </tr>\n    <tr>\n      <th>1</th>\n      <td>13462408</td>\n      <td>63176.257882341414232109</td>\n      <td>0.02101854126587413170699042978996131</td>\n      <td>0.3242314752492848041486400287990465</td>\n      <td>1327.8727833234989</td>\n      <td>4095.446878815717156742</td>\n      <td>0x0001bf5585a38f102397bd2b8cba837b15ced82c8a3b...</td>\n      <td>0.007006180421958043902330143263320437</td>\n      <td>0.1080771584164282680495466762663488</td>\n      <td>442.6242611078329666666666666666667</td>\n      <td>1634837799</td>\n    </tr>\n    <tr>\n      <th>2</th>\n      <td>13628866</td>\n      <td>59624.09001099801279929</td>\n      <td>0.02201437066293764768033688176004783</td>\n      <td>0.3132730417022926212873858998147979</td>\n      <td>1312.5868179424683</td>\n      <td>4189.913089265549835721</td>\n      <td>0x00032be1982bf81ffc3c56d3c878c310c42995d50552...</td>\n      <td>0.007338123554312549226778960586682611</td>\n      <td>0.1044243472340975404291286332715993</td>\n      <td>437.5289393141561</td>\n      <td>1637096622</td>\n    </tr>\n    <tr>\n      <th>3</th>\n      <td>13624827</td>\n      <td>61295.65009691384689496</td>\n      <td>0.0218828327070965443942012594679246</td>\n      <td>0.3083897614167792433103905411003951</td>\n      <td>1341.3224567434918</td>\n      <td>4349.439004010045272171</td>\n      <td>0x000342cf18da059253b2acd74add8e783d4e41ef4560...</td>\n      <td>0.007294277569032181464733753155974866</td>\n      <td>0.102796587138926414436796847033465</td>\n      <td>447.1074855811639333333333333333333</td>\n      <td>1637041182</td>\n    </tr>\n    <tr>\n      <th>4</th>\n      <td>13410034</td>\n      <td>55169.614351440606531219</td>\n      <td>0.02172518014427717970068146684801579</td>\n      <td>0.3473895388245562330270976565838952</td>\n      <td>1198.5698102753468</td>\n      <td>3450.218490547771298494</td>\n      <td>0x0007e54f83ee62c35a6d7c3a813c82b5b166ba858d52...</td>\n      <td>0.007241726714759059900227155616005262</td>\n      <td>0.1157965129415187443423658855279651</td>\n      <td>399.5232700917822666666666666666667</td>\n      <td>1634128754</td>\n    </tr>\n  </tbody>\n</table>\n</div>"
     },
     "execution_count": 8,
     "metadata": {},
     "output_type": "execute_result"
    }
   ],
   "source": [
    "query = \"\"\"\n",
    "{\n",
    "  assetPrices(first: 5) {\n",
    "    id\n",
    "    timestamp\n",
    "    blockNumber\n",
    "    crv3cryptoUSD\n",
    "    crv3cryptoETH\n",
    "    crv3cryptoBTC\n",
    "    btcPrice\n",
    "    ethPrice\n",
    "    indexNumUSD\n",
    "    indexNumBTC\n",
    "    indexNumETH\n",
    "  }\n",
    "}\n",
    "\"\"\"\n",
    "r = requests.post(api, json={'query': query})\n",
    "data = dict(r.json())\n",
    "df = pd.DataFrame(data['data']['assetPrices'])\n",
    "df"
   ],
   "metadata": {
    "collapsed": false,
    "pycharm": {
     "name": "#%%\n"
    }
   }
  },
  {
   "cell_type": "code",
   "execution_count": 8,
   "outputs": [],
   "source": [],
   "metadata": {
    "collapsed": false,
    "pycharm": {
     "name": "#%%\n"
    }
   }
  }
 ],
 "metadata": {
  "kernelspec": {
   "display_name": "Python 3",
   "language": "python",
   "name": "python3"
  },
  "language_info": {
   "codemirror_mode": {
    "name": "ipython",
    "version": 2
   },
   "file_extension": ".py",
   "mimetype": "text/x-python",
   "name": "python",
   "nbconvert_exporter": "python",
   "pygments_lexer": "ipython2",
   "version": "2.7.6"
  }
 },
 "nbformat": 4,
 "nbformat_minor": 0
}