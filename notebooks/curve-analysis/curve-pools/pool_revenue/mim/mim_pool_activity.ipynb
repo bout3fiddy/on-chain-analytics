{
 "cells": [
  {
   "cell_type": "code",
   "execution_count": 56,
   "metadata": {
    "collapsed": true
   },
   "outputs": [],
   "source": [
    "import os\n",
    "import json\n",
    "from web3 import Web3, HTTPProvider\n",
    "\n",
    "import pandas as pd\n",
    "import matplotlib.pyplot as plt\n",
    "import seaborn as sns\n",
    "sns.set_style(\"whitegrid\")\n",
    "\n",
    "from utils.eth_blocks_utils import get_timestamp_for_block"
   ]
  },
  {
   "cell_type": "code",
   "execution_count": 30,
   "outputs": [],
   "source": [
    "ALCHEMY_API_KEY = os.environ['ALCHEMY_API_KEY']\n",
    "web3 = Web3(HTTPProvider(f\"https://eth-mainnet.alchemyapi.io/v2/{ALCHEMY_API_KEY}\"))"
   ],
   "metadata": {
    "collapsed": false,
    "pycharm": {
     "name": "#%%\n"
    }
   }
  },
  {
   "cell_type": "code",
   "execution_count": 31,
   "outputs": [],
   "source": [
    "pool_addr = \"0x5a6A4D54456819380173272A5E8E9B9904BdF41B\""
   ],
   "metadata": {
    "collapsed": false,
    "pycharm": {
     "name": "#%%\n"
    }
   }
  },
  {
   "cell_type": "code",
   "execution_count": 32,
   "outputs": [
    {
     "data": {
      "text/plain": "<web3._utils.datatypes.Contract at 0x14b0fc950>"
     },
     "execution_count": 32,
     "metadata": {},
     "output_type": "execute_result"
    }
   ],
   "source": [
    "with open(\"./mim-3pool.json\", 'r') as f:\n",
    "    abi = json.load(f)\n",
    "mim_3pool = web3.eth.contract(address=pool_addr, abi=abi)\n",
    "mim_3pool"
   ],
   "metadata": {
    "collapsed": false,
    "pycharm": {
     "name": "#%%\n"
    }
   }
  },
  {
   "cell_type": "code",
   "execution_count": 33,
   "outputs": [
    {
     "data": {
      "text/plain": "13673437"
     },
     "execution_count": 33,
     "metadata": {},
     "output_type": "execute_result"
    }
   ],
   "source": [
    "current_block = web3.eth.get_block_number()\n",
    "current_block"
   ],
   "metadata": {
    "collapsed": false,
    "pycharm": {
     "name": "#%%\n"
    }
   }
  },
  {
   "cell_type": "code",
   "execution_count": 34,
   "outputs": [],
   "source": [
    "genesis_block = 12557139"
   ],
   "metadata": {
    "collapsed": false,
    "pycharm": {
     "name": "#%%\n"
    }
   }
  },
  {
   "cell_type": "code",
   "execution_count": 35,
   "outputs": [],
   "source": [
    "mim3pool_add_liquidity_filter = mim_3pool.events.AddLiquidity.createFilter(\n",
    "    fromBlock=genesis_block,\n",
    "    toBlock=current_block\n",
    ")\n",
    "mim3pool_remove_liquidity_filter = mim_3pool.events.RemoveLiquidity.createFilter(\n",
    "    fromBlock=genesis_block,\n",
    "    toBlock=current_block\n",
    ")\n",
    "mim3pool_remove_liquidity_one_filter = mim_3pool.events.RemoveLiquidityOne.createFilter(\n",
    "    fromBlock=genesis_block,\n",
    "    toBlock=current_block\n",
    ")\n",
    "mim3pool_remove_liquidity_imbalance_filter = mim_3pool.events.RemoveLiquidityImbalance.createFilter(\n",
    "    fromBlock=genesis_block,\n",
    "    toBlock=current_block\n",
    ")\n"
   ],
   "metadata": {
    "collapsed": false,
    "pycharm": {
     "name": "#%%\n"
    }
   }
  },
  {
   "cell_type": "code",
   "execution_count": 36,
   "outputs": [],
   "source": [
    "add_liquidity_events = mim3pool_add_liquidity_filter.get_all_entries()\n",
    "add_liquidity_event_blocks = [event['blockNumber'] for event in add_liquidity_events]"
   ],
   "metadata": {
    "collapsed": false,
    "pycharm": {
     "name": "#%%\n"
    }
   }
  },
  {
   "cell_type": "code",
   "execution_count": 37,
   "outputs": [],
   "source": [
    "remove_liquidity_events = (\n",
    "        mim3pool_add_liquidity_filter.get_all_entries() +\n",
    "        mim3pool_remove_liquidity_one_filter.get_all_entries() +\n",
    "        mim3pool_remove_liquidity_imbalance_filter.get_all_entries()\n",
    ")\n",
    "remove_liquidity_event_blocks = [event['blockNumber'] for event in remove_liquidity_events]"
   ],
   "metadata": {
    "collapsed": false,
    "pycharm": {
     "name": "#%%\n"
    }
   }
  },
  {
   "cell_type": "code",
   "execution_count": 40,
   "outputs": [
    {
     "data": {
      "text/plain": "7949"
     },
     "execution_count": 40,
     "metadata": {},
     "output_type": "execute_result"
    }
   ],
   "source": [
    "len(remove_liquidity_event_blocks)"
   ],
   "metadata": {
    "collapsed": false,
    "pycharm": {
     "name": "#%%\n"
    }
   }
  },
  {
   "cell_type": "code",
   "execution_count": 43,
   "outputs": [
    {
     "data": {
      "text/plain": "[(12557139, 12836213),\n (12836213, 13115287),\n (13115287, 13394361),\n (13394361, 13673435)]"
     },
     "execution_count": 43,
     "metadata": {},
     "output_type": "execute_result"
    }
   ],
   "source": [
    "block_steps = list(range(genesis_block, current_block, int(0.25 * round(current_block - genesis_block))))\n",
    "block_ranges = list(zip(block_steps, block_steps[1:]))\n",
    "block_ranges"
   ],
   "metadata": {
    "collapsed": false,
    "pycharm": {
     "name": "#%%\n"
    }
   }
  },
  {
   "cell_type": "code",
   "execution_count": 47,
   "outputs": [],
   "source": [
    "swap_event_blocks = []\n",
    "for (block_start, block_end) in block_ranges:\n",
    "\n",
    "    mim3pool_token_exchange_filter = mim_3pool.events.TokenExchange.createFilter(\n",
    "        fromBlock=block_start,\n",
    "        toBlock=block_end\n",
    "    )\n",
    "    mim3pool_token_exchange_underlying_filter = mim_3pool.events.TokenExchangeUnderlying.createFilter(\n",
    "        fromBlock=block_start,\n",
    "        toBlock=block_end\n",
    "    )\n",
    "    swap_events = (\n",
    "            mim3pool_token_exchange_filter.get_all_entries() +\n",
    "            mim3pool_token_exchange_underlying_filter.get_all_entries()\n",
    "    )\n",
    "    swap_event_blocks.extend([event['blockNumber'] for event in swap_events])"
   ],
   "metadata": {
    "collapsed": false,
    "pycharm": {
     "name": "#%%\n"
    }
   }
  },
  {
   "cell_type": "code",
   "execution_count": 48,
   "outputs": [
    {
     "data": {
      "text/plain": "13217"
     },
     "execution_count": 48,
     "metadata": {},
     "output_type": "execute_result"
    }
   ],
   "source": [
    "len(swap_event_blocks)"
   ],
   "metadata": {
    "collapsed": false,
    "pycharm": {
     "name": "#%%\n"
    }
   }
  },
  {
   "cell_type": "code",
   "execution_count": 55,
   "outputs": [
    {
     "data": {
      "text/plain": "AttributeDict({'args': AttributeDict({'provider': '0xA79828DF1850E8a3A3064576f380D90aECDD3359',\n  'token_amounts': [1000000000000000000, 982550782793487597],\n  'fees': [0, 0],\n  'invariant': 1999653412335332754,\n  'token_supply': 1999653412335332754}),\n 'event': 'AddLiquidity',\n 'logIndex': 182,\n 'transactionIndex': 98,\n 'transactionHash': HexBytes('0x24dc3cee22548de65ac37891fd17e95e6842dc390e7e3672608af1e21c265fd2'),\n 'address': '0x5a6A4D54456819380173272A5E8E9B9904BdF41B',\n 'blockHash': HexBytes('0x3fab3b246b5e931f142a3de66987642e070b5464e6bf964a6796f21ebed92e8b'),\n 'blockNumber': 12557271})"
     },
     "execution_count": 55,
     "metadata": {},
     "output_type": "execute_result"
    }
   ],
   "source": [
    "remove_liquidity_events[0]"
   ],
   "metadata": {
    "collapsed": false,
    "pycharm": {
     "name": "#%%\n"
    }
   }
  },
  {
   "cell_type": "markdown",
   "source": [
    "plots:"
   ],
   "metadata": {
    "collapsed": false
   }
  },
  {
   "cell_type": "code",
   "execution_count": 52,
   "outputs": [],
   "source": [
    "df_swap_event_blocks = pd.DataFrame(data=swap_event_blocks, columns=['block_number'])\n",
    "df_swap_event_blocks['num_swaps'] = 1\n",
    "df_swap_event_blocks['timestamp'] = [get_timestamp_for_block(block) for block in swap_event_blocks]\n",
    "df_add_liquidity_blocks = pd.DataFrame(data=add_liquidity_event_blocks, columns=['block_number'])\n",
    "df_add_liquidity_blocks['num_swaps'] = 1\n",
    "df_remove_liquidity_blocks = pd.DataFrame(data=remove_liquidity_event_blocks, columns=['block_number'])\n",
    "df_remove_liquidity_blocks['num_swaps'] = 1"
   ],
   "metadata": {
    "collapsed": false,
    "pycharm": {
     "name": "#%%\n"
    }
   }
  },
  {
   "cell_type": "code",
   "execution_count": 81,
   "outputs": [],
   "source": [
    "bins = list(range(genesis_block, current_block, 50000))"
   ],
   "metadata": {
    "collapsed": false,
    "pycharm": {
     "name": "#%%\n"
    }
   }
  },
  {
   "cell_type": "code",
   "execution_count": 103,
   "outputs": [],
   "source": [
    "def bin_txes(df, bins, column_name):\n",
    "    df_binned = pd.cut(df['block_number'], bins=bins).value_counts()\n",
    "    df_binned = df_binned.reset_index()\n",
    "    df_binned['block_end'] = [a.right for a in df_binned['index']]\n",
    "    df_binned.drop(columns=['index'], inplace=True)\n",
    "    df_binned = df_binned.rename(columns={\"block_number\": column_name})\n",
    "    df_binned.set_index(\"block_end\", inplace=True)\n",
    "    df_binned.sort_index(ascending=True, inplace=True)\n",
    "    return df_binned"
   ],
   "metadata": {
    "collapsed": false,
    "pycharm": {
     "name": "#%%\n"
    }
   }
  },
  {
   "cell_type": "code",
   "execution_count": 104,
   "outputs": [],
   "source": [
    "df_binned_swaps = bin_txes(df_swap_event_blocks, bins, 'num_swap_txes')\n",
    "df_binned_add_liq = bin_txes(df_add_liquidity_blocks, bins, 'num_add_txes')\n",
    "df_binned_remove_liq = bin_txes(df_remove_liquidity_blocks, bins, 'num_remove_txes')"
   ],
   "metadata": {
    "collapsed": false,
    "pycharm": {
     "name": "#%%\n"
    }
   }
  },
  {
   "cell_type": "code",
   "execution_count": 106,
   "outputs": [],
   "source": [
    "df_all = pd.concat([df_binned_add_liq, df_binned_remove_liq, df_binned_swaps], axis=1)"
   ],
   "metadata": {
    "collapsed": false,
    "pycharm": {
     "name": "#%%\n"
    }
   }
  },
  {
   "cell_type": "code",
   "execution_count": 109,
   "outputs": [
    {
     "data": {
      "text/plain": "<matplotlib.legend.Legend at 0x14e1345d0>"
     },
     "execution_count": 109,
     "metadata": {},
     "output_type": "execute_result"
    },
    {
     "data": {
      "text/plain": "<Figure size 1440x576 with 1 Axes>",
      "image/png": "[encoded data removed]"
     },
     "metadata": {},
     "output_type": "display_data"
    }
   ],
   "source": [
    "fig, ax = plt.subplots(1,1, figsize=(20, 8))\n",
    "\n",
    "df_all.plot(\n",
    "    ax=ax,\n",
    "    kind='bar',\n",
    "    stacked=True\n",
    ")\n",
    "\n",
    "ax.set_xlabel(\"Block Number\", fontsize=25)\n",
    "ax.set_ylabel(\"Number of Txes\", fontsize=25)\n",
    "ax.tick_params(axis='both', which='major', labelsize=25)\n",
    "ax.tick_params(axis='x', which='major', colors='black')\n",
    "ax.legend(fontsize=25)"
   ],
   "metadata": {
    "collapsed": false,
    "pycharm": {
     "name": "#%%\n"
    }
   }
  },
  {
   "cell_type": "code",
   "execution_count": null,
   "outputs": [],
   "source": [],
   "metadata": {
    "collapsed": false,
    "pycharm": {
     "name": "#%%\n"
    }
   }
  }
 ],
 "metadata": {
  "kernelspec": {
   "display_name": "Python 3",
   "language": "python",
   "name": "python3"
  },
  "language_info": {
   "codemirror_mode": {
    "name": "ipython",
    "version": 2
   },
   "file_extension": ".py",
   "mimetype": "text/x-python",
   "name": "python",
   "nbconvert_exporter": "python",
   "pygments_lexer": "ipython2",
   "version": "2.7.6"
  }
 },
 "nbformat": 4,
 "nbformat_minor": 0
}