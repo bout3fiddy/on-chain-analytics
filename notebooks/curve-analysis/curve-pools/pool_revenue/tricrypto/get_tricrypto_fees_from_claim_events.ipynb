{
 "cells": [
  {
   "cell_type": "code",
   "execution_count": 1,
   "metadata": {
    "collapsed": true
   },
   "outputs": [],
   "source": [
    "import os\n",
    "from typing import List\n",
    "import json\n",
    "\n",
    "import requests as requests\n",
    "from typing import Union\n",
    "\n",
    "from web3 import Web3, HTTPProvider"
   ]
  },
  {
   "cell_type": "code",
   "execution_count": 2,
   "outputs": [],
   "source": [
    "import pandas as pd\n",
    "import matplotlib.pyplot as plt\n",
    "import seaborn as sns\n",
    "sns.set_style(\"whitegrid\")"
   ],
   "metadata": {
    "collapsed": false,
    "pycharm": {
     "name": "#%%\n"
    }
   }
  },
  {
   "cell_type": "code",
   "execution_count": 3,
   "outputs": [],
   "source": [
    "ALCHEMY_API_KEY = os.environ['ALCHEMY_API_KEY']\n",
    "web3 = Web3(HTTPProvider(f\"https://eth-mainnet.alchemyapi.io/v2/{ALCHEMY_API_KEY}\"))"
   ],
   "metadata": {
    "collapsed": false,
    "pycharm": {
     "name": "#%%\n"
    }
   }
  },
  {
   "cell_type": "code",
   "execution_count": 4,
   "outputs": [],
   "source": [
    "pool_addr = \"0xD51a44d3FaE010294C616388b506AcdA1bfAAE46\"\n",
    "pool_token_addr = \"0xc4AD29ba4B3c580e6D59105FFf484999997675Ff\"\n",
    "lp_token_price_oracle_addr = \"0xE8b2989276E2Ca8FDEA2268E3551b2b4B2418950\"\n",
    "with open(\"./tricrypto2.json\", 'r') as f:\n",
    "    abi = json.load(f)\n",
    "with open(\"./3crvcrypto_oracle.json\", 'r') as f:\n",
    "    abi_oracle = json.load(f)\n",
    "contract = web3.eth.contract(address=pool_addr, abi=abi)\n",
    "oracle = web3.eth.contract(address=lp_token_price_oracle_addr, abi=abi_oracle)"
   ],
   "metadata": {
    "collapsed": false,
    "pycharm": {
     "name": "#%%\n"
    }
   }
  },
  {
   "cell_type": "code",
   "execution_count": 5,
   "outputs": [
    {
     "data": {
      "text/plain": "'0xc4ad29ba4b3c580e6d59105fff484999997675ff'"
     },
     "execution_count": 5,
     "metadata": {},
     "output_type": "execute_result"
    }
   ],
   "source": [
    "pool_token_addr.lower()"
   ],
   "metadata": {
    "collapsed": false,
    "pycharm": {
     "name": "#%%\n"
    }
   }
  },
  {
   "cell_type": "code",
   "execution_count": 6,
   "outputs": [
    {
     "data": {
      "text/plain": "             block           fees\nblock                            \n12874992  12874992       0.000000\n12917964  12917964  -26250.762708\n12961965  12961965   24342.224780\n13007147  13007147   60563.719539\n13052446  13052446  166746.475245\n13097719  13097719  194427.725807\n13142950  13142950  177009.724078\n13189474  13189474  381457.789816\n13233504  13233504  304706.989145\n13279324  13279324  453259.390815\n13324114  13324114  431891.537051\n13368595  13368595  322835.263104\n13413314  13413314  312900.241033\n13458926  13458926  470963.269658\n13509655  13509655   42514.665181\n13549403  13549403  173363.290721\n13592432  13592432  168483.479234",
      "text/html": "<div>\n<style scoped>\n    .dataframe tbody tr th:only-of-type {\n        vertical-align: middle;\n    }\n\n    .dataframe tbody tr th {\n        vertical-align: top;\n    }\n\n    .dataframe thead th {\n        text-align: right;\n    }\n</style>\n<table border=\"1\" class=\"dataframe\">\n  <thead>\n    <tr style=\"text-align: right;\">\n      <th></th>\n      <th>block</th>\n      <th>fees</th>\n    </tr>\n    <tr>\n      <th>block</th>\n      <th></th>\n      <th></th>\n    </tr>\n  </thead>\n  <tbody>\n    <tr>\n      <th>12874992</th>\n      <td>12874992</td>\n      <td>0.000000</td>\n    </tr>\n    <tr>\n      <th>12917964</th>\n      <td>12917964</td>\n      <td>-26250.762708</td>\n    </tr>\n    <tr>\n      <th>12961965</th>\n      <td>12961965</td>\n      <td>24342.224780</td>\n    </tr>\n    <tr>\n      <th>13007147</th>\n      <td>13007147</td>\n      <td>60563.719539</td>\n    </tr>\n    <tr>\n      <th>13052446</th>\n      <td>13052446</td>\n      <td>166746.475245</td>\n    </tr>\n    <tr>\n      <th>13097719</th>\n      <td>13097719</td>\n      <td>194427.725807</td>\n    </tr>\n    <tr>\n      <th>13142950</th>\n      <td>13142950</td>\n      <td>177009.724078</td>\n    </tr>\n    <tr>\n      <th>13189474</th>\n      <td>13189474</td>\n      <td>381457.789816</td>\n    </tr>\n    <tr>\n      <th>13233504</th>\n      <td>13233504</td>\n      <td>304706.989145</td>\n    </tr>\n    <tr>\n      <th>13279324</th>\n      <td>13279324</td>\n      <td>453259.390815</td>\n    </tr>\n    <tr>\n      <th>13324114</th>\n      <td>13324114</td>\n      <td>431891.537051</td>\n    </tr>\n    <tr>\n      <th>13368595</th>\n      <td>13368595</td>\n      <td>322835.263104</td>\n    </tr>\n    <tr>\n      <th>13413314</th>\n      <td>13413314</td>\n      <td>312900.241033</td>\n    </tr>\n    <tr>\n      <th>13458926</th>\n      <td>13458926</td>\n      <td>470963.269658</td>\n    </tr>\n    <tr>\n      <th>13509655</th>\n      <td>13509655</td>\n      <td>42514.665181</td>\n    </tr>\n    <tr>\n      <th>13549403</th>\n      <td>13549403</td>\n      <td>173363.290721</td>\n    </tr>\n    <tr>\n      <th>13592432</th>\n      <td>13592432</td>\n      <td>168483.479234</td>\n    </tr>\n  </tbody>\n</table>\n</div>"
     },
     "execution_count": 6,
     "metadata": {},
     "output_type": "execute_result"
    }
   ],
   "source": [
    "url = \"https://api.thegraph.com/subgraphs/name/convex-community/crv-emissions\"\n",
    "# needs pool token addr and not pool addr:\n",
    "query = '''\n",
    "{\n",
    "  poolSnapshots (\n",
    "    where:{\n",
    "      pool: \"0xc4ad29ba4b3c580e6d59105fff484999997675ff\"\n",
    "    }\n",
    "  )\n",
    "  {\n",
    "    fees\n",
    "    block\n",
    "  }\n",
    "}\n",
    "'''\n",
    "r = requests.post(url, json={'query': query})\n",
    "dict_response= dict(r.json())\n",
    "df_subgraph_pool_data = pd.DataFrame(dict_response['data']['poolSnapshots'])\n",
    "df_subgraph_pool_data['block'] = df_subgraph_pool_data.block.astype(int)\n",
    "df_subgraph_pool_data['fees'] = df_subgraph_pool_data.fees.astype(float)\n",
    "df_subgraph_pool_data.index = df_subgraph_pool_data.block\n",
    "df_subgraph_pool_data"
   ],
   "metadata": {
    "collapsed": false,
    "pycharm": {
     "name": "#%%\n"
    }
   }
  },
  {
   "cell_type": "code",
   "execution_count": 7,
   "outputs": [
    {
     "data": {
      "text/plain": "[(12874992, 12917964),\n (12917964, 12961965),\n (12961965, 13007147),\n (13007147, 13052446),\n (13052446, 13097719),\n (13097719, 13142950),\n (13142950, 13189474),\n (13189474, 13233504),\n (13233504, 13279324),\n (13279324, 13324114),\n (13324114, 13368595),\n (13368595, 13413314),\n (13413314, 13458926),\n (13458926, 13509655),\n (13509655, 13549403),\n (13549403, 13592432)]"
     },
     "execution_count": 7,
     "metadata": {},
     "output_type": "execute_result"
    }
   ],
   "source": [
    "blocks = list([int(i) for i in df_subgraph_pool_data.block.values])\n",
    "block_ranges = list(zip(blocks, blocks[1:]))\n",
    "block_ranges"
   ],
   "metadata": {
    "collapsed": false,
    "pycharm": {
     "name": "#%%\n"
    }
   }
  },
  {
   "cell_type": "code",
   "execution_count": 8,
   "outputs": [],
   "source": [
    "admin_fee_claims = []\n",
    "for (block_start, block_end) in block_ranges:\n",
    "\n",
    "    # swaps:\n",
    "    event_filter = contract.events.ClaimAdminFee.createFilter(\n",
    "        fromBlock=block_start,\n",
    "        toBlock=block_end\n",
    "    )\n",
    "    claim_admin_fee_events = event_filter.get_all_entries()\n",
    "    for event in claim_admin_fee_events:\n",
    "        tokens_claimed = event['args']['tokens'] * 1e-18\n",
    "        block = event['blockNumber']\n",
    "\n",
    "        admin_fee_claims.append(\n",
    "            {\n",
    "                'block': block,\n",
    "                'tokens_claimed': tokens_claimed,\n",
    "            }\n",
    "        )\n"
   ],
   "metadata": {
    "collapsed": false,
    "pycharm": {
     "name": "#%%\n"
    }
   }
  },
  {
   "cell_type": "code",
   "execution_count": 9,
   "outputs": [
    {
     "data": {
      "text/plain": "        block  tokens_claimed\n0    12890377        3.996017\n1    12891715        0.232722\n2    12900847        2.026368\n3    12902512        0.456430\n4    12902614        0.007752\n..        ...             ...\n212  13566044        6.346029\n213  13572493        3.660431\n214  13578840        7.479940\n215  13585216        5.830637\n216  13591599       11.528870\n\n[217 rows x 2 columns]",
      "text/html": "<div>\n<style scoped>\n    .dataframe tbody tr th:only-of-type {\n        vertical-align: middle;\n    }\n\n    .dataframe tbody tr th {\n        vertical-align: top;\n    }\n\n    .dataframe thead th {\n        text-align: right;\n    }\n</style>\n<table border=\"1\" class=\"dataframe\">\n  <thead>\n    <tr style=\"text-align: right;\">\n      <th></th>\n      <th>block</th>\n      <th>tokens_claimed</th>\n    </tr>\n  </thead>\n  <tbody>\n    <tr>\n      <th>0</th>\n      <td>12890377</td>\n      <td>3.996017</td>\n    </tr>\n    <tr>\n      <th>1</th>\n      <td>12891715</td>\n      <td>0.232722</td>\n    </tr>\n    <tr>\n      <th>2</th>\n      <td>12900847</td>\n      <td>2.026368</td>\n    </tr>\n    <tr>\n      <th>3</th>\n      <td>12902512</td>\n      <td>0.456430</td>\n    </tr>\n    <tr>\n      <th>4</th>\n      <td>12902614</td>\n      <td>0.007752</td>\n    </tr>\n    <tr>\n      <th>...</th>\n      <td>...</td>\n      <td>...</td>\n    </tr>\n    <tr>\n      <th>212</th>\n      <td>13566044</td>\n      <td>6.346029</td>\n    </tr>\n    <tr>\n      <th>213</th>\n      <td>13572493</td>\n      <td>3.660431</td>\n    </tr>\n    <tr>\n      <th>214</th>\n      <td>13578840</td>\n      <td>7.479940</td>\n    </tr>\n    <tr>\n      <th>215</th>\n      <td>13585216</td>\n      <td>5.830637</td>\n    </tr>\n    <tr>\n      <th>216</th>\n      <td>13591599</td>\n      <td>11.528870</td>\n    </tr>\n  </tbody>\n</table>\n<p>217 rows × 2 columns</p>\n</div>"
     },
     "execution_count": 9,
     "metadata": {},
     "output_type": "execute_result"
    }
   ],
   "source": [
    "df_admin_fee_claims = pd.DataFrame(admin_fee_claims)\n",
    "df_admin_fee_claims"
   ],
   "metadata": {
    "collapsed": false,
    "pycharm": {
     "name": "#%%\n"
    }
   }
  },
  {
   "cell_type": "markdown",
   "source": [
    "Now need to query prices using oracle."
   ],
   "metadata": {
    "collapsed": false
   }
  },
  {
   "cell_type": "code",
   "execution_count": 10,
   "outputs": [],
   "source": [
    "from utils.contract_utils import init_contract\n",
    "from utils.network_utils import configure_network_and_connect"
   ],
   "metadata": {
    "collapsed": false,
    "pycharm": {
     "name": "#%%\n"
    }
   }
  },
  {
   "cell_type": "code",
   "execution_count": 11,
   "outputs": [],
   "source": [
    "configure_network_and_connect(\n",
    "    node_provider_https=f\"https://eth-mainnet.alchemyapi.io/v2/{ALCHEMY_API_KEY}\",\n",
    "    network_name='mainnet'\n",
    ")"
   ],
   "metadata": {
    "collapsed": false,
    "pycharm": {
     "name": "#%%\n"
    }
   }
  },
  {
   "cell_type": "code",
   "execution_count": 12,
   "outputs": [
    {
     "data": {
      "text/plain": "<Vyper_contract Contract '0xE8b2989276E2Ca8FDEA2268E3551b2b4B2418950'>"
     },
     "execution_count": 12,
     "metadata": {},
     "output_type": "execute_result"
    }
   ],
   "source": [
    "tricrypto2_lp_token_price_contract_address = \"0xE8b2989276E2Ca8FDEA2268E3551b2b4B2418950\"\n",
    "contract_genesis = 12821148\n",
    "tricrypto2_lp_token_price_contract = init_contract(tricrypto2_lp_token_price_contract_address)\n",
    "tricrypto2_lp_token_price_contract"
   ],
   "metadata": {
    "collapsed": false,
    "pycharm": {
     "name": "#%%\n"
    }
   }
  },
  {
   "cell_type": "code",
   "execution_count": 13,
   "outputs": [
    {
     "data": {
      "text/plain": "        block  tokens_claimed  oracle_price\n0    12890377        3.996017      0.000000\n1    12891715        0.232722      0.000000\n2    12900847        2.026368      0.000000\n3    12902512        0.456430      0.000000\n4    12902614        0.007752      0.000000\n..        ...             ...           ...\n212  13566044        6.346029   1959.855532\n213  13572493        3.660431   1993.954618\n214  13578840        7.479940   2057.366708\n215  13585216        5.830637   2059.951557\n216  13591599       11.528870   2014.663204\n\n[217 rows x 3 columns]",
      "text/html": "<div>\n<style scoped>\n    .dataframe tbody tr th:only-of-type {\n        vertical-align: middle;\n    }\n\n    .dataframe tbody tr th {\n        vertical-align: top;\n    }\n\n    .dataframe thead th {\n        text-align: right;\n    }\n</style>\n<table border=\"1\" class=\"dataframe\">\n  <thead>\n    <tr style=\"text-align: right;\">\n      <th></th>\n      <th>block</th>\n      <th>tokens_claimed</th>\n      <th>oracle_price</th>\n    </tr>\n  </thead>\n  <tbody>\n    <tr>\n      <th>0</th>\n      <td>12890377</td>\n      <td>3.996017</td>\n      <td>0.000000</td>\n    </tr>\n    <tr>\n      <th>1</th>\n      <td>12891715</td>\n      <td>0.232722</td>\n      <td>0.000000</td>\n    </tr>\n    <tr>\n      <th>2</th>\n      <td>12900847</td>\n      <td>2.026368</td>\n      <td>0.000000</td>\n    </tr>\n    <tr>\n      <th>3</th>\n      <td>12902512</td>\n      <td>0.456430</td>\n      <td>0.000000</td>\n    </tr>\n    <tr>\n      <th>4</th>\n      <td>12902614</td>\n      <td>0.007752</td>\n      <td>0.000000</td>\n    </tr>\n    <tr>\n      <th>...</th>\n      <td>...</td>\n      <td>...</td>\n      <td>...</td>\n    </tr>\n    <tr>\n      <th>212</th>\n      <td>13566044</td>\n      <td>6.346029</td>\n      <td>1959.855532</td>\n    </tr>\n    <tr>\n      <th>213</th>\n      <td>13572493</td>\n      <td>3.660431</td>\n      <td>1993.954618</td>\n    </tr>\n    <tr>\n      <th>214</th>\n      <td>13578840</td>\n      <td>7.479940</td>\n      <td>2057.366708</td>\n    </tr>\n    <tr>\n      <th>215</th>\n      <td>13585216</td>\n      <td>5.830637</td>\n      <td>2059.951557</td>\n    </tr>\n    <tr>\n      <th>216</th>\n      <td>13591599</td>\n      <td>11.528870</td>\n      <td>2014.663204</td>\n    </tr>\n  </tbody>\n</table>\n<p>217 rows × 3 columns</p>\n</div>"
     },
     "execution_count": 13,
     "metadata": {},
     "output_type": "execute_result"
    }
   ],
   "source": [
    "df_admin_fee_claims['oracle_price'] = 0\n",
    "for idx, row in df_admin_fee_claims.iterrows():\n",
    "    df_admin_fee_claims.loc[idx, 'oracle_price'] = 0\n",
    "    try:\n",
    "        oracle_price = (\n",
    "            tricrypto2_lp_token_price_contract.lp_price(block_identifier=int(row.block))\n",
    "        )\n",
    "        df_admin_fee_claims.loc[idx, 'oracle_price'] = oracle_price * 1e-18\n",
    "    except:\n",
    "        continue\n",
    "df_admin_fee_claims"
   ],
   "metadata": {
    "collapsed": false,
    "pycharm": {
     "name": "#%%\n"
    }
   }
  },
  {
   "cell_type": "code",
   "execution_count": 17,
   "outputs": [
    {
     "data": {
      "text/plain": "        block  tokens_claimed  oracle_price  total_claimed\n0    12890377        3.996017      0.000000       0.000000\n1    12891715        0.232722      0.000000       0.000000\n2    12900847        2.026368      0.000000       0.000000\n3    12902512        0.456430      0.000000       0.000000\n4    12902614        0.007752      0.000000       0.000000\n..        ...             ...           ...            ...\n212  13566044        6.346029   1959.855532   12437.300190\n213  13572493        3.660431   1993.954618    7298.732373\n214  13578840        7.479940   2057.366708   15388.979706\n215  13585216        5.830637   2059.951557   12010.829399\n216  13591599       11.528870   2014.663204   23226.789670\n\n[217 rows x 4 columns]",
      "text/html": "<div>\n<style scoped>\n    .dataframe tbody tr th:only-of-type {\n        vertical-align: middle;\n    }\n\n    .dataframe tbody tr th {\n        vertical-align: top;\n    }\n\n    .dataframe thead th {\n        text-align: right;\n    }\n</style>\n<table border=\"1\" class=\"dataframe\">\n  <thead>\n    <tr style=\"text-align: right;\">\n      <th></th>\n      <th>block</th>\n      <th>tokens_claimed</th>\n      <th>oracle_price</th>\n      <th>total_claimed</th>\n    </tr>\n  </thead>\n  <tbody>\n    <tr>\n      <th>0</th>\n      <td>12890377</td>\n      <td>3.996017</td>\n      <td>0.000000</td>\n      <td>0.000000</td>\n    </tr>\n    <tr>\n      <th>1</th>\n      <td>12891715</td>\n      <td>0.232722</td>\n      <td>0.000000</td>\n      <td>0.000000</td>\n    </tr>\n    <tr>\n      <th>2</th>\n      <td>12900847</td>\n      <td>2.026368</td>\n      <td>0.000000</td>\n      <td>0.000000</td>\n    </tr>\n    <tr>\n      <th>3</th>\n      <td>12902512</td>\n      <td>0.456430</td>\n      <td>0.000000</td>\n      <td>0.000000</td>\n    </tr>\n    <tr>\n      <th>4</th>\n      <td>12902614</td>\n      <td>0.007752</td>\n      <td>0.000000</td>\n      <td>0.000000</td>\n    </tr>\n    <tr>\n      <th>...</th>\n      <td>...</td>\n      <td>...</td>\n      <td>...</td>\n      <td>...</td>\n    </tr>\n    <tr>\n      <th>212</th>\n      <td>13566044</td>\n      <td>6.346029</td>\n      <td>1959.855532</td>\n      <td>12437.300190</td>\n    </tr>\n    <tr>\n      <th>213</th>\n      <td>13572493</td>\n      <td>3.660431</td>\n      <td>1993.954618</td>\n      <td>7298.732373</td>\n    </tr>\n    <tr>\n      <th>214</th>\n      <td>13578840</td>\n      <td>7.479940</td>\n      <td>2057.366708</td>\n      <td>15388.979706</td>\n    </tr>\n    <tr>\n      <th>215</th>\n      <td>13585216</td>\n      <td>5.830637</td>\n      <td>2059.951557</td>\n      <td>12010.829399</td>\n    </tr>\n    <tr>\n      <th>216</th>\n      <td>13591599</td>\n      <td>11.528870</td>\n      <td>2014.663204</td>\n      <td>23226.789670</td>\n    </tr>\n  </tbody>\n</table>\n<p>217 rows × 4 columns</p>\n</div>"
     },
     "execution_count": 17,
     "metadata": {},
     "output_type": "execute_result"
    }
   ],
   "source": [
    "df_admin_fee_claims['total_claimed'] = df_admin_fee_claims.tokens_claimed * df_admin_fee_claims.oracle_price\n",
    "df_admin_fee_claims"
   ],
   "metadata": {
    "collapsed": false,
    "pycharm": {
     "name": "#%%\n"
    }
   }
  },
  {
   "cell_type": "code",
   "execution_count": 22,
   "outputs": [
    {
     "data": {
      "text/plain": "<Figure size 1440x576 with 1 Axes>",
      "image/png": "[encoded data removed]"
     },
     "metadata": {},
     "output_type": "display_data"
    }
   ],
   "source": [
    "fig, ax = plt.subplots(1,1, figsize=(20, 8))\n",
    "\n",
    "pruned_data = df_admin_fee_claims[df_admin_fee_claims.oracle_price>0]\n",
    "\n",
    "ax.plot(\n",
    "    pruned_data.block,\n",
    "    pruned_data.total_claimed.cumsum(),\n",
    "    color='black',\n",
    "    lw=5,\n",
    "    label='tricrypto2'\n",
    ")\n",
    "ax.set_ylabel(\"Total Claimed [$]\", fontsize=20)\n",
    "ax.tick_params(axis='both', which='major', labelsize=20)\n",
    "ax.tick_params(axis='x', which='major', colors='black')\n",
    "ax.legend(fontsize=20)\n",
    "ax.yaxis.get_major_formatter().set_scientific(False)\n",
    "ax.yaxis.get_major_formatter().set_useOffset(False)\n",
    "ax.xaxis.get_major_formatter().set_scientific(False)\n",
    "ax.xaxis.get_major_formatter().set_useOffset(False)"
   ],
   "metadata": {
    "collapsed": false,
    "pycharm": {
     "name": "#%%\n"
    }
   }
  },
  {
   "cell_type": "code",
   "execution_count": null,
   "outputs": [],
   "source": [],
   "metadata": {
    "collapsed": false,
    "pycharm": {
     "name": "#%%\n"
    }
   }
  }
 ],
 "metadata": {
  "kernelspec": {
   "display_name": "Python 3",
   "language": "python",
   "name": "python3"
  },
  "language_info": {
   "codemirror_mode": {
    "name": "ipython",
    "version": 2
   },
   "file_extension": ".py",
   "mimetype": "text/x-python",
   "name": "python",
   "nbconvert_exporter": "python",
   "pygments_lexer": "ipython2",
   "version": "2.7.6"
  }
 },
 "nbformat": 4,
 "nbformat_minor": 0
}