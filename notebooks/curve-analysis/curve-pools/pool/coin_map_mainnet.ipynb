{
 "cells": [
  {
   "cell_type": "code",
   "execution_count": 1,
   "metadata": {},
   "outputs": [],
   "source": [
    "import sys\n",
    "sys.path.append('../../../../')"
   ]
  },
  {
   "cell_type": "code",
   "execution_count": 91,
   "metadata": {},
   "outputs": [],
   "source": [
    "from dataclasses import dataclass\n",
    "\n",
    "import datetime\n",
    "import pprint\n",
    "import itertools\n",
    "import requests\n",
    "import pandas as pd\n",
    "import typing\n",
    "\n",
    "from utils.subgraph_utils.constants import SUBGRAPH_API"
   ]
  },
  {
   "cell_type": "markdown",
   "metadata": {},
   "source": [
    "## Get pool data containing coins, pool addresses, coin decimals"
   ]
  },
  {
   "cell_type": "code",
   "execution_count": 3,
   "metadata": {},
   "outputs": [],
   "source": [
    "def get_pool_data(api):\n",
    "\n",
    "    query = \"\"\"\n",
    "    {\n",
    "        platforms {\n",
    "            pools(first: 1000) {\n",
    "                coins\n",
    "                coinDecimals\n",
    "                address\n",
    "            }\n",
    "        }\n",
    "    }\n",
    "    \"\"\"\n",
    "    r = requests.post(api, json={\"query\": query})\n",
    "    data = dict(r.json())\n",
    "    pool_data = data[\"data\"][\"platforms\"][0][\"pools\"]\n",
    "\n",
    "    return pool_data"
   ]
  },
  {
   "cell_type": "code",
   "execution_count": 4,
   "metadata": {},
   "outputs": [],
   "source": [
    "network_name = 'Mainnet'"
   ]
  },
  {
   "cell_type": "code",
   "execution_count": 5,
   "metadata": {},
   "outputs": [
    {
     "data": {
      "text/plain": [
       "[{'coins': ['0xa713cc74ee148414bcab46ac2c41c93d84a56b0f',\n",
       "   '0x6c3f90f043a72fa612cbac8115ee7e52bde6e490'],\n",
       "  'coinDecimals': ['18', '18'],\n",
       "  'address': '0x0043fcb34e7470130fde28198571dee092c70bd7'},\n",
       " {'coins': ['0x15a629f0665a3eb97d7ae9a7ce7abf73aeb79415',\n",
       "   '0x9c4a4204b79dd291d6b6571c5be8bbcd0622f050'],\n",
       "  'coinDecimals': ['18', '18'],\n",
       "  'address': '0x01fe650ef2f8e2982295489ae6adc1413bf6011f'}]"
      ]
     },
     "execution_count": 5,
     "metadata": {},
     "output_type": "execute_result"
    }
   ],
   "source": [
    "data = get_pool_data(SUBGRAPH_API[network_name])\n",
    "data[:2]"
   ]
  },
  {
   "cell_type": "markdown",
   "metadata": {},
   "source": [
    "## Vet pools\n",
    "Remove pools with either no liquidity (coins less than a certain amount) or no activity in the past year."
   ]
  },
  {
   "cell_type": "code",
   "execution_count": 6,
   "metadata": {},
   "outputs": [],
   "source": [
    "def get_num_swaps_pool(pool_addr, api, activity_duration: int = 365):\n",
    "\n",
    "    time_end = int(datetime.datetime.now().timestamp())\n",
    "    time_start = int(datetime.datetime.now().timestamp() - 24*3600*activity_duration)\n",
    "\n",
    "    query = f\"\"\"\n",
    "    {{\n",
    "      swapEvents(\n",
    "        first: 1000,\n",
    "        where: {{\n",
    "          pool: \"{pool_addr.lower()}\"\n",
    "          timestamp_gte: {time_start}\n",
    "          timestamp_lt: {time_end}\n",
    "        }}\n",
    "      ) {{\n",
    "        timestamp\n",
    "        block\n",
    "      }}\n",
    "    }}\n",
    "    \"\"\"\n",
    "    r = requests.post(api, json={'query': query})\n",
    "    queried_data = dict(r.json())\n",
    "    if not 'data' in queried_data:\n",
    "      print(\"no data\")\n",
    "      return 0\n",
    "    swap_events = queried_data['data']['swapEvents']\n",
    "    return len(swap_events)"
   ]
  },
  {
   "cell_type": "code",
   "execution_count": 7,
   "metadata": {},
   "outputs": [],
   "source": [
    "def get_latest_pool_coin_reserves(pool_addr, api):\n",
    "\n",
    "    query = f\"\"\"\n",
    "    {{\n",
    "      dailyPoolSnapshots(\n",
    "        first: 1,\n",
    "        orderBy: timestamp,\n",
    "        orderDirection: desc,\n",
    "        where:{{\n",
    "          pool: \"{pool_addr.lower()}\"\n",
    "        }}\n",
    "      ) {{\n",
    "        reserves\n",
    "      }}\n",
    "    }}\n",
    "    \"\"\"\n",
    "    r = requests.post(api, json={'query': query})\n",
    "    queried_data = dict(r.json())['data']['dailyPoolSnapshots'][0]['reserves']\n",
    "    return [int(i) for i in queried_data]"
   ]
  },
  {
   "cell_type": "code",
   "execution_count": 8,
   "metadata": {},
   "outputs": [
    {
     "name": "stdout",
     "output_type": "stream",
     "text": [
      "total pools in the graph: 295\n",
      "pool: 0x0043fcb34e7470130fde28198571dee092c70bd7 didn't make the cut with reserves: [0, 0]\n",
      "pool: 0x0212133321479b183637e52942564162bcc37c1d didn't make the cut with reserves: [0, 0]\n",
      "pool: 0x0457e0ed628143b6a6a39f6e3458153f96abb26a didn't make the cut with reserves: [0, 0]\n",
      "pool: 0x04ecd49246bf5143e43e2305136c46aeb6fad400 didn't make the cut with reserves: [1000000000000000000, 1000000000000000000]\n",
      "pool: 0x06d39e95977349431e3d800d49c63b4d472e10fb didn't make the cut with reserves: [12682452204830643437, 10708547267271493070]\n",
      "pool: 0x071c661b4deefb59e2a3ddb20db036821eee8f4b didn't make the cut with reserves: [3348632186, 38892655830543212481]\n",
      "pool: 0x07350d8c30d463179de6a58764c21558db66dd9c didn't make the cut with reserves: [0, 0]\n",
      "pool: 0x0750da0ed0a4448ed516c326d702e7fee88f4ad9 didn't make the cut with reserves: [137875849249210619, 118270181731387399]\n",
      "pool: 0x08eaf78d40abfa6c341f05692eb48edca425ce04 didn't make the cut with reserves: [0, 0, 0]\n",
      "pool: 0x0c46ac7dc6a06fa5de5a6e74c0726f96c0319900 didn't make the cut with reserves: [0, 0]\n",
      "pool: 0x1005f7406f32a61bd760cfa14accd2737913d546 didn't make the cut with reserves: [38050801, 162000000]\n",
      "pool: 0x11fbfe3a6c183dcd6fd9baa42fe39206174a6c00 didn't make the cut with reserves: [0, 0]\n",
      "pool: 0x148a88719ba0b34f16e0f5a7537da73bdc9c2a2a didn't make the cut with reserves: [0, 0]\n",
      "pool: 0x152d13e62952a7c74c536bb3c8b7bd91853f076a didn't make the cut with reserves: [0, 0]\n",
      "pool: 0x1c65ba665ce39cfe85639227eccf17be2b167058 didn't make the cut with reserves: [0, 0]\n",
      "pool: 0x1daf17e6d1d9ed6aa9fe9910ae17be98c2c4e6ba didn't make the cut with reserves: [79174146643056936088, 49357798580068319526]\n",
      "pool: 0x1dff955cddd55fba58db3cd658f9e3e3c31851eb didn't make the cut with reserves: [2, 1]\n",
      "pool: 0x1e20205cd346cd8e5fca92fcea34ead4057e4ae5 didn't make the cut with reserves: [9065025970175677359, 7392794605363986998]\n",
      "pool: 0x2009f19a8b46642e92ea19adcdfb23ab05fc20a6 didn't make the cut with reserves: [0, 0]\n",
      "pool: 0x2206cf41e7db9393a3bcbb6ad35d344811523b46 didn't make the cut with reserves: [0, 0]\n",
      "pool: 0x23078d5bc3aad79aefa8773079ee703168f15cf5 didn't make the cut with reserves: [0, 0]\n",
      "pool: 0x273afbf6e257aae160749a61d4b83e06a841c3eb didn't make the cut with reserves: [13542345682684791463, 8307749093206201832]\n",
      "pool: 0x2a1e73bf81941630869c125194fbf8f5ec060ff0 didn't make the cut with reserves: [23666141055348624291, 21748437695930855824]\n",
      "pool: 0x2de8c952871317fb9f22c73bb66bf86a1eebe1a5 didn't make the cut with reserves: [0, 0]\n",
      "pool: 0x323b3a6e7a71c1b8c257606ef0364d61df8aa525 didn't make the cut with reserves: [0, 0]\n",
      "pool: 0x3279827b8233ab455ba6f6bcb9804ee601bf725b didn't make the cut with reserves: [0, 0]\n",
      "pool: 0x365901db5adb4c789801f19d5f1f46c574783ad6 didn't make the cut with reserves: [0, 0]\n",
      "pool: 0x36965b1a6b97c1b33416e5d53fb5621ade1f1e80 didn't make the cut with reserves: [0, 0]\n",
      "pool: 0x39567db64f0b25db2c35fc7a4f60c3c5258e4654 didn't make the cut with reserves: [0, 0]\n",
      "pool: 0x3c42b0f384d2912661c940d46cffe1cd10f1c66f didn't make the cut with reserves: [21000000000000000, 100000]\n",
      "pool: 0x3c9aeeb08be0c10ca4135e981f2c73df8a28f8a0 didn't make the cut with reserves: [0, 0]\n",
      "pool: 0x3eac18b3e7a4663d38cb6edb6024cad9d5e76a49 didn't make the cut with reserves: [0, 0]\n",
      "pool: 0x421cb018b91b4048faac1760cee3b66026b940f2 didn't make the cut with reserves: [17995391554379947686, 983193953557863513]\n",
      "pool: 0x439bfae666826a7cb73663e366c12f03d0a13b49 didn't make the cut with reserves: [86402178212776839323, 7201204536]\n",
      "pool: 0x45a8cc73ec100306af64ab2ccb7b12e70ec549a8 didn't make the cut with reserves: [0, 0]\n",
      "pool: 0x46f5ab27914a670cfe260a2dedb87f84c264835f didn't make the cut with reserves: [0, 0]\n",
      "pool: 0x4ace85cf348f316384a96b4739a1ab58f5123e7a didn't make the cut with reserves: [9075894073522306774, 11722991070839153826]\n",
      "pool: 0x4e52cfc80679f402d10f7766fa3f85351a7c2530 didn't make the cut with reserves: [0, 0]\n",
      "pool: 0x4eb0bb03a246b955d36316a96be314885c23a1b0 didn't make the cut with reserves: [0, 0]\n",
      "pool: 0x51714b15ab2c2172914a005f4f2889f16af7003c didn't make the cut with reserves: [134952013509059435617, 8336896295534513552]\n",
      "pool: 0x52890a0c018fbab21794ad18e15f87fdb57fb975 didn't make the cut with reserves: [158573341084448076012, 2036576038267626929]\n",
      "pool: 0x52eeea483ab7a801e2592a904ad209c90e12e471 didn't make the cut with reserves: [0, 0]\n",
      "pool: 0x5400234516485a8e474a6f1c34dbed940a1a866e didn't make the cut with reserves: [50000000, 49200645489106970192]\n",
      "pool: 0x56680fdebdd3e31f79938fa1222bfea4706a0758 didn't make the cut with reserves: [406685446591203291402, 17529272707606548891]\n",
      "pool: 0x57eb6fbe61216d9f8c7c09ad1ee5a3023747244b didn't make the cut with reserves: [0, 0]\n",
      "pool: 0x595146ed98c81dde9bd23d0c2ab5b807c7fe2d9f didn't make the cut with reserves: [0, 0]\n",
      "pool: 0x5b78b93fa851c357586915c7ba7258b762eb1ba0 didn't make the cut with reserves: [0, 0]\n",
      "pool: 0x5c277d5cc9b258ca957ff83ec41d153c4df7619a didn't make the cut with reserves: [13128385820708704022, 491582021756970011]\n",
      "pool: 0x5d898fd41875b14c1781fb497aecab8e9b24dfc9 didn't make the cut with reserves: [10375369757937412372, 823271966837843546316429]\n",
      "pool: 0x5e94a7ee56a168b06c79e5fd972ae0c35cb36fea didn't make the cut with reserves: [0, 0]\n",
      "pool: 0x620e3c54d8c6efca7476d657c57da5eb144d3f81 didn't make the cut with reserves: [0, 0]\n",
      "pool: 0x62d1d9065b4c78964040b640ab404d86d8f68263 didn't make the cut with reserves: [0, 0]\n",
      "pool: 0x6448113f6c31f738b7c6b24c1b4a1cf23c6133f2 didn't make the cut with reserves: [50000000, 49209214214041612225]\n",
      "pool: 0x6525e7e2e8450741ab97bd3948bfa47878f83ec6 didn't make the cut with reserves: [0, 0]\n",
      "pool: 0x6577b46a566ade492ad551a315c04de3fbe3dbfa didn't make the cut with reserves: [0, 0, 0]\n",
      "pool: 0x66b2e9b25f8aba6b4a10350c785d63bade5a11e9 didn't make the cut with reserves: [0, 0]\n",
      "pool: 0x679ce2a8b3180f5a00e0dcca26783016799e9a58 didn't make the cut with reserves: [0, 0]\n",
      "pool: 0x694650a0b2866472c2eea27827ce6253c1d13074 didn't make the cut with reserves: [98291105275884231653, 101880527860367026860]\n",
      "pool: 0x6b234f354eda8fae082be20dcf790fd886b42340 didn't make the cut with reserves: [0, 0]\n",
      "pool: 0x6d0bd8365e2fcd0c2acf7d218f629a319b6c9d47 didn't make the cut with reserves: [0, 0]\n",
      "pool: 0x6df2b0855060439251fee7ed34952b87b68eeed9 didn't make the cut with reserves: [79446610307694498089, 108979048331722042677]\n",
      "pool: 0x6e386f8e746af332d18f5c21f3369835c9c5db16 didn't make the cut with reserves: [0, 0]\n",
      "pool: 0x6f80b9543dd5a0408f162fe2a1675db70a2cb77d didn't make the cut with reserves: [0, 0]\n",
      "pool: 0x705da2596cf6aaa2fea36f2a59985ec9e8aec7e2 didn't make the cut with reserves: [1157136277581573, 984902950121872319]\n",
      "pool: 0x737bc004136f66ae3f8fd5a1199e81c18388097b didn't make the cut with reserves: [15192728527763139281, 977962529960839588]\n",
      "pool: 0x7472764c28f843ba246f294c44de9456911a3454 didn't make the cut with reserves: [130000000000000000, 3988117000000000000000000]\n",
      "pool: 0x751d3feffed0890b76e9b86476cfeeaa1fcda73d didn't make the cut with reserves: [0, 0]\n",
      "pool: 0x782115c863a05abf8795df377d89aad1aadf4dfa didn't make the cut with reserves: [65400000000000000, 100000000000000]\n",
      "pool: 0x7d99469fb3a530136ec0ab6981d64bc9ff81ad04 didn't make the cut with reserves: [0, 0]\n",
      "pool: 0x7f2af2c7bfdad063ff01dcec077a216d95a0a944 didn't make the cut with reserves: [0, 0]\n",
      "pool: 0x7f55dde206dbad629c080068923b36fe9d6bdbef didn't make the cut with reserves: [69289272790610871474, 44090851511774243596]\n",
      "pool: 0x7f787210c83012fca364ae79ad8fc26641c6fbe5 didn't make the cut with reserves: [0, 0]\n",
      "pool: 0x80466c64868e1ab14a1ddf27a676c3fcbe638fe5 didn't make the cut with reserves: [193826334300, 677454591, 102072801802762445531]\n",
      "pool: 0x8083b047e962ca45b210e28ac755fbda3d773c5b didn't make the cut with reserves: [0, 0]\n",
      "pool: 0x80bb24b127b96f8c6637acf3bacae4f5f860f08c didn't make the cut with reserves: [143850308025639435964, 55251221664037422141]\n",
      "pool: 0x838af967537350d2c44abb8c010e49e32673ab94 didn't make the cut with reserves: [40136480449962391597, 338058427839574068642549]\n",
      "pool: 0x83f252f036761a1e3d10daca8e16d7b21e3744d7 didn't make the cut with reserves: [40495930303691974072, 47853836677603876147, 58920433576409760712]\n",
      "pool: 0x86cf48e9735f84d3311141e8941b2494fb4b8142 didn't make the cut with reserves: [0, 0]\n",
      "pool: 0x87ca9ac842905628a83df72a23aa480091bb682e didn't make the cut with reserves: [0, 0]\n",
      "pool: 0x883f7d4b6b24f8bf1db980951ad08930d9aec6bc didn't make the cut with reserves: [0, 0]\n",
      "pool: 0x8aee2e72ff7e34fc15dcad5bbaa6ab2df1bdeb1c didn't make the cut with reserves: [0, 0]\n",
      "pool: 0x8b93c5727ff8c0e4cd16f8ae8dfe4dac8730c4be didn't make the cut with reserves: [0, 0]\n",
      "pool: 0x8c1de7a8f8852197b109daf75a6fbb685c013315 didn't make the cut with reserves: [0, 0]\n",
      "pool: 0x8cadb80062d6ea09b6d480cb3f955cb7f915b2c7 didn't make the cut with reserves: [0, 0]\n",
      "pool: 0x8df0713b2a047c45a0bef21c3b309bcef91afd34 didn't make the cut with reserves: [0, 0]\n",
      "pool: 0x8e49801018361abb1ede67d5b12907a5f895c623 didn't make the cut with reserves: [0, 0]\n",
      "pool: 0x8ed10e4e307822b969bcdaffd49095235f6f892b didn't make the cut with reserves: [278, 14331310747510776365]\n",
      "pool: 0x90ce3285a9cce2d36149f12df2c1e357af304a1d didn't make the cut with reserves: [0, 0]\n",
      "pool: 0x910a00594dc16dd699d579a8f7811d465dfa2752 didn't make the cut with reserves: [6056153792860450756, 174230291910236800828]\n",
      "pool: 0x9231dff16be1020dce7dd6f48d565fda123c11c8 didn't make the cut with reserves: [43882753, 35106843]\n",
      "pool: 0x92719d8b48795cbccd7ec68114ea7a2db8065140 didn't make the cut with reserves: [22622167434960079769, 8786874528421244152]\n",
      "pool: 0x97aeb34ac6561146dd9ce191efd5634f6465def4 didn't make the cut with reserves: [0, 0]\n",
      "pool: 0x9809f2b973bdb056d24bc2b6571ea1f23db4e861 didn't make the cut with reserves: [0, 0]\n",
      "pool: 0x9c6751593a1424108f53e5ad6754940fedaa5bc0 didn't make the cut with reserves: [0, 0]\n",
      "pool: 0x9f4a88da14f2b6dbc785c1db3511a53b8f342bde didn't make the cut with reserves: [0, 0]\n",
      "pool: 0x9fed7a930d86dfe5980040e18c92b1b0d381ec19 didn't make the cut with reserves: [0, 0]\n",
      "pool: 0xa0d35faead5299bf18efbb5defd1ec6d4ab4ef3b didn't make the cut with reserves: [0, 0, 0]\n",
      "pool: 0xa46649ffe1860d79dbe777930af8e802b8b48ac4 didn't make the cut with reserves: [5859888515612438093, 4080854290961388389]\n",
      "pool: 0xa498b08ca3c109e4ebc7ff01422b6769eaef16ef didn't make the cut with reserves: [0, 0]\n",
      "pool: 0xa6b28989b81b2fe4ec03fde324de1a99ae4366e4 didn't make the cut with reserves: [0, 0]\n",
      "pool: 0xaa6a4f8ddcca7d3b9e7ad38c8338a2fcfdb1e713 didn't make the cut with reserves: [0, 0]\n",
      "pool: 0xac5f019a302c4c8caac0a7f28183ac62e6e80034 didn't make the cut with reserves: [6000000000000000000, 5888269604409093290]\n",
      "pool: 0xac63c167955007d5166fec43255ad5675efc3102 didn't make the cut with reserves: [13255308609545900332, 9836783623159876660]\n",
      "pool: 0xaf47f0877a9b26fff12ec8253e07f92f89c6805d didn't make the cut with reserves: [12732579301101669603, 23149909846633899872]\n",
      "pool: 0xb2e113a6b8edea086a44b1509013c4fc69ec4bf0 didn't make the cut with reserves: [1, 16]\n",
      "pool: 0xbc984294cedabe05d7317cc55bcda241a7222615 didn't make the cut with reserves: [0, 0]\n",
      "pool: 0xbe735e6dd6c47d86bf8510d3c36cba1a359b8ddc didn't make the cut with reserves: [14116987155941263141, 492282311096688792]\n",
      "pool: 0xbf5d9decccc762fa7b5eb9fac668c803d42d97b6 didn't make the cut with reserves: [0, 0]\n",
      "pool: 0xbf9702efefe1303a61b7c944b5741b773dd930a7 didn't make the cut with reserves: [0, 0]\n",
      "pool: 0xbfca1a72edd92fff61a8c88f61d4e64e99232b4b didn't make the cut with reserves: [50000000000000000000, 100000000]\n",
      "pool: 0xc25099792e9349c7dd09759744ea681c7de2cb66 didn't make the cut with reserves: [74549632065870027563, 86467220181513553823]\n",
      "pool: 0xc2f5fea5197a3d92736500fd7733fcc7a3bbdf3f didn't make the cut with reserves: [19939212044865895456, 9899797495282872997]\n",
      "pool: 0xc3018fc8b7ac3a01c1fadb3292b50e6fac417486 didn't make the cut with reserves: [0, 0]\n",
      "pool: 0xc3134ccb0810418dcc2540c7df6e4995a9966d4e didn't make the cut with reserves: [2546541711942146218, 91234077092801638]\n",
      "pool: 0xc38ca214c7a82b1ee977232f045afb6d425cfff0 didn't make the cut with reserves: [0, 0]\n",
      "pool: 0xc55834c9cdf6e92e0ceb181fd07f6243eac0f598 didn't make the cut with reserves: [8573824136571431843, 7263312404335285979]\n",
      "pool: 0xc8781f2193e2cb861c9325677d98297f94a0dfd3 didn't make the cut with reserves: [0, 0]\n",
      "pool: 0xc8a7c1c4b748970f57ca59326bcd49f5c9dc43e3 didn't make the cut with reserves: [489867318581963142208, 90354475242883013]\n",
      "pool: 0xc9467e453620f16b57a34a770c6bcebece002587 didn't make the cut with reserves: [13710593067387056952, 6963464009523684405]\n",
      "pool: 0xcbd5cc53c5b846671c6434ab301ad4d210c21184 didn't make the cut with reserves: [10000000000000000000, 10000000000000000000]\n",
      "pool: 0xcf2be480d37777e6ee846e935e57aaae1fd466f4 didn't make the cut with reserves: [89335779475056, 131096258946266]\n",
      "pool: 0xd05ce4ab1f4fb0c0e1b65ebe3ed7f2dcfc6ccf20 didn't make the cut with reserves: [0, 0]\n",
      "pool: 0xd0a1d2a9350824516ae8729b8311557ba7e55bff didn't make the cut with reserves: [21636060924989576161, 11377584613504451807035]\n",
      "pool: 0xd1011b637f979a5d9093df1b32e7736c289024f5 didn't make the cut with reserves: [0, 0]\n",
      "pool: 0xd434eaf67bba1903f61cdd3ede6700cac74a5ff2 didn't make the cut with reserves: [0, 0]\n",
      "pool: 0xd5c91b8161924f389a33e97fc8624431a53858f5 didn't make the cut with reserves: [11408419146327, 9768240761758]\n",
      "pool: 0xd652c40fbb3f06d6b58cb9aa9cff063ee63d465d didn't make the cut with reserves: [2005488066512, 169337099803946395]\n",
      "pool: 0xd752b367b1d5998446daa6e9eb90d05d12d9f263 didn't make the cut with reserves: [0, 0]\n",
      "pool: 0xd81da8d904b52208541bade1bd6595d8a251f8dd didn't make the cut with reserves: [30544269112358948744, 19588043353913513869]\n",
      "pool: 0xd8c49617e6a2c7584ddbeab652368ee84954bf5c didn't make the cut with reserves: [52581603148767198, 13126377171554642955292]\n",
      "pool: 0xd97f71bc0ecb40b105dbacf5225d847d9c2334f8 didn't make the cut with reserves: [10000000004948063299, 985139524185758840]\n",
      "pool: 0xda3028f415374de92cd5a7c64f865a6b1aabf804 didn't make the cut with reserves: [82512497518074227165, 79367559830997647667]\n",
      "pool: 0xda3b4449e055c76a740dc5796afc7be2a535a70f didn't make the cut with reserves: [496089899278, 501145548921]\n",
      "pool: 0xdc0b9c549809bd4bde021bd35a99f612d472d827 didn't make the cut with reserves: [150028, 154634]\n",
      "pool: 0xdcb5be55674cec407d8a6d28ae2098feddf2c296 didn't make the cut with reserves: [0, 0]\n",
      "pool: 0xdd577f3c26e322d6e790947d5e56362c3f99cc6d didn't make the cut with reserves: [0, 0]\n",
      "pool: 0xe667c793513ecbd74fb53bb4b91fdae02bfc092d didn't make the cut with reserves: [0, 0]\n",
      "pool: 0xe69fc18b2252f5c3cf8b8c35ce06af0bb461d476 didn't make the cut with reserves: [0, 0]\n",
      "pool: 0xe75916b70c0e1c58bb605948066151ea449561f4 didn't make the cut with reserves: [100000000000000000000, 98401726899197700334]\n",
      "pool: 0xe764fb1f870d621a197951f1a27aac6d4f930329 didn't make the cut with reserves: [0, 0]\n",
      "pool: 0xe76ebd4f9fa58e5269d3cd032b055b443239e664 didn't make the cut with reserves: [0, 0]\n",
      "pool: 0xe7e4366f6ed6afd23e88154c00b532bdc0352333 didn't make the cut with reserves: [5000000000000000000, 5000000000000000000]\n",
      "pool: 0xe95e4c2dac312f31dc605533d5a4d0af42579308 didn't make the cut with reserves: [100000000000000000, 100522337680217771]\n",
      "pool: 0xeaf21e096793d92a1028bb6f2570846d79165b48 didn't make the cut with reserves: [0, 0]\n",
      "pool: 0xeb07fcd7a8627281845ba3acbed24435802d4b52 didn't make the cut with reserves: [0, 0]\n",
      "pool: 0xeb20b6dda329685863c7193d8c3b13d3def9a02f didn't make the cut with reserves: [165085184718343232758994, 80070504069760585630]\n",
      "pool: 0xed09ca8275dffb09c632b6ea58c035a851f73616 didn't make the cut with reserves: [0, 0]\n",
      "pool: 0xf01e56475ea4081e6640914b2310e1aa8f09d2e1 didn't make the cut with reserves: [0, 0]\n",
      "pool: 0xf03bd3cfe85f00bf5819ac20f0870ce8a8d1f0d8 didn't make the cut with reserves: [23506097097166904925, 760506039385586169]\n",
      "pool: 0xf0c081020b9d06eb1b33e357767c00ccc138be7c didn't make the cut with reserves: [0, 0]\n",
      "pool: 0xf5c511e559342087d30a793705228bfeb881c325 didn't make the cut with reserves: [0, 0]\n",
      "pool: 0xf5e2e90952d3bdf8e9aca1fb38fa195f0a108a9d didn't make the cut with reserves: [13396443580409923052, 13650954963835709488]\n",
      "pool: 0xf6b657cb19a4cb2af427d50f3054104871100d52 didn't make the cut with reserves: [20601684226667880, 19209390622086033]\n",
      "pool: 0xf74bec4bcf432a17470e9c4f71542f2677b9af6a didn't make the cut with reserves: [0, 0]\n",
      "pool: 0xf9be07e6e1f28890c1647612187df8c6e4cc035b didn't make the cut with reserves: [0, 0]\n",
      "pool: 0xf9ef8a8de38cea3196a4e009ad7a7af6f5a3d776 didn't make the cut with reserves: [9749371246, 102238830294129911494]\n",
      "pool: 0xfa65aa60a9d45623c57d383fb4cf8fb8b854cc4d didn't make the cut with reserves: [2412872597193895697, 1457992152096223360]\n",
      "pool: 0xfb51e37cebc5d6f1569004206629bb7e47b6843f didn't make the cut with reserves: [0, 0]\n",
      "pool: 0xfb9a265b5a1f52d97838ec7274a0b1442efacc87 didn't make the cut with reserves: [24406621750129800316, 225435100724145436485]\n",
      "pool: 0xfe4a08f22fe65759ba91db2e2cada09b4415b0d7 didn't make the cut with reserves: [52196323047772735602, 34836648074659110936487885]\n",
      "pool: 0xfe97d8f55884186e50aedba306ad553911a26a24 didn't make the cut with reserves: [122350800547280995054, 454722951404]\n"
     ]
    },
    {
     "data": {
      "text/plain": [
       "{'coins': ['0x15a629f0665a3eb97d7ae9a7ce7abf73aeb79415',\n",
       "  '0x9c4a4204b79dd291d6b6571c5be8bbcd0622f050'],\n",
       " 'coinDecimals': ['18', '18'],\n",
       " 'address': '0x01fe650ef2f8e2982295489ae6adc1413bf6011f'}"
      ]
     },
     "execution_count": 8,
     "metadata": {},
     "output_type": "execute_result"
    }
   ],
   "source": [
    "print(f\"total pools in the graph: {len(data)}\")\n",
    "vetted_pools = []\n",
    "num_days_to_look_back_for_swap_events = 365\n",
    "reserve_threshold = 100  # num coins of each type in the pool\n",
    "for pool_data in data:\n",
    "\n",
    "    pool_address = pool_data['address']\n",
    "    coin_decimals = [int(i) for i in pool_data['coinDecimals']]\n",
    "    latest_coin_reserves = get_latest_pool_coin_reserves(pool_addr=pool_address, api=SUBGRAPH_API[network_name])\n",
    "    pool_reserve_critera_met = all(\n",
    "        [reserves > reserve_threshold*10**coin_decimals[idx] for idx, reserves in enumerate(latest_coin_reserves)]\n",
    "    )\n",
    "\n",
    "    if not pool_reserve_critera_met:\n",
    "        print(f\"pool: {pool_address} didn't make the cut with reserves: {latest_coin_reserves}\")\n",
    "        continue\n",
    "\n",
    "    vetted_pools.append(pool_data)\n",
    "\n",
    "vetted_pools[0]"
   ]
  },
  {
   "cell_type": "code",
   "execution_count": 9,
   "metadata": {},
   "outputs": [
    {
     "data": {
      "text/plain": [
       "{'coins': ['0x15a629f0665a3eb97d7ae9a7ce7abf73aeb79415',\n",
       "  '0x9c4a4204b79dd291d6b6571c5be8bbcd0622f050'],\n",
       " 'coinDecimals': ['18', '18'],\n",
       " 'address': '0x01fe650ef2f8e2982295489ae6adc1413bf6011f'}"
      ]
     },
     "execution_count": 9,
     "metadata": {},
     "output_type": "execute_result"
    }
   ],
   "source": [
    "vetted_pools[0]"
   ]
  },
  {
   "cell_type": "code",
   "execution_count": 10,
   "metadata": {},
   "outputs": [
    {
     "name": "stdout",
     "output_type": "stream",
     "text": [
      "all pools: 295\n",
      "vetted pools: 134\n"
     ]
    }
   ],
   "source": [
    "print(f\"all pools: {len(data)}\")\n",
    "print(f\"vetted pools: {len(vetted_pools)}\")"
   ]
  },
  {
   "cell_type": "markdown",
   "metadata": {},
   "source": [
    "## Generate coin maps that show routes between two coins"
   ]
  },
  {
   "cell_type": "code",
   "execution_count": 127,
   "metadata": {},
   "outputs": [],
   "source": [
    "class Coin(typing.NamedTuple):\n",
    "    \"\"\"A dataclass cacheing some coin info and a few basic methods.\"\"\"\n",
    "    address: str\n",
    "    network: str\n",
    "    decimals: int\n",
    "\n",
    "\n",
    "@dataclass(eq=True, frozen=True)\n",
    "class Pool:\n",
    "    \"\"\"A dataclass containing details on the pool connecting two assets\"\"\"\n",
    "    address: str\n",
    "    network: str\n",
    "    coin_a: Coin\n",
    "    coin_b: Coin\n",
    "\n",
    "\n",
    "@dataclass\n",
    "class Route:\n",
    "    \"\"\"A dataclass containing multi hops between coin a and coin b\"\"\"\n",
    "    n_hops: int\n",
    "    pools: typing.List[Pool]\n",
    "    coin_a: str\n",
    "    coin_b: str\n"
   ]
  },
  {
   "cell_type": "code",
   "execution_count": 332,
   "metadata": {},
   "outputs": [],
   "source": [
    "class CoinMap:\n",
    "\n",
    "    def __init__(self, coins: typing.List[str]):\n",
    "\n",
    "        self.number_of_coins = len(coins)\n",
    "        self.coins = coins\n",
    "        self.coin_pairs = {coin: set() for coin in coins}\n",
    "        self.coin_pair_pool = {}\n",
    "\n",
    "    def add_pair(self, coin_a: Coin, coin_b: Coin, pool: Pool):\n",
    "\n",
    "        self.coin_pairs[coin_a].add((coin_b, pool))\n",
    "        self.coin_pair_pool[(coin_a, coin_b)] = pool\n",
    "\n",
    "    def get_route(self, coin_a: Coin, coin_b: Coin, max_hops: int = 5) -> typing.List[Route]:\n",
    "\n",
    "        coin_paths = self._depth_first_search(coin_a, coin_b)\n",
    "\n",
    "        # construct the swap route for coin pair\n",
    "        all_coin_routes = []\n",
    "        for coin_path in coin_paths:\n",
    "            coin_pairs_in_path = list(zip(coin_path, coin_path[1:])) \n",
    "            constructed_swap_route = [\n",
    "                self.coin_pair_pool[coin_pair] for coin_pair in coin_pairs_in_path\n",
    "            ]\n",
    "            if len(constructed_swap_route) > max_hops:\n",
    "                continue\n",
    "\n",
    "            coin_route = Route(coin_a=coin_a, coin_b=coin_b, n_hops=len(constructed_swap_route), pools=constructed_swap_route)\n",
    "            all_coin_routes.append(coin_route)\n",
    "\n",
    "        return all_coin_routes\n",
    "\n",
    "    def _depth_first_search(self, coin_to_sell: Coin, target_coin_to_buy: Coin, path: typing.List = []):\n",
    "\n",
    "        path = path + [coin_to_sell]\n",
    "\n",
    "        if coin_to_sell == target_coin_to_buy:\n",
    "            return [path]\n",
    "\n",
    "        if coin_to_sell not in self.coin_pairs.keys():\n",
    "            return []\n",
    "\n",
    "        paths = []\n",
    "        for (coin, pool) in self.coin_pairs[coin_to_sell]:\n",
    "            if coin not in path:\n",
    "                paths.extend(self._depth_first_search(coin, target_coin_to_buy, path))\n",
    "\n",
    "        return paths\n",
    "\n",
    "    def print_route(self, coin_a: Coin, coin_b: Coin, max_hops: int = 5):\n",
    "\n",
    "        all_routes = coin_map.get_route(coin_a, coin_b, max_hops)\n",
    "        for route in all_routes:\n",
    "            print(f\"number of hops: {route.n_hops}\")\n",
    "            for pool in route.pools:\n",
    "                print(f\"{pool}\\n\")"
   ]
  },
  {
   "cell_type": "markdown",
   "metadata": {},
   "source": [
    "## Get all pairs"
   ]
  },
  {
   "cell_type": "code",
   "execution_count": 333,
   "metadata": {},
   "outputs": [
    {
     "data": {
      "text/plain": [
       "Coin(address='0x196f4727526ea7fb1e17b2071b3d8eaa38486988', network='Mainnet', decimals=18)"
      ]
     },
     "execution_count": 333,
     "metadata": {},
     "output_type": "execute_result"
    }
   ],
   "source": [
    "all_coins_in_vetted_pools = []\n",
    "for pool in vetted_pools:\n",
    "\n",
    "    coins_in_pool = []    \n",
    "    for idx, coin in enumerate(pool['coins']):\n",
    "        coin_dataclass = Coin(address=coin, network=network_name, decimals=int(pool['coinDecimals'][idx]))\n",
    "        all_coins_in_vetted_pools.append(coin_dataclass)\n",
    "\n",
    "all_coins_in_vetted_pools = list(set(all_coins_in_vetted_pools))\n",
    "all_coins_in_vetted_pools[0]"
   ]
  },
  {
   "cell_type": "code",
   "execution_count": 334,
   "metadata": {},
   "outputs": [
    {
     "data": {
      "text/plain": [
       "{(Coin(address='0xeeeeeeeeeeeeeeeeeeeeeeeeeeeeeeeeeeeeeeee', network='Mainnet', decimals=18),\n",
       "  Pool(address='0xc02aaa39b223fe8d0a0e5c4f27ead9083c756cc2', network='Mainnet', coin_a=Coin(address='0xc02aaa39b223fe8d0a0e5c4f27ead9083c756cc2', network='Mainnet', decimals=18), coin_b=Coin(address='0xeeeeeeeeeeeeeeeeeeeeeeeeeeeeeeeeeeeeeeee', network='Mainnet', decimals=18)))}"
      ]
     },
     "execution_count": 334,
     "metadata": {},
     "output_type": "execute_result"
    }
   ],
   "source": [
    "coin_map = CoinMap(all_coins_in_vetted_pools)\n",
    "\n",
    "# add weth <-> eth as the first pair\n",
    "weth_address = \"0xC02aaA39b223FE8D0A0e5C4F27eAD9083C756Cc2\".lower()\n",
    "eth_address = \"0xEeeeeEeeeEeEeeEeEeEeeEEEeeeeEeeeeeeeEEeE\".lower()\n",
    "weth = Coin(address=weth_address, network='Mainnet', decimals=18)\n",
    "eth = Coin(address=eth_address, network=\"Mainnet\", decimals=18)\n",
    "\n",
    "weth_eth_pool = Pool(address=weth_address, network=\"Mainnet\", coin_a=weth, coin_b=eth)\n",
    "eth_weth_pool = Pool(address=eth_address, network=\"Mainnet\", coin_a=eth, coin_b=weth)\n",
    "\n",
    "coin_map.add_pair(weth, eth, weth_eth_pool)\n",
    "coin_map.add_pair(eth, weth, eth_weth_pool)\n",
    "\n",
    "coin_map.coin_pairs[weth]"
   ]
  },
  {
   "cell_type": "code",
   "execution_count": 335,
   "metadata": {},
   "outputs": [],
   "source": [
    "all_pairs = []\n",
    "for pool in vetted_pools:\n",
    "    pool_address = pool['address']\n",
    "    coins_in_pool = []    \n",
    "    for idx, coin in enumerate(pool['coins']):\n",
    "        coin_dataclass = Coin(address=coin, network=network_name, decimals=int(pool['coinDecimals'][idx]))\n",
    "        coins_in_pool.append(coin_dataclass)\n",
    "    \n",
    "    coin_permutations = list(itertools.permutations(coins_in_pool))\n",
    "    for coin_permutation in coin_permutations:\n",
    "        coin_pair_pool = Pool(address=pool_address, network=network_name, coin_a=coin_permutation[0], coin_b=coin_permutation[1])\n",
    "        all_pairs.append(coin_pair_pool)\n",
    "        coin_map.add_pair(coin_permutation[0], coin_permutation[1], coin_pair_pool)"
   ]
  },
  {
   "cell_type": "code",
   "execution_count": 336,
   "metadata": {},
   "outputs": [
    {
     "data": {
      "text/plain": [
       "Pool(address='0xc02aaa39b223fe8d0a0e5c4f27ead9083c756cc2', network='Mainnet', coin_a=Coin(address='0xc02aaa39b223fe8d0a0e5c4f27ead9083c756cc2', network='Mainnet', decimals=18), coin_b=Coin(address='0xeeeeeeeeeeeeeeeeeeeeeeeeeeeeeeeeeeeeeeee', network='Mainnet', decimals=18))"
      ]
     },
     "execution_count": 336,
     "metadata": {},
     "output_type": "execute_result"
    }
   ],
   "source": [
    "coin_map.coin_pair_pool[(weth, eth)]"
   ]
  },
  {
   "cell_type": "markdown",
   "metadata": {},
   "source": [
    "## Get all routes for a coin"
   ]
  },
  {
   "cell_type": "code",
   "execution_count": 337,
   "metadata": {},
   "outputs": [
    {
     "name": "stdout",
     "output_type": "stream",
     "text": [
      "number of hops: 2\n",
      "Pool(address='0x828b154032950c8ff7cf8085d841723db2696056', network='Mainnet', coin_a=Coin(address='0xc02aaa39b223fe8d0a0e5c4f27ead9083c756cc2', network='Mainnet', decimals=18), coin_b=Coin(address='0xae7ab96520de3a18e5e111b5eaab095312d7fe84', network='Mainnet', decimals=18))\n",
      "\n",
      "Pool(address='0xdc24316b9ae028f1497c275eb9192a3ea0f67022', network='Mainnet', coin_a=Coin(address='0xae7ab96520de3a18e5e111b5eaab095312d7fe84', network='Mainnet', decimals=18), coin_b=Coin(address='0xeeeeeeeeeeeeeeeeeeeeeeeeeeeeeeeeeeeeeeee', network='Mainnet', decimals=18))\n",
      "\n",
      "number of hops: 1\n",
      "Pool(address='0xc02aaa39b223fe8d0a0e5c4f27ead9083c756cc2', network='Mainnet', coin_a=Coin(address='0xc02aaa39b223fe8d0a0e5c4f27ead9083c756cc2', network='Mainnet', decimals=18), coin_b=Coin(address='0xeeeeeeeeeeeeeeeeeeeeeeeeeeeeeeeeeeeeeeee', network='Mainnet', decimals=18))\n",
      "\n"
     ]
    }
   ],
   "source": [
    "routes = coin_map.print_route(weth, eth)\n",
    "routes"
   ]
  },
  {
   "cell_type": "markdown",
   "metadata": {},
   "source": [
    "Check if route from FEI -> cvxCRV is possible.\n",
    "\n",
    "It should be via: \n",
    "\n",
    "1. FEI -> USDT \n",
    "2. USDT -> WETH \n",
    "3. WETH -> ETH (unwrap)\n",
    "4. ETH -> CRV \n",
    "5. CRV -> cvxCRV"
   ]
  },
  {
   "cell_type": "code",
   "execution_count": 338,
   "metadata": {},
   "outputs": [],
   "source": [
    "fei = Coin(address=\"0x956F47F50A910163D8BF957Cf5846D573E7f87CA\".lower(), network='Mainnet', decimals=18)\n",
    "cvxcrv = Coin(\"0x62B9c7356A2Dc64a1969e19C23e4f579F9810Aa7\".lower(), network='Mainnet', decimals=18)\n",
    "usdt = Coin(\"0xdAC17F958D2ee523a2206206994597C13D831ec7\".lower(), network='Mainnet', decimals=18)\n",
    "crv = Coin(\"0xD533a949740bb3306d119CC777fa900bA034cd52\".lower(), network='Mainnet', decimals=18)"
   ]
  },
  {
   "cell_type": "code",
   "execution_count": 339,
   "metadata": {},
   "outputs": [
    {
     "name": "stdout",
     "output_type": "stream",
     "text": [
      "number of hops: 5\n",
      "Pool(address='0xbaaa1f5dba42c3389bdbc2c9d2de134f5cd0dc89', network='Mainnet', coin_a=Coin(address='0x956f47f50a910163d8bf957cf5846d573e7f87ca', network='Mainnet', decimals=18), coin_b=Coin(address='0x853d955acef822db058eb8505911ed77f175b99e', network='Mainnet', decimals=18))\n",
      "\n",
      "Pool(address='0x4e0915c88bc70750d68c481540f081fefaf22273', network='Mainnet', coin_a=Coin(address='0x853d955acef822db058eb8505911ed77f175b99e', network='Mainnet', decimals=18), coin_b=Coin(address='0xdac17f958d2ee523a2206206994597c13d831ec7', network='Mainnet', decimals=6))\n",
      "\n",
      "Pool(address='0xd51a44d3fae010294c616388b506acda1bfaae46', network='Mainnet', coin_a=Coin(address='0xdac17f958d2ee523a2206206994597c13d831ec7', network='Mainnet', decimals=6), coin_b=Coin(address='0xc02aaa39b223fe8d0a0e5c4f27ead9083c756cc2', network='Mainnet', decimals=18))\n",
      "\n",
      "Pool(address='0x8301ae4fc9c624d1d396cbdaa1ed877821d7c511', network='Mainnet', coin_a=Coin(address='0xc02aaa39b223fe8d0a0e5c4f27ead9083c756cc2', network='Mainnet', decimals=18), coin_b=Coin(address='0xd533a949740bb3306d119cc777fa900ba034cd52', network='Mainnet', decimals=18))\n",
      "\n",
      "Pool(address='0x9d0464996170c6b9e75eed71c68b99ddedf279e8', network='Mainnet', coin_a=Coin(address='0xd533a949740bb3306d119cc777fa900ba034cd52', network='Mainnet', decimals=18), coin_b=Coin(address='0x62b9c7356a2dc64a1969e19c23e4f579f9810aa7', network='Mainnet', decimals=18))\n",
      "\n"
     ]
    }
   ],
   "source": [
    "coin_map.print_route(fei, cvxcrv, 5)\n"
   ]
  },
  {
   "cell_type": "code",
   "execution_count": null,
   "metadata": {},
   "outputs": [],
   "source": []
  }
 ],
 "metadata": {
  "interpreter": {
   "hash": "a83b694bd571d2b9a16f45490fbdf7dc3913f17f3595ba7d069a2e2198780ca3"
  },
  "kernelspec": {
   "display_name": "Python 3.7.10 ('venv': venv)",
   "language": "python",
   "name": "python3"
  },
  "language_info": {
   "codemirror_mode": {
    "name": "ipython",
    "version": 3
   },
   "file_extension": ".py",
   "mimetype": "text/x-python",
   "name": "python",
   "nbconvert_exporter": "python",
   "pygments_lexer": "ipython3",
   "version": "3.10.0"
  },
  "orig_nbformat": 4
 },
 "nbformat": 4,
 "nbformat_minor": 2
}
