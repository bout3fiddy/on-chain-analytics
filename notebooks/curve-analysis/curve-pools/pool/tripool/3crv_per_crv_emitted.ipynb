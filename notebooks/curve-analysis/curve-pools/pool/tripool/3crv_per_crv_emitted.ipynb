{
 "cells": [
  {
   "cell_type": "markdown",
   "source": [
    "1. Get crv emissions per pool.\n",
    "2. Get fees claimed per pool.\n",
    "3. divide the two to get swap revenue per crv emitted per gauge."
   ],
   "metadata": {
    "collapsed": false,
    "pycharm": {
     "name": "#%% md\n"
    }
   }
  },
  {
   "cell_type": "code",
   "execution_count": 1,
   "outputs": [],
   "source": [
    "# subgraph querying modules\n",
    "import datetime\n",
    "import calendar"
   ],
   "metadata": {
    "collapsed": false,
    "pycharm": {
     "name": "#%%\n"
    }
   }
  },
  {
   "cell_type": "code",
   "execution_count": 2,
   "outputs": [],
   "source": [
    "# plotting tools\n",
    "import pandas as pd\n",
    "pd.options.mode.chained_assignment = None  # default='warn'"
   ],
   "metadata": {
    "collapsed": false,
    "pycharm": {
     "name": "#%%\n"
    }
   }
  },
  {
   "cell_type": "code",
   "execution_count": 3,
   "outputs": [],
   "source": [
    "# brownie\n",
    "import os\n",
    "import sys\n",
    "sys.path.append(\"../../\")\n",
    "\n",
    "import brownie\n",
    "\n",
    "from utils.contract_utils import init_contract\n",
    "from utils.network_utils import configure_network_and_connect\n",
    "from utils.eth_blocks_utils import get_block_for_timestamp\n"
   ],
   "metadata": {
    "collapsed": false,
    "pycharm": {
     "name": "#%%\n"
    }
   }
  },
  {
   "cell_type": "code",
   "execution_count": 4,
   "outputs": [],
   "source": [
    "ALCHEMY_API_KEY = os.environ['ALCHEMY_API_KEY']\n",
    "\n",
    "if not brownie.network.is_connected():\n",
    "    configure_network_and_connect(\n",
    "        node_provider_https=f\"https://eth-mainnet.alchemyapi.io/v2/{ALCHEMY_API_KEY}\",\n",
    "        network_name='mainnet'\n",
    "    )"
   ],
   "metadata": {
    "collapsed": false,
    "pycharm": {
     "name": "#%%\n"
    }
   }
  },
  {
   "cell_type": "markdown",
   "source": [
    "# Pools and Gauges\n",
    "\n",
    "Get dict of pools (keys) and gauge (value)"
   ],
   "metadata": {
    "collapsed": false,
    "pycharm": {
     "name": "#%% md\n"
    }
   }
  },
  {
   "cell_type": "code",
   "execution_count": 5,
   "outputs": [
    {
     "name": "stdout",
     "output_type": "stream",
     "text": [
      "  \u001B[0;1;35m@title \u001B[0;mCurve Registry\n",
      "  \u001B[0;1;35m@author \u001B[0;mCurve.Fi\n",
      "\n"
     ]
    }
   ],
   "source": [
    "ethereum_registry_contract = init_contract(\"0x90E00ACe148ca3b23Ac1bC8C240C2a7Dd9c2d7f5\")\n",
    "ethereum_registry_contract.info()"
   ],
   "metadata": {
    "collapsed": false,
    "pycharm": {
     "name": "#%%\n"
    }
   }
  },
  {
   "cell_type": "markdown",
   "source": [
    "Get pools and gauges:"
   ],
   "metadata": {
    "collapsed": false,
    "pycharm": {
     "name": "#%% md\n"
    }
   }
  },
  {
   "cell_type": "code",
   "execution_count": 15,
   "outputs": [
    {
     "data": {
      "text/plain": "{'0xbEbc44782C7dB0a1A60Cb6fe97d0b483032FF1C7': ['0xbFcF63294aD7105dEa65aA58F8AE5BE2D9d0952A',\n  '0x6c3F90f043a72FA612cbac8115EE7e52BDe6E490',\n  'Curve.fi DAI/USDC/USDT'],\n '0xDeBF20617708857ebe4F679508E7b7863a8A8EeE': ['0xd662908ADA2Ea1916B3318327A97eB18aD588b5d',\n  '0xFd2a8fA60Abd58Efe3EeE34dd494cD491dC14900',\n  'Curve.fi aDAI/aUSDC/aUSDT'],\n '0xA96A65c051bF88B4095Ee1f2451C2A9d43F53Ae2': ['0x6d10ed2cF043E6fcf51A0e7b4C2Af3Fa06695707',\n  '0xaA17A236F2bAdc98DDc0Cf999AbB47D47Fc0A6Cf',\n  'Curve.fi ETH/aETH'],\n '0x79a8C46DeA5aDa233ABaFFD40F3A0A2B1e5A4F27': ['0x69Fb7c45726cfE2baDeE8317005d3F94bE838840',\n  '0x3B3Ac5386837Dc563660FB6a0937DFAa5924333B',\n  'Curve.fi yDAI/yUSDC/yUSDT/yBUSD'],\n '0xA2B47E3D5c44877cca798226B7B8118F9BFb7A56': ['0x7ca5b0a2910B33e9759DC7dDB0413949071D7575',\n  '0x845838DF265Dcd2c412A1Dc9e959c7d08537f8a2',\n  'Curve.fi cDAI/cUSDC'],\n '0x0Ce6a5fF5217e38315f87032CF90686C96627CAA': ['0x90Bb609649E0451E5aD952683D64BD2d1f245840',\n  '0x194eBd173F6cDacE046C53eACcE9B953F28411d1',\n  'Curve.fi EURS/sEUR'],\n '0x4CA9b3063Ec5866A4B82E437059D2C43d1be596F': ['0x4c18E409Dc8619bFb6a1cB56D114C3f592E0aE79',\n  '0xb19059ebb43466C323583928285a49f558E572Fd',\n  'Curve.fi hBTC/wBTC'],\n '0x2dded6Da1BF5DBdF597C45fcFaa3194e53EcfeAF': ['0xF5194c3325202F456c95c1Cf0cA36f8475C1949F',\n  '0x5282a4eF67D9C33135340fB3289cc1711c13638C',\n  'Curve.fi cyDAI/cyUSDC/cyUSDT'],\n '0xF178C0b5Bb7e7aBF4e12A4838C7b7c5bA2C623c0': ['0xFD4D8a17df4C27c1dD245d153ccf4499e806C87D',\n  '0xcee60cFa923170e4f8204AE08B4fA6A3F5656F3a',\n  'Curve.fi LINK/sLINK'],\n '0x06364f10B501e868329afBc005b3492902d6C763': ['0x64E3C23bfc40722d3B649844055F1D51c1ac041d',\n  '0xD905e2eaeBe188fc92179b6350807D8bd91Db0D8',\n  'Curve.fi DAI/USDC/USDT/PAX'],\n '0x93054188d876f558f4a66B2EF1d97d16eDf0895B': ['0xB1F2cdeC61db658F091671F5f199635aEF202CAC',\n  '0x49849C98ae39Fff122806C06791Fa73784FB3675',\n  'Curve.fi renBTC/wBTC'],\n '0xEB16Ae0052ed37f479f7fe63849198Df1765a733': ['0x462253b8F74B72304c145DB0e4Eebd326B22ca39',\n  '0x02d341CcB60fAaf662bC0554d13778015d1b285C',\n  'Curve.fi aDAI/aSUSD'],\n '0x7fC77b5c7614E1533320Ea6DDc2Eb61fa00A9714': ['0x705350c4BcD35c9441419DdD5d2f097d7a55410F',\n  '0x075b1bb99792c9E1041bA13afEf80C91a1e70fB3',\n  'Curve.fi renBTC/wBTC/sBTC'],\n '0xc5424B857f758E906013F3555Dad202e4bdB4567': ['0x3C0FFFF15EA30C35d7A85B85c0782D6c94e1d238',\n  '0xA3D87FffcE63B53E0d54fAa1cc983B7eB0b74A9c',\n  'Curve.fi ETH/sETH'],\n '0xDC24316b9AE028F1497c275EB9192a3Ea0f67022': ['0x182B723a58739a9c974cFDB385ceaDb237453c28',\n  '0x06325440D014e39736583c165C2963BA99fAf14E',\n  'Curve.fi ETH/stETH'],\n '0xA5407eAE9Ba41422680e2e00537571bcC53efBfD': ['0xA90996896660DEcC6E997655E065b23788857849',\n  '0xC25a3A3b969415c80451098fa907EC722572917F',\n  'Curve.fi DAI/USDC/USDT/sUSD'],\n '0x52EA46506B9CC5Ef470C5bf89f17Dc28bB35D85C': ['0xBC89cd85491d81C6AD2954E6d0362Ee29fCa8F53',\n  '0x9fC689CCaDa600B6DF723D9E47D84d76664a1F23',\n  'Curve.fi cDAI/cUSDC/USDT'],\n '0x45F783CCE6B7FF23B2ab2D70e416cdb7D6055f51': ['0xFA712EE4788C042e2B7BB55E6cb8ec569C4530c1',\n  '0xdF5e0e81Dff6FAF3A7e52BA697820c5e32D806A8',\n  'Curve.fi yDAI/yUSDC/yUSDT/yTUSD'],\n '0x8038C01A0390a8c547446a0b2c18fc9aEFEcc10c': ['0xAEA6c312f4b3E04D752946d329693F7293bC2e6D',\n  '0x3a664Ab939FD8482048609f652f9a0B0677337B9',\n  'Curve.fi DUSD/3Crv'],\n '0x4f062658EaAF2C1ccf8C8e36D6824CDf41167956': ['0xC5cfaDA84E902aD92DD40194f0883ad49639b023',\n  '0xD2967f45c4f384DEEa880F807Be904762a3DeA07',\n  'Curve.fi GUSD/3Crv'],\n '0x3eF6A01A0f81D6046290f3e2A8c5b843e738E604': ['0x2db0E83599a91b508Ac268a6197b8B14F5e72840',\n  '0x5B5CFE992AdAC0C9D48E05854B2d91C73a003858',\n  'Curve.fi HUSD/3Crv'],\n '0xE7a24EF0C5e95Ffb0f6684b813A78F2a3AD7D171': ['0x0000000000000000000000000000000000000000',\n  '0x6D65b498cb23deAba52db31c93Da9BFFb340FB8F',\n  'Curve.fi LinkUSD/3Crv'],\n '0x8474DdbE98F5aA3179B3B3F5942D724aFcdec9f6': ['0x5f626c30EC1215f4EdCc9982265E8b1F411D1352',\n  '0x1AEf73d49Dedc4b1778d0706583995958Dc862e6',\n  'Curve.fi MUSD/3Crv'],\n '0xC18cC39da8b11dA8c3541C598eE022258F9744da': ['0x4dC4A289a8E33600D8bD4cf5F6313E43a37adec7',\n  '0xC2Ee6b0334C261ED60C72f6054450b61B8f18E35',\n  'Curve.fi RSV/3Crv'],\n '0x3E01dD8a5E1fb3481F0F589056b428Fc308AF0Fb': ['0xC2b1DF84112619D190193E48148000e3990Bf627',\n  '0x97E2768e8E73511cA874545DC5Ff8067eB19B787',\n  'Curve.fi USDK/3Crv'],\n '0x0f9cb53Ebe405d49A0bbdBD291A65Ff571bC83e1': ['0xF98450B5602fa59CC66e1379DFfB6FDDc724CfC4',\n  '0x4f3E8F405CF5aFC05D68142F3783bDfE13811522',\n  'Curve.fi USDN/3Crv'],\n '0x42d7025938bEc20B69cBae5A77421082407f053A': ['0x055be5DDB7A925BfEF3417FC157f53CA77cA7222',\n  '0x7Eb40E450b9655f4B3cC4259BCC731c63ff55ae6',\n  'Curve.fi USDP/3Crv'],\n '0x890f4e345B1dAED0367A877a1612f86A1f86985f': ['0x3B7020743Bc2A4ca9EaF9D0722d42E20d6935855',\n  '0x94e131324b6054c0D789b190b2dAC504e4361b53',\n  'Curve.fi UST/3Crv'],\n '0x071c661B4DeefB59E2a3DdB20Db036821eeE8F4b': ['0xdFc7AdFa664b08767b735dE28f9E84cd30492aeE',\n  '0x410e3E86ef427e30B9235497143881f717d93c2A',\n  'Curve.fi bBTC/sbtcCRV'],\n '0xd81dA8D904b52208541Bade1bD6595D8a251F8dd': ['0x11137B10C210b579405c21A07489e28F3c040AB1',\n  '0x2fE94ea3d5d4a175184081439753DE15AeF9d614',\n  'Curve.fi oBTC/sbtcCRV'],\n '0x7F55DDe206dbAD629C080068923b36fe9D6bDBeF': ['0xd7d147c6Bb90A718c3De8C0568F9B560C79fa416',\n  '0xDE5331AC4B3630f94853Ff322B66407e0D6331E8',\n  'Curve.fi pBTC/sbtcCRV'],\n '0xC25099792E9349C7DD09759744ea681C7de2cb66': ['0x6828bcF74279eE32f2723eC536c22c51Eed383C6',\n  '0x64eda51d3Ad40D56b9dFc5554E06F94e1Dd786Fd',\n  'Curve.fi tBTC/sbtcCrv'],\n '0xEcd5e75AFb02eFa118AF914515D6521aaBd189F1': ['0x359FD5d6417aE3D8D6497d9B2e7A890798262BA4',\n  '0xEcd5e75AFb02eFa118AF914515D6521aaBd189F1',\n  'Curve.fi Factory USD Metapool: TrueUSD'],\n '0xEd279fDD11cA84bEef15AF5D39BB4d4bEE23F0cA': ['0x9B8519A9a00100720CCdC8a120fBeD319cA47a14',\n  '0xEd279fDD11cA84bEef15AF5D39BB4d4bEE23F0cA',\n  'Curve.fi Factory USD Metapool: Liquity'],\n '0xd632f22692FaC7611d2AA1C0D552930D43CAEd3B': ['0x72E158d38dbd50A483501c24f792bDAAA3e7D55C',\n  '0xd632f22692FaC7611d2AA1C0D552930D43CAEd3B',\n  'Curve.fi Factory USD Metapool: Frax'],\n '0x4807862AA8b2bF68830e4C8dc86D0e9A998e085a': ['0xd4B22fEdcA85E684919955061fDf353b9d38389b',\n  '0x4807862AA8b2bF68830e4C8dc86D0e9A998e085a',\n  'Curve.fi Factory USD Metapool: Binance USD'],\n '0xF9440930043eb3997fc70e1339dBb11F341de7A8': ['0x824F13f1a2F29cFEEa81154b46C0fc820677A637',\n  '0x53a901d48795C58f485cBB38df08FA96a24669D5',\n  'Curve.fi ETH/rETH'],\n '0x43b4FdFD4Ff969587185cDB6f0BD875c5Fc83f8c': ['0x9582C4ADACB3BCE56Fea3e590F05c3ca2fb9C477',\n  '0x43b4FdFD4Ff969587185cDB6f0BD875c5Fc83f8c',\n  'Curve.fi Factory USD Metapool: Alchemix USD'],\n '0x80466c64868E1ab14a1Ddf27A676C3fcBE638Fe5': ['0x6955a55416a06839309018A8B0cB72c4DDC11f15',\n  '0xcA3d75aC011BF5aD07a98d02f18225F9bD9A6BDF',\n  'Curve.fi USD-BTC-ETH'],\n '0xD51a44d3FaE010294C616388b506AcdA1bfAAE46': ['0xDeFd8FdD20e0f34115C7018CCfb655796F6B2168',\n  '0xc4AD29ba4B3c580e6D59105FFf484999997675Ff',\n  'Curve.fi USD-BTC-ETH'],\n '0x5a6A4D54456819380173272A5E8E9B9904BdF41B': ['0xd8b712d29381748dB89c36BCa0138d7c75866ddF',\n  '0x5a6A4D54456819380173272A5E8E9B9904BdF41B',\n  'Curve.fi Factory USD Metapool: Magic Internet Money 3Pool'],\n '0xFD5dB7463a3aB53fD211b4af195c5BCCC1A03890': ['0xe8060Ad8971450E624d5289A10017dD30F5dA85F',\n  '0xFD5dB7463a3aB53fD211b4af195c5BCCC1A03890',\n  'Curve.fi Factory Plain Pool: Euro Tether']}"
     },
     "execution_count": 15,
     "metadata": {},
     "output_type": "execute_result"
    }
   ],
   "source": [
    "pool_count = ethereum_registry_contract.pool_count()\n",
    "eth_pools_and_gauges = {}\n",
    "for pool_id in range(pool_count):\n",
    "\n",
    "    pool_addr = ethereum_registry_contract.pool_list(pool_id)\n",
    "    gauge_addr = ethereum_registry_contract.get_gauges(pool_addr)\n",
    "    lp_token_addr = ethereum_registry_contract.get_lp_token(pool_addr)\n",
    "\n",
    "    # get lp_token name:\n",
    "    pool_token_contract = init_contract(lp_token_addr)\n",
    "    pool_token_name = pool_token_contract.name()\n",
    "\n",
    "    eth_pools_and_gauges[pool_addr] = [gauge_addr[0][0], lp_token_addr, pool_token_name]\n",
    "\n",
    "eth_pools_and_gauges"
   ],
   "metadata": {
    "collapsed": false,
    "pycharm": {
     "name": "#%%\n"
    }
   }
  },
  {
   "cell_type": "markdown",
   "source": [
    "# CRV emissions per pool:"
   ],
   "metadata": {
    "collapsed": false,
    "pycharm": {
     "name": "#%% md\n"
    }
   }
  },
  {
   "cell_type": "code",
   "execution_count": 7,
   "outputs": [
    {
     "name": "stdout",
     "output_type": "stream",
     "text": [
      "  \u001B[0;1;35m@title \u001B[0;mCurve DAO Token\n",
      "  \u001B[0;1;35m@notice \u001B[0;mERC20 with piecewise-linear mining supply.\n",
      "  \u001B[0;1;35m@author \u001B[0;mCurve Finance\n",
      "  \u001B[0;1;35m@details \u001B[0;mBased on the ERC-20 token standard as defined\n",
      "           at https://eips.ethereum.org/EIPS/eip-20\n",
      "\n"
     ]
    }
   ],
   "source": [
    "crv_token_addr = \"0xD533a949740bb3306d119CC777fa900bA034cd52\"\n",
    "crv_token = init_contract(crv_token_addr)\n",
    "crv_token.info()"
   ],
   "metadata": {
    "collapsed": false,
    "pycharm": {
     "name": "#%%\n"
    }
   }
  },
  {
   "cell_type": "markdown",
   "source": [
    "CRV emissions rate per block"
   ],
   "metadata": {
    "collapsed": false,
    "pycharm": {
     "name": "#%% md\n"
    }
   }
  },
  {
   "cell_type": "code",
   "execution_count": 8,
   "outputs": [
    {
     "data": {
      "text/plain": "7.327853447857532"
     },
     "execution_count": 8,
     "metadata": {},
     "output_type": "execute_result"
    }
   ],
   "source": [
    "crv_token.rate() * 1e-18"
   ],
   "metadata": {
    "collapsed": false,
    "pycharm": {
     "name": "#%%\n"
    }
   }
  },
  {
   "cell_type": "markdown",
   "source": [
    "get number of blocks between two timestamps:"
   ],
   "metadata": {
    "collapsed": false,
    "pycharm": {
     "name": "#%% md\n"
    }
   }
  },
  {
   "cell_type": "code",
   "execution_count": 9,
   "outputs": [
    {
     "data": {
      "text/plain": "4431885.7652642345"
     },
     "execution_count": 9,
     "metadata": {},
     "output_type": "execute_result"
    }
   ],
   "source": [
    "block_time_start = int(\n",
    "    calendar.timegm((datetime.datetime.now() - datetime.timedelta(days=7)).date().timetuple())\n",
    ")\n",
    "block_time_end = int(\n",
    "    calendar.timegm((datetime.datetime.now()).date().timetuple())\n",
    ")\n",
    "crv_token.mintable_in_timeframe(block_time_start, block_time_end) * 1e-18"
   ],
   "metadata": {
    "collapsed": false,
    "pycharm": {
     "name": "#%%\n"
    }
   }
  },
  {
   "cell_type": "markdown",
   "source": [
    "get gauge weights from registry for block:"
   ],
   "metadata": {
    "collapsed": false,
    "pycharm": {
     "name": "#%% md\n"
    }
   }
  },
  {
   "cell_type": "code",
   "execution_count": 10,
   "outputs": [
    {
     "name": "stdout",
     "output_type": "stream",
     "text": [
      "  \u001B[0;1;35m@title \u001B[0;mGauge Controller\n",
      "  \u001B[0;1;35m@notice \u001B[0;mControls liquidity gauges and the issuance of\n",
      "          coins through the gauges\n",
      "  \u001B[0;1;35m@author \u001B[0;mCurve Finance\n",
      "\n"
     ]
    }
   ],
   "source": [
    "gauge_controller_address = \"0x2F50D538606Fa9EDD2B11E2446BEb18C9D5846bB\"\n",
    "gauge_controller = init_contract(gauge_controller_address)\n",
    "gauge_controller.info()"
   ],
   "metadata": {
    "collapsed": false,
    "pycharm": {
     "name": "#%%\n"
    }
   }
  },
  {
   "cell_type": "markdown",
   "source": [
    "Get crv emitted for gauge"
   ],
   "metadata": {
    "collapsed": false,
    "pycharm": {
     "name": "#%% md\n"
    }
   }
  },
  {
   "cell_type": "code",
   "execution_count": 25,
   "outputs": [],
   "source": [
    "time_start = int(datetime.datetime.strptime(\"2021-06-25\", \"%Y-%m-%d\").timestamp())\n",
    "time_end = int(datetime.datetime.strptime(\"2021-11-04\", \"%Y-%m-%d\").timestamp())\n",
    "delta_time = int(datetime.timedelta(days=7).total_seconds())\n",
    "date_range = list(range(time_start,time_end,delta_time))"
   ],
   "metadata": {
    "collapsed": false,
    "pycharm": {
     "name": "#%%\n"
    }
   }
  },
  {
   "cell_type": "code",
   "execution_count": 26,
   "outputs": [],
   "source": [
    "eth_pools_and_gauges = {\n",
    "    '0xbEbc44782C7dB0a1A60Cb6fe97d0b483032FF1C7': ['0xbFcF63294aD7105dEa65aA58F8AE5BE2D9d0952A',\n",
    "                                                   '0x6c3F90f043a72FA612cbac8115EE7e52BDe6E490',\n",
    "                                                   'Curve.fi DAI/USDC/USDT'],\n",
    "    '0x0f9cb53Ebe405d49A0bbdBD291A65Ff571bC83e1': ['0xF98450B5602fa59CC66e1379DFfB6FDDc724CfC4',\n",
    "                                                   '0x4f3E8F405CF5aFC05D68142F3783bDfE13811522',\n",
    "                                                   'Curve.fi USDN/3Crv'],\n",
    "}"
   ],
   "metadata": {
    "collapsed": false,
    "pycharm": {
     "name": "#%%\n"
    }
   }
  },
  {
   "cell_type": "code",
   "execution_count": 27,
   "outputs": [],
   "source": [
    "emissions_data = pd.DataFrame()\n",
    "for timestamp in date_range:\n",
    "\n",
    "    block_number = get_block_for_timestamp(timestamp=timestamp)\n",
    "\n",
    "    with brownie.multicall(block_identifier=block_number):\n",
    "\n",
    "        for pool_addr, pool_details in eth_pools_and_gauges.items():\n",
    "\n",
    "            pool_data = {}\n",
    "\n",
    "            gauge_addr = pool_details[0]\n",
    "            lp_token_addr = pool_details[1]\n",
    "            pool_name = pool_details[2]\n",
    "\n",
    "            # get crv emissions for timestamp from the past day:\n",
    "            crv_minted = crv_token.mintable_in_timeframe(\n",
    "                int(timestamp - delta_time),\n",
    "                timestamp\n",
    "            ) * 1e-18\n",
    "\n",
    "            # get gauge relative weight\n",
    "            gauge_relative_weight = gauge_controller.gauge_relative_weight(gauge_addr) * 1e-18\n",
    "\n",
    "            # get virtual price:\n",
    "            try:\n",
    "                pool = init_contract(pool_addr)\n",
    "                virtual_price = pool.get_virtual_price() * 1e-18\n",
    "                total_coins = 0\n",
    "                for coin_index in range(5):\n",
    "                    try:\n",
    "                        total_coins += pool.balances(coin_index)\n",
    "                    except:\n",
    "                        break\n",
    "            except:\n",
    "                virtual_price = 0\n",
    "\n",
    "            # get total supply of lp_token:\n",
    "            lp_token = init_contract(lp_token_addr)\n",
    "            total_supply_lp_token = lp_token.totalSupply() * 1e-18\n",
    "\n",
    "            # pool data\n",
    "            pool_data['timestamp'] = timestamp\n",
    "            pool_data['block_number'] = block_number\n",
    "            pool_data['pool_name'] = pool_name\n",
    "            pool_data['pool_addr'] = pool_addr\n",
    "            pool_data['lp_token_addr'] = lp_token_addr\n",
    "            pool_data['gauge_addr'] = gauge_addr\n",
    "            pool_data['gauge_relative_weight'] = gauge_relative_weight\n",
    "            pool_data['lp_token_virtual_price'] = virtual_price\n",
    "            pool_data['total_supply_lp_token'] = total_supply_lp_token\n",
    "            pool_data['crv_minted_past_1d'] = crv_minted\n",
    "            pool_data['crv_to_gauge'] = gauge_relative_weight * crv_minted\n",
    "\n",
    "            pool_data = pd.DataFrame(\n",
    "                data=pool_data,\n",
    "                index=[pd.to_datetime(pool_data['timestamp'], unit='s')]\n",
    "            )\n",
    "\n",
    "            # join df\n",
    "            emissions_data = pd.concat([emissions_data, pool_data])\n"
   ],
   "metadata": {
    "collapsed": false,
    "pycharm": {
     "name": "#%%\n"
    }
   }
  },
  {
   "cell_type": "code",
   "execution_count": 38,
   "outputs": [
    {
     "data": {
      "text/plain": "122000463404310427981430066"
     },
     "execution_count": 38,
     "metadata": {},
     "output_type": "execute_result"
    }
   ],
   "source": [
    "pool = init_contract(pool_addr)\n",
    "pool.balances(1)"
   ],
   "metadata": {
    "collapsed": false,
    "pycharm": {
     "name": "#%%\n"
    }
   }
  },
  {
   "cell_type": "markdown",
   "source": [
    "Let's look at the data:"
   ],
   "metadata": {
    "collapsed": false,
    "pycharm": {
     "name": "#%% md\n"
    }
   }
  },
  {
   "cell_type": "code",
   "execution_count": 28,
   "outputs": [
    {
     "data": {
      "text/plain": "                      timestamp  block_number               pool_name  \\\n2021-06-24 22:00:00  1624572000      12699406  Curve.fi DAI/USDC/USDT   \n2021-06-24 22:00:00  1624572000      12699406      Curve.fi USDN/3Crv   \n2021-07-01 22:00:00  1625176800      12744302  Curve.fi DAI/USDC/USDT   \n2021-07-01 22:00:00  1625176800      12744302      Curve.fi USDN/3Crv   \n2021-07-08 22:00:00  1625781600      12789307  Curve.fi DAI/USDC/USDT   \n2021-07-08 22:00:00  1625781600      12789307      Curve.fi USDN/3Crv   \n2021-07-15 22:00:00  1626386400      12834098  Curve.fi DAI/USDC/USDT   \n2021-07-15 22:00:00  1626386400      12834098      Curve.fi USDN/3Crv   \n2021-07-22 22:00:00  1626991200      12878749  Curve.fi DAI/USDC/USDT   \n2021-07-22 22:00:00  1626991200      12878749      Curve.fi USDN/3Crv   \n2021-07-29 22:00:00  1627596000      12923235  Curve.fi DAI/USDC/USDT   \n2021-07-29 22:00:00  1627596000      12923235      Curve.fi USDN/3Crv   \n2021-08-05 22:00:00  1628200800      12967525  Curve.fi DAI/USDC/USDT   \n2021-08-05 22:00:00  1628200800      12967525      Curve.fi USDN/3Crv   \n2021-08-12 22:00:00  1628805600      13012938  Curve.fi DAI/USDC/USDT   \n2021-08-12 22:00:00  1628805600      13012938      Curve.fi USDN/3Crv   \n2021-08-19 22:00:00  1629410400      13058324  Curve.fi DAI/USDC/USDT   \n2021-08-19 22:00:00  1629410400      13058324      Curve.fi USDN/3Crv   \n2021-08-26 22:00:00  1630015200      13103596  Curve.fi DAI/USDC/USDT   \n2021-08-26 22:00:00  1630015200      13103596      Curve.fi USDN/3Crv   \n2021-09-02 22:00:00  1630620000      13148889  Curve.fi DAI/USDC/USDT   \n2021-09-02 22:00:00  1630620000      13148889      Curve.fi USDN/3Crv   \n2021-09-09 22:00:00  1631224800      13194159  Curve.fi DAI/USDC/USDT   \n2021-09-09 22:00:00  1631224800      13194159      Curve.fi USDN/3Crv   \n2021-09-16 22:00:00  1631829600      13239335  Curve.fi DAI/USDC/USDT   \n2021-09-16 22:00:00  1631829600      13239335      Curve.fi USDN/3Crv   \n2021-09-23 22:00:00  1632434400      13284548  Curve.fi DAI/USDC/USDT   \n2021-09-23 22:00:00  1632434400      13284548      Curve.fi USDN/3Crv   \n2021-09-30 22:00:00  1633039200      13329599  Curve.fi DAI/USDC/USDT   \n2021-09-30 22:00:00  1633039200      13329599      Curve.fi USDN/3Crv   \n2021-10-07 22:00:00  1633644000      13374347  Curve.fi DAI/USDC/USDT   \n2021-10-07 22:00:00  1633644000      13374347      Curve.fi USDN/3Crv   \n2021-10-14 22:00:00  1634248800      13418846  Curve.fi DAI/USDC/USDT   \n2021-10-14 22:00:00  1634248800      13418846      Curve.fi USDN/3Crv   \n2021-10-21 22:00:00  1634853600      13463558  Curve.fi DAI/USDC/USDT   \n2021-10-21 22:00:00  1634853600      13463558      Curve.fi USDN/3Crv   \n2021-10-28 22:00:00  1635458400      13508257  Curve.fi DAI/USDC/USDT   \n2021-10-28 22:00:00  1635458400      13508257      Curve.fi USDN/3Crv   \n\n                                                      pool_addr  \\\n2021-06-24 22:00:00  0xbEbc44782C7dB0a1A60Cb6fe97d0b483032FF1C7   \n2021-06-24 22:00:00  0x0f9cb53Ebe405d49A0bbdBD291A65Ff571bC83e1   \n2021-07-01 22:00:00  0xbEbc44782C7dB0a1A60Cb6fe97d0b483032FF1C7   \n2021-07-01 22:00:00  0x0f9cb53Ebe405d49A0bbdBD291A65Ff571bC83e1   \n2021-07-08 22:00:00  0xbEbc44782C7dB0a1A60Cb6fe97d0b483032FF1C7   \n2021-07-08 22:00:00  0x0f9cb53Ebe405d49A0bbdBD291A65Ff571bC83e1   \n2021-07-15 22:00:00  0xbEbc44782C7dB0a1A60Cb6fe97d0b483032FF1C7   \n2021-07-15 22:00:00  0x0f9cb53Ebe405d49A0bbdBD291A65Ff571bC83e1   \n2021-07-22 22:00:00  0xbEbc44782C7dB0a1A60Cb6fe97d0b483032FF1C7   \n2021-07-22 22:00:00  0x0f9cb53Ebe405d49A0bbdBD291A65Ff571bC83e1   \n2021-07-29 22:00:00  0xbEbc44782C7dB0a1A60Cb6fe97d0b483032FF1C7   \n2021-07-29 22:00:00  0x0f9cb53Ebe405d49A0bbdBD291A65Ff571bC83e1   \n2021-08-05 22:00:00  0xbEbc44782C7dB0a1A60Cb6fe97d0b483032FF1C7   \n2021-08-05 22:00:00  0x0f9cb53Ebe405d49A0bbdBD291A65Ff571bC83e1   \n2021-08-12 22:00:00  0xbEbc44782C7dB0a1A60Cb6fe97d0b483032FF1C7   \n2021-08-12 22:00:00  0x0f9cb53Ebe405d49A0bbdBD291A65Ff571bC83e1   \n2021-08-19 22:00:00  0xbEbc44782C7dB0a1A60Cb6fe97d0b483032FF1C7   \n2021-08-19 22:00:00  0x0f9cb53Ebe405d49A0bbdBD291A65Ff571bC83e1   \n2021-08-26 22:00:00  0xbEbc44782C7dB0a1A60Cb6fe97d0b483032FF1C7   \n2021-08-26 22:00:00  0x0f9cb53Ebe405d49A0bbdBD291A65Ff571bC83e1   \n2021-09-02 22:00:00  0xbEbc44782C7dB0a1A60Cb6fe97d0b483032FF1C7   \n2021-09-02 22:00:00  0x0f9cb53Ebe405d49A0bbdBD291A65Ff571bC83e1   \n2021-09-09 22:00:00  0xbEbc44782C7dB0a1A60Cb6fe97d0b483032FF1C7   \n2021-09-09 22:00:00  0x0f9cb53Ebe405d49A0bbdBD291A65Ff571bC83e1   \n2021-09-16 22:00:00  0xbEbc44782C7dB0a1A60Cb6fe97d0b483032FF1C7   \n2021-09-16 22:00:00  0x0f9cb53Ebe405d49A0bbdBD291A65Ff571bC83e1   \n2021-09-23 22:00:00  0xbEbc44782C7dB0a1A60Cb6fe97d0b483032FF1C7   \n2021-09-23 22:00:00  0x0f9cb53Ebe405d49A0bbdBD291A65Ff571bC83e1   \n2021-09-30 22:00:00  0xbEbc44782C7dB0a1A60Cb6fe97d0b483032FF1C7   \n2021-09-30 22:00:00  0x0f9cb53Ebe405d49A0bbdBD291A65Ff571bC83e1   \n2021-10-07 22:00:00  0xbEbc44782C7dB0a1A60Cb6fe97d0b483032FF1C7   \n2021-10-07 22:00:00  0x0f9cb53Ebe405d49A0bbdBD291A65Ff571bC83e1   \n2021-10-14 22:00:00  0xbEbc44782C7dB0a1A60Cb6fe97d0b483032FF1C7   \n2021-10-14 22:00:00  0x0f9cb53Ebe405d49A0bbdBD291A65Ff571bC83e1   \n2021-10-21 22:00:00  0xbEbc44782C7dB0a1A60Cb6fe97d0b483032FF1C7   \n2021-10-21 22:00:00  0x0f9cb53Ebe405d49A0bbdBD291A65Ff571bC83e1   \n2021-10-28 22:00:00  0xbEbc44782C7dB0a1A60Cb6fe97d0b483032FF1C7   \n2021-10-28 22:00:00  0x0f9cb53Ebe405d49A0bbdBD291A65Ff571bC83e1   \n\n                                                  lp_token_addr  \\\n2021-06-24 22:00:00  0x6c3F90f043a72FA612cbac8115EE7e52BDe6E490   \n2021-06-24 22:00:00  0x4f3E8F405CF5aFC05D68142F3783bDfE13811522   \n2021-07-01 22:00:00  0x6c3F90f043a72FA612cbac8115EE7e52BDe6E490   \n2021-07-01 22:00:00  0x4f3E8F405CF5aFC05D68142F3783bDfE13811522   \n2021-07-08 22:00:00  0x6c3F90f043a72FA612cbac8115EE7e52BDe6E490   \n2021-07-08 22:00:00  0x4f3E8F405CF5aFC05D68142F3783bDfE13811522   \n2021-07-15 22:00:00  0x6c3F90f043a72FA612cbac8115EE7e52BDe6E490   \n2021-07-15 22:00:00  0x4f3E8F405CF5aFC05D68142F3783bDfE13811522   \n2021-07-22 22:00:00  0x6c3F90f043a72FA612cbac8115EE7e52BDe6E490   \n2021-07-22 22:00:00  0x4f3E8F405CF5aFC05D68142F3783bDfE13811522   \n2021-07-29 22:00:00  0x6c3F90f043a72FA612cbac8115EE7e52BDe6E490   \n2021-07-29 22:00:00  0x4f3E8F405CF5aFC05D68142F3783bDfE13811522   \n2021-08-05 22:00:00  0x6c3F90f043a72FA612cbac8115EE7e52BDe6E490   \n2021-08-05 22:00:00  0x4f3E8F405CF5aFC05D68142F3783bDfE13811522   \n2021-08-12 22:00:00  0x6c3F90f043a72FA612cbac8115EE7e52BDe6E490   \n2021-08-12 22:00:00  0x4f3E8F405CF5aFC05D68142F3783bDfE13811522   \n2021-08-19 22:00:00  0x6c3F90f043a72FA612cbac8115EE7e52BDe6E490   \n2021-08-19 22:00:00  0x4f3E8F405CF5aFC05D68142F3783bDfE13811522   \n2021-08-26 22:00:00  0x6c3F90f043a72FA612cbac8115EE7e52BDe6E490   \n2021-08-26 22:00:00  0x4f3E8F405CF5aFC05D68142F3783bDfE13811522   \n2021-09-02 22:00:00  0x6c3F90f043a72FA612cbac8115EE7e52BDe6E490   \n2021-09-02 22:00:00  0x4f3E8F405CF5aFC05D68142F3783bDfE13811522   \n2021-09-09 22:00:00  0x6c3F90f043a72FA612cbac8115EE7e52BDe6E490   \n2021-09-09 22:00:00  0x4f3E8F405CF5aFC05D68142F3783bDfE13811522   \n2021-09-16 22:00:00  0x6c3F90f043a72FA612cbac8115EE7e52BDe6E490   \n2021-09-16 22:00:00  0x4f3E8F405CF5aFC05D68142F3783bDfE13811522   \n2021-09-23 22:00:00  0x6c3F90f043a72FA612cbac8115EE7e52BDe6E490   \n2021-09-23 22:00:00  0x4f3E8F405CF5aFC05D68142F3783bDfE13811522   \n2021-09-30 22:00:00  0x6c3F90f043a72FA612cbac8115EE7e52BDe6E490   \n2021-09-30 22:00:00  0x4f3E8F405CF5aFC05D68142F3783bDfE13811522   \n2021-10-07 22:00:00  0x6c3F90f043a72FA612cbac8115EE7e52BDe6E490   \n2021-10-07 22:00:00  0x4f3E8F405CF5aFC05D68142F3783bDfE13811522   \n2021-10-14 22:00:00  0x6c3F90f043a72FA612cbac8115EE7e52BDe6E490   \n2021-10-14 22:00:00  0x4f3E8F405CF5aFC05D68142F3783bDfE13811522   \n2021-10-21 22:00:00  0x6c3F90f043a72FA612cbac8115EE7e52BDe6E490   \n2021-10-21 22:00:00  0x4f3E8F405CF5aFC05D68142F3783bDfE13811522   \n2021-10-28 22:00:00  0x6c3F90f043a72FA612cbac8115EE7e52BDe6E490   \n2021-10-28 22:00:00  0x4f3E8F405CF5aFC05D68142F3783bDfE13811522   \n\n                                                     gauge_addr  \\\n2021-06-24 22:00:00  0xbFcF63294aD7105dEa65aA58F8AE5BE2D9d0952A   \n2021-06-24 22:00:00  0xF98450B5602fa59CC66e1379DFfB6FDDc724CfC4   \n2021-07-01 22:00:00  0xbFcF63294aD7105dEa65aA58F8AE5BE2D9d0952A   \n2021-07-01 22:00:00  0xF98450B5602fa59CC66e1379DFfB6FDDc724CfC4   \n2021-07-08 22:00:00  0xbFcF63294aD7105dEa65aA58F8AE5BE2D9d0952A   \n2021-07-08 22:00:00  0xF98450B5602fa59CC66e1379DFfB6FDDc724CfC4   \n2021-07-15 22:00:00  0xbFcF63294aD7105dEa65aA58F8AE5BE2D9d0952A   \n2021-07-15 22:00:00  0xF98450B5602fa59CC66e1379DFfB6FDDc724CfC4   \n2021-07-22 22:00:00  0xbFcF63294aD7105dEa65aA58F8AE5BE2D9d0952A   \n2021-07-22 22:00:00  0xF98450B5602fa59CC66e1379DFfB6FDDc724CfC4   \n2021-07-29 22:00:00  0xbFcF63294aD7105dEa65aA58F8AE5BE2D9d0952A   \n2021-07-29 22:00:00  0xF98450B5602fa59CC66e1379DFfB6FDDc724CfC4   \n2021-08-05 22:00:00  0xbFcF63294aD7105dEa65aA58F8AE5BE2D9d0952A   \n2021-08-05 22:00:00  0xF98450B5602fa59CC66e1379DFfB6FDDc724CfC4   \n2021-08-12 22:00:00  0xbFcF63294aD7105dEa65aA58F8AE5BE2D9d0952A   \n2021-08-12 22:00:00  0xF98450B5602fa59CC66e1379DFfB6FDDc724CfC4   \n2021-08-19 22:00:00  0xbFcF63294aD7105dEa65aA58F8AE5BE2D9d0952A   \n2021-08-19 22:00:00  0xF98450B5602fa59CC66e1379DFfB6FDDc724CfC4   \n2021-08-26 22:00:00  0xbFcF63294aD7105dEa65aA58F8AE5BE2D9d0952A   \n2021-08-26 22:00:00  0xF98450B5602fa59CC66e1379DFfB6FDDc724CfC4   \n2021-09-02 22:00:00  0xbFcF63294aD7105dEa65aA58F8AE5BE2D9d0952A   \n2021-09-02 22:00:00  0xF98450B5602fa59CC66e1379DFfB6FDDc724CfC4   \n2021-09-09 22:00:00  0xbFcF63294aD7105dEa65aA58F8AE5BE2D9d0952A   \n2021-09-09 22:00:00  0xF98450B5602fa59CC66e1379DFfB6FDDc724CfC4   \n2021-09-16 22:00:00  0xbFcF63294aD7105dEa65aA58F8AE5BE2D9d0952A   \n2021-09-16 22:00:00  0xF98450B5602fa59CC66e1379DFfB6FDDc724CfC4   \n2021-09-23 22:00:00  0xbFcF63294aD7105dEa65aA58F8AE5BE2D9d0952A   \n2021-09-23 22:00:00  0xF98450B5602fa59CC66e1379DFfB6FDDc724CfC4   \n2021-09-30 22:00:00  0xbFcF63294aD7105dEa65aA58F8AE5BE2D9d0952A   \n2021-09-30 22:00:00  0xF98450B5602fa59CC66e1379DFfB6FDDc724CfC4   \n2021-10-07 22:00:00  0xbFcF63294aD7105dEa65aA58F8AE5BE2D9d0952A   \n2021-10-07 22:00:00  0xF98450B5602fa59CC66e1379DFfB6FDDc724CfC4   \n2021-10-14 22:00:00  0xbFcF63294aD7105dEa65aA58F8AE5BE2D9d0952A   \n2021-10-14 22:00:00  0xF98450B5602fa59CC66e1379DFfB6FDDc724CfC4   \n2021-10-21 22:00:00  0xbFcF63294aD7105dEa65aA58F8AE5BE2D9d0952A   \n2021-10-21 22:00:00  0xF98450B5602fa59CC66e1379DFfB6FDDc724CfC4   \n2021-10-28 22:00:00  0xbFcF63294aD7105dEa65aA58F8AE5BE2D9d0952A   \n2021-10-28 22:00:00  0xF98450B5602fa59CC66e1379DFfB6FDDc724CfC4   \n\n                     gauge_relative_weight  lp_token_virtual_price  \\\n2021-06-24 22:00:00               0.030511                1.017823   \n2021-06-24 22:00:00               0.134197                1.030940   \n2021-07-01 22:00:00               0.029063                1.017912   \n2021-07-01 22:00:00               0.128277                1.031422   \n2021-07-08 22:00:00               0.027046                1.017976   \n2021-07-08 22:00:00               0.130238                1.031807   \n2021-07-15 22:00:00               0.028084                1.018046   \n2021-07-15 22:00:00               0.127589                1.032265   \n2021-07-22 22:00:00               0.030080                1.018120   \n2021-07-22 22:00:00               0.136702                1.032666   \n2021-07-29 22:00:00               0.030036                1.018220   \n2021-07-29 22:00:00               0.135905                1.033049   \n2021-08-05 22:00:00               0.025019                1.018337   \n2021-08-05 22:00:00               0.130587                1.033506   \n2021-08-12 22:00:00               0.025891                1.018451   \n2021-08-12 22:00:00               0.127002                1.033948   \n2021-08-19 22:00:00               0.023078                1.018550   \n2021-08-19 22:00:00               0.112639                1.034499   \n2021-08-26 22:00:00               0.021880                1.018636   \n2021-08-26 22:00:00               0.108156                1.035053   \n2021-09-02 22:00:00               0.020864                1.018721   \n2021-09-02 22:00:00               0.101281                1.035783   \n2021-09-09 22:00:00               0.039900                1.018811   \n2021-09-09 22:00:00               0.093112                1.036518   \n2021-09-16 22:00:00               0.039281                1.018906   \n2021-09-16 22:00:00               0.094355                1.037301   \n2021-09-23 22:00:00               0.057580                1.018978   \n2021-09-23 22:00:00               0.075234                1.037985   \n2021-09-30 22:00:00               0.056496                1.019057   \n2021-09-30 22:00:00               0.077144                1.038733   \n2021-10-07 22:00:00               0.046651                1.019136   \n2021-10-07 22:00:00               0.063296                1.039391   \n2021-10-14 22:00:00               0.047389                1.019205   \n2021-10-14 22:00:00               0.061626                1.040130   \n2021-10-21 22:00:00               0.035249                1.019277   \n2021-10-21 22:00:00               0.046207                1.040882   \n2021-10-28 22:00:00               0.034363                1.019339   \n2021-10-28 22:00:00               0.046223                1.041679   \n\n                     total_supply_lp_token  crv_minted_past_1d   crv_to_gauge  \n2021-06-24 22:00:00           1.764436e+09        5.270430e+06  160805.062896  \n2021-06-24 22:00:00           5.627110e+08        5.270430e+06  707277.038120  \n2021-07-01 22:00:00           1.731845e+09        5.270430e+06  153176.715303  \n2021-07-01 22:00:00           5.663490e+08        5.270430e+06  676075.223567  \n2021-07-08 22:00:00           1.733671e+09        5.270430e+06  142546.091241  \n2021-07-08 22:00:00           5.925849e+08        5.270430e+06  686410.078913  \n2021-07-15 22:00:00           1.536708e+09        5.270430e+06  148015.566716  \n2021-07-15 22:00:00           5.819403e+08        5.270430e+06  672450.339207  \n2021-07-22 22:00:00           1.467889e+09        5.270430e+06  158536.154743  \n2021-07-22 22:00:00           5.488982e+08        5.270430e+06  720477.588054  \n2021-07-29 22:00:00           1.457812e+09        5.270430e+06  158301.362771  \n2021-07-29 22:00:00           5.688823e+08        5.270430e+06  716276.129533  \n2021-08-05 22:00:00           1.439797e+09        5.270430e+06  131859.565557  \n2021-08-05 22:00:00           5.822297e+08        5.270430e+06  688249.469197  \n2021-08-12 22:00:00           1.467864e+09        5.270430e+06  136459.087412  \n2021-08-12 22:00:00           6.401141e+08        5.270430e+06  669356.116220  \n2021-08-19 22:00:00           1.428284e+09        4.553131e+06  105076.565343  \n2021-08-19 22:00:00           6.281446e+08        4.553131e+06  512860.868931  \n2021-08-26 22:00:00           1.379284e+09        4.431886e+06   96969.213000  \n2021-08-26 22:00:00           6.807696e+08        4.431886e+06  479334.038407  \n2021-09-02 22:00:00           1.375188e+09        4.431886e+06   92467.553106  \n2021-09-02 22:00:00           6.069987e+08        4.431886e+06  448865.641467  \n2021-09-09 22:00:00           1.489629e+09        4.431886e+06  176831.425042  \n2021-09-09 22:00:00           6.080091e+08        4.431886e+06  412660.249147  \n2021-09-16 22:00:00           1.966693e+09        4.431886e+06  174087.683196  \n2021-09-16 22:00:00           5.891052e+08        4.431886e+06  418170.032366  \n2021-09-23 22:00:00           2.040722e+09        4.431886e+06  255186.610888  \n2021-09-23 22:00:00           5.583124e+08        4.431886e+06  333427.558431  \n2021-09-30 22:00:00           2.111974e+09        4.431886e+06  250382.538270  \n2021-09-30 22:00:00           5.222357e+08        4.431886e+06  341893.151305  \n2021-10-07 22:00:00           2.578214e+09        4.431886e+06  206749.739241  \n2021-10-07 22:00:00           4.955860e+08        4.431886e+06  280520.560474  \n2021-10-14 22:00:00           3.086855e+09        4.431886e+06  210022.704418  \n2021-10-14 22:00:00           4.882592e+08        4.431886e+06  273120.818050  \n2021-10-21 22:00:00           2.943787e+09        4.431886e+06  156218.185409  \n2021-10-21 22:00:00           4.630147e+08        4.431886e+06  204784.875462  \n2021-10-28 22:00:00           3.370503e+09        4.431886e+06  152292.703018  \n2021-10-28 22:00:00           3.922765e+08        4.431886e+06  204854.551281  ",
      "text/html": "<div>\n<style scoped>\n    .dataframe tbody tr th:only-of-type {\n        vertical-align: middle;\n    }\n\n    .dataframe tbody tr th {\n        vertical-align: top;\n    }\n\n    .dataframe thead th {\n        text-align: right;\n    }\n</style>\n<table border=\"1\" class=\"dataframe\">\n  <thead>\n    <tr style=\"text-align: right;\">\n      <th></th>\n      <th>timestamp</th>\n      <th>block_number</th>\n      <th>pool_name</th>\n      <th>pool_addr</th>\n      <th>lp_token_addr</th>\n      <th>gauge_addr</th>\n      <th>gauge_relative_weight</th>\n      <th>lp_token_virtual_price</th>\n      <th>total_supply_lp_token</th>\n      <th>crv_minted_past_1d</th>\n      <th>crv_to_gauge</th>\n    </tr>\n  </thead>\n  <tbody>\n    <tr>\n      <th>2021-06-24 22:00:00</th>\n      <td>1624572000</td>\n      <td>12699406</td>\n      <td>Curve.fi DAI/USDC/USDT</td>\n      <td>0xbEbc44782C7dB0a1A60Cb6fe97d0b483032FF1C7</td>\n      <td>0x6c3F90f043a72FA612cbac8115EE7e52BDe6E490</td>\n      <td>0xbFcF63294aD7105dEa65aA58F8AE5BE2D9d0952A</td>\n      <td>0.030511</td>\n      <td>1.017823</td>\n      <td>1.764436e+09</td>\n      <td>5.270430e+06</td>\n      <td>160805.062896</td>\n    </tr>\n    <tr>\n      <th>2021-06-24 22:00:00</th>\n      <td>1624572000</td>\n      <td>12699406</td>\n      <td>Curve.fi USDN/3Crv</td>\n      <td>0x0f9cb53Ebe405d49A0bbdBD291A65Ff571bC83e1</td>\n      <td>0x4f3E8F405CF5aFC05D68142F3783bDfE13811522</td>\n      <td>0xF98450B5602fa59CC66e1379DFfB6FDDc724CfC4</td>\n      <td>0.134197</td>\n      <td>1.030940</td>\n      <td>5.627110e+08</td>\n      <td>5.270430e+06</td>\n      <td>707277.038120</td>\n    </tr>\n    <tr>\n      <th>2021-07-01 22:00:00</th>\n      <td>1625176800</td>\n      <td>12744302</td>\n      <td>Curve.fi DAI/USDC/USDT</td>\n      <td>0xbEbc44782C7dB0a1A60Cb6fe97d0b483032FF1C7</td>\n      <td>0x6c3F90f043a72FA612cbac8115EE7e52BDe6E490</td>\n      <td>0xbFcF63294aD7105dEa65aA58F8AE5BE2D9d0952A</td>\n      <td>0.029063</td>\n      <td>1.017912</td>\n      <td>1.731845e+09</td>\n      <td>5.270430e+06</td>\n      <td>153176.715303</td>\n    </tr>\n    <tr>\n      <th>2021-07-01 22:00:00</th>\n      <td>1625176800</td>\n      <td>12744302</td>\n      <td>Curve.fi USDN/3Crv</td>\n      <td>0x0f9cb53Ebe405d49A0bbdBD291A65Ff571bC83e1</td>\n      <td>0x4f3E8F405CF5aFC05D68142F3783bDfE13811522</td>\n      <td>0xF98450B5602fa59CC66e1379DFfB6FDDc724CfC4</td>\n      <td>0.128277</td>\n      <td>1.031422</td>\n      <td>5.663490e+08</td>\n      <td>5.270430e+06</td>\n      <td>676075.223567</td>\n    </tr>\n    <tr>\n      <th>2021-07-08 22:00:00</th>\n      <td>1625781600</td>\n      <td>12789307</td>\n      <td>Curve.fi DAI/USDC/USDT</td>\n      <td>0xbEbc44782C7dB0a1A60Cb6fe97d0b483032FF1C7</td>\n      <td>0x6c3F90f043a72FA612cbac8115EE7e52BDe6E490</td>\n      <td>0xbFcF63294aD7105dEa65aA58F8AE5BE2D9d0952A</td>\n      <td>0.027046</td>\n      <td>1.017976</td>\n      <td>1.733671e+09</td>\n      <td>5.270430e+06</td>\n      <td>142546.091241</td>\n    </tr>\n    <tr>\n      <th>2021-07-08 22:00:00</th>\n      <td>1625781600</td>\n      <td>12789307</td>\n      <td>Curve.fi USDN/3Crv</td>\n      <td>0x0f9cb53Ebe405d49A0bbdBD291A65Ff571bC83e1</td>\n      <td>0x4f3E8F405CF5aFC05D68142F3783bDfE13811522</td>\n      <td>0xF98450B5602fa59CC66e1379DFfB6FDDc724CfC4</td>\n      <td>0.130238</td>\n      <td>1.031807</td>\n      <td>5.925849e+08</td>\n      <td>5.270430e+06</td>\n      <td>686410.078913</td>\n    </tr>\n    <tr>\n      <th>2021-07-15 22:00:00</th>\n      <td>1626386400</td>\n      <td>12834098</td>\n      <td>Curve.fi DAI/USDC/USDT</td>\n      <td>0xbEbc44782C7dB0a1A60Cb6fe97d0b483032FF1C7</td>\n      <td>0x6c3F90f043a72FA612cbac8115EE7e52BDe6E490</td>\n      <td>0xbFcF63294aD7105dEa65aA58F8AE5BE2D9d0952A</td>\n      <td>0.028084</td>\n      <td>1.018046</td>\n      <td>1.536708e+09</td>\n      <td>5.270430e+06</td>\n      <td>148015.566716</td>\n    </tr>\n    <tr>\n      <th>2021-07-15 22:00:00</th>\n      <td>1626386400</td>\n      <td>12834098</td>\n      <td>Curve.fi USDN/3Crv</td>\n      <td>0x0f9cb53Ebe405d49A0bbdBD291A65Ff571bC83e1</td>\n      <td>0x4f3E8F405CF5aFC05D68142F3783bDfE13811522</td>\n      <td>0xF98450B5602fa59CC66e1379DFfB6FDDc724CfC4</td>\n      <td>0.127589</td>\n      <td>1.032265</td>\n      <td>5.819403e+08</td>\n      <td>5.270430e+06</td>\n      <td>672450.339207</td>\n    </tr>\n    <tr>\n      <th>2021-07-22 22:00:00</th>\n      <td>1626991200</td>\n      <td>12878749</td>\n      <td>Curve.fi DAI/USDC/USDT</td>\n      <td>0xbEbc44782C7dB0a1A60Cb6fe97d0b483032FF1C7</td>\n      <td>0x6c3F90f043a72FA612cbac8115EE7e52BDe6E490</td>\n      <td>0xbFcF63294aD7105dEa65aA58F8AE5BE2D9d0952A</td>\n      <td>0.030080</td>\n      <td>1.018120</td>\n      <td>1.467889e+09</td>\n      <td>5.270430e+06</td>\n      <td>158536.154743</td>\n    </tr>\n    <tr>\n      <th>2021-07-22 22:00:00</th>\n      <td>1626991200</td>\n      <td>12878749</td>\n      <td>Curve.fi USDN/3Crv</td>\n      <td>0x0f9cb53Ebe405d49A0bbdBD291A65Ff571bC83e1</td>\n      <td>0x4f3E8F405CF5aFC05D68142F3783bDfE13811522</td>\n      <td>0xF98450B5602fa59CC66e1379DFfB6FDDc724CfC4</td>\n      <td>0.136702</td>\n      <td>1.032666</td>\n      <td>5.488982e+08</td>\n      <td>5.270430e+06</td>\n      <td>720477.588054</td>\n    </tr>\n    <tr>\n      <th>2021-07-29 22:00:00</th>\n      <td>1627596000</td>\n      <td>12923235</td>\n      <td>Curve.fi DAI/USDC/USDT</td>\n      <td>0xbEbc44782C7dB0a1A60Cb6fe97d0b483032FF1C7</td>\n      <td>0x6c3F90f043a72FA612cbac8115EE7e52BDe6E490</td>\n      <td>0xbFcF63294aD7105dEa65aA58F8AE5BE2D9d0952A</td>\n      <td>0.030036</td>\n      <td>1.018220</td>\n      <td>1.457812e+09</td>\n      <td>5.270430e+06</td>\n      <td>158301.362771</td>\n    </tr>\n    <tr>\n      <th>2021-07-29 22:00:00</th>\n      <td>1627596000</td>\n      <td>12923235</td>\n      <td>Curve.fi USDN/3Crv</td>\n      <td>0x0f9cb53Ebe405d49A0bbdBD291A65Ff571bC83e1</td>\n      <td>0x4f3E8F405CF5aFC05D68142F3783bDfE13811522</td>\n      <td>0xF98450B5602fa59CC66e1379DFfB6FDDc724CfC4</td>\n      <td>0.135905</td>\n      <td>1.033049</td>\n      <td>5.688823e+08</td>\n      <td>5.270430e+06</td>\n      <td>716276.129533</td>\n    </tr>\n    <tr>\n      <th>2021-08-05 22:00:00</th>\n      <td>1628200800</td>\n      <td>12967525</td>\n      <td>Curve.fi DAI/USDC/USDT</td>\n      <td>0xbEbc44782C7dB0a1A60Cb6fe97d0b483032FF1C7</td>\n      <td>0x6c3F90f043a72FA612cbac8115EE7e52BDe6E490</td>\n      <td>0xbFcF63294aD7105dEa65aA58F8AE5BE2D9d0952A</td>\n      <td>0.025019</td>\n      <td>1.018337</td>\n      <td>1.439797e+09</td>\n      <td>5.270430e+06</td>\n      <td>131859.565557</td>\n    </tr>\n    <tr>\n      <th>2021-08-05 22:00:00</th>\n      <td>1628200800</td>\n      <td>12967525</td>\n      <td>Curve.fi USDN/3Crv</td>\n      <td>0x0f9cb53Ebe405d49A0bbdBD291A65Ff571bC83e1</td>\n      <td>0x4f3E8F405CF5aFC05D68142F3783bDfE13811522</td>\n      <td>0xF98450B5602fa59CC66e1379DFfB6FDDc724CfC4</td>\n      <td>0.130587</td>\n      <td>1.033506</td>\n      <td>5.822297e+08</td>\n      <td>5.270430e+06</td>\n      <td>688249.469197</td>\n    </tr>\n    <tr>\n      <th>2021-08-12 22:00:00</th>\n      <td>1628805600</td>\n      <td>13012938</td>\n      <td>Curve.fi DAI/USDC/USDT</td>\n      <td>0xbEbc44782C7dB0a1A60Cb6fe97d0b483032FF1C7</td>\n      <td>0x6c3F90f043a72FA612cbac8115EE7e52BDe6E490</td>\n      <td>0xbFcF63294aD7105dEa65aA58F8AE5BE2D9d0952A</td>\n      <td>0.025891</td>\n      <td>1.018451</td>\n      <td>1.467864e+09</td>\n      <td>5.270430e+06</td>\n      <td>136459.087412</td>\n    </tr>\n    <tr>\n      <th>2021-08-12 22:00:00</th>\n      <td>1628805600</td>\n      <td>13012938</td>\n      <td>Curve.fi USDN/3Crv</td>\n      <td>0x0f9cb53Ebe405d49A0bbdBD291A65Ff571bC83e1</td>\n      <td>0x4f3E8F405CF5aFC05D68142F3783bDfE13811522</td>\n      <td>0xF98450B5602fa59CC66e1379DFfB6FDDc724CfC4</td>\n      <td>0.127002</td>\n      <td>1.033948</td>\n      <td>6.401141e+08</td>\n      <td>5.270430e+06</td>\n      <td>669356.116220</td>\n    </tr>\n    <tr>\n      <th>2021-08-19 22:00:00</th>\n      <td>1629410400</td>\n      <td>13058324</td>\n      <td>Curve.fi DAI/USDC/USDT</td>\n      <td>0xbEbc44782C7dB0a1A60Cb6fe97d0b483032FF1C7</td>\n      <td>0x6c3F90f043a72FA612cbac8115EE7e52BDe6E490</td>\n      <td>0xbFcF63294aD7105dEa65aA58F8AE5BE2D9d0952A</td>\n      <td>0.023078</td>\n      <td>1.018550</td>\n      <td>1.428284e+09</td>\n      <td>4.553131e+06</td>\n      <td>105076.565343</td>\n    </tr>\n    <tr>\n      <th>2021-08-19 22:00:00</th>\n      <td>1629410400</td>\n      <td>13058324</td>\n      <td>Curve.fi USDN/3Crv</td>\n      <td>0x0f9cb53Ebe405d49A0bbdBD291A65Ff571bC83e1</td>\n      <td>0x4f3E8F405CF5aFC05D68142F3783bDfE13811522</td>\n      <td>0xF98450B5602fa59CC66e1379DFfB6FDDc724CfC4</td>\n      <td>0.112639</td>\n      <td>1.034499</td>\n      <td>6.281446e+08</td>\n      <td>4.553131e+06</td>\n      <td>512860.868931</td>\n    </tr>\n    <tr>\n      <th>2021-08-26 22:00:00</th>\n      <td>1630015200</td>\n      <td>13103596</td>\n      <td>Curve.fi DAI/USDC/USDT</td>\n      <td>0xbEbc44782C7dB0a1A60Cb6fe97d0b483032FF1C7</td>\n      <td>0x6c3F90f043a72FA612cbac8115EE7e52BDe6E490</td>\n      <td>0xbFcF63294aD7105dEa65aA58F8AE5BE2D9d0952A</td>\n      <td>0.021880</td>\n      <td>1.018636</td>\n      <td>1.379284e+09</td>\n      <td>4.431886e+06</td>\n      <td>96969.213000</td>\n    </tr>\n    <tr>\n      <th>2021-08-26 22:00:00</th>\n      <td>1630015200</td>\n      <td>13103596</td>\n      <td>Curve.fi USDN/3Crv</td>\n      <td>0x0f9cb53Ebe405d49A0bbdBD291A65Ff571bC83e1</td>\n      <td>0x4f3E8F405CF5aFC05D68142F3783bDfE13811522</td>\n      <td>0xF98450B5602fa59CC66e1379DFfB6FDDc724CfC4</td>\n      <td>0.108156</td>\n      <td>1.035053</td>\n      <td>6.807696e+08</td>\n      <td>4.431886e+06</td>\n      <td>479334.038407</td>\n    </tr>\n    <tr>\n      <th>2021-09-02 22:00:00</th>\n      <td>1630620000</td>\n      <td>13148889</td>\n      <td>Curve.fi DAI/USDC/USDT</td>\n      <td>0xbEbc44782C7dB0a1A60Cb6fe97d0b483032FF1C7</td>\n      <td>0x6c3F90f043a72FA612cbac8115EE7e52BDe6E490</td>\n      <td>0xbFcF63294aD7105dEa65aA58F8AE5BE2D9d0952A</td>\n      <td>0.020864</td>\n      <td>1.018721</td>\n      <td>1.375188e+09</td>\n      <td>4.431886e+06</td>\n      <td>92467.553106</td>\n    </tr>\n    <tr>\n      <th>2021-09-02 22:00:00</th>\n      <td>1630620000</td>\n      <td>13148889</td>\n      <td>Curve.fi USDN/3Crv</td>\n      <td>0x0f9cb53Ebe405d49A0bbdBD291A65Ff571bC83e1</td>\n      <td>0x4f3E8F405CF5aFC05D68142F3783bDfE13811522</td>\n      <td>0xF98450B5602fa59CC66e1379DFfB6FDDc724CfC4</td>\n      <td>0.101281</td>\n      <td>1.035783</td>\n      <td>6.069987e+08</td>\n      <td>4.431886e+06</td>\n      <td>448865.641467</td>\n    </tr>\n    <tr>\n      <th>2021-09-09 22:00:00</th>\n      <td>1631224800</td>\n      <td>13194159</td>\n      <td>Curve.fi DAI/USDC/USDT</td>\n      <td>0xbEbc44782C7dB0a1A60Cb6fe97d0b483032FF1C7</td>\n      <td>0x6c3F90f043a72FA612cbac8115EE7e52BDe6E490</td>\n      <td>0xbFcF63294aD7105dEa65aA58F8AE5BE2D9d0952A</td>\n      <td>0.039900</td>\n      <td>1.018811</td>\n      <td>1.489629e+09</td>\n      <td>4.431886e+06</td>\n      <td>176831.425042</td>\n    </tr>\n    <tr>\n      <th>2021-09-09 22:00:00</th>\n      <td>1631224800</td>\n      <td>13194159</td>\n      <td>Curve.fi USDN/3Crv</td>\n      <td>0x0f9cb53Ebe405d49A0bbdBD291A65Ff571bC83e1</td>\n      <td>0x4f3E8F405CF5aFC05D68142F3783bDfE13811522</td>\n      <td>0xF98450B5602fa59CC66e1379DFfB6FDDc724CfC4</td>\n      <td>0.093112</td>\n      <td>1.036518</td>\n      <td>6.080091e+08</td>\n      <td>4.431886e+06</td>\n      <td>412660.249147</td>\n    </tr>\n    <tr>\n      <th>2021-09-16 22:00:00</th>\n      <td>1631829600</td>\n      <td>13239335</td>\n      <td>Curve.fi DAI/USDC/USDT</td>\n      <td>0xbEbc44782C7dB0a1A60Cb6fe97d0b483032FF1C7</td>\n      <td>0x6c3F90f043a72FA612cbac8115EE7e52BDe6E490</td>\n      <td>0xbFcF63294aD7105dEa65aA58F8AE5BE2D9d0952A</td>\n      <td>0.039281</td>\n      <td>1.018906</td>\n      <td>1.966693e+09</td>\n      <td>4.431886e+06</td>\n      <td>174087.683196</td>\n    </tr>\n    <tr>\n      <th>2021-09-16 22:00:00</th>\n      <td>1631829600</td>\n      <td>13239335</td>\n      <td>Curve.fi USDN/3Crv</td>\n      <td>0x0f9cb53Ebe405d49A0bbdBD291A65Ff571bC83e1</td>\n      <td>0x4f3E8F405CF5aFC05D68142F3783bDfE13811522</td>\n      <td>0xF98450B5602fa59CC66e1379DFfB6FDDc724CfC4</td>\n      <td>0.094355</td>\n      <td>1.037301</td>\n      <td>5.891052e+08</td>\n      <td>4.431886e+06</td>\n      <td>418170.032366</td>\n    </tr>\n    <tr>\n      <th>2021-09-23 22:00:00</th>\n      <td>1632434400</td>\n      <td>13284548</td>\n      <td>Curve.fi DAI/USDC/USDT</td>\n      <td>0xbEbc44782C7dB0a1A60Cb6fe97d0b483032FF1C7</td>\n      <td>0x6c3F90f043a72FA612cbac8115EE7e52BDe6E490</td>\n      <td>0xbFcF63294aD7105dEa65aA58F8AE5BE2D9d0952A</td>\n      <td>0.057580</td>\n      <td>1.018978</td>\n      <td>2.040722e+09</td>\n      <td>4.431886e+06</td>\n      <td>255186.610888</td>\n    </tr>\n    <tr>\n      <th>2021-09-23 22:00:00</th>\n      <td>1632434400</td>\n      <td>13284548</td>\n      <td>Curve.fi USDN/3Crv</td>\n      <td>0x0f9cb53Ebe405d49A0bbdBD291A65Ff571bC83e1</td>\n      <td>0x4f3E8F405CF5aFC05D68142F3783bDfE13811522</td>\n      <td>0xF98450B5602fa59CC66e1379DFfB6FDDc724CfC4</td>\n      <td>0.075234</td>\n      <td>1.037985</td>\n      <td>5.583124e+08</td>\n      <td>4.431886e+06</td>\n      <td>333427.558431</td>\n    </tr>\n    <tr>\n      <th>2021-09-30 22:00:00</th>\n      <td>1633039200</td>\n      <td>13329599</td>\n      <td>Curve.fi DAI/USDC/USDT</td>\n      <td>0xbEbc44782C7dB0a1A60Cb6fe97d0b483032FF1C7</td>\n      <td>0x6c3F90f043a72FA612cbac8115EE7e52BDe6E490</td>\n      <td>0xbFcF63294aD7105dEa65aA58F8AE5BE2D9d0952A</td>\n      <td>0.056496</td>\n      <td>1.019057</td>\n      <td>2.111974e+09</td>\n      <td>4.431886e+06</td>\n      <td>250382.538270</td>\n    </tr>\n    <tr>\n      <th>2021-09-30 22:00:00</th>\n      <td>1633039200</td>\n      <td>13329599</td>\n      <td>Curve.fi USDN/3Crv</td>\n      <td>0x0f9cb53Ebe405d49A0bbdBD291A65Ff571bC83e1</td>\n      <td>0x4f3E8F405CF5aFC05D68142F3783bDfE13811522</td>\n      <td>0xF98450B5602fa59CC66e1379DFfB6FDDc724CfC4</td>\n      <td>0.077144</td>\n      <td>1.038733</td>\n      <td>5.222357e+08</td>\n      <td>4.431886e+06</td>\n      <td>341893.151305</td>\n    </tr>\n    <tr>\n      <th>2021-10-07 22:00:00</th>\n      <td>1633644000</td>\n      <td>13374347</td>\n      <td>Curve.fi DAI/USDC/USDT</td>\n      <td>0xbEbc44782C7dB0a1A60Cb6fe97d0b483032FF1C7</td>\n      <td>0x6c3F90f043a72FA612cbac8115EE7e52BDe6E490</td>\n      <td>0xbFcF63294aD7105dEa65aA58F8AE5BE2D9d0952A</td>\n      <td>0.046651</td>\n      <td>1.019136</td>\n      <td>2.578214e+09</td>\n      <td>4.431886e+06</td>\n      <td>206749.739241</td>\n    </tr>\n    <tr>\n      <th>2021-10-07 22:00:00</th>\n      <td>1633644000</td>\n      <td>13374347</td>\n      <td>Curve.fi USDN/3Crv</td>\n      <td>0x0f9cb53Ebe405d49A0bbdBD291A65Ff571bC83e1</td>\n      <td>0x4f3E8F405CF5aFC05D68142F3783bDfE13811522</td>\n      <td>0xF98450B5602fa59CC66e1379DFfB6FDDc724CfC4</td>\n      <td>0.063296</td>\n      <td>1.039391</td>\n      <td>4.955860e+08</td>\n      <td>4.431886e+06</td>\n      <td>280520.560474</td>\n    </tr>\n    <tr>\n      <th>2021-10-14 22:00:00</th>\n      <td>1634248800</td>\n      <td>13418846</td>\n      <td>Curve.fi DAI/USDC/USDT</td>\n      <td>0xbEbc44782C7dB0a1A60Cb6fe97d0b483032FF1C7</td>\n      <td>0x6c3F90f043a72FA612cbac8115EE7e52BDe6E490</td>\n      <td>0xbFcF63294aD7105dEa65aA58F8AE5BE2D9d0952A</td>\n      <td>0.047389</td>\n      <td>1.019205</td>\n      <td>3.086855e+09</td>\n      <td>4.431886e+06</td>\n      <td>210022.704418</td>\n    </tr>\n    <tr>\n      <th>2021-10-14 22:00:00</th>\n      <td>1634248800</td>\n      <td>13418846</td>\n      <td>Curve.fi USDN/3Crv</td>\n      <td>0x0f9cb53Ebe405d49A0bbdBD291A65Ff571bC83e1</td>\n      <td>0x4f3E8F405CF5aFC05D68142F3783bDfE13811522</td>\n      <td>0xF98450B5602fa59CC66e1379DFfB6FDDc724CfC4</td>\n      <td>0.061626</td>\n      <td>1.040130</td>\n      <td>4.882592e+08</td>\n      <td>4.431886e+06</td>\n      <td>273120.818050</td>\n    </tr>\n    <tr>\n      <th>2021-10-21 22:00:00</th>\n      <td>1634853600</td>\n      <td>13463558</td>\n      <td>Curve.fi DAI/USDC/USDT</td>\n      <td>0xbEbc44782C7dB0a1A60Cb6fe97d0b483032FF1C7</td>\n      <td>0x6c3F90f043a72FA612cbac8115EE7e52BDe6E490</td>\n      <td>0xbFcF63294aD7105dEa65aA58F8AE5BE2D9d0952A</td>\n      <td>0.035249</td>\n      <td>1.019277</td>\n      <td>2.943787e+09</td>\n      <td>4.431886e+06</td>\n      <td>156218.185409</td>\n    </tr>\n    <tr>\n      <th>2021-10-21 22:00:00</th>\n      <td>1634853600</td>\n      <td>13463558</td>\n      <td>Curve.fi USDN/3Crv</td>\n      <td>0x0f9cb53Ebe405d49A0bbdBD291A65Ff571bC83e1</td>\n      <td>0x4f3E8F405CF5aFC05D68142F3783bDfE13811522</td>\n      <td>0xF98450B5602fa59CC66e1379DFfB6FDDc724CfC4</td>\n      <td>0.046207</td>\n      <td>1.040882</td>\n      <td>4.630147e+08</td>\n      <td>4.431886e+06</td>\n      <td>204784.875462</td>\n    </tr>\n    <tr>\n      <th>2021-10-28 22:00:00</th>\n      <td>1635458400</td>\n      <td>13508257</td>\n      <td>Curve.fi DAI/USDC/USDT</td>\n      <td>0xbEbc44782C7dB0a1A60Cb6fe97d0b483032FF1C7</td>\n      <td>0x6c3F90f043a72FA612cbac8115EE7e52BDe6E490</td>\n      <td>0xbFcF63294aD7105dEa65aA58F8AE5BE2D9d0952A</td>\n      <td>0.034363</td>\n      <td>1.019339</td>\n      <td>3.370503e+09</td>\n      <td>4.431886e+06</td>\n      <td>152292.703018</td>\n    </tr>\n    <tr>\n      <th>2021-10-28 22:00:00</th>\n      <td>1635458400</td>\n      <td>13508257</td>\n      <td>Curve.fi USDN/3Crv</td>\n      <td>0x0f9cb53Ebe405d49A0bbdBD291A65Ff571bC83e1</td>\n      <td>0x4f3E8F405CF5aFC05D68142F3783bDfE13811522</td>\n      <td>0xF98450B5602fa59CC66e1379DFfB6FDDc724CfC4</td>\n      <td>0.046223</td>\n      <td>1.041679</td>\n      <td>3.922765e+08</td>\n      <td>4.431886e+06</td>\n      <td>204854.551281</td>\n    </tr>\n  </tbody>\n</table>\n</div>"
     },
     "execution_count": 28,
     "metadata": {},
     "output_type": "execute_result"
    }
   ],
   "source": [
    "emissions_data"
   ],
   "metadata": {
    "collapsed": false,
    "pycharm": {
     "name": "#%%\n"
    }
   }
  },
  {
   "cell_type": "markdown",
   "source": [
    "# swap fees to liquidity providers per pool per week:"
   ],
   "metadata": {
    "collapsed": false,
    "pycharm": {
     "name": "#%% md\n"
    }
   }
  },
  {
   "cell_type": "code",
   "execution_count": 29,
   "outputs": [],
   "source": [
    "emissions_and_revenue = pd.DataFrame()\n",
    "for pool_addr in emissions_data.pool_addr.unique():\n",
    "\n",
    "    pool_data = emissions_data[emissions_data.pool_addr == pool_addr]\n",
    "    pool_data = pool_data.sort_values(by=\"block_number\", ascending=True)\n",
    "    pool_data['virtual_price_diff'] = pool_data.lp_token_virtual_price.diff()\n",
    "\n",
    "    emissions_and_revenue = pd.concat([emissions_and_revenue, pool_data])"
   ],
   "metadata": {
    "collapsed": false,
    "pycharm": {
     "name": "#%%\n"
    }
   }
  },
  {
   "cell_type": "code",
   "execution_count": 30,
   "outputs": [
    {
     "data": {
      "text/plain": "                      timestamp  block_number               pool_name  \\\n2021-06-24 22:00:00  1624572000      12699406  Curve.fi DAI/USDC/USDT   \n2021-07-01 22:00:00  1625176800      12744302  Curve.fi DAI/USDC/USDT   \n2021-07-08 22:00:00  1625781600      12789307  Curve.fi DAI/USDC/USDT   \n2021-07-15 22:00:00  1626386400      12834098  Curve.fi DAI/USDC/USDT   \n2021-07-22 22:00:00  1626991200      12878749  Curve.fi DAI/USDC/USDT   \n2021-07-29 22:00:00  1627596000      12923235  Curve.fi DAI/USDC/USDT   \n2021-08-05 22:00:00  1628200800      12967525  Curve.fi DAI/USDC/USDT   \n2021-08-12 22:00:00  1628805600      13012938  Curve.fi DAI/USDC/USDT   \n2021-08-19 22:00:00  1629410400      13058324  Curve.fi DAI/USDC/USDT   \n2021-08-26 22:00:00  1630015200      13103596  Curve.fi DAI/USDC/USDT   \n2021-09-02 22:00:00  1630620000      13148889  Curve.fi DAI/USDC/USDT   \n2021-09-09 22:00:00  1631224800      13194159  Curve.fi DAI/USDC/USDT   \n2021-09-16 22:00:00  1631829600      13239335  Curve.fi DAI/USDC/USDT   \n2021-09-23 22:00:00  1632434400      13284548  Curve.fi DAI/USDC/USDT   \n2021-09-30 22:00:00  1633039200      13329599  Curve.fi DAI/USDC/USDT   \n2021-10-07 22:00:00  1633644000      13374347  Curve.fi DAI/USDC/USDT   \n2021-10-14 22:00:00  1634248800      13418846  Curve.fi DAI/USDC/USDT   \n2021-10-21 22:00:00  1634853600      13463558  Curve.fi DAI/USDC/USDT   \n2021-10-28 22:00:00  1635458400      13508257  Curve.fi DAI/USDC/USDT   \n2021-06-24 22:00:00  1624572000      12699406      Curve.fi USDN/3Crv   \n2021-07-01 22:00:00  1625176800      12744302      Curve.fi USDN/3Crv   \n2021-07-08 22:00:00  1625781600      12789307      Curve.fi USDN/3Crv   \n2021-07-15 22:00:00  1626386400      12834098      Curve.fi USDN/3Crv   \n2021-07-22 22:00:00  1626991200      12878749      Curve.fi USDN/3Crv   \n2021-07-29 22:00:00  1627596000      12923235      Curve.fi USDN/3Crv   \n2021-08-05 22:00:00  1628200800      12967525      Curve.fi USDN/3Crv   \n2021-08-12 22:00:00  1628805600      13012938      Curve.fi USDN/3Crv   \n2021-08-19 22:00:00  1629410400      13058324      Curve.fi USDN/3Crv   \n2021-08-26 22:00:00  1630015200      13103596      Curve.fi USDN/3Crv   \n2021-09-02 22:00:00  1630620000      13148889      Curve.fi USDN/3Crv   \n2021-09-09 22:00:00  1631224800      13194159      Curve.fi USDN/3Crv   \n2021-09-16 22:00:00  1631829600      13239335      Curve.fi USDN/3Crv   \n2021-09-23 22:00:00  1632434400      13284548      Curve.fi USDN/3Crv   \n2021-09-30 22:00:00  1633039200      13329599      Curve.fi USDN/3Crv   \n2021-10-07 22:00:00  1633644000      13374347      Curve.fi USDN/3Crv   \n2021-10-14 22:00:00  1634248800      13418846      Curve.fi USDN/3Crv   \n2021-10-21 22:00:00  1634853600      13463558      Curve.fi USDN/3Crv   \n2021-10-28 22:00:00  1635458400      13508257      Curve.fi USDN/3Crv   \n\n                                                      pool_addr  \\\n2021-06-24 22:00:00  0xbEbc44782C7dB0a1A60Cb6fe97d0b483032FF1C7   \n2021-07-01 22:00:00  0xbEbc44782C7dB0a1A60Cb6fe97d0b483032FF1C7   \n2021-07-08 22:00:00  0xbEbc44782C7dB0a1A60Cb6fe97d0b483032FF1C7   \n2021-07-15 22:00:00  0xbEbc44782C7dB0a1A60Cb6fe97d0b483032FF1C7   \n2021-07-22 22:00:00  0xbEbc44782C7dB0a1A60Cb6fe97d0b483032FF1C7   \n2021-07-29 22:00:00  0xbEbc44782C7dB0a1A60Cb6fe97d0b483032FF1C7   \n2021-08-05 22:00:00  0xbEbc44782C7dB0a1A60Cb6fe97d0b483032FF1C7   \n2021-08-12 22:00:00  0xbEbc44782C7dB0a1A60Cb6fe97d0b483032FF1C7   \n2021-08-19 22:00:00  0xbEbc44782C7dB0a1A60Cb6fe97d0b483032FF1C7   \n2021-08-26 22:00:00  0xbEbc44782C7dB0a1A60Cb6fe97d0b483032FF1C7   \n2021-09-02 22:00:00  0xbEbc44782C7dB0a1A60Cb6fe97d0b483032FF1C7   \n2021-09-09 22:00:00  0xbEbc44782C7dB0a1A60Cb6fe97d0b483032FF1C7   \n2021-09-16 22:00:00  0xbEbc44782C7dB0a1A60Cb6fe97d0b483032FF1C7   \n2021-09-23 22:00:00  0xbEbc44782C7dB0a1A60Cb6fe97d0b483032FF1C7   \n2021-09-30 22:00:00  0xbEbc44782C7dB0a1A60Cb6fe97d0b483032FF1C7   \n2021-10-07 22:00:00  0xbEbc44782C7dB0a1A60Cb6fe97d0b483032FF1C7   \n2021-10-14 22:00:00  0xbEbc44782C7dB0a1A60Cb6fe97d0b483032FF1C7   \n2021-10-21 22:00:00  0xbEbc44782C7dB0a1A60Cb6fe97d0b483032FF1C7   \n2021-10-28 22:00:00  0xbEbc44782C7dB0a1A60Cb6fe97d0b483032FF1C7   \n2021-06-24 22:00:00  0x0f9cb53Ebe405d49A0bbdBD291A65Ff571bC83e1   \n2021-07-01 22:00:00  0x0f9cb53Ebe405d49A0bbdBD291A65Ff571bC83e1   \n2021-07-08 22:00:00  0x0f9cb53Ebe405d49A0bbdBD291A65Ff571bC83e1   \n2021-07-15 22:00:00  0x0f9cb53Ebe405d49A0bbdBD291A65Ff571bC83e1   \n2021-07-22 22:00:00  0x0f9cb53Ebe405d49A0bbdBD291A65Ff571bC83e1   \n2021-07-29 22:00:00  0x0f9cb53Ebe405d49A0bbdBD291A65Ff571bC83e1   \n2021-08-05 22:00:00  0x0f9cb53Ebe405d49A0bbdBD291A65Ff571bC83e1   \n2021-08-12 22:00:00  0x0f9cb53Ebe405d49A0bbdBD291A65Ff571bC83e1   \n2021-08-19 22:00:00  0x0f9cb53Ebe405d49A0bbdBD291A65Ff571bC83e1   \n2021-08-26 22:00:00  0x0f9cb53Ebe405d49A0bbdBD291A65Ff571bC83e1   \n2021-09-02 22:00:00  0x0f9cb53Ebe405d49A0bbdBD291A65Ff571bC83e1   \n2021-09-09 22:00:00  0x0f9cb53Ebe405d49A0bbdBD291A65Ff571bC83e1   \n2021-09-16 22:00:00  0x0f9cb53Ebe405d49A0bbdBD291A65Ff571bC83e1   \n2021-09-23 22:00:00  0x0f9cb53Ebe405d49A0bbdBD291A65Ff571bC83e1   \n2021-09-30 22:00:00  0x0f9cb53Ebe405d49A0bbdBD291A65Ff571bC83e1   \n2021-10-07 22:00:00  0x0f9cb53Ebe405d49A0bbdBD291A65Ff571bC83e1   \n2021-10-14 22:00:00  0x0f9cb53Ebe405d49A0bbdBD291A65Ff571bC83e1   \n2021-10-21 22:00:00  0x0f9cb53Ebe405d49A0bbdBD291A65Ff571bC83e1   \n2021-10-28 22:00:00  0x0f9cb53Ebe405d49A0bbdBD291A65Ff571bC83e1   \n\n                                                  lp_token_addr  \\\n2021-06-24 22:00:00  0x6c3F90f043a72FA612cbac8115EE7e52BDe6E490   \n2021-07-01 22:00:00  0x6c3F90f043a72FA612cbac8115EE7e52BDe6E490   \n2021-07-08 22:00:00  0x6c3F90f043a72FA612cbac8115EE7e52BDe6E490   \n2021-07-15 22:00:00  0x6c3F90f043a72FA612cbac8115EE7e52BDe6E490   \n2021-07-22 22:00:00  0x6c3F90f043a72FA612cbac8115EE7e52BDe6E490   \n2021-07-29 22:00:00  0x6c3F90f043a72FA612cbac8115EE7e52BDe6E490   \n2021-08-05 22:00:00  0x6c3F90f043a72FA612cbac8115EE7e52BDe6E490   \n2021-08-12 22:00:00  0x6c3F90f043a72FA612cbac8115EE7e52BDe6E490   \n2021-08-19 22:00:00  0x6c3F90f043a72FA612cbac8115EE7e52BDe6E490   \n2021-08-26 22:00:00  0x6c3F90f043a72FA612cbac8115EE7e52BDe6E490   \n2021-09-02 22:00:00  0x6c3F90f043a72FA612cbac8115EE7e52BDe6E490   \n2021-09-09 22:00:00  0x6c3F90f043a72FA612cbac8115EE7e52BDe6E490   \n2021-09-16 22:00:00  0x6c3F90f043a72FA612cbac8115EE7e52BDe6E490   \n2021-09-23 22:00:00  0x6c3F90f043a72FA612cbac8115EE7e52BDe6E490   \n2021-09-30 22:00:00  0x6c3F90f043a72FA612cbac8115EE7e52BDe6E490   \n2021-10-07 22:00:00  0x6c3F90f043a72FA612cbac8115EE7e52BDe6E490   \n2021-10-14 22:00:00  0x6c3F90f043a72FA612cbac8115EE7e52BDe6E490   \n2021-10-21 22:00:00  0x6c3F90f043a72FA612cbac8115EE7e52BDe6E490   \n2021-10-28 22:00:00  0x6c3F90f043a72FA612cbac8115EE7e52BDe6E490   \n2021-06-24 22:00:00  0x4f3E8F405CF5aFC05D68142F3783bDfE13811522   \n2021-07-01 22:00:00  0x4f3E8F405CF5aFC05D68142F3783bDfE13811522   \n2021-07-08 22:00:00  0x4f3E8F405CF5aFC05D68142F3783bDfE13811522   \n2021-07-15 22:00:00  0x4f3E8F405CF5aFC05D68142F3783bDfE13811522   \n2021-07-22 22:00:00  0x4f3E8F405CF5aFC05D68142F3783bDfE13811522   \n2021-07-29 22:00:00  0x4f3E8F405CF5aFC05D68142F3783bDfE13811522   \n2021-08-05 22:00:00  0x4f3E8F405CF5aFC05D68142F3783bDfE13811522   \n2021-08-12 22:00:00  0x4f3E8F405CF5aFC05D68142F3783bDfE13811522   \n2021-08-19 22:00:00  0x4f3E8F405CF5aFC05D68142F3783bDfE13811522   \n2021-08-26 22:00:00  0x4f3E8F405CF5aFC05D68142F3783bDfE13811522   \n2021-09-02 22:00:00  0x4f3E8F405CF5aFC05D68142F3783bDfE13811522   \n2021-09-09 22:00:00  0x4f3E8F405CF5aFC05D68142F3783bDfE13811522   \n2021-09-16 22:00:00  0x4f3E8F405CF5aFC05D68142F3783bDfE13811522   \n2021-09-23 22:00:00  0x4f3E8F405CF5aFC05D68142F3783bDfE13811522   \n2021-09-30 22:00:00  0x4f3E8F405CF5aFC05D68142F3783bDfE13811522   \n2021-10-07 22:00:00  0x4f3E8F405CF5aFC05D68142F3783bDfE13811522   \n2021-10-14 22:00:00  0x4f3E8F405CF5aFC05D68142F3783bDfE13811522   \n2021-10-21 22:00:00  0x4f3E8F405CF5aFC05D68142F3783bDfE13811522   \n2021-10-28 22:00:00  0x4f3E8F405CF5aFC05D68142F3783bDfE13811522   \n\n                                                     gauge_addr  \\\n2021-06-24 22:00:00  0xbFcF63294aD7105dEa65aA58F8AE5BE2D9d0952A   \n2021-07-01 22:00:00  0xbFcF63294aD7105dEa65aA58F8AE5BE2D9d0952A   \n2021-07-08 22:00:00  0xbFcF63294aD7105dEa65aA58F8AE5BE2D9d0952A   \n2021-07-15 22:00:00  0xbFcF63294aD7105dEa65aA58F8AE5BE2D9d0952A   \n2021-07-22 22:00:00  0xbFcF63294aD7105dEa65aA58F8AE5BE2D9d0952A   \n2021-07-29 22:00:00  0xbFcF63294aD7105dEa65aA58F8AE5BE2D9d0952A   \n2021-08-05 22:00:00  0xbFcF63294aD7105dEa65aA58F8AE5BE2D9d0952A   \n2021-08-12 22:00:00  0xbFcF63294aD7105dEa65aA58F8AE5BE2D9d0952A   \n2021-08-19 22:00:00  0xbFcF63294aD7105dEa65aA58F8AE5BE2D9d0952A   \n2021-08-26 22:00:00  0xbFcF63294aD7105dEa65aA58F8AE5BE2D9d0952A   \n2021-09-02 22:00:00  0xbFcF63294aD7105dEa65aA58F8AE5BE2D9d0952A   \n2021-09-09 22:00:00  0xbFcF63294aD7105dEa65aA58F8AE5BE2D9d0952A   \n2021-09-16 22:00:00  0xbFcF63294aD7105dEa65aA58F8AE5BE2D9d0952A   \n2021-09-23 22:00:00  0xbFcF63294aD7105dEa65aA58F8AE5BE2D9d0952A   \n2021-09-30 22:00:00  0xbFcF63294aD7105dEa65aA58F8AE5BE2D9d0952A   \n2021-10-07 22:00:00  0xbFcF63294aD7105dEa65aA58F8AE5BE2D9d0952A   \n2021-10-14 22:00:00  0xbFcF63294aD7105dEa65aA58F8AE5BE2D9d0952A   \n2021-10-21 22:00:00  0xbFcF63294aD7105dEa65aA58F8AE5BE2D9d0952A   \n2021-10-28 22:00:00  0xbFcF63294aD7105dEa65aA58F8AE5BE2D9d0952A   \n2021-06-24 22:00:00  0xF98450B5602fa59CC66e1379DFfB6FDDc724CfC4   \n2021-07-01 22:00:00  0xF98450B5602fa59CC66e1379DFfB6FDDc724CfC4   \n2021-07-08 22:00:00  0xF98450B5602fa59CC66e1379DFfB6FDDc724CfC4   \n2021-07-15 22:00:00  0xF98450B5602fa59CC66e1379DFfB6FDDc724CfC4   \n2021-07-22 22:00:00  0xF98450B5602fa59CC66e1379DFfB6FDDc724CfC4   \n2021-07-29 22:00:00  0xF98450B5602fa59CC66e1379DFfB6FDDc724CfC4   \n2021-08-05 22:00:00  0xF98450B5602fa59CC66e1379DFfB6FDDc724CfC4   \n2021-08-12 22:00:00  0xF98450B5602fa59CC66e1379DFfB6FDDc724CfC4   \n2021-08-19 22:00:00  0xF98450B5602fa59CC66e1379DFfB6FDDc724CfC4   \n2021-08-26 22:00:00  0xF98450B5602fa59CC66e1379DFfB6FDDc724CfC4   \n2021-09-02 22:00:00  0xF98450B5602fa59CC66e1379DFfB6FDDc724CfC4   \n2021-09-09 22:00:00  0xF98450B5602fa59CC66e1379DFfB6FDDc724CfC4   \n2021-09-16 22:00:00  0xF98450B5602fa59CC66e1379DFfB6FDDc724CfC4   \n2021-09-23 22:00:00  0xF98450B5602fa59CC66e1379DFfB6FDDc724CfC4   \n2021-09-30 22:00:00  0xF98450B5602fa59CC66e1379DFfB6FDDc724CfC4   \n2021-10-07 22:00:00  0xF98450B5602fa59CC66e1379DFfB6FDDc724CfC4   \n2021-10-14 22:00:00  0xF98450B5602fa59CC66e1379DFfB6FDDc724CfC4   \n2021-10-21 22:00:00  0xF98450B5602fa59CC66e1379DFfB6FDDc724CfC4   \n2021-10-28 22:00:00  0xF98450B5602fa59CC66e1379DFfB6FDDc724CfC4   \n\n                     gauge_relative_weight  lp_token_virtual_price  \\\n2021-06-24 22:00:00               0.030511                1.017823   \n2021-07-01 22:00:00               0.029063                1.017912   \n2021-07-08 22:00:00               0.027046                1.017976   \n2021-07-15 22:00:00               0.028084                1.018046   \n2021-07-22 22:00:00               0.030080                1.018120   \n2021-07-29 22:00:00               0.030036                1.018220   \n2021-08-05 22:00:00               0.025019                1.018337   \n2021-08-12 22:00:00               0.025891                1.018451   \n2021-08-19 22:00:00               0.023078                1.018550   \n2021-08-26 22:00:00               0.021880                1.018636   \n2021-09-02 22:00:00               0.020864                1.018721   \n2021-09-09 22:00:00               0.039900                1.018811   \n2021-09-16 22:00:00               0.039281                1.018906   \n2021-09-23 22:00:00               0.057580                1.018978   \n2021-09-30 22:00:00               0.056496                1.019057   \n2021-10-07 22:00:00               0.046651                1.019136   \n2021-10-14 22:00:00               0.047389                1.019205   \n2021-10-21 22:00:00               0.035249                1.019277   \n2021-10-28 22:00:00               0.034363                1.019339   \n2021-06-24 22:00:00               0.134197                1.030940   \n2021-07-01 22:00:00               0.128277                1.031422   \n2021-07-08 22:00:00               0.130238                1.031807   \n2021-07-15 22:00:00               0.127589                1.032265   \n2021-07-22 22:00:00               0.136702                1.032666   \n2021-07-29 22:00:00               0.135905                1.033049   \n2021-08-05 22:00:00               0.130587                1.033506   \n2021-08-12 22:00:00               0.127002                1.033948   \n2021-08-19 22:00:00               0.112639                1.034499   \n2021-08-26 22:00:00               0.108156                1.035053   \n2021-09-02 22:00:00               0.101281                1.035783   \n2021-09-09 22:00:00               0.093112                1.036518   \n2021-09-16 22:00:00               0.094355                1.037301   \n2021-09-23 22:00:00               0.075234                1.037985   \n2021-09-30 22:00:00               0.077144                1.038733   \n2021-10-07 22:00:00               0.063296                1.039391   \n2021-10-14 22:00:00               0.061626                1.040130   \n2021-10-21 22:00:00               0.046207                1.040882   \n2021-10-28 22:00:00               0.046223                1.041679   \n\n                     total_supply_lp_token  crv_minted_past_1d   crv_to_gauge  \\\n2021-06-24 22:00:00           1.764436e+09        5.270430e+06  160805.062896   \n2021-07-01 22:00:00           1.731845e+09        5.270430e+06  153176.715303   \n2021-07-08 22:00:00           1.733671e+09        5.270430e+06  142546.091241   \n2021-07-15 22:00:00           1.536708e+09        5.270430e+06  148015.566716   \n2021-07-22 22:00:00           1.467889e+09        5.270430e+06  158536.154743   \n2021-07-29 22:00:00           1.457812e+09        5.270430e+06  158301.362771   \n2021-08-05 22:00:00           1.439797e+09        5.270430e+06  131859.565557   \n2021-08-12 22:00:00           1.467864e+09        5.270430e+06  136459.087412   \n2021-08-19 22:00:00           1.428284e+09        4.553131e+06  105076.565343   \n2021-08-26 22:00:00           1.379284e+09        4.431886e+06   96969.213000   \n2021-09-02 22:00:00           1.375188e+09        4.431886e+06   92467.553106   \n2021-09-09 22:00:00           1.489629e+09        4.431886e+06  176831.425042   \n2021-09-16 22:00:00           1.966693e+09        4.431886e+06  174087.683196   \n2021-09-23 22:00:00           2.040722e+09        4.431886e+06  255186.610888   \n2021-09-30 22:00:00           2.111974e+09        4.431886e+06  250382.538270   \n2021-10-07 22:00:00           2.578214e+09        4.431886e+06  206749.739241   \n2021-10-14 22:00:00           3.086855e+09        4.431886e+06  210022.704418   \n2021-10-21 22:00:00           2.943787e+09        4.431886e+06  156218.185409   \n2021-10-28 22:00:00           3.370503e+09        4.431886e+06  152292.703018   \n2021-06-24 22:00:00           5.627110e+08        5.270430e+06  707277.038120   \n2021-07-01 22:00:00           5.663490e+08        5.270430e+06  676075.223567   \n2021-07-08 22:00:00           5.925849e+08        5.270430e+06  686410.078913   \n2021-07-15 22:00:00           5.819403e+08        5.270430e+06  672450.339207   \n2021-07-22 22:00:00           5.488982e+08        5.270430e+06  720477.588054   \n2021-07-29 22:00:00           5.688823e+08        5.270430e+06  716276.129533   \n2021-08-05 22:00:00           5.822297e+08        5.270430e+06  688249.469197   \n2021-08-12 22:00:00           6.401141e+08        5.270430e+06  669356.116220   \n2021-08-19 22:00:00           6.281446e+08        4.553131e+06  512860.868931   \n2021-08-26 22:00:00           6.807696e+08        4.431886e+06  479334.038407   \n2021-09-02 22:00:00           6.069987e+08        4.431886e+06  448865.641467   \n2021-09-09 22:00:00           6.080091e+08        4.431886e+06  412660.249147   \n2021-09-16 22:00:00           5.891052e+08        4.431886e+06  418170.032366   \n2021-09-23 22:00:00           5.583124e+08        4.431886e+06  333427.558431   \n2021-09-30 22:00:00           5.222357e+08        4.431886e+06  341893.151305   \n2021-10-07 22:00:00           4.955860e+08        4.431886e+06  280520.560474   \n2021-10-14 22:00:00           4.882592e+08        4.431886e+06  273120.818050   \n2021-10-21 22:00:00           4.630147e+08        4.431886e+06  204784.875462   \n2021-10-28 22:00:00           3.922765e+08        4.431886e+06  204854.551281   \n\n                     virtual_price_diff  \n2021-06-24 22:00:00                 NaN  \n2021-07-01 22:00:00            0.000089  \n2021-07-08 22:00:00            0.000065  \n2021-07-15 22:00:00            0.000070  \n2021-07-22 22:00:00            0.000074  \n2021-07-29 22:00:00            0.000099  \n2021-08-05 22:00:00            0.000118  \n2021-08-12 22:00:00            0.000114  \n2021-08-19 22:00:00            0.000099  \n2021-08-26 22:00:00            0.000086  \n2021-09-02 22:00:00            0.000085  \n2021-09-09 22:00:00            0.000090  \n2021-09-16 22:00:00            0.000095  \n2021-09-23 22:00:00            0.000072  \n2021-09-30 22:00:00            0.000079  \n2021-10-07 22:00:00            0.000079  \n2021-10-14 22:00:00            0.000068  \n2021-10-21 22:00:00            0.000072  \n2021-10-28 22:00:00            0.000062  \n2021-06-24 22:00:00                 NaN  \n2021-07-01 22:00:00            0.000483  \n2021-07-08 22:00:00            0.000385  \n2021-07-15 22:00:00            0.000459  \n2021-07-22 22:00:00            0.000400  \n2021-07-29 22:00:00            0.000383  \n2021-08-05 22:00:00            0.000457  \n2021-08-12 22:00:00            0.000442  \n2021-08-19 22:00:00            0.000551  \n2021-08-26 22:00:00            0.000554  \n2021-09-02 22:00:00            0.000730  \n2021-09-09 22:00:00            0.000735  \n2021-09-16 22:00:00            0.000783  \n2021-09-23 22:00:00            0.000684  \n2021-09-30 22:00:00            0.000748  \n2021-10-07 22:00:00            0.000658  \n2021-10-14 22:00:00            0.000739  \n2021-10-21 22:00:00            0.000753  \n2021-10-28 22:00:00            0.000797  ",
      "text/html": "<div>\n<style scoped>\n    .dataframe tbody tr th:only-of-type {\n        vertical-align: middle;\n    }\n\n    .dataframe tbody tr th {\n        vertical-align: top;\n    }\n\n    .dataframe thead th {\n        text-align: right;\n    }\n</style>\n<table border=\"1\" class=\"dataframe\">\n  <thead>\n    <tr style=\"text-align: right;\">\n      <th></th>\n      <th>timestamp</th>\n      <th>block_number</th>\n      <th>pool_name</th>\n      <th>pool_addr</th>\n      <th>lp_token_addr</th>\n      <th>gauge_addr</th>\n      <th>gauge_relative_weight</th>\n      <th>lp_token_virtual_price</th>\n      <th>total_supply_lp_token</th>\n      <th>crv_minted_past_1d</th>\n      <th>crv_to_gauge</th>\n      <th>virtual_price_diff</th>\n    </tr>\n  </thead>\n  <tbody>\n    <tr>\n      <th>2021-06-24 22:00:00</th>\n      <td>1624572000</td>\n      <td>12699406</td>\n      <td>Curve.fi DAI/USDC/USDT</td>\n      <td>0xbEbc44782C7dB0a1A60Cb6fe97d0b483032FF1C7</td>\n      <td>0x6c3F90f043a72FA612cbac8115EE7e52BDe6E490</td>\n      <td>0xbFcF63294aD7105dEa65aA58F8AE5BE2D9d0952A</td>\n      <td>0.030511</td>\n      <td>1.017823</td>\n      <td>1.764436e+09</td>\n      <td>5.270430e+06</td>\n      <td>160805.062896</td>\n      <td>NaN</td>\n    </tr>\n    <tr>\n      <th>2021-07-01 22:00:00</th>\n      <td>1625176800</td>\n      <td>12744302</td>\n      <td>Curve.fi DAI/USDC/USDT</td>\n      <td>0xbEbc44782C7dB0a1A60Cb6fe97d0b483032FF1C7</td>\n      <td>0x6c3F90f043a72FA612cbac8115EE7e52BDe6E490</td>\n      <td>0xbFcF63294aD7105dEa65aA58F8AE5BE2D9d0952A</td>\n      <td>0.029063</td>\n      <td>1.017912</td>\n      <td>1.731845e+09</td>\n      <td>5.270430e+06</td>\n      <td>153176.715303</td>\n      <td>0.000089</td>\n    </tr>\n    <tr>\n      <th>2021-07-08 22:00:00</th>\n      <td>1625781600</td>\n      <td>12789307</td>\n      <td>Curve.fi DAI/USDC/USDT</td>\n      <td>0xbEbc44782C7dB0a1A60Cb6fe97d0b483032FF1C7</td>\n      <td>0x6c3F90f043a72FA612cbac8115EE7e52BDe6E490</td>\n      <td>0xbFcF63294aD7105dEa65aA58F8AE5BE2D9d0952A</td>\n      <td>0.027046</td>\n      <td>1.017976</td>\n      <td>1.733671e+09</td>\n      <td>5.270430e+06</td>\n      <td>142546.091241</td>\n      <td>0.000065</td>\n    </tr>\n    <tr>\n      <th>2021-07-15 22:00:00</th>\n      <td>1626386400</td>\n      <td>12834098</td>\n      <td>Curve.fi DAI/USDC/USDT</td>\n      <td>0xbEbc44782C7dB0a1A60Cb6fe97d0b483032FF1C7</td>\n      <td>0x6c3F90f043a72FA612cbac8115EE7e52BDe6E490</td>\n      <td>0xbFcF63294aD7105dEa65aA58F8AE5BE2D9d0952A</td>\n      <td>0.028084</td>\n      <td>1.018046</td>\n      <td>1.536708e+09</td>\n      <td>5.270430e+06</td>\n      <td>148015.566716</td>\n      <td>0.000070</td>\n    </tr>\n    <tr>\n      <th>2021-07-22 22:00:00</th>\n      <td>1626991200</td>\n      <td>12878749</td>\n      <td>Curve.fi DAI/USDC/USDT</td>\n      <td>0xbEbc44782C7dB0a1A60Cb6fe97d0b483032FF1C7</td>\n      <td>0x6c3F90f043a72FA612cbac8115EE7e52BDe6E490</td>\n      <td>0xbFcF63294aD7105dEa65aA58F8AE5BE2D9d0952A</td>\n      <td>0.030080</td>\n      <td>1.018120</td>\n      <td>1.467889e+09</td>\n      <td>5.270430e+06</td>\n      <td>158536.154743</td>\n      <td>0.000074</td>\n    </tr>\n    <tr>\n      <th>2021-07-29 22:00:00</th>\n      <td>1627596000</td>\n      <td>12923235</td>\n      <td>Curve.fi DAI/USDC/USDT</td>\n      <td>0xbEbc44782C7dB0a1A60Cb6fe97d0b483032FF1C7</td>\n      <td>0x6c3F90f043a72FA612cbac8115EE7e52BDe6E490</td>\n      <td>0xbFcF63294aD7105dEa65aA58F8AE5BE2D9d0952A</td>\n      <td>0.030036</td>\n      <td>1.018220</td>\n      <td>1.457812e+09</td>\n      <td>5.270430e+06</td>\n      <td>158301.362771</td>\n      <td>0.000099</td>\n    </tr>\n    <tr>\n      <th>2021-08-05 22:00:00</th>\n      <td>1628200800</td>\n      <td>12967525</td>\n      <td>Curve.fi DAI/USDC/USDT</td>\n      <td>0xbEbc44782C7dB0a1A60Cb6fe97d0b483032FF1C7</td>\n      <td>0x6c3F90f043a72FA612cbac8115EE7e52BDe6E490</td>\n      <td>0xbFcF63294aD7105dEa65aA58F8AE5BE2D9d0952A</td>\n      <td>0.025019</td>\n      <td>1.018337</td>\n      <td>1.439797e+09</td>\n      <td>5.270430e+06</td>\n      <td>131859.565557</td>\n      <td>0.000118</td>\n    </tr>\n    <tr>\n      <th>2021-08-12 22:00:00</th>\n      <td>1628805600</td>\n      <td>13012938</td>\n      <td>Curve.fi DAI/USDC/USDT</td>\n      <td>0xbEbc44782C7dB0a1A60Cb6fe97d0b483032FF1C7</td>\n      <td>0x6c3F90f043a72FA612cbac8115EE7e52BDe6E490</td>\n      <td>0xbFcF63294aD7105dEa65aA58F8AE5BE2D9d0952A</td>\n      <td>0.025891</td>\n      <td>1.018451</td>\n      <td>1.467864e+09</td>\n      <td>5.270430e+06</td>\n      <td>136459.087412</td>\n      <td>0.000114</td>\n    </tr>\n    <tr>\n      <th>2021-08-19 22:00:00</th>\n      <td>1629410400</td>\n      <td>13058324</td>\n      <td>Curve.fi DAI/USDC/USDT</td>\n      <td>0xbEbc44782C7dB0a1A60Cb6fe97d0b483032FF1C7</td>\n      <td>0x6c3F90f043a72FA612cbac8115EE7e52BDe6E490</td>\n      <td>0xbFcF63294aD7105dEa65aA58F8AE5BE2D9d0952A</td>\n      <td>0.023078</td>\n      <td>1.018550</td>\n      <td>1.428284e+09</td>\n      <td>4.553131e+06</td>\n      <td>105076.565343</td>\n      <td>0.000099</td>\n    </tr>\n    <tr>\n      <th>2021-08-26 22:00:00</th>\n      <td>1630015200</td>\n      <td>13103596</td>\n      <td>Curve.fi DAI/USDC/USDT</td>\n      <td>0xbEbc44782C7dB0a1A60Cb6fe97d0b483032FF1C7</td>\n      <td>0x6c3F90f043a72FA612cbac8115EE7e52BDe6E490</td>\n      <td>0xbFcF63294aD7105dEa65aA58F8AE5BE2D9d0952A</td>\n      <td>0.021880</td>\n      <td>1.018636</td>\n      <td>1.379284e+09</td>\n      <td>4.431886e+06</td>\n      <td>96969.213000</td>\n      <td>0.000086</td>\n    </tr>\n    <tr>\n      <th>2021-09-02 22:00:00</th>\n      <td>1630620000</td>\n      <td>13148889</td>\n      <td>Curve.fi DAI/USDC/USDT</td>\n      <td>0xbEbc44782C7dB0a1A60Cb6fe97d0b483032FF1C7</td>\n      <td>0x6c3F90f043a72FA612cbac8115EE7e52BDe6E490</td>\n      <td>0xbFcF63294aD7105dEa65aA58F8AE5BE2D9d0952A</td>\n      <td>0.020864</td>\n      <td>1.018721</td>\n      <td>1.375188e+09</td>\n      <td>4.431886e+06</td>\n      <td>92467.553106</td>\n      <td>0.000085</td>\n    </tr>\n    <tr>\n      <th>2021-09-09 22:00:00</th>\n      <td>1631224800</td>\n      <td>13194159</td>\n      <td>Curve.fi DAI/USDC/USDT</td>\n      <td>0xbEbc44782C7dB0a1A60Cb6fe97d0b483032FF1C7</td>\n      <td>0x6c3F90f043a72FA612cbac8115EE7e52BDe6E490</td>\n      <td>0xbFcF63294aD7105dEa65aA58F8AE5BE2D9d0952A</td>\n      <td>0.039900</td>\n      <td>1.018811</td>\n      <td>1.489629e+09</td>\n      <td>4.431886e+06</td>\n      <td>176831.425042</td>\n      <td>0.000090</td>\n    </tr>\n    <tr>\n      <th>2021-09-16 22:00:00</th>\n      <td>1631829600</td>\n      <td>13239335</td>\n      <td>Curve.fi DAI/USDC/USDT</td>\n      <td>0xbEbc44782C7dB0a1A60Cb6fe97d0b483032FF1C7</td>\n      <td>0x6c3F90f043a72FA612cbac8115EE7e52BDe6E490</td>\n      <td>0xbFcF63294aD7105dEa65aA58F8AE5BE2D9d0952A</td>\n      <td>0.039281</td>\n      <td>1.018906</td>\n      <td>1.966693e+09</td>\n      <td>4.431886e+06</td>\n      <td>174087.683196</td>\n      <td>0.000095</td>\n    </tr>\n    <tr>\n      <th>2021-09-23 22:00:00</th>\n      <td>1632434400</td>\n      <td>13284548</td>\n      <td>Curve.fi DAI/USDC/USDT</td>\n      <td>0xbEbc44782C7dB0a1A60Cb6fe97d0b483032FF1C7</td>\n      <td>0x6c3F90f043a72FA612cbac8115EE7e52BDe6E490</td>\n      <td>0xbFcF63294aD7105dEa65aA58F8AE5BE2D9d0952A</td>\n      <td>0.057580</td>\n      <td>1.018978</td>\n      <td>2.040722e+09</td>\n      <td>4.431886e+06</td>\n      <td>255186.610888</td>\n      <td>0.000072</td>\n    </tr>\n    <tr>\n      <th>2021-09-30 22:00:00</th>\n      <td>1633039200</td>\n      <td>13329599</td>\n      <td>Curve.fi DAI/USDC/USDT</td>\n      <td>0xbEbc44782C7dB0a1A60Cb6fe97d0b483032FF1C7</td>\n      <td>0x6c3F90f043a72FA612cbac8115EE7e52BDe6E490</td>\n      <td>0xbFcF63294aD7105dEa65aA58F8AE5BE2D9d0952A</td>\n      <td>0.056496</td>\n      <td>1.019057</td>\n      <td>2.111974e+09</td>\n      <td>4.431886e+06</td>\n      <td>250382.538270</td>\n      <td>0.000079</td>\n    </tr>\n    <tr>\n      <th>2021-10-07 22:00:00</th>\n      <td>1633644000</td>\n      <td>13374347</td>\n      <td>Curve.fi DAI/USDC/USDT</td>\n      <td>0xbEbc44782C7dB0a1A60Cb6fe97d0b483032FF1C7</td>\n      <td>0x6c3F90f043a72FA612cbac8115EE7e52BDe6E490</td>\n      <td>0xbFcF63294aD7105dEa65aA58F8AE5BE2D9d0952A</td>\n      <td>0.046651</td>\n      <td>1.019136</td>\n      <td>2.578214e+09</td>\n      <td>4.431886e+06</td>\n      <td>206749.739241</td>\n      <td>0.000079</td>\n    </tr>\n    <tr>\n      <th>2021-10-14 22:00:00</th>\n      <td>1634248800</td>\n      <td>13418846</td>\n      <td>Curve.fi DAI/USDC/USDT</td>\n      <td>0xbEbc44782C7dB0a1A60Cb6fe97d0b483032FF1C7</td>\n      <td>0x6c3F90f043a72FA612cbac8115EE7e52BDe6E490</td>\n      <td>0xbFcF63294aD7105dEa65aA58F8AE5BE2D9d0952A</td>\n      <td>0.047389</td>\n      <td>1.019205</td>\n      <td>3.086855e+09</td>\n      <td>4.431886e+06</td>\n      <td>210022.704418</td>\n      <td>0.000068</td>\n    </tr>\n    <tr>\n      <th>2021-10-21 22:00:00</th>\n      <td>1634853600</td>\n      <td>13463558</td>\n      <td>Curve.fi DAI/USDC/USDT</td>\n      <td>0xbEbc44782C7dB0a1A60Cb6fe97d0b483032FF1C7</td>\n      <td>0x6c3F90f043a72FA612cbac8115EE7e52BDe6E490</td>\n      <td>0xbFcF63294aD7105dEa65aA58F8AE5BE2D9d0952A</td>\n      <td>0.035249</td>\n      <td>1.019277</td>\n      <td>2.943787e+09</td>\n      <td>4.431886e+06</td>\n      <td>156218.185409</td>\n      <td>0.000072</td>\n    </tr>\n    <tr>\n      <th>2021-10-28 22:00:00</th>\n      <td>1635458400</td>\n      <td>13508257</td>\n      <td>Curve.fi DAI/USDC/USDT</td>\n      <td>0xbEbc44782C7dB0a1A60Cb6fe97d0b483032FF1C7</td>\n      <td>0x6c3F90f043a72FA612cbac8115EE7e52BDe6E490</td>\n      <td>0xbFcF63294aD7105dEa65aA58F8AE5BE2D9d0952A</td>\n      <td>0.034363</td>\n      <td>1.019339</td>\n      <td>3.370503e+09</td>\n      <td>4.431886e+06</td>\n      <td>152292.703018</td>\n      <td>0.000062</td>\n    </tr>\n    <tr>\n      <th>2021-06-24 22:00:00</th>\n      <td>1624572000</td>\n      <td>12699406</td>\n      <td>Curve.fi USDN/3Crv</td>\n      <td>0x0f9cb53Ebe405d49A0bbdBD291A65Ff571bC83e1</td>\n      <td>0x4f3E8F405CF5aFC05D68142F3783bDfE13811522</td>\n      <td>0xF98450B5602fa59CC66e1379DFfB6FDDc724CfC4</td>\n      <td>0.134197</td>\n      <td>1.030940</td>\n      <td>5.627110e+08</td>\n      <td>5.270430e+06</td>\n      <td>707277.038120</td>\n      <td>NaN</td>\n    </tr>\n    <tr>\n      <th>2021-07-01 22:00:00</th>\n      <td>1625176800</td>\n      <td>12744302</td>\n      <td>Curve.fi USDN/3Crv</td>\n      <td>0x0f9cb53Ebe405d49A0bbdBD291A65Ff571bC83e1</td>\n      <td>0x4f3E8F405CF5aFC05D68142F3783bDfE13811522</td>\n      <td>0xF98450B5602fa59CC66e1379DFfB6FDDc724CfC4</td>\n      <td>0.128277</td>\n      <td>1.031422</td>\n      <td>5.663490e+08</td>\n      <td>5.270430e+06</td>\n      <td>676075.223567</td>\n      <td>0.000483</td>\n    </tr>\n    <tr>\n      <th>2021-07-08 22:00:00</th>\n      <td>1625781600</td>\n      <td>12789307</td>\n      <td>Curve.fi USDN/3Crv</td>\n      <td>0x0f9cb53Ebe405d49A0bbdBD291A65Ff571bC83e1</td>\n      <td>0x4f3E8F405CF5aFC05D68142F3783bDfE13811522</td>\n      <td>0xF98450B5602fa59CC66e1379DFfB6FDDc724CfC4</td>\n      <td>0.130238</td>\n      <td>1.031807</td>\n      <td>5.925849e+08</td>\n      <td>5.270430e+06</td>\n      <td>686410.078913</td>\n      <td>0.000385</td>\n    </tr>\n    <tr>\n      <th>2021-07-15 22:00:00</th>\n      <td>1626386400</td>\n      <td>12834098</td>\n      <td>Curve.fi USDN/3Crv</td>\n      <td>0x0f9cb53Ebe405d49A0bbdBD291A65Ff571bC83e1</td>\n      <td>0x4f3E8F405CF5aFC05D68142F3783bDfE13811522</td>\n      <td>0xF98450B5602fa59CC66e1379DFfB6FDDc724CfC4</td>\n      <td>0.127589</td>\n      <td>1.032265</td>\n      <td>5.819403e+08</td>\n      <td>5.270430e+06</td>\n      <td>672450.339207</td>\n      <td>0.000459</td>\n    </tr>\n    <tr>\n      <th>2021-07-22 22:00:00</th>\n      <td>1626991200</td>\n      <td>12878749</td>\n      <td>Curve.fi USDN/3Crv</td>\n      <td>0x0f9cb53Ebe405d49A0bbdBD291A65Ff571bC83e1</td>\n      <td>0x4f3E8F405CF5aFC05D68142F3783bDfE13811522</td>\n      <td>0xF98450B5602fa59CC66e1379DFfB6FDDc724CfC4</td>\n      <td>0.136702</td>\n      <td>1.032666</td>\n      <td>5.488982e+08</td>\n      <td>5.270430e+06</td>\n      <td>720477.588054</td>\n      <td>0.000400</td>\n    </tr>\n    <tr>\n      <th>2021-07-29 22:00:00</th>\n      <td>1627596000</td>\n      <td>12923235</td>\n      <td>Curve.fi USDN/3Crv</td>\n      <td>0x0f9cb53Ebe405d49A0bbdBD291A65Ff571bC83e1</td>\n      <td>0x4f3E8F405CF5aFC05D68142F3783bDfE13811522</td>\n      <td>0xF98450B5602fa59CC66e1379DFfB6FDDc724CfC4</td>\n      <td>0.135905</td>\n      <td>1.033049</td>\n      <td>5.688823e+08</td>\n      <td>5.270430e+06</td>\n      <td>716276.129533</td>\n      <td>0.000383</td>\n    </tr>\n    <tr>\n      <th>2021-08-05 22:00:00</th>\n      <td>1628200800</td>\n      <td>12967525</td>\n      <td>Curve.fi USDN/3Crv</td>\n      <td>0x0f9cb53Ebe405d49A0bbdBD291A65Ff571bC83e1</td>\n      <td>0x4f3E8F405CF5aFC05D68142F3783bDfE13811522</td>\n      <td>0xF98450B5602fa59CC66e1379DFfB6FDDc724CfC4</td>\n      <td>0.130587</td>\n      <td>1.033506</td>\n      <td>5.822297e+08</td>\n      <td>5.270430e+06</td>\n      <td>688249.469197</td>\n      <td>0.000457</td>\n    </tr>\n    <tr>\n      <th>2021-08-12 22:00:00</th>\n      <td>1628805600</td>\n      <td>13012938</td>\n      <td>Curve.fi USDN/3Crv</td>\n      <td>0x0f9cb53Ebe405d49A0bbdBD291A65Ff571bC83e1</td>\n      <td>0x4f3E8F405CF5aFC05D68142F3783bDfE13811522</td>\n      <td>0xF98450B5602fa59CC66e1379DFfB6FDDc724CfC4</td>\n      <td>0.127002</td>\n      <td>1.033948</td>\n      <td>6.401141e+08</td>\n      <td>5.270430e+06</td>\n      <td>669356.116220</td>\n      <td>0.000442</td>\n    </tr>\n    <tr>\n      <th>2021-08-19 22:00:00</th>\n      <td>1629410400</td>\n      <td>13058324</td>\n      <td>Curve.fi USDN/3Crv</td>\n      <td>0x0f9cb53Ebe405d49A0bbdBD291A65Ff571bC83e1</td>\n      <td>0x4f3E8F405CF5aFC05D68142F3783bDfE13811522</td>\n      <td>0xF98450B5602fa59CC66e1379DFfB6FDDc724CfC4</td>\n      <td>0.112639</td>\n      <td>1.034499</td>\n      <td>6.281446e+08</td>\n      <td>4.553131e+06</td>\n      <td>512860.868931</td>\n      <td>0.000551</td>\n    </tr>\n    <tr>\n      <th>2021-08-26 22:00:00</th>\n      <td>1630015200</td>\n      <td>13103596</td>\n      <td>Curve.fi USDN/3Crv</td>\n      <td>0x0f9cb53Ebe405d49A0bbdBD291A65Ff571bC83e1</td>\n      <td>0x4f3E8F405CF5aFC05D68142F3783bDfE13811522</td>\n      <td>0xF98450B5602fa59CC66e1379DFfB6FDDc724CfC4</td>\n      <td>0.108156</td>\n      <td>1.035053</td>\n      <td>6.807696e+08</td>\n      <td>4.431886e+06</td>\n      <td>479334.038407</td>\n      <td>0.000554</td>\n    </tr>\n    <tr>\n      <th>2021-09-02 22:00:00</th>\n      <td>1630620000</td>\n      <td>13148889</td>\n      <td>Curve.fi USDN/3Crv</td>\n      <td>0x0f9cb53Ebe405d49A0bbdBD291A65Ff571bC83e1</td>\n      <td>0x4f3E8F405CF5aFC05D68142F3783bDfE13811522</td>\n      <td>0xF98450B5602fa59CC66e1379DFfB6FDDc724CfC4</td>\n      <td>0.101281</td>\n      <td>1.035783</td>\n      <td>6.069987e+08</td>\n      <td>4.431886e+06</td>\n      <td>448865.641467</td>\n      <td>0.000730</td>\n    </tr>\n    <tr>\n      <th>2021-09-09 22:00:00</th>\n      <td>1631224800</td>\n      <td>13194159</td>\n      <td>Curve.fi USDN/3Crv</td>\n      <td>0x0f9cb53Ebe405d49A0bbdBD291A65Ff571bC83e1</td>\n      <td>0x4f3E8F405CF5aFC05D68142F3783bDfE13811522</td>\n      <td>0xF98450B5602fa59CC66e1379DFfB6FDDc724CfC4</td>\n      <td>0.093112</td>\n      <td>1.036518</td>\n      <td>6.080091e+08</td>\n      <td>4.431886e+06</td>\n      <td>412660.249147</td>\n      <td>0.000735</td>\n    </tr>\n    <tr>\n      <th>2021-09-16 22:00:00</th>\n      <td>1631829600</td>\n      <td>13239335</td>\n      <td>Curve.fi USDN/3Crv</td>\n      <td>0x0f9cb53Ebe405d49A0bbdBD291A65Ff571bC83e1</td>\n      <td>0x4f3E8F405CF5aFC05D68142F3783bDfE13811522</td>\n      <td>0xF98450B5602fa59CC66e1379DFfB6FDDc724CfC4</td>\n      <td>0.094355</td>\n      <td>1.037301</td>\n      <td>5.891052e+08</td>\n      <td>4.431886e+06</td>\n      <td>418170.032366</td>\n      <td>0.000783</td>\n    </tr>\n    <tr>\n      <th>2021-09-23 22:00:00</th>\n      <td>1632434400</td>\n      <td>13284548</td>\n      <td>Curve.fi USDN/3Crv</td>\n      <td>0x0f9cb53Ebe405d49A0bbdBD291A65Ff571bC83e1</td>\n      <td>0x4f3E8F405CF5aFC05D68142F3783bDfE13811522</td>\n      <td>0xF98450B5602fa59CC66e1379DFfB6FDDc724CfC4</td>\n      <td>0.075234</td>\n      <td>1.037985</td>\n      <td>5.583124e+08</td>\n      <td>4.431886e+06</td>\n      <td>333427.558431</td>\n      <td>0.000684</td>\n    </tr>\n    <tr>\n      <th>2021-09-30 22:00:00</th>\n      <td>1633039200</td>\n      <td>13329599</td>\n      <td>Curve.fi USDN/3Crv</td>\n      <td>0x0f9cb53Ebe405d49A0bbdBD291A65Ff571bC83e1</td>\n      <td>0x4f3E8F405CF5aFC05D68142F3783bDfE13811522</td>\n      <td>0xF98450B5602fa59CC66e1379DFfB6FDDc724CfC4</td>\n      <td>0.077144</td>\n      <td>1.038733</td>\n      <td>5.222357e+08</td>\n      <td>4.431886e+06</td>\n      <td>341893.151305</td>\n      <td>0.000748</td>\n    </tr>\n    <tr>\n      <th>2021-10-07 22:00:00</th>\n      <td>1633644000</td>\n      <td>13374347</td>\n      <td>Curve.fi USDN/3Crv</td>\n      <td>0x0f9cb53Ebe405d49A0bbdBD291A65Ff571bC83e1</td>\n      <td>0x4f3E8F405CF5aFC05D68142F3783bDfE13811522</td>\n      <td>0xF98450B5602fa59CC66e1379DFfB6FDDc724CfC4</td>\n      <td>0.063296</td>\n      <td>1.039391</td>\n      <td>4.955860e+08</td>\n      <td>4.431886e+06</td>\n      <td>280520.560474</td>\n      <td>0.000658</td>\n    </tr>\n    <tr>\n      <th>2021-10-14 22:00:00</th>\n      <td>1634248800</td>\n      <td>13418846</td>\n      <td>Curve.fi USDN/3Crv</td>\n      <td>0x0f9cb53Ebe405d49A0bbdBD291A65Ff571bC83e1</td>\n      <td>0x4f3E8F405CF5aFC05D68142F3783bDfE13811522</td>\n      <td>0xF98450B5602fa59CC66e1379DFfB6FDDc724CfC4</td>\n      <td>0.061626</td>\n      <td>1.040130</td>\n      <td>4.882592e+08</td>\n      <td>4.431886e+06</td>\n      <td>273120.818050</td>\n      <td>0.000739</td>\n    </tr>\n    <tr>\n      <th>2021-10-21 22:00:00</th>\n      <td>1634853600</td>\n      <td>13463558</td>\n      <td>Curve.fi USDN/3Crv</td>\n      <td>0x0f9cb53Ebe405d49A0bbdBD291A65Ff571bC83e1</td>\n      <td>0x4f3E8F405CF5aFC05D68142F3783bDfE13811522</td>\n      <td>0xF98450B5602fa59CC66e1379DFfB6FDDc724CfC4</td>\n      <td>0.046207</td>\n      <td>1.040882</td>\n      <td>4.630147e+08</td>\n      <td>4.431886e+06</td>\n      <td>204784.875462</td>\n      <td>0.000753</td>\n    </tr>\n    <tr>\n      <th>2021-10-28 22:00:00</th>\n      <td>1635458400</td>\n      <td>13508257</td>\n      <td>Curve.fi USDN/3Crv</td>\n      <td>0x0f9cb53Ebe405d49A0bbdBD291A65Ff571bC83e1</td>\n      <td>0x4f3E8F405CF5aFC05D68142F3783bDfE13811522</td>\n      <td>0xF98450B5602fa59CC66e1379DFfB6FDDc724CfC4</td>\n      <td>0.046223</td>\n      <td>1.041679</td>\n      <td>3.922765e+08</td>\n      <td>4.431886e+06</td>\n      <td>204854.551281</td>\n      <td>0.000797</td>\n    </tr>\n  </tbody>\n</table>\n</div>"
     },
     "execution_count": 30,
     "metadata": {},
     "output_type": "execute_result"
    }
   ],
   "source": [
    "emissions_and_revenue"
   ],
   "metadata": {
    "collapsed": false,
    "pycharm": {
     "name": "#%%\n"
    }
   }
  },
  {
   "cell_type": "markdown",
   "source": [
    "save data:"
   ],
   "metadata": {
    "collapsed": false,
    "pycharm": {
     "name": "#%% md\n"
    }
   }
  },
  {
   "cell_type": "code",
   "execution_count": 31,
   "outputs": [],
   "source": [
    "t_start = datetime.datetime.fromtimestamp(time_start).strftime('%Y%m%d')\n",
    "t_end = datetime.datetime.fromtimestamp(time_end).strftime('%Y%m%d')"
   ],
   "metadata": {
    "collapsed": false,
    "pycharm": {
     "name": "#%%\n"
    }
   }
  },
  {
   "cell_type": "code",
   "execution_count": 32,
   "outputs": [
    {
     "data": {
      "text/plain": "'./emissions_and_revenue_20210625_20211104.csv'"
     },
     "execution_count": 32,
     "metadata": {},
     "output_type": "execute_result"
    }
   ],
   "source": [
    "f_name = f\"./emissions_and_revenue_\" \\\n",
    "         f\"{t_start}_\" \\\n",
    "         f\"{t_end}.csv\"\n",
    "emissions_and_revenue.to_csv(f_name)\n",
    "f_name"
   ],
   "metadata": {
    "collapsed": false,
    "pycharm": {
     "name": "#%%\n"
    }
   }
  },
  {
   "cell_type": "markdown",
   "source": [],
   "metadata": {
    "collapsed": false,
    "pycharm": {
     "name": "#%% md\n"
    }
   }
  }
 ],
 "metadata": {
  "kernelspec": {
   "display_name": "Python 3",
   "language": "python",
   "name": "python3"
  },
  "language_info": {
   "codemirror_mode": {
    "name": "ipython",
    "version": 2
   },
   "file_extension": ".py",
   "mimetype": "text/x-python",
   "name": "python",
   "nbconvert_exporter": "python",
   "pygments_lexer": "ipython2",
   "version": "2.7.6"
  }
 },
 "nbformat": 4,
 "nbformat_minor": 0
}