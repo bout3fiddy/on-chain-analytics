{
 "cells": [
  {
   "cell_type": "code",
   "execution_count": 1,
   "metadata": {
    "collapsed": true
   },
   "outputs": [],
   "source": [
    "import os\n",
    "import json\n",
    "from web3 import Web3, HTTPProvider\n",
    "\n",
    "import pandas as pd\n",
    "import matplotlib.pyplot as plt\n",
    "import seaborn as sns\n",
    "sns.set_style(\"whitegrid\")\n",
    "\n",
    "from utils.subgraph_utils.convex_community import get_curve_fees\n",
    "from utils.etherscan_utils import get_txes_between_blocks"
   ]
  },
  {
   "cell_type": "code",
   "execution_count": 2,
   "outputs": [],
   "source": [
    "ALCHEMY_API_KEY = os.environ['ALCHEMY_API_KEY']\n",
    "web3 = Web3(HTTPProvider(f\"https://eth-mainnet.alchemyapi.io/v2/{ALCHEMY_API_KEY}\"))"
   ],
   "metadata": {
    "collapsed": false,
    "pycharm": {
     "name": "#%%\n"
    }
   }
  },
  {
   "cell_type": "code",
   "execution_count": 4,
   "outputs": [],
   "source": [
    "pool_addr = \"0xEB16Ae0052ed37f479f7fe63849198Df1765a733\"\n",
    "lp_token_addr = \"0x02d341CcB60fAaf662bC0554d13778015d1b285C\"\n",
    "dai_addr = \"0x6B175474E89094C44Da98b954EedeAC495271d0F\"\n",
    "susd_addr = \"0x57Ab1ec28D129707052df4dF418D58a2D46d5f51\""
   ],
   "metadata": {
    "collapsed": false,
    "pycharm": {
     "name": "#%%\n"
    }
   }
  },
  {
   "cell_type": "code",
   "execution_count": 5,
   "outputs": [],
   "source": [
    "admin_2 = \"0xA464e6DCda8AC41e03616F95f4BC98a13b8922Dc\"\n",
    "admin = \"0xeCb456EA5365865EbAb8a2661B0c503410e9B347\""
   ],
   "metadata": {
    "collapsed": false,
    "pycharm": {
     "name": "#%%\n"
    }
   }
  },
  {
   "cell_type": "code",
   "execution_count": 6,
   "outputs": [
    {
     "data": {
      "text/plain": "'0xeb16ae0052ed37f479f7fe63849198df1765a733'"
     },
     "execution_count": 6,
     "metadata": {},
     "output_type": "execute_result"
    }
   ],
   "source": [
    "pool_addr.lower()"
   ],
   "metadata": {
    "collapsed": false,
    "pycharm": {
     "name": "#%%\n"
    }
   }
  },
  {
   "cell_type": "code",
   "execution_count": 11,
   "outputs": [],
   "source": [
    "with open(\"./susd.json\", 'r') as f:\n",
    "    abi = json.load(f)\n",
    "susd = web3.eth.contract(address=susd_addr, abi=abi)\n",
    "\n",
    "with open(\"./dai.json\", 'r') as f:\n",
    "    abi = json.load(f)\n",
    "dai = web3.eth.contract(address=dai_addr, abi=abi)"
   ],
   "metadata": {
    "collapsed": false,
    "pycharm": {
     "name": "#%%\n"
    }
   }
  },
  {
   "cell_type": "code",
   "execution_count": 7,
   "outputs": [],
   "source": [
    "subgraph_tripool_fees = get_curve_fees(pool_token_addr=lp_token_addr)\n",
    "blocks = list([int(i) for i in subgraph_tripool_fees.block.values])\n",
    "subgraph_block_ranges = list(zip(blocks, blocks[1:]))\n",
    "subgraph_tripool_fees.index = subgraph_tripool_fees.block"
   ],
   "metadata": {
    "collapsed": false,
    "pycharm": {
     "name": "#%%\n"
    }
   }
  },
  {
   "cell_type": "code",
   "execution_count": 9,
   "outputs": [
    {
     "data": {
      "text/plain": "[12730716,\n 12730729,\n 12731126,\n 12731135,\n 12731141,\n 12731150,\n 12731183,\n 12737439,\n 12737458,\n 12737484,\n 12737493,\n 12737510,\n 12737516,\n 12737526,\n 12768210,\n 12776169,\n 12776192,\n 12776212,\n 12776222,\n 12776234,\n 12776246,\n 12776269,\n 12808930,\n 12823285,\n 12823301,\n 12823319,\n 12823331,\n 12823347,\n 12823354,\n 12823388,\n 12828194,\n 12828214,\n 12871333,\n 12871347,\n 12871427,\n 12871442,\n 12871457,\n 12871469,\n 12871512,\n 12916292,\n 12916437,\n 12916447,\n 12916458,\n 12916468,\n 12916476,\n 12916485,\n 12916494,\n 12916501,\n 12916510,\n 12916520,\n 12916530,\n 12916539,\n 12916552,\n 12916566,\n 12916578,\n 12916586,\n 12916594,\n 12916603,\n 12916614,\n 12916625,\n 12916638,\n 12916656,\n 12916665,\n 12916678,\n 12916686,\n 12916698,\n 12916710,\n 12916722,\n 12916731,\n 12916759,\n 12916780,\n 12916791,\n 12916803,\n 12916819,\n 12916831,\n 12916841,\n 12916848,\n 12916910,\n 12916943,\n 12916965,\n 12916974,\n 12917005,\n 12917023,\n 12953882,\n 12953891,\n 12954443,\n 12954457,\n 12954467,\n 12954481,\n 12954514,\n 12973135,\n 12973163,\n 12973168,\n 13001900,\n 13001908,\n 13001922,\n 13001932,\n 13001942,\n 13001950,\n 13001978,\n 13002139,\n 13002170,\n 13002179,\n 13002213,\n 13002246,\n 13049982,\n 13049990,\n 13050093,\n 13050096,\n 13050111,\n 13050116,\n 13050140,\n 13050206,\n 13050219,\n 13090383,\n 13090392,\n 13090592,\n 13090596,\n 13090600,\n 13090605,\n 13090628,\n 13141084,\n 13141087,\n 13141111,\n 13141120,\n 13141134,\n 13141142,\n 13141148,\n 13141152,\n 13141155,\n 13141161,\n 13141178,\n 13141196,\n 13141201,\n 13141223,\n 13141229,\n 13141243,\n 13141252,\n 13141263,\n 13141267,\n 13141288,\n 13141292,\n 13141307,\n 13141311,\n 13141328,\n 13141332,\n 13141356,\n 13141359,\n 13141378,\n 13141382,\n 13141402,\n 13141406,\n 13141430,\n 13141437,\n 13141453,\n 13141456,\n 13183961,\n 13183969,\n 13183977,\n 13183983,\n 13184003,\n 13184006,\n 13184054,\n 13184060,\n 13184066,\n 13184072,\n 13184097,\n 13184126,\n 13184132,\n 13184160,\n 13184164,\n 13184183,\n 13184334,\n 13226451,\n 13226455,\n 13226512,\n 13226516,\n 13226526,\n 13226530,\n 13226554,\n 13273790,\n 13273795,\n 13273912,\n 13273918,\n 13273921,\n 13273925,\n 13273946,\n 13273949,\n 13322177,\n 13322180,\n 13322230,\n 13322235,\n 13322384,\n 13322416,\n 13322428,\n 13322432,\n 13363552,\n 13363581,\n 13363599,\n 13363613,\n 13363622,\n 13363637,\n 13363763,\n 13363778,\n 13363787,\n 13363802,\n 13363821,\n 13389489,\n 13389491,\n 13409092,\n 13409100,\n 13409249,\n 13409263,\n 13409275,\n 13409298,\n 13409317,\n 13450694,\n 13450705,\n 13450822,\n 13450831,\n 13450849,\n 13450855,\n 13450862,\n 13450894,\n 13495457,\n 13497634,\n 13497644,\n 13497648,\n 13497659,\n 13497751,\n 13497762,\n 13497767,\n 13497779,\n 13497790,\n 13539598,\n 13539610,\n 13539724,\n 13539729,\n 13539734,\n 13539752,\n 13539769,\n 13590154,\n 13590175,\n 13590308,\n 13590317,\n 13590326,\n 13590335,\n 13590350,\n 13631494,\n 13631527,\n 13631533,\n 13631743,\n 13631755,\n 13631767,\n 13631795,\n 13631799,\n 13631889,\n 13679251,\n 13679256,\n 13679415,\n 13679419,\n 13679425,\n 13679436,\n 13679463,\n 13679469,\n 13705164,\n 13717424,\n 13717429,\n 13717486,\n 13717490,\n 13717496,\n 13717519,\n 13717524]"
     },
     "execution_count": 9,
     "metadata": {},
     "output_type": "execute_result"
    }
   ],
   "source": [
    "ecb_txes = get_txes_between_blocks(address=admin.lower(), from_block=blocks[0], to_block=blocks[-1])\n",
    "ecb_tx_blocks = [int(i['blockNumber']) for i in ecb_txes]\n",
    "admin_2_txes = get_txes_between_blocks(address=admin_2.lower(), from_block=blocks[0], to_block=blocks[-1])\n",
    "admin_2_tx_blocks = [int(i['blockNumber']) for i in admin_2_txes]\n",
    "\n",
    "tx_blocks = list(set(ecb_tx_blocks) - set(admin_2_tx_blocks))\n",
    "tx_blocks = sorted(tx_blocks)\n",
    "tx_blocks"
   ],
   "metadata": {
    "collapsed": false,
    "pycharm": {
     "name": "#%%\n"
    }
   }
  },
  {
   "cell_type": "code",
   "execution_count": 12,
   "outputs": [
    {
     "name": "stdout",
     "output_type": "stream",
     "text": [
      "Chain checkoooor-ing blocks: 12730715:12730717\n",
      "Chain checkoooor-ing blocks: 12730728:12730730\n",
      "Chain checkoooor-ing blocks: 12731125:12731127\n",
      "Chain checkoooor-ing blocks: 12731134:12731136\n",
      "Chain checkoooor-ing blocks: 12731140:12731142\n",
      "Chain checkoooor-ing blocks: 12731149:12731151\n",
      "Chain checkoooor-ing blocks: 12731182:12731184\n",
      "Chain checkoooor-ing blocks: 12737438:12737440\n",
      "Chain checkoooor-ing blocks: 12737457:12737459\n",
      "Chain checkoooor-ing blocks: 12737483:12737485\n",
      "Chain checkoooor-ing blocks: 12737492:12737494\n",
      "Chain checkoooor-ing blocks: 12737509:12737511\n",
      "Chain checkoooor-ing blocks: 12737515:12737517\n",
      "Chain checkoooor-ing blocks: 12737525:12737527\n",
      "Chain checkoooor-ing blocks: 12768209:12768211\n",
      "Chain checkoooor-ing blocks: 12776168:12776170\n",
      "Chain checkoooor-ing blocks: 12776191:12776193\n",
      "Chain checkoooor-ing blocks: 12776211:12776213\n",
      "Chain checkoooor-ing blocks: 12776221:12776223\n",
      "Chain checkoooor-ing blocks: 12776233:12776235\n",
      "Chain checkoooor-ing blocks: 12776245:12776247\n",
      "Chain checkoooor-ing blocks: 12776268:12776270\n",
      "Chain checkoooor-ing blocks: 12808929:12808931\n",
      "Chain checkoooor-ing blocks: 12823284:12823286\n",
      "Chain checkoooor-ing blocks: 12823300:12823302\n",
      "Chain checkoooor-ing blocks: 12823318:12823320\n",
      "Chain checkoooor-ing blocks: 12823330:12823332\n",
      "Chain checkoooor-ing blocks: 12823346:12823348\n",
      "Chain checkoooor-ing blocks: 12823353:12823355\n",
      "Chain checkoooor-ing blocks: 12823387:12823389\n",
      "Chain checkoooor-ing blocks: 12828193:12828195\n",
      "Chain checkoooor-ing blocks: 12828213:12828215\n",
      "Chain checkoooor-ing blocks: 12871332:12871334\n",
      "Chain checkoooor-ing blocks: 12871346:12871348\n",
      "Chain checkoooor-ing blocks: 12871426:12871428\n",
      "Chain checkoooor-ing blocks: 12871441:12871443\n",
      "Chain checkoooor-ing blocks: 12871456:12871458\n",
      "Chain checkoooor-ing blocks: 12871468:12871470\n",
      "Chain checkoooor-ing blocks: 12871511:12871513\n",
      "Chain checkoooor-ing blocks: 12916291:12916293\n",
      "Chain checkoooor-ing blocks: 12916436:12916438\n",
      "Chain checkoooor-ing blocks: 12916446:12916448\n",
      "Chain checkoooor-ing blocks: 12916457:12916459\n",
      "Chain checkoooor-ing blocks: 12916467:12916469\n",
      "Chain checkoooor-ing blocks: 12916475:12916477\n",
      "Chain checkoooor-ing blocks: 12916484:12916486\n",
      "Chain checkoooor-ing blocks: 12916493:12916495\n",
      "Chain checkoooor-ing blocks: 12916500:12916502\n",
      "Chain checkoooor-ing blocks: 12916509:12916511\n",
      "Chain checkoooor-ing blocks: 12916519:12916521\n",
      "Chain checkoooor-ing blocks: 12916529:12916531\n",
      "Chain checkoooor-ing blocks: 12916538:12916540\n",
      "Chain checkoooor-ing blocks: 12916551:12916553\n",
      "Chain checkoooor-ing blocks: 12916565:12916567\n",
      "Chain checkoooor-ing blocks: 12916577:12916579\n",
      "Chain checkoooor-ing blocks: 12916585:12916587\n",
      "Chain checkoooor-ing blocks: 12916593:12916595\n",
      "Chain checkoooor-ing blocks: 12916602:12916604\n",
      "Chain checkoooor-ing blocks: 12916613:12916615\n",
      "Chain checkoooor-ing blocks: 12916624:12916626\n",
      "Chain checkoooor-ing blocks: 12916637:12916639\n",
      "Chain checkoooor-ing blocks: 12916655:12916657\n",
      "Chain checkoooor-ing blocks: 12916664:12916666\n",
      "Chain checkoooor-ing blocks: 12916677:12916679\n",
      "Chain checkoooor-ing blocks: 12916685:12916687\n",
      "Chain checkoooor-ing blocks: 12916697:12916699\n",
      "Chain checkoooor-ing blocks: 12916709:12916711\n",
      "Chain checkoooor-ing blocks: 12916721:12916723\n",
      "Chain checkoooor-ing blocks: 12916730:12916732\n",
      "Chain checkoooor-ing blocks: 12916758:12916760\n",
      "Chain checkoooor-ing blocks: 12916779:12916781\n",
      "Chain checkoooor-ing blocks: 12916790:12916792\n",
      "Chain checkoooor-ing blocks: 12916802:12916804\n",
      "Chain checkoooor-ing blocks: 12916818:12916820\n",
      "Chain checkoooor-ing blocks: 12916830:12916832\n",
      "Chain checkoooor-ing blocks: 12916840:12916842\n",
      "Chain checkoooor-ing blocks: 12916847:12916849\n",
      "Chain checkoooor-ing blocks: 12916909:12916911\n",
      "Chain checkoooor-ing blocks: 12916942:12916944\n",
      "Chain checkoooor-ing blocks: 12916964:12916966\n",
      "Chain checkoooor-ing blocks: 12916973:12916975\n",
      "Chain checkoooor-ing blocks: 12917004:12917006\n",
      "Chain checkoooor-ing blocks: 12917022:12917024\n",
      "Chain checkoooor-ing blocks: 12953881:12953883\n",
      "Chain checkoooor-ing blocks: 12953890:12953892\n",
      "Chain checkoooor-ing blocks: 12954442:12954444\n",
      "Chain checkoooor-ing blocks: 12954456:12954458\n",
      "Chain checkoooor-ing blocks: 12954466:12954468\n",
      "Chain checkoooor-ing blocks: 12954480:12954482\n",
      "Chain checkoooor-ing blocks: 12954513:12954515\n",
      "Chain checkoooor-ing blocks: 12973134:12973136\n",
      "Chain checkoooor-ing blocks: 12973162:12973164\n",
      "Chain checkoooor-ing blocks: 12973167:12973169\n",
      "Chain checkoooor-ing blocks: 13001899:13001901\n",
      "Chain checkoooor-ing blocks: 13001907:13001909\n",
      "Chain checkoooor-ing blocks: 13001921:13001923\n",
      "Chain checkoooor-ing blocks: 13001931:13001933\n",
      "Chain checkoooor-ing blocks: 13001941:13001943\n",
      "Chain checkoooor-ing blocks: 13001949:13001951\n",
      "Chain checkoooor-ing blocks: 13001977:13001979\n",
      "Chain checkoooor-ing blocks: 13002138:13002140\n",
      "Chain checkoooor-ing blocks: 13002169:13002171\n",
      "Chain checkoooor-ing blocks: 13002178:13002180\n",
      "Chain checkoooor-ing blocks: 13002212:13002214\n",
      "Chain checkoooor-ing blocks: 13002245:13002247\n",
      "Chain checkoooor-ing blocks: 13049981:13049983\n",
      "Chain checkoooor-ing blocks: 13049989:13049991\n",
      "Chain checkoooor-ing blocks: 13050092:13050094\n",
      "Chain checkoooor-ing blocks: 13050095:13050097\n",
      "Chain checkoooor-ing blocks: 13050110:13050112\n",
      "Chain checkoooor-ing blocks: 13050115:13050117\n",
      "Chain checkoooor-ing blocks: 13050139:13050141\n",
      "Chain checkoooor-ing blocks: 13050205:13050207\n",
      "Chain checkoooor-ing blocks: 13050218:13050220\n",
      "Chain checkoooor-ing blocks: 13090382:13090384\n",
      "Chain checkoooor-ing blocks: 13090391:13090393\n",
      "Chain checkoooor-ing blocks: 13090591:13090593\n",
      "Chain checkoooor-ing blocks: 13090595:13090597\n",
      "Chain checkoooor-ing blocks: 13090599:13090601\n",
      "Chain checkoooor-ing blocks: 13090604:13090606\n",
      "Chain checkoooor-ing blocks: 13090627:13090629\n",
      "Chain checkoooor-ing blocks: 13141083:13141085\n",
      "Chain checkoooor-ing blocks: 13141086:13141088\n",
      "Chain checkoooor-ing blocks: 13141110:13141112\n",
      "Chain checkoooor-ing blocks: 13141119:13141121\n",
      "Chain checkoooor-ing blocks: 13141133:13141135\n",
      "Chain checkoooor-ing blocks: 13141141:13141143\n",
      "Chain checkoooor-ing blocks: 13141147:13141149\n",
      "Chain checkoooor-ing blocks: 13141151:13141153\n",
      "Chain checkoooor-ing blocks: 13141154:13141156\n",
      "Chain checkoooor-ing blocks: 13141160:13141162\n",
      "Chain checkoooor-ing blocks: 13141177:13141179\n",
      "Chain checkoooor-ing blocks: 13141195:13141197\n",
      "Chain checkoooor-ing blocks: 13141200:13141202\n",
      "Chain checkoooor-ing blocks: 13141222:13141224\n",
      "Chain checkoooor-ing blocks: 13141228:13141230\n",
      "Chain checkoooor-ing blocks: 13141242:13141244\n",
      "Chain checkoooor-ing blocks: 13141251:13141253\n",
      "Chain checkoooor-ing blocks: 13141262:13141264\n",
      "Chain checkoooor-ing blocks: 13141266:13141268\n",
      "Chain checkoooor-ing blocks: 13141287:13141289\n",
      "Chain checkoooor-ing blocks: 13141291:13141293\n",
      "Chain checkoooor-ing blocks: 13141306:13141308\n",
      "Chain checkoooor-ing blocks: 13141310:13141312\n",
      "Chain checkoooor-ing blocks: 13141327:13141329\n",
      "Chain checkoooor-ing blocks: 13141331:13141333\n",
      "Chain checkoooor-ing blocks: 13141355:13141357\n",
      "Chain checkoooor-ing blocks: 13141358:13141360\n",
      "Chain checkoooor-ing blocks: 13141377:13141379\n",
      "Chain checkoooor-ing blocks: 13141381:13141383\n",
      "Chain checkoooor-ing blocks: 13141401:13141403\n",
      "Chain checkoooor-ing blocks: 13141405:13141407\n",
      "Chain checkoooor-ing blocks: 13141429:13141431\n",
      "Chain checkoooor-ing blocks: 13141436:13141438\n",
      "Chain checkoooor-ing blocks: 13141452:13141454\n",
      "Chain checkoooor-ing blocks: 13141455:13141457\n",
      "Chain checkoooor-ing blocks: 13183960:13183962\n",
      "Chain checkoooor-ing blocks: 13183968:13183970\n",
      "Chain checkoooor-ing blocks: 13183976:13183978\n",
      "Chain checkoooor-ing blocks: 13183982:13183984\n",
      "Chain checkoooor-ing blocks: 13184002:13184004\n",
      "Chain checkoooor-ing blocks: 13184005:13184007\n",
      "Chain checkoooor-ing blocks: 13184053:13184055\n",
      "Chain checkoooor-ing blocks: 13184059:13184061\n",
      "Chain checkoooor-ing blocks: 13184065:13184067\n",
      "Chain checkoooor-ing blocks: 13184071:13184073\n",
      "Chain checkoooor-ing blocks: 13184096:13184098\n",
      "Chain checkoooor-ing blocks: 13184125:13184127\n",
      "Chain checkoooor-ing blocks: 13184131:13184133\n",
      "Chain checkoooor-ing blocks: 13184159:13184161\n",
      "Chain checkoooor-ing blocks: 13184163:13184165\n",
      "Chain checkoooor-ing blocks: 13184182:13184184\n",
      "Chain checkoooor-ing blocks: 13184333:13184335\n",
      "Chain checkoooor-ing blocks: 13226450:13226452\n",
      "Chain checkoooor-ing blocks: 13226454:13226456\n",
      "Chain checkoooor-ing blocks: 13226511:13226513\n",
      "Chain checkoooor-ing blocks: 13226515:13226517\n",
      "Chain checkoooor-ing blocks: 13226525:13226527\n",
      "Chain checkoooor-ing blocks: 13226529:13226531\n",
      "Chain checkoooor-ing blocks: 13226553:13226555\n",
      "Chain checkoooor-ing blocks: 13273789:13273791\n",
      "Chain checkoooor-ing blocks: 13273794:13273796\n",
      "Chain checkoooor-ing blocks: 13273911:13273913\n",
      "Chain checkoooor-ing blocks: 13273917:13273919\n",
      "Chain checkoooor-ing blocks: 13273920:13273922\n",
      "Chain checkoooor-ing blocks: 13273924:13273926\n",
      "Chain checkoooor-ing blocks: 13273945:13273947\n",
      "Chain checkoooor-ing blocks: 13273948:13273950\n",
      "Chain checkoooor-ing blocks: 13322176:13322178\n",
      "Chain checkoooor-ing blocks: 13322179:13322181\n",
      "Chain checkoooor-ing blocks: 13322229:13322231\n",
      "Chain checkoooor-ing blocks: 13322234:13322236\n",
      "Chain checkoooor-ing blocks: 13322383:13322385\n",
      "Chain checkoooor-ing blocks: 13322415:13322417\n",
      "Chain checkoooor-ing blocks: 13322427:13322429\n",
      "Chain checkoooor-ing blocks: 13322431:13322433\n",
      "Chain checkoooor-ing blocks: 13363551:13363553\n",
      "Chain checkoooor-ing blocks: 13363580:13363582\n",
      "Chain checkoooor-ing blocks: 13363598:13363600\n",
      "Chain checkoooor-ing blocks: 13363612:13363614\n",
      "Chain checkoooor-ing blocks: 13363621:13363623\n",
      "Chain checkoooor-ing blocks: 13363636:13363638\n",
      "Chain checkoooor-ing blocks: 13363762:13363764\n",
      "Chain checkoooor-ing blocks: 13363777:13363779\n",
      "Chain checkoooor-ing blocks: 13363786:13363788\n",
      "Chain checkoooor-ing blocks: 13363801:13363803\n",
      "Chain checkoooor-ing blocks: 13363820:13363822\n",
      "Chain checkoooor-ing blocks: 13389488:13389490\n",
      "Chain checkoooor-ing blocks: 13389490:13389492\n",
      "Chain checkoooor-ing blocks: 13409091:13409093\n",
      "Chain checkoooor-ing blocks: 13409099:13409101\n",
      "Chain checkoooor-ing blocks: 13409248:13409250\n",
      "Chain checkoooor-ing blocks: 13409262:13409264\n",
      "Chain checkoooor-ing blocks: 13409274:13409276\n",
      "Chain checkoooor-ing blocks: 13409297:13409299\n",
      "Chain checkoooor-ing blocks: 13409316:13409318\n",
      "Chain checkoooor-ing blocks: 13450693:13450695\n",
      "Chain checkoooor-ing blocks: 13450704:13450706\n",
      "Chain checkoooor-ing blocks: 13450821:13450823\n",
      "Chain checkoooor-ing blocks: 13450830:13450832\n",
      "Chain checkoooor-ing blocks: 13450848:13450850\n",
      "Chain checkoooor-ing blocks: 13450854:13450856\n",
      "Chain checkoooor-ing blocks: 13450861:13450863\n",
      "Chain checkoooor-ing blocks: 13450893:13450895\n",
      "Chain checkoooor-ing blocks: 13495456:13495458\n",
      "Chain checkoooor-ing blocks: 13497633:13497635\n",
      "Chain checkoooor-ing blocks: 13497643:13497645\n",
      "Chain checkoooor-ing blocks: 13497647:13497649\n",
      "Chain checkoooor-ing blocks: 13497658:13497660\n",
      "Chain checkoooor-ing blocks: 13497750:13497752\n",
      "Chain checkoooor-ing blocks: 13497761:13497763\n",
      "Chain checkoooor-ing blocks: 13497766:13497768\n",
      "Chain checkoooor-ing blocks: 13497778:13497780\n",
      "Chain checkoooor-ing blocks: 13497789:13497791\n",
      "Chain checkoooor-ing blocks: 13539597:13539599\n",
      "Chain checkoooor-ing blocks: 13539609:13539611\n",
      "Chain checkoooor-ing blocks: 13539723:13539725\n",
      "Chain checkoooor-ing blocks: 13539728:13539730\n",
      "Chain checkoooor-ing blocks: 13539733:13539735\n",
      "Chain checkoooor-ing blocks: 13539751:13539753\n",
      "Chain checkoooor-ing blocks: 13539768:13539770\n",
      "Chain checkoooor-ing blocks: 13590153:13590155\n",
      "Chain checkoooor-ing blocks: 13590174:13590176\n",
      "Chain checkoooor-ing blocks: 13590307:13590309\n",
      "Chain checkoooor-ing blocks: 13590316:13590318\n",
      "Chain checkoooor-ing blocks: 13590325:13590327\n",
      "Chain checkoooor-ing blocks: 13590334:13590336\n",
      "Chain checkoooor-ing blocks: 13590349:13590351\n",
      "Chain checkoooor-ing blocks: 13631493:13631495\n",
      "Chain checkoooor-ing blocks: 13631526:13631528\n",
      "Chain checkoooor-ing blocks: 13631532:13631534\n",
      "Chain checkoooor-ing blocks: 13631742:13631744\n",
      "Chain checkoooor-ing blocks: 13631754:13631756\n",
      "Chain checkoooor-ing blocks: 13631766:13631768\n",
      "Chain checkoooor-ing blocks: 13631794:13631796\n",
      "Chain checkoooor-ing blocks: 13631798:13631800\n",
      "Chain checkoooor-ing blocks: 13631888:13631890\n",
      "Chain checkoooor-ing blocks: 13679250:13679252\n",
      "Chain checkoooor-ing blocks: 13679255:13679257\n",
      "Chain checkoooor-ing blocks: 13679414:13679416\n",
      "Chain checkoooor-ing blocks: 13679418:13679420\n",
      "Chain checkoooor-ing blocks: 13679424:13679426\n",
      "Chain checkoooor-ing blocks: 13679435:13679437\n",
      "Chain checkoooor-ing blocks: 13679462:13679464\n",
      "Chain checkoooor-ing blocks: 13679468:13679470\n",
      "Chain checkoooor-ing blocks: 13705163:13705165\n",
      "Chain checkoooor-ing blocks: 13717423:13717425\n",
      "Chain checkoooor-ing blocks: 13717428:13717430\n",
      "Chain checkoooor-ing blocks: 13717485:13717487\n",
      "Chain checkoooor-ing blocks: 13717489:13717491\n",
      "Chain checkoooor-ing blocks: 13717495:13717497\n",
      "Chain checkoooor-ing blocks: 13717518:13717520\n",
      "Chain checkoooor-ing blocks: 13717523:13717525\n"
     ]
    },
    {
     "data": {
      "text/plain": "     block_start  block_end  usdc_fees  dai_fees\n0       12730715   12730717          0         0\n1       12730728   12730730          0         0\n2       12731125   12731127          0         0\n3       12731134   12731136          0         0\n4       12731140   12731142          0         0\n..           ...        ...        ...       ...\n268     13717485   13717487          0         0\n269     13717489   13717491          0         0\n270     13717495   13717497          0         0\n271     13717518   13717520          0         0\n272     13717523   13717525          0         0\n\n[273 rows x 4 columns]",
      "text/html": "<div>\n<style scoped>\n    .dataframe tbody tr th:only-of-type {\n        vertical-align: middle;\n    }\n\n    .dataframe tbody tr th {\n        vertical-align: top;\n    }\n\n    .dataframe thead th {\n        text-align: right;\n    }\n</style>\n<table border=\"1\" class=\"dataframe\">\n  <thead>\n    <tr style=\"text-align: right;\">\n      <th></th>\n      <th>block_start</th>\n      <th>block_end</th>\n      <th>usdc_fees</th>\n      <th>dai_fees</th>\n    </tr>\n  </thead>\n  <tbody>\n    <tr>\n      <th>0</th>\n      <td>12730715</td>\n      <td>12730717</td>\n      <td>0</td>\n      <td>0</td>\n    </tr>\n    <tr>\n      <th>1</th>\n      <td>12730728</td>\n      <td>12730730</td>\n      <td>0</td>\n      <td>0</td>\n    </tr>\n    <tr>\n      <th>2</th>\n      <td>12731125</td>\n      <td>12731127</td>\n      <td>0</td>\n      <td>0</td>\n    </tr>\n    <tr>\n      <th>3</th>\n      <td>12731134</td>\n      <td>12731136</td>\n      <td>0</td>\n      <td>0</td>\n    </tr>\n    <tr>\n      <th>4</th>\n      <td>12731140</td>\n      <td>12731142</td>\n      <td>0</td>\n      <td>0</td>\n    </tr>\n    <tr>\n      <th>...</th>\n      <td>...</td>\n      <td>...</td>\n      <td>...</td>\n      <td>...</td>\n    </tr>\n    <tr>\n      <th>268</th>\n      <td>13717485</td>\n      <td>13717487</td>\n      <td>0</td>\n      <td>0</td>\n    </tr>\n    <tr>\n      <th>269</th>\n      <td>13717489</td>\n      <td>13717491</td>\n      <td>0</td>\n      <td>0</td>\n    </tr>\n    <tr>\n      <th>270</th>\n      <td>13717495</td>\n      <td>13717497</td>\n      <td>0</td>\n      <td>0</td>\n    </tr>\n    <tr>\n      <th>271</th>\n      <td>13717518</td>\n      <td>13717520</td>\n      <td>0</td>\n      <td>0</td>\n    </tr>\n    <tr>\n      <th>272</th>\n      <td>13717523</td>\n      <td>13717525</td>\n      <td>0</td>\n      <td>0</td>\n    </tr>\n  </tbody>\n</table>\n<p>273 rows × 4 columns</p>\n</div>"
     },
     "execution_count": 12,
     "metadata": {},
     "output_type": "execute_result"
    }
   ],
   "source": [
    "fees_for_range = []\n",
    "for block in tx_blocks:\n",
    "\n",
    "    block_start = block - 1\n",
    "    block_end = block + 1\n",
    "\n",
    "    print(f\"Chain checkoooor-ing blocks: {block_start}:{block_end}\")\n",
    "\n",
    "    susd_transfer_filter = susd.events.Transfer.createFilter(\n",
    "        fromBlock=block_start,\n",
    "        toBlock=block_end\n",
    "    )\n",
    "    all_transfers = susd_transfer_filter.get_all_entries()\n",
    "    susd_fees = 0\n",
    "    for transfer in all_transfers:\n",
    "\n",
    "        to_address = transfer['args']['to']\n",
    "        from_address = transfer['args']['from']\n",
    "        value = transfer['args']['value']\n",
    "        block = transfer['blockNumber']\n",
    "\n",
    "        if (\n",
    "                from_address == pool_addr and\n",
    "                to_address in [admin_2, admin]\n",
    "        ):\n",
    "            print(f\"susd fees: {value * 1e-6}\")\n",
    "            susd_fees += value * 1e-18\n",
    "\n",
    "    dai_transfer_filter = dai.events.Transfer.createFilter(\n",
    "        fromBlock=block_start,\n",
    "        toBlock=block_end\n",
    "    )\n",
    "    all_transfers = dai_transfer_filter.get_all_entries()\n",
    "    dai_fees = 0\n",
    "    for transfer in all_transfers:\n",
    "\n",
    "        to_address = transfer['args']['to']\n",
    "        from_address = transfer['args']['from']\n",
    "        value = transfer['args']['value']\n",
    "        block = transfer['blockNumber']\n",
    "\n",
    "        if (\n",
    "                from_address == pool_addr and\n",
    "                to_address in [admin_2, admin]\n",
    "        ):\n",
    "            print(f\"dai fees: {value * 1e-18}\")\n",
    "            dai_fees += value * 1e-18\n",
    "\n",
    "    dict_fees = {\n",
    "        'block_start': block_start,\n",
    "        'block_end': block_end,\n",
    "        'susd_fees': susd_fees,\n",
    "        'dai_fees': dai_fees,\n",
    "    }\n",
    "    fees_for_range.append(dict_fees)\n",
    "\n",
    "df_fees = pd.DataFrame(fees_for_range)\n",
    "df_fees"
   ],
   "metadata": {
    "collapsed": false,
    "pycharm": {
     "name": "#%%\n"
    }
   }
  },
  {
   "cell_type": "code",
   "execution_count": null,
   "outputs": [],
   "source": [],
   "metadata": {
    "collapsed": false,
    "pycharm": {
     "name": "#%%\n"
    }
   }
  },
  {
   "cell_type": "code",
   "execution_count": null,
   "outputs": [],
   "source": [
    "df_fees['total_fees'] = df_fees.susd_fees + df_fees.dai_fees\n",
    "df_fees.index = df_fees.block_end\n",
    "df_fees = df_fees.where(df_fees.total_fees > 0).dropna()\n",
    "df_fees"
   ],
   "metadata": {
    "collapsed": false,
    "pycharm": {
     "name": "#%%\n"
    }
   }
  },
  {
   "cell_type": "code",
   "execution_count": null,
   "outputs": [],
   "source": [
    "fig, ax = plt.subplots(1,1, figsize=(20, 8))\n",
    "\n",
    "(df_fees['total_fees']*2).plot(\n",
    "    ax=ax,\n",
    "    color='red',\n",
    "    kind='bar',\n",
    "    label='Admin fee claims x 2',\n",
    "    width=0.2,\n",
    "    position=1,\n",
    ")\n",
    "\n",
    "ax.set_ylabel(\"Pool Revenue [$]\", fontsize=25)\n",
    "ax.set_xlabel(\"Block Number\", fontsize=25)\n",
    "ax.tick_params(axis='both', which='major', labelsize=25, colors='black')\n",
    "ax.yaxis.get_major_formatter().set_scientific(False)\n",
    "ax.yaxis.get_major_formatter().set_useOffset(False)\n",
    "ax.legend(fontsize=25);"
   ],
   "metadata": {
    "collapsed": false,
    "pycharm": {
     "name": "#%%\n"
    }
   }
  },
  {
   "cell_type": "code",
   "execution_count": null,
   "outputs": [],
   "source": [
    "aggregated_claims = []\n",
    "blocks = []\n",
    "for (block_start, block_end) in subgraph_block_ranges:\n",
    "\n",
    "    aggregated_claims.append(\n",
    "        df_fees.total_fees.where(\n",
    "            (block_start < df_fees.index) & (df_fees.index < block_end)\n",
    "        ).sum()\n",
    "    )\n",
    "    blocks.append(block_end)\n",
    "\n",
    "df_aggregated_claims = pd.DataFrame(data=aggregated_claims, index=blocks, columns=['claimed'])\n",
    "df_aggregated_claims"
   ],
   "metadata": {
    "collapsed": false,
    "pycharm": {
     "name": "#%%\n"
    }
   }
  },
  {
   "cell_type": "code",
   "execution_count": null,
   "outputs": [],
   "source": [
    "fig, ax = plt.subplots(1,1, figsize=(20, 8))\n",
    "\n",
    "(df_aggregated_claims['claimed']*2).plot(\n",
    "    ax=ax,\n",
    "    color='red',\n",
    "    kind='bar',\n",
    "    label='Admin fee claims x 2',\n",
    "    width=0.2,\n",
    "    position=1,\n",
    ")\n",
    "subgraph_tripool_fees['fees'].plot(\n",
    "    ax=ax,\n",
    "    color='blue',\n",
    "    kind='bar',\n",
    "    label='Subgraph revenue',\n",
    "    width=0.2,\n",
    "    position=2,\n",
    ")\n",
    "\n",
    "ax.set_ylabel(\"Pool Revenue [$]\", fontsize=25)\n",
    "ax.set_xlabel(\"Block Number\", fontsize=25)\n",
    "ax.tick_params(axis='both', which='major', labelsize=25, colors='black')\n",
    "ax.yaxis.get_major_formatter().set_scientific(False)\n",
    "ax.yaxis.get_major_formatter().set_useOffset(False)\n",
    "ax.legend(fontsize=25);"
   ],
   "metadata": {
    "collapsed": false,
    "pycharm": {
     "name": "#%%\n"
    }
   }
  }
 ],
 "metadata": {
  "kernelspec": {
   "display_name": "Python 3",
   "language": "python",
   "name": "python3"
  },
  "language_info": {
   "codemirror_mode": {
    "name": "ipython",
    "version": 2
   },
   "file_extension": ".py",
   "mimetype": "text/x-python",
   "name": "python",
   "nbconvert_exporter": "python",
   "pygments_lexer": "ipython2",
   "version": "2.7.6"
  }
 },
 "nbformat": 4,
 "nbformat_minor": 0
}