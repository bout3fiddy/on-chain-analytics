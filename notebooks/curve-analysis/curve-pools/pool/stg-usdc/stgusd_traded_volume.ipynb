{
 "metadata": {
  "orig_nbformat": 4,
  "kernelspec": {
   "display_name": "Python 3 (ipykernel)",
   "language": "python",
   "name": "python3"
  },
  "language_info": {
   "codemirror_mode": {
    "name": "ipython",
    "version": 3
   },
   "file_extension": ".py",
   "mimetype": "text/x-python",
   "name": "python",
   "nbconvert_exporter": "python",
   "pygments_lexer": "ipython3",
   "version": "3.7.12"
  }
 },
 "nbformat_minor": 4,
 "nbformat": 4,
 "cells": [
  {
   "cell_type": "code",
   "source": [
    "import os\n",
    "import json\n",
    "from web3 import Web3, HTTPProvider\n",
    "\n",
    "\n",
    "import pandas as pd\n",
    "pd.set_option('display.max_rows', 5000)\n",
    "pd.set_option('display.max_columns', 500)\n",
    "pd.set_option('display.width', 1000)\n",
    "import matplotlib.pyplot as plt\n",
    "import seaborn as sns\n",
    "sns.set_style(\"whitegrid\")\n",
    "\n",
    "import datetime"
   ],
   "metadata": {
    "tags": [],
    "trusted": true
   },
   "execution_count": 1,
   "outputs": []
  },
  {
   "cell_type": "code",
   "source": [
    "ALCHEMY_API_KEY = os.environ['ALCHEMY_API_KEY']\n",
    "web3 = Web3(HTTPProvider(f\"https://eth-mainnet.alchemyapi.io/v2/{ALCHEMY_API_KEY}\"))"
   ],
   "metadata": {
    "collapsed": false,
    "jupyter": {
     "outputs_hidden": false
    },
    "pycharm": {
     "name": "#%%\n"
    },
    "trusted": true
   },
   "execution_count": 2,
   "outputs": []
  },
  {
   "cell_type": "code",
   "source": [
    "pool_addr = \"0x3211C6cBeF1429da3D0d58494938299C92Ad5860\"\n",
    "lp_token_addr = \"0xdf55670e27bE5cDE7228dD0A6849181891c9ebA1\"\n",
    "tricrypto_addr = \"0xD51a44d3FaE010294C616388b506AcdA1bfAAE46\""
   ],
   "metadata": {
    "collapsed": false,
    "jupyter": {
     "outputs_hidden": false
    },
    "pycharm": {
     "name": "#%%\n"
    },
    "trusted": true
   },
   "execution_count": 3,
   "outputs": []
  },
  {
   "cell_type": "code",
   "source": [
    "admin_2 = \"0xA464e6DCda8AC41e03616F95f4BC98a13b8922Dc\"\n",
    "admin = \"0xeCb456EA5365865EbAb8a2661B0c503410e9B347\""
   ],
   "metadata": {
    "collapsed": false,
    "jupyter": {
     "outputs_hidden": false
    },
    "pycharm": {
     "name": "#%%\n"
    },
    "trusted": true
   },
   "execution_count": 4,
   "outputs": []
  },
  {
   "cell_type": "code",
   "source": [
    "with open(\"./stgusdc.json\", 'r') as f:\n",
    "    abi = json.load(f)\n",
    "pool = web3.eth.contract(address=web3.toChecksumAddress(pool_addr), abi=abi)\n",
    "\n",
    "with open(\"../tricrypto/tricrypto2.json\", 'r') as f:\n",
    "    abi = json.load(f)\n",
    "tricrypto2 = web3.eth.contract(address=tricrypto_addr, abi=abi)"
   ],
   "metadata": {
    "collapsed": false,
    "jupyter": {
     "outputs_hidden": false
    },
    "pycharm": {
     "name": "#%%\n"
    },
    "trusted": true
   },
   "execution_count": 5,
   "outputs": []
  },
  {
   "cell_type": "code",
   "source": [
    "start_block = 14405401\n",
    "current_block = web3.eth.get_block_number()\n",
    "current_block"
   ],
   "metadata": {
    "collapsed": false,
    "jupyter": {
     "outputs_hidden": false
    },
    "pycharm": {
     "name": "#%%\n"
    },
    "trusted": true
   },
   "execution_count": 6,
   "outputs": [
    {
     "data": {
      "text/plain": "14462246"
     },
     "execution_count": 6,
     "metadata": {},
     "output_type": "execute_result"
    }
   ]
  },
  {
   "cell_type": "code",
   "source": [
    "transfer_filter = pool.events.TokenExchange.createFilter(\n",
    "    fromBlock=start_block,\n",
    "    toBlock=current_block\n",
    ")\n",
    "all_transfers = transfer_filter.get_all_entries()\n",
    "len(all_transfers)"
   ],
   "metadata": {
    "collapsed": false,
    "jupyter": {
     "outputs_hidden": false
    },
    "pycharm": {
     "name": "#%%\n"
    },
    "trusted": true
   },
   "execution_count": 7,
   "outputs": [
    {
     "data": {
      "text/plain": "6061"
     },
     "execution_count": 7,
     "metadata": {},
     "output_type": "execute_result"
    }
   ]
  },
  {
   "cell_type": "code",
   "execution_count": null,
   "outputs": [],
   "source": [
    "swaps = []\n",
    "for transfer in all_transfers:\n",
    "\n",
    "    block = transfer['blockNumber']\n",
    "    tx_hash = transfer['transactionHash'].hex()\n",
    "    timestamp = datetime.datetime.fromtimestamp(web3.eth.getBlock(block)['timestamp'])\n",
    "\n",
    "    stg_price = pool.functions.price_oracle().call(block_identifier=block)\n",
    "\n",
    "    stg_to_usdc_swap = transfer['args']['sold_id'] == 0\n",
    "    usdc_to_stg_swap = transfer['args']['sold_id'] == 1\n",
    "\n",
    "    token_sold_decimal = 1e-6\n",
    "    token_bought_decimal = 1e-18\n",
    "    if stg_to_usdc_swap:\n",
    "        token_sold_decimal = 1e-18\n",
    "        token_bought_decimal = 1e-6\n",
    "\n",
    "    tokens_sold = transfer['args']['tokens_sold'] * token_sold_decimal\n",
    "    tokens_bought = transfer['args']['tokens_bought'] * token_bought_decimal\n",
    "\n",
    "    total_usd_sold = 0\n",
    "    if usdc_to_stg_swap:\n",
    "        total_usd_sold = tokens_sold\n",
    "    total_usd_bought = 0\n",
    "    if stg_to_usdc_swap:\n",
    "        total_usd_bought = tokens_bought\n",
    "\n",
    "    total_stg_sold = 0\n",
    "    if stg_to_usdc_swap:\n",
    "        total_stg_sold = tokens_sold\n",
    "    total_stg_bought = 0\n",
    "    if usdc_to_stg_swap:\n",
    "        total_stg_bought = tokens_bought\n",
    "\n",
    "    total_transaction_usdc = total_usd_bought + total_usd_sold\n",
    "    total_transaction_usd = total_transaction_usdc * 1\n",
    "\n",
    "    dict_swaps = {\n",
    "        'block': block,\n",
    "        'timestamp': timestamp,\n",
    "        'stg_price': stg_price,\n",
    "        'volume_usd': total_transaction_usd,\n",
    "        'total_usdc_sold': total_usd_sold,\n",
    "        'total_usdc_bought': total_usd_bought,\n",
    "        'total_stg_sold': total_stg_sold,\n",
    "        'total_stg_bought': total_stg_bought,\n",
    "        'tx_hash': tx_hash\n",
    "    }\n",
    "    swaps.append(dict_swaps)\n",
    "\n",
    "swaps"
   ],
   "metadata": {
    "collapsed": false,
    "pycharm": {
     "name": "#%%\n",
     "is_executing": true
    }
   }
  },
  {
   "cell_type": "code",
   "execution_count": null,
   "outputs": [],
   "source": [
    "df_swaps = pd.DataFrame(swaps)\n",
    "df_swaps.set_index('timestamp', inplace=True)\n",
    "df_swaps"
   ],
   "metadata": {
    "collapsed": false,
    "pycharm": {
     "name": "#%%\n",
     "is_executing": true
    }
   }
  },
  {
   "cell_type": "code",
   "source": [
    "fig, ax = plt.subplots(1,1, figsize=(20, 8))\n",
    "\n",
    "(df_swaps['volume_usd'] * 1e-6).cumsum().plot(\n",
    "    ax=ax,\n",
    "    color='red',\n",
    "    label='stgusdc',\n",
    "    lw=4\n",
    ")\n",
    "\n",
    "ax.set_ylabel(\"Swap Volume [million USD]\", fontsize=25)\n",
    "ax.set_xlabel(\"Block Number\", fontsize=25)\n",
    "ax.tick_params(axis='both', which='major', labelsize=25, colors='black')\n",
    "ax.yaxis.get_major_formatter().set_scientific(False)\n",
    "ax.yaxis.get_major_formatter().set_useOffset(False)\n",
    "ax.legend(fontsize=25);"
   ],
   "metadata": {
    "collapsed": false,
    "jupyter": {
     "outputs_hidden": false
    },
    "pycharm": {
     "name": "#%%\n",
     "is_executing": true
    }
   },
   "execution_count": null,
   "outputs": []
  },
  {
   "cell_type": "code",
   "source": [
    "fig, ax = plt.subplots(1,1, figsize=(20, 8))\n",
    "\n",
    "ax.plot(\n",
    "    df_swaps['timestamp'],\n",
    "    df_swaps['stg_price'],\n",
    "    color='black',\n",
    "    label='Curve.fi STG/USDC',\n",
    "    lw=4\n",
    ")\n",
    "\n",
    "ax.set_ylabel(\"STG Price [USD]\", fontsize=25)\n",
    "ax.set_xlabel(\"\")\n",
    "ax.tick_params(axis='both', which='major', labelsize=25, colors='black')\n",
    "ax.yaxis.get_major_formatter().set_scientific(False)\n",
    "ax.yaxis.get_major_formatter().set_useOffset(False)\n",
    "ax.legend(fontsize=25);"
   ],
   "metadata": {
    "collapsed": false,
    "jupyter": {
     "outputs_hidden": false
    },
    "pycharm": {
     "name": "#%%\n",
     "is_executing": true
    }
   },
   "execution_count": null,
   "outputs": []
  },
  {
   "cell_type": "code",
   "execution_count": null,
   "outputs": [],
   "source": [],
   "metadata": {
    "collapsed": false,
    "pycharm": {
     "name": "#%%\n"
    }
   }
  }
 ]
}