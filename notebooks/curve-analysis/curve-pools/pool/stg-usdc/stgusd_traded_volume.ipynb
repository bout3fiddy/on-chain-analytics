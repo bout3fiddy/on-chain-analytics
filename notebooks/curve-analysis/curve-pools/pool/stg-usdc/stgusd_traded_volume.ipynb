{
 "metadata": {
  "orig_nbformat": 4,
  "kernelspec": {
   "display_name": "Python 3 (ipykernel)",
   "language": "python",
   "name": "python3"
  },
  "language_info": {
   "codemirror_mode": {
    "name": "ipython",
    "version": 3
   },
   "file_extension": ".py",
   "mimetype": "text/x-python",
   "name": "python",
   "nbconvert_exporter": "python",
   "pygments_lexer": "ipython3",
   "version": "3.7.12"
  }
 },
 "nbformat_minor": 4,
 "nbformat": 4,
 "cells": [
  {
   "cell_type": "code",
   "source": [
    "import os\n",
    "import json\n",
    "from web3 import Web3, HTTPProvider\n",
    "\n",
    "\n",
    "import pandas as pd\n",
    "pd.set_option('display.max_rows', 5000)\n",
    "pd.set_option('display.max_columns', 500)\n",
    "pd.set_option('display.width', 1000)\n",
    "import matplotlib.pyplot as plt\n",
    "import seaborn as sns\n",
    "sns.set_style(\"whitegrid\")\n",
    "\n",
    "import datetime"
   ],
   "metadata": {
    "tags": [],
    "trusted": true
   },
   "execution_count": 1,
   "outputs": []
  },
  {
   "cell_type": "code",
   "source": [
    "ALCHEMY_API_KEY = os.environ['ALCHEMY_API_KEY']\n",
    "web3 = Web3(HTTPProvider(f\"https://eth-mainnet.alchemyapi.io/v2/{ALCHEMY_API_KEY}\"))"
   ],
   "metadata": {
    "collapsed": false,
    "jupyter": {
     "outputs_hidden": false
    },
    "pycharm": {
     "name": "#%%\n"
    },
    "trusted": true
   },
   "execution_count": 2,
   "outputs": []
  },
  {
   "cell_type": "code",
   "source": [
    "pool_addr = \"0x3211C6cBeF1429da3D0d58494938299C92Ad5860\"\n",
    "lp_token_addr = \"0xdf55670e27bE5cDE7228dD0A6849181891c9ebA1\"\n",
    "tricrypto_addr = \"0xD51a44d3FaE010294C616388b506AcdA1bfAAE46\""
   ],
   "metadata": {
    "collapsed": false,
    "jupyter": {
     "outputs_hidden": false
    },
    "pycharm": {
     "name": "#%%\n"
    },
    "trusted": true
   },
   "execution_count": 3,
   "outputs": []
  },
  {
   "cell_type": "code",
   "source": [
    "admin_2 = \"0xA464e6DCda8AC41e03616F95f4BC98a13b8922Dc\"\n",
    "admin = \"0xeCb456EA5365865EbAb8a2661B0c503410e9B347\""
   ],
   "metadata": {
    "collapsed": false,
    "jupyter": {
     "outputs_hidden": false
    },
    "pycharm": {
     "name": "#%%\n"
    },
    "trusted": true
   },
   "execution_count": 4,
   "outputs": []
  },
  {
   "cell_type": "code",
   "source": [
    "with open(\"./stgusdc.json\", 'r') as f:\n",
    "    abi = json.load(f)\n",
    "pool = web3.eth.contract(address=web3.toChecksumAddress(pool_addr), abi=abi)\n",
    "\n",
    "with open(\"../tricrypto/tricrypto2.json\", 'r') as f:\n",
    "    abi = json.load(f)\n",
    "tricrypto2 = web3.eth.contract(address=tricrypto_addr, abi=abi)"
   ],
   "metadata": {
    "collapsed": false,
    "jupyter": {
     "outputs_hidden": false
    },
    "pycharm": {
     "name": "#%%\n"
    },
    "trusted": true
   },
   "execution_count": 5,
   "outputs": []
  },
  {
   "cell_type": "code",
   "source": [
    "start_block = 14405401\n",
    "current_block = web3.eth.get_block_number()\n",
    "current_block"
   ],
   "metadata": {
    "collapsed": false,
    "jupyter": {
     "outputs_hidden": false
    },
    "pycharm": {
     "name": "#%%\n"
    },
    "trusted": true
   },
   "execution_count": 6,
   "outputs": [
    {
     "data": {
      "text/plain": "14462246"
     },
     "execution_count": 6,
     "metadata": {},
     "output_type": "execute_result"
    }
   ]
  },
  {
   "cell_type": "code",
   "source": [
    "transfer_filter = pool.events.TokenExchange.createFilter(\n",
    "    fromBlock=start_block,\n",
    "    toBlock=current_block\n",
    ")\n",
    "all_transfers = transfer_filter.get_all_entries()\n",
    "len(all_transfers)"
   ],
   "metadata": {
    "collapsed": false,
    "jupyter": {
     "outputs_hidden": false
    },
    "pycharm": {
     "name": "#%%\n"
    },
    "trusted": true
   },
   "execution_count": 7,
   "outputs": [
    {
     "data": {
      "text/plain": "6061"
     },
     "execution_count": 7,
     "metadata": {},
     "output_type": "execute_result"
    }
   ]
  },
  {
   "cell_type": "code",
   "execution_count": 17,
   "outputs": [
    {
     "ename": "ConnectionError",
     "evalue": "HTTPSConnectionPool(host='eth-mainnet.alchemyapi.io', port=443): Max retries exceeded with url: /v2/AxU0de70ONfvbD-3_pQX0wUlaBK6g3G4 (Caused by NewConnectionError('<urllib3.connection.HTTPSConnection object at 0x1109c57d0>: Failed to establish a new connection: [Errno 8] nodename nor servname provided, or not known'))",
     "output_type": "error",
     "traceback": [
      "\u001B[0;31m---------------------------------------------------------------------------\u001B[0m",
      "\u001B[0;31mgaierror\u001B[0m                                  Traceback (most recent call last)",
      "\u001B[0;32m~/Projects/git/on-chain-analytics/venv/lib/python3.7/site-packages/urllib3/connection.py\u001B[0m in \u001B[0;36m_new_conn\u001B[0;34m(self)\u001B[0m\n\u001B[1;32m    174\u001B[0m             conn = connection.create_connection(\n\u001B[0;32m--> 175\u001B[0;31m                 \u001B[0;34m(\u001B[0m\u001B[0mself\u001B[0m\u001B[0;34m.\u001B[0m\u001B[0m_dns_host\u001B[0m\u001B[0;34m,\u001B[0m \u001B[0mself\u001B[0m\u001B[0;34m.\u001B[0m\u001B[0mport\u001B[0m\u001B[0;34m)\u001B[0m\u001B[0;34m,\u001B[0m \u001B[0mself\u001B[0m\u001B[0;34m.\u001B[0m\u001B[0mtimeout\u001B[0m\u001B[0;34m,\u001B[0m \u001B[0;34m**\u001B[0m\u001B[0mextra_kw\u001B[0m\u001B[0;34m\u001B[0m\u001B[0;34m\u001B[0m\u001B[0m\n\u001B[0m\u001B[1;32m    176\u001B[0m             )\n",
      "\u001B[0;32m~/Projects/git/on-chain-analytics/venv/lib/python3.7/site-packages/urllib3/util/connection.py\u001B[0m in \u001B[0;36mcreate_connection\u001B[0;34m(address, timeout, source_address, socket_options)\u001B[0m\n\u001B[1;32m     72\u001B[0m \u001B[0;34m\u001B[0m\u001B[0m\n\u001B[0;32m---> 73\u001B[0;31m     \u001B[0;32mfor\u001B[0m \u001B[0mres\u001B[0m \u001B[0;32min\u001B[0m \u001B[0msocket\u001B[0m\u001B[0;34m.\u001B[0m\u001B[0mgetaddrinfo\u001B[0m\u001B[0;34m(\u001B[0m\u001B[0mhost\u001B[0m\u001B[0;34m,\u001B[0m \u001B[0mport\u001B[0m\u001B[0;34m,\u001B[0m \u001B[0mfamily\u001B[0m\u001B[0;34m,\u001B[0m \u001B[0msocket\u001B[0m\u001B[0;34m.\u001B[0m\u001B[0mSOCK_STREAM\u001B[0m\u001B[0;34m)\u001B[0m\u001B[0;34m:\u001B[0m\u001B[0;34m\u001B[0m\u001B[0;34m\u001B[0m\u001B[0m\n\u001B[0m\u001B[1;32m     74\u001B[0m         \u001B[0maf\u001B[0m\u001B[0;34m,\u001B[0m \u001B[0msocktype\u001B[0m\u001B[0;34m,\u001B[0m \u001B[0mproto\u001B[0m\u001B[0;34m,\u001B[0m \u001B[0mcanonname\u001B[0m\u001B[0;34m,\u001B[0m \u001B[0msa\u001B[0m \u001B[0;34m=\u001B[0m \u001B[0mres\u001B[0m\u001B[0;34m\u001B[0m\u001B[0;34m\u001B[0m\u001B[0m\n",
      "\u001B[0;32m/usr/local/Cellar/python@3.7/3.7.10_2/Frameworks/Python.framework/Versions/3.7/lib/python3.7/socket.py\u001B[0m in \u001B[0;36mgetaddrinfo\u001B[0;34m(host, port, family, type, proto, flags)\u001B[0m\n\u001B[1;32m    751\u001B[0m     \u001B[0maddrlist\u001B[0m \u001B[0;34m=\u001B[0m \u001B[0;34m[\u001B[0m\u001B[0;34m]\u001B[0m\u001B[0;34m\u001B[0m\u001B[0;34m\u001B[0m\u001B[0m\n\u001B[0;32m--> 752\u001B[0;31m     \u001B[0;32mfor\u001B[0m \u001B[0mres\u001B[0m \u001B[0;32min\u001B[0m \u001B[0m_socket\u001B[0m\u001B[0;34m.\u001B[0m\u001B[0mgetaddrinfo\u001B[0m\u001B[0;34m(\u001B[0m\u001B[0mhost\u001B[0m\u001B[0;34m,\u001B[0m \u001B[0mport\u001B[0m\u001B[0;34m,\u001B[0m \u001B[0mfamily\u001B[0m\u001B[0;34m,\u001B[0m \u001B[0mtype\u001B[0m\u001B[0;34m,\u001B[0m \u001B[0mproto\u001B[0m\u001B[0;34m,\u001B[0m \u001B[0mflags\u001B[0m\u001B[0;34m)\u001B[0m\u001B[0;34m:\u001B[0m\u001B[0;34m\u001B[0m\u001B[0;34m\u001B[0m\u001B[0m\n\u001B[0m\u001B[1;32m    753\u001B[0m         \u001B[0maf\u001B[0m\u001B[0;34m,\u001B[0m \u001B[0msocktype\u001B[0m\u001B[0;34m,\u001B[0m \u001B[0mproto\u001B[0m\u001B[0;34m,\u001B[0m \u001B[0mcanonname\u001B[0m\u001B[0;34m,\u001B[0m \u001B[0msa\u001B[0m \u001B[0;34m=\u001B[0m \u001B[0mres\u001B[0m\u001B[0;34m\u001B[0m\u001B[0;34m\u001B[0m\u001B[0m\n",
      "\u001B[0;31mgaierror\u001B[0m: [Errno 8] nodename nor servname provided, or not known",
      "\nDuring handling of the above exception, another exception occurred:\n",
      "\u001B[0;31mNewConnectionError\u001B[0m                        Traceback (most recent call last)",
      "\u001B[0;32m~/Projects/git/on-chain-analytics/venv/lib/python3.7/site-packages/urllib3/connectionpool.py\u001B[0m in \u001B[0;36murlopen\u001B[0;34m(self, method, url, body, headers, retries, redirect, assert_same_host, timeout, pool_timeout, release_conn, chunked, body_pos, **response_kw)\u001B[0m\n\u001B[1;32m    705\u001B[0m                 \u001B[0mheaders\u001B[0m\u001B[0;34m=\u001B[0m\u001B[0mheaders\u001B[0m\u001B[0;34m,\u001B[0m\u001B[0;34m\u001B[0m\u001B[0;34m\u001B[0m\u001B[0m\n\u001B[0;32m--> 706\u001B[0;31m                 \u001B[0mchunked\u001B[0m\u001B[0;34m=\u001B[0m\u001B[0mchunked\u001B[0m\u001B[0;34m,\u001B[0m\u001B[0;34m\u001B[0m\u001B[0;34m\u001B[0m\u001B[0m\n\u001B[0m\u001B[1;32m    707\u001B[0m             )\n",
      "\u001B[0;32m~/Projects/git/on-chain-analytics/venv/lib/python3.7/site-packages/urllib3/connectionpool.py\u001B[0m in \u001B[0;36m_make_request\u001B[0;34m(self, conn, method, url, timeout, chunked, **httplib_request_kw)\u001B[0m\n\u001B[1;32m    381\u001B[0m         \u001B[0;32mtry\u001B[0m\u001B[0;34m:\u001B[0m\u001B[0;34m\u001B[0m\u001B[0;34m\u001B[0m\u001B[0m\n\u001B[0;32m--> 382\u001B[0;31m             \u001B[0mself\u001B[0m\u001B[0;34m.\u001B[0m\u001B[0m_validate_conn\u001B[0m\u001B[0;34m(\u001B[0m\u001B[0mconn\u001B[0m\u001B[0;34m)\u001B[0m\u001B[0;34m\u001B[0m\u001B[0;34m\u001B[0m\u001B[0m\n\u001B[0m\u001B[1;32m    383\u001B[0m         \u001B[0;32mexcept\u001B[0m \u001B[0;34m(\u001B[0m\u001B[0mSocketTimeout\u001B[0m\u001B[0;34m,\u001B[0m \u001B[0mBaseSSLError\u001B[0m\u001B[0;34m)\u001B[0m \u001B[0;32mas\u001B[0m \u001B[0me\u001B[0m\u001B[0;34m:\u001B[0m\u001B[0;34m\u001B[0m\u001B[0;34m\u001B[0m\u001B[0m\n",
      "\u001B[0;32m~/Projects/git/on-chain-analytics/venv/lib/python3.7/site-packages/urllib3/connectionpool.py\u001B[0m in \u001B[0;36m_validate_conn\u001B[0;34m(self, conn)\u001B[0m\n\u001B[1;32m   1009\u001B[0m         \u001B[0;32mif\u001B[0m \u001B[0;32mnot\u001B[0m \u001B[0mgetattr\u001B[0m\u001B[0;34m(\u001B[0m\u001B[0mconn\u001B[0m\u001B[0;34m,\u001B[0m \u001B[0;34m\"sock\"\u001B[0m\u001B[0;34m,\u001B[0m \u001B[0;32mNone\u001B[0m\u001B[0;34m)\u001B[0m\u001B[0;34m:\u001B[0m  \u001B[0;31m# AppEngine might not have  `.sock`\u001B[0m\u001B[0;34m\u001B[0m\u001B[0;34m\u001B[0m\u001B[0m\n\u001B[0;32m-> 1010\u001B[0;31m             \u001B[0mconn\u001B[0m\u001B[0;34m.\u001B[0m\u001B[0mconnect\u001B[0m\u001B[0;34m(\u001B[0m\u001B[0;34m)\u001B[0m\u001B[0;34m\u001B[0m\u001B[0;34m\u001B[0m\u001B[0m\n\u001B[0m\u001B[1;32m   1011\u001B[0m \u001B[0;34m\u001B[0m\u001B[0m\n",
      "\u001B[0;32m~/Projects/git/on-chain-analytics/venv/lib/python3.7/site-packages/urllib3/connection.py\u001B[0m in \u001B[0;36mconnect\u001B[0;34m(self)\u001B[0m\n\u001B[1;32m    357\u001B[0m         \u001B[0;31m# Add certificate verification\u001B[0m\u001B[0;34m\u001B[0m\u001B[0;34m\u001B[0m\u001B[0;34m\u001B[0m\u001B[0m\n\u001B[0;32m--> 358\u001B[0;31m         \u001B[0mconn\u001B[0m \u001B[0;34m=\u001B[0m \u001B[0mself\u001B[0m\u001B[0;34m.\u001B[0m\u001B[0m_new_conn\u001B[0m\u001B[0;34m(\u001B[0m\u001B[0;34m)\u001B[0m\u001B[0;34m\u001B[0m\u001B[0;34m\u001B[0m\u001B[0m\n\u001B[0m\u001B[1;32m    359\u001B[0m         \u001B[0mhostname\u001B[0m \u001B[0;34m=\u001B[0m \u001B[0mself\u001B[0m\u001B[0;34m.\u001B[0m\u001B[0mhost\u001B[0m\u001B[0;34m\u001B[0m\u001B[0;34m\u001B[0m\u001B[0m\n",
      "\u001B[0;32m~/Projects/git/on-chain-analytics/venv/lib/python3.7/site-packages/urllib3/connection.py\u001B[0m in \u001B[0;36m_new_conn\u001B[0;34m(self)\u001B[0m\n\u001B[1;32m    186\u001B[0m             raise NewConnectionError(\n\u001B[0;32m--> 187\u001B[0;31m                 \u001B[0mself\u001B[0m\u001B[0;34m,\u001B[0m \u001B[0;34m\"Failed to establish a new connection: %s\"\u001B[0m \u001B[0;34m%\u001B[0m \u001B[0me\u001B[0m\u001B[0;34m\u001B[0m\u001B[0;34m\u001B[0m\u001B[0m\n\u001B[0m\u001B[1;32m    188\u001B[0m             )\n",
      "\u001B[0;31mNewConnectionError\u001B[0m: <urllib3.connection.HTTPSConnection object at 0x1109c57d0>: Failed to establish a new connection: [Errno 8] nodename nor servname provided, or not known",
      "\nDuring handling of the above exception, another exception occurred:\n",
      "\u001B[0;31mMaxRetryError\u001B[0m                             Traceback (most recent call last)",
      "\u001B[0;32m~/Projects/git/on-chain-analytics/venv/lib/python3.7/site-packages/requests/adapters.py\u001B[0m in \u001B[0;36msend\u001B[0;34m(self, request, stream, timeout, verify, cert, proxies)\u001B[0m\n\u001B[1;32m    448\u001B[0m                     \u001B[0mretries\u001B[0m\u001B[0;34m=\u001B[0m\u001B[0mself\u001B[0m\u001B[0;34m.\u001B[0m\u001B[0mmax_retries\u001B[0m\u001B[0;34m,\u001B[0m\u001B[0;34m\u001B[0m\u001B[0;34m\u001B[0m\u001B[0m\n\u001B[0;32m--> 449\u001B[0;31m                     \u001B[0mtimeout\u001B[0m\u001B[0;34m=\u001B[0m\u001B[0mtimeout\u001B[0m\u001B[0;34m\u001B[0m\u001B[0;34m\u001B[0m\u001B[0m\n\u001B[0m\u001B[1;32m    450\u001B[0m                 )\n",
      "\u001B[0;32m~/Projects/git/on-chain-analytics/venv/lib/python3.7/site-packages/urllib3/connectionpool.py\u001B[0m in \u001B[0;36murlopen\u001B[0;34m(self, method, url, body, headers, retries, redirect, assert_same_host, timeout, pool_timeout, release_conn, chunked, body_pos, **response_kw)\u001B[0m\n\u001B[1;32m    755\u001B[0m             retries = retries.increment(\n\u001B[0;32m--> 756\u001B[0;31m                 \u001B[0mmethod\u001B[0m\u001B[0;34m,\u001B[0m \u001B[0murl\u001B[0m\u001B[0;34m,\u001B[0m \u001B[0merror\u001B[0m\u001B[0;34m=\u001B[0m\u001B[0me\u001B[0m\u001B[0;34m,\u001B[0m \u001B[0m_pool\u001B[0m\u001B[0;34m=\u001B[0m\u001B[0mself\u001B[0m\u001B[0;34m,\u001B[0m \u001B[0m_stacktrace\u001B[0m\u001B[0;34m=\u001B[0m\u001B[0msys\u001B[0m\u001B[0;34m.\u001B[0m\u001B[0mexc_info\u001B[0m\u001B[0;34m(\u001B[0m\u001B[0;34m)\u001B[0m\u001B[0;34m[\u001B[0m\u001B[0;36m2\u001B[0m\u001B[0;34m]\u001B[0m\u001B[0;34m\u001B[0m\u001B[0;34m\u001B[0m\u001B[0m\n\u001B[0m\u001B[1;32m    757\u001B[0m             )\n",
      "\u001B[0;32m~/Projects/git/on-chain-analytics/venv/lib/python3.7/site-packages/urllib3/util/retry.py\u001B[0m in \u001B[0;36mincrement\u001B[0;34m(self, method, url, response, error, _pool, _stacktrace)\u001B[0m\n\u001B[1;32m    573\u001B[0m         \u001B[0;32mif\u001B[0m \u001B[0mnew_retry\u001B[0m\u001B[0;34m.\u001B[0m\u001B[0mis_exhausted\u001B[0m\u001B[0;34m(\u001B[0m\u001B[0;34m)\u001B[0m\u001B[0;34m:\u001B[0m\u001B[0;34m\u001B[0m\u001B[0;34m\u001B[0m\u001B[0m\n\u001B[0;32m--> 574\u001B[0;31m             \u001B[0;32mraise\u001B[0m \u001B[0mMaxRetryError\u001B[0m\u001B[0;34m(\u001B[0m\u001B[0m_pool\u001B[0m\u001B[0;34m,\u001B[0m \u001B[0murl\u001B[0m\u001B[0;34m,\u001B[0m \u001B[0merror\u001B[0m \u001B[0;32mor\u001B[0m \u001B[0mResponseError\u001B[0m\u001B[0;34m(\u001B[0m\u001B[0mcause\u001B[0m\u001B[0;34m)\u001B[0m\u001B[0;34m)\u001B[0m\u001B[0;34m\u001B[0m\u001B[0;34m\u001B[0m\u001B[0m\n\u001B[0m\u001B[1;32m    575\u001B[0m \u001B[0;34m\u001B[0m\u001B[0m\n",
      "\u001B[0;31mMaxRetryError\u001B[0m: HTTPSConnectionPool(host='eth-mainnet.alchemyapi.io', port=443): Max retries exceeded with url: /v2/AxU0de70ONfvbD-3_pQX0wUlaBK6g3G4 (Caused by NewConnectionError('<urllib3.connection.HTTPSConnection object at 0x1109c57d0>: Failed to establish a new connection: [Errno 8] nodename nor servname provided, or not known'))",
      "\nDuring handling of the above exception, another exception occurred:\n",
      "\u001B[0;31mConnectionError\u001B[0m                           Traceback (most recent call last)",
      "\u001B[0;32m/var/folders/w7/3c51j_5j2gq4n13mljt4rrb80000gn/T/ipykernel_68688/3867571552.py\u001B[0m in \u001B[0;36m<module>\u001B[0;34m\u001B[0m\n\u001B[1;32m      6\u001B[0m     \u001B[0mtimestamp\u001B[0m \u001B[0;34m=\u001B[0m \u001B[0mdatetime\u001B[0m\u001B[0;34m.\u001B[0m\u001B[0mdatetime\u001B[0m\u001B[0;34m.\u001B[0m\u001B[0mfromtimestamp\u001B[0m\u001B[0;34m(\u001B[0m\u001B[0mweb3\u001B[0m\u001B[0;34m.\u001B[0m\u001B[0meth\u001B[0m\u001B[0;34m.\u001B[0m\u001B[0mgetBlock\u001B[0m\u001B[0;34m(\u001B[0m\u001B[0mblock\u001B[0m\u001B[0;34m)\u001B[0m\u001B[0;34m[\u001B[0m\u001B[0;34m'timestamp'\u001B[0m\u001B[0;34m]\u001B[0m\u001B[0;34m)\u001B[0m\u001B[0;34m\u001B[0m\u001B[0;34m\u001B[0m\u001B[0m\n\u001B[1;32m      7\u001B[0m \u001B[0;34m\u001B[0m\u001B[0m\n\u001B[0;32m----> 8\u001B[0;31m     \u001B[0mstg_price\u001B[0m \u001B[0;34m=\u001B[0m \u001B[0mpool\u001B[0m\u001B[0;34m.\u001B[0m\u001B[0mfunctions\u001B[0m\u001B[0;34m.\u001B[0m\u001B[0mprice_oracle\u001B[0m\u001B[0;34m(\u001B[0m\u001B[0;34m)\u001B[0m\u001B[0;34m.\u001B[0m\u001B[0mcall\u001B[0m\u001B[0;34m(\u001B[0m\u001B[0mblock_identifier\u001B[0m\u001B[0;34m=\u001B[0m\u001B[0mblock\u001B[0m\u001B[0;34m)\u001B[0m\u001B[0;34m\u001B[0m\u001B[0;34m\u001B[0m\u001B[0m\n\u001B[0m\u001B[1;32m      9\u001B[0m \u001B[0;34m\u001B[0m\u001B[0m\n\u001B[1;32m     10\u001B[0m     \u001B[0mstg_to_usdc_swap\u001B[0m \u001B[0;34m=\u001B[0m \u001B[0mtransfer\u001B[0m\u001B[0;34m[\u001B[0m\u001B[0;34m'args'\u001B[0m\u001B[0;34m]\u001B[0m\u001B[0;34m[\u001B[0m\u001B[0;34m'sold_id'\u001B[0m\u001B[0;34m]\u001B[0m \u001B[0;34m==\u001B[0m \u001B[0;36m0\u001B[0m\u001B[0;34m\u001B[0m\u001B[0;34m\u001B[0m\u001B[0m\n",
      "\u001B[0;32m~/Projects/git/on-chain-analytics/venv/lib/python3.7/site-packages/web3/contract.py\u001B[0m in \u001B[0;36mcall\u001B[0;34m(self, transaction, block_identifier, state_override)\u001B[0m\n\u001B[1;32m    966\u001B[0m             \u001B[0mstate_override\u001B[0m\u001B[0;34m,\u001B[0m\u001B[0;34m\u001B[0m\u001B[0;34m\u001B[0m\u001B[0m\n\u001B[1;32m    967\u001B[0m             \u001B[0;34m*\u001B[0m\u001B[0mself\u001B[0m\u001B[0;34m.\u001B[0m\u001B[0margs\u001B[0m\u001B[0;34m,\u001B[0m\u001B[0;34m\u001B[0m\u001B[0;34m\u001B[0m\u001B[0m\n\u001B[0;32m--> 968\u001B[0;31m             \u001B[0;34m**\u001B[0m\u001B[0mself\u001B[0m\u001B[0;34m.\u001B[0m\u001B[0mkwargs\u001B[0m\u001B[0;34m\u001B[0m\u001B[0;34m\u001B[0m\u001B[0m\n\u001B[0m\u001B[1;32m    969\u001B[0m         )\n\u001B[1;32m    970\u001B[0m \u001B[0;34m\u001B[0m\u001B[0m\n",
      "\u001B[0;32m~/Projects/git/on-chain-analytics/venv/lib/python3.7/site-packages/web3/contract.py\u001B[0m in \u001B[0;36mcall_contract_function\u001B[0;34m(web3, address, normalizers, function_identifier, transaction, block_id, contract_abi, fn_abi, state_override, *args, **kwargs)\u001B[0m\n\u001B[1;32m   1502\u001B[0m         \u001B[0mcall_transaction\u001B[0m\u001B[0;34m,\u001B[0m\u001B[0;34m\u001B[0m\u001B[0;34m\u001B[0m\u001B[0m\n\u001B[1;32m   1503\u001B[0m         \u001B[0mblock_identifier\u001B[0m\u001B[0;34m=\u001B[0m\u001B[0mblock_id\u001B[0m\u001B[0;34m,\u001B[0m\u001B[0;34m\u001B[0m\u001B[0;34m\u001B[0m\u001B[0m\n\u001B[0;32m-> 1504\u001B[0;31m         \u001B[0mstate_override\u001B[0m\u001B[0;34m=\u001B[0m\u001B[0mstate_override\u001B[0m\u001B[0;34m,\u001B[0m\u001B[0;34m\u001B[0m\u001B[0;34m\u001B[0m\u001B[0m\n\u001B[0m\u001B[1;32m   1505\u001B[0m     )\n\u001B[1;32m   1506\u001B[0m \u001B[0;34m\u001B[0m\u001B[0m\n",
      "\u001B[0;32m~/Projects/git/on-chain-analytics/venv/lib/python3.7/site-packages/web3/module.py\u001B[0m in \u001B[0;36mcaller\u001B[0;34m(*args, **kwargs)\u001B[0m\n\u001B[1;32m     58\u001B[0m                                              \u001B[0mparams\u001B[0m\u001B[0;34m,\u001B[0m\u001B[0;34m\u001B[0m\u001B[0;34m\u001B[0m\u001B[0m\n\u001B[1;32m     59\u001B[0m                                              \u001B[0merror_formatters\u001B[0m\u001B[0;34m,\u001B[0m\u001B[0;34m\u001B[0m\u001B[0;34m\u001B[0m\u001B[0m\n\u001B[0;32m---> 60\u001B[0;31m                                              null_result_formatters)\n\u001B[0m\u001B[1;32m     61\u001B[0m         \u001B[0;32mreturn\u001B[0m \u001B[0mapply_result_formatters\u001B[0m\u001B[0;34m(\u001B[0m\u001B[0mresult_formatters\u001B[0m\u001B[0;34m,\u001B[0m \u001B[0mresult\u001B[0m\u001B[0;34m)\u001B[0m\u001B[0;34m\u001B[0m\u001B[0;34m\u001B[0m\u001B[0m\n\u001B[1;32m     62\u001B[0m     \u001B[0;32mreturn\u001B[0m \u001B[0mcaller\u001B[0m\u001B[0;34m\u001B[0m\u001B[0;34m\u001B[0m\u001B[0m\n",
      "\u001B[0;32m~/Projects/git/on-chain-analytics/venv/lib/python3.7/site-packages/web3/manager.py\u001B[0m in \u001B[0;36mrequest_blocking\u001B[0;34m(self, method, params, error_formatters, null_result_formatters)\u001B[0m\n\u001B[1;32m    195\u001B[0m         \u001B[0mMake\u001B[0m \u001B[0ma\u001B[0m \u001B[0msynchronous\u001B[0m \u001B[0mrequest\u001B[0m \u001B[0musing\u001B[0m \u001B[0mthe\u001B[0m \u001B[0mprovider\u001B[0m\u001B[0;34m\u001B[0m\u001B[0;34m\u001B[0m\u001B[0m\n\u001B[1;32m    196\u001B[0m         \"\"\"\n\u001B[0;32m--> 197\u001B[0;31m         \u001B[0mresponse\u001B[0m \u001B[0;34m=\u001B[0m \u001B[0mself\u001B[0m\u001B[0;34m.\u001B[0m\u001B[0m_make_request\u001B[0m\u001B[0;34m(\u001B[0m\u001B[0mmethod\u001B[0m\u001B[0;34m,\u001B[0m \u001B[0mparams\u001B[0m\u001B[0;34m)\u001B[0m\u001B[0;34m\u001B[0m\u001B[0;34m\u001B[0m\u001B[0m\n\u001B[0m\u001B[1;32m    198\u001B[0m         return self.formatted_response(response,\n\u001B[1;32m    199\u001B[0m                                        \u001B[0mparams\u001B[0m\u001B[0;34m,\u001B[0m\u001B[0;34m\u001B[0m\u001B[0;34m\u001B[0m\u001B[0m\n",
      "\u001B[0;32m~/Projects/git/on-chain-analytics/venv/lib/python3.7/site-packages/web3/manager.py\u001B[0m in \u001B[0;36m_make_request\u001B[0;34m(self, method, params)\u001B[0m\n\u001B[1;32m    148\u001B[0m             self.middleware_onion)\n\u001B[1;32m    149\u001B[0m         \u001B[0mself\u001B[0m\u001B[0;34m.\u001B[0m\u001B[0mlogger\u001B[0m\u001B[0;34m.\u001B[0m\u001B[0mdebug\u001B[0m\u001B[0;34m(\u001B[0m\u001B[0;34m\"Making request. Method: %s\"\u001B[0m\u001B[0;34m,\u001B[0m \u001B[0mmethod\u001B[0m\u001B[0;34m)\u001B[0m\u001B[0;34m\u001B[0m\u001B[0;34m\u001B[0m\u001B[0m\n\u001B[0;32m--> 150\u001B[0;31m         \u001B[0;32mreturn\u001B[0m \u001B[0mrequest_func\u001B[0m\u001B[0;34m(\u001B[0m\u001B[0mmethod\u001B[0m\u001B[0;34m,\u001B[0m \u001B[0mparams\u001B[0m\u001B[0;34m)\u001B[0m\u001B[0;34m\u001B[0m\u001B[0;34m\u001B[0m\u001B[0m\n\u001B[0m\u001B[1;32m    151\u001B[0m \u001B[0;34m\u001B[0m\u001B[0m\n\u001B[1;32m    152\u001B[0m     async def _coro_make_request(\n",
      "\u001B[0;32m~/Projects/git/on-chain-analytics/venv/lib/python3.7/site-packages/cytoolz/functoolz.pyx\u001B[0m in \u001B[0;36mcytoolz.functoolz.curry.__call__\u001B[0;34m()\u001B[0m\n",
      "\u001B[0;32m~/Projects/git/on-chain-analytics/venv/lib/python3.7/site-packages/web3/middleware/formatting.py\u001B[0m in \u001B[0;36mapply_formatters\u001B[0;34m(method, params, make_request, request_formatters, result_formatters, error_formatters)\u001B[0m\n\u001B[1;32m     74\u001B[0m         \u001B[0mresponse\u001B[0m \u001B[0;34m=\u001B[0m \u001B[0mmake_request\u001B[0m\u001B[0;34m(\u001B[0m\u001B[0mmethod\u001B[0m\u001B[0;34m,\u001B[0m \u001B[0mformatted_params\u001B[0m\u001B[0;34m)\u001B[0m\u001B[0;34m\u001B[0m\u001B[0;34m\u001B[0m\u001B[0m\n\u001B[1;32m     75\u001B[0m     \u001B[0;32melse\u001B[0m\u001B[0;34m:\u001B[0m\u001B[0;34m\u001B[0m\u001B[0;34m\u001B[0m\u001B[0m\n\u001B[0;32m---> 76\u001B[0;31m         \u001B[0mresponse\u001B[0m \u001B[0;34m=\u001B[0m \u001B[0mmake_request\u001B[0m\u001B[0;34m(\u001B[0m\u001B[0mmethod\u001B[0m\u001B[0;34m,\u001B[0m \u001B[0mparams\u001B[0m\u001B[0;34m)\u001B[0m\u001B[0;34m\u001B[0m\u001B[0;34m\u001B[0m\u001B[0m\n\u001B[0m\u001B[1;32m     77\u001B[0m \u001B[0;34m\u001B[0m\u001B[0m\n\u001B[1;32m     78\u001B[0m     \u001B[0;32mif\u001B[0m \u001B[0;34m\"result\"\u001B[0m \u001B[0;32min\u001B[0m \u001B[0mresponse\u001B[0m \u001B[0;32mand\u001B[0m \u001B[0mmethod\u001B[0m \u001B[0;32min\u001B[0m \u001B[0mresult_formatters\u001B[0m\u001B[0;34m:\u001B[0m\u001B[0;34m\u001B[0m\u001B[0;34m\u001B[0m\u001B[0m\n",
      "\u001B[0;32m~/Projects/git/on-chain-analytics/venv/lib/python3.7/site-packages/web3/middleware/gas_price_strategy.py\u001B[0m in \u001B[0;36mmiddleware\u001B[0;34m(method, params)\u001B[0m\n\u001B[1;32m     88\u001B[0m             )\n\u001B[1;32m     89\u001B[0m             \u001B[0;32mreturn\u001B[0m \u001B[0mmake_request\u001B[0m\u001B[0;34m(\u001B[0m\u001B[0mmethod\u001B[0m\u001B[0;34m,\u001B[0m \u001B[0;34m(\u001B[0m\u001B[0mtransaction\u001B[0m\u001B[0;34m,\u001B[0m\u001B[0;34m)\u001B[0m\u001B[0;34m)\u001B[0m\u001B[0;34m\u001B[0m\u001B[0;34m\u001B[0m\u001B[0m\n\u001B[0;32m---> 90\u001B[0;31m         \u001B[0;32mreturn\u001B[0m \u001B[0mmake_request\u001B[0m\u001B[0;34m(\u001B[0m\u001B[0mmethod\u001B[0m\u001B[0;34m,\u001B[0m \u001B[0mparams\u001B[0m\u001B[0;34m)\u001B[0m\u001B[0;34m\u001B[0m\u001B[0;34m\u001B[0m\u001B[0m\n\u001B[0m\u001B[1;32m     91\u001B[0m \u001B[0;34m\u001B[0m\u001B[0m\n\u001B[1;32m     92\u001B[0m     \u001B[0;32mreturn\u001B[0m \u001B[0mmiddleware\u001B[0m\u001B[0;34m\u001B[0m\u001B[0;34m\u001B[0m\u001B[0m\n",
      "\u001B[0;32m~/Projects/git/on-chain-analytics/venv/lib/python3.7/site-packages/cytoolz/functoolz.pyx\u001B[0m in \u001B[0;36mcytoolz.functoolz.curry.__call__\u001B[0;34m()\u001B[0m\n",
      "\u001B[0;32m~/Projects/git/on-chain-analytics/venv/lib/python3.7/site-packages/web3/middleware/formatting.py\u001B[0m in \u001B[0;36mapply_formatters\u001B[0;34m(method, params, make_request, request_formatters, result_formatters, error_formatters)\u001B[0m\n\u001B[1;32m     72\u001B[0m         \u001B[0mformatter\u001B[0m \u001B[0;34m=\u001B[0m \u001B[0mrequest_formatters\u001B[0m\u001B[0;34m[\u001B[0m\u001B[0mmethod\u001B[0m\u001B[0;34m]\u001B[0m\u001B[0;34m\u001B[0m\u001B[0;34m\u001B[0m\u001B[0m\n\u001B[1;32m     73\u001B[0m         \u001B[0mformatted_params\u001B[0m \u001B[0;34m=\u001B[0m \u001B[0mformatter\u001B[0m\u001B[0;34m(\u001B[0m\u001B[0mparams\u001B[0m\u001B[0;34m)\u001B[0m\u001B[0;34m\u001B[0m\u001B[0;34m\u001B[0m\u001B[0m\n\u001B[0;32m---> 74\u001B[0;31m         \u001B[0mresponse\u001B[0m \u001B[0;34m=\u001B[0m \u001B[0mmake_request\u001B[0m\u001B[0;34m(\u001B[0m\u001B[0mmethod\u001B[0m\u001B[0;34m,\u001B[0m \u001B[0mformatted_params\u001B[0m\u001B[0;34m)\u001B[0m\u001B[0;34m\u001B[0m\u001B[0;34m\u001B[0m\u001B[0m\n\u001B[0m\u001B[1;32m     75\u001B[0m     \u001B[0;32melse\u001B[0m\u001B[0;34m:\u001B[0m\u001B[0;34m\u001B[0m\u001B[0;34m\u001B[0m\u001B[0m\n\u001B[1;32m     76\u001B[0m         \u001B[0mresponse\u001B[0m \u001B[0;34m=\u001B[0m \u001B[0mmake_request\u001B[0m\u001B[0;34m(\u001B[0m\u001B[0mmethod\u001B[0m\u001B[0;34m,\u001B[0m \u001B[0mparams\u001B[0m\u001B[0;34m)\u001B[0m\u001B[0;34m\u001B[0m\u001B[0;34m\u001B[0m\u001B[0m\n",
      "\u001B[0;32m~/Projects/git/on-chain-analytics/venv/lib/python3.7/site-packages/web3/middleware/attrdict.py\u001B[0m in \u001B[0;36mmiddleware\u001B[0;34m(method, params)\u001B[0m\n\u001B[1;32m     31\u001B[0m     \"\"\"\n\u001B[1;32m     32\u001B[0m     \u001B[0;32mdef\u001B[0m \u001B[0mmiddleware\u001B[0m\u001B[0;34m(\u001B[0m\u001B[0mmethod\u001B[0m\u001B[0;34m:\u001B[0m \u001B[0mRPCEndpoint\u001B[0m\u001B[0;34m,\u001B[0m \u001B[0mparams\u001B[0m\u001B[0;34m:\u001B[0m \u001B[0mAny\u001B[0m\u001B[0;34m)\u001B[0m \u001B[0;34m->\u001B[0m \u001B[0mRPCResponse\u001B[0m\u001B[0;34m:\u001B[0m\u001B[0;34m\u001B[0m\u001B[0;34m\u001B[0m\u001B[0m\n\u001B[0;32m---> 33\u001B[0;31m         \u001B[0mresponse\u001B[0m \u001B[0;34m=\u001B[0m \u001B[0mmake_request\u001B[0m\u001B[0;34m(\u001B[0m\u001B[0mmethod\u001B[0m\u001B[0;34m,\u001B[0m \u001B[0mparams\u001B[0m\u001B[0;34m)\u001B[0m\u001B[0;34m\u001B[0m\u001B[0;34m\u001B[0m\u001B[0m\n\u001B[0m\u001B[1;32m     34\u001B[0m \u001B[0;34m\u001B[0m\u001B[0m\n\u001B[1;32m     35\u001B[0m         \u001B[0;32mif\u001B[0m \u001B[0;34m'result'\u001B[0m \u001B[0;32min\u001B[0m \u001B[0mresponse\u001B[0m\u001B[0;34m:\u001B[0m\u001B[0;34m\u001B[0m\u001B[0;34m\u001B[0m\u001B[0m\n",
      "\u001B[0;32m~/Projects/git/on-chain-analytics/venv/lib/python3.7/site-packages/cytoolz/functoolz.pyx\u001B[0m in \u001B[0;36mcytoolz.functoolz.curry.__call__\u001B[0;34m()\u001B[0m\n",
      "\u001B[0;32m~/Projects/git/on-chain-analytics/venv/lib/python3.7/site-packages/web3/middleware/formatting.py\u001B[0m in \u001B[0;36mapply_formatters\u001B[0;34m(method, params, make_request, request_formatters, result_formatters, error_formatters)\u001B[0m\n\u001B[1;32m     72\u001B[0m         \u001B[0mformatter\u001B[0m \u001B[0;34m=\u001B[0m \u001B[0mrequest_formatters\u001B[0m\u001B[0;34m[\u001B[0m\u001B[0mmethod\u001B[0m\u001B[0;34m]\u001B[0m\u001B[0;34m\u001B[0m\u001B[0;34m\u001B[0m\u001B[0m\n\u001B[1;32m     73\u001B[0m         \u001B[0mformatted_params\u001B[0m \u001B[0;34m=\u001B[0m \u001B[0mformatter\u001B[0m\u001B[0;34m(\u001B[0m\u001B[0mparams\u001B[0m\u001B[0;34m)\u001B[0m\u001B[0;34m\u001B[0m\u001B[0;34m\u001B[0m\u001B[0m\n\u001B[0;32m---> 74\u001B[0;31m         \u001B[0mresponse\u001B[0m \u001B[0;34m=\u001B[0m \u001B[0mmake_request\u001B[0m\u001B[0;34m(\u001B[0m\u001B[0mmethod\u001B[0m\u001B[0;34m,\u001B[0m \u001B[0mformatted_params\u001B[0m\u001B[0;34m)\u001B[0m\u001B[0;34m\u001B[0m\u001B[0;34m\u001B[0m\u001B[0m\n\u001B[0m\u001B[1;32m     75\u001B[0m     \u001B[0;32melse\u001B[0m\u001B[0;34m:\u001B[0m\u001B[0;34m\u001B[0m\u001B[0;34m\u001B[0m\u001B[0m\n\u001B[1;32m     76\u001B[0m         \u001B[0mresponse\u001B[0m \u001B[0;34m=\u001B[0m \u001B[0mmake_request\u001B[0m\u001B[0;34m(\u001B[0m\u001B[0mmethod\u001B[0m\u001B[0;34m,\u001B[0m \u001B[0mparams\u001B[0m\u001B[0;34m)\u001B[0m\u001B[0;34m\u001B[0m\u001B[0;34m\u001B[0m\u001B[0m\n",
      "\u001B[0;32m~/Projects/git/on-chain-analytics/venv/lib/python3.7/site-packages/cytoolz/functoolz.pyx\u001B[0m in \u001B[0;36mcytoolz.functoolz.curry.__call__\u001B[0;34m()\u001B[0m\n",
      "\u001B[0;32m~/Projects/git/on-chain-analytics/venv/lib/python3.7/site-packages/web3/middleware/formatting.py\u001B[0m in \u001B[0;36mapply_formatters\u001B[0;34m(method, params, make_request, request_formatters, result_formatters, error_formatters)\u001B[0m\n\u001B[1;32m     72\u001B[0m         \u001B[0mformatter\u001B[0m \u001B[0;34m=\u001B[0m \u001B[0mrequest_formatters\u001B[0m\u001B[0;34m[\u001B[0m\u001B[0mmethod\u001B[0m\u001B[0;34m]\u001B[0m\u001B[0;34m\u001B[0m\u001B[0;34m\u001B[0m\u001B[0m\n\u001B[1;32m     73\u001B[0m         \u001B[0mformatted_params\u001B[0m \u001B[0;34m=\u001B[0m \u001B[0mformatter\u001B[0m\u001B[0;34m(\u001B[0m\u001B[0mparams\u001B[0m\u001B[0;34m)\u001B[0m\u001B[0;34m\u001B[0m\u001B[0;34m\u001B[0m\u001B[0m\n\u001B[0;32m---> 74\u001B[0;31m         \u001B[0mresponse\u001B[0m \u001B[0;34m=\u001B[0m \u001B[0mmake_request\u001B[0m\u001B[0;34m(\u001B[0m\u001B[0mmethod\u001B[0m\u001B[0;34m,\u001B[0m \u001B[0mformatted_params\u001B[0m\u001B[0;34m)\u001B[0m\u001B[0;34m\u001B[0m\u001B[0;34m\u001B[0m\u001B[0m\n\u001B[0m\u001B[1;32m     75\u001B[0m     \u001B[0;32melse\u001B[0m\u001B[0;34m:\u001B[0m\u001B[0;34m\u001B[0m\u001B[0;34m\u001B[0m\u001B[0m\n\u001B[1;32m     76\u001B[0m         \u001B[0mresponse\u001B[0m \u001B[0;34m=\u001B[0m \u001B[0mmake_request\u001B[0m\u001B[0;34m(\u001B[0m\u001B[0mmethod\u001B[0m\u001B[0;34m,\u001B[0m \u001B[0mparams\u001B[0m\u001B[0;34m)\u001B[0m\u001B[0;34m\u001B[0m\u001B[0;34m\u001B[0m\u001B[0m\n",
      "\u001B[0;32m~/Projects/git/on-chain-analytics/venv/lib/python3.7/site-packages/cytoolz/functoolz.pyx\u001B[0m in \u001B[0;36mcytoolz.functoolz.curry.__call__\u001B[0;34m()\u001B[0m\n",
      "\u001B[0;32m~/Projects/git/on-chain-analytics/venv/lib/python3.7/site-packages/web3/middleware/formatting.py\u001B[0m in \u001B[0;36mapply_formatters\u001B[0;34m(method, params, make_request, request_formatters, result_formatters, error_formatters)\u001B[0m\n\u001B[1;32m     72\u001B[0m         \u001B[0mformatter\u001B[0m \u001B[0;34m=\u001B[0m \u001B[0mrequest_formatters\u001B[0m\u001B[0;34m[\u001B[0m\u001B[0mmethod\u001B[0m\u001B[0;34m]\u001B[0m\u001B[0;34m\u001B[0m\u001B[0;34m\u001B[0m\u001B[0m\n\u001B[1;32m     73\u001B[0m         \u001B[0mformatted_params\u001B[0m \u001B[0;34m=\u001B[0m \u001B[0mformatter\u001B[0m\u001B[0;34m(\u001B[0m\u001B[0mparams\u001B[0m\u001B[0;34m)\u001B[0m\u001B[0;34m\u001B[0m\u001B[0;34m\u001B[0m\u001B[0m\n\u001B[0;32m---> 74\u001B[0;31m         \u001B[0mresponse\u001B[0m \u001B[0;34m=\u001B[0m \u001B[0mmake_request\u001B[0m\u001B[0;34m(\u001B[0m\u001B[0mmethod\u001B[0m\u001B[0;34m,\u001B[0m \u001B[0mformatted_params\u001B[0m\u001B[0;34m)\u001B[0m\u001B[0;34m\u001B[0m\u001B[0;34m\u001B[0m\u001B[0m\n\u001B[0m\u001B[1;32m     75\u001B[0m     \u001B[0;32melse\u001B[0m\u001B[0;34m:\u001B[0m\u001B[0;34m\u001B[0m\u001B[0;34m\u001B[0m\u001B[0m\n\u001B[1;32m     76\u001B[0m         \u001B[0mresponse\u001B[0m \u001B[0;34m=\u001B[0m \u001B[0mmake_request\u001B[0m\u001B[0;34m(\u001B[0m\u001B[0mmethod\u001B[0m\u001B[0;34m,\u001B[0m \u001B[0mparams\u001B[0m\u001B[0;34m)\u001B[0m\u001B[0;34m\u001B[0m\u001B[0;34m\u001B[0m\u001B[0m\n",
      "\u001B[0;32m~/Projects/git/on-chain-analytics/venv/lib/python3.7/site-packages/web3/middleware/buffered_gas_estimate.py\u001B[0m in \u001B[0;36mmiddleware\u001B[0;34m(method, params)\u001B[0m\n\u001B[1;32m     38\u001B[0m                 )\n\u001B[1;32m     39\u001B[0m                 \u001B[0;32mreturn\u001B[0m \u001B[0mmake_request\u001B[0m\u001B[0;34m(\u001B[0m\u001B[0mmethod\u001B[0m\u001B[0;34m,\u001B[0m \u001B[0;34m[\u001B[0m\u001B[0mtransaction\u001B[0m\u001B[0;34m]\u001B[0m\u001B[0;34m)\u001B[0m\u001B[0;34m\u001B[0m\u001B[0;34m\u001B[0m\u001B[0m\n\u001B[0;32m---> 40\u001B[0;31m         \u001B[0;32mreturn\u001B[0m \u001B[0mmake_request\u001B[0m\u001B[0;34m(\u001B[0m\u001B[0mmethod\u001B[0m\u001B[0;34m,\u001B[0m \u001B[0mparams\u001B[0m\u001B[0;34m)\u001B[0m\u001B[0;34m\u001B[0m\u001B[0;34m\u001B[0m\u001B[0m\n\u001B[0m\u001B[1;32m     41\u001B[0m     \u001B[0;32mreturn\u001B[0m \u001B[0mmiddleware\u001B[0m\u001B[0;34m\u001B[0m\u001B[0;34m\u001B[0m\u001B[0m\n\u001B[1;32m     42\u001B[0m \u001B[0;34m\u001B[0m\u001B[0m\n",
      "\u001B[0;32m~/Projects/git/on-chain-analytics/venv/lib/python3.7/site-packages/web3/middleware/exception_retry_request.py\u001B[0m in \u001B[0;36mmiddleware\u001B[0;34m(method, params)\u001B[0m\n\u001B[1;32m    103\u001B[0m             \u001B[0;32mfor\u001B[0m \u001B[0mi\u001B[0m \u001B[0;32min\u001B[0m \u001B[0mrange\u001B[0m\u001B[0;34m(\u001B[0m\u001B[0mretries\u001B[0m\u001B[0;34m)\u001B[0m\u001B[0;34m:\u001B[0m\u001B[0;34m\u001B[0m\u001B[0;34m\u001B[0m\u001B[0m\n\u001B[1;32m    104\u001B[0m                 \u001B[0;32mtry\u001B[0m\u001B[0;34m:\u001B[0m\u001B[0;34m\u001B[0m\u001B[0;34m\u001B[0m\u001B[0m\n\u001B[0;32m--> 105\u001B[0;31m                     \u001B[0;32mreturn\u001B[0m \u001B[0mmake_request\u001B[0m\u001B[0;34m(\u001B[0m\u001B[0mmethod\u001B[0m\u001B[0;34m,\u001B[0m \u001B[0mparams\u001B[0m\u001B[0;34m)\u001B[0m\u001B[0;34m\u001B[0m\u001B[0;34m\u001B[0m\u001B[0m\n\u001B[0m\u001B[1;32m    106\u001B[0m                 \u001B[0;31m# https://github.com/python/mypy/issues/5349\u001B[0m\u001B[0;34m\u001B[0m\u001B[0;34m\u001B[0m\u001B[0;34m\u001B[0m\u001B[0m\n\u001B[1;32m    107\u001B[0m                 \u001B[0;32mexcept\u001B[0m \u001B[0merrors\u001B[0m\u001B[0;34m:\u001B[0m  \u001B[0;31m# type: ignore\u001B[0m\u001B[0;34m\u001B[0m\u001B[0;34m\u001B[0m\u001B[0m\n",
      "\u001B[0;32m~/Projects/git/on-chain-analytics/venv/lib/python3.7/site-packages/web3/providers/rpc.py\u001B[0m in \u001B[0;36mmake_request\u001B[0;34m(self, method, params)\u001B[0m\n\u001B[1;32m     89\u001B[0m             \u001B[0mself\u001B[0m\u001B[0;34m.\u001B[0m\u001B[0mendpoint_uri\u001B[0m\u001B[0;34m,\u001B[0m\u001B[0;34m\u001B[0m\u001B[0;34m\u001B[0m\u001B[0m\n\u001B[1;32m     90\u001B[0m             \u001B[0mrequest_data\u001B[0m\u001B[0;34m,\u001B[0m\u001B[0;34m\u001B[0m\u001B[0;34m\u001B[0m\u001B[0m\n\u001B[0;32m---> 91\u001B[0;31m             \u001B[0;34m**\u001B[0m\u001B[0mself\u001B[0m\u001B[0;34m.\u001B[0m\u001B[0mget_request_kwargs\u001B[0m\u001B[0;34m(\u001B[0m\u001B[0;34m)\u001B[0m\u001B[0;34m\u001B[0m\u001B[0;34m\u001B[0m\u001B[0m\n\u001B[0m\u001B[1;32m     92\u001B[0m         )\n\u001B[1;32m     93\u001B[0m         \u001B[0mresponse\u001B[0m \u001B[0;34m=\u001B[0m \u001B[0mself\u001B[0m\u001B[0;34m.\u001B[0m\u001B[0mdecode_rpc_response\u001B[0m\u001B[0;34m(\u001B[0m\u001B[0mraw_response\u001B[0m\u001B[0;34m)\u001B[0m\u001B[0;34m\u001B[0m\u001B[0;34m\u001B[0m\u001B[0m\n",
      "\u001B[0;32m~/Projects/git/on-chain-analytics/venv/lib/python3.7/site-packages/web3/_utils/request.py\u001B[0m in \u001B[0;36mmake_post_request\u001B[0;34m(endpoint_uri, data, *args, **kwargs)\u001B[0m\n\u001B[1;32m     46\u001B[0m     \u001B[0msession\u001B[0m \u001B[0;34m=\u001B[0m \u001B[0m_get_session\u001B[0m\u001B[0;34m(\u001B[0m\u001B[0mendpoint_uri\u001B[0m\u001B[0;34m)\u001B[0m\u001B[0;34m\u001B[0m\u001B[0;34m\u001B[0m\u001B[0m\n\u001B[1;32m     47\u001B[0m     \u001B[0;31m# https://github.com/python/mypy/issues/2582\u001B[0m\u001B[0;34m\u001B[0m\u001B[0;34m\u001B[0m\u001B[0;34m\u001B[0m\u001B[0m\n\u001B[0;32m---> 48\u001B[0;31m     \u001B[0mresponse\u001B[0m \u001B[0;34m=\u001B[0m \u001B[0msession\u001B[0m\u001B[0;34m.\u001B[0m\u001B[0mpost\u001B[0m\u001B[0;34m(\u001B[0m\u001B[0mendpoint_uri\u001B[0m\u001B[0;34m,\u001B[0m \u001B[0mdata\u001B[0m\u001B[0;34m=\u001B[0m\u001B[0mdata\u001B[0m\u001B[0;34m,\u001B[0m \u001B[0;34m*\u001B[0m\u001B[0margs\u001B[0m\u001B[0;34m,\u001B[0m \u001B[0;34m**\u001B[0m\u001B[0mkwargs\u001B[0m\u001B[0;34m)\u001B[0m  \u001B[0;31m# type: ignore\u001B[0m\u001B[0;34m\u001B[0m\u001B[0;34m\u001B[0m\u001B[0m\n\u001B[0m\u001B[1;32m     49\u001B[0m     \u001B[0mresponse\u001B[0m\u001B[0;34m.\u001B[0m\u001B[0mraise_for_status\u001B[0m\u001B[0;34m(\u001B[0m\u001B[0;34m)\u001B[0m\u001B[0;34m\u001B[0m\u001B[0;34m\u001B[0m\u001B[0m\n\u001B[1;32m     50\u001B[0m \u001B[0;34m\u001B[0m\u001B[0m\n",
      "\u001B[0;32m~/Projects/git/on-chain-analytics/venv/lib/python3.7/site-packages/requests/sessions.py\u001B[0m in \u001B[0;36mpost\u001B[0;34m(self, url, data, json, **kwargs)\u001B[0m\n\u001B[1;32m    588\u001B[0m         \"\"\"\n\u001B[1;32m    589\u001B[0m \u001B[0;34m\u001B[0m\u001B[0m\n\u001B[0;32m--> 590\u001B[0;31m         \u001B[0;32mreturn\u001B[0m \u001B[0mself\u001B[0m\u001B[0;34m.\u001B[0m\u001B[0mrequest\u001B[0m\u001B[0;34m(\u001B[0m\u001B[0;34m'POST'\u001B[0m\u001B[0;34m,\u001B[0m \u001B[0murl\u001B[0m\u001B[0;34m,\u001B[0m \u001B[0mdata\u001B[0m\u001B[0;34m=\u001B[0m\u001B[0mdata\u001B[0m\u001B[0;34m,\u001B[0m \u001B[0mjson\u001B[0m\u001B[0;34m=\u001B[0m\u001B[0mjson\u001B[0m\u001B[0;34m,\u001B[0m \u001B[0;34m**\u001B[0m\u001B[0mkwargs\u001B[0m\u001B[0;34m)\u001B[0m\u001B[0;34m\u001B[0m\u001B[0;34m\u001B[0m\u001B[0m\n\u001B[0m\u001B[1;32m    591\u001B[0m \u001B[0;34m\u001B[0m\u001B[0m\n\u001B[1;32m    592\u001B[0m     \u001B[0;32mdef\u001B[0m \u001B[0mput\u001B[0m\u001B[0;34m(\u001B[0m\u001B[0mself\u001B[0m\u001B[0;34m,\u001B[0m \u001B[0murl\u001B[0m\u001B[0;34m,\u001B[0m \u001B[0mdata\u001B[0m\u001B[0;34m=\u001B[0m\u001B[0;32mNone\u001B[0m\u001B[0;34m,\u001B[0m \u001B[0;34m**\u001B[0m\u001B[0mkwargs\u001B[0m\u001B[0;34m)\u001B[0m\u001B[0;34m:\u001B[0m\u001B[0;34m\u001B[0m\u001B[0;34m\u001B[0m\u001B[0m\n",
      "\u001B[0;32m~/Projects/git/on-chain-analytics/venv/lib/python3.7/site-packages/requests/sessions.py\u001B[0m in \u001B[0;36mrequest\u001B[0;34m(self, method, url, params, data, headers, cookies, files, auth, timeout, allow_redirects, proxies, hooks, stream, verify, cert, json)\u001B[0m\n\u001B[1;32m    540\u001B[0m         }\n\u001B[1;32m    541\u001B[0m         \u001B[0msend_kwargs\u001B[0m\u001B[0;34m.\u001B[0m\u001B[0mupdate\u001B[0m\u001B[0;34m(\u001B[0m\u001B[0msettings\u001B[0m\u001B[0;34m)\u001B[0m\u001B[0;34m\u001B[0m\u001B[0;34m\u001B[0m\u001B[0m\n\u001B[0;32m--> 542\u001B[0;31m         \u001B[0mresp\u001B[0m \u001B[0;34m=\u001B[0m \u001B[0mself\u001B[0m\u001B[0;34m.\u001B[0m\u001B[0msend\u001B[0m\u001B[0;34m(\u001B[0m\u001B[0mprep\u001B[0m\u001B[0;34m,\u001B[0m \u001B[0;34m**\u001B[0m\u001B[0msend_kwargs\u001B[0m\u001B[0;34m)\u001B[0m\u001B[0;34m\u001B[0m\u001B[0;34m\u001B[0m\u001B[0m\n\u001B[0m\u001B[1;32m    543\u001B[0m \u001B[0;34m\u001B[0m\u001B[0m\n\u001B[1;32m    544\u001B[0m         \u001B[0;32mreturn\u001B[0m \u001B[0mresp\u001B[0m\u001B[0;34m\u001B[0m\u001B[0;34m\u001B[0m\u001B[0m\n",
      "\u001B[0;32m~/Projects/git/on-chain-analytics/venv/lib/python3.7/site-packages/requests/sessions.py\u001B[0m in \u001B[0;36msend\u001B[0;34m(self, request, **kwargs)\u001B[0m\n\u001B[1;32m    653\u001B[0m \u001B[0;34m\u001B[0m\u001B[0m\n\u001B[1;32m    654\u001B[0m         \u001B[0;31m# Send the request\u001B[0m\u001B[0;34m\u001B[0m\u001B[0;34m\u001B[0m\u001B[0;34m\u001B[0m\u001B[0m\n\u001B[0;32m--> 655\u001B[0;31m         \u001B[0mr\u001B[0m \u001B[0;34m=\u001B[0m \u001B[0madapter\u001B[0m\u001B[0;34m.\u001B[0m\u001B[0msend\u001B[0m\u001B[0;34m(\u001B[0m\u001B[0mrequest\u001B[0m\u001B[0;34m,\u001B[0m \u001B[0;34m**\u001B[0m\u001B[0mkwargs\u001B[0m\u001B[0;34m)\u001B[0m\u001B[0;34m\u001B[0m\u001B[0;34m\u001B[0m\u001B[0m\n\u001B[0m\u001B[1;32m    656\u001B[0m \u001B[0;34m\u001B[0m\u001B[0m\n\u001B[1;32m    657\u001B[0m         \u001B[0;31m# Total elapsed time of the request (approximately)\u001B[0m\u001B[0;34m\u001B[0m\u001B[0;34m\u001B[0m\u001B[0;34m\u001B[0m\u001B[0m\n",
      "\u001B[0;32m~/Projects/git/on-chain-analytics/venv/lib/python3.7/site-packages/requests/adapters.py\u001B[0m in \u001B[0;36msend\u001B[0;34m(self, request, stream, timeout, verify, cert, proxies)\u001B[0m\n\u001B[1;32m    514\u001B[0m                 \u001B[0;32mraise\u001B[0m \u001B[0mSSLError\u001B[0m\u001B[0;34m(\u001B[0m\u001B[0me\u001B[0m\u001B[0;34m,\u001B[0m \u001B[0mrequest\u001B[0m\u001B[0;34m=\u001B[0m\u001B[0mrequest\u001B[0m\u001B[0;34m)\u001B[0m\u001B[0;34m\u001B[0m\u001B[0;34m\u001B[0m\u001B[0m\n\u001B[1;32m    515\u001B[0m \u001B[0;34m\u001B[0m\u001B[0m\n\u001B[0;32m--> 516\u001B[0;31m             \u001B[0;32mraise\u001B[0m \u001B[0mConnectionError\u001B[0m\u001B[0;34m(\u001B[0m\u001B[0me\u001B[0m\u001B[0;34m,\u001B[0m \u001B[0mrequest\u001B[0m\u001B[0;34m=\u001B[0m\u001B[0mrequest\u001B[0m\u001B[0;34m)\u001B[0m\u001B[0;34m\u001B[0m\u001B[0;34m\u001B[0m\u001B[0m\n\u001B[0m\u001B[1;32m    517\u001B[0m \u001B[0;34m\u001B[0m\u001B[0m\n\u001B[1;32m    518\u001B[0m         \u001B[0;32mexcept\u001B[0m \u001B[0mClosedPoolError\u001B[0m \u001B[0;32mas\u001B[0m \u001B[0me\u001B[0m\u001B[0;34m:\u001B[0m\u001B[0;34m\u001B[0m\u001B[0;34m\u001B[0m\u001B[0m\n",
      "\u001B[0;31mConnectionError\u001B[0m: HTTPSConnectionPool(host='eth-mainnet.alchemyapi.io', port=443): Max retries exceeded with url: /v2/AxU0de70ONfvbD-3_pQX0wUlaBK6g3G4 (Caused by NewConnectionError('<urllib3.connection.HTTPSConnection object at 0x1109c57d0>: Failed to establish a new connection: [Errno 8] nodename nor servname provided, or not known'))"
     ]
    }
   ],
   "source": [
    "swaps = []\n",
    "for transfer in all_transfers:\n",
    "\n",
    "    block = transfer['blockNumber']\n",
    "    tx_hash = transfer['transactionHash'].hex()\n",
    "    timestamp = datetime.datetime.fromtimestamp(web3.eth.getBlock(block)['timestamp'])\n",
    "\n",
    "    stg_price = pool.functions.price_oracle().call(block_identifier=block)\n",
    "\n",
    "    stg_to_usdc_swap = transfer['args']['sold_id'] == 0\n",
    "    usdc_to_stg_swap = transfer['args']['sold_id'] == 1\n",
    "\n",
    "    token_sold_decimal = 1e-6\n",
    "    token_bought_decimal = 1e-18\n",
    "    if stg_to_usdc_swap:\n",
    "        token_sold_decimal = 1e-18\n",
    "        token_bought_decimal = 1e-6\n",
    "\n",
    "    tokens_sold = transfer['args']['tokens_sold'] * token_sold_decimal\n",
    "    tokens_bought = transfer['args']['tokens_bought'] * token_bought_decimal\n",
    "\n",
    "    total_usd_sold = 0\n",
    "    if usdc_to_stg_swap:\n",
    "        total_usd_sold = tokens_sold\n",
    "    total_usd_bought = 0\n",
    "    if stg_to_usdc_swap:\n",
    "        total_usd_bought = tokens_bought\n",
    "\n",
    "    total_stg_sold = 0\n",
    "    if stg_to_usdc_swap:\n",
    "        total_stg_sold = tokens_sold\n",
    "    total_stg_bought = 0\n",
    "    if usdc_to_stg_swap:\n",
    "        total_stg_bought = tokens_bought\n",
    "\n",
    "    total_transaction_usdc = total_usd_bought + total_usd_sold\n",
    "    total_transaction_usd = total_transaction_usdc * 1\n",
    "\n",
    "    dict_swaps = {\n",
    "        'block': block,\n",
    "        'timestamp': timestamp,\n",
    "        'stg_price': stg_price,\n",
    "        'volume_usd': total_transaction_usd,\n",
    "        'total_usdc_sold': total_usd_sold,\n",
    "        'total_usdc_bought': total_usd_bought,\n",
    "        'total_stg_sold': total_stg_sold,\n",
    "        'total_stg_bought': total_stg_bought,\n",
    "        'tx_hash': tx_hash\n",
    "    }\n",
    "    swaps.append(dict_swaps)\n",
    "\n",
    "swaps"
   ],
   "metadata": {
    "collapsed": false,
    "pycharm": {
     "name": "#%%\n"
    }
   }
  },
  {
   "cell_type": "code",
   "execution_count": null,
   "outputs": [],
   "source": [
    "df_swaps = pd.DataFrame(swaps)\n",
    "df_swaps.set_index('timestamp', inplace=True)\n",
    "df_swaps"
   ],
   "metadata": {
    "collapsed": false,
    "pycharm": {
     "name": "#%%\n"
    }
   }
  },
  {
   "cell_type": "code",
   "source": [
    "fig, ax = plt.subplots(1,1, figsize=(20, 8))\n",
    "\n",
    "(df_swaps['volume_usd'] * 1e-6).cumsum().plot(\n",
    "    ax=ax,\n",
    "    color='red',\n",
    "    label='stgusdc',\n",
    "    lw=4\n",
    ")\n",
    "\n",
    "ax.set_ylabel(\"Swap Volume [million USD]\", fontsize=25)\n",
    "ax.set_xlabel(\"Block Number\", fontsize=25)\n",
    "ax.tick_params(axis='both', which='major', labelsize=25, colors='black')\n",
    "ax.yaxis.get_major_formatter().set_scientific(False)\n",
    "ax.yaxis.get_major_formatter().set_useOffset(False)\n",
    "ax.legend(fontsize=25);"
   ],
   "metadata": {
    "collapsed": false,
    "jupyter": {
     "outputs_hidden": false
    },
    "pycharm": {
     "name": "#%%\n"
    }
   },
   "execution_count": null,
   "outputs": []
  },
  {
   "cell_type": "code",
   "source": [
    "fig, ax = plt.subplots(1,1, figsize=(20, 8))\n",
    "\n",
    "ax.plot(\n",
    "    df_swaps['timestamp'],\n",
    "    df_swaps['stg_price'],\n",
    "    color='black',\n",
    "    label='Curve.fi STG/USDC',\n",
    "    lw=4\n",
    ")\n",
    "\n",
    "ax.set_ylabel(\"STG Price [USD]\", fontsize=25)\n",
    "ax.set_xlabel(\"\")\n",
    "ax.tick_params(axis='both', which='major', labelsize=25, colors='black')\n",
    "ax.yaxis.get_major_formatter().set_scientific(False)\n",
    "ax.yaxis.get_major_formatter().set_useOffset(False)\n",
    "ax.legend(fontsize=25);"
   ],
   "metadata": {
    "collapsed": false,
    "jupyter": {
     "outputs_hidden": false
    },
    "pycharm": {
     "name": "#%%\n"
    }
   },
   "execution_count": null,
   "outputs": []
  },
  {
   "cell_type": "code",
   "execution_count": null,
   "outputs": [],
   "source": [],
   "metadata": {
    "collapsed": false,
    "pycharm": {
     "name": "#%%\n"
    }
   }
  }
 ]
}