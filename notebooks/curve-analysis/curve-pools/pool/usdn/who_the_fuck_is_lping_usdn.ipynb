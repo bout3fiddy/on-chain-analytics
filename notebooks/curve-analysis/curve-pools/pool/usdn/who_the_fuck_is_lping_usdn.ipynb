{
 "cells": [
  {
   "cell_type": "code",
   "execution_count": 1,
   "metadata": {
    "collapsed": true,
    "pycharm": {
     "name": "#%%\n"
    }
   },
   "outputs": [],
   "source": [
    "import os\n",
    "import json\n",
    "from web3 import Web3, HTTPProvider\n",
    "\n",
    "import pandas as pd\n",
    "import matplotlib.pyplot as plt\n",
    "import seaborn as sns\n",
    "sns.set_style(\"whitegrid\")\n",
    "\n",
    "from utils.eth_blocks_utils import get_timestamp_for_block"
   ]
  },
  {
   "cell_type": "code",
   "execution_count": 2,
   "outputs": [],
   "source": [
    "ALCHEMY_API_KEY = os.environ['ALCHEMY_API_KEY']\n",
    "web3 = Web3(HTTPProvider(f\"https://eth-mainnet.alchemyapi.io/v2/{ALCHEMY_API_KEY}\"))"
   ],
   "metadata": {
    "collapsed": false,
    "pycharm": {
     "name": "#%%\n"
    }
   }
  },
  {
   "cell_type": "code",
   "execution_count": 3,
   "outputs": [],
   "source": [
    "pool_addr = \"0x0f9cb53Ebe405d49A0bbdBD291A65Ff571bC83e1\""
   ],
   "metadata": {
    "collapsed": false,
    "pycharm": {
     "name": "#%%\n"
    }
   }
  },
  {
   "cell_type": "code",
   "execution_count": 4,
   "outputs": [
    {
     "data": {
      "text/plain": "<web3._utils.datatypes.Contract at 0x14d0a2350>"
     },
     "execution_count": 4,
     "metadata": {},
     "output_type": "execute_result"
    }
   ],
   "source": [
    "with open(\"./usdn.json\", 'r') as f:\n",
    "    abi = json.load(f)\n",
    "pool = web3.eth.contract(address=pool_addr, abi=abi)\n",
    "pool"
   ],
   "metadata": {
    "collapsed": false,
    "pycharm": {
     "name": "#%%\n"
    }
   }
  },
  {
   "cell_type": "code",
   "execution_count": 5,
   "outputs": [
    {
     "data": {
      "text/plain": "13679960"
     },
     "execution_count": 5,
     "metadata": {},
     "output_type": "execute_result"
    }
   ],
   "source": [
    "current_block = web3.eth.get_block_number()\n",
    "current_block"
   ],
   "metadata": {
    "collapsed": false,
    "pycharm": {
     "name": "#%%\n"
    }
   }
  },
  {
   "cell_type": "code",
   "execution_count": 6,
   "outputs": [],
   "source": [
    "genesis_block = 11010514"
   ],
   "metadata": {
    "collapsed": false,
    "pycharm": {
     "name": "#%%\n"
    }
   }
  },
  {
   "cell_type": "code",
   "execution_count": 7,
   "outputs": [],
   "source": [
    "pool_remove_liquidity_filter = pool.events.RemoveLiquidity.createFilter(\n",
    "    fromBlock=genesis_block,\n",
    "    toBlock=current_block\n",
    ")\n",
    "pool_remove_liquidity_one_filter = pool.events.RemoveLiquidityOne.createFilter(\n",
    "    fromBlock=genesis_block,\n",
    "    toBlock=current_block\n",
    ")\n",
    "pool_remove_liquidity_imbalance_filter = pool.events.RemoveLiquidityImbalance.createFilter(\n",
    "    fromBlock=genesis_block,\n",
    "    toBlock=current_block\n",
    ")"
   ],
   "metadata": {
    "collapsed": false,
    "pycharm": {
     "name": "#%%\n"
    }
   }
  },
  {
   "cell_type": "code",
   "execution_count": 11,
   "outputs": [
    {
     "data": {
      "text/plain": "[(11010514, 11677875),\n (11677875, 12345236),\n (12345236, 13012597),\n (13012597, 13679958)]"
     },
     "execution_count": 11,
     "metadata": {},
     "output_type": "execute_result"
    }
   ],
   "source": [
    "block_steps = list(range(genesis_block, current_block, int(0.25 * round(current_block - genesis_block))))\n",
    "block_ranges = list(zip(block_steps, block_steps[1:]))\n",
    "block_ranges"
   ],
   "metadata": {
    "collapsed": false,
    "pycharm": {
     "name": "#%%\n"
    }
   }
  },
  {
   "cell_type": "code",
   "execution_count": 25,
   "outputs": [],
   "source": [
    "liq_providers = {\n",
    "    \"addr\": [],\n",
    "    \"usdn\": [],\n",
    "    \"3crv\": [],\n",
    "    \"block\": []\n",
    "}\n",
    "\n",
    "for (block_start, block_end) in block_ranges:\n",
    "\n",
    "    pool_add_liquidity_filter = pool.events.AddLiquidity.createFilter(\n",
    "        fromBlock=block_start,\n",
    "        toBlock=block_end\n",
    "    )\n",
    "\n",
    "    add_liquidity_events = pool_add_liquidity_filter.get_all_entries()\n",
    "\n",
    "    liq_providers['addr'].extend([event['args']['provider'] for event in add_liquidity_events])\n",
    "    liq_providers['usdn'].extend([event['args']['token_amounts'][0] * 1e-18 for event in add_liquidity_events])\n",
    "    liq_providers['3crv'].extend([event['args']['token_amounts'][1] * 1e-18 for event in add_liquidity_events])\n",
    "    liq_providers['block'].extend([event['blockNumber'] for event in add_liquidity_events])\n"
   ],
   "metadata": {
    "collapsed": false,
    "pycharm": {
     "name": "#%%\n"
    }
   }
  },
  {
   "cell_type": "code",
   "execution_count": 26,
   "outputs": [
    {
     "data": {
      "text/plain": "                                             addr      usdn          3crv  \\\n0      0x35796DAc54f144DFBAD1441Ec7C32313A7c29F39      3.00      2.993241   \n1      0x35796DAc54f144DFBAD1441Ec7C32313A7c29F39      0.00      0.000002   \n2      0x35796DAc54f144DFBAD1441Ec7C32313A7c29F39  50000.00  49712.700063   \n3      0xF7AE063de5EF4BCBb98B2Bd27afb66C59D885Fc0      0.00   2000.000000   \n4      0x35796DAc54f144DFBAD1441Ec7C32313A7c29F39   1005.63      0.000000   \n...                                           ...       ...           ...   \n12533  0x094d12e5b541784701FD8d65F11fc0598FBC6332      0.00   7775.200614   \n12534  0x094d12e5b541784701FD8d65F11fc0598FBC6332      0.00  71274.775219   \n12535  0x094d12e5b541784701FD8d65F11fc0598FBC6332      0.00    551.484707   \n12536  0x094d12e5b541784701FD8d65F11fc0598FBC6332      0.00      5.442048   \n12537  0x094d12e5b541784701FD8d65F11fc0598FBC6332      0.00  19432.958245   \n\n          block  \n0      11010708  \n1      11010724  \n2      11010954  \n3      11011537  \n4      11011601  \n...         ...  \n12533  13667912  \n12534  13668743  \n12535  13675015  \n12536  13675970  \n12537  13679381  \n\n[12538 rows x 4 columns]",
      "text/html": "<div>\n<style scoped>\n    .dataframe tbody tr th:only-of-type {\n        vertical-align: middle;\n    }\n\n    .dataframe tbody tr th {\n        vertical-align: top;\n    }\n\n    .dataframe thead th {\n        text-align: right;\n    }\n</style>\n<table border=\"1\" class=\"dataframe\">\n  <thead>\n    <tr style=\"text-align: right;\">\n      <th></th>\n      <th>addr</th>\n      <th>usdn</th>\n      <th>3crv</th>\n      <th>block</th>\n    </tr>\n  </thead>\n  <tbody>\n    <tr>\n      <th>0</th>\n      <td>0x35796DAc54f144DFBAD1441Ec7C32313A7c29F39</td>\n      <td>3.00</td>\n      <td>2.993241</td>\n      <td>11010708</td>\n    </tr>\n    <tr>\n      <th>1</th>\n      <td>0x35796DAc54f144DFBAD1441Ec7C32313A7c29F39</td>\n      <td>0.00</td>\n      <td>0.000002</td>\n      <td>11010724</td>\n    </tr>\n    <tr>\n      <th>2</th>\n      <td>0x35796DAc54f144DFBAD1441Ec7C32313A7c29F39</td>\n      <td>50000.00</td>\n      <td>49712.700063</td>\n      <td>11010954</td>\n    </tr>\n    <tr>\n      <th>3</th>\n      <td>0xF7AE063de5EF4BCBb98B2Bd27afb66C59D885Fc0</td>\n      <td>0.00</td>\n      <td>2000.000000</td>\n      <td>11011537</td>\n    </tr>\n    <tr>\n      <th>4</th>\n      <td>0x35796DAc54f144DFBAD1441Ec7C32313A7c29F39</td>\n      <td>1005.63</td>\n      <td>0.000000</td>\n      <td>11011601</td>\n    </tr>\n    <tr>\n      <th>...</th>\n      <td>...</td>\n      <td>...</td>\n      <td>...</td>\n      <td>...</td>\n    </tr>\n    <tr>\n      <th>12533</th>\n      <td>0x094d12e5b541784701FD8d65F11fc0598FBC6332</td>\n      <td>0.00</td>\n      <td>7775.200614</td>\n      <td>13667912</td>\n    </tr>\n    <tr>\n      <th>12534</th>\n      <td>0x094d12e5b541784701FD8d65F11fc0598FBC6332</td>\n      <td>0.00</td>\n      <td>71274.775219</td>\n      <td>13668743</td>\n    </tr>\n    <tr>\n      <th>12535</th>\n      <td>0x094d12e5b541784701FD8d65F11fc0598FBC6332</td>\n      <td>0.00</td>\n      <td>551.484707</td>\n      <td>13675015</td>\n    </tr>\n    <tr>\n      <th>12536</th>\n      <td>0x094d12e5b541784701FD8d65F11fc0598FBC6332</td>\n      <td>0.00</td>\n      <td>5.442048</td>\n      <td>13675970</td>\n    </tr>\n    <tr>\n      <th>12537</th>\n      <td>0x094d12e5b541784701FD8d65F11fc0598FBC6332</td>\n      <td>0.00</td>\n      <td>19432.958245</td>\n      <td>13679381</td>\n    </tr>\n  </tbody>\n</table>\n<p>12538 rows × 4 columns</p>\n</div>"
     },
     "execution_count": 26,
     "metadata": {},
     "output_type": "execute_result"
    }
   ],
   "source": [
    "df_liq_provider_events = pd.DataFrame(liq_providers)\n",
    "df_liq_provider_events"
   ],
   "metadata": {
    "collapsed": false,
    "pycharm": {
     "name": "#%%\n"
    }
   }
  },
  {
   "cell_type": "code",
   "execution_count": 33,
   "outputs": [
    {
     "data": {
      "text/plain": "                                                    usdn          3crv\naddr                                                                  \n0x094d12e5b541784701FD8d65F11fc0598FBC6332  2.756561e+08  2.862196e+09\n0x35796DAc54f144DFBAD1441Ec7C32313A7c29F39  6.443519e+06  4.558611e+07\n0x77eD360E62cA6f2D1582F00da8B0b8489cA1e2E2  5.056966e+06  4.675493e+07\n0x7A0a6906De7714d27413f5092ED1a0636A3FBc9A  3.017516e+06  5.010975e+07\n0x8C01A994639163e2724f10b6f9a71BDb94559Db9  2.231543e+06  1.660843e+06\n...                                                  ...           ...\n0x5DB5286CEC9a28D76feb4eE22E0722e6a6912B22  0.000000e+00  3.577503e+04\n0x5DB0d56FF51dABe3159741b88556db4b7020DC2a  0.000000e+00  3.072424e+06\n0x5D58518c1902ED78C48D77EBe71fEEdE67419438  0.000000e+00  3.172169e+02\n0x59fe8ddFd894F0D8b041f18c49848d861005013f  0.000000e+00  2.001644e+04\n0xff422eb480e02cB168586A0C85EfFaE41555e0b0  0.000000e+00  1.047017e+04\n\n[375 rows x 2 columns]",
      "text/html": "<div>\n<style scoped>\n    .dataframe tbody tr th:only-of-type {\n        vertical-align: middle;\n    }\n\n    .dataframe tbody tr th {\n        vertical-align: top;\n    }\n\n    .dataframe thead th {\n        text-align: right;\n    }\n</style>\n<table border=\"1\" class=\"dataframe\">\n  <thead>\n    <tr style=\"text-align: right;\">\n      <th></th>\n      <th>usdn</th>\n      <th>3crv</th>\n    </tr>\n    <tr>\n      <th>addr</th>\n      <th></th>\n      <th></th>\n    </tr>\n  </thead>\n  <tbody>\n    <tr>\n      <th>0x094d12e5b541784701FD8d65F11fc0598FBC6332</th>\n      <td>2.756561e+08</td>\n      <td>2.862196e+09</td>\n    </tr>\n    <tr>\n      <th>0x35796DAc54f144DFBAD1441Ec7C32313A7c29F39</th>\n      <td>6.443519e+06</td>\n      <td>4.558611e+07</td>\n    </tr>\n    <tr>\n      <th>0x77eD360E62cA6f2D1582F00da8B0b8489cA1e2E2</th>\n      <td>5.056966e+06</td>\n      <td>4.675493e+07</td>\n    </tr>\n    <tr>\n      <th>0x7A0a6906De7714d27413f5092ED1a0636A3FBc9A</th>\n      <td>3.017516e+06</td>\n      <td>5.010975e+07</td>\n    </tr>\n    <tr>\n      <th>0x8C01A994639163e2724f10b6f9a71BDb94559Db9</th>\n      <td>2.231543e+06</td>\n      <td>1.660843e+06</td>\n    </tr>\n    <tr>\n      <th>...</th>\n      <td>...</td>\n      <td>...</td>\n    </tr>\n    <tr>\n      <th>0x5DB5286CEC9a28D76feb4eE22E0722e6a6912B22</th>\n      <td>0.000000e+00</td>\n      <td>3.577503e+04</td>\n    </tr>\n    <tr>\n      <th>0x5DB0d56FF51dABe3159741b88556db4b7020DC2a</th>\n      <td>0.000000e+00</td>\n      <td>3.072424e+06</td>\n    </tr>\n    <tr>\n      <th>0x5D58518c1902ED78C48D77EBe71fEEdE67419438</th>\n      <td>0.000000e+00</td>\n      <td>3.172169e+02</td>\n    </tr>\n    <tr>\n      <th>0x59fe8ddFd894F0D8b041f18c49848d861005013f</th>\n      <td>0.000000e+00</td>\n      <td>2.001644e+04</td>\n    </tr>\n    <tr>\n      <th>0xff422eb480e02cB168586A0C85EfFaE41555e0b0</th>\n      <td>0.000000e+00</td>\n      <td>1.047017e+04</td>\n    </tr>\n  </tbody>\n</table>\n<p>375 rows × 2 columns</p>\n</div>"
     },
     "execution_count": 33,
     "metadata": {},
     "output_type": "execute_result"
    }
   ],
   "source": [
    "df_liq_providers = df_liq_provider_events.groupby('addr').sum()\n",
    "df_liq_providers.drop(columns=['block'], inplace=True)\n",
    "df_liq_providers.sort_values(by=['usdn'], ascending=False, inplace=True)\n",
    "df_liq_providers"
   ],
   "metadata": {
    "collapsed": false,
    "pycharm": {
     "name": "#%%\n"
    }
   }
  },
  {
   "cell_type": "code",
   "execution_count": null,
   "outputs": [],
   "source": [],
   "metadata": {
    "collapsed": false,
    "pycharm": {
     "name": "#%%\n"
    }
   }
  }
 ],
 "metadata": {
  "kernelspec": {
   "display_name": "Python 3",
   "language": "python",
   "name": "python3"
  },
  "language_info": {
   "codemirror_mode": {
    "name": "ipython",
    "version": 2
   },
   "file_extension": ".py",
   "mimetype": "text/x-python",
   "name": "python",
   "nbconvert_exporter": "python",
   "pygments_lexer": "ipython2",
   "version": "2.7.6"
  }
 },
 "nbformat": 4,
 "nbformat_minor": 0
}