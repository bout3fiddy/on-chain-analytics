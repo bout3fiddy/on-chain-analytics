{
 "cells": [
  {
   "cell_type": "code",
   "execution_count": 2,
   "metadata": {},
   "outputs": [],
   "source": [
    "import sys\n",
    "sys.path.append('../../')"
   ]
  },
  {
   "cell_type": "code",
   "execution_count": 19,
   "metadata": {},
   "outputs": [],
   "source": [
    "from dataclasses import dataclass\n",
    "import itertools\n",
    "import requests\n",
    "import pandas as pd\n",
    "\n",
    "from utils.subgraph_utils.constants import SUBGRAPH_API"
   ]
  },
  {
   "cell_type": "code",
   "execution_count": 4,
   "metadata": {},
   "outputs": [],
   "source": [
    "def get_pool_data(api):\n",
    "\n",
    "    query = \"\"\"\n",
    "    {\n",
    "        platforms {\n",
    "            pools {\n",
    "                coins\n",
    "                coinDecimals\n",
    "                address\n",
    "            }\n",
    "        }\n",
    "    }\n",
    "    \"\"\"\n",
    "    r = requests.post(api, json={\"query\": query})\n",
    "    data = dict(r.json())\n",
    "    pool_data = data[\"data\"][\"platforms\"][0][\"pools\"]\n",
    "\n",
    "    return pool_data"
   ]
  },
  {
   "cell_type": "code",
   "execution_count": 8,
   "metadata": {},
   "outputs": [],
   "source": [
    "network_name = 'Mainnet'"
   ]
  },
  {
   "cell_type": "code",
   "execution_count": 9,
   "metadata": {},
   "outputs": [
    {
     "data": {
      "text/plain": [
       "[{'coins': ['0xa713cc74ee148414bcab46ac2c41c93d84a56b0f',\n",
       "   '0x6c3f90f043a72fa612cbac8115ee7e52bde6e490'],\n",
       "  'coinDecimals': ['18', '18'],\n",
       "  'address': '0x0043fcb34e7470130fde28198571dee092c70bd7'},\n",
       " {'coins': ['0x15a629f0665a3eb97d7ae9a7ce7abf73aeb79415',\n",
       "   '0x9c4a4204b79dd291d6b6571c5be8bbcd0622f050'],\n",
       "  'coinDecimals': ['18', '18'],\n",
       "  'address': '0x01fe650ef2f8e2982295489ae6adc1413bf6011f'}]"
      ]
     },
     "execution_count": 9,
     "metadata": {},
     "output_type": "execute_result"
    }
   ],
   "source": [
    "data = get_pool_data(SUBGRAPH_API[network_name])\n",
    "data[:2]"
   ]
  },
  {
   "cell_type": "code",
   "execution_count": 13,
   "metadata": {},
   "outputs": [],
   "source": [
    "@dataclass\n",
    "class Coin:\n",
    "    \"\"\"Class for keeping track of an item in inventory.\"\"\"\n",
    "    address: str\n",
    "    network: str\n",
    "    decimals: int\n",
    "\n",
    "    def convert_to_float(self, input_amount: int) -> float:\n",
    "        return input_amount / 10 ** self.decimals"
   ]
  },
  {
   "cell_type": "code",
   "execution_count": 37,
   "metadata": {},
   "outputs": [
    {
     "data": {
      "text/plain": [
       "(Coin(address='0xa713cc74ee148414bcab46ac2c41c93d84a56b0f', network='Mainnet', decimals=18),\n",
       " Coin(address='0x6c3f90f043a72fa612cbac8115ee7e52bde6e490', network='Mainnet', decimals=18))"
      ]
     },
     "execution_count": 37,
     "metadata": {},
     "output_type": "execute_result"
    }
   ],
   "source": [
    "coin_map = {}  # pool_a: coin pair; a = 1, 2, 3, ... depending on number of coins in the pool.\n",
    "for pool in data:\n",
    "    pool_address = pool['address']\n",
    "\n",
    "    coins = []    \n",
    "    for idx, coin in enumerate(pool['coins']):\n",
    "        coin_dataclass = Coin(address=coin, network=network_name, decimals=int(pool['coinDecimals'][idx]))\n",
    "        coins.append(coin_dataclass)\n",
    "    \n",
    "    coin_permutations = list(itertools.permutations(coins))\n",
    "    \n",
    "    for coin_permutation in coin_permutations:\n",
    "\n",
    "        num_pool_entries = len([1 for i in coin_map.keys() if i.startswith(pool_address)])\n",
    "        pool_key = pool_address + '_' + str(num_pool_entries + 1)\n",
    "        coin_map[pool_key] = coin_permutation\n",
    "\n",
    "coin_map[list(coin_map.keys())[0]]"
   ]
  }
 ],
 "metadata": {
  "interpreter": {
   "hash": "a83b694bd571d2b9a16f45490fbdf7dc3913f17f3595ba7d069a2e2198780ca3"
  },
  "kernelspec": {
   "display_name": "Python 3.7.10 ('venv': venv)",
   "language": "python",
   "name": "python3"
  },
  "language_info": {
   "codemirror_mode": {
    "name": "ipython",
    "version": 3
   },
   "file_extension": ".py",
   "mimetype": "text/x-python",
   "name": "python",
   "nbconvert_exporter": "python",
   "pygments_lexer": "ipython3",
   "version": "3.10.0"
  },
  "orig_nbformat": 4
 },
 "nbformat": 4,
 "nbformat_minor": 2
}
