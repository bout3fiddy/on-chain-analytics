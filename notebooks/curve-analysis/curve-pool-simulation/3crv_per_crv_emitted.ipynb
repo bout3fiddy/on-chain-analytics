{
 "cells": [
  {
   "cell_type": "markdown",
   "source": [
    "1. Get crv emissions per pool.\n",
    "2. Get fees claimed per pool.\n",
    "3. divide the two to get swap revenue per crv emitted per gauge."
   ],
   "metadata": {
    "collapsed": false
   }
  },
  {
   "cell_type": "code",
   "execution_count": 3,
   "outputs": [],
   "source": [
    "# subgraph querying modules\n",
    "import datetime\n",
    "\n",
    "import pandas as pd\n",
    "import requests"
   ],
   "metadata": {
    "collapsed": false,
    "pycharm": {
     "name": "#%%\n"
    }
   }
  },
  {
   "cell_type": "code",
   "execution_count": 4,
   "outputs": [],
   "source": [
    "# plotting tools\n",
    "import matplotlib.pyplot as plt\n",
    "import matplotlib.dates as mdates\n",
    "\n",
    "import seaborn as sns\n",
    "sns.set_style(\"whitegrid\")"
   ],
   "metadata": {
    "collapsed": false,
    "pycharm": {
     "name": "#%%\n"
    }
   }
  },
  {
   "cell_type": "code",
   "execution_count": 15,
   "outputs": [],
   "source": [
    "# brownie\n",
    "import os\n",
    "import sys\n",
    "sys.path.append(\"../../\")\n",
    "\n",
    "from utils.contract_utils import init_contract\n",
    "from utils.network_utils import configure_network_and_connect\n",
    "\n",
    "ALCHEMY_API_KEY = os.environ['ALCHEMY_API_KEY']\n",
    "configure_network_and_connect(\n",
    "    node_provider_https=f\"https://eth-mainnet.alchemyapi.io/v2/{ALCHEMY_API_KEY}\",\n",
    "    network_name='mainnet'\n",
    ")"
   ],
   "metadata": {
    "collapsed": false,
    "pycharm": {
     "name": "#%%\n"
    }
   }
  },
  {
   "cell_type": "markdown",
   "source": [
    "# Pools and Gauges\n",
    "\n",
    "Get dict of pools (keys) and gauge (value)"
   ],
   "metadata": {
    "collapsed": false
   }
  },
  {
   "cell_type": "code",
   "execution_count": 16,
   "outputs": [
    {
     "name": "stdout",
     "output_type": "stream",
     "text": [
      "  \u001B[0;1;35m@title \u001B[0;mCurve Registry\n",
      "  \u001B[0;1;35m@author \u001B[0;mCurve.Fi\n",
      "\n"
     ]
    }
   ],
   "source": [
    "ethereum_registry_contract = init_contract(\"0x90E00ACe148ca3b23Ac1bC8C240C2a7Dd9c2d7f5\")\n",
    "ethereum_registry_contract.info()"
   ],
   "metadata": {
    "collapsed": false,
    "pycharm": {
     "name": "#%%\n"
    }
   }
  },
  {
   "cell_type": "markdown",
   "source": [
    "Get pools and gauges:"
   ],
   "metadata": {
    "collapsed": false
   }
  },
  {
   "cell_type": "code",
   "execution_count": 26,
   "outputs": [
    {
     "data": {
      "text/plain": "{'0xbEbc44782C7dB0a1A60Cb6fe97d0b483032FF1C7': ['0xbFcF63294aD7105dEa65aA58F8AE5BE2D9d0952A',\n  '0x6c3F90f043a72FA612cbac8115EE7e52BDe6E490'],\n '0xDeBF20617708857ebe4F679508E7b7863a8A8EeE': ['0xd662908ADA2Ea1916B3318327A97eB18aD588b5d',\n  '0xFd2a8fA60Abd58Efe3EeE34dd494cD491dC14900'],\n '0xA96A65c051bF88B4095Ee1f2451C2A9d43F53Ae2': ['0x6d10ed2cF043E6fcf51A0e7b4C2Af3Fa06695707',\n  '0xaA17A236F2bAdc98DDc0Cf999AbB47D47Fc0A6Cf'],\n '0x79a8C46DeA5aDa233ABaFFD40F3A0A2B1e5A4F27': ['0x69Fb7c45726cfE2baDeE8317005d3F94bE838840',\n  '0x3B3Ac5386837Dc563660FB6a0937DFAa5924333B'],\n '0xA2B47E3D5c44877cca798226B7B8118F9BFb7A56': ['0x7ca5b0a2910B33e9759DC7dDB0413949071D7575',\n  '0x845838DF265Dcd2c412A1Dc9e959c7d08537f8a2'],\n '0x0Ce6a5fF5217e38315f87032CF90686C96627CAA': ['0x90Bb609649E0451E5aD952683D64BD2d1f245840',\n  '0x194eBd173F6cDacE046C53eACcE9B953F28411d1'],\n '0x4CA9b3063Ec5866A4B82E437059D2C43d1be596F': ['0x4c18E409Dc8619bFb6a1cB56D114C3f592E0aE79',\n  '0xb19059ebb43466C323583928285a49f558E572Fd'],\n '0x2dded6Da1BF5DBdF597C45fcFaa3194e53EcfeAF': ['0xF5194c3325202F456c95c1Cf0cA36f8475C1949F',\n  '0x5282a4eF67D9C33135340fB3289cc1711c13638C'],\n '0xF178C0b5Bb7e7aBF4e12A4838C7b7c5bA2C623c0': ['0xFD4D8a17df4C27c1dD245d153ccf4499e806C87D',\n  '0xcee60cFa923170e4f8204AE08B4fA6A3F5656F3a'],\n '0x06364f10B501e868329afBc005b3492902d6C763': ['0x64E3C23bfc40722d3B649844055F1D51c1ac041d',\n  '0xD905e2eaeBe188fc92179b6350807D8bd91Db0D8'],\n '0x93054188d876f558f4a66B2EF1d97d16eDf0895B': ['0xB1F2cdeC61db658F091671F5f199635aEF202CAC',\n  '0x49849C98ae39Fff122806C06791Fa73784FB3675'],\n '0xEB16Ae0052ed37f479f7fe63849198Df1765a733': ['0x462253b8F74B72304c145DB0e4Eebd326B22ca39',\n  '0x02d341CcB60fAaf662bC0554d13778015d1b285C'],\n '0x7fC77b5c7614E1533320Ea6DDc2Eb61fa00A9714': ['0x705350c4BcD35c9441419DdD5d2f097d7a55410F',\n  '0x075b1bb99792c9E1041bA13afEf80C91a1e70fB3'],\n '0xc5424B857f758E906013F3555Dad202e4bdB4567': ['0x3C0FFFF15EA30C35d7A85B85c0782D6c94e1d238',\n  '0xA3D87FffcE63B53E0d54fAa1cc983B7eB0b74A9c'],\n '0xDC24316b9AE028F1497c275EB9192a3Ea0f67022': ['0x182B723a58739a9c974cFDB385ceaDb237453c28',\n  '0x06325440D014e39736583c165C2963BA99fAf14E'],\n '0xA5407eAE9Ba41422680e2e00537571bcC53efBfD': ['0xA90996896660DEcC6E997655E065b23788857849',\n  '0xC25a3A3b969415c80451098fa907EC722572917F'],\n '0x52EA46506B9CC5Ef470C5bf89f17Dc28bB35D85C': ['0xBC89cd85491d81C6AD2954E6d0362Ee29fCa8F53',\n  '0x9fC689CCaDa600B6DF723D9E47D84d76664a1F23'],\n '0x45F783CCE6B7FF23B2ab2D70e416cdb7D6055f51': ['0xFA712EE4788C042e2B7BB55E6cb8ec569C4530c1',\n  '0xdF5e0e81Dff6FAF3A7e52BA697820c5e32D806A8'],\n '0x8038C01A0390a8c547446a0b2c18fc9aEFEcc10c': ['0xAEA6c312f4b3E04D752946d329693F7293bC2e6D',\n  '0x3a664Ab939FD8482048609f652f9a0B0677337B9'],\n '0x4f062658EaAF2C1ccf8C8e36D6824CDf41167956': ['0xC5cfaDA84E902aD92DD40194f0883ad49639b023',\n  '0xD2967f45c4f384DEEa880F807Be904762a3DeA07'],\n '0x3eF6A01A0f81D6046290f3e2A8c5b843e738E604': ['0x2db0E83599a91b508Ac268a6197b8B14F5e72840',\n  '0x5B5CFE992AdAC0C9D48E05854B2d91C73a003858'],\n '0xE7a24EF0C5e95Ffb0f6684b813A78F2a3AD7D171': ['0x0000000000000000000000000000000000000000',\n  '0x6D65b498cb23deAba52db31c93Da9BFFb340FB8F'],\n '0x8474DdbE98F5aA3179B3B3F5942D724aFcdec9f6': ['0x5f626c30EC1215f4EdCc9982265E8b1F411D1352',\n  '0x1AEf73d49Dedc4b1778d0706583995958Dc862e6'],\n '0xC18cC39da8b11dA8c3541C598eE022258F9744da': ['0x4dC4A289a8E33600D8bD4cf5F6313E43a37adec7',\n  '0xC2Ee6b0334C261ED60C72f6054450b61B8f18E35'],\n '0x3E01dD8a5E1fb3481F0F589056b428Fc308AF0Fb': ['0xC2b1DF84112619D190193E48148000e3990Bf627',\n  '0x97E2768e8E73511cA874545DC5Ff8067eB19B787'],\n '0x0f9cb53Ebe405d49A0bbdBD291A65Ff571bC83e1': ['0xF98450B5602fa59CC66e1379DFfB6FDDc724CfC4',\n  '0x4f3E8F405CF5aFC05D68142F3783bDfE13811522'],\n '0x42d7025938bEc20B69cBae5A77421082407f053A': ['0x055be5DDB7A925BfEF3417FC157f53CA77cA7222',\n  '0x7Eb40E450b9655f4B3cC4259BCC731c63ff55ae6'],\n '0x890f4e345B1dAED0367A877a1612f86A1f86985f': ['0x3B7020743Bc2A4ca9EaF9D0722d42E20d6935855',\n  '0x94e131324b6054c0D789b190b2dAC504e4361b53'],\n '0x071c661B4DeefB59E2a3DdB20Db036821eeE8F4b': ['0xdFc7AdFa664b08767b735dE28f9E84cd30492aeE',\n  '0x410e3E86ef427e30B9235497143881f717d93c2A'],\n '0xd81dA8D904b52208541Bade1bD6595D8a251F8dd': ['0x11137B10C210b579405c21A07489e28F3c040AB1',\n  '0x2fE94ea3d5d4a175184081439753DE15AeF9d614'],\n '0x7F55DDe206dbAD629C080068923b36fe9D6bDBeF': ['0xd7d147c6Bb90A718c3De8C0568F9B560C79fa416',\n  '0xDE5331AC4B3630f94853Ff322B66407e0D6331E8'],\n '0xC25099792E9349C7DD09759744ea681C7de2cb66': ['0x6828bcF74279eE32f2723eC536c22c51Eed383C6',\n  '0x64eda51d3Ad40D56b9dFc5554E06F94e1Dd786Fd'],\n '0xEcd5e75AFb02eFa118AF914515D6521aaBd189F1': ['0x359FD5d6417aE3D8D6497d9B2e7A890798262BA4',\n  '0xEcd5e75AFb02eFa118AF914515D6521aaBd189F1'],\n '0xEd279fDD11cA84bEef15AF5D39BB4d4bEE23F0cA': ['0x9B8519A9a00100720CCdC8a120fBeD319cA47a14',\n  '0xEd279fDD11cA84bEef15AF5D39BB4d4bEE23F0cA'],\n '0xd632f22692FaC7611d2AA1C0D552930D43CAEd3B': ['0x72E158d38dbd50A483501c24f792bDAAA3e7D55C',\n  '0xd632f22692FaC7611d2AA1C0D552930D43CAEd3B'],\n '0x4807862AA8b2bF68830e4C8dc86D0e9A998e085a': ['0xd4B22fEdcA85E684919955061fDf353b9d38389b',\n  '0x4807862AA8b2bF68830e4C8dc86D0e9A998e085a'],\n '0xF9440930043eb3997fc70e1339dBb11F341de7A8': ['0x824F13f1a2F29cFEEa81154b46C0fc820677A637',\n  '0x53a901d48795C58f485cBB38df08FA96a24669D5'],\n '0x43b4FdFD4Ff969587185cDB6f0BD875c5Fc83f8c': ['0x9582C4ADACB3BCE56Fea3e590F05c3ca2fb9C477',\n  '0x43b4FdFD4Ff969587185cDB6f0BD875c5Fc83f8c'],\n '0x80466c64868E1ab14a1Ddf27A676C3fcBE638Fe5': ['0x6955a55416a06839309018A8B0cB72c4DDC11f15',\n  '0xcA3d75aC011BF5aD07a98d02f18225F9bD9A6BDF'],\n '0xD51a44d3FaE010294C616388b506AcdA1bfAAE46': ['0xDeFd8FdD20e0f34115C7018CCfb655796F6B2168',\n  '0xc4AD29ba4B3c580e6D59105FFf484999997675Ff'],\n '0x5a6A4D54456819380173272A5E8E9B9904BdF41B': ['0xd8b712d29381748dB89c36BCa0138d7c75866ddF',\n  '0x5a6A4D54456819380173272A5E8E9B9904BdF41B'],\n '0xFD5dB7463a3aB53fD211b4af195c5BCCC1A03890': ['0xe8060Ad8971450E624d5289A10017dD30F5dA85F',\n  '0xFD5dB7463a3aB53fD211b4af195c5BCCC1A03890']}"
     },
     "execution_count": 26,
     "metadata": {},
     "output_type": "execute_result"
    }
   ],
   "source": [
    "pool_count = ethereum_registry_contract.pool_count()\n",
    "eth_pools_and_gauges = {}\n",
    "for pool_id in range(pool_count):\n",
    "\n",
    "    pool_addr = ethereum_registry_contract.pool_list(pool_id)\n",
    "    gauge_addr = ethereum_registry_contract.get_gauges(pool_addr)\n",
    "    lp_token_addr = ethereum_registry_contract.get_lp_token(pool_addr)\n",
    "\n",
    "    eth_pools_and_gauges[pool_addr] = [gauge_addr[0][0], lp_token_addr]\n",
    "\n",
    "eth_pools_and_gauges"
   ],
   "metadata": {
    "collapsed": false,
    "pycharm": {
     "name": "#%%\n"
    }
   }
  },
  {
   "cell_type": "markdown",
   "source": [
    "# CRV emissions per pool:\n",
    "\n",
    "Convex subgraph."
   ],
   "metadata": {
    "collapsed": false
   }
  },
  {
   "cell_type": "code",
   "execution_count": 5,
   "outputs": [],
   "source": [
    "crv_emissions_subgraph = \"https://api.thegraph.com/subgraphs/name/convex-community/crv-emissions\""
   ],
   "metadata": {
    "collapsed": false,
    "pycharm": {
     "name": "#%%\n"
    }
   }
  },
  {
   "cell_type": "code",
   "execution_count": 30,
   "outputs": [],
   "source": [
    "gauge_addr = \"0x64e3c23bfc40722d3b649844055f1d51c1ac041d\""
   ],
   "metadata": {
    "collapsed": false,
    "pycharm": {
     "name": "#%%\n"
    }
   }
  },
  {
   "cell_type": "code",
   "execution_count": 31,
   "outputs": [],
   "source": [
    "def get_query(gauge_addr: str):\n",
    "\n",
    "    return f'''\n",
    "            {{\n",
    "              dailyEmissionSnapshots(\n",
    "                  where: {{gauge: \"{gauge_addr}\"}}\n",
    "              ) {{\n",
    "                    id\n",
    "                    crvMinted\n",
    "                    gauge\n",
    "                    timestamp\n",
    "              }}\n",
    "            }}\n",
    "            '''"
   ],
   "metadata": {
    "collapsed": false,
    "pycharm": {
     "name": "#%%\n"
    }
   }
  },
  {
   "cell_type": "code",
   "execution_count": 35,
   "outputs": [
    {
     "name": "stdout",
     "output_type": "stream",
     "text": [
      "\n",
      "            {\n",
      "              dailyEmissionSnapshots(\n",
      "                  where: {gauge: \"0x64e3c23bfc40722d3b649844055f1d51c1ac041d\"}\n",
      "              ) {\n",
      "                    id\n",
      "                    crvMinted\n",
      "                    gauge\n",
      "                    timestamp\n",
      "              }\n",
      "            }\n",
      "            \n"
     ]
    }
   ],
   "source": [
    "print(get_query(gauge_addr))"
   ],
   "metadata": {
    "collapsed": false,
    "pycharm": {
     "name": "#%%\n"
    }
   }
  },
  {
   "cell_type": "code",
   "execution_count": 34,
   "outputs": [
    {
     "data": {
      "text/plain": "{'dailyEmissionSnapshots': [{'crvMinted': '2255604506145609220',\n   'gauge': '0x64e3c23bfc40722d3b649844055f1d51c1ac041d',\n   'id': '1597276800-0x64e3c23bfc40722d3b649844055f1d51c1ac041d',\n   'timestamp': '1597276800'},\n  {'crvMinted': '189445820646429517425',\n   'gauge': '0x64e3c23bfc40722d3b649844055f1d51c1ac041d',\n   'id': '1597363200-0x64e3c23bfc40722d3b649844055f1d51c1ac041d',\n   'timestamp': '1597363200'},\n  {'crvMinted': '298543859417264715645',\n   'gauge': '0x64e3c23bfc40722d3b649844055f1d51c1ac041d',\n   'id': '1597449600-0x64e3c23bfc40722d3b649844055f1d51c1ac041d',\n   'timestamp': '1597449600'},\n  {'crvMinted': '343162393326241531393',\n   'gauge': '0x64e3c23bfc40722d3b649844055f1d51c1ac041d',\n   'id': '1597536000-0x64e3c23bfc40722d3b649844055f1d51c1ac041d',\n   'timestamp': '1597536000'},\n  {'crvMinted': '604463371288425719806',\n   'gauge': '0x64e3c23bfc40722d3b649844055f1d51c1ac041d',\n   'id': '1597622400-0x64e3c23bfc40722d3b649844055f1d51c1ac041d',\n   'timestamp': '1597622400'},\n  {'crvMinted': '192895249686849987797',\n   'gauge': '0x64e3c23bfc40722d3b649844055f1d51c1ac041d',\n   'id': '1597708800-0x64e3c23bfc40722d3b649844055f1d51c1ac041d',\n   'timestamp': '1597708800'},\n  {'crvMinted': '318948646248027624284',\n   'gauge': '0x64e3c23bfc40722d3b649844055f1d51c1ac041d',\n   'id': '1597795200-0x64e3c23bfc40722d3b649844055f1d51c1ac041d',\n   'timestamp': '1597795200'},\n  {'crvMinted': '121838886707748003972',\n   'gauge': '0x64e3c23bfc40722d3b649844055f1d51c1ac041d',\n   'id': '1597881600-0x64e3c23bfc40722d3b649844055f1d51c1ac041d',\n   'timestamp': '1597881600'},\n  {'crvMinted': '71638014226592955434',\n   'gauge': '0x64e3c23bfc40722d3b649844055f1d51c1ac041d',\n   'id': '1597968000-0x64e3c23bfc40722d3b649844055f1d51c1ac041d',\n   'timestamp': '1597968000'},\n  {'crvMinted': '614293224248354919838',\n   'gauge': '0x64e3c23bfc40722d3b649844055f1d51c1ac041d',\n   'id': '1598054400-0x64e3c23bfc40722d3b649844055f1d51c1ac041d',\n   'timestamp': '1598054400'},\n  {'crvMinted': '325365542040696602175',\n   'gauge': '0x64e3c23bfc40722d3b649844055f1d51c1ac041d',\n   'id': '1598140800-0x64e3c23bfc40722d3b649844055f1d51c1ac041d',\n   'timestamp': '1598140800'},\n  {'crvMinted': '716909701886945485411',\n   'gauge': '0x64e3c23bfc40722d3b649844055f1d51c1ac041d',\n   'id': '1598227200-0x64e3c23bfc40722d3b649844055f1d51c1ac041d',\n   'timestamp': '1598227200'},\n  {'crvMinted': '801040777133016987927',\n   'gauge': '0x64e3c23bfc40722d3b649844055f1d51c1ac041d',\n   'id': '1598313600-0x64e3c23bfc40722d3b649844055f1d51c1ac041d',\n   'timestamp': '1598313600'},\n  {'crvMinted': '972553618237912074130',\n   'gauge': '0x64e3c23bfc40722d3b649844055f1d51c1ac041d',\n   'id': '1598400000-0x64e3c23bfc40722d3b649844055f1d51c1ac041d',\n   'timestamp': '1598400000'},\n  {'crvMinted': '42783171837153389337008',\n   'gauge': '0x64e3c23bfc40722d3b649844055f1d51c1ac041d',\n   'id': '1598486400-0x64e3c23bfc40722d3b649844055f1d51c1ac041d',\n   'timestamp': '1598486400'},\n  {'crvMinted': '109161305705957894350762',\n   'gauge': '0x64e3c23bfc40722d3b649844055f1d51c1ac041d',\n   'id': '1598572800-0x64e3c23bfc40722d3b649844055f1d51c1ac041d',\n   'timestamp': '1598572800'},\n  {'crvMinted': '161377222875649403869445',\n   'gauge': '0x64e3c23bfc40722d3b649844055f1d51c1ac041d',\n   'id': '1598659200-0x64e3c23bfc40722d3b649844055f1d51c1ac041d',\n   'timestamp': '1598659200'},\n  {'crvMinted': '145163461416987009081744',\n   'gauge': '0x64e3c23bfc40722d3b649844055f1d51c1ac041d',\n   'id': '1598745600-0x64e3c23bfc40722d3b649844055f1d51c1ac041d',\n   'timestamp': '1598745600'},\n  {'crvMinted': '222312898283385212122837',\n   'gauge': '0x64e3c23bfc40722d3b649844055f1d51c1ac041d',\n   'id': '1598832000-0x64e3c23bfc40722d3b649844055f1d51c1ac041d',\n   'timestamp': '1598832000'},\n  {'crvMinted': '155945544593025545667969',\n   'gauge': '0x64e3c23bfc40722d3b649844055f1d51c1ac041d',\n   'id': '1598918400-0x64e3c23bfc40722d3b649844055f1d51c1ac041d',\n   'timestamp': '1598918400'},\n  {'crvMinted': '270221397251775128689126',\n   'gauge': '0x64e3c23bfc40722d3b649844055f1d51c1ac041d',\n   'id': '1599004800-0x64e3c23bfc40722d3b649844055f1d51c1ac041d',\n   'timestamp': '1599004800'},\n  {'crvMinted': '174281536294913758399798',\n   'gauge': '0x64e3c23bfc40722d3b649844055f1d51c1ac041d',\n   'id': '1599091200-0x64e3c23bfc40722d3b649844055f1d51c1ac041d',\n   'timestamp': '1599091200'},\n  {'crvMinted': '324991160740184768676455',\n   'gauge': '0x64e3c23bfc40722d3b649844055f1d51c1ac041d',\n   'id': '1599177600-0x64e3c23bfc40722d3b649844055f1d51c1ac041d',\n   'timestamp': '1599177600'},\n  {'crvMinted': '148733339971368464458243',\n   'gauge': '0x64e3c23bfc40722d3b649844055f1d51c1ac041d',\n   'id': '1599264000-0x64e3c23bfc40722d3b649844055f1d51c1ac041d',\n   'timestamp': '1599264000'},\n  {'crvMinted': '160890822076615054535783',\n   'gauge': '0x64e3c23bfc40722d3b649844055f1d51c1ac041d',\n   'id': '1599350400-0x64e3c23bfc40722d3b649844055f1d51c1ac041d',\n   'timestamp': '1599350400'},\n  {'crvMinted': '292265657809658746951841',\n   'gauge': '0x64e3c23bfc40722d3b649844055f1d51c1ac041d',\n   'id': '1599436800-0x64e3c23bfc40722d3b649844055f1d51c1ac041d',\n   'timestamp': '1599436800'},\n  {'crvMinted': '288925631187925836686257',\n   'gauge': '0x64e3c23bfc40722d3b649844055f1d51c1ac041d',\n   'id': '1599523200-0x64e3c23bfc40722d3b649844055f1d51c1ac041d',\n   'timestamp': '1599523200'},\n  {'crvMinted': '411888146729366422341471',\n   'gauge': '0x64e3c23bfc40722d3b649844055f1d51c1ac041d',\n   'id': '1599609600-0x64e3c23bfc40722d3b649844055f1d51c1ac041d',\n   'timestamp': '1599609600'},\n  {'crvMinted': '316699500911493540064338',\n   'gauge': '0x64e3c23bfc40722d3b649844055f1d51c1ac041d',\n   'id': '1599696000-0x64e3c23bfc40722d3b649844055f1d51c1ac041d',\n   'timestamp': '1599696000'},\n  {'crvMinted': '194829402186641972109281',\n   'gauge': '0x64e3c23bfc40722d3b649844055f1d51c1ac041d',\n   'id': '1599782400-0x64e3c23bfc40722d3b649844055f1d51c1ac041d',\n   'timestamp': '1599782400'},\n  {'crvMinted': '457148825410356900344044',\n   'gauge': '0x64e3c23bfc40722d3b649844055f1d51c1ac041d',\n   'id': '1599868800-0x64e3c23bfc40722d3b649844055f1d51c1ac041d',\n   'timestamp': '1599868800'},\n  {'crvMinted': '367219566922239501704114',\n   'gauge': '0x64e3c23bfc40722d3b649844055f1d51c1ac041d',\n   'id': '1599955200-0x64e3c23bfc40722d3b649844055f1d51c1ac041d',\n   'timestamp': '1599955200'},\n  {'crvMinted': '60286328091985742110676',\n   'gauge': '0x64e3c23bfc40722d3b649844055f1d51c1ac041d',\n   'id': '1600041600-0x64e3c23bfc40722d3b649844055f1d51c1ac041d',\n   'timestamp': '1600041600'},\n  {'crvMinted': '341910705773821653372172',\n   'gauge': '0x64e3c23bfc40722d3b649844055f1d51c1ac041d',\n   'id': '1600128000-0x64e3c23bfc40722d3b649844055f1d51c1ac041d',\n   'timestamp': '1600128000'},\n  {'crvMinted': '11662118761186138766588',\n   'gauge': '0x64e3c23bfc40722d3b649844055f1d51c1ac041d',\n   'id': '1600214400-0x64e3c23bfc40722d3b649844055f1d51c1ac041d',\n   'timestamp': '1600214400'},\n  {'crvMinted': '151826963232322751510750',\n   'gauge': '0x64e3c23bfc40722d3b649844055f1d51c1ac041d',\n   'id': '1600300800-0x64e3c23bfc40722d3b649844055f1d51c1ac041d',\n   'timestamp': '1600300800'},\n  {'crvMinted': '15326383634729979637487',\n   'gauge': '0x64e3c23bfc40722d3b649844055f1d51c1ac041d',\n   'id': '1600387200-0x64e3c23bfc40722d3b649844055f1d51c1ac041d',\n   'timestamp': '1600387200'},\n  {'crvMinted': '204324959329117228276799',\n   'gauge': '0x64e3c23bfc40722d3b649844055f1d51c1ac041d',\n   'id': '1600473600-0x64e3c23bfc40722d3b649844055f1d51c1ac041d',\n   'timestamp': '1600473600'},\n  {'crvMinted': '20150659582516478111195',\n   'gauge': '0x64e3c23bfc40722d3b649844055f1d51c1ac041d',\n   'id': '1600560000-0x64e3c23bfc40722d3b649844055f1d51c1ac041d',\n   'timestamp': '1600560000'},\n  {'crvMinted': '123564352583372430386614',\n   'gauge': '0x64e3c23bfc40722d3b649844055f1d51c1ac041d',\n   'id': '1600646400-0x64e3c23bfc40722d3b649844055f1d51c1ac041d',\n   'timestamp': '1600646400'},\n  {'crvMinted': '1048390943764849883797',\n   'gauge': '0x64e3c23bfc40722d3b649844055f1d51c1ac041d',\n   'id': '1600732800-0x64e3c23bfc40722d3b649844055f1d51c1ac041d',\n   'timestamp': '1600732800'},\n  {'crvMinted': '161731826194209887445814',\n   'gauge': '0x64e3c23bfc40722d3b649844055f1d51c1ac041d',\n   'id': '1600819200-0x64e3c23bfc40722d3b649844055f1d51c1ac041d',\n   'timestamp': '1600819200'},\n  {'crvMinted': '17129769415027651485431',\n   'gauge': '0x64e3c23bfc40722d3b649844055f1d51c1ac041d',\n   'id': '1600905600-0x64e3c23bfc40722d3b649844055f1d51c1ac041d',\n   'timestamp': '1600905600'},\n  {'crvMinted': '30360076131102922949684',\n   'gauge': '0x64e3c23bfc40722d3b649844055f1d51c1ac041d',\n   'id': '1600992000-0x64e3c23bfc40722d3b649844055f1d51c1ac041d',\n   'timestamp': '1600992000'},\n  {'crvMinted': '165106365363533171310777',\n   'gauge': '0x64e3c23bfc40722d3b649844055f1d51c1ac041d',\n   'id': '1601078400-0x64e3c23bfc40722d3b649844055f1d51c1ac041d',\n   'timestamp': '1601078400'},\n  {'crvMinted': '18941782826818765496422',\n   'gauge': '0x64e3c23bfc40722d3b649844055f1d51c1ac041d',\n   'id': '1601164800-0x64e3c23bfc40722d3b649844055f1d51c1ac041d',\n   'timestamp': '1601164800'},\n  {'crvMinted': '193373215094584262729724',\n   'gauge': '0x64e3c23bfc40722d3b649844055f1d51c1ac041d',\n   'id': '1601251200-0x64e3c23bfc40722d3b649844055f1d51c1ac041d',\n   'timestamp': '1601251200'},\n  {'crvMinted': '35827644689562985965287',\n   'gauge': '0x64e3c23bfc40722d3b649844055f1d51c1ac041d',\n   'id': '1601337600-0x64e3c23bfc40722d3b649844055f1d51c1ac041d',\n   'timestamp': '1601337600'},\n  {'crvMinted': '30637429967631159365801',\n   'gauge': '0x64e3c23bfc40722d3b649844055f1d51c1ac041d',\n   'id': '1601424000-0x64e3c23bfc40722d3b649844055f1d51c1ac041d',\n   'timestamp': '1601424000'},\n  {'crvMinted': '43833019440361055573820',\n   'gauge': '0x64e3c23bfc40722d3b649844055f1d51c1ac041d',\n   'id': '1601510400-0x64e3c23bfc40722d3b649844055f1d51c1ac041d',\n   'timestamp': '1601510400'},\n  {'crvMinted': '21659877992040655343227',\n   'gauge': '0x64e3c23bfc40722d3b649844055f1d51c1ac041d',\n   'id': '1601596800-0x64e3c23bfc40722d3b649844055f1d51c1ac041d',\n   'timestamp': '1601596800'},\n  {'crvMinted': '91686750875684222838917',\n   'gauge': '0x64e3c23bfc40722d3b649844055f1d51c1ac041d',\n   'id': '1601683200-0x64e3c23bfc40722d3b649844055f1d51c1ac041d',\n   'timestamp': '1601683200'},\n  {'crvMinted': '45337118196984776960587',\n   'gauge': '0x64e3c23bfc40722d3b649844055f1d51c1ac041d',\n   'id': '1601769600-0x64e3c23bfc40722d3b649844055f1d51c1ac041d',\n   'timestamp': '1601769600'},\n  {'crvMinted': '86840312314574898892593',\n   'gauge': '0x64e3c23bfc40722d3b649844055f1d51c1ac041d',\n   'id': '1601856000-0x64e3c23bfc40722d3b649844055f1d51c1ac041d',\n   'timestamp': '1601856000'},\n  {'crvMinted': '59267734703308293590088',\n   'gauge': '0x64e3c23bfc40722d3b649844055f1d51c1ac041d',\n   'id': '1601942400-0x64e3c23bfc40722d3b649844055f1d51c1ac041d',\n   'timestamp': '1601942400'},\n  {'crvMinted': '39673864396090306910077',\n   'gauge': '0x64e3c23bfc40722d3b649844055f1d51c1ac041d',\n   'id': '1602028800-0x64e3c23bfc40722d3b649844055f1d51c1ac041d',\n   'timestamp': '1602028800'},\n  {'crvMinted': '57334649118170977049830',\n   'gauge': '0x64e3c23bfc40722d3b649844055f1d51c1ac041d',\n   'id': '1602115200-0x64e3c23bfc40722d3b649844055f1d51c1ac041d',\n   'timestamp': '1602115200'},\n  {'crvMinted': '27198898731979947800091',\n   'gauge': '0x64e3c23bfc40722d3b649844055f1d51c1ac041d',\n   'id': '1602201600-0x64e3c23bfc40722d3b649844055f1d51c1ac041d',\n   'timestamp': '1602201600'},\n  {'crvMinted': '24109488552985350582209',\n   'gauge': '0x64e3c23bfc40722d3b649844055f1d51c1ac041d',\n   'id': '1602288000-0x64e3c23bfc40722d3b649844055f1d51c1ac041d',\n   'timestamp': '1602288000'},\n  {'crvMinted': '12952848231306799037072',\n   'gauge': '0x64e3c23bfc40722d3b649844055f1d51c1ac041d',\n   'id': '1602374400-0x64e3c23bfc40722d3b649844055f1d51c1ac041d',\n   'timestamp': '1602374400'},\n  {'crvMinted': '68494974427635750852436',\n   'gauge': '0x64e3c23bfc40722d3b649844055f1d51c1ac041d',\n   'id': '1602460800-0x64e3c23bfc40722d3b649844055f1d51c1ac041d',\n   'timestamp': '1602460800'},\n  {'crvMinted': '3034549401231901284674',\n   'gauge': '0x64e3c23bfc40722d3b649844055f1d51c1ac041d',\n   'id': '1602547200-0x64e3c23bfc40722d3b649844055f1d51c1ac041d',\n   'timestamp': '1602547200'},\n  {'crvMinted': '41749718778655924791946',\n   'gauge': '0x64e3c23bfc40722d3b649844055f1d51c1ac041d',\n   'id': '1602633600-0x64e3c23bfc40722d3b649844055f1d51c1ac041d',\n   'timestamp': '1602633600'},\n  {'crvMinted': '47502040218399247779914',\n   'gauge': '0x64e3c23bfc40722d3b649844055f1d51c1ac041d',\n   'id': '1602720000-0x64e3c23bfc40722d3b649844055f1d51c1ac041d',\n   'timestamp': '1602720000'},\n  {'crvMinted': '51216735499335770751090',\n   'gauge': '0x64e3c23bfc40722d3b649844055f1d51c1ac041d',\n   'id': '1602806400-0x64e3c23bfc40722d3b649844055f1d51c1ac041d',\n   'timestamp': '1602806400'},\n  {'crvMinted': '11519811605735140574774',\n   'gauge': '0x64e3c23bfc40722d3b649844055f1d51c1ac041d',\n   'id': '1602892800-0x64e3c23bfc40722d3b649844055f1d51c1ac041d',\n   'timestamp': '1602892800'},\n  {'crvMinted': '9785009059025210509266',\n   'gauge': '0x64e3c23bfc40722d3b649844055f1d51c1ac041d',\n   'id': '1602979200-0x64e3c23bfc40722d3b649844055f1d51c1ac041d',\n   'timestamp': '1602979200'},\n  {'crvMinted': '57895377414319403076846',\n   'gauge': '0x64e3c23bfc40722d3b649844055f1d51c1ac041d',\n   'id': '1603065600-0x64e3c23bfc40722d3b649844055f1d51c1ac041d',\n   'timestamp': '1603065600'},\n  {'crvMinted': '23364737742921950517737',\n   'gauge': '0x64e3c23bfc40722d3b649844055f1d51c1ac041d',\n   'id': '1603152000-0x64e3c23bfc40722d3b649844055f1d51c1ac041d',\n   'timestamp': '1603152000'},\n  {'crvMinted': '89014317890748894919820',\n   'gauge': '0x64e3c23bfc40722d3b649844055f1d51c1ac041d',\n   'id': '1603238400-0x64e3c23bfc40722d3b649844055f1d51c1ac041d',\n   'timestamp': '1603238400'},\n  {'crvMinted': '8827567855613380466631',\n   'gauge': '0x64e3c23bfc40722d3b649844055f1d51c1ac041d',\n   'id': '1603324800-0x64e3c23bfc40722d3b649844055f1d51c1ac041d',\n   'timestamp': '1603324800'},\n  {'crvMinted': '49316551291957278231049',\n   'gauge': '0x64e3c23bfc40722d3b649844055f1d51c1ac041d',\n   'id': '1603411200-0x64e3c23bfc40722d3b649844055f1d51c1ac041d',\n   'timestamp': '1603411200'},\n  {'crvMinted': '21634367775488237563350',\n   'gauge': '0x64e3c23bfc40722d3b649844055f1d51c1ac041d',\n   'id': '1603497600-0x64e3c23bfc40722d3b649844055f1d51c1ac041d',\n   'timestamp': '1603497600'},\n  {'crvMinted': '54117612647758170044879',\n   'gauge': '0x64e3c23bfc40722d3b649844055f1d51c1ac041d',\n   'id': '1603584000-0x64e3c23bfc40722d3b649844055f1d51c1ac041d',\n   'timestamp': '1603584000'},\n  {'crvMinted': '23837288870797085944123',\n   'gauge': '0x64e3c23bfc40722d3b649844055f1d51c1ac041d',\n   'id': '1603670400-0x64e3c23bfc40722d3b649844055f1d51c1ac041d',\n   'timestamp': '1603670400'},\n  {'crvMinted': '65852126160015315992855',\n   'gauge': '0x64e3c23bfc40722d3b649844055f1d51c1ac041d',\n   'id': '1603756800-0x64e3c23bfc40722d3b649844055f1d51c1ac041d',\n   'timestamp': '1603756800'},\n  {'crvMinted': '12621679631869224308634',\n   'gauge': '0x64e3c23bfc40722d3b649844055f1d51c1ac041d',\n   'id': '1603843200-0x64e3c23bfc40722d3b649844055f1d51c1ac041d',\n   'timestamp': '1603843200'},\n  {'crvMinted': '115644070729780196325042',\n   'gauge': '0x64e3c23bfc40722d3b649844055f1d51c1ac041d',\n   'id': '1603929600-0x64e3c23bfc40722d3b649844055f1d51c1ac041d',\n   'timestamp': '1603929600'},\n  {'crvMinted': '13933052740605709512963',\n   'gauge': '0x64e3c23bfc40722d3b649844055f1d51c1ac041d',\n   'id': '1604016000-0x64e3c23bfc40722d3b649844055f1d51c1ac041d',\n   'timestamp': '1604016000'},\n  {'crvMinted': '10247610574937530568098',\n   'gauge': '0x64e3c23bfc40722d3b649844055f1d51c1ac041d',\n   'id': '1604102400-0x64e3c23bfc40722d3b649844055f1d51c1ac041d',\n   'timestamp': '1604102400'},\n  {'crvMinted': '8111631725433872666393',\n   'gauge': '0x64e3c23bfc40722d3b649844055f1d51c1ac041d',\n   'id': '1604188800-0x64e3c23bfc40722d3b649844055f1d51c1ac041d',\n   'timestamp': '1604188800'},\n  {'crvMinted': '78617088377475478224108',\n   'gauge': '0x64e3c23bfc40722d3b649844055f1d51c1ac041d',\n   'id': '1604275200-0x64e3c23bfc40722d3b649844055f1d51c1ac041d',\n   'timestamp': '1604275200'},\n  {'crvMinted': '38854046252808004961997',\n   'gauge': '0x64e3c23bfc40722d3b649844055f1d51c1ac041d',\n   'id': '1604361600-0x64e3c23bfc40722d3b649844055f1d51c1ac041d',\n   'timestamp': '1604361600'},\n  {'crvMinted': '68454819891420450888963',\n   'gauge': '0x64e3c23bfc40722d3b649844055f1d51c1ac041d',\n   'id': '1604448000-0x64e3c23bfc40722d3b649844055f1d51c1ac041d',\n   'timestamp': '1604448000'},\n  {'crvMinted': '9293428653524476108874',\n   'gauge': '0x64e3c23bfc40722d3b649844055f1d51c1ac041d',\n   'id': '1604534400-0x64e3c23bfc40722d3b649844055f1d51c1ac041d',\n   'timestamp': '1604534400'},\n  {'crvMinted': '75995320868856247818699',\n   'gauge': '0x64e3c23bfc40722d3b649844055f1d51c1ac041d',\n   'id': '1604620800-0x64e3c23bfc40722d3b649844055f1d51c1ac041d',\n   'timestamp': '1604620800'},\n  {'crvMinted': '8879625948042250584740',\n   'gauge': '0x64e3c23bfc40722d3b649844055f1d51c1ac041d',\n   'id': '1604707200-0x64e3c23bfc40722d3b649844055f1d51c1ac041d',\n   'timestamp': '1604707200'},\n  {'crvMinted': '15501002410044639292082',\n   'gauge': '0x64e3c23bfc40722d3b649844055f1d51c1ac041d',\n   'id': '1604793600-0x64e3c23bfc40722d3b649844055f1d51c1ac041d',\n   'timestamp': '1604793600'},\n  {'crvMinted': '85304735273314064392969',\n   'gauge': '0x64e3c23bfc40722d3b649844055f1d51c1ac041d',\n   'id': '1604880000-0x64e3c23bfc40722d3b649844055f1d51c1ac041d',\n   'timestamp': '1604880000'},\n  {'crvMinted': '26342661182376242779005',\n   'gauge': '0x64e3c23bfc40722d3b649844055f1d51c1ac041d',\n   'id': '1604966400-0x64e3c23bfc40722d3b649844055f1d51c1ac041d',\n   'timestamp': '1604966400'},\n  {'crvMinted': '106085281189106990435887',\n   'gauge': '0x64e3c23bfc40722d3b649844055f1d51c1ac041d',\n   'id': '1605052800-0x64e3c23bfc40722d3b649844055f1d51c1ac041d',\n   'timestamp': '1605052800'},\n  {'crvMinted': '38544606856033784333792',\n   'gauge': '0x64e3c23bfc40722d3b649844055f1d51c1ac041d',\n   'id': '1605139200-0x64e3c23bfc40722d3b649844055f1d51c1ac041d',\n   'timestamp': '1605139200'},\n  {'crvMinted': '113674552207871055391506',\n   'gauge': '0x64e3c23bfc40722d3b649844055f1d51c1ac041d',\n   'id': '1605225600-0x64e3c23bfc40722d3b649844055f1d51c1ac041d',\n   'timestamp': '1605225600'},\n  {'crvMinted': '46789675076431636160014',\n   'gauge': '0x64e3c23bfc40722d3b649844055f1d51c1ac041d',\n   'id': '1605312000-0x64e3c23bfc40722d3b649844055f1d51c1ac041d',\n   'timestamp': '1605312000'},\n  {'crvMinted': '37408900905038808598019',\n   'gauge': '0x64e3c23bfc40722d3b649844055f1d51c1ac041d',\n   'id': '1605398400-0x64e3c23bfc40722d3b649844055f1d51c1ac041d',\n   'timestamp': '1605398400'},\n  {'crvMinted': '114713500471204368755036',\n   'gauge': '0x64e3c23bfc40722d3b649844055f1d51c1ac041d',\n   'id': '1605484800-0x64e3c23bfc40722d3b649844055f1d51c1ac041d',\n   'timestamp': '1605484800'},\n  {'crvMinted': '45212887172888178440405',\n   'gauge': '0x64e3c23bfc40722d3b649844055f1d51c1ac041d',\n   'id': '1605571200-0x64e3c23bfc40722d3b649844055f1d51c1ac041d',\n   'timestamp': '1605571200'},\n  {'crvMinted': '142416917867394568009779',\n   'gauge': '0x64e3c23bfc40722d3b649844055f1d51c1ac041d',\n   'id': '1605657600-0x64e3c23bfc40722d3b649844055f1d51c1ac041d',\n   'timestamp': '1605657600'},\n  {'crvMinted': '26489664123098784214449',\n   'gauge': '0x64e3c23bfc40722d3b649844055f1d51c1ac041d',\n   'id': '1605744000-0x64e3c23bfc40722d3b649844055f1d51c1ac041d',\n   'timestamp': '1605744000'},\n  {'crvMinted': '140224816759544281564304',\n   'gauge': '0x64e3c23bfc40722d3b649844055f1d51c1ac041d',\n   'id': '1605830400-0x64e3c23bfc40722d3b649844055f1d51c1ac041d',\n   'timestamp': '1605830400'}]}"
     },
     "execution_count": 34,
     "metadata": {},
     "output_type": "execute_result"
    }
   ],
   "source": [
    "r = requests.post(crv_emissions_subgraph, json={'query': get_query(gauge_addr)})\n",
    "proposal_data = dict(r.json())\n",
    "proposal_data['data']"
   ],
   "metadata": {
    "collapsed": false,
    "pycharm": {
     "name": "#%%\n"
    }
   }
  },
  {
   "cell_type": "code",
   "execution_count": 38,
   "outputs": [
    {
     "data": {
      "text/plain": "                   crvMinted                                       gauge  \\\n0        2255604506145609220  0x64e3c23bfc40722d3b649844055f1d51c1ac041d   \n1      189445820646429517425  0x64e3c23bfc40722d3b649844055f1d51c1ac041d   \n2      298543859417264715645  0x64e3c23bfc40722d3b649844055f1d51c1ac041d   \n3      343162393326241531393  0x64e3c23bfc40722d3b649844055f1d51c1ac041d   \n4      604463371288425719806  0x64e3c23bfc40722d3b649844055f1d51c1ac041d   \n..                       ...                                         ...   \n95  114713500471204368755036  0x64e3c23bfc40722d3b649844055f1d51c1ac041d   \n96   45212887172888178440405  0x64e3c23bfc40722d3b649844055f1d51c1ac041d   \n97  142416917867394568009779  0x64e3c23bfc40722d3b649844055f1d51c1ac041d   \n98   26489664123098784214449  0x64e3c23bfc40722d3b649844055f1d51c1ac041d   \n99  140224816759544281564304  0x64e3c23bfc40722d3b649844055f1d51c1ac041d   \n\n     timestamp  \n0   1597276800  \n1   1597363200  \n2   1597449600  \n3   1597536000  \n4   1597622400  \n..         ...  \n95  1605484800  \n96  1605571200  \n97  1605657600  \n98  1605744000  \n99  1605830400  \n\n[100 rows x 3 columns]",
      "text/html": "<div>\n<style scoped>\n    .dataframe tbody tr th:only-of-type {\n        vertical-align: middle;\n    }\n\n    .dataframe tbody tr th {\n        vertical-align: top;\n    }\n\n    .dataframe thead th {\n        text-align: right;\n    }\n</style>\n<table border=\"1\" class=\"dataframe\">\n  <thead>\n    <tr style=\"text-align: right;\">\n      <th></th>\n      <th>crvMinted</th>\n      <th>gauge</th>\n      <th>timestamp</th>\n    </tr>\n  </thead>\n  <tbody>\n    <tr>\n      <th>0</th>\n      <td>2255604506145609220</td>\n      <td>0x64e3c23bfc40722d3b649844055f1d51c1ac041d</td>\n      <td>1597276800</td>\n    </tr>\n    <tr>\n      <th>1</th>\n      <td>189445820646429517425</td>\n      <td>0x64e3c23bfc40722d3b649844055f1d51c1ac041d</td>\n      <td>1597363200</td>\n    </tr>\n    <tr>\n      <th>2</th>\n      <td>298543859417264715645</td>\n      <td>0x64e3c23bfc40722d3b649844055f1d51c1ac041d</td>\n      <td>1597449600</td>\n    </tr>\n    <tr>\n      <th>3</th>\n      <td>343162393326241531393</td>\n      <td>0x64e3c23bfc40722d3b649844055f1d51c1ac041d</td>\n      <td>1597536000</td>\n    </tr>\n    <tr>\n      <th>4</th>\n      <td>604463371288425719806</td>\n      <td>0x64e3c23bfc40722d3b649844055f1d51c1ac041d</td>\n      <td>1597622400</td>\n    </tr>\n    <tr>\n      <th>...</th>\n      <td>...</td>\n      <td>...</td>\n      <td>...</td>\n    </tr>\n    <tr>\n      <th>95</th>\n      <td>114713500471204368755036</td>\n      <td>0x64e3c23bfc40722d3b649844055f1d51c1ac041d</td>\n      <td>1605484800</td>\n    </tr>\n    <tr>\n      <th>96</th>\n      <td>45212887172888178440405</td>\n      <td>0x64e3c23bfc40722d3b649844055f1d51c1ac041d</td>\n      <td>1605571200</td>\n    </tr>\n    <tr>\n      <th>97</th>\n      <td>142416917867394568009779</td>\n      <td>0x64e3c23bfc40722d3b649844055f1d51c1ac041d</td>\n      <td>1605657600</td>\n    </tr>\n    <tr>\n      <th>98</th>\n      <td>26489664123098784214449</td>\n      <td>0x64e3c23bfc40722d3b649844055f1d51c1ac041d</td>\n      <td>1605744000</td>\n    </tr>\n    <tr>\n      <th>99</th>\n      <td>140224816759544281564304</td>\n      <td>0x64e3c23bfc40722d3b649844055f1d51c1ac041d</td>\n      <td>1605830400</td>\n    </tr>\n  </tbody>\n</table>\n<p>100 rows × 3 columns</p>\n</div>"
     },
     "execution_count": 38,
     "metadata": {},
     "output_type": "execute_result"
    }
   ],
   "source": [
    "data = pd.DataFrame(proposal_data['data']['dailyEmissionSnapshots']).drop(columns=['id'])\n",
    "data"
   ],
   "metadata": {
    "collapsed": false,
    "pycharm": {
     "name": "#%%\n"
    }
   }
  },
  {
   "cell_type": "code",
   "execution_count": null,
   "outputs": [],
   "source": [
    "emissions_data = pd.DataFrame()\n",
    "for pool_addr, pool_details in eth_pools_and_gauges.items():\n",
    "\n",
    "    gauge_addr = pool_details[0]\n",
    "    lp_token_addr = pool_details[1]\n",
    "\n",
    "    try:\n",
    "\n",
    "        # get crv emissions:\n",
    "        r = requests.post(crv_emissions_subgraph, json={'query': get_query(gauge_addr)})\n",
    "        proposal_data = dict(r.json())\n",
    "        if 'id' in pool_data.columns:\n",
    "            pool_data = pd.DataFrame(\n",
    "                proposal_data['data']['dailyEmissionSnapshots']\n",
    "            ).drop(columns=['id'])\n",
    "        pool_data.crvMinted = pool_data.crvMinted.astype(float) * 1e-18\n",
    "        pool_data.timestamp = pool_data.timestamp.astype(float)\n",
    "        # join df\n",
    "        emissions_data = pd.concat([emissions_data, pool_data])\n",
    "\n",
    "    except ValueError:\n",
    "\n",
    "        print(pool_data)\n",
    "        break"
   ],
   "metadata": {
    "collapsed": false,
    "pycharm": {
     "name": "#%%\n",
     "is_executing": true
    }
   }
  },
  {
   "cell_type": "code",
   "execution_count": null,
   "outputs": [],
   "source": [
    "emissions_data['measurement_time'] = pd.to_datetime(emissions_data.timestamp, unit='s')\n",
    "emissions_data"
   ],
   "metadata": {
    "collapsed": false,
    "pycharm": {
     "name": "#%%\n"
    }
   }
  },
  {
   "cell_type": "markdown",
   "source": [
    "# veCRV fees per pool per week:"
   ],
   "metadata": {
    "collapsed": false
   }
  },
  {
   "cell_type": "code",
   "execution_count": null,
   "outputs": [],
   "source": [],
   "metadata": {
    "collapsed": false,
    "pycharm": {
     "name": "#%%\n"
    }
   }
  }
 ],
 "metadata": {
  "kernelspec": {
   "display_name": "Python 3",
   "language": "python",
   "name": "python3"
  },
  "language_info": {
   "codemirror_mode": {
    "name": "ipython",
    "version": 2
   },
   "file_extension": ".py",
   "mimetype": "text/x-python",
   "name": "python",
   "nbconvert_exporter": "python",
   "pygments_lexer": "ipython2",
   "version": "2.7.6"
  }
 },
 "nbformat": 4,
 "nbformat_minor": 0
}