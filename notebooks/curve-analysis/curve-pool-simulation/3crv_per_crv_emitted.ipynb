{
 "cells": [
  {
   "cell_type": "markdown",
   "source": [
    "1. Get crv emissions per pool.\n",
    "2. Get fees claimed per pool.\n",
    "3. divide the two to get swap revenue per crv emitted per gauge."
   ],
   "metadata": {
    "collapsed": false
   }
  },
  {
   "cell_type": "code",
   "execution_count": 1,
   "outputs": [],
   "source": [
    "# subgraph querying modules\n",
    "import datetime\n",
    "import calendar"
   ],
   "metadata": {
    "collapsed": false,
    "pycharm": {
     "name": "#%%\n"
    }
   }
  },
  {
   "cell_type": "code",
   "execution_count": 2,
   "outputs": [],
   "source": [
    "# plotting tools\n",
    "import pandas as pd\n",
    "pd.options.mode.chained_assignment = None  # default='warn'"
   ],
   "metadata": {
    "collapsed": false,
    "pycharm": {
     "name": "#%%\n"
    }
   }
  },
  {
   "cell_type": "code",
   "execution_count": 3,
   "outputs": [],
   "source": [
    "# brownie\n",
    "import os\n",
    "import sys\n",
    "sys.path.append(\"../../\")\n",
    "\n",
    "import brownie\n",
    "\n",
    "from utils.contract_utils import init_contract\n",
    "from utils.network_utils import configure_network_and_connect\n",
    "from utils.eth_blocks_utils import get_block_for_timestamp\n"
   ],
   "metadata": {
    "collapsed": false,
    "pycharm": {
     "name": "#%%\n"
    }
   }
  },
  {
   "cell_type": "code",
   "execution_count": 4,
   "outputs": [],
   "source": [
    "ALCHEMY_API_KEY = os.environ['ALCHEMY_API_KEY']\n",
    "configure_network_and_connect(\n",
    "    node_provider_https=f\"https://eth-mainnet.alchemyapi.io/v2/{ALCHEMY_API_KEY}\",\n",
    "    network_name='mainnet'\n",
    ")"
   ],
   "metadata": {
    "collapsed": false,
    "pycharm": {
     "name": "#%%\n"
    }
   }
  },
  {
   "cell_type": "markdown",
   "source": [
    "# Pools and Gauges\n",
    "\n",
    "Get dict of pools (keys) and gauge (value)"
   ],
   "metadata": {
    "collapsed": false
   }
  },
  {
   "cell_type": "code",
   "execution_count": 5,
   "outputs": [
    {
     "name": "stdout",
     "output_type": "stream",
     "text": [
      "  \u001B[0;1;35m@title \u001B[0;mCurve Registry\n",
      "  \u001B[0;1;35m@author \u001B[0;mCurve.Fi\n",
      "\n"
     ]
    }
   ],
   "source": [
    "ethereum_registry_contract = init_contract(\"0x90E00ACe148ca3b23Ac1bC8C240C2a7Dd9c2d7f5\")\n",
    "ethereum_registry_contract.info()"
   ],
   "metadata": {
    "collapsed": false,
    "pycharm": {
     "name": "#%%\n"
    }
   }
  },
  {
   "cell_type": "markdown",
   "source": [
    "Get pools and gauges:"
   ],
   "metadata": {
    "collapsed": false
   }
  },
  {
   "cell_type": "code",
   "execution_count": 6,
   "outputs": [
    {
     "data": {
      "text/plain": "{'0xbEbc44782C7dB0a1A60Cb6fe97d0b483032FF1C7': ['0xbFcF63294aD7105dEa65aA58F8AE5BE2D9d0952A',\n  '0x6c3F90f043a72FA612cbac8115EE7e52BDe6E490',\n  'Curve.fi DAI/USDC/USDT'],\n '0xDeBF20617708857ebe4F679508E7b7863a8A8EeE': ['0xd662908ADA2Ea1916B3318327A97eB18aD588b5d',\n  '0xFd2a8fA60Abd58Efe3EeE34dd494cD491dC14900',\n  'Curve.fi aDAI/aUSDC/aUSDT'],\n '0xA96A65c051bF88B4095Ee1f2451C2A9d43F53Ae2': ['0x6d10ed2cF043E6fcf51A0e7b4C2Af3Fa06695707',\n  '0xaA17A236F2bAdc98DDc0Cf999AbB47D47Fc0A6Cf',\n  'Curve.fi ETH/aETH'],\n '0x79a8C46DeA5aDa233ABaFFD40F3A0A2B1e5A4F27': ['0x69Fb7c45726cfE2baDeE8317005d3F94bE838840',\n  '0x3B3Ac5386837Dc563660FB6a0937DFAa5924333B',\n  'Curve.fi yDAI/yUSDC/yUSDT/yBUSD'],\n '0xA2B47E3D5c44877cca798226B7B8118F9BFb7A56': ['0x7ca5b0a2910B33e9759DC7dDB0413949071D7575',\n  '0x845838DF265Dcd2c412A1Dc9e959c7d08537f8a2',\n  'Curve.fi cDAI/cUSDC'],\n '0x0Ce6a5fF5217e38315f87032CF90686C96627CAA': ['0x90Bb609649E0451E5aD952683D64BD2d1f245840',\n  '0x194eBd173F6cDacE046C53eACcE9B953F28411d1',\n  'Curve.fi EURS/sEUR'],\n '0x4CA9b3063Ec5866A4B82E437059D2C43d1be596F': ['0x4c18E409Dc8619bFb6a1cB56D114C3f592E0aE79',\n  '0xb19059ebb43466C323583928285a49f558E572Fd',\n  'Curve.fi hBTC/wBTC'],\n '0x2dded6Da1BF5DBdF597C45fcFaa3194e53EcfeAF': ['0xF5194c3325202F456c95c1Cf0cA36f8475C1949F',\n  '0x5282a4eF67D9C33135340fB3289cc1711c13638C',\n  'Curve.fi cyDAI/cyUSDC/cyUSDT'],\n '0xF178C0b5Bb7e7aBF4e12A4838C7b7c5bA2C623c0': ['0xFD4D8a17df4C27c1dD245d153ccf4499e806C87D',\n  '0xcee60cFa923170e4f8204AE08B4fA6A3F5656F3a',\n  'Curve.fi LINK/sLINK'],\n '0x06364f10B501e868329afBc005b3492902d6C763': ['0x64E3C23bfc40722d3B649844055F1D51c1ac041d',\n  '0xD905e2eaeBe188fc92179b6350807D8bd91Db0D8',\n  'Curve.fi DAI/USDC/USDT/PAX'],\n '0x93054188d876f558f4a66B2EF1d97d16eDf0895B': ['0xB1F2cdeC61db658F091671F5f199635aEF202CAC',\n  '0x49849C98ae39Fff122806C06791Fa73784FB3675',\n  'Curve.fi renBTC/wBTC'],\n '0xEB16Ae0052ed37f479f7fe63849198Df1765a733': ['0x462253b8F74B72304c145DB0e4Eebd326B22ca39',\n  '0x02d341CcB60fAaf662bC0554d13778015d1b285C',\n  'Curve.fi aDAI/aSUSD'],\n '0x7fC77b5c7614E1533320Ea6DDc2Eb61fa00A9714': ['0x705350c4BcD35c9441419DdD5d2f097d7a55410F',\n  '0x075b1bb99792c9E1041bA13afEf80C91a1e70fB3',\n  'Curve.fi renBTC/wBTC/sBTC'],\n '0xc5424B857f758E906013F3555Dad202e4bdB4567': ['0x3C0FFFF15EA30C35d7A85B85c0782D6c94e1d238',\n  '0xA3D87FffcE63B53E0d54fAa1cc983B7eB0b74A9c',\n  'Curve.fi ETH/sETH'],\n '0xDC24316b9AE028F1497c275EB9192a3Ea0f67022': ['0x182B723a58739a9c974cFDB385ceaDb237453c28',\n  '0x06325440D014e39736583c165C2963BA99fAf14E',\n  'Curve.fi ETH/stETH'],\n '0xA5407eAE9Ba41422680e2e00537571bcC53efBfD': ['0xA90996896660DEcC6E997655E065b23788857849',\n  '0xC25a3A3b969415c80451098fa907EC722572917F',\n  'Curve.fi DAI/USDC/USDT/sUSD'],\n '0x52EA46506B9CC5Ef470C5bf89f17Dc28bB35D85C': ['0xBC89cd85491d81C6AD2954E6d0362Ee29fCa8F53',\n  '0x9fC689CCaDa600B6DF723D9E47D84d76664a1F23',\n  'Curve.fi cDAI/cUSDC/USDT'],\n '0x45F783CCE6B7FF23B2ab2D70e416cdb7D6055f51': ['0xFA712EE4788C042e2B7BB55E6cb8ec569C4530c1',\n  '0xdF5e0e81Dff6FAF3A7e52BA697820c5e32D806A8',\n  'Curve.fi yDAI/yUSDC/yUSDT/yTUSD'],\n '0x8038C01A0390a8c547446a0b2c18fc9aEFEcc10c': ['0xAEA6c312f4b3E04D752946d329693F7293bC2e6D',\n  '0x3a664Ab939FD8482048609f652f9a0B0677337B9',\n  'Curve.fi DUSD/3Crv'],\n '0x4f062658EaAF2C1ccf8C8e36D6824CDf41167956': ['0xC5cfaDA84E902aD92DD40194f0883ad49639b023',\n  '0xD2967f45c4f384DEEa880F807Be904762a3DeA07',\n  'Curve.fi GUSD/3Crv'],\n '0x3eF6A01A0f81D6046290f3e2A8c5b843e738E604': ['0x2db0E83599a91b508Ac268a6197b8B14F5e72840',\n  '0x5B5CFE992AdAC0C9D48E05854B2d91C73a003858',\n  'Curve.fi HUSD/3Crv'],\n '0xE7a24EF0C5e95Ffb0f6684b813A78F2a3AD7D171': ['0x0000000000000000000000000000000000000000',\n  '0x6D65b498cb23deAba52db31c93Da9BFFb340FB8F',\n  'Curve.fi LinkUSD/3Crv'],\n '0x8474DdbE98F5aA3179B3B3F5942D724aFcdec9f6': ['0x5f626c30EC1215f4EdCc9982265E8b1F411D1352',\n  '0x1AEf73d49Dedc4b1778d0706583995958Dc862e6',\n  'Curve.fi MUSD/3Crv'],\n '0xC18cC39da8b11dA8c3541C598eE022258F9744da': ['0x4dC4A289a8E33600D8bD4cf5F6313E43a37adec7',\n  '0xC2Ee6b0334C261ED60C72f6054450b61B8f18E35',\n  'Curve.fi RSV/3Crv'],\n '0x3E01dD8a5E1fb3481F0F589056b428Fc308AF0Fb': ['0xC2b1DF84112619D190193E48148000e3990Bf627',\n  '0x97E2768e8E73511cA874545DC5Ff8067eB19B787',\n  'Curve.fi USDK/3Crv'],\n '0x0f9cb53Ebe405d49A0bbdBD291A65Ff571bC83e1': ['0xF98450B5602fa59CC66e1379DFfB6FDDc724CfC4',\n  '0x4f3E8F405CF5aFC05D68142F3783bDfE13811522',\n  'Curve.fi USDN/3Crv'],\n '0x42d7025938bEc20B69cBae5A77421082407f053A': ['0x055be5DDB7A925BfEF3417FC157f53CA77cA7222',\n  '0x7Eb40E450b9655f4B3cC4259BCC731c63ff55ae6',\n  'Curve.fi USDP/3Crv'],\n '0x890f4e345B1dAED0367A877a1612f86A1f86985f': ['0x3B7020743Bc2A4ca9EaF9D0722d42E20d6935855',\n  '0x94e131324b6054c0D789b190b2dAC504e4361b53',\n  'Curve.fi UST/3Crv'],\n '0x071c661B4DeefB59E2a3DdB20Db036821eeE8F4b': ['0xdFc7AdFa664b08767b735dE28f9E84cd30492aeE',\n  '0x410e3E86ef427e30B9235497143881f717d93c2A',\n  'Curve.fi bBTC/sbtcCRV'],\n '0xd81dA8D904b52208541Bade1bD6595D8a251F8dd': ['0x11137B10C210b579405c21A07489e28F3c040AB1',\n  '0x2fE94ea3d5d4a175184081439753DE15AeF9d614',\n  'Curve.fi oBTC/sbtcCRV'],\n '0x7F55DDe206dbAD629C080068923b36fe9D6bDBeF': ['0xd7d147c6Bb90A718c3De8C0568F9B560C79fa416',\n  '0xDE5331AC4B3630f94853Ff322B66407e0D6331E8',\n  'Curve.fi pBTC/sbtcCRV'],\n '0xC25099792E9349C7DD09759744ea681C7de2cb66': ['0x6828bcF74279eE32f2723eC536c22c51Eed383C6',\n  '0x64eda51d3Ad40D56b9dFc5554E06F94e1Dd786Fd',\n  'Curve.fi tBTC/sbtcCrv'],\n '0xEcd5e75AFb02eFa118AF914515D6521aaBd189F1': ['0x359FD5d6417aE3D8D6497d9B2e7A890798262BA4',\n  '0xEcd5e75AFb02eFa118AF914515D6521aaBd189F1',\n  'Curve.fi Factory USD Metapool: TrueUSD'],\n '0xEd279fDD11cA84bEef15AF5D39BB4d4bEE23F0cA': ['0x9B8519A9a00100720CCdC8a120fBeD319cA47a14',\n  '0xEd279fDD11cA84bEef15AF5D39BB4d4bEE23F0cA',\n  'Curve.fi Factory USD Metapool: Liquity'],\n '0xd632f22692FaC7611d2AA1C0D552930D43CAEd3B': ['0x72E158d38dbd50A483501c24f792bDAAA3e7D55C',\n  '0xd632f22692FaC7611d2AA1C0D552930D43CAEd3B',\n  'Curve.fi Factory USD Metapool: Frax'],\n '0x4807862AA8b2bF68830e4C8dc86D0e9A998e085a': ['0xd4B22fEdcA85E684919955061fDf353b9d38389b',\n  '0x4807862AA8b2bF68830e4C8dc86D0e9A998e085a',\n  'Curve.fi Factory USD Metapool: Binance USD'],\n '0xF9440930043eb3997fc70e1339dBb11F341de7A8': ['0x824F13f1a2F29cFEEa81154b46C0fc820677A637',\n  '0x53a901d48795C58f485cBB38df08FA96a24669D5',\n  'Curve.fi ETH/rETH'],\n '0x43b4FdFD4Ff969587185cDB6f0BD875c5Fc83f8c': ['0x9582C4ADACB3BCE56Fea3e590F05c3ca2fb9C477',\n  '0x43b4FdFD4Ff969587185cDB6f0BD875c5Fc83f8c',\n  'Curve.fi Factory USD Metapool: Alchemix USD'],\n '0x80466c64868E1ab14a1Ddf27A676C3fcBE638Fe5': ['0x6955a55416a06839309018A8B0cB72c4DDC11f15',\n  '0xcA3d75aC011BF5aD07a98d02f18225F9bD9A6BDF',\n  'Curve.fi USD-BTC-ETH'],\n '0xD51a44d3FaE010294C616388b506AcdA1bfAAE46': ['0xDeFd8FdD20e0f34115C7018CCfb655796F6B2168',\n  '0xc4AD29ba4B3c580e6D59105FFf484999997675Ff',\n  'Curve.fi USD-BTC-ETH'],\n '0x5a6A4D54456819380173272A5E8E9B9904BdF41B': ['0xd8b712d29381748dB89c36BCa0138d7c75866ddF',\n  '0x5a6A4D54456819380173272A5E8E9B9904BdF41B',\n  'Curve.fi Factory USD Metapool: Magic Internet Money 3Pool'],\n '0xFD5dB7463a3aB53fD211b4af195c5BCCC1A03890': ['0xe8060Ad8971450E624d5289A10017dD30F5dA85F',\n  '0xFD5dB7463a3aB53fD211b4af195c5BCCC1A03890',\n  'Curve.fi Factory Plain Pool: Euro Tether']}"
     },
     "execution_count": 6,
     "metadata": {},
     "output_type": "execute_result"
    }
   ],
   "source": [
    "pool_count = ethereum_registry_contract.pool_count()\n",
    "eth_pools_and_gauges = {}\n",
    "for pool_id in range(pool_count):\n",
    "\n",
    "    pool_addr = ethereum_registry_contract.pool_list(pool_id)\n",
    "    gauge_addr = ethereum_registry_contract.get_gauges(pool_addr)\n",
    "    lp_token_addr = ethereum_registry_contract.get_lp_token(pool_addr)\n",
    "\n",
    "    # get lp_token name:\n",
    "    pool_token_contract = init_contract(lp_token_addr)\n",
    "    pool_token_name = pool_token_contract.name()\n",
    "\n",
    "    eth_pools_and_gauges[pool_addr] = [gauge_addr[0][0], lp_token_addr, pool_token_name]\n",
    "\n",
    "eth_pools_and_gauges"
   ],
   "metadata": {
    "collapsed": false,
    "pycharm": {
     "name": "#%%\n"
    }
   }
  },
  {
   "cell_type": "markdown",
   "source": [
    "# CRV emissions per pool:"
   ],
   "metadata": {
    "collapsed": false
   }
  },
  {
   "cell_type": "code",
   "execution_count": 7,
   "outputs": [
    {
     "name": "stdout",
     "output_type": "stream",
     "text": [
      "  \u001B[0;1;35m@title \u001B[0;mCurve DAO Token\n",
      "  \u001B[0;1;35m@notice \u001B[0;mERC20 with piecewise-linear mining supply.\n",
      "  \u001B[0;1;35m@author \u001B[0;mCurve Finance\n",
      "  \u001B[0;1;35m@details \u001B[0;mBased on the ERC-20 token standard as defined\n",
      "           at https://eips.ethereum.org/EIPS/eip-20\n",
      "\n"
     ]
    }
   ],
   "source": [
    "crv_token_addr = \"0xD533a949740bb3306d119CC777fa900bA034cd52\"\n",
    "crv_token = init_contract(crv_token_addr)\n",
    "crv_token.info()"
   ],
   "metadata": {
    "collapsed": false,
    "pycharm": {
     "name": "#%%\n"
    }
   }
  },
  {
   "cell_type": "markdown",
   "source": [
    "CRV emissions rate per block"
   ],
   "metadata": {
    "collapsed": false
   }
  },
  {
   "cell_type": "code",
   "execution_count": 8,
   "outputs": [
    {
     "data": {
      "text/plain": "7.327853447857532"
     },
     "execution_count": 8,
     "metadata": {},
     "output_type": "execute_result"
    }
   ],
   "source": [
    "crv_token.rate() * 1e-18"
   ],
   "metadata": {
    "collapsed": false,
    "pycharm": {
     "name": "#%%\n"
    }
   }
  },
  {
   "cell_type": "markdown",
   "source": [
    "get number of blocks between two timestamps:"
   ],
   "metadata": {
    "collapsed": false
   }
  },
  {
   "cell_type": "code",
   "execution_count": 9,
   "outputs": [
    {
     "data": {
      "text/plain": "4431885.7652642345"
     },
     "execution_count": 9,
     "metadata": {},
     "output_type": "execute_result"
    }
   ],
   "source": [
    "block_time_start = int(\n",
    "    calendar.timegm((datetime.datetime.now() - datetime.timedelta(days=7)).date().timetuple())\n",
    ")\n",
    "block_time_end = int(\n",
    "    calendar.timegm((datetime.datetime.now()).date().timetuple())\n",
    ")\n",
    "crv_token.mintable_in_timeframe(block_time_start, block_time_end) * 1e-18"
   ],
   "metadata": {
    "collapsed": false,
    "pycharm": {
     "name": "#%%\n"
    }
   }
  },
  {
   "cell_type": "markdown",
   "source": [
    "get gauge weights from registry for block:"
   ],
   "metadata": {
    "collapsed": false
   }
  },
  {
   "cell_type": "code",
   "execution_count": 10,
   "outputs": [
    {
     "name": "stdout",
     "output_type": "stream",
     "text": [
      "  \u001B[0;1;35m@title \u001B[0;mGauge Controller\n",
      "  \u001B[0;1;35m@notice \u001B[0;mControls liquidity gauges and the issuance of\n",
      "          coins through the gauges\n",
      "  \u001B[0;1;35m@author \u001B[0;mCurve Finance\n",
      "\n"
     ]
    }
   ],
   "source": [
    "gauge_controller_address = \"0x2F50D538606Fa9EDD2B11E2446BEb18C9D5846bB\"\n",
    "gauge_controller = init_contract(gauge_controller_address)\n",
    "gauge_controller.info()"
   ],
   "metadata": {
    "collapsed": false,
    "pycharm": {
     "name": "#%%\n"
    }
   }
  },
  {
   "cell_type": "markdown",
   "source": [
    "Get crv emitted for gauge"
   ],
   "metadata": {
    "collapsed": false
   }
  },
  {
   "cell_type": "code",
   "execution_count": 11,
   "outputs": [],
   "source": [
    "time_start = int(datetime.datetime.strptime(\"2021-08-01\", \"%Y-%m-%d\").timestamp())\n",
    "time_end = int(datetime.datetime.strptime(\"2021-11-01\", \"%Y-%m-%d\").timestamp())\n",
    "delta_time = int(datetime.timedelta(days=1).total_seconds())\n",
    "date_range = list(range(time_start,time_end,delta_time))"
   ],
   "metadata": {
    "collapsed": false,
    "pycharm": {
     "name": "#%%\n"
    }
   }
  },
  {
   "cell_type": "code",
   "execution_count": 12,
   "outputs": [],
   "source": [
    "emissions_data = pd.DataFrame()\n",
    "for timestamp in date_range:\n",
    "\n",
    "    block_number = get_block_for_timestamp(timestamp=timestamp)\n",
    "\n",
    "    with brownie.multicall(block_identifier=block_number):\n",
    "\n",
    "        for pool_addr, pool_details in eth_pools_and_gauges.items():\n",
    "\n",
    "            pool_data = {}\n",
    "\n",
    "            gauge_addr = pool_details[0]\n",
    "            lp_token_addr = pool_details[1]\n",
    "            pool_name = pool_details[2]\n",
    "\n",
    "            # get crv emissions for timestamp from the past day:\n",
    "            crv_minted = crv_token.mintable_in_timeframe(\n",
    "                int(timestamp - delta_time),\n",
    "                timestamp\n",
    "            ) * 1e-18\n",
    "\n",
    "            # get gauge relative weight\n",
    "            gauge_relative_weight = gauge_controller.gauge_relative_weight(gauge_addr) * 1e-18\n",
    "\n",
    "            # get virtual price:\n",
    "            try:\n",
    "                lp_token_virtual_price = (\n",
    "                    ethereum_registry_contract.get_virtual_price_from_lp_token(lp_token_addr)\n",
    "                ) * 1e-18\n",
    "            except TypeError:\n",
    "                lp_token = init_contract(lp_token_addr)\n",
    "                lp_token_virtual_price = lp_token.get_virtual_price() * 1e-18\n",
    "\n",
    "            # get total supply of lp_token:\n",
    "            lp_token = init_contract(lp_token_addr)\n",
    "            total_supply_lp_token = lp_token.totalSupply() * 1e-18\n",
    "\n",
    "            # pool data\n",
    "            pool_data['timestamp'] = timestamp\n",
    "            pool_data['block_number'] = block_number\n",
    "            pool_data['pool_name'] = pool_name\n",
    "            pool_data['pool_addr'] = pool_addr\n",
    "            pool_data['lp_token_addr'] = lp_token_addr\n",
    "            pool_data['gauge_addr'] = gauge_addr\n",
    "            pool_data['gauge_relative_weight'] = gauge_relative_weight\n",
    "            pool_data['lp_token_virtual_price'] = lp_token_virtual_price\n",
    "            pool_data['total_supply_lp_token'] = total_supply_lp_token\n",
    "            pool_data['crv_minted_past_1d'] = crv_minted\n",
    "            pool_data['crv_to_gauge'] = gauge_relative_weight * crv_minted\n",
    "\n",
    "            pool_data = pd.DataFrame(\n",
    "                data=pool_data,\n",
    "                index=[pd.to_datetime(pool_data['timestamp'], unit='s')]\n",
    "            )\n",
    "\n",
    "            # join df\n",
    "            emissions_data = pd.concat([emissions_data, pool_data])\n"
   ],
   "metadata": {
    "collapsed": false,
    "pycharm": {
     "name": "#%%\n"
    }
   }
  },
  {
   "cell_type": "code",
   "execution_count": 13,
   "outputs": [
    {
     "data": {
      "text/plain": "                      timestamp  block_number  \\\n2021-07-31 22:00:00  1627768800      12935810   \n2021-07-31 22:00:00  1627768800      12935810   \n2021-07-31 22:00:00  1627768800      12935810   \n2021-07-31 22:00:00  1627768800      12935810   \n2021-07-31 22:00:00  1627768800      12935810   \n...                         ...           ...   \n2021-10-31 22:00:00  1635717600      13527346   \n2021-10-31 22:00:00  1635717600      13527346   \n2021-10-31 22:00:00  1635717600      13527346   \n2021-10-31 22:00:00  1635717600      13527346   \n2021-10-31 22:00:00  1635717600      13527346   \n\n                                                             pool_name  \\\n2021-07-31 22:00:00                             Curve.fi DAI/USDC/USDT   \n2021-07-31 22:00:00                          Curve.fi aDAI/aUSDC/aUSDT   \n2021-07-31 22:00:00                                  Curve.fi ETH/aETH   \n2021-07-31 22:00:00                    Curve.fi yDAI/yUSDC/yUSDT/yBUSD   \n2021-07-31 22:00:00                                Curve.fi cDAI/cUSDC   \n...                                                                ...   \n2021-10-31 22:00:00        Curve.fi Factory USD Metapool: Alchemix USD   \n2021-10-31 22:00:00                               Curve.fi USD-BTC-ETH   \n2021-10-31 22:00:00                               Curve.fi USD-BTC-ETH   \n2021-10-31 22:00:00  Curve.fi Factory USD Metapool: Magic Internet ...   \n2021-10-31 22:00:00           Curve.fi Factory Plain Pool: Euro Tether   \n\n                                                      pool_addr  \\\n2021-07-31 22:00:00  0xbEbc44782C7dB0a1A60Cb6fe97d0b483032FF1C7   \n2021-07-31 22:00:00  0xDeBF20617708857ebe4F679508E7b7863a8A8EeE   \n2021-07-31 22:00:00  0xA96A65c051bF88B4095Ee1f2451C2A9d43F53Ae2   \n2021-07-31 22:00:00  0x79a8C46DeA5aDa233ABaFFD40F3A0A2B1e5A4F27   \n2021-07-31 22:00:00  0xA2B47E3D5c44877cca798226B7B8118F9BFb7A56   \n...                                                         ...   \n2021-10-31 22:00:00  0x43b4FdFD4Ff969587185cDB6f0BD875c5Fc83f8c   \n2021-10-31 22:00:00  0x80466c64868E1ab14a1Ddf27A676C3fcBE638Fe5   \n2021-10-31 22:00:00  0xD51a44d3FaE010294C616388b506AcdA1bfAAE46   \n2021-10-31 22:00:00  0x5a6A4D54456819380173272A5E8E9B9904BdF41B   \n2021-10-31 22:00:00  0xFD5dB7463a3aB53fD211b4af195c5BCCC1A03890   \n\n                                                  lp_token_addr  \\\n2021-07-31 22:00:00  0x6c3F90f043a72FA612cbac8115EE7e52BDe6E490   \n2021-07-31 22:00:00  0xFd2a8fA60Abd58Efe3EeE34dd494cD491dC14900   \n2021-07-31 22:00:00  0xaA17A236F2bAdc98DDc0Cf999AbB47D47Fc0A6Cf   \n2021-07-31 22:00:00  0x3B3Ac5386837Dc563660FB6a0937DFAa5924333B   \n2021-07-31 22:00:00  0x845838DF265Dcd2c412A1Dc9e959c7d08537f8a2   \n...                                                         ...   \n2021-10-31 22:00:00  0x43b4FdFD4Ff969587185cDB6f0BD875c5Fc83f8c   \n2021-10-31 22:00:00  0xcA3d75aC011BF5aD07a98d02f18225F9bD9A6BDF   \n2021-10-31 22:00:00  0xc4AD29ba4B3c580e6D59105FFf484999997675Ff   \n2021-10-31 22:00:00  0x5a6A4D54456819380173272A5E8E9B9904BdF41B   \n2021-10-31 22:00:00  0xFD5dB7463a3aB53fD211b4af195c5BCCC1A03890   \n\n                                                     gauge_addr  \\\n2021-07-31 22:00:00  0xbFcF63294aD7105dEa65aA58F8AE5BE2D9d0952A   \n2021-07-31 22:00:00  0xd662908ADA2Ea1916B3318327A97eB18aD588b5d   \n2021-07-31 22:00:00  0x6d10ed2cF043E6fcf51A0e7b4C2Af3Fa06695707   \n2021-07-31 22:00:00  0x69Fb7c45726cfE2baDeE8317005d3F94bE838840   \n2021-07-31 22:00:00  0x7ca5b0a2910B33e9759DC7dDB0413949071D7575   \n...                                                         ...   \n2021-10-31 22:00:00  0x9582C4ADACB3BCE56Fea3e590F05c3ca2fb9C477   \n2021-10-31 22:00:00  0x6955a55416a06839309018A8B0cB72c4DDC11f15   \n2021-10-31 22:00:00  0xDeFd8FdD20e0f34115C7018CCfb655796F6B2168   \n2021-10-31 22:00:00  0xd8b712d29381748dB89c36BCa0138d7c75866ddF   \n2021-10-31 22:00:00  0xe8060Ad8971450E624d5289A10017dD30F5dA85F   \n\n                     gauge_relative_weight  lp_token_virtual_price  \\\n2021-07-31 22:00:00               0.030036                1.018249   \n2021-07-31 22:00:00               0.013610                1.059715   \n2021-07-31 22:00:00               0.005305                1.019913   \n2021-07-31 22:00:00               0.003551                1.118360   \n2021-07-31 22:00:00               0.011510                1.080587   \n...                                    ...                     ...   \n2021-10-31 22:00:00               0.028920                1.007269   \n2021-10-31 22:00:00               0.001784                1.011439   \n2021-10-31 22:00:00               0.078399                1.005494   \n2021-10-31 22:00:00               0.251976                1.002929   \n2021-10-31 22:00:00               0.000369                1.001599   \n\n                     total_supply_lp_token  crv_minted_past_1d   crv_to_gauge  \n2021-07-31 22:00:00           1.387837e+09       752918.583562   22614.480396  \n2021-07-31 22:00:00           1.583507e+08       752918.583562   10246.937315  \n2021-07-31 22:00:00           2.031894e+04       752918.583562    3994.574615  \n2021-07-31 22:00:00           2.548384e+07       752918.583562    2673.676793  \n2021-07-31 22:00:00           1.350679e+08       752918.583562    8665.791993  \n...                                    ...                 ...            ...  \n2021-10-31 22:00:00           4.964252e+08       633126.537895   18310.020018  \n2021-10-31 22:00:00           7.285534e+03       633126.537895    1129.735870  \n2021-10-31 22:00:00           5.118408e+05       633126.537895   49636.505938  \n2021-10-31 22:00:00           2.488265e+09       633126.537895  159532.859485  \n2021-10-31 22:00:00           1.361486e+07       633126.537895     233.639447  \n\n[3906 rows x 11 columns]",
      "text/html": "<div>\n<style scoped>\n    .dataframe tbody tr th:only-of-type {\n        vertical-align: middle;\n    }\n\n    .dataframe tbody tr th {\n        vertical-align: top;\n    }\n\n    .dataframe thead th {\n        text-align: right;\n    }\n</style>\n<table border=\"1\" class=\"dataframe\">\n  <thead>\n    <tr style=\"text-align: right;\">\n      <th></th>\n      <th>timestamp</th>\n      <th>block_number</th>\n      <th>pool_name</th>\n      <th>pool_addr</th>\n      <th>lp_token_addr</th>\n      <th>gauge_addr</th>\n      <th>gauge_relative_weight</th>\n      <th>lp_token_virtual_price</th>\n      <th>total_supply_lp_token</th>\n      <th>crv_minted_past_1d</th>\n      <th>crv_to_gauge</th>\n    </tr>\n  </thead>\n  <tbody>\n    <tr>\n      <th>2021-07-31 22:00:00</th>\n      <td>1627768800</td>\n      <td>12935810</td>\n      <td>Curve.fi DAI/USDC/USDT</td>\n      <td>0xbEbc44782C7dB0a1A60Cb6fe97d0b483032FF1C7</td>\n      <td>0x6c3F90f043a72FA612cbac8115EE7e52BDe6E490</td>\n      <td>0xbFcF63294aD7105dEa65aA58F8AE5BE2D9d0952A</td>\n      <td>0.030036</td>\n      <td>1.018249</td>\n      <td>1.387837e+09</td>\n      <td>752918.583562</td>\n      <td>22614.480396</td>\n    </tr>\n    <tr>\n      <th>2021-07-31 22:00:00</th>\n      <td>1627768800</td>\n      <td>12935810</td>\n      <td>Curve.fi aDAI/aUSDC/aUSDT</td>\n      <td>0xDeBF20617708857ebe4F679508E7b7863a8A8EeE</td>\n      <td>0xFd2a8fA60Abd58Efe3EeE34dd494cD491dC14900</td>\n      <td>0xd662908ADA2Ea1916B3318327A97eB18aD588b5d</td>\n      <td>0.013610</td>\n      <td>1.059715</td>\n      <td>1.583507e+08</td>\n      <td>752918.583562</td>\n      <td>10246.937315</td>\n    </tr>\n    <tr>\n      <th>2021-07-31 22:00:00</th>\n      <td>1627768800</td>\n      <td>12935810</td>\n      <td>Curve.fi ETH/aETH</td>\n      <td>0xA96A65c051bF88B4095Ee1f2451C2A9d43F53Ae2</td>\n      <td>0xaA17A236F2bAdc98DDc0Cf999AbB47D47Fc0A6Cf</td>\n      <td>0x6d10ed2cF043E6fcf51A0e7b4C2Af3Fa06695707</td>\n      <td>0.005305</td>\n      <td>1.019913</td>\n      <td>2.031894e+04</td>\n      <td>752918.583562</td>\n      <td>3994.574615</td>\n    </tr>\n    <tr>\n      <th>2021-07-31 22:00:00</th>\n      <td>1627768800</td>\n      <td>12935810</td>\n      <td>Curve.fi yDAI/yUSDC/yUSDT/yBUSD</td>\n      <td>0x79a8C46DeA5aDa233ABaFFD40F3A0A2B1e5A4F27</td>\n      <td>0x3B3Ac5386837Dc563660FB6a0937DFAa5924333B</td>\n      <td>0x69Fb7c45726cfE2baDeE8317005d3F94bE838840</td>\n      <td>0.003551</td>\n      <td>1.118360</td>\n      <td>2.548384e+07</td>\n      <td>752918.583562</td>\n      <td>2673.676793</td>\n    </tr>\n    <tr>\n      <th>2021-07-31 22:00:00</th>\n      <td>1627768800</td>\n      <td>12935810</td>\n      <td>Curve.fi cDAI/cUSDC</td>\n      <td>0xA2B47E3D5c44877cca798226B7B8118F9BFb7A56</td>\n      <td>0x845838DF265Dcd2c412A1Dc9e959c7d08537f8a2</td>\n      <td>0x7ca5b0a2910B33e9759DC7dDB0413949071D7575</td>\n      <td>0.011510</td>\n      <td>1.080587</td>\n      <td>1.350679e+08</td>\n      <td>752918.583562</td>\n      <td>8665.791993</td>\n    </tr>\n    <tr>\n      <th>...</th>\n      <td>...</td>\n      <td>...</td>\n      <td>...</td>\n      <td>...</td>\n      <td>...</td>\n      <td>...</td>\n      <td>...</td>\n      <td>...</td>\n      <td>...</td>\n      <td>...</td>\n      <td>...</td>\n    </tr>\n    <tr>\n      <th>2021-10-31 22:00:00</th>\n      <td>1635717600</td>\n      <td>13527346</td>\n      <td>Curve.fi Factory USD Metapool: Alchemix USD</td>\n      <td>0x43b4FdFD4Ff969587185cDB6f0BD875c5Fc83f8c</td>\n      <td>0x43b4FdFD4Ff969587185cDB6f0BD875c5Fc83f8c</td>\n      <td>0x9582C4ADACB3BCE56Fea3e590F05c3ca2fb9C477</td>\n      <td>0.028920</td>\n      <td>1.007269</td>\n      <td>4.964252e+08</td>\n      <td>633126.537895</td>\n      <td>18310.020018</td>\n    </tr>\n    <tr>\n      <th>2021-10-31 22:00:00</th>\n      <td>1635717600</td>\n      <td>13527346</td>\n      <td>Curve.fi USD-BTC-ETH</td>\n      <td>0x80466c64868E1ab14a1Ddf27A676C3fcBE638Fe5</td>\n      <td>0xcA3d75aC011BF5aD07a98d02f18225F9bD9A6BDF</td>\n      <td>0x6955a55416a06839309018A8B0cB72c4DDC11f15</td>\n      <td>0.001784</td>\n      <td>1.011439</td>\n      <td>7.285534e+03</td>\n      <td>633126.537895</td>\n      <td>1129.735870</td>\n    </tr>\n    <tr>\n      <th>2021-10-31 22:00:00</th>\n      <td>1635717600</td>\n      <td>13527346</td>\n      <td>Curve.fi USD-BTC-ETH</td>\n      <td>0xD51a44d3FaE010294C616388b506AcdA1bfAAE46</td>\n      <td>0xc4AD29ba4B3c580e6D59105FFf484999997675Ff</td>\n      <td>0xDeFd8FdD20e0f34115C7018CCfb655796F6B2168</td>\n      <td>0.078399</td>\n      <td>1.005494</td>\n      <td>5.118408e+05</td>\n      <td>633126.537895</td>\n      <td>49636.505938</td>\n    </tr>\n    <tr>\n      <th>2021-10-31 22:00:00</th>\n      <td>1635717600</td>\n      <td>13527346</td>\n      <td>Curve.fi Factory USD Metapool: Magic Internet ...</td>\n      <td>0x5a6A4D54456819380173272A5E8E9B9904BdF41B</td>\n      <td>0x5a6A4D54456819380173272A5E8E9B9904BdF41B</td>\n      <td>0xd8b712d29381748dB89c36BCa0138d7c75866ddF</td>\n      <td>0.251976</td>\n      <td>1.002929</td>\n      <td>2.488265e+09</td>\n      <td>633126.537895</td>\n      <td>159532.859485</td>\n    </tr>\n    <tr>\n      <th>2021-10-31 22:00:00</th>\n      <td>1635717600</td>\n      <td>13527346</td>\n      <td>Curve.fi Factory Plain Pool: Euro Tether</td>\n      <td>0xFD5dB7463a3aB53fD211b4af195c5BCCC1A03890</td>\n      <td>0xFD5dB7463a3aB53fD211b4af195c5BCCC1A03890</td>\n      <td>0xe8060Ad8971450E624d5289A10017dD30F5dA85F</td>\n      <td>0.000369</td>\n      <td>1.001599</td>\n      <td>1.361486e+07</td>\n      <td>633126.537895</td>\n      <td>233.639447</td>\n    </tr>\n  </tbody>\n</table>\n<p>3906 rows × 11 columns</p>\n</div>"
     },
     "execution_count": 13,
     "metadata": {},
     "output_type": "execute_result"
    }
   ],
   "source": [
    "emissions_data"
   ],
   "metadata": {
    "collapsed": false,
    "pycharm": {
     "name": "#%%\n"
    }
   }
  },
  {
   "cell_type": "markdown",
   "source": [
    "# swap fees to liquidity providers per pool per week:"
   ],
   "metadata": {
    "collapsed": false
   }
  },
  {
   "cell_type": "code",
   "execution_count": 50,
   "outputs": [],
   "source": [
    "emissions_and_revenue = pd.DataFrame()\n",
    "for pool_addr in emissions_data.pool_addr.unique():\n",
    "\n",
    "    pool_data = emissions_data[emissions_data.pool_addr == pool_addr]\n",
    "    pool_data = pool_data.sort_values(by=\"block_number\", ascending=True)\n",
    "\n",
    "    pool_data['virtual_price_diff'] = pool_data.lp_token_virtual_price.diff()\n",
    "    pool_data['swap_fee_revenue'] = pool_data.virtual_price_diff * pool_data.total_supply_lp_token * 2\n",
    "    pool_data['swap_revenue_to_crv_emissions_ratio'] = pool_data.swap_fee_revenue / pool_data.crv_to_gauge\n",
    "\n",
    "    emissions_and_revenue = pd.concat([emissions_and_revenue, pool_data])"
   ],
   "metadata": {
    "collapsed": false,
    "pycharm": {
     "name": "#%%\n"
    }
   }
  },
  {
   "cell_type": "markdown",
   "source": [
    "save data:"
   ],
   "metadata": {
    "collapsed": false
   }
  },
  {
   "cell_type": "code",
   "execution_count": 53,
   "outputs": [],
   "source": [
    "emissions_and_revenue.to_csv(f\"./emissions_and_revenue_{time_start.strftime('%Y%m%d')}_{time_end.strftime('%Y%m%d')}.csv\")"
   ],
   "metadata": {
    "collapsed": false,
    "pycharm": {
     "name": "#%%\n"
    }
   }
  },
  {
   "cell_type": "markdown",
   "source": [],
   "metadata": {
    "collapsed": false,
    "pycharm": {
     "name": "#%% md\n"
    }
   }
  }
 ],
 "metadata": {
  "kernelspec": {
   "display_name": "Python 3",
   "language": "python",
   "name": "python3"
  },
  "language_info": {
   "codemirror_mode": {
    "name": "ipython",
    "version": 2
   },
   "file_extension": ".py",
   "mimetype": "text/x-python",
   "name": "python",
   "nbconvert_exporter": "python",
   "pygments_lexer": "ipython2",
   "version": "2.7.6"
  }
 },
 "nbformat": 4,
 "nbformat_minor": 0
}