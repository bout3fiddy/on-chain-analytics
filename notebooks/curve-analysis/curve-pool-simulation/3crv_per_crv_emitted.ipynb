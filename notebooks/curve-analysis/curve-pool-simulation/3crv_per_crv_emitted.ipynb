{
 "cells": [
  {
   "cell_type": "markdown",
   "source": [
    "1. Get crv emissions per pool.\n",
    "2. Get fees claimed per pool.\n",
    "3. divide the two to get swap revenue per crv emitted per gauge."
   ],
   "metadata": {
    "collapsed": false
   }
  },
  {
   "cell_type": "code",
   "execution_count": 1,
   "outputs": [],
   "source": [
    "# subgraph querying modules\n",
    "import datetime\n",
    "import calendar"
   ],
   "metadata": {
    "collapsed": false,
    "pycharm": {
     "name": "#%%\n"
    }
   }
  },
  {
   "cell_type": "code",
   "execution_count": 2,
   "outputs": [],
   "source": [
    "# plotting tools\n",
    "import pandas as pd\n",
    "pd.options.mode.chained_assignment = None  # default='warn'\n",
    "\n",
    "import matplotlib.pyplot as plt\n",
    "\n",
    "import seaborn as sns\n",
    "sns.set_style(\"whitegrid\")"
   ],
   "metadata": {
    "collapsed": false,
    "pycharm": {
     "name": "#%%\n"
    }
   }
  },
  {
   "cell_type": "code",
   "execution_count": 3,
   "outputs": [],
   "source": [
    "# brownie\n",
    "import os\n",
    "import sys\n",
    "sys.path.append(\"../../\")\n",
    "\n",
    "import brownie\n",
    "\n",
    "from utils.contract_utils import init_contract\n",
    "from utils.network_utils import configure_network_and_connect\n",
    "from utils.eth_blocks_utils import get_block_for_timestamp\n"
   ],
   "metadata": {
    "collapsed": false,
    "pycharm": {
     "name": "#%%\n"
    }
   }
  },
  {
   "cell_type": "code",
   "execution_count": null,
   "outputs": [],
   "source": [
    "ALCHEMY_API_KEY = os.environ['ALCHEMY_API_KEY']\n",
    "configure_network_and_connect(\n",
    "    node_provider_https=f\"https://eth-mainnet.alchemyapi.io/v2/{ALCHEMY_API_KEY}\",\n",
    "    network_name='mainnet'\n",
    ")"
   ],
   "metadata": {
    "collapsed": false,
    "pycharm": {
     "name": "#%%\n",
     "is_executing": true
    }
   }
  },
  {
   "cell_type": "markdown",
   "source": [
    "# Pools and Gauges\n",
    "\n",
    "Get dict of pools (keys) and gauge (value)"
   ],
   "metadata": {
    "collapsed": false
   }
  },
  {
   "cell_type": "code",
   "execution_count": null,
   "outputs": [],
   "source": [
    "ethereum_registry_contract = init_contract(\"0x90E00ACe148ca3b23Ac1bC8C240C2a7Dd9c2d7f5\")\n",
    "ethereum_registry_contract.info()"
   ],
   "metadata": {
    "collapsed": false,
    "pycharm": {
     "name": "#%%\n",
     "is_executing": true
    }
   }
  },
  {
   "cell_type": "markdown",
   "source": [
    "Get pools and gauges:"
   ],
   "metadata": {
    "collapsed": false
   }
  },
  {
   "cell_type": "code",
   "execution_count": null,
   "outputs": [],
   "source": [
    "pool_count = ethereum_registry_contract.pool_count()\n",
    "eth_pools_and_gauges = {}\n",
    "for pool_id in range(pool_count):\n",
    "\n",
    "    pool_addr = ethereum_registry_contract.pool_list(pool_id)\n",
    "    gauge_addr = ethereum_registry_contract.get_gauges(pool_addr)\n",
    "    lp_token_addr = ethereum_registry_contract.get_lp_token(pool_addr)\n",
    "\n",
    "    # get lp_token name:\n",
    "    pool_token_contract = init_contract(lp_token_addr)\n",
    "    pool_token_name = pool_token_contract.name()\n",
    "\n",
    "    eth_pools_and_gauges[pool_addr] = [gauge_addr[0][0], lp_token_addr, pool_token_name]\n",
    "\n",
    "eth_pools_and_gauges"
   ],
   "metadata": {
    "collapsed": false,
    "pycharm": {
     "name": "#%%\n",
     "is_executing": true
    }
   }
  },
  {
   "cell_type": "markdown",
   "source": [
    "# CRV emissions per pool:"
   ],
   "metadata": {
    "collapsed": false
   }
  },
  {
   "cell_type": "code",
   "execution_count": null,
   "outputs": [],
   "source": [
    "crv_token_addr = \"0xD533a949740bb3306d119CC777fa900bA034cd52\"\n",
    "crv_token = init_contract(crv_token_addr)\n",
    "crv_token.info()"
   ],
   "metadata": {
    "collapsed": false,
    "pycharm": {
     "name": "#%%\n",
     "is_executing": true
    }
   }
  },
  {
   "cell_type": "markdown",
   "source": [
    "CRV emissions rate per block"
   ],
   "metadata": {
    "collapsed": false
   }
  },
  {
   "cell_type": "code",
   "execution_count": null,
   "outputs": [],
   "source": [
    "crv_token.rate() * 1e-18"
   ],
   "metadata": {
    "collapsed": false,
    "pycharm": {
     "name": "#%%\n",
     "is_executing": true
    }
   }
  },
  {
   "cell_type": "markdown",
   "source": [
    "get number of blocks between two timestamps:"
   ],
   "metadata": {
    "collapsed": false
   }
  },
  {
   "cell_type": "code",
   "execution_count": null,
   "outputs": [],
   "source": [
    "block_time_start = int(\n",
    "    calendar.timegm((datetime.datetime.now() - datetime.timedelta(days=7)).date().timetuple())\n",
    ")\n",
    "block_time_end = int(\n",
    "    calendar.timegm((datetime.datetime.now()).date().timetuple())\n",
    ")\n",
    "crv_token.mintable_in_timeframe(block_time_start, block_time_end) * 1e-18"
   ],
   "metadata": {
    "collapsed": false,
    "pycharm": {
     "name": "#%%\n",
     "is_executing": true
    }
   }
  },
  {
   "cell_type": "markdown",
   "source": [
    "get gauge weights from registry for block:"
   ],
   "metadata": {
    "collapsed": false
   }
  },
  {
   "cell_type": "code",
   "execution_count": null,
   "outputs": [],
   "source": [
    "gauge_controller_address = \"0x2F50D538606Fa9EDD2B11E2446BEb18C9D5846bB\"\n",
    "gauge_controller = init_contract(gauge_controller_address)\n",
    "gauge_controller.info()"
   ],
   "metadata": {
    "collapsed": false,
    "pycharm": {
     "name": "#%%\n",
     "is_executing": true
    }
   }
  },
  {
   "cell_type": "markdown",
   "source": [
    "Get crv emitted for gauge"
   ],
   "metadata": {
    "collapsed": false
   }
  },
  {
   "cell_type": "code",
   "execution_count": null,
   "outputs": [],
   "source": [
    "time_start = int(datetime.datetime.strptime(\"2021-10-24\", \"%Y-%m-%d\").timestamp())\n",
    "time_end = int(datetime.datetime.strptime(\"2021-10-31\", \"%Y-%m-%d\").timestamp())\n",
    "delta_time = int(datetime.timedelta(days=1).total_seconds())\n",
    "date_range = list(range(time_start,time_end,delta_time))"
   ],
   "metadata": {
    "collapsed": false,
    "pycharm": {
     "name": "#%%\n",
     "is_executing": true
    }
   }
  },
  {
   "cell_type": "code",
   "execution_count": null,
   "outputs": [],
   "source": [
    "emissions_data = pd.DataFrame()\n",
    "for timestamp in date_range:\n",
    "\n",
    "    block_number = get_block_for_timestamp(timestamp=timestamp)\n",
    "\n",
    "    with brownie.multicall(block_identifier=block_number):\n",
    "\n",
    "        for pool_addr, pool_details in eth_pools_and_gauges.items():\n",
    "\n",
    "            pool_data = {}\n",
    "\n",
    "            gauge_addr = pool_details[0]\n",
    "            lp_token_addr = pool_details[1]\n",
    "            pool_name = pool_details[2]\n",
    "\n",
    "            # get crv emissions for timestamp from the past day:\n",
    "            crv_minted = crv_token.mintable_in_timeframe(\n",
    "                int(timestamp - delta_time),\n",
    "                timestamp\n",
    "            ) * 1e-18\n",
    "\n",
    "            # get gauge relative weight\n",
    "            gauge_relative_weight = gauge_controller.gauge_relative_weight(gauge_addr) * 1e-18\n",
    "\n",
    "            # get virtual price:\n",
    "            try:\n",
    "                lp_token_virtual_price = (\n",
    "                    ethereum_registry_contract.get_virtual_price_from_lp_token(lp_token_addr)\n",
    "                ) * 1e-18\n",
    "            except TypeError:\n",
    "                lp_token = init_contract(lp_token_addr)\n",
    "                lp_token_virtual_price = lp_token.get_virtual_price() * 1e-18\n",
    "\n",
    "            # get total supply of lp_token:\n",
    "            lp_token = init_contract(lp_token_addr)\n",
    "            total_supply_lp_token = lp_token.totalSupply() * 1e-18\n",
    "\n",
    "            # pool data\n",
    "            pool_data['timestamp'] = timestamp\n",
    "            pool_data['block_number'] = block_number\n",
    "            pool_data['pool_name'] = pool_name\n",
    "            pool_data['pool_addr'] = pool_addr\n",
    "            pool_data['lp_token_addr'] = lp_token_addr\n",
    "            pool_data['gauge_addr'] = gauge_addr\n",
    "            pool_data['gauge_relative_weight'] = gauge_relative_weight\n",
    "            pool_data['lp_token_virtual_price'] = lp_token_virtual_price\n",
    "            pool_data['total_supply_lp_token'] = total_supply_lp_token\n",
    "            pool_data['crv_minted_past_1d'] = crv_minted\n",
    "            pool_data['crv_to_gauge'] = gauge_relative_weight * crv_minted\n",
    "\n",
    "            pool_data = pd.DataFrame(\n",
    "                data=pool_data,\n",
    "                index=[pd.to_datetime(pool_data['timestamp'], unit='s')]\n",
    "            )\n",
    "\n",
    "            # join df\n",
    "            emissions_data = pd.concat([emissions_data, pool_data])\n"
   ],
   "metadata": {
    "collapsed": false,
    "pycharm": {
     "name": "#%%\n",
     "is_executing": true
    }
   }
  },
  {
   "cell_type": "code",
   "execution_count": null,
   "outputs": [],
   "source": [
    "emissions_data"
   ],
   "metadata": {
    "collapsed": false,
    "pycharm": {
     "name": "#%%\n",
     "is_executing": true
    }
   }
  },
  {
   "cell_type": "markdown",
   "source": [
    "# swap fees to liquidity providers per pool per week:"
   ],
   "metadata": {
    "collapsed": false
   }
  },
  {
   "cell_type": "code",
   "execution_count": null,
   "outputs": [],
   "source": [
    "emissions_and_revenue = pd.DataFrame()\n",
    "for pool_name in emissions_data.pool_name.unique():\n",
    "\n",
    "    pool_data = emissions_data[emissions_data.pool_name == pool_name]\n",
    "    pool_data = pool_data.sort_index(ascending=True)\n",
    "\n",
    "    pool_data['virtual_price_diff'] = pool_data.lp_token_virtual_price.diff()\n",
    "    pool_data['swap_fee_revenue'] = pool_data.virtual_price_diff * pool_data.total_supply_lp_token * 2\n",
    "    pool_data['swap_revenue_to_crv_emissions_ratio'] = pool_data.swap_fee_revenue / pool_data.crv_to_gauge\n",
    "\n",
    "    emissions_and_revenue = pd.concat([emissions_and_revenue, pool_data])"
   ],
   "metadata": {
    "collapsed": false,
    "pycharm": {
     "name": "#%%\n",
     "is_executing": true
    }
   }
  },
  {
   "cell_type": "code",
   "execution_count": null,
   "outputs": [],
   "source": [
    "emissions_and_revenue = emissions_and_revenue.dropna()\n",
    "emissions_and_revenue"
   ],
   "metadata": {
    "collapsed": false,
    "pycharm": {
     "name": "#%%\n",
     "is_executing": true
    }
   }
  },
  {
   "cell_type": "markdown",
   "source": [
    "# plots:"
   ],
   "metadata": {
    "collapsed": false
   }
  },
  {
   "cell_type": "code",
   "execution_count": null,
   "outputs": [],
   "source": [
    "emissions_and_revenue[emissions_and_revenue.lp_token_addr == \"0xc4AD29ba4B3c580e6D59105FFf484999997675Ff\"]"
   ],
   "metadata": {
    "collapsed": false,
    "pycharm": {
     "name": "#%%\n",
     "is_executing": true
    }
   }
  },
  {
   "cell_type": "code",
   "execution_count": null,
   "outputs": [],
   "source": [
    "1.003108 - 1.003055"
   ],
   "metadata": {
    "collapsed": false,
    "pycharm": {
     "name": "#%%\n",
     "is_executing": true
    }
   }
  },
  {
   "cell_type": "code",
   "execution_count": null,
   "outputs": [],
   "source": [
    "time_start = datetime.datetime.strptime('2021-10-24', '%Y-%m-%d')\n",
    "time_end = datetime.datetime.strptime('2021-10-31', '%Y-%m-%d')\n",
    "time_end"
   ],
   "metadata": {
    "collapsed": false,
    "pycharm": {
     "name": "#%%\n",
     "is_executing": true
    }
   }
  },
  {
   "cell_type": "code",
   "execution_count": null,
   "outputs": [],
   "source": [
    "emissions_and_revenue.loc[(emissions_and_revenue.index > time_start) & (emissions_and_revenue.index < time_end)]"
   ],
   "metadata": {
    "collapsed": false,
    "pycharm": {
     "name": "#%%\n",
     "is_executing": true
    }
   }
  },
  {
   "cell_type": "code",
   "execution_count": null,
   "outputs": [],
   "source": [
    "df_plot = emissions_and_revenue.loc[\n",
    "    (emissions_and_revenue.index > time_start) & (emissions_and_revenue.index < time_end)\n",
    "].groupby('pool_name').sum().sort_values(\n",
    "    by='swap_fee_revenue',\n",
    "    ascending=False\n",
    ")\n",
    "\n",
    "fig, ax = plt.subplots(1,1, figsize=(8, 20))\n",
    "\n",
    "df_plot[[\"swap_revenue_to_crv_emissions_ratio\"]].plot.barh(\n",
    "    # kind='bar',\n",
    "    ax=ax,\n",
    "    color='red',\n",
    "    width=0.4,\n",
    "    position=1,\n",
    "    align='center'\n",
    ")\n",
    "ax.set_ylabel(\"\", fontsize=20)\n",
    "ax.set_xlabel(\"Swap Fee Revenue / CRV emissions [ $ ]\", fontsize=20, color='black')\n",
    "ax.tick_params(axis='both', which='major', labelsize=20)\n",
    "ax.tick_params(axis='x', which='major', colors='black')\n",
    "ax.get_legend().remove()\n",
    "\n",
    "ax.set_xlim([0, 50])\n",
    "\n",
    "# ax2 = ax.twinx()\n",
    "# (df_plot[[\"crv_to_gauge\"]]).plot(\n",
    "#     kind='bar',\n",
    "#     ax=ax2,\n",
    "#     color='blue',\n",
    "#     width=0.4,\n",
    "#     position=2,\n",
    "# )\n",
    "#\n",
    "# ax2.get_legend().remove()\n",
    "# ax2.grid(b=None)\n",
    "# ax2.set_ylabel(\"crv for pool [ $/CRV ]\", fontsize=20, color='blue')\n",
    "# ax2.tick_params(axis='y', which='major', labelsize=20, colors='blue')\n"
   ],
   "metadata": {
    "collapsed": false,
    "pycharm": {
     "name": "#%%\n",
     "is_executing": true
    }
   }
  },
  {
   "cell_type": "markdown",
   "source": [],
   "metadata": {
    "collapsed": false,
    "pycharm": {
     "name": "#%% md\n"
    }
   }
  }
 ],
 "metadata": {
  "kernelspec": {
   "display_name": "Python 3",
   "language": "python",
   "name": "python3"
  },
  "language_info": {
   "codemirror_mode": {
    "name": "ipython",
    "version": 2
   },
   "file_extension": ".py",
   "mimetype": "text/x-python",
   "name": "python",
   "nbconvert_exporter": "python",
   "pygments_lexer": "ipython2",
   "version": "2.7.6"
  }
 },
 "nbformat": 4,
 "nbformat_minor": 0
}