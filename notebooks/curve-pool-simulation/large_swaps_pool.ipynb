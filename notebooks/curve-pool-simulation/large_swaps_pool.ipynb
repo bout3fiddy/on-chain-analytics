{
 "cells": [
  {
   "cell_type": "code",
   "execution_count": 1,
   "metadata": {},
   "outputs": [],
   "source": [
    "import sys, os\n",
    "sys.path.append(\"../../\")\n",
    "\n",
    "from utils.contract_utils import init_contract\n",
    "from utils.network_utils import configure_network\n",
    "\n",
    "from brownie.network import connect, accounts, disconnect\n",
    "from brownie_tokens import MintableForkToken"
   ]
  },
  {
   "cell_type": "code",
   "execution_count": 2,
   "metadata": {},
   "outputs": [
    {
     "name": "stdout",
     "output_type": "stream",
     "text": [
      "\n",
      "Launching 'ganache-cli --port 8545 --gasLimit 12000000 --accounts 10 --hardfork istanbul --mnemonic brownie --fork https://eth-mainnet.alchemyapi.io/v2/AxU0de70ONfvbD-3_pQX0wUlaBK6g3G4 --chainId 1'...\n"
     ]
    }
   ],
   "source": [
    "ALCHEMY_API_KEY = os.environ['ALCHEMY_API_KEY']\n",
    "configure_network(\n",
    "    node_provider_https=f\"https://eth-mainnet.alchemyapi.io/v2/{ALCHEMY_API_KEY}\",\n",
    "    network_name='mainnet'\n",
    ")\n",
    "connect('mainnet-fork')"
   ]
  },
  {
   "cell_type": "code",
   "execution_count": 3,
   "metadata": {},
   "outputs": [
    {
     "data": {
      "text/plain": "'Curve.fi Factory Plain Pool: cvxCRV'"
     },
     "execution_count": 3,
     "metadata": {},
     "output_type": "execute_result"
    }
   ],
   "source": [
    "pool_contract_addr = \"0x9D0464996170c6B9e75eED71c68B99dDEDf279e8\"  # cvxcrv pool addr\n",
    "pool_contract = init_contract(contract_addr=pool_contract_addr)\n",
    "pool_contract.name()"
   ]
  },
  {
   "cell_type": "code",
   "execution_count": 4,
   "metadata": {},
   "outputs": [
    {
     "data": {
      "text/plain": "['0xD533a949740bb3306d119CC777fa900bA034cd52',\n '0x62B9c7356A2Dc64a1969e19C23e4f579F9810Aa7']"
     },
     "execution_count": 4,
     "metadata": {},
     "output_type": "execute_result"
    }
   ],
   "source": [
    "pool_coin_addrs = []\n",
    "for i in range(10):\n",
    "    try:\n",
    "        pool_coin_addrs.append(pool_contract.coins(i))\n",
    "    except:\n",
    "        break\n",
    "pool_coin_addrs"
   ]
  },
  {
   "cell_type": "code",
   "execution_count": 5,
   "metadata": {},
   "outputs": [
    {
     "name": "stdout",
     "output_type": "stream",
     "text": [
      "coin 0 percentage: 41.58234538108825\n",
      "coin 1 percentage: 58.41765461891174\n"
     ]
    }
   ],
   "source": [
    "pool_balances = pool_contract.get_balances()\n",
    "total_coins = (pool_balances[1]+pool_balances[0])\n",
    "print(f\"coin 0 percentage: {pool_balances[0]/total_coins * 100}\")\n",
    "print(f\"coin 1 percentage: {pool_balances[1]/total_coins * 100}\")"
   ]
  },
  {
   "cell_type": "markdown",
   "metadata": {},
   "source": [
    "add balance:"
   ]
  },
  {
   "cell_type": "code",
   "execution_count": 6,
   "metadata": {},
   "outputs": [
    {
     "data": {
      "text/plain": "<cvxCrvToken Contract '0x62B9c7356A2Dc64a1969e19C23e4f579F9810Aa7'>"
     },
     "execution_count": 6,
     "metadata": {},
     "output_type": "execute_result"
    }
   ],
   "source": [
    "amount = int(pool_balances[0] / 15)  # swap size : 1/15th of cvxcrv pool balance\n",
    "min_amount = int(0.99 * amount)  # 1% slippage\n",
    "crv = MintableForkToken(pool_coin_addrs[0])  # crv is the first coin of cvxcrv-f pool\n",
    "cvxcrv = MintableForkToken(pool_coin_addrs[1])\n",
    "\n",
    "cvxcrv"
   ]
  },
  {
   "cell_type": "code",
   "execution_count": 7,
   "metadata": {},
   "outputs": [
    {
     "name": "stdout",
     "output_type": "stream",
     "text": [
      "Transaction sent: \u001b[0;1;34m0x9d902bc0357ef936f328d06a17f31bb22ef9260010cd50e2ce9e9e6e307a80f1\u001b[0;m\n",
      "  Gas price: \u001b[0;1;34m0.0\u001b[0;m gwei   Gas limit: \u001b[0;1;34m12000000\u001b[0;m   Nonce: \u001b[0;1;34m1\u001b[0;m\n",
      "  cvxCrvToken.transfer confirmed   Block: \u001b[0;1;34m13262178\u001b[0;m   Gas used: \u001b[0;1;34m51167\u001b[0;m (\u001b[0;1;34m0.43%\u001b[0;m)\n",
      "\n"
     ]
    }
   ],
   "source": [
    "cvxcrv._mint_for_testing(accounts[0], amount)"
   ]
  },
  {
   "cell_type": "code",
   "execution_count": 8,
   "metadata": {},
   "outputs": [
    {
     "name": "stdout",
     "output_type": "stream",
     "text": [
      "Transaction sent: \u001b[0;1;34m0xfbd31f707c9218ee75e49df2b811efd7943a7db6913d676b8879b024c97c7828\u001b[0;m\n",
      "  Gas price: \u001b[0;1;34m0.0\u001b[0;m gwei   Gas limit: \u001b[0;1;34m12000000\u001b[0;m   Nonce: \u001b[0;1;34m2\u001b[0;m\n",
      "  cvxCrvToken.approve confirmed   Block: \u001b[0;1;34m13262179\u001b[0;m   Gas used: \u001b[0;1;34m44106\u001b[0;m (\u001b[0;1;34m0.37%\u001b[0;m)\n",
      "\n"
     ]
    },
    {
     "data": {
      "text/plain": "<Transaction '\u001b[0;m0xfbd31f707c9218ee75e49df2b811efd7943a7db6913d676b8879b024c97c7828\u001b[0;m'>"
     },
     "execution_count": 8,
     "metadata": {},
     "output_type": "execute_result"
    }
   ],
   "source": [
    "cvxcrv.approve(pool_contract_addr, amount, {\"from\": accounts[0]})"
   ]
  },
  {
   "cell_type": "code",
   "execution_count": 9,
   "metadata": {},
   "outputs": [
    {
     "name": "stdout",
     "output_type": "stream",
     "text": [
      "Transaction sent: \u001b[0;1;34m0x0e66d900b895875f33d4f0431d147d74ec20ef379113e6f6e5b731302f3fe160\u001b[0;m\n",
      "  Gas price: \u001b[0;1;34m0.0\u001b[0;m gwei   Gas limit: \u001b[0;1;34m12000000\u001b[0;m   Nonce: \u001b[0;1;34m3\u001b[0;m\n",
      "  Vyper_contract.exchange confirmed   Block: \u001b[0;1;34m13262180\u001b[0;m   Gas used: \u001b[0;1;34m78986\u001b[0;m (\u001b[0;1;34m0.66%\u001b[0;m)\n",
      "\n"
     ]
    },
    {
     "data": {
      "text/plain": "<Transaction '\u001b[0;m0x0e66d900b895875f33d4f0431d147d74ec20ef379113e6f6e5b731302f3fe160\u001b[0;m'>"
     },
     "execution_count": 9,
     "metadata": {},
     "output_type": "execute_result"
    }
   ],
   "source": [
    "pool_contract.exchange(1, 0, amount, min_amount, {\"from\": accounts[0]})"
   ]
  },
  {
   "cell_type": "code",
   "execution_count": 10,
   "metadata": {},
   "outputs": [
    {
     "name": "stdout",
     "output_type": "stream",
     "text": [
      "coin 0 percentage: 38.825468618137585\n",
      "coin 1 percentage: 61.174531381862415\n"
     ]
    }
   ],
   "source": [
    "pool_balances = pool_contract.get_balances()\n",
    "total_coins = (pool_balances[1]+pool_balances[0])\n",
    "print(f\"coin 0 percentage: {pool_balances[0]/total_coins * 100}\")\n",
    "print(f\"coin 1 percentage: {pool_balances[1]/total_coins * 100}\")"
   ]
  },
  {
   "cell_type": "code",
   "execution_count": 11,
   "metadata": {},
   "outputs": [
    {
     "name": "stdout",
     "output_type": "stream",
     "text": [
      "Terminating local RPC client...\n"
     ]
    }
   ],
   "source": [
    "disconnect()"
   ]
  },
  {
   "cell_type": "code",
   "execution_count": null,
   "metadata": {},
   "outputs": [],
   "source": []
  }
 ],
 "metadata": {
  "kernelspec": {
   "display_name": "Python 3.7.10 64-bit ('venv': venv)",
   "name": "pythonjvsc74a57bd0ea544804ad94ad4b7270d2af05439f03f30e7952cca8d55759a97e338bf96f36"
  },
  "language_info": {
   "codemirror_mode": {
    "name": "ipython",
    "version": 3
   },
   "file_extension": ".py",
   "mimetype": "text/x-python",
   "name": "python",
   "nbconvert_exporter": "python",
   "pygments_lexer": "ipython3",
   "version": "3.7.10"
  },
  "metadata": {
   "interpreter": {
    "hash": "21df2f293af9707545440a88aaf24e48b342b3531ee3aea9e212c79967abcd9c"
   }
  },
  "orig_nbformat": 2
 },
 "nbformat": 4,
 "nbformat_minor": 2
}