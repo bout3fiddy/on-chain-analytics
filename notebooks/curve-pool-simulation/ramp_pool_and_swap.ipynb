{
 "cells": [
  {
   "cell_type": "code",
   "execution_count": 1,
   "metadata": {},
   "outputs": [],
   "source": [
    "import sys, os\n",
    "sys.path.append(\"../../\")\n",
    "\n",
    "from utils.contract_utils import init_contract\n",
    "from utils.network_utils import configure_network\n",
    "\n",
    "import brownie\n",
    "from brownie.network import chain"
   ]
  },
  {
   "cell_type": "code",
   "execution_count": 2,
   "metadata": {},
   "outputs": [
    {
     "name": "stdout",
     "output_type": "stream",
     "text": [
      "\n",
      "Launching 'ganache-cli --port 8545 --gasLimit 12000000 --accounts 10 --hardfork istanbul --mnemonic brownie --fork https://eth-mainnet.alchemyapi.io/v2/AxU0de70ONfvbD-3_pQX0wUlaBK6g3G4 --chainId 1'...\n"
     ]
    }
   ],
   "source": [
    "ALCHEMY_API_KEY = os.environ['ALCHEMY_API_KEY']\n",
    "configure_network(\n",
    "    node_provider_https=f\"https://eth-mainnet.alchemyapi.io/v2/{ALCHEMY_API_KEY}\",\n",
    "    network_name='mainnet'\n",
    ")\n",
    "brownie.network.connect('mainnet-fork')"
   ]
  },
  {
   "cell_type": "code",
   "execution_count": 3,
   "metadata": {},
   "outputs": [
    {
     "name": "stdout",
     "output_type": "stream",
     "text": [
      "  \u001b[0;1;35m@title \u001b[0;mStableSwap\n",
      "  \u001b[0;1;35m@notice \u001b[0;m2 coin pool implementation with no lending\n",
      "  \u001b[0;1;35m@author \u001b[0;mCurve.Fi\n",
      "  \u001b[0;1;35m@details \u001b[0;mOptimized to only support ERC20's with 18\n",
      "           decimals that return True/revert\n",
      "\n",
      "pool param details:\n",
      "initial_A: 5000\n",
      "initial_A_time: 0\n",
      "A: 50\n",
      "A_precise: 5000\n",
      "A_precision: 100\n"
     ]
    }
   ],
   "source": [
    "pool_contract_addr = \"0x9D0464996170c6B9e75eED71c68B99dDEDf279e8\"  # cvxcrv pool addr\n",
    "\n",
    "pool_contract = init_contract(contract_addr=pool_contract_addr)\n",
    "pool_info = pool_contract.info()\n",
    "\n",
    "initial_A = pool_contract.initial_A()\n",
    "initial_A_time = pool_contract.initial_A_time()\n",
    "A = pool_contract.A()\n",
    "A_precise = pool_contract.A_precise()\n",
    "A_precision = int(A_precise/A)\n",
    "\n",
    "print(f\"pool param details:\")\n",
    "print(f\"initial_A: {initial_A}\")\n",
    "print(f\"initial_A_time: {initial_A_time}\")\n",
    "print(f\"A: {A}\")\n",
    "print(f\"A_precise: {A_precise}\")\n",
    "print(f\"A_precision: {A_precision}\")"
   ]
  },
  {
   "cell_type": "markdown",
   "metadata": {},
   "source": [
    "# Swap rates before ramp"
   ]
  },
  {
   "cell_type": "code",
   "execution_count": 4,
   "metadata": {},
   "outputs": [],
   "source": [
    "dx = 100000 * 1e18"
   ]
  },
  {
   "cell_type": "code",
   "execution_count": 5,
   "metadata": {},
   "outputs": [
    {
     "data": {
      "text/plain": "100414056663484120407537"
     },
     "execution_count": 5,
     "metadata": {},
     "output_type": "execute_result"
    }
   ],
   "source": [
    "pool_contract.get_dy(0, 1, dx)"
   ]
  },
  {
   "cell_type": "code",
   "execution_count": 6,
   "metadata": {},
   "outputs": [
    {
     "data": {
      "text/plain": "99262302151856324745490"
     },
     "execution_count": 6,
     "metadata": {},
     "output_type": "execute_result"
    }
   ],
   "source": [
    "pool_contract.get_dy(1, 0, dx)"
   ]
  },
  {
   "cell_type": "markdown",
   "metadata": {},
   "source": [
    "# Ramp param:"
   ]
  },
  {
   "cell_type": "code",
   "execution_count": 7,
   "metadata": {},
   "outputs": [
    {
     "data": {
      "text/plain": "<Account '0x7EeAC6CDdbd1D0B8aF061742D41877D7F707289a'>"
     },
     "execution_count": 7,
     "metadata": {},
     "output_type": "execute_result"
    }
   ],
   "source": [
    "sender = brownie.accounts.at(init_contract(\"0xb9fc157394af804a3578134a6585c0dc9cc990d4\").admin(), force=True)\n",
    "sender"
   ]
  },
  {
   "cell_type": "code",
   "execution_count": 8,
   "metadata": {},
   "outputs": [
    {
     "name": "stdout",
     "output_type": "stream",
     "text": [
      "Ramp parameters: _future_A: 100, _future_time: 1632672359, msg.sender: 0x7EeAC6CDdbd1D0B8aF061742D41877D7F707289a, pool_contract: 0x9D0464996170c6B9e75eED71c68B99dDEDf279e8\n",
      "Transaction sent: \u001b[0;1;34m0x843a114384945ad5a461db0d95469ac8a04a2ae8096b75f33504124d051f0b52\u001b[0;m\n",
      "  Gas price: \u001b[0;1;34m0.0\u001b[0;m gwei   Gas limit: \u001b[0;1;34m12000000\u001b[0;m   Nonce: \u001b[0;1;34m896\u001b[0;m\n",
      "  Vyper_contract.ramp_A confirmed   Block: \u001b[0;1;34m13257111\u001b[0;m   Gas used: \u001b[0;1;34m77174\u001b[0;m (\u001b[0;1;34m0.64%\u001b[0;m)\n",
      "\n"
     ]
    },
    {
     "data": {
      "text/plain": "13257112"
     },
     "execution_count": 8,
     "metadata": {},
     "output_type": "execute_result"
    }
   ],
   "source": [
    "future_A = int(100)\n",
    "t0 = chain.time()\n",
    "t1 = int(t0 + 7 * 86400)\n",
    "\n",
    "print(f\"Ramp parameters: _future_A: {future_A}, _future_time: {t1}, msg.sender: {sender}, pool_contract: {pool_contract_addr}\")\n",
    "pool_contract.ramp_A(future_A, t1, {\"from\": sender})\n",
    "\n",
    "chain.sleep(t1)\n",
    "chain.mine()"
   ]
  },
  {
   "cell_type": "markdown",
   "metadata": {},
   "source": [
    "# Swap after ramp"
   ]
  },
  {
   "cell_type": "code",
   "execution_count": 9,
   "metadata": {},
   "outputs": [
    {
     "data": {
      "text/plain": "100134618717255653560903"
     },
     "execution_count": 9,
     "metadata": {},
     "output_type": "execute_result"
    }
   ],
   "source": [
    "pool_contract.get_dy(0, 1, dx)"
   ]
  },
  {
   "cell_type": "code",
   "execution_count": 10,
   "metadata": {},
   "outputs": [
    {
     "data": {
      "text/plain": "99552583748775495547054"
     },
     "execution_count": 10,
     "metadata": {},
     "output_type": "execute_result"
    }
   ],
   "source": [
    "pool_contract.get_dy(1, 0, dx)"
   ]
  },
  {
   "cell_type": "markdown",
   "metadata": {},
   "source": [
    "Disconnect"
   ]
  },
  {
   "cell_type": "code",
   "execution_count": 11,
   "metadata": {},
   "outputs": [
    {
     "name": "stdout",
     "output_type": "stream",
     "text": [
      "Terminating local RPC client...\n"
     ]
    }
   ],
   "source": [
    "brownie.network.disconnect()"
   ]
  }
 ],
 "metadata": {
  "kernelspec": {
   "display_name": "Python 3.7.10 64-bit ('venv': venv)",
   "name": "pythonjvsc74a57bd0ea544804ad94ad4b7270d2af05439f03f30e7952cca8d55759a97e338bf96f36"
  },
  "language_info": {
   "codemirror_mode": {
    "name": "ipython",
    "version": 3
   },
   "file_extension": ".py",
   "mimetype": "text/x-python",
   "name": "python",
   "nbconvert_exporter": "python",
   "pygments_lexer": "ipython3",
   "version": "3.7.10"
  },
  "metadata": {
   "interpreter": {
    "hash": "21df2f293af9707545440a88aaf24e48b342b3531ee3aea9e212c79967abcd9c"
   }
  },
  "orig_nbformat": 2
 },
 "nbformat": 4,
 "nbformat_minor": 2
}