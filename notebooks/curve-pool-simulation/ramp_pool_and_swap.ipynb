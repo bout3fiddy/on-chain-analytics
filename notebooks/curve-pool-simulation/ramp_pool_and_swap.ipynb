{
 "cells": [
  {
   "cell_type": "code",
   "execution_count": null,
   "metadata": {},
   "outputs": [],
   "source": [
    "import sys, os\n",
    "sys.path.append(\"../../\")\n",
    "\n",
    "from utils.contract_utils import init_contract\n",
    "from utils.network_utils import configure_network\n",
    "\n",
    "import brownie\n",
    "from brownie.network import chain"
   ]
  },
  {
   "cell_type": "code",
   "execution_count": null,
   "metadata": {},
   "outputs": [],
   "source": [
    "ALCHEMY_API_KEY = os.environ['ALCHEMY_API_KEY']\n",
    "configure_network_and_connect(\n",
    "    node_provider_https=f\"https://eth-mainnet.alchemyapi.io/v2/{ALCHEMY_API_KEY}\",\n",
    "    network_name='mainnet'\n",
    ")"
   ]
  },
  {
   "cell_type": "code",
   "execution_count": null,
   "metadata": {},
   "outputs": [],
   "source": [
    "pool_contract_addr = \"0x9D0464996170c6B9e75eED71c68B99dDEDf279e8\"  # cvxcrv pool addr\n",
    "\n",
    "pool_contract = init_contract(contract_addr=pool_contract_addr)\n",
    "pool_info = pool_contract.info()\n",
    "\n",
    "initial_A = pool_contract.initial_A()\n",
    "initial_A_time = pool_contract.initial_A_time()\n",
    "A = pool_contract.A()\n",
    "A_precise = pool_contract.A_precise()\n",
    "A_precision = int(A_precise/A)\n",
    "\n",
    "print(f\"pool param details:\")\n",
    "print(f\"pool info: {pool_info}\")\n",
    "print(f\"initial_A: {initial_A}\")\n",
    "print(f\"initial_A_time: {initial_A_time}\")\n",
    "print(f\"A: {A}\")\n",
    "print(f\"A_precise: {A_precise}\")\n",
    "print(f\"A_precision: {A_precision}\")"
   ]
  },
  {
   "cell_type": "markdown",
   "metadata": {},
   "source": [
    "# Swap before ramp"
   ]
  },
  {
   "cell_type": "code",
   "execution_count": null,
   "metadata": {},
   "outputs": [],
   "source": []
  },
  {
   "cell_type": "markdown",
   "metadata": {},
   "source": [
    "# Ramp param:"
   ]
  },
  {
   "cell_type": "code",
   "execution_count": null,
   "metadata": {},
   "outputs": [],
   "source": [
    "sender = brownie.accounts.at(init_contract(\"0xb9fc157394af804a3578134a6585c0dc9cc990d4\").admin(), force=True)\n",
    "sender"
   ]
  },
  {
   "cell_type": "code",
   "execution_count": null,
   "metadata": {},
   "outputs": [],
   "source": [
    "future_A = int(100)\n",
    "t0 = chain.time()\n",
    "t1 = int(t0 + 7 * 86400)\n",
    "\n",
    "print(f\"Ramp parameters: _future_A: {future_A}, _future_time: {t1}, msg.sender: {sender}, pool_contract: {pool_contract_addr}\")\n",
    "pool_contract.ramp_A(future_A, t1, {\"from\": sender})\n",
    "\n",
    "chain.sleep(t1)\n",
    "chain.mine()"
   ]
  },
  {
   "cell_type": "markdown",
   "metadata": {},
   "source": [
    "# Swap after ramp"
   ]
  },
  {
   "cell_type": "code",
   "execution_count": null,
   "metadata": {},
   "outputs": [],
   "source": []
  },
  {
   "cell_type": "markdown",
   "metadata": {},
   "source": [
    "Disconnect"
   ]
  },
  {
   "cell_type": "code",
   "execution_count": null,
   "metadata": {},
   "outputs": [],
   "source": [
    "brownie.network.disconnect()"
   ]
  }
 ],
 "metadata": {
  "kernelspec": {
   "display_name": "Python 3.7.10 64-bit ('venv': venv)",
   "name": "pythonjvsc74a57bd0ea544804ad94ad4b7270d2af05439f03f30e7952cca8d55759a97e338bf96f36"
  },
  "language_info": {
   "name": "python",
   "version": ""
  },
  "metadata": {
   "interpreter": {
    "hash": "21df2f293af9707545440a88aaf24e48b342b3531ee3aea9e212c79967abcd9c"
   }
  },
  "orig_nbformat": 2
 },
 "nbformat": 4,
 "nbformat_minor": 2
}