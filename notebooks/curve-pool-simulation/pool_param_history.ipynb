{
 "cells": [
  {
   "cell_type": "code",
   "execution_count": 1,
   "metadata": {},
   "outputs": [],
   "source": [
    "import sys, os, datetime\n",
    "sys.path.append(\"../../\")\n",
    "\n",
    "from utils.contract_utils import init_contract\n",
    "from utils.network_utils import configure_network_and_connect\n",
    "\n",
    "import brownie"
   ]
  },
  {
   "cell_type": "code",
   "execution_count": 10,
   "metadata": {},
   "outputs": [],
   "source": [
    "import pandas as pd\n",
    "import matplotlib.pyplot as plt\n",
    "import seaborn as sns\n",
    "sns.set_style(\"whitegrid\")"
   ]
  },
  {
   "cell_type": "markdown",
   "metadata": {},
   "source": [
    "Connect to mainnet (archive node required: use Alchemy)"
   ]
  },
  {
   "cell_type": "code",
   "execution_count": 3,
   "metadata": {},
   "outputs": [],
   "source": [
    "ALCHEMY_API_KEY = os.environ['ALCHEMY_API_KEY']\n",
    "configure_network_and_connect(\n",
    "    node_provider_https=f\"https://eth-mainnet.alchemyapi.io/v2/{ALCHEMY_API_KEY}\",\n",
    "    network_name='mainnet'\n",
    ")"
   ]
  },
  {
   "cell_type": "markdown",
   "metadata": {},
   "source": [
    "load mim-3crv pool contract"
   ]
  },
  {
   "cell_type": "code",
   "execution_count": 4,
   "metadata": {},
   "outputs": [
    {
     "name": "stdout",
     "output_type": "stream",
     "text": [
      "  \u001b[0;1;35m@title \u001b[0;mStableSwap\n",
      "  \u001b[0;1;35m@notice \u001b[0;m3pool metapool implementation contract\n",
      "  \u001b[0;1;35m@author \u001b[0;mCurve.Fi\n",
      "\n"
     ]
    }
   ],
   "source": [
    "pool_contract_addr = \"0x5a6A4D54456819380173272A5E8E9B9904BdF41B\"  # mim-3crv pool\n",
    "pool_contract_genesis = 12567592\n",
    "pool_contract = init_contract(pool_contract_addr)\n",
    "pool_name = pool_contract.name()\n",
    "pool_contract.info()"
   ]
  },
  {
   "cell_type": "markdown",
   "metadata": {},
   "source": [
    "get current block:"
   ]
  },
  {
   "cell_type": "code",
   "execution_count": 5,
   "metadata": {},
   "outputs": [
    {
     "data": {
      "text/plain": "datetime.datetime(2021, 9, 18, 13, 48, 55)"
     },
     "execution_count": 5,
     "metadata": {},
     "output_type": "execute_result"
    }
   ],
   "source": [
    "current_block = brownie.web3.eth.block_number\n",
    "current_block\n",
    "\n",
    "datetime.datetime.fromtimestamp(brownie.web3.eth.get_block(current_block)['timestamp'])"
   ]
  },
  {
   "cell_type": "code",
   "execution_count": 6,
   "metadata": {},
   "outputs": [],
   "source": [
    "go_back_steps = 10000  # blocks"
   ]
  },
  {
   "cell_type": "markdown",
   "metadata": {},
   "source": [
    "Step backwards in block height to get pool parameters."
   ]
  },
  {
   "cell_type": "code",
   "execution_count": 14,
   "metadata": {},
   "outputs": [
    {
     "name": "stdout",
     "output_type": "stream",
     "text": [
      "Fetching historic A parameters for 0x5a6A4D54456819380173272A5E8E9B9904BdF41B (Curve.fi Factory USD Metapool: Magic Internet Money 3Pool)\n"
     ]
    }
   ],
   "source": [
    "print(f\"Fetching historic A parameters for {pool_contract_addr} ({pool_name})\")\n",
    "historic_A = []\n",
    "block_timestamp = []\n",
    "queried_blocks = list(range(current_block, pool_contract_genesis, -1*go_back_steps))\n",
    "for i in queried_blocks:\n",
    "    block_timestamp.append(\n",
    "        datetime.datetime.fromtimestamp(\n",
    "            brownie.web3.eth.get_block(i)['timestamp']\n",
    "        )\n",
    "    )\n",
    "    historic_A.append(pool_contract.A(block_identifier=i))"
   ]
  },
  {
   "cell_type": "code",
   "execution_count": 15,
   "metadata": {},
   "outputs": [
    {
     "data": {
      "text/html": "<div>\n<style scoped>\n    .dataframe tbody tr th:only-of-type {\n        vertical-align: middle;\n    }\n\n    .dataframe tbody tr th {\n        vertical-align: top;\n    }\n\n    .dataframe thead th {\n        text-align: right;\n    }\n</style>\n<table border=\"1\" class=\"dataframe\">\n  <thead>\n    <tr style=\"text-align: right;\">\n      <th></th>\n      <th>historic_A</th>\n    </tr>\n  </thead>\n  <tbody>\n    <tr>\n      <th>2021-06-04 20:06:31</th>\n      <td>10</td>\n    </tr>\n    <tr>\n      <th>2021-06-06 09:10:09</th>\n      <td>10</td>\n    </tr>\n    <tr>\n      <th>2021-06-07 22:18:32</th>\n      <td>10</td>\n    </tr>\n    <tr>\n      <th>2021-06-09 11:14:16</th>\n      <td>10</td>\n    </tr>\n    <tr>\n      <th>2021-06-11 00:27:04</th>\n      <td>10</td>\n    </tr>\n    <tr>\n      <th>...</th>\n      <td>...</td>\n    </tr>\n    <tr>\n      <th>2021-09-12 09:06:52</th>\n      <td>100</td>\n    </tr>\n    <tr>\n      <th>2021-09-13 22:21:15</th>\n      <td>100</td>\n    </tr>\n    <tr>\n      <th>2021-09-15 11:33:49</th>\n      <td>100</td>\n    </tr>\n    <tr>\n      <th>2021-09-17 00:30:23</th>\n      <td>100</td>\n    </tr>\n    <tr>\n      <th>2021-09-18 13:48:55</th>\n      <td>100</td>\n    </tr>\n  </tbody>\n</table>\n<p>69 rows × 1 columns</p>\n</div>",
      "text/plain": "                     historic_A\n2021-06-04 20:06:31          10\n2021-06-06 09:10:09          10\n2021-06-07 22:18:32          10\n2021-06-09 11:14:16          10\n2021-06-11 00:27:04          10\n...                         ...\n2021-09-12 09:06:52         100\n2021-09-13 22:21:15         100\n2021-09-15 11:33:49         100\n2021-09-17 00:30:23         100\n2021-09-18 13:48:55         100\n\n[69 rows x 1 columns]"
     },
     "execution_count": 15,
     "metadata": {},
     "output_type": "execute_result"
    }
   ],
   "source": [
    "data = pd.DataFrame(index=block_timestamp[::-1], data=historic_A[::-1], columns=['historic_A'])\n",
    "data"
   ]
  },
  {
   "cell_type": "code",
   "execution_count": 18,
   "metadata": {},
   "outputs": [
    {
     "data": {
      "text/plain": "<matplotlib.legend.Legend at 0x14d286e50>"
     },
     "execution_count": 18,
     "metadata": {},
     "output_type": "execute_result"
    },
    {
     "data": {
      "image/png": "[encoded data removed]",
      "text/plain": "<Figure size 720x360 with 1 Axes>"
     },
     "metadata": {},
     "output_type": "display_data"
    }
   ],
   "source": [
    "fig, ax = plt.subplots(1,1, figsize=(10, 5))\n",
    "\n",
    "data.plot(ax=ax)\n",
    "\n",
    "ax.set_xlabel(\"Block number\", fontsize=20)\n",
    "ax.set_ylabel(\"A parameter\", fontsize=20)\n",
    "ax.set_title(f\"Historic A parameters for \\n{pool_name} pool\", fontsize=15);\n",
    "ax.tick_params(axis='both', which='major', labelsize=15)\n",
    "\n",
    "ax.legend(fontsize=20)\n"
   ]
  },
  {
   "cell_type": "markdown",
   "metadata": {},
   "source": [
    "Disconnect."
   ]
  },
  {
   "cell_type": "code",
   "execution_count": 19,
   "metadata": {},
   "outputs": [],
   "source": [
    "brownie.network.disconnect()"
   ]
  },
  {
   "cell_type": "code",
   "execution_count": null,
   "metadata": {},
   "outputs": [],
   "source": []
  }
 ],
 "metadata": {
  "kernelspec": {
   "display_name": "Python 3.7.10  ('venv': venv)",
   "name": "python3710jvsc74a57bd021df2f293af9707545440a88aaf24e48b342b3531ee3aea9e212c79967abcd9c"
  },
  "language_info": {
   "codemirror_mode": {
    "name": "ipython",
    "version": 3
   },
   "file_extension": ".py",
   "mimetype": "text/x-python",
   "name": "python",
   "nbconvert_exporter": "python",
   "pygments_lexer": "ipython3",
   "version": "3.7.10"
  },
  "metadata": {
   "interpreter": {
    "hash": "21df2f293af9707545440a88aaf24e48b342b3531ee3aea9e212c79967abcd9c"
   }
  },
  "orig_nbformat": 2
 },
 "nbformat": 4,
 "nbformat_minor": 2
}