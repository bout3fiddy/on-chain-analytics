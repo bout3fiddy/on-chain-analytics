{
 "cells": [
  {
   "cell_type": "markdown",
   "metadata": {},
   "source": [
    "The goal of this notebook is the replicate an existing Curve pool (stableswap)."
   ]
  },
  {
   "cell_type": "code",
   "execution_count": null,
   "metadata": {},
   "outputs": [],
   "source": [
    "import sys, os\n",
    "sys.path.append(\"../../\")\n",
    "\n",
    "from utils.contract_utils import init_contract\n",
    "from utils.network_utils import configure_network\n",
    "\n",
    "import brownie\n",
    "from brownie.network import chain"
   ]
  },
  {
   "cell_type": "markdown",
   "metadata": {},
   "source": [
    "configure mainnet to alchemy"
   ]
  },
  {
   "cell_type": "code",
   "execution_count": null,
   "metadata": {},
   "outputs": [],
   "source": [
    "ALCHEMY_API_KEY = os.environ['ALCHEMY_API_KEY']"
   ]
  },
  {
   "cell_type": "code",
   "execution_count": null,
   "metadata": {},
   "outputs": [],
   "source": [
    "configure_network(\n",
    "    node_provider_https=f\"https://eth-mainnet.alchemyapi.io/v2/{ALCHEMY_API_KEY}\",\n",
    "    network_name='mainnet'\n",
    ")"
   ]
  },
  {
   "cell_type": "code",
   "execution_count": null,
   "metadata": {},
   "outputs": [],
   "source": [
    "brownie.network.connect('mainnet-fork')"
   ]
  },
  {
   "cell_type": "markdown",
   "metadata": {},
   "source": [
    "Load pool contract:"
   ]
  },
  {
   "cell_type": "code",
   "execution_count": null,
   "metadata": {},
   "outputs": [],
   "source": [
    "pool_contract_addr = \"0x9D0464996170c6B9e75eED71c68B99dDEDf279e8\"  # cvxcrv pool addr\n",
    "\n",
    "pool_contract = init_contract(contract_addr=pool_contract_addr)\n",
    "pool_contract.info()"
   ]
  },
  {
   "cell_type": "code",
   "execution_count": null,
   "metadata": {},
   "outputs": [],
   "source": [
    "initial_A = pool_contract.initial_A()\n",
    "initial_A_time = pool_contract.initial_A_time()\n",
    "A = pool_contract.A()\n",
    "A_precise = pool_contract.A_precise()\n",
    "A_precision = int(A_precise/A)\n",
    "\n",
    "print(f\"pool param details:\")\n",
    "print(f\"initial_A: {initial_A}\")\n",
    "print(f\"initial_A_time: {initial_A_time}\")\n",
    "print(f\"A: {A}\")\n",
    "print(f\"A_precise: {A_precise}\")\n",
    "print(f\"A_precision: {A_precision}\")"
   ]
  },
  {
   "cell_type": "markdown",
   "metadata": {},
   "source": [
    "## Ramp pool to a different A."
   ]
  },
  {
   "cell_type": "markdown",
   "metadata": {},
   "source": [
    "Ramp parameters:"
   ]
  },
  {
   "cell_type": "code",
   "execution_count": null,
   "metadata": {},
   "outputs": [],
   "source": [
    "future_A = int(100 * A_precision)\n",
    "t0 = chain.time()\n",
    "t1 = int(t0 + 7 * 86400)"
   ]
  },
  {
   "cell_type": "markdown",
   "metadata": {},
   "source": [
    "Get Admin address:\n"
   ]
  },
  {
   "cell_type": "code",
   "execution_count": null,
   "metadata": {},
   "outputs": [],
   "source": [
    "admin_addr = \"0x7EeAC6CDdbd1D0B8aF061742D41877D7F707289a\""
   ]
  },
  {
   "cell_type": "markdown",
   "metadata": {},
   "source": [
    "Ramp pool:"
   ]
  },
  {
   "cell_type": "code",
   "execution_count": null,
   "metadata": {},
   "outputs": [],
   "source": [
    "print(f\"Ramp parameters: _future_A: {future_A}, _future_time: {t1}, msg.sender: {admin_addr}, pool_contract: {pool_contract_addr}\")\n",
    "pool_contract.ramp_A(future_A, t1, {\"from\": admin_addr})"
   ]
  },
  {
   "cell_type": "markdown",
   "metadata": {},
   "source": [
    "Sleep for some time and then mine the chain to get new state."
   ]
  },
  {
   "cell_type": "code",
   "execution_count": null,
   "metadata": {},
   "outputs": [],
   "source": [
    "chain.sleep(t1)\n",
    "chain.mine()"
   ]
  },
  {
   "cell_type": "markdown",
   "metadata": {},
   "source": [
    "Check if ramp was successful:"
   ]
  },
  {
   "cell_type": "code",
   "execution_count": null,
   "metadata": {},
   "outputs": [],
   "source": [
    "initial_A = pool_contract.initial_A()\n",
    "initial_A_time = pool_contract.initial_A_time()\n",
    "A = pool_contract.A()\n",
    "A_precise = pool_contract.A_precise()\n",
    "A_precision = int(A_precise/A)\n",
    "\n",
    "print(f\"pool param details:\")\n",
    "print(f\"initial_A: {initial_A}\")\n",
    "print(f\"initial_A_time: {initial_A_time}\")\n",
    "print(f\"A: {A}\")\n",
    "print(f\"A_precise: {A_precise}\")\n",
    "print(f\"A_precision: {A_precision}\")"
   ]
  },
  {
   "cell_type": "markdown",
   "metadata": {},
   "source": [
    "Disconnect:"
   ]
  },
  {
   "cell_type": "code",
   "execution_count": null,
   "metadata": {},
   "outputs": [],
   "source": [
    "brownie.network.disconnect()"
   ]
  }
 ],
 "metadata": {
  "kernelspec": {
   "display_name": "Python 3.7.10  ('venv': venv)",
   "name": "pythonjvsc74a57bd0bcf336e9470313d62061f7fe5334ba62b1df9489e48a95345a419f74c96ed75e"
  },
  "language_info": {
   "codemirror_mode": {
    "name": "ipython",
    "version": 3
   },
   "file_extension": ".py",
   "mimetype": "text/x-python",
   "name": "python",
   "nbconvert_exporter": "python",
   "pygments_lexer": "ipython3",
   "version": "3.7.10"
  },
  "metadata": {
   "interpreter": {
    "hash": "21df2f293af9707545440a88aaf24e48b342b3531ee3aea9e212c79967abcd9c"
   }
  },
  "orig_nbformat": 2
 },
 "nbformat": 4,
 "nbformat_minor": 2
}