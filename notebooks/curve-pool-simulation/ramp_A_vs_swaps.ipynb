{
 "cells": [
  {
   "cell_type": "markdown",
   "metadata": {},
   "source": [
    "A vs swap slippage"
   ]
  },
  {
   "cell_type": "code",
   "execution_count": 1,
   "metadata": {},
   "outputs": [],
   "source": [
    "import sys, os\n",
    "sys.path.append(\"../../\")\n",
    "\n",
    "from utils.contract_utils import init_contract\n",
    "from utils.network_utils import configure_network\n",
    "\n",
    "import brownie\n",
    "from brownie.network import chain"
   ]
  },
  {
   "cell_type": "code",
   "execution_count": 2,
   "metadata": {},
   "outputs": [],
   "source": [
    "import pandas as pd\n",
    "import matplotlib.pyplot as plt\n",
    "import seaborn as sns\n",
    "sns.set_style(\"whitegrid\")"
   ]
  },
  {
   "cell_type": "code",
   "execution_count": 3,
   "metadata": {},
   "outputs": [
    {
     "name": "stdout",
     "output_type": "stream",
     "text": [
      "\n",
      "Launching 'ganache-cli --port 8545 --gasLimit 12000000 --accounts 10 --hardfork istanbul --mnemonic brownie --fork https://eth-mainnet.alchemyapi.io/v2/AxU0de70ONfvbD-3_pQX0wUlaBK6g3G4 --chainId 1'...\n"
     ]
    }
   ],
   "source": [
    "ALCHEMY_API_KEY = os.environ['ALCHEMY_API_KEY']\n",
    "configure_network(\n",
    "    node_provider_https=f\"https://eth-mainnet.alchemyapi.io/v2/{ALCHEMY_API_KEY}\",\n",
    "    network_name='mainnet'\n",
    ")\n",
    "brownie.network.connect('mainnet-fork')"
   ]
  },
  {
   "cell_type": "code",
   "execution_count": 4,
   "metadata": {},
   "outputs": [
    {
     "name": "stdout",
     "output_type": "stream",
     "text": [
      "  \u001b[0;1;35m@title \u001b[0;mStableSwap\n",
      "  \u001b[0;1;35m@notice \u001b[0;m2 coin pool implementation with no lending\n",
      "  \u001b[0;1;35m@author \u001b[0;mCurve.Fi\n",
      "  \u001b[0;1;35m@details \u001b[0;mOptimized to only support ERC20's with 18\n",
      "           decimals that return True/revert\n",
      "\n",
      "pool param details:\n",
      "initial_A: 5000\n",
      "initial_A_time: 0\n",
      "A: 50\n",
      "A_precise: 5000\n",
      "A_precision: 100\n"
     ]
    }
   ],
   "source": [
    "pool_contract_addr = \"0x9D0464996170c6B9e75eED71c68B99dDEDf279e8\"  # cvxcrv pool addr\n",
    "\n",
    "pool_contract = init_contract(contract_addr=pool_contract_addr)\n",
    "pool_info = pool_contract.info()\n",
    "\n",
    "initial_A = pool_contract.initial_A()\n",
    "initial_A_time = pool_contract.initial_A_time()\n",
    "A = pool_contract.A()\n",
    "A_precise = pool_contract.A_precise()\n",
    "A_precision = int(A_precise/A)\n",
    "\n",
    "print(f\"pool param details:\")\n",
    "print(f\"initial_A: {initial_A}\")\n",
    "print(f\"initial_A_time: {initial_A_time}\")\n",
    "print(f\"A: {A}\")\n",
    "print(f\"A_precise: {A_precise}\")\n",
    "print(f\"A_precision: {A_precision}\")"
   ]
  },
  {
   "cell_type": "markdown",
   "metadata": {},
   "source": [
    "# Swap rates as a function of A"
   ]
  },
  {
   "cell_type": "code",
   "execution_count": 5,
   "metadata": {},
   "outputs": [],
   "source": [
    "sender = brownie.accounts.at(init_contract(\"0xb9fc157394af804a3578134a6585c0dc9cc990d4\").admin(), force=True)"
   ]
  },
  {
   "cell_type": "code",
   "execution_count": 6,
   "metadata": {},
   "outputs": [],
   "source": [
    "dx = 10000 * 1e18"
   ]
  },
  {
   "cell_type": "code",
   "execution_count": 7,
   "metadata": {},
   "outputs": [],
   "source": [
    "future_A = int(500)\n",
    "A_ramp_steps = int(10)\n",
    "A_params_simulation = list(range(A, future_A+A_ramp_steps, A_ramp_steps))"
   ]
  },
  {
   "cell_type": "markdown",
   "metadata": {},
   "source": [
    "coin A to B"
   ]
  },
  {
   "cell_type": "markdown",
   "metadata": {},
   "source": [
    "make snapshot of chain first:"
   ]
  },
  {
   "cell_type": "code",
   "execution_count": 8,
   "metadata": {},
   "outputs": [],
   "source": [
    "chain.snapshot()\n",
    "t0 = chain.time()\n",
    "t1 = int(t0 + 7 * 86400)"
   ]
  },
  {
   "cell_type": "code",
   "execution_count": 9,
   "metadata": {},
   "outputs": [
    {
     "name": "stdout",
     "output_type": "stream",
     "text": [
      "Transaction sent: \u001b[0;1;34m0x985db7288626bd02558de9baa7f0d22ad8e6fd82104f902ef2ed6613b0096bcd\u001b[0;m\n",
      "  Gas price: \u001b[0;1;34m0.0\u001b[0;m gwei   Gas limit: \u001b[0;1;34m12000000\u001b[0;m   Nonce: \u001b[0;1;34m896\u001b[0;m\n",
      "  Vyper_contract.ramp_A confirmed   Block: \u001b[0;1;34m13257693\u001b[0;m   Gas used: \u001b[0;1;34m72974\u001b[0;m (\u001b[0;1;34m0.61%\u001b[0;m)\n",
      "\n",
      "Transaction sent: \u001b[0;1;34m0xcdae9a59886c29404d628832286b4432495d7d56387e4a796eaffd4bbeaf9876\u001b[0;m\n",
      "  Gas price: \u001b[0;1;34m0.0\u001b[0;m gwei   Gas limit: \u001b[0;1;34m12000000\u001b[0;m   Nonce: \u001b[0;1;34m896\u001b[0;m\n",
      "  Vyper_contract.ramp_A confirmed   Block: \u001b[0;1;34m13257693\u001b[0;m   Gas used: \u001b[0;1;34m77174\u001b[0;m (\u001b[0;1;34m0.64%\u001b[0;m)\n",
      "\n",
      "Transaction sent: \u001b[0;1;34m0x0d872654ed11fb7c19f804b48fd43f32e1c6a7b7aeea4ae855063d45a74b2f5e\u001b[0;m\n",
      "  Gas price: \u001b[0;1;34m0.0\u001b[0;m gwei   Gas limit: \u001b[0;1;34m12000000\u001b[0;m   Nonce: \u001b[0;1;34m896\u001b[0;m\n",
      "  Vyper_contract.ramp_A confirmed   Block: \u001b[0;1;34m13257693\u001b[0;m   Gas used: \u001b[0;1;34m77174\u001b[0;m (\u001b[0;1;34m0.64%\u001b[0;m)\n",
      "\n",
      "Transaction sent: \u001b[0;1;34m0x5f0e57b9692f27caf389439a433b10a0ef5b37c4cb657ae48bd34a042b8258b7\u001b[0;m\n",
      "  Gas price: \u001b[0;1;34m0.0\u001b[0;m gwei   Gas limit: \u001b[0;1;34m12000000\u001b[0;m   Nonce: \u001b[0;1;34m896\u001b[0;m\n",
      "  Vyper_contract.ramp_A confirmed   Block: \u001b[0;1;34m13257693\u001b[0;m   Gas used: \u001b[0;1;34m77174\u001b[0;m (\u001b[0;1;34m0.64%\u001b[0;m)\n",
      "\n",
      "Transaction sent: \u001b[0;1;34m0xea2ca84e148e775a7f625a520a2c7e4c38512b3448db23863da94c45d8d92cc1\u001b[0;m\n",
      "  Gas price: \u001b[0;1;34m0.0\u001b[0;m gwei   Gas limit: \u001b[0;1;34m12000000\u001b[0;m   Nonce: \u001b[0;1;34m896\u001b[0;m\n",
      "  Vyper_contract.ramp_A confirmed   Block: \u001b[0;1;34m13257693\u001b[0;m   Gas used: \u001b[0;1;34m77174\u001b[0;m (\u001b[0;1;34m0.64%\u001b[0;m)\n",
      "\n",
      "Transaction sent: \u001b[0;1;34m0x4e9f02daeae9b5a642d75f508b0defd0b9fa2acb5fefdbe3347a838156b97799\u001b[0;m\n",
      "  Gas price: \u001b[0;1;34m0.0\u001b[0;m gwei   Gas limit: \u001b[0;1;34m12000000\u001b[0;m   Nonce: \u001b[0;1;34m896\u001b[0;m\n",
      "  Vyper_contract.ramp_A confirmed   Block: \u001b[0;1;34m13257693\u001b[0;m   Gas used: \u001b[0;1;34m77174\u001b[0;m (\u001b[0;1;34m0.64%\u001b[0;m)\n",
      "\n",
      "Transaction sent: \u001b[0;1;34m0x39fe3279da7d7565abb920853e45062d61e7a242bd783f6d7708503fc3ce4bf4\u001b[0;m\n",
      "  Gas price: \u001b[0;1;34m0.0\u001b[0;m gwei   Gas limit: \u001b[0;1;34m12000000\u001b[0;m   Nonce: \u001b[0;1;34m896\u001b[0;m\n",
      "  Vyper_contract.ramp_A confirmed   Block: \u001b[0;1;34m13257693\u001b[0;m   Gas used: \u001b[0;1;34m77174\u001b[0;m (\u001b[0;1;34m0.64%\u001b[0;m)\n",
      "\n",
      "Transaction sent: \u001b[0;1;34m0xc5e163aead28bac8ea29e907fdd40399e6227792c082455df2cfc2f00fe74f8d\u001b[0;m\n",
      "  Gas price: \u001b[0;1;34m0.0\u001b[0;m gwei   Gas limit: \u001b[0;1;34m12000000\u001b[0;m   Nonce: \u001b[0;1;34m896\u001b[0;m\n",
      "  Vyper_contract.ramp_A confirmed   Block: \u001b[0;1;34m13257693\u001b[0;m   Gas used: \u001b[0;1;34m77174\u001b[0;m (\u001b[0;1;34m0.64%\u001b[0;m)\n",
      "\n",
      "Transaction sent: \u001b[0;1;34m0x933dee84c7ffdd010046047cd1135735063523c9acd94fb365072dea028f5445\u001b[0;m\n",
      "  Gas price: \u001b[0;1;34m0.0\u001b[0;m gwei   Gas limit: \u001b[0;1;34m12000000\u001b[0;m   Nonce: \u001b[0;1;34m896\u001b[0;m\n",
      "  Vyper_contract.ramp_A confirmed   Block: \u001b[0;1;34m13257693\u001b[0;m   Gas used: \u001b[0;1;34m77174\u001b[0;m (\u001b[0;1;34m0.64%\u001b[0;m)\n",
      "\n",
      "Transaction sent: \u001b[0;1;34m0xd2a785d1c12158d3b34ea1985bab8016f809c2a868c029cd96d66e3426432bd0\u001b[0;m\n",
      "  Gas price: \u001b[0;1;34m0.0\u001b[0;m gwei   Gas limit: \u001b[0;1;34m12000000\u001b[0;m   Nonce: \u001b[0;1;34m896\u001b[0;m\n",
      "  Vyper_contract.ramp_A confirmed   Block: \u001b[0;1;34m13257693\u001b[0;m   Gas used: \u001b[0;1;34m77174\u001b[0;m (\u001b[0;1;34m0.64%\u001b[0;m)\n",
      "\n",
      "Transaction sent: \u001b[0;1;34m0x40e0834af75a6c69c5d051f05486a5a3cb39a7b167dccdfd9d8943e108b60e32\u001b[0;m\n",
      "  Gas price: \u001b[0;1;34m0.0\u001b[0;m gwei   Gas limit: \u001b[0;1;34m12000000\u001b[0;m   Nonce: \u001b[0;1;34m896\u001b[0;m\n",
      "  Vyper_contract.ramp_A confirmed   Block: \u001b[0;1;34m13257693\u001b[0;m   Gas used: \u001b[0;1;34m77174\u001b[0;m (\u001b[0;1;34m0.64%\u001b[0;m)\n",
      "\n",
      "Transaction sent: \u001b[0;1;34m0x29421f4a16e7379e6a605c4c1763af1f4c571574147050e5414ce2b597759194\u001b[0;m\n",
      "  Gas price: \u001b[0;1;34m0.0\u001b[0;m gwei   Gas limit: \u001b[0;1;34m12000000\u001b[0;m   Nonce: \u001b[0;1;34m896\u001b[0;m\n",
      "  Vyper_contract.ramp_A confirmed   Block: \u001b[0;1;34m13257693\u001b[0;m   Gas used: \u001b[0;1;34m77174\u001b[0;m (\u001b[0;1;34m0.64%\u001b[0;m)\n",
      "\n",
      "Transaction sent: \u001b[0;1;34m0x3a43bf2bc7dce53c9c890531bd36f6c0e86b8263f55193ec03a5f400f50a247c\u001b[0;m\n",
      "  Gas price: \u001b[0;1;34m0.0\u001b[0;m gwei   Gas limit: \u001b[0;1;34m12000000\u001b[0;m   Nonce: \u001b[0;1;34m896\u001b[0;m\n",
      "  Vyper_contract.ramp_A confirmed   Block: \u001b[0;1;34m13257693\u001b[0;m   Gas used: \u001b[0;1;34m77174\u001b[0;m (\u001b[0;1;34m0.64%\u001b[0;m)\n",
      "\n",
      "Transaction sent: \u001b[0;1;34m0xa4d93e2f3aca80ca98ffe59e075e220e2af9a55122d5de677ea376b3fd5e1a97\u001b[0;m\n",
      "  Gas price: \u001b[0;1;34m0.0\u001b[0;m gwei   Gas limit: \u001b[0;1;34m12000000\u001b[0;m   Nonce: \u001b[0;1;34m896\u001b[0;m\n",
      "  Vyper_contract.ramp_A confirmed   Block: \u001b[0;1;34m13257693\u001b[0;m   Gas used: \u001b[0;1;34m77174\u001b[0;m (\u001b[0;1;34m0.64%\u001b[0;m)\n",
      "\n",
      "Transaction sent: \u001b[0;1;34m0x2a2c0a94c668a1c85c0dc87197eafbd8cf1853628f9ba831a7f6ed434ad94993\u001b[0;m\n",
      "  Gas price: \u001b[0;1;34m0.0\u001b[0;m gwei   Gas limit: \u001b[0;1;34m12000000\u001b[0;m   Nonce: \u001b[0;1;34m896\u001b[0;m\n",
      "  Vyper_contract.ramp_A confirmed   Block: \u001b[0;1;34m13257693\u001b[0;m   Gas used: \u001b[0;1;34m77174\u001b[0;m (\u001b[0;1;34m0.64%\u001b[0;m)\n",
      "\n",
      "Transaction sent: \u001b[0;1;34m0xcd0437207286bc014908f6b60a4159de9677007ca66148cdbebe578c495e7f29\u001b[0;m\n",
      "  Gas price: \u001b[0;1;34m0.0\u001b[0;m gwei   Gas limit: \u001b[0;1;34m12000000\u001b[0;m   Nonce: \u001b[0;1;34m896\u001b[0;m\n",
      "  Vyper_contract.ramp_A confirmed   Block: \u001b[0;1;34m13257693\u001b[0;m   Gas used: \u001b[0;1;34m77174\u001b[0;m (\u001b[0;1;34m0.64%\u001b[0;m)\n",
      "\n",
      "Transaction sent: \u001b[0;1;34m0xfcc369701b2d38a1d9f972ea42447fcc28557da63a03b1b65b7b5aaa5a1100ee\u001b[0;m\n",
      "  Gas price: \u001b[0;1;34m0.0\u001b[0;m gwei   Gas limit: \u001b[0;1;34m12000000\u001b[0;m   Nonce: \u001b[0;1;34m896\u001b[0;m\n",
      "  Vyper_contract.ramp_A confirmed   Block: \u001b[0;1;34m13257693\u001b[0;m   Gas used: \u001b[0;1;34m77174\u001b[0;m (\u001b[0;1;34m0.64%\u001b[0;m)\n",
      "\n",
      "Transaction sent: \u001b[0;1;34m0xd3aa8ec12eb4145baf2d6cf1316b295304d8a15a847bccb4454484711f43a284\u001b[0;m\n",
      "  Gas price: \u001b[0;1;34m0.0\u001b[0;m gwei   Gas limit: \u001b[0;1;34m12000000\u001b[0;m   Nonce: \u001b[0;1;34m896\u001b[0;m\n",
      "  Vyper_contract.ramp_A confirmed   Block: \u001b[0;1;34m13257693\u001b[0;m   Gas used: \u001b[0;1;34m77174\u001b[0;m (\u001b[0;1;34m0.64%\u001b[0;m)\n",
      "\n",
      "Transaction sent: \u001b[0;1;34m0x719157e5667c499a945cc61e07d06b003ee5b0a3d49f0b367bed8b1b4eba37e0\u001b[0;m\n",
      "  Gas price: \u001b[0;1;34m0.0\u001b[0;m gwei   Gas limit: \u001b[0;1;34m12000000\u001b[0;m   Nonce: \u001b[0;1;34m896\u001b[0;m\n",
      "  Vyper_contract.ramp_A confirmed   Block: \u001b[0;1;34m13257693\u001b[0;m   Gas used: \u001b[0;1;34m77174\u001b[0;m (\u001b[0;1;34m0.64%\u001b[0;m)\n",
      "\n",
      "Transaction sent: \u001b[0;1;34m0xd6d0cd8c79cfeec07b701e268125f9061af6314f28a7aa07e639ad51d460855e\u001b[0;m\n",
      "  Gas price: \u001b[0;1;34m0.0\u001b[0;m gwei   Gas limit: \u001b[0;1;34m12000000\u001b[0;m   Nonce: \u001b[0;1;34m896\u001b[0;m\n",
      "  Vyper_contract.ramp_A confirmed   Block: \u001b[0;1;34m13257693\u001b[0;m   Gas used: \u001b[0;1;34m77174\u001b[0;m (\u001b[0;1;34m0.64%\u001b[0;m)\n",
      "\n",
      "Transaction sent: \u001b[0;1;34m0x19c932003b66b3eb3a2cc39725ca9828f939981289f6218c7675839cfa49eead\u001b[0;m\n",
      "  Gas price: \u001b[0;1;34m0.0\u001b[0;m gwei   Gas limit: \u001b[0;1;34m12000000\u001b[0;m   Nonce: \u001b[0;1;34m896\u001b[0;m\n",
      "  Vyper_contract.ramp_A confirmed   Block: \u001b[0;1;34m13257693\u001b[0;m   Gas used: \u001b[0;1;34m77174\u001b[0;m (\u001b[0;1;34m0.64%\u001b[0;m)\n",
      "\n",
      "Transaction sent: \u001b[0;1;34m0xa30b244671526c5253bc7331449c04fdbaf322744617129c4980d67a06ab3533\u001b[0;m\n",
      "  Gas price: \u001b[0;1;34m0.0\u001b[0;m gwei   Gas limit: \u001b[0;1;34m12000000\u001b[0;m   Nonce: \u001b[0;1;34m896\u001b[0;m\n",
      "  Vyper_contract.ramp_A confirmed   Block: \u001b[0;1;34m13257693\u001b[0;m   Gas used: \u001b[0;1;34m77186\u001b[0;m (\u001b[0;1;34m0.64%\u001b[0;m)\n",
      "\n",
      "Transaction sent: \u001b[0;1;34m0xbcdd022cc27a6c71eae267f3bf5f8b7f6fb5afa74969e46b6675a8cb2a5e0769\u001b[0;m\n",
      "  Gas price: \u001b[0;1;34m0.0\u001b[0;m gwei   Gas limit: \u001b[0;1;34m12000000\u001b[0;m   Nonce: \u001b[0;1;34m896\u001b[0;m\n",
      "  Vyper_contract.ramp_A confirmed   Block: \u001b[0;1;34m13257693\u001b[0;m   Gas used: \u001b[0;1;34m77186\u001b[0;m (\u001b[0;1;34m0.64%\u001b[0;m)\n",
      "\n",
      "Transaction sent: \u001b[0;1;34m0x49262ab8e64f01ec2287e12f135726905402f75eba684e5ba7beba8b1e540fba\u001b[0;m\n",
      "  Gas price: \u001b[0;1;34m0.0\u001b[0;m gwei   Gas limit: \u001b[0;1;34m12000000\u001b[0;m   Nonce: \u001b[0;1;34m896\u001b[0;m\n",
      "  Vyper_contract.ramp_A confirmed   Block: \u001b[0;1;34m13257693\u001b[0;m   Gas used: \u001b[0;1;34m77186\u001b[0;m (\u001b[0;1;34m0.64%\u001b[0;m)\n",
      "\n",
      "Transaction sent: \u001b[0;1;34m0xe9e9289db8f75312e701fe1136023e14ed4fdb7d7cc4237cd0cc93edddaea1f6\u001b[0;m\n",
      "  Gas price: \u001b[0;1;34m0.0\u001b[0;m gwei   Gas limit: \u001b[0;1;34m12000000\u001b[0;m   Nonce: \u001b[0;1;34m896\u001b[0;m\n",
      "  Vyper_contract.ramp_A confirmed   Block: \u001b[0;1;34m13257693\u001b[0;m   Gas used: \u001b[0;1;34m77186\u001b[0;m (\u001b[0;1;34m0.64%\u001b[0;m)\n",
      "\n",
      "Transaction sent: \u001b[0;1;34m0xba01c9b5a1a81408dd0818d82b8f12e0a963c37108bdd0651e2793f9d14e7119\u001b[0;m\n",
      "  Gas price: \u001b[0;1;34m0.0\u001b[0;m gwei   Gas limit: \u001b[0;1;34m12000000\u001b[0;m   Nonce: \u001b[0;1;34m896\u001b[0;m\n",
      "  Vyper_contract.ramp_A confirmed   Block: \u001b[0;1;34m13257693\u001b[0;m   Gas used: \u001b[0;1;34m77186\u001b[0;m (\u001b[0;1;34m0.64%\u001b[0;m)\n",
      "\n",
      "Transaction sent: \u001b[0;1;34m0x163b7c1f0ee134ae5390f765793b33662f3fcbdba0c70ca6480f2bbedc2b0926\u001b[0;m\n",
      "  Gas price: \u001b[0;1;34m0.0\u001b[0;m gwei   Gas limit: \u001b[0;1;34m12000000\u001b[0;m   Nonce: \u001b[0;1;34m896\u001b[0;m\n",
      "  Vyper_contract.ramp_A confirmed   Block: \u001b[0;1;34m13257693\u001b[0;m   Gas used: \u001b[0;1;34m77186\u001b[0;m (\u001b[0;1;34m0.64%\u001b[0;m)\n",
      "\n",
      "Transaction sent: \u001b[0;1;34m0x8cf630f863f56499317c3ac76ebd97b5a8809ba49a97714b264bde6d2a68fbfa\u001b[0;m\n",
      "  Gas price: \u001b[0;1;34m0.0\u001b[0;m gwei   Gas limit: \u001b[0;1;34m12000000\u001b[0;m   Nonce: \u001b[0;1;34m896\u001b[0;m\n",
      "  Vyper_contract.ramp_A confirmed   Block: \u001b[0;1;34m13257693\u001b[0;m   Gas used: \u001b[0;1;34m77186\u001b[0;m (\u001b[0;1;34m0.64%\u001b[0;m)\n",
      "\n",
      "Transaction sent: \u001b[0;1;34m0xa12130deb06416f6aa80dbf973724f0531f1e97fdd4677e5a7940dc10ff2ff42\u001b[0;m\n",
      "  Gas price: \u001b[0;1;34m0.0\u001b[0;m gwei   Gas limit: \u001b[0;1;34m12000000\u001b[0;m   Nonce: \u001b[0;1;34m896\u001b[0;m\n",
      "  Vyper_contract.ramp_A confirmed   Block: \u001b[0;1;34m13257693\u001b[0;m   Gas used: \u001b[0;1;34m77186\u001b[0;m (\u001b[0;1;34m0.64%\u001b[0;m)\n",
      "\n",
      "Transaction sent: \u001b[0;1;34m0xf6f23a16c4aec6c7fdc71081815149ced4420ac40d1723fc3d8087b8ab38fc98\u001b[0;m\n",
      "  Gas price: \u001b[0;1;34m0.0\u001b[0;m gwei   Gas limit: \u001b[0;1;34m12000000\u001b[0;m   Nonce: \u001b[0;1;34m896\u001b[0;m\n",
      "  Vyper_contract.ramp_A confirmed   Block: \u001b[0;1;34m13257693\u001b[0;m   Gas used: \u001b[0;1;34m77186\u001b[0;m (\u001b[0;1;34m0.64%\u001b[0;m)\n",
      "\n",
      "Transaction sent: \u001b[0;1;34m0xefabffc7254c7692164c78627f1ae18bef23356fb5dfa1874a802b69d9d51b19\u001b[0;m\n",
      "  Gas price: \u001b[0;1;34m0.0\u001b[0;m gwei   Gas limit: \u001b[0;1;34m12000000\u001b[0;m   Nonce: \u001b[0;1;34m896\u001b[0;m\n",
      "  Vyper_contract.ramp_A confirmed   Block: \u001b[0;1;34m13257693\u001b[0;m   Gas used: \u001b[0;1;34m77186\u001b[0;m (\u001b[0;1;34m0.64%\u001b[0;m)\n",
      "\n",
      "Transaction sent: \u001b[0;1;34m0x934dab3323ea92483c97fc6821fc89c9d77859a0955e3c93432a7632d1159d1a\u001b[0;m\n",
      "  Gas price: \u001b[0;1;34m0.0\u001b[0;m gwei   Gas limit: \u001b[0;1;34m12000000\u001b[0;m   Nonce: \u001b[0;1;34m896\u001b[0;m\n",
      "  Vyper_contract.ramp_A confirmed   Block: \u001b[0;1;34m13257693\u001b[0;m   Gas used: \u001b[0;1;34m77186\u001b[0;m (\u001b[0;1;34m0.64%\u001b[0;m)\n",
      "\n",
      "Transaction sent: \u001b[0;1;34m0x78873d258195eddc06f14e79697da04d5146546fdca5f9f347d1d6e585ed4824\u001b[0;m\n",
      "  Gas price: \u001b[0;1;34m0.0\u001b[0;m gwei   Gas limit: \u001b[0;1;34m12000000\u001b[0;m   Nonce: \u001b[0;1;34m896\u001b[0;m\n",
      "  Vyper_contract.ramp_A confirmed   Block: \u001b[0;1;34m13257693\u001b[0;m   Gas used: \u001b[0;1;34m77186\u001b[0;m (\u001b[0;1;34m0.64%\u001b[0;m)\n",
      "\n",
      "Transaction sent: \u001b[0;1;34m0xbef98484218742b3a8082c19956da9a666458b928ec86c79768a61856ece08cf\u001b[0;m\n",
      "  Gas price: \u001b[0;1;34m0.0\u001b[0;m gwei   Gas limit: \u001b[0;1;34m12000000\u001b[0;m   Nonce: \u001b[0;1;34m896\u001b[0;m\n",
      "  Vyper_contract.ramp_A confirmed   Block: \u001b[0;1;34m13257693\u001b[0;m   Gas used: \u001b[0;1;34m77186\u001b[0;m (\u001b[0;1;34m0.64%\u001b[0;m)\n",
      "\n",
      "Transaction sent: \u001b[0;1;34m0x30cbf63b9f0e7035b4af620a3a1171c15e8a616653f8f1d4333acbd88626daa8\u001b[0;m\n",
      "  Gas price: \u001b[0;1;34m0.0\u001b[0;m gwei   Gas limit: \u001b[0;1;34m12000000\u001b[0;m   Nonce: \u001b[0;1;34m896\u001b[0;m\n",
      "  Vyper_contract.ramp_A confirmed   Block: \u001b[0;1;34m13257693\u001b[0;m   Gas used: \u001b[0;1;34m77186\u001b[0;m (\u001b[0;1;34m0.64%\u001b[0;m)\n",
      "\n",
      "Transaction sent: \u001b[0;1;34m0x9829a0a78b7b9b82f05978760b8596017048cd92706e4756367b99fcd9599dc4\u001b[0;m\n",
      "  Gas price: \u001b[0;1;34m0.0\u001b[0;m gwei   Gas limit: \u001b[0;1;34m12000000\u001b[0;m   Nonce: \u001b[0;1;34m896\u001b[0;m\n",
      "  Vyper_contract.ramp_A confirmed   Block: \u001b[0;1;34m13257693\u001b[0;m   Gas used: \u001b[0;1;34m77186\u001b[0;m (\u001b[0;1;34m0.64%\u001b[0;m)\n",
      "\n",
      "Transaction sent: \u001b[0;1;34m0x7d4ddb68863b782394a7010483b47968ab3ed535b8ef07d126550e6dd1f7d3ba\u001b[0;m\n",
      "  Gas price: \u001b[0;1;34m0.0\u001b[0;m gwei   Gas limit: \u001b[0;1;34m12000000\u001b[0;m   Nonce: \u001b[0;1;34m896\u001b[0;m\n",
      "  Vyper_contract.ramp_A confirmed   Block: \u001b[0;1;34m13257693\u001b[0;m   Gas used: \u001b[0;1;34m77186\u001b[0;m (\u001b[0;1;34m0.64%\u001b[0;m)\n",
      "\n",
      "Transaction sent: \u001b[0;1;34m0x6ecafe1c51f6a20932ab0f4663464615c6e3aa583f4098a21eb745e81fed517e\u001b[0;m\n",
      "  Gas price: \u001b[0;1;34m0.0\u001b[0;m gwei   Gas limit: \u001b[0;1;34m12000000\u001b[0;m   Nonce: \u001b[0;1;34m896\u001b[0;m\n",
      "  Vyper_contract.ramp_A confirmed   Block: \u001b[0;1;34m13257693\u001b[0;m   Gas used: \u001b[0;1;34m77186\u001b[0;m (\u001b[0;1;34m0.64%\u001b[0;m)\n",
      "\n",
      "Transaction sent: \u001b[0;1;34m0x174aa3120c238284eb6975fab03a08ed8a4d507d5b0b6532fe6111fc76f3575e\u001b[0;m\n",
      "  Gas price: \u001b[0;1;34m0.0\u001b[0;m gwei   Gas limit: \u001b[0;1;34m12000000\u001b[0;m   Nonce: \u001b[0;1;34m896\u001b[0;m\n",
      "  Vyper_contract.ramp_A confirmed   Block: \u001b[0;1;34m13257693\u001b[0;m   Gas used: \u001b[0;1;34m77186\u001b[0;m (\u001b[0;1;34m0.64%\u001b[0;m)\n",
      "\n",
      "Transaction sent: \u001b[0;1;34m0x8b6eb13937c76249beb128da001ec0d3747ea40087b08d9220bf8c740334a4dd\u001b[0;m\n",
      "  Gas price: \u001b[0;1;34m0.0\u001b[0;m gwei   Gas limit: \u001b[0;1;34m12000000\u001b[0;m   Nonce: \u001b[0;1;34m896\u001b[0;m\n",
      "  Vyper_contract.ramp_A confirmed   Block: \u001b[0;1;34m13257693\u001b[0;m   Gas used: \u001b[0;1;34m77186\u001b[0;m (\u001b[0;1;34m0.64%\u001b[0;m)\n",
      "\n",
      "Transaction sent: \u001b[0;1;34m0x356a2bc941d59be95a0f3e5ab7116a37decd70881e7244667b17e581f306b157\u001b[0;m\n",
      "  Gas price: \u001b[0;1;34m0.0\u001b[0;m gwei   Gas limit: \u001b[0;1;34m12000000\u001b[0;m   Nonce: \u001b[0;1;34m896\u001b[0;m\n",
      "  Vyper_contract.ramp_A confirmed   Block: \u001b[0;1;34m13257693\u001b[0;m   Gas used: \u001b[0;1;34m77186\u001b[0;m (\u001b[0;1;34m0.64%\u001b[0;m)\n",
      "\n",
      "Transaction sent: \u001b[0;1;34m0x2fdfbc03a79b490cce2c8e7489ef53cafbcac3039be34280c503450364f57442\u001b[0;m\n",
      "  Gas price: \u001b[0;1;34m0.0\u001b[0;m gwei   Gas limit: \u001b[0;1;34m12000000\u001b[0;m   Nonce: \u001b[0;1;34m896\u001b[0;m\n",
      "  Vyper_contract.ramp_A confirmed   Block: \u001b[0;1;34m13257693\u001b[0;m   Gas used: \u001b[0;1;34m77186\u001b[0;m (\u001b[0;1;34m0.64%\u001b[0;m)\n",
      "\n",
      "Transaction sent: \u001b[0;1;34m0x5144f3551136f9d44a2c73984325251efd336de422463d9a957989afc88b4215\u001b[0;m\n",
      "  Gas price: \u001b[0;1;34m0.0\u001b[0;m gwei   Gas limit: \u001b[0;1;34m12000000\u001b[0;m   Nonce: \u001b[0;1;34m896\u001b[0;m\n",
      "  Vyper_contract.ramp_A confirmed   Block: \u001b[0;1;34m13257693\u001b[0;m   Gas used: \u001b[0;1;34m77186\u001b[0;m (\u001b[0;1;34m0.64%\u001b[0;m)\n",
      "\n",
      "Transaction sent: \u001b[0;1;34m0xb1832ff3782117cf1292ceb4f839456257157b01f6627cdeaa90477d7b381a28\u001b[0;m\n",
      "  Gas price: \u001b[0;1;34m0.0\u001b[0;m gwei   Gas limit: \u001b[0;1;34m12000000\u001b[0;m   Nonce: \u001b[0;1;34m896\u001b[0;m\n",
      "  Vyper_contract.ramp_A confirmed   Block: \u001b[0;1;34m13257693\u001b[0;m   Gas used: \u001b[0;1;34m77186\u001b[0;m (\u001b[0;1;34m0.64%\u001b[0;m)\n",
      "\n",
      "Transaction sent: \u001b[0;1;34m0xd3cf83c110756ca0d6d7a449fe430f90f7776bc05ccf4d4a7a204f11d602923b\u001b[0;m\n",
      "  Gas price: \u001b[0;1;34m0.0\u001b[0;m gwei   Gas limit: \u001b[0;1;34m12000000\u001b[0;m   Nonce: \u001b[0;1;34m896\u001b[0;m\n",
      "  Vyper_contract.ramp_A confirmed   Block: \u001b[0;1;34m13257693\u001b[0;m   Gas used: \u001b[0;1;34m77186\u001b[0;m (\u001b[0;1;34m0.64%\u001b[0;m)\n",
      "\n",
      "Transaction sent: \u001b[0;1;34m0x2da4a6f63b90252b2e0bda3eb93571e21f9210f7930345365a2df3dcfa0b83ca\u001b[0;m\n",
      "  Gas price: \u001b[0;1;34m0.0\u001b[0;m gwei   Gas limit: \u001b[0;1;34m12000000\u001b[0;m   Nonce: \u001b[0;1;34m896\u001b[0;m\n",
      "  Vyper_contract.ramp_A confirmed   Block: \u001b[0;1;34m13257693\u001b[0;m   Gas used: \u001b[0;1;34m77186\u001b[0;m (\u001b[0;1;34m0.64%\u001b[0;m)\n",
      "\n"
     ]
    },
    {
     "data": {
      "text/plain": "[10041279271221107565261,\n 10032041673604161208176,\n 10025409014476153260049,\n 10020415588172915324129,\n 10016520534304235270585,\n 10013397357339982621149,\n 10010837298890585213848,\n 10008700655138865484522,\n 10006890404731232485385,\n 10005337064951809078786,\n 10003989568362766369236,\n 10002809541068794958075,\n 10001767589504133830642,\n 10000840818637248903039,\n 10000011130107813474222,\n 9999264028574707600979,\n 9998587767613348107430,\n 9997972727575749199473,\n 9997410955098438584640,\n 9996895817291767626411,\n 9996421738618082384431,\n 9995983998275219550595,\n 9995578572452272638612,\n 9995202010276468135210,\n 9994851335344651391549,\n 9994523966887976461913,\n 9994217656149675481360,\n 9993930434657631822979,\n 9993660571875664956883,\n 9993406540307851507223,\n 9993166986569202025853,\n 9992940707265540315151,\n 9992726628775003889698,\n 9992523790214190252512,\n 9992331329018697733193,\n 9992148468681596905284,\n 9991974508282234365171,\n 9991808813507635576409,\n 9991650808924046884078,\n 9991499971300147985771,\n 9991355823818677129465,\n 9991217931041547004198,\n 9991085894516449653233,\n 9990959348931579796331,\n 9990837958740321418556,\n 9990721415190224223976]"
     },
     "execution_count": 9,
     "metadata": {},
     "output_type": "execute_result"
    }
   ],
   "source": [
    "swap_rates_A_to_B = []\n",
    "for amplification_factor in A_params_simulation:\n",
    "\n",
    "    pool_contract.ramp_A(amplification_factor, t1, {\"from\": sender})\n",
    "\n",
    "    chain.sleep(t1)\n",
    "    chain.mine()\n",
    "\n",
    "    dy = pool_contract.get_dy(0, 1, dx)\n",
    "\n",
    "    swap_rates_A_to_B.append(dy)\n",
    "\n",
    "    chain.revert()\n",
    "\n",
    "swap_rates_A_to_B"
   ]
  },
  {
   "cell_type": "markdown",
   "metadata": {},
   "source": [
    "coin B to A"
   ]
  },
  {
   "cell_type": "code",
   "execution_count": 10,
   "metadata": {},
   "outputs": [
    {
     "name": "stdout",
     "output_type": "stream",
     "text": [
      "Transaction sent: \u001b[0;1;34m0x985db7288626bd02558de9baa7f0d22ad8e6fd82104f902ef2ed6613b0096bcd\u001b[0;m\n",
      "  Gas price: \u001b[0;1;34m0.0\u001b[0;m gwei   Gas limit: \u001b[0;1;34m12000000\u001b[0;m   Nonce: \u001b[0;1;34m896\u001b[0;m\n",
      "  Vyper_contract.ramp_A confirmed   Block: \u001b[0;1;34m13257693\u001b[0;m   Gas used: \u001b[0;1;34m72974\u001b[0;m (\u001b[0;1;34m0.61%\u001b[0;m)\n",
      "\n",
      "Transaction sent: \u001b[0;1;34m0xcdae9a59886c29404d628832286b4432495d7d56387e4a796eaffd4bbeaf9876\u001b[0;m\n",
      "  Gas price: \u001b[0;1;34m0.0\u001b[0;m gwei   Gas limit: \u001b[0;1;34m12000000\u001b[0;m   Nonce: \u001b[0;1;34m896\u001b[0;m\n",
      "  Vyper_contract.ramp_A confirmed   Block: \u001b[0;1;34m13257693\u001b[0;m   Gas used: \u001b[0;1;34m77174\u001b[0;m (\u001b[0;1;34m0.64%\u001b[0;m)\n",
      "\n",
      "Transaction sent: \u001b[0;1;34m0x0d872654ed11fb7c19f804b48fd43f32e1c6a7b7aeea4ae855063d45a74b2f5e\u001b[0;m\n",
      "  Gas price: \u001b[0;1;34m0.0\u001b[0;m gwei   Gas limit: \u001b[0;1;34m12000000\u001b[0;m   Nonce: \u001b[0;1;34m896\u001b[0;m\n",
      "  Vyper_contract.ramp_A confirmed   Block: \u001b[0;1;34m13257693\u001b[0;m   Gas used: \u001b[0;1;34m77174\u001b[0;m (\u001b[0;1;34m0.64%\u001b[0;m)\n",
      "\n",
      "Transaction sent: \u001b[0;1;34m0x5f0e57b9692f27caf389439a433b10a0ef5b37c4cb657ae48bd34a042b8258b7\u001b[0;m\n",
      "  Gas price: \u001b[0;1;34m0.0\u001b[0;m gwei   Gas limit: \u001b[0;1;34m12000000\u001b[0;m   Nonce: \u001b[0;1;34m896\u001b[0;m\n",
      "  Vyper_contract.ramp_A confirmed   Block: \u001b[0;1;34m13257693\u001b[0;m   Gas used: \u001b[0;1;34m77174\u001b[0;m (\u001b[0;1;34m0.64%\u001b[0;m)\n",
      "\n",
      "Transaction sent: \u001b[0;1;34m0xea2ca84e148e775a7f625a520a2c7e4c38512b3448db23863da94c45d8d92cc1\u001b[0;m\n",
      "  Gas price: \u001b[0;1;34m0.0\u001b[0;m gwei   Gas limit: \u001b[0;1;34m12000000\u001b[0;m   Nonce: \u001b[0;1;34m896\u001b[0;m\n",
      "  Vyper_contract.ramp_A confirmed   Block: \u001b[0;1;34m13257693\u001b[0;m   Gas used: \u001b[0;1;34m77174\u001b[0;m (\u001b[0;1;34m0.64%\u001b[0;m)\n",
      "\n",
      "Transaction sent: \u001b[0;1;34m0x4e9f02daeae9b5a642d75f508b0defd0b9fa2acb5fefdbe3347a838156b97799\u001b[0;m\n",
      "  Gas price: \u001b[0;1;34m0.0\u001b[0;m gwei   Gas limit: \u001b[0;1;34m12000000\u001b[0;m   Nonce: \u001b[0;1;34m896\u001b[0;m\n",
      "  Vyper_contract.ramp_A confirmed   Block: \u001b[0;1;34m13257693\u001b[0;m   Gas used: \u001b[0;1;34m77174\u001b[0;m (\u001b[0;1;34m0.64%\u001b[0;m)\n",
      "\n",
      "Transaction sent: \u001b[0;1;34m0x39fe3279da7d7565abb920853e45062d61e7a242bd783f6d7708503fc3ce4bf4\u001b[0;m\n",
      "  Gas price: \u001b[0;1;34m0.0\u001b[0;m gwei   Gas limit: \u001b[0;1;34m12000000\u001b[0;m   Nonce: \u001b[0;1;34m896\u001b[0;m\n",
      "  Vyper_contract.ramp_A confirmed   Block: \u001b[0;1;34m13257693\u001b[0;m   Gas used: \u001b[0;1;34m77174\u001b[0;m (\u001b[0;1;34m0.64%\u001b[0;m)\n",
      "\n",
      "Transaction sent: \u001b[0;1;34m0xc5e163aead28bac8ea29e907fdd40399e6227792c082455df2cfc2f00fe74f8d\u001b[0;m\n",
      "  Gas price: \u001b[0;1;34m0.0\u001b[0;m gwei   Gas limit: \u001b[0;1;34m12000000\u001b[0;m   Nonce: \u001b[0;1;34m896\u001b[0;m\n",
      "  Vyper_contract.ramp_A confirmed   Block: \u001b[0;1;34m13257693\u001b[0;m   Gas used: \u001b[0;1;34m77174\u001b[0;m (\u001b[0;1;34m0.64%\u001b[0;m)\n",
      "\n",
      "Transaction sent: \u001b[0;1;34m0x933dee84c7ffdd010046047cd1135735063523c9acd94fb365072dea028f5445\u001b[0;m\n",
      "  Gas price: \u001b[0;1;34m0.0\u001b[0;m gwei   Gas limit: \u001b[0;1;34m12000000\u001b[0;m   Nonce: \u001b[0;1;34m896\u001b[0;m\n",
      "  Vyper_contract.ramp_A confirmed   Block: \u001b[0;1;34m13257693\u001b[0;m   Gas used: \u001b[0;1;34m77174\u001b[0;m (\u001b[0;1;34m0.64%\u001b[0;m)\n",
      "\n",
      "Transaction sent: \u001b[0;1;34m0xd2a785d1c12158d3b34ea1985bab8016f809c2a868c029cd96d66e3426432bd0\u001b[0;m\n",
      "  Gas price: \u001b[0;1;34m0.0\u001b[0;m gwei   Gas limit: \u001b[0;1;34m12000000\u001b[0;m   Nonce: \u001b[0;1;34m896\u001b[0;m\n",
      "  Vyper_contract.ramp_A confirmed   Block: \u001b[0;1;34m13257693\u001b[0;m   Gas used: \u001b[0;1;34m77174\u001b[0;m (\u001b[0;1;34m0.64%\u001b[0;m)\n",
      "\n",
      "Transaction sent: \u001b[0;1;34m0x40e0834af75a6c69c5d051f05486a5a3cb39a7b167dccdfd9d8943e108b60e32\u001b[0;m\n",
      "  Gas price: \u001b[0;1;34m0.0\u001b[0;m gwei   Gas limit: \u001b[0;1;34m12000000\u001b[0;m   Nonce: \u001b[0;1;34m896\u001b[0;m\n",
      "  Vyper_contract.ramp_A confirmed   Block: \u001b[0;1;34m13257693\u001b[0;m   Gas used: \u001b[0;1;34m77174\u001b[0;m (\u001b[0;1;34m0.64%\u001b[0;m)\n",
      "\n",
      "Transaction sent: \u001b[0;1;34m0x29421f4a16e7379e6a605c4c1763af1f4c571574147050e5414ce2b597759194\u001b[0;m\n",
      "  Gas price: \u001b[0;1;34m0.0\u001b[0;m gwei   Gas limit: \u001b[0;1;34m12000000\u001b[0;m   Nonce: \u001b[0;1;34m896\u001b[0;m\n",
      "  Vyper_contract.ramp_A confirmed   Block: \u001b[0;1;34m13257693\u001b[0;m   Gas used: \u001b[0;1;34m77174\u001b[0;m (\u001b[0;1;34m0.64%\u001b[0;m)\n",
      "\n",
      "Transaction sent: \u001b[0;1;34m0x3a43bf2bc7dce53c9c890531bd36f6c0e86b8263f55193ec03a5f400f50a247c\u001b[0;m\n",
      "  Gas price: \u001b[0;1;34m0.0\u001b[0;m gwei   Gas limit: \u001b[0;1;34m12000000\u001b[0;m   Nonce: \u001b[0;1;34m896\u001b[0;m\n",
      "  Vyper_contract.ramp_A confirmed   Block: \u001b[0;1;34m13257693\u001b[0;m   Gas used: \u001b[0;1;34m77174\u001b[0;m (\u001b[0;1;34m0.64%\u001b[0;m)\n",
      "\n",
      "Transaction sent: \u001b[0;1;34m0xa4d93e2f3aca80ca98ffe59e075e220e2af9a55122d5de677ea376b3fd5e1a97\u001b[0;m\n",
      "  Gas price: \u001b[0;1;34m0.0\u001b[0;m gwei   Gas limit: \u001b[0;1;34m12000000\u001b[0;m   Nonce: \u001b[0;1;34m896\u001b[0;m\n",
      "  Vyper_contract.ramp_A confirmed   Block: \u001b[0;1;34m13257693\u001b[0;m   Gas used: \u001b[0;1;34m77174\u001b[0;m (\u001b[0;1;34m0.64%\u001b[0;m)\n",
      "\n",
      "Transaction sent: \u001b[0;1;34m0x2a2c0a94c668a1c85c0dc87197eafbd8cf1853628f9ba831a7f6ed434ad94993\u001b[0;m\n",
      "  Gas price: \u001b[0;1;34m0.0\u001b[0;m gwei   Gas limit: \u001b[0;1;34m12000000\u001b[0;m   Nonce: \u001b[0;1;34m896\u001b[0;m\n",
      "  Vyper_contract.ramp_A confirmed   Block: \u001b[0;1;34m13257693\u001b[0;m   Gas used: \u001b[0;1;34m77174\u001b[0;m (\u001b[0;1;34m0.64%\u001b[0;m)\n",
      "\n",
      "Transaction sent: \u001b[0;1;34m0xcd0437207286bc014908f6b60a4159de9677007ca66148cdbebe578c495e7f29\u001b[0;m\n",
      "  Gas price: \u001b[0;1;34m0.0\u001b[0;m gwei   Gas limit: \u001b[0;1;34m12000000\u001b[0;m   Nonce: \u001b[0;1;34m896\u001b[0;m\n",
      "  Vyper_contract.ramp_A confirmed   Block: \u001b[0;1;34m13257693\u001b[0;m   Gas used: \u001b[0;1;34m77174\u001b[0;m (\u001b[0;1;34m0.64%\u001b[0;m)\n",
      "\n",
      "Transaction sent: \u001b[0;1;34m0xfcc369701b2d38a1d9f972ea42447fcc28557da63a03b1b65b7b5aaa5a1100ee\u001b[0;m\n",
      "  Gas price: \u001b[0;1;34m0.0\u001b[0;m gwei   Gas limit: \u001b[0;1;34m12000000\u001b[0;m   Nonce: \u001b[0;1;34m896\u001b[0;m\n",
      "  Vyper_contract.ramp_A confirmed   Block: \u001b[0;1;34m13257693\u001b[0;m   Gas used: \u001b[0;1;34m77174\u001b[0;m (\u001b[0;1;34m0.64%\u001b[0;m)\n",
      "\n",
      "Transaction sent: \u001b[0;1;34m0xd3aa8ec12eb4145baf2d6cf1316b295304d8a15a847bccb4454484711f43a284\u001b[0;m\n",
      "  Gas price: \u001b[0;1;34m0.0\u001b[0;m gwei   Gas limit: \u001b[0;1;34m12000000\u001b[0;m   Nonce: \u001b[0;1;34m896\u001b[0;m\n",
      "  Vyper_contract.ramp_A confirmed   Block: \u001b[0;1;34m13257693\u001b[0;m   Gas used: \u001b[0;1;34m77174\u001b[0;m (\u001b[0;1;34m0.64%\u001b[0;m)\n",
      "\n",
      "Transaction sent: \u001b[0;1;34m0x719157e5667c499a945cc61e07d06b003ee5b0a3d49f0b367bed8b1b4eba37e0\u001b[0;m\n",
      "  Gas price: \u001b[0;1;34m0.0\u001b[0;m gwei   Gas limit: \u001b[0;1;34m12000000\u001b[0;m   Nonce: \u001b[0;1;34m896\u001b[0;m\n",
      "  Vyper_contract.ramp_A confirmed   Block: \u001b[0;1;34m13257693\u001b[0;m   Gas used: \u001b[0;1;34m77174\u001b[0;m (\u001b[0;1;34m0.64%\u001b[0;m)\n",
      "\n",
      "Transaction sent: \u001b[0;1;34m0xd6d0cd8c79cfeec07b701e268125f9061af6314f28a7aa07e639ad51d460855e\u001b[0;m\n",
      "  Gas price: \u001b[0;1;34m0.0\u001b[0;m gwei   Gas limit: \u001b[0;1;34m12000000\u001b[0;m   Nonce: \u001b[0;1;34m896\u001b[0;m\n",
      "  Vyper_contract.ramp_A confirmed   Block: \u001b[0;1;34m13257693\u001b[0;m   Gas used: \u001b[0;1;34m77174\u001b[0;m (\u001b[0;1;34m0.64%\u001b[0;m)\n",
      "\n",
      "Transaction sent: \u001b[0;1;34m0x19c932003b66b3eb3a2cc39725ca9828f939981289f6218c7675839cfa49eead\u001b[0;m\n",
      "  Gas price: \u001b[0;1;34m0.0\u001b[0;m gwei   Gas limit: \u001b[0;1;34m12000000\u001b[0;m   Nonce: \u001b[0;1;34m896\u001b[0;m\n",
      "  Vyper_contract.ramp_A confirmed   Block: \u001b[0;1;34m13257693\u001b[0;m   Gas used: \u001b[0;1;34m77174\u001b[0;m (\u001b[0;1;34m0.64%\u001b[0;m)\n",
      "\n",
      "Transaction sent: \u001b[0;1;34m0xa30b244671526c5253bc7331449c04fdbaf322744617129c4980d67a06ab3533\u001b[0;m\n",
      "  Gas price: \u001b[0;1;34m0.0\u001b[0;m gwei   Gas limit: \u001b[0;1;34m12000000\u001b[0;m   Nonce: \u001b[0;1;34m896\u001b[0;m\n",
      "  Vyper_contract.ramp_A confirmed   Block: \u001b[0;1;34m13257693\u001b[0;m   Gas used: \u001b[0;1;34m77186\u001b[0;m (\u001b[0;1;34m0.64%\u001b[0;m)\n",
      "\n",
      "Transaction sent: \u001b[0;1;34m0xbcdd022cc27a6c71eae267f3bf5f8b7f6fb5afa74969e46b6675a8cb2a5e0769\u001b[0;m\n",
      "  Gas price: \u001b[0;1;34m0.0\u001b[0;m gwei   Gas limit: \u001b[0;1;34m12000000\u001b[0;m   Nonce: \u001b[0;1;34m896\u001b[0;m\n",
      "  Vyper_contract.ramp_A confirmed   Block: \u001b[0;1;34m13257693\u001b[0;m   Gas used: \u001b[0;1;34m77186\u001b[0;m (\u001b[0;1;34m0.64%\u001b[0;m)\n",
      "\n",
      "Transaction sent: \u001b[0;1;34m0x49262ab8e64f01ec2287e12f135726905402f75eba684e5ba7beba8b1e540fba\u001b[0;m\n",
      "  Gas price: \u001b[0;1;34m0.0\u001b[0;m gwei   Gas limit: \u001b[0;1;34m12000000\u001b[0;m   Nonce: \u001b[0;1;34m896\u001b[0;m\n",
      "  Vyper_contract.ramp_A confirmed   Block: \u001b[0;1;34m13257693\u001b[0;m   Gas used: \u001b[0;1;34m77186\u001b[0;m (\u001b[0;1;34m0.64%\u001b[0;m)\n",
      "\n",
      "Transaction sent: \u001b[0;1;34m0xe9e9289db8f75312e701fe1136023e14ed4fdb7d7cc4237cd0cc93edddaea1f6\u001b[0;m\n",
      "  Gas price: \u001b[0;1;34m0.0\u001b[0;m gwei   Gas limit: \u001b[0;1;34m12000000\u001b[0;m   Nonce: \u001b[0;1;34m896\u001b[0;m\n",
      "  Vyper_contract.ramp_A confirmed   Block: \u001b[0;1;34m13257693\u001b[0;m   Gas used: \u001b[0;1;34m77186\u001b[0;m (\u001b[0;1;34m0.64%\u001b[0;m)\n",
      "\n",
      "Transaction sent: \u001b[0;1;34m0xba01c9b5a1a81408dd0818d82b8f12e0a963c37108bdd0651e2793f9d14e7119\u001b[0;m\n",
      "  Gas price: \u001b[0;1;34m0.0\u001b[0;m gwei   Gas limit: \u001b[0;1;34m12000000\u001b[0;m   Nonce: \u001b[0;1;34m896\u001b[0;m\n",
      "  Vyper_contract.ramp_A confirmed   Block: \u001b[0;1;34m13257693\u001b[0;m   Gas used: \u001b[0;1;34m77186\u001b[0;m (\u001b[0;1;34m0.64%\u001b[0;m)\n",
      "\n",
      "Transaction sent: \u001b[0;1;34m0x163b7c1f0ee134ae5390f765793b33662f3fcbdba0c70ca6480f2bbedc2b0926\u001b[0;m\n",
      "  Gas price: \u001b[0;1;34m0.0\u001b[0;m gwei   Gas limit: \u001b[0;1;34m12000000\u001b[0;m   Nonce: \u001b[0;1;34m896\u001b[0;m\n",
      "  Vyper_contract.ramp_A confirmed   Block: \u001b[0;1;34m13257693\u001b[0;m   Gas used: \u001b[0;1;34m77186\u001b[0;m (\u001b[0;1;34m0.64%\u001b[0;m)\n",
      "\n",
      "Transaction sent: \u001b[0;1;34m0x8cf630f863f56499317c3ac76ebd97b5a8809ba49a97714b264bde6d2a68fbfa\u001b[0;m\n",
      "  Gas price: \u001b[0;1;34m0.0\u001b[0;m gwei   Gas limit: \u001b[0;1;34m12000000\u001b[0;m   Nonce: \u001b[0;1;34m896\u001b[0;m\n",
      "  Vyper_contract.ramp_A confirmed   Block: \u001b[0;1;34m13257693\u001b[0;m   Gas used: \u001b[0;1;34m77186\u001b[0;m (\u001b[0;1;34m0.64%\u001b[0;m)\n",
      "\n",
      "Transaction sent: \u001b[0;1;34m0xa12130deb06416f6aa80dbf973724f0531f1e97fdd4677e5a7940dc10ff2ff42\u001b[0;m\n",
      "  Gas price: \u001b[0;1;34m0.0\u001b[0;m gwei   Gas limit: \u001b[0;1;34m12000000\u001b[0;m   Nonce: \u001b[0;1;34m896\u001b[0;m\n",
      "  Vyper_contract.ramp_A confirmed   Block: \u001b[0;1;34m13257693\u001b[0;m   Gas used: \u001b[0;1;34m77186\u001b[0;m (\u001b[0;1;34m0.64%\u001b[0;m)\n",
      "\n",
      "Transaction sent: \u001b[0;1;34m0xf6f23a16c4aec6c7fdc71081815149ced4420ac40d1723fc3d8087b8ab38fc98\u001b[0;m\n",
      "  Gas price: \u001b[0;1;34m0.0\u001b[0;m gwei   Gas limit: \u001b[0;1;34m12000000\u001b[0;m   Nonce: \u001b[0;1;34m896\u001b[0;m\n",
      "  Vyper_contract.ramp_A confirmed   Block: \u001b[0;1;34m13257693\u001b[0;m   Gas used: \u001b[0;1;34m77186\u001b[0;m (\u001b[0;1;34m0.64%\u001b[0;m)\n",
      "\n",
      "Transaction sent: \u001b[0;1;34m0xefabffc7254c7692164c78627f1ae18bef23356fb5dfa1874a802b69d9d51b19\u001b[0;m\n",
      "  Gas price: \u001b[0;1;34m0.0\u001b[0;m gwei   Gas limit: \u001b[0;1;34m12000000\u001b[0;m   Nonce: \u001b[0;1;34m896\u001b[0;m\n",
      "  Vyper_contract.ramp_A confirmed   Block: \u001b[0;1;34m13257693\u001b[0;m   Gas used: \u001b[0;1;34m77186\u001b[0;m (\u001b[0;1;34m0.64%\u001b[0;m)\n",
      "\n",
      "Transaction sent: \u001b[0;1;34m0x934dab3323ea92483c97fc6821fc89c9d77859a0955e3c93432a7632d1159d1a\u001b[0;m\n",
      "  Gas price: \u001b[0;1;34m0.0\u001b[0;m gwei   Gas limit: \u001b[0;1;34m12000000\u001b[0;m   Nonce: \u001b[0;1;34m896\u001b[0;m\n",
      "  Vyper_contract.ramp_A confirmed   Block: \u001b[0;1;34m13257693\u001b[0;m   Gas used: \u001b[0;1;34m77186\u001b[0;m (\u001b[0;1;34m0.64%\u001b[0;m)\n",
      "\n",
      "Transaction sent: \u001b[0;1;34m0x78873d258195eddc06f14e79697da04d5146546fdca5f9f347d1d6e585ed4824\u001b[0;m\n",
      "  Gas price: \u001b[0;1;34m0.0\u001b[0;m gwei   Gas limit: \u001b[0;1;34m12000000\u001b[0;m   Nonce: \u001b[0;1;34m896\u001b[0;m\n",
      "  Vyper_contract.ramp_A confirmed   Block: \u001b[0;1;34m13257693\u001b[0;m   Gas used: \u001b[0;1;34m77186\u001b[0;m (\u001b[0;1;34m0.64%\u001b[0;m)\n",
      "\n",
      "Transaction sent: \u001b[0;1;34m0xbef98484218742b3a8082c19956da9a666458b928ec86c79768a61856ece08cf\u001b[0;m\n",
      "  Gas price: \u001b[0;1;34m0.0\u001b[0;m gwei   Gas limit: \u001b[0;1;34m12000000\u001b[0;m   Nonce: \u001b[0;1;34m896\u001b[0;m\n",
      "  Vyper_contract.ramp_A confirmed   Block: \u001b[0;1;34m13257693\u001b[0;m   Gas used: \u001b[0;1;34m77186\u001b[0;m (\u001b[0;1;34m0.64%\u001b[0;m)\n",
      "\n",
      "Transaction sent: \u001b[0;1;34m0x30cbf63b9f0e7035b4af620a3a1171c15e8a616653f8f1d4333acbd88626daa8\u001b[0;m\n",
      "  Gas price: \u001b[0;1;34m0.0\u001b[0;m gwei   Gas limit: \u001b[0;1;34m12000000\u001b[0;m   Nonce: \u001b[0;1;34m896\u001b[0;m\n",
      "  Vyper_contract.ramp_A confirmed   Block: \u001b[0;1;34m13257693\u001b[0;m   Gas used: \u001b[0;1;34m77186\u001b[0;m (\u001b[0;1;34m0.64%\u001b[0;m)\n",
      "\n",
      "Transaction sent: \u001b[0;1;34m0x9829a0a78b7b9b82f05978760b8596017048cd92706e4756367b99fcd9599dc4\u001b[0;m\n",
      "  Gas price: \u001b[0;1;34m0.0\u001b[0;m gwei   Gas limit: \u001b[0;1;34m12000000\u001b[0;m   Nonce: \u001b[0;1;34m896\u001b[0;m\n",
      "  Vyper_contract.ramp_A confirmed   Block: \u001b[0;1;34m13257693\u001b[0;m   Gas used: \u001b[0;1;34m77186\u001b[0;m (\u001b[0;1;34m0.64%\u001b[0;m)\n",
      "\n",
      "Transaction sent: \u001b[0;1;34m0x7d4ddb68863b782394a7010483b47968ab3ed535b8ef07d126550e6dd1f7d3ba\u001b[0;m\n",
      "  Gas price: \u001b[0;1;34m0.0\u001b[0;m gwei   Gas limit: \u001b[0;1;34m12000000\u001b[0;m   Nonce: \u001b[0;1;34m896\u001b[0;m\n",
      "  Vyper_contract.ramp_A confirmed   Block: \u001b[0;1;34m13257693\u001b[0;m   Gas used: \u001b[0;1;34m77186\u001b[0;m (\u001b[0;1;34m0.64%\u001b[0;m)\n",
      "\n",
      "Transaction sent: \u001b[0;1;34m0x6ecafe1c51f6a20932ab0f4663464615c6e3aa583f4098a21eb745e81fed517e\u001b[0;m\n",
      "  Gas price: \u001b[0;1;34m0.0\u001b[0;m gwei   Gas limit: \u001b[0;1;34m12000000\u001b[0;m   Nonce: \u001b[0;1;34m896\u001b[0;m\n",
      "  Vyper_contract.ramp_A confirmed   Block: \u001b[0;1;34m13257693\u001b[0;m   Gas used: \u001b[0;1;34m77186\u001b[0;m (\u001b[0;1;34m0.64%\u001b[0;m)\n",
      "\n",
      "Transaction sent: \u001b[0;1;34m0x174aa3120c238284eb6975fab03a08ed8a4d507d5b0b6532fe6111fc76f3575e\u001b[0;m\n",
      "  Gas price: \u001b[0;1;34m0.0\u001b[0;m gwei   Gas limit: \u001b[0;1;34m12000000\u001b[0;m   Nonce: \u001b[0;1;34m896\u001b[0;m\n",
      "  Vyper_contract.ramp_A confirmed   Block: \u001b[0;1;34m13257693\u001b[0;m   Gas used: \u001b[0;1;34m77186\u001b[0;m (\u001b[0;1;34m0.64%\u001b[0;m)\n",
      "\n",
      "Transaction sent: \u001b[0;1;34m0x8b6eb13937c76249beb128da001ec0d3747ea40087b08d9220bf8c740334a4dd\u001b[0;m\n",
      "  Gas price: \u001b[0;1;34m0.0\u001b[0;m gwei   Gas limit: \u001b[0;1;34m12000000\u001b[0;m   Nonce: \u001b[0;1;34m896\u001b[0;m\n",
      "  Vyper_contract.ramp_A confirmed   Block: \u001b[0;1;34m13257693\u001b[0;m   Gas used: \u001b[0;1;34m77186\u001b[0;m (\u001b[0;1;34m0.64%\u001b[0;m)\n",
      "\n",
      "Transaction sent: \u001b[0;1;34m0x356a2bc941d59be95a0f3e5ab7116a37decd70881e7244667b17e581f306b157\u001b[0;m\n",
      "  Gas price: \u001b[0;1;34m0.0\u001b[0;m gwei   Gas limit: \u001b[0;1;34m12000000\u001b[0;m   Nonce: \u001b[0;1;34m896\u001b[0;m\n",
      "  Vyper_contract.ramp_A confirmed   Block: \u001b[0;1;34m13257693\u001b[0;m   Gas used: \u001b[0;1;34m77186\u001b[0;m (\u001b[0;1;34m0.64%\u001b[0;m)\n",
      "\n",
      "Transaction sent: \u001b[0;1;34m0x2fdfbc03a79b490cce2c8e7489ef53cafbcac3039be34280c503450364f57442\u001b[0;m\n",
      "  Gas price: \u001b[0;1;34m0.0\u001b[0;m gwei   Gas limit: \u001b[0;1;34m12000000\u001b[0;m   Nonce: \u001b[0;1;34m896\u001b[0;m\n",
      "  Vyper_contract.ramp_A confirmed   Block: \u001b[0;1;34m13257693\u001b[0;m   Gas used: \u001b[0;1;34m77186\u001b[0;m (\u001b[0;1;34m0.64%\u001b[0;m)\n",
      "\n",
      "Transaction sent: \u001b[0;1;34m0x5144f3551136f9d44a2c73984325251efd336de422463d9a957989afc88b4215\u001b[0;m\n",
      "  Gas price: \u001b[0;1;34m0.0\u001b[0;m gwei   Gas limit: \u001b[0;1;34m12000000\u001b[0;m   Nonce: \u001b[0;1;34m896\u001b[0;m\n",
      "  Vyper_contract.ramp_A confirmed   Block: \u001b[0;1;34m13257693\u001b[0;m   Gas used: \u001b[0;1;34m77186\u001b[0;m (\u001b[0;1;34m0.64%\u001b[0;m)\n",
      "\n",
      "Transaction sent: \u001b[0;1;34m0xb1832ff3782117cf1292ceb4f839456257157b01f6627cdeaa90477d7b381a28\u001b[0;m\n",
      "  Gas price: \u001b[0;1;34m0.0\u001b[0;m gwei   Gas limit: \u001b[0;1;34m12000000\u001b[0;m   Nonce: \u001b[0;1;34m896\u001b[0;m\n",
      "  Vyper_contract.ramp_A confirmed   Block: \u001b[0;1;34m13257693\u001b[0;m   Gas used: \u001b[0;1;34m77186\u001b[0;m (\u001b[0;1;34m0.64%\u001b[0;m)\n",
      "\n",
      "Transaction sent: \u001b[0;1;34m0xd3cf83c110756ca0d6d7a449fe430f90f7776bc05ccf4d4a7a204f11d602923b\u001b[0;m\n",
      "  Gas price: \u001b[0;1;34m0.0\u001b[0;m gwei   Gas limit: \u001b[0;1;34m12000000\u001b[0;m   Nonce: \u001b[0;1;34m896\u001b[0;m\n",
      "  Vyper_contract.ramp_A confirmed   Block: \u001b[0;1;34m13257693\u001b[0;m   Gas used: \u001b[0;1;34m77186\u001b[0;m (\u001b[0;1;34m0.64%\u001b[0;m)\n",
      "\n",
      "Transaction sent: \u001b[0;1;34m0x2da4a6f63b90252b2e0bda3eb93571e21f9210f7930345365a2df3dcfa0b83ca\u001b[0;m\n",
      "  Gas price: \u001b[0;1;34m0.0\u001b[0;m gwei   Gas limit: \u001b[0;1;34m12000000\u001b[0;m   Nonce: \u001b[0;1;34m896\u001b[0;m\n",
      "  Vyper_contract.ramp_A confirmed   Block: \u001b[0;1;34m13257693\u001b[0;m   Gas used: \u001b[0;1;34m77186\u001b[0;m (\u001b[0;1;34m0.64%\u001b[0;m)\n",
      "\n"
     ]
    },
    {
     "data": {
      "text/plain": "[9928770042508444129242,\n 9937956058519849035486,\n 9944562172818460383494,\n 9949541412945155939567,\n 9953428864314845449113,\n 9956548140639472891262,\n 9959106460329834370387,\n 9961242659723528361251,\n 9963053250963648405151,\n 9964607408040495399219,\n 9965956006457539741500,\n 9967137298507853734171,\n 9968180599692590950085,\n 9969108754553439953835,\n 9969939828758120559090,\n 9970688296618903946616,\n 9971365891267827974424,\n 9971982224236867851174,\n 9972545244256157047440,\n 9973061581929276216439,\n 9973536812085798075621,\n 9973975655872017948156,\n 9974382138133449673529,\n 9974759711217947401532,\n 9975111353271066312557,\n 9975439646951510228437,\n 9975746842970707573319,\n 9976034911763703413071,\n 9976305585799748328621,\n 9976560394452855353376,\n 9976800692915192689588,\n 9977027686307760163356,\n 9977242449894002530431,\n 9977445946111955536290,\n 9977639038994186816319,\n 9977822506431285486672,\n 9977997050645988995591,\n 9978163307175315519371,\n 9978321852602901475473,\n 9978473211239828501992,\n 9978617860917068464602,\n 9978756238024379481393,\n 9978888741907594739264,\n 9979015738717635942952,\n 9979137564789383015783,\n 9979254529616060867593]"
     },
     "execution_count": 10,
     "metadata": {},
     "output_type": "execute_result"
    }
   ],
   "source": [
    "swap_rates_B_to_A = []\n",
    "for amplification_factor in A_params_simulation:\n",
    "\n",
    "    pool_contract.ramp_A(amplification_factor, t1, {\"from\": sender})\n",
    "\n",
    "    chain.sleep(t1)\n",
    "    chain.mine()\n",
    "\n",
    "    swap_rates_B_to_A.append(pool_contract.get_dy(1, 0, dx))\n",
    "\n",
    "    chain.revert()\n",
    "\n",
    "swap_rates_B_to_A"
   ]
  },
  {
   "cell_type": "markdown",
   "metadata": {},
   "source": [
    "add decimals"
   ]
  },
  {
   "cell_type": "code",
   "execution_count": 11,
   "metadata": {},
   "outputs": [],
   "source": [
    "swap_rates_A_to_B = [round(i*1e-18, 4) for i in swap_rates_A_to_B]\n",
    "swap_rates_B_to_A = [round(i*1e-18, 4) for i in swap_rates_B_to_A]"
   ]
  },
  {
   "cell_type": "code",
   "execution_count": 12,
   "metadata": {},
   "outputs": [
    {
     "data": {
      "text/plain": "<matplotlib.legend.Legend at 0x14aabf8d0>"
     },
     "execution_count": 12,
     "metadata": {},
     "output_type": "execute_result"
    },
    {
     "data": {
      "image/png": "[encoded data removed]",
      "text/plain": "<Figure size 1080x576 with 1 Axes>"
     },
     "metadata": {},
     "output_type": "display_data"
    }
   ],
   "source": [
    "fig, ax = plt.subplots(1,1, figsize=(15, 8))\n",
    "\n",
    "ax.plot(A_params_simulation, swap_rates_A_to_B, label=\"CRV to cvxCRV swaps\")\n",
    "ax.plot(A_params_simulation, swap_rates_B_to_A, 'r', label=\"cvxCRV to CRV swaps\")\n",
    "\n",
    "ax.set_xlabel(\"Pool Amplification Factor\", fontsize=20)\n",
    "ax.set_ylabel(\"Num coins (dy)\", fontsize=20)\n",
    "ax.set_title(f\"dy as a function of for dx={int(dx*1e-18)} for different amplification params (at block {brownie.web3.eth.block_number})\", fontsize=15);\n",
    "ax.tick_params(axis='both', which='major', labelsize=15);\n",
    "\n",
    "ax.legend(fontsize=15)"
   ]
  },
  {
   "cell_type": "markdown",
   "metadata": {},
   "source": [
    "disconnect."
   ]
  },
  {
   "cell_type": "code",
   "execution_count": 13,
   "metadata": {},
   "outputs": [
    {
     "name": "stdout",
     "output_type": "stream",
     "text": [
      "Terminating local RPC client...\n"
     ]
    }
   ],
   "source": [
    "brownie.network.disconnect()"
   ]
  }
 ],
 "metadata": {
  "kernelspec": {
   "display_name": "Python 3.7.10 64-bit ('venv': venv)",
   "name": "pythonjvsc74a57bd0ea544804ad94ad4b7270d2af05439f03f30e7952cca8d55759a97e338bf96f36"
  },
  "language_info": {
   "codemirror_mode": {
    "name": "ipython",
    "version": 3
   },
   "file_extension": ".py",
   "mimetype": "text/x-python",
   "name": "python",
   "nbconvert_exporter": "python",
   "pygments_lexer": "ipython3",
   "version": "3.7.10"
  },
  "metadata": {
   "interpreter": {
    "hash": "21df2f293af9707545440a88aaf24e48b342b3531ee3aea9e212c79967abcd9c"
   }
  },
  "orig_nbformat": 2
 },
 "nbformat": 4,
 "nbformat_minor": 2
}