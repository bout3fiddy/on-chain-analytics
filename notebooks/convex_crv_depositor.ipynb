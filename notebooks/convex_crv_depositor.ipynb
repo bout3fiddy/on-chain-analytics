{
 "cells": [
  {
   "cell_type": "code",
   "execution_count": 1,
   "metadata": {},
   "outputs": [],
   "source": [
    "import pandas as pd\n",
    "import matplotlib.pyplot as plt\n",
    "import seaborn as sns\n",
    "import datetime\n",
    "import os"
   ]
  },
  {
   "cell_type": "code",
   "execution_count": 2,
   "metadata": {},
   "outputs": [],
   "source": [
    "from etherscan.accounts import Account"
   ]
  },
  {
   "cell_type": "code",
   "execution_count": 3,
   "metadata": {},
   "outputs": [],
   "source": [
    "import brownie\n",
    "\n",
    "brownie.network.connect(\"mainnet\")"
   ]
  },
  {
   "cell_type": "code",
   "execution_count": 4,
   "metadata": {},
   "outputs": [],
   "source": [
    "import requests as requests"
   ]
  },
  {
   "cell_type": "code",
   "execution_count": 5,
   "metadata": {},
   "outputs": [],
   "source": [
    "block_info_response = requests.get(\"https://api.blockcypher.com/v1/eth/main\")\n",
    "current_block = block_info_response.json()['height']"
   ]
  },
  {
   "cell_type": "code",
   "execution_count": 6,
   "metadata": {
    "collapsed": false,
    "pycharm": {
     "name": "#%%\n"
    }
   },
   "outputs": [
    {
     "name": "stdout",
     "output_type": "stream",
     "text": [
      "Fetching source of \u001B[0;1;34m0x8014595F2AB54cD7c604B00E9fb932176fDc86Ae\u001B[0;m from \u001B[0;1;34mapi.etherscan.io\u001B[0;m...\n"
     ]
    },
    {
     "name": "stderr",
     "output_type": "stream",
     "text": [
      "/Users/swadhinnanda/Projects/git/on-chain-analytics/venv/lib/python3.7/site-packages/brownie/network/contract.py:1239: BrownieCompilerWarning: 0x8014595F2AB54cD7c604B00E9fb932176fDc86Ae: Locally compiled and on-chain bytecode do not match!\n",
      "  BrownieCompilerWarning,\n"
     ]
    }
   ],
   "source": [
    "crv_depositor_contract = \"0x8014595F2AB54cD7c604B00E9fb932176fDc86Ae\"\n",
    "crv_depositor_contract_obj = brownie.network.contract.Contract.from_explorer(crv_depositor_contract)"
   ]
  },
  {
   "cell_type": "code",
   "execution_count": 36,
   "metadata": {
    "collapsed": false,
    "pycharm": {
     "name": "#%%\n"
    }
   },
   "outputs": [
    {
     "data": {
      "text/plain": "<Response [200]>"
     },
     "execution_count": 36,
     "metadata": {},
     "output_type": "execute_result"
    }
   ],
   "source": [
    "go_back = 100000\n",
    "query = f\"https://api.etherscan.io/api?module=account&action=txlist&address={crv_depositor_contract}&startblock={current_block-go_back}&endblock={current_block}&sort=asc&page=1&offset=10000&apikey={os.environ['ETHERSCAN_API_KEY']}\"\n",
    "etherscan_api_response = requests.post(query)\n",
    "etherscan_api_response"
   ]
  },
  {
   "cell_type": "code",
   "execution_count": 8,
   "metadata": {},
   "outputs": [
    {
     "data": {
      "text/plain": "489"
     },
     "execution_count": 8,
     "metadata": {},
     "output_type": "execute_result"
    }
   ],
   "source": [
    "crv_depositor_txes = etherscan_api_response.json()['result']\n",
    "len(crv_depositor_txes)"
   ]
  },
  {
   "cell_type": "code",
   "execution_count": 9,
   "metadata": {},
   "outputs": [
    {
     "name": "stdout",
     "output_type": "stream",
     "text": [
      "Transaction was Mined \n",
      "---------------------\n",
      "Tx Hash: \u001B[34m0x5a0ff1171473dc024593535eca85c92a2daf818521ab4f5ca0f7cd478b3d49c5\u001B[39;49;00m\n",
      "From: \u001B[34m0x58eB8Ac35D7fa28483A104932B9665e326b937E0\u001B[39;49;00m\n",
      "To: \u001B[34m0x8014595F2AB54cD7c604B00E9fb932176fDc86Ae\u001B[39;49;00m\n",
      "Value: \u001B[34m0\u001B[39;49;00m\n",
      "Function: CrvDepositor.deposit\n",
      "Block: \u001B[34m13069317\u001B[39;49;00m\n",
      "Gas Used: \u001B[34m216322\u001B[39;49;00m / \u001B[34m394716\u001B[39;49;00m (\u001B[34m54.8\u001B[39;49;00m%)\n",
      "\n",
      "Events In This Transaction\n",
      "--------------------------\n",
      "\u001B[04m\u001B[91m├\u001B[39;49;00m\u001B[04m\u001B[91m─\u001B[39;49;00m\u001B[04m\u001B[91m─\u001B[39;49;00m \u001B[34m0xD533a949740bb3306d119CC777fa900bA034cd52\u001B[39;49;00m\n",
      "\u001B[04m\u001B[91m│\u001B[39;49;00m   \u001B[04m\u001B[91m└\u001B[39;49;00m\u001B[04m\u001B[91m─\u001B[39;49;00m\u001B[04m\u001B[91m─\u001B[39;49;00m Transfer\n",
      "\u001B[04m\u001B[91m│\u001B[39;49;00m       \u001B[04m\u001B[91m├\u001B[39;49;00m\u001B[04m\u001B[91m─\u001B[39;49;00m\u001B[04m\u001B[91m─\u001B[39;49;00m _from: \u001B[34m0x58eB8Ac35D7fa28483A104932B9665e326b937E0\u001B[39;49;00m\n",
      "\u001B[04m\u001B[91m│\u001B[39;49;00m       \u001B[04m\u001B[91m├\u001B[39;49;00m\u001B[04m\u001B[91m─\u001B[39;49;00m\u001B[04m\u001B[91m─\u001B[39;49;00m _to: \u001B[34m0x8014595F2AB54cD7c604B00E9fb932176fDc86Ae\u001B[39;49;00m\n",
      "\u001B[04m\u001B[91m│\u001B[39;49;00m       \u001B[04m\u001B[91m└\u001B[39;49;00m\u001B[04m\u001B[91m─\u001B[39;49;00m\u001B[04m\u001B[91m─\u001B[39;49;00m _value: \u001B[34m591176555810000000000\u001B[39;49;00m\n",
      "\u001B[04m\u001B[91m│\u001B[39;49;00m   \n",
      "\u001B[04m\u001B[91m├\u001B[39;49;00m\u001B[04m\u001B[91m─\u001B[39;49;00m\u001B[04m\u001B[91m─\u001B[39;49;00m \u001B[34m0x62B9c7356A2Dc64a1969e19C23e4f579F9810Aa7\u001B[39;49;00m\n",
      "\u001B[04m\u001B[91m│\u001B[39;49;00m   \u001B[04m\u001B[91m├\u001B[39;49;00m\u001B[04m\u001B[91m─\u001B[39;49;00m\u001B[04m\u001B[91m─\u001B[39;49;00m Transfer\n",
      "\u001B[04m\u001B[91m│\u001B[39;49;00m   \u001B[04m\u001B[91m│\u001B[39;49;00m   \u001B[04m\u001B[91m├\u001B[39;49;00m\u001B[04m\u001B[91m─\u001B[39;49;00m\u001B[04m\u001B[91m─\u001B[39;49;00m _from: \u001B[34m0x0000000000000000000000000000000000000000\u001B[39;49;00m\n",
      "\u001B[04m\u001B[91m│\u001B[39;49;00m   \u001B[04m\u001B[91m│\u001B[39;49;00m   \u001B[04m\u001B[91m├\u001B[39;49;00m\u001B[04m\u001B[91m─\u001B[39;49;00m\u001B[04m\u001B[91m─\u001B[39;49;00m _to: \u001B[34m0x8014595F2AB54cD7c604B00E9fb932176fDc86Ae\u001B[39;49;00m\n",
      "\u001B[04m\u001B[91m│\u001B[39;49;00m   \u001B[04m\u001B[91m│\u001B[39;49;00m   \u001B[04m\u001B[91m└\u001B[39;49;00m\u001B[04m\u001B[91m─\u001B[39;49;00m\u001B[04m\u001B[91m─\u001B[39;49;00m _value: \u001B[34m591176555810000000000\u001B[39;49;00m\n",
      "\u001B[04m\u001B[91m│\u001B[39;49;00m   \u001B[04m\u001B[91m├\u001B[39;49;00m\u001B[04m\u001B[91m─\u001B[39;49;00m\u001B[04m\u001B[91m─\u001B[39;49;00m Approval\n",
      "\u001B[04m\u001B[91m│\u001B[39;49;00m   \u001B[04m\u001B[91m│\u001B[39;49;00m   \u001B[04m\u001B[91m├\u001B[39;49;00m\u001B[04m\u001B[91m─\u001B[39;49;00m\u001B[04m\u001B[91m─\u001B[39;49;00m _owner: \u001B[34m0x8014595F2AB54cD7c604B00E9fb932176fDc86Ae\u001B[39;49;00m\n",
      "\u001B[04m\u001B[91m│\u001B[39;49;00m   \u001B[04m\u001B[91m│\u001B[39;49;00m   \u001B[04m\u001B[91m├\u001B[39;49;00m\u001B[04m\u001B[91m─\u001B[39;49;00m\u001B[04m\u001B[91m─\u001B[39;49;00m _spender: \u001B[34m0x3Fe65692bfCD0e6CF84cB1E7d24108E434A7587e\u001B[39;49;00m\n",
      "\u001B[04m\u001B[91m│\u001B[39;49;00m   \u001B[04m\u001B[91m│\u001B[39;49;00m   \u001B[04m\u001B[91m└\u001B[39;49;00m\u001B[04m\u001B[91m─\u001B[39;49;00m\u001B[04m\u001B[91m─\u001B[39;49;00m _value: \u001B[34m0\u001B[39;49;00m\n",
      "\u001B[04m\u001B[91m│\u001B[39;49;00m   \u001B[04m\u001B[91m└\u001B[39;49;00m\u001B[04m\u001B[91m─\u001B[39;49;00m\u001B[04m\u001B[91m─\u001B[39;49;00m Approval\n",
      "\u001B[04m\u001B[91m│\u001B[39;49;00m       \u001B[04m\u001B[91m├\u001B[39;49;00m\u001B[04m\u001B[91m─\u001B[39;49;00m\u001B[04m\u001B[91m─\u001B[39;49;00m _owner: \u001B[34m0x8014595F2AB54cD7c604B00E9fb932176fDc86Ae\u001B[39;49;00m\n",
      "\u001B[04m\u001B[91m│\u001B[39;49;00m       \u001B[04m\u001B[91m├\u001B[39;49;00m\u001B[04m\u001B[91m─\u001B[39;49;00m\u001B[04m\u001B[91m─\u001B[39;49;00m _spender: \u001B[34m0x3Fe65692bfCD0e6CF84cB1E7d24108E434A7587e\u001B[39;49;00m\n",
      "\u001B[04m\u001B[91m│\u001B[39;49;00m       \u001B[04m\u001B[91m└\u001B[39;49;00m\u001B[04m\u001B[91m─\u001B[39;49;00m\u001B[04m\u001B[91m─\u001B[39;49;00m _value: \u001B[34m591176555810000000000\u001B[39;49;00m\n",
      "\u001B[04m\u001B[91m│\u001B[39;49;00m   \n",
      "\u001B[04m\u001B[91m├\u001B[39;49;00m\u001B[04m\u001B[91m─\u001B[39;49;00m\u001B[04m\u001B[91m─\u001B[39;49;00m \u001B[34m0x7091dbb7fcbA54569eF1387Ac89Eb2a5C9F6d2EA\u001B[39;49;00m\n",
      "\u001B[04m\u001B[91m│\u001B[39;49;00m   \u001B[04m\u001B[91m└\u001B[39;49;00m\u001B[04m\u001B[91m─\u001B[39;49;00m\u001B[04m\u001B[91m─\u001B[39;49;00m Staked\n",
      "\u001B[04m\u001B[91m│\u001B[39;49;00m       \u001B[04m\u001B[91m├\u001B[39;49;00m\u001B[04m\u001B[91m─\u001B[39;49;00m\u001B[04m\u001B[91m─\u001B[39;49;00m user: \u001B[34m0x58eB8Ac35D7fa28483A104932B9665e326b937E0\u001B[39;49;00m\n",
      "\u001B[04m\u001B[91m│\u001B[39;49;00m       \u001B[04m\u001B[91m└\u001B[39;49;00m\u001B[04m\u001B[91m─\u001B[39;49;00m\u001B[04m\u001B[91m─\u001B[39;49;00m amount: \u001B[34m591176555810000000000\u001B[39;49;00m\n",
      "\u001B[04m\u001B[91m│\u001B[39;49;00m   \n",
      "\u001B[04m\u001B[91m├\u001B[39;49;00m\u001B[04m\u001B[91m─\u001B[39;49;00m\u001B[04m\u001B[91m─\u001B[39;49;00m \u001B[34m0x62B9c7356A2Dc64a1969e19C23e4f579F9810Aa7\u001B[39;49;00m\n",
      "\u001B[04m\u001B[91m│\u001B[39;49;00m   \u001B[04m\u001B[91m├\u001B[39;49;00m\u001B[04m\u001B[91m─\u001B[39;49;00m\u001B[04m\u001B[91m─\u001B[39;49;00m Transfer\n",
      "\u001B[04m\u001B[91m│\u001B[39;49;00m   \u001B[04m\u001B[91m│\u001B[39;49;00m   \u001B[04m\u001B[91m├\u001B[39;49;00m\u001B[04m\u001B[91m─\u001B[39;49;00m\u001B[04m\u001B[91m─\u001B[39;49;00m _from: \u001B[34m0x8014595F2AB54cD7c604B00E9fb932176fDc86Ae\u001B[39;49;00m\n",
      "\u001B[04m\u001B[91m│\u001B[39;49;00m   \u001B[04m\u001B[91m│\u001B[39;49;00m   \u001B[04m\u001B[91m├\u001B[39;49;00m\u001B[04m\u001B[91m─\u001B[39;49;00m\u001B[04m\u001B[91m─\u001B[39;49;00m _to: \u001B[34m0x3Fe65692bfCD0e6CF84cB1E7d24108E434A7587e\u001B[39;49;00m\n",
      "\u001B[04m\u001B[91m│\u001B[39;49;00m   \u001B[04m\u001B[91m│\u001B[39;49;00m   \u001B[04m\u001B[91m└\u001B[39;49;00m\u001B[04m\u001B[91m─\u001B[39;49;00m\u001B[04m\u001B[91m─\u001B[39;49;00m _value: \u001B[34m591176555810000000000\u001B[39;49;00m\n",
      "\u001B[04m\u001B[91m│\u001B[39;49;00m   \u001B[04m\u001B[91m└\u001B[39;49;00m\u001B[04m\u001B[91m─\u001B[39;49;00m\u001B[04m\u001B[91m─\u001B[39;49;00m Approval\n",
      "\u001B[04m\u001B[91m│\u001B[39;49;00m       \u001B[04m\u001B[91m├\u001B[39;49;00m\u001B[04m\u001B[91m─\u001B[39;49;00m\u001B[04m\u001B[91m─\u001B[39;49;00m _owner: \u001B[34m0x8014595F2AB54cD7c604B00E9fb932176fDc86Ae\u001B[39;49;00m\n",
      "\u001B[04m\u001B[91m│\u001B[39;49;00m       \u001B[04m\u001B[91m├\u001B[39;49;00m\u001B[04m\u001B[91m─\u001B[39;49;00m\u001B[04m\u001B[91m─\u001B[39;49;00m _spender: \u001B[34m0x3Fe65692bfCD0e6CF84cB1E7d24108E434A7587e\u001B[39;49;00m\n",
      "\u001B[04m\u001B[91m│\u001B[39;49;00m       \u001B[04m\u001B[91m└\u001B[39;49;00m\u001B[04m\u001B[91m─\u001B[39;49;00m\u001B[04m\u001B[91m─\u001B[39;49;00m _value: \u001B[34m0\u001B[39;49;00m\n",
      "\u001B[04m\u001B[91m│\u001B[39;49;00m   \n",
      "\u001B[04m\u001B[91m└\u001B[39;49;00m\u001B[04m\u001B[91m─\u001B[39;49;00m\u001B[04m\u001B[91m─\u001B[39;49;00m \u001B[34m0x3Fe65692bfCD0e6CF84cB1E7d24108E434A7587e\u001B[39;49;00m\n",
      "    \u001B[04m\u001B[91m└\u001B[39;49;00m\u001B[04m\u001B[91m─\u001B[39;49;00m\u001B[04m\u001B[91m─\u001B[39;49;00m Staked\n",
      "        \u001B[04m\u001B[91m├\u001B[39;49;00m\u001B[04m\u001B[91m─\u001B[39;49;00m\u001B[04m\u001B[91m─\u001B[39;49;00m user: \u001B[34m0x58eB8Ac35D7fa28483A104932B9665e326b937E0\u001B[39;49;00m\n",
      "        \u001B[04m\u001B[91m└\u001B[39;49;00m\u001B[04m\u001B[91m─\u001B[39;49;00m\u001B[04m\u001B[91m─\u001B[39;49;00m amount: \u001B[34m591176555810000000000\u001B[39;49;00m\n",
      "\n"
     ]
    }
   ],
   "source": [
    "example_tx = crv_depositor_txes[10]\n",
    "tx_receipt = brownie.network.transaction.TransactionReceipt(example_tx['hash'])\n",
    "tx_receipt.info()"
   ]
  },
  {
   "cell_type": "code",
   "execution_count": 10,
   "metadata": {},
   "outputs": [],
   "source": [
    "crv_lock_txes = {'timestamp': [], 'qt': [], 'gas_price': []}\n",
    "for tx in crv_depositor_txes:\n",
    "    try:\n",
    "        tx_receipt = brownie.network.transaction.TransactionReceipt(tx['hash'])\n",
    "        if tx_receipt.fn_name == 'deposit':\n",
    "            crv_lock_txes['qt'].append(tx_receipt.events[0]['_value'] * 1e-18)\n",
    "            crv_lock_txes['gas_price'].append(tx_receipt.gas_price * 1e-9)\n",
    "            crv_lock_txes['timestamp'].append(datetime.datetime.fromtimestamp(tx_receipt.timestamp))\n",
    "    except:\n",
    "        continue"
   ]
  },
  {
   "cell_type": "code",
   "execution_count": 13,
   "metadata": {},
   "outputs": [
    {
     "data": {
      "text/html": "<div>\n<style scoped>\n    .dataframe tbody tr th:only-of-type {\n        vertical-align: middle;\n    }\n\n    .dataframe tbody tr th {\n        vertical-align: top;\n    }\n\n    .dataframe thead th {\n        text-align: right;\n    }\n</style>\n<table border=\"1\" class=\"dataframe\">\n  <thead>\n    <tr style=\"text-align: right;\">\n      <th></th>\n      <th>qt</th>\n      <th>gas_price</th>\n    </tr>\n    <tr>\n      <th>timestamp</th>\n      <th></th>\n      <th></th>\n    </tr>\n  </thead>\n  <tbody>\n    <tr>\n      <th>2021-08-21 14:06:21</th>\n      <td>2789.659017</td>\n      <td>25.000000</td>\n    </tr>\n    <tr>\n      <th>2021-08-21 14:10:47</th>\n      <td>2745.190486</td>\n      <td>23.000000</td>\n    </tr>\n    <tr>\n      <th>2021-08-21 14:26:08</th>\n      <td>65945.764863</td>\n      <td>20.000000</td>\n    </tr>\n    <tr>\n      <th>2021-08-21 14:45:11</th>\n      <td>5524.147376</td>\n      <td>30.000000</td>\n    </tr>\n    <tr>\n      <th>2021-08-21 14:50:03</th>\n      <td>235.408537</td>\n      <td>21.000000</td>\n    </tr>\n    <tr>\n      <th>...</th>\n      <td>...</td>\n      <td>...</td>\n    </tr>\n    <tr>\n      <th>2021-09-05 22:05:08</th>\n      <td>30544.124523</td>\n      <td>106.000000</td>\n    </tr>\n    <tr>\n      <th>2021-09-05 22:32:44</th>\n      <td>251677.750000</td>\n      <td>89.000000</td>\n    </tr>\n    <tr>\n      <th>2021-09-05 22:39:40</th>\n      <td>30110.679094</td>\n      <td>88.537931</td>\n    </tr>\n    <tr>\n      <th>2021-09-06 00:32:12</th>\n      <td>810.000000</td>\n      <td>89.000000</td>\n    </tr>\n    <tr>\n      <th>2021-09-06 00:38:49</th>\n      <td>552.400600</td>\n      <td>99.000000</td>\n    </tr>\n  </tbody>\n</table>\n<p>478 rows × 2 columns</p>\n</div>",
      "text/plain": "                                qt   gas_price\ntimestamp                                     \n2021-08-21 14:06:21    2789.659017   25.000000\n2021-08-21 14:10:47    2745.190486   23.000000\n2021-08-21 14:26:08   65945.764863   20.000000\n2021-08-21 14:45:11    5524.147376   30.000000\n2021-08-21 14:50:03     235.408537   21.000000\n...                            ...         ...\n2021-09-05 22:05:08   30544.124523  106.000000\n2021-09-05 22:32:44  251677.750000   89.000000\n2021-09-05 22:39:40   30110.679094   88.537931\n2021-09-06 00:32:12     810.000000   89.000000\n2021-09-06 00:38:49     552.400600   99.000000\n\n[478 rows x 2 columns]"
     },
     "execution_count": 13,
     "metadata": {},
     "output_type": "execute_result"
    }
   ],
   "source": [
    "df_crv_lock_txes = pd.DataFrame(crv_lock_txes)\n",
    "df_crv_lock_txes.set_index('timestamp', inplace=True)\n",
    "df_crv_lock_txes"
   ]
  },
  {
   "cell_type": "code",
   "execution_count": 33,
   "metadata": {},
   "outputs": [
    {
     "data": {
      "text/html": "<div>\n<style scoped>\n    .dataframe tbody tr th:only-of-type {\n        vertical-align: middle;\n    }\n\n    .dataframe tbody tr th {\n        vertical-align: top;\n    }\n\n    .dataframe thead th {\n        text-align: right;\n    }\n</style>\n<table border=\"1\" class=\"dataframe\">\n  <thead>\n    <tr style=\"text-align: right;\">\n      <th></th>\n      <th>avg_gas</th>\n      <th>total_locked</th>\n    </tr>\n    <tr>\n      <th>timestamp</th>\n      <th></th>\n      <th></th>\n    </tr>\n  </thead>\n  <tbody>\n    <tr>\n      <th>2021-08-21</th>\n      <td>35.772382</td>\n      <td>28.598153</td>\n    </tr>\n    <tr>\n      <th>2021-08-22</th>\n      <td>28.696988</td>\n      <td>28.162809</td>\n    </tr>\n    <tr>\n      <th>2021-08-23</th>\n      <td>41.804545</td>\n      <td>30.036073</td>\n    </tr>\n    <tr>\n      <th>2021-08-24</th>\n      <td>68.823067</td>\n      <td>84.195634</td>\n    </tr>\n    <tr>\n      <th>2021-08-25</th>\n      <td>74.833333</td>\n      <td>69.152679</td>\n    </tr>\n    <tr>\n      <th>2021-08-26</th>\n      <td>79.330284</td>\n      <td>14.749192</td>\n    </tr>\n    <tr>\n      <th>2021-08-27</th>\n      <td>69.974074</td>\n      <td>59.423923</td>\n    </tr>\n    <tr>\n      <th>2021-08-28</th>\n      <td>60.954227</td>\n      <td>94.287892</td>\n    </tr>\n    <tr>\n      <th>2021-08-29</th>\n      <td>60.325949</td>\n      <td>28.593548</td>\n    </tr>\n    <tr>\n      <th>2021-08-30</th>\n      <td>71.995001</td>\n      <td>14.118240</td>\n    </tr>\n    <tr>\n      <th>2021-08-31</th>\n      <td>80.293222</td>\n      <td>17.013887</td>\n    </tr>\n    <tr>\n      <th>2021-09-01</th>\n      <td>92.181818</td>\n      <td>1.419798</td>\n    </tr>\n    <tr>\n      <th>2021-09-02</th>\n      <td>87.920723</td>\n      <td>8.339927</td>\n    </tr>\n    <tr>\n      <th>2021-09-03</th>\n      <td>81.087615</td>\n      <td>1.898888</td>\n    </tr>\n    <tr>\n      <th>2021-09-04</th>\n      <td>113.568665</td>\n      <td>26.517071</td>\n    </tr>\n    <tr>\n      <th>2021-09-05</th>\n      <td>86.500469</td>\n      <td>55.637856</td>\n    </tr>\n    <tr>\n      <th>2021-09-06</th>\n      <td>94.000000</td>\n      <td>0.136240</td>\n    </tr>\n  </tbody>\n</table>\n</div>",
      "text/plain": "               avg_gas  total_locked\ntimestamp                           \n2021-08-21   35.772382     28.598153\n2021-08-22   28.696988     28.162809\n2021-08-23   41.804545     30.036073\n2021-08-24   68.823067     84.195634\n2021-08-25   74.833333     69.152679\n2021-08-26   79.330284     14.749192\n2021-08-27   69.974074     59.423923\n2021-08-28   60.954227     94.287892\n2021-08-29   60.325949     28.593548\n2021-08-30   71.995001     14.118240\n2021-08-31   80.293222     17.013887\n2021-09-01   92.181818      1.419798\n2021-09-02   87.920723      8.339927\n2021-09-03   81.087615      1.898888\n2021-09-04  113.568665     26.517071\n2021-09-05   86.500469     55.637856\n2021-09-06   94.000000      0.136240"
     },
     "execution_count": 33,
     "metadata": {},
     "output_type": "execute_result"
    }
   ],
   "source": [
    "df_crv_lock_daily = pd.DataFrame()\n",
    "df_crv_lock_daily['avg_gas'] = df_crv_lock_txes.groupby(pd.Grouper(freq='1D'))['gas_price'].mean()\n",
    "df_crv_lock_daily['total_locked'] = df_crv_lock_txes.groupby(pd.Grouper(freq='1D'))['qt'].sum() / 10000\n",
    "df_crv_lock_daily"
   ]
  },
  {
   "cell_type": "code",
   "execution_count": 35,
   "metadata": {},
   "outputs": [
    {
     "data": {
      "text/plain": "Text(0.5, 1.0, 'total locked crv (x10000) and average gas each day')"
     },
     "execution_count": 35,
     "metadata": {},
     "output_type": "execute_result"
    },
    {
     "data": {
      "image/png": "[encoded data removed]",
      "text/plain": "<Figure size 720x360 with 1 Axes>"
     },
     "metadata": {
      "needs_background": "light"
     },
     "output_type": "display_data"
    }
   ],
   "source": [
    "fig, ax = plt.subplots(1,1, figsize=(10, 5))\n",
    "df_crv_lock_daily.plot(ax=ax, kind='bar')\n",
    "ax.set_title(\"total locked crv (x10000) and average gas each day\")"
   ]
  },
  {
   "cell_type": "code",
   "execution_count": null,
   "metadata": {},
   "outputs": [],
   "source": []
  }
 ],
 "metadata": {
  "kernelspec": {
   "display_name": "Python 3.7.10  ('venv': venv)",
   "name": "python3710jvsc74a57bd021df2f293af9707545440a88aaf24e48b342b3531ee3aea9e212c79967abcd9c"
  },
  "language_info": {
   "codemirror_mode": {
    "name": "ipython",
    "version": 3
   },
   "file_extension": ".py",
   "mimetype": "text/x-python",
   "name": "python",
   "nbconvert_exporter": "python",
   "pygments_lexer": "ipython3",
   "version": "3.7.10"
  },
  "metadata": {
   "interpreter": {
    "hash": "21df2f293af9707545440a88aaf24e48b342b3531ee3aea9e212c79967abcd9c"
   }
  },
  "orig_nbformat": 2
 },
 "nbformat": 4,
 "nbformat_minor": 2
}