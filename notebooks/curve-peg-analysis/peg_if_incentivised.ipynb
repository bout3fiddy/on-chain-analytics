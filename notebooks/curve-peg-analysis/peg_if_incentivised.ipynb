{
 "cells": [
  {
   "cell_type": "code",
   "execution_count": 15,
   "metadata": {},
   "outputs": [],
   "source": [
    "import sys, os, datetime\n",
    "sys.path.append(\"../../\")\n",
    "\n",
    "from utils.contract_utils import init_contract\n",
    "from utils.network_utils import configure_network_and_connect\n",
    "\n",
    "import brownie"
   ]
  },
  {
   "cell_type": "code",
   "execution_count": 3,
   "metadata": {},
   "outputs": [],
   "source": [
    "ALCHEMY_API_KEY = os.environ['ALCHEMY_API_KEY']\n",
    "configure_network_and_connect(\n",
    "    node_provider_https=f\"https://eth-mainnet.alchemyapi.io/v2/{ALCHEMY_API_KEY}\",\n",
    "    network_name='mainnet'\n",
    ")"
   ]
  },
  {
   "cell_type": "code",
   "execution_count": 4,
   "metadata": {},
   "outputs": [],
   "source": [
    "ankreth = \"0xA96A65c051bF88B4095Ee1f2451C2A9d43F53Ae2\""
   ]
  },
  {
   "cell_type": "code",
   "execution_count": 5,
   "metadata": {},
   "outputs": [
    {
     "name": "stdout",
     "output_type": "stream",
     "text": [
      "Fetching source of \u001b[0;1;34m0xA96A65c051bF88B4095Ee1f2451C2A9d43F53Ae2\u001b[0;m from \u001b[0;1;34mapi.etherscan.io\u001b[0;m...\n",
      "  \u001b[0;1;35m@title \u001b[0;mETH/ankrETH StableSwap\n",
      "  \u001b[0;1;35m@author \u001b[0;mCurve.Fi\n",
      "\n",
      "pool param details:\n",
      "initial_A: 1000\n",
      "initial_A_time: 0\n",
      "A: 10\n",
      "A_precise: 1000\n",
      "A_precision: 100\n"
     ]
    }
   ],
   "source": [
    "pool_contract_addr = ankreth\n",
    "\n",
    "pool_contract = init_contract(contract_addr=pool_contract_addr)\n",
    "pool_info = pool_contract.info()\n",
    "\n",
    "initial_A = pool_contract.initial_A()\n",
    "initial_A_time = pool_contract.initial_A_time()\n",
    "A = pool_contract.A()\n",
    "A_precise = pool_contract.A_precise()\n",
    "A_precision = int(A_precise/A)\n",
    "\n",
    "print(f\"pool param details:\")\n",
    "print(f\"initial_A: {initial_A}\")\n",
    "print(f\"initial_A_time: {initial_A_time}\")\n",
    "print(f\"A: {A}\")\n",
    "print(f\"A_precise: {A_precise}\")\n",
    "print(f\"A_precision: {A_precision}\")"
   ]
  },
  {
   "cell_type": "code",
   "execution_count": 11,
   "metadata": {},
   "outputs": [
    {
     "name": "stdout",
     "output_type": "stream",
     "text": [
      "ETH , Ankr ETH2 Reward Bearing Certificate\n"
     ]
    }
   ],
   "source": [
    "coin_addr = pool_contract.coins(0)\n",
    "if coin_addr == \"0xEeeeeEeeeEeEeeEeEeEeeEEEeeeeEeeeeeeeEEeE\":\n",
    "    coin_0 = \"ETH\"\n",
    "else:\n",
    "    coin_0 = init_contract(coin_addr).name()\n",
    "\n",
    "coin_addr = pool_contract.coins(1)\n",
    "if coin_addr == \"0xEeeeeEeeeEeEeeEeEeEeeEEEeeeeEeeeeeeeEEeE\":\n",
    "    coin_1 = \"ETH\"\n",
    "else:\n",
    "    coin_1 = init_contract(coin_addr).name()\n",
    "\n",
    "print(coin_0, ',', coin_1)"
   ]
  },
  {
   "cell_type": "markdown",
   "metadata": {},
   "source": [
    "before incentivisation:"
   ]
  },
  {
   "cell_type": "code",
   "execution_count": 19,
   "metadata": {},
   "outputs": [
    {
     "data": {
      "text/plain": "datetime.datetime(2021, 9, 14, 12, 24, 28)"
     },
     "execution_count": 19,
     "metadata": {},
     "output_type": "execute_result"
    }
   ],
   "source": [
    "block_number = 13222324\n",
    "block_details = brownie.web3.eth.get_block(block_number)\n",
    "block_time = datetime.datetime.fromtimestamp(block_details['timestamp'])\n",
    "block_time"
   ]
  },
  {
   "cell_type": "code",
   "execution_count": 22,
   "metadata": {},
   "outputs": [
    {
     "data": {
      "text/plain": "'Pool ratios at 13222324 (2021-09-14 12:24:28): ETH: 28.54%, Ankr ETH2 Reward Bearing Certificate: 71.46%'"
     },
     "execution_count": 22,
     "metadata": {},
     "output_type": "execute_result"
    }
   ],
   "source": [
    "try:\n",
    "    pool_balances = pool_contract.get_balances(block_identifier=block_number)\n",
    "except:  # old vyper contracts did not have get_balances method\n",
    "    pool_balances_0 = pool_contract.balances(0, block_identifier=block_number)\n",
    "    pool_balances_1 = pool_contract.balances(1, block_identifier=block_number)\n",
    "    pool_balances = (pool_balances_0, pool_balances_1)\n",
    "\n",
    "total_coins = (pool_balances[1]+pool_balances[0])\n",
    "\n",
    "coin_perc_string = f\"Pool ratios at {block_number} ({block_time}): {coin_0}: {round(pool_balances[0]/total_coins * 100, 2)}%, {coin_1}: {round(pool_balances[1]/total_coins * 100, 2)}%\"\n",
    "\n",
    "coin_perc_string"
   ]
  },
  {
   "cell_type": "markdown",
   "metadata": {},
   "source": [
    "after incentivisation:"
   ]
  },
  {
   "cell_type": "code",
   "execution_count": 23,
   "metadata": {},
   "outputs": [
    {
     "data": {
      "text/plain": "datetime.datetime(2021, 9, 23, 13, 27, 56)"
     },
     "execution_count": 23,
     "metadata": {},
     "output_type": "execute_result"
    }
   ],
   "source": [
    "block_number = 13280770\n",
    "block_details = brownie.web3.eth.get_block(block_number)\n",
    "block_time = datetime.datetime.fromtimestamp(block_details['timestamp'])\n",
    "block_time"
   ]
  },
  {
   "cell_type": "code",
   "execution_count": 24,
   "metadata": {},
   "outputs": [
    {
     "data": {
      "text/plain": "'Pool ratios at 13280770 (2021-09-23 13:27:56): ETH: 38.83%, Ankr ETH2 Reward Bearing Certificate: 61.17%'"
     },
     "execution_count": 24,
     "metadata": {},
     "output_type": "execute_result"
    }
   ],
   "source": [
    "try:\n",
    "    pool_balances = pool_contract.get_balances(block_identifier=block_number)\n",
    "except:  # old vyper contracts did not have get_balances method\n",
    "    pool_balances_0 = pool_contract.balances(0, block_identifier=block_number)\n",
    "    pool_balances_1 = pool_contract.balances(1, block_identifier=block_number)\n",
    "    pool_balances = (pool_balances_0, pool_balances_1)\n",
    "\n",
    "total_coins = (pool_balances[1]+pool_balances[0])\n",
    "\n",
    "coin_perc_string = f\"Pool ratios at {block_number} ({block_time}): {coin_0}: {round(pool_balances[0]/total_coins * 100, 2)}%, {coin_1}: {round(pool_balances[1]/total_coins * 100, 2)}%\"\n",
    "\n",
    "coin_perc_string"
   ]
  },
  {
   "cell_type": "code",
   "execution_count": 25,
   "metadata": {},
   "outputs": [],
   "source": [
    "brownie.network.disconnect()"
   ]
  },
  {
   "cell_type": "code",
   "execution_count": null,
   "metadata": {},
   "outputs": [],
   "source": []
  }
 ],
 "metadata": {
  "kernelspec": {
   "display_name": "Python 3.7.10 64-bit ('venv': venv)",
   "name": "pythonjvsc74a57bd0ea544804ad94ad4b7270d2af05439f03f30e7952cca8d55759a97e338bf96f36"
  },
  "language_info": {
   "codemirror_mode": {
    "name": "ipython",
    "version": 3
   },
   "file_extension": ".py",
   "mimetype": "text/x-python",
   "name": "python",
   "nbconvert_exporter": "python",
   "pygments_lexer": "ipython3",
   "version": "3.7.10"
  },
  "metadata": {
   "interpreter": {
    "hash": "21df2f293af9707545440a88aaf24e48b342b3531ee3aea9e212c79967abcd9c"
   }
  },
  "orig_nbformat": 2
 },
 "nbformat": 4,
 "nbformat_minor": 2
}