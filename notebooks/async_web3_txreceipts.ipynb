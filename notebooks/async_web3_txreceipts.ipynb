{
 "cells": [
  {
   "cell_type": "code",
   "execution_count": 1,
   "metadata": {},
   "outputs": [],
   "source": [
    "import timeit\n",
    "import asyncio\n",
    "\n",
    "from aiohttp import ClientSession\n",
    "\n",
    "from web3.providers.base import JSONBaseProvider\n",
    "from web3.providers import HTTPProvider\n",
    "from web3 import Web3"
   ]
  },
  {
   "cell_type": "code",
   "execution_count": 2,
   "metadata": {},
   "outputs": [],
   "source": [
    "# ipykernels have asyncio always running in the back. need to do this for other asyncios in the backend\n",
    "import nest_asyncio\n",
    "nest_asyncio.apply()"
   ]
  },
  {
   "cell_type": "code",
   "execution_count": 3,
   "metadata": {},
   "outputs": [],
   "source": [
    "# synchronously request receipts for given transactions\n",
    "def sync_receipts(web3, transactions):\n",
    "    for tran in transactions:\n",
    "        web3.eth.getTransactionReceipt(tran)"
   ]
  },
  {
   "cell_type": "code",
   "execution_count": 4,
   "metadata": {},
   "outputs": [],
   "source": [
    "# asynchronous JSON RPC API request\n",
    "async def async_make_request(session, url, method, params):\n",
    "    base_provider = JSONBaseProvider()\n",
    "    request_data = base_provider.encode_rpc_request(method, params)\n",
    "    async with session.post(url, data=request_data,\n",
    "                        headers={'Content-Type': 'application/json'}) as response:\n",
    "        content = await response.read()\n",
    "    response = base_provider.decode_rpc_response(content)\n",
    "    return response"
   ]
  },
  {
   "cell_type": "code",
   "execution_count": 5,
   "metadata": {},
   "outputs": [],
   "source": [
    "async def run(node_address, transactions):\n",
    "    tasks = []\n",
    "\n",
    "    # Fetch all responses within one Client session,\n",
    "    # keep connection alive for all requests.\n",
    "    async with ClientSession() as session:\n",
    "        for tran in transactions:\n",
    "            task = asyncio.ensure_future(async_make_request(session, node_address,\n",
    "                                                            'eth_getTransactionReceipt',[tran.hex()]))\n",
    "            tasks.append(task)\n",
    "\n",
    "        responses = await asyncio.gather(*tasks)"
   ]
  },
  {
   "cell_type": "code",
   "execution_count": 6,
   "metadata": {},
   "outputs": [],
   "source": [
    "ALCHEMY_API_KEY = os.environ['ALCHEMY_API_KEY']\n",
    "eth_node_address = f\"https://eth-mainnet.alchemyapi.io/v2/{ALCHEMY_API_KEY}\"\n",
    "web3 = Web3(HTTPProvider(eth_node_address))"
   ]
  },
  {
   "cell_type": "code",
   "execution_count": 7,
   "metadata": {},
   "outputs": [],
   "source": [
    "block = web3.eth.getBlock(web3.eth.blockNumber)\n",
    "transactions = block['transactions']"
   ]
  },
  {
   "cell_type": "code",
   "execution_count": 8,
   "metadata": {},
   "outputs": [
    {
     "name": "stdout",
     "output_type": "stream",
     "text": [
      "async: 5.068s\n"
     ]
    }
   ],
   "source": [
    "start_time = timeit.default_timer()\n",
    "loop = asyncio.get_event_loop()\n",
    "future = asyncio.ensure_future(run(eth_node_address, transactions))\n",
    "result = loop.run_until_complete(future)\n",
    "print('async: {:.3f}s'.format(timeit.default_timer() - start_time))"
   ]
  },
  {
   "cell_type": "code",
   "execution_count": 9,
   "metadata": {},
   "outputs": [
    {
     "name": "stdout",
     "output_type": "stream",
     "text": [
      "sync: 81.911s\n"
     ]
    }
   ],
   "source": [
    "start_time = timeit.default_timer()\n",
    "sync_receipts(web3, transactions)\n",
    "print('sync: {:.3f}s'.format(timeit.default_timer() - start_time))"
   ]
  },
  {
   "cell_type": "code",
   "execution_count": null,
   "metadata": {},
   "outputs": [],
   "source": []
  }
 ],
 "metadata": {
  "kernelspec": {
   "display_name": "Python 3.7.10 64-bit ('venv': venv)",
   "name": "pythonjvsc74a57bd0ea544804ad94ad4b7270d2af05439f03f30e7952cca8d55759a97e338bf96f36"
  },
  "language_info": {
   "codemirror_mode": {
    "name": "ipython",
    "version": 3
   },
   "file_extension": ".py",
   "mimetype": "text/x-python",
   "name": "python",
   "nbconvert_exporter": "python",
   "pygments_lexer": "ipython3",
   "version": "3.7.10"
  },
  "metadata": {
   "interpreter": {
    "hash": "21df2f293af9707545440a88aaf24e48b342b3531ee3aea9e212c79967abcd9c"
   }
  },
  "orig_nbformat": 2
 },
 "nbformat": 4,
 "nbformat_minor": 2
}