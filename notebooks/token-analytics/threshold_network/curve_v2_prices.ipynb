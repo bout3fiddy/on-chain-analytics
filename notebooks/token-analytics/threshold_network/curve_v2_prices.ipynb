{
 "cells": [
  {
   "cell_type": "code",
   "execution_count": 1,
   "metadata": {
    "collapsed": true
   },
   "outputs": [],
   "source": [
    "import os\n",
    "import requests\n",
    "import datetime\n",
    "\n",
    "from utils.contract_utils import init_contract\n",
    "from utils.network_utils import configure_network_and_connect\n",
    "\n",
    "import brownie\n",
    "\n",
    "import pandas as pd\n",
    "import matplotlib.pyplot as plt\n",
    "import matplotlib.dates as mdates\n",
    "import seaborn as sns\n",
    "sns.set_style(\"whitegrid\")\n",
    "\n",
    "ALCHEMY_API_KEY = os.environ['ALCHEMY_API_KEY']\n",
    "configure_network_and_connect(\n",
    "    node_provider_https=f\"https://eth-mainnet.alchemyapi.io/v2/{ALCHEMY_API_KEY}\",\n",
    "    network_name='mainnet'\n",
    ")"
   ]
  },
  {
   "cell_type": "code",
   "execution_count": 2,
   "outputs": [],
   "source": [
    "pool_address = \"0x752eBeb79963cf0732E9c0fec72a49FD1DEfAEAC\""
   ],
   "metadata": {
    "collapsed": false,
    "pycharm": {
     "name": "#%%\n"
    }
   }
  },
  {
   "cell_type": "code",
   "execution_count": 3,
   "outputs": [],
   "source": [
    "api = \"https://api.thegraph.com/subgraphs/name/convex-community/curve-factory-volume\"\n",
    "query = \"\"\"\n",
    "{\n",
    "  swapEvents(\n",
    "    first: 1000,\n",
    "    orderBy: timestamp,\n",
    "    orderDirection: desc,\n",
    "    where: {\n",
    "      pool: \"0x752ebeb79963cf0732e9c0fec72a49fd1defaeac\"\n",
    "    }\n",
    "  )\n",
    "  {\n",
    "    block\n",
    "    timestamp\n",
    "  }\n",
    "}\n",
    "\"\"\"\n",
    "r = requests.post(api, json={'query': query})\n",
    "data = dict(r.json())\n",
    "blocks = [int(i['block']) for i in data['data']['swapEvents']]\n",
    "timestamps = [int(i['timestamp']) for i in data['data']['swapEvents']]\n",
    "timestamps = [datetime.datetime.fromtimestamp(i) for i in timestamps]"
   ],
   "metadata": {
    "collapsed": false,
    "pycharm": {
     "name": "#%%\n"
    }
   }
  },
  {
   "cell_type": "code",
   "execution_count": 4,
   "outputs": [],
   "source": [
    "pool = init_contract(pool_address)\n",
    "tricrypto2 = init_contract(\"0xD51a44d3FaE010294C616388b506AcdA1bfAAE46\")"
   ],
   "metadata": {
    "collapsed": false,
    "pycharm": {
     "name": "#%%\n"
    }
   }
  },
  {
   "cell_type": "code",
   "execution_count": null,
   "outputs": [],
   "source": [
    "price_oracle_data = []\n",
    "for block in blocks:\n",
    "\n",
    "    price_oracle = pool.price_oracle(block_identifier=block) * 1e-18\n",
    "    eth_price = tricrypto2.price_oracle(1, block_identifier=block) * 1e-18\n",
    "    price_oracle_data.append(price_oracle * eth_price)\n",
    "\n",
    "price_oracle_data"
   ],
   "metadata": {
    "collapsed": false,
    "pycharm": {
     "name": "#%%\n",
     "is_executing": true
    }
   }
  },
  {
   "cell_type": "code",
   "execution_count": null,
   "outputs": [],
   "source": [
    "fig, ax = plt.subplots(1,1, figsize=(30, 10))\n",
    "\n",
    "ax.plot(\n",
    "    timestamps,\n",
    "    price_oracle_data,\n",
    "    'kx-',\n",
    "    lw=3,\n",
    "    ms=10,\n",
    "    label='Threshold Network (T)'\n",
    ")\n",
    "\n",
    "ax.set_ylabel(\"Curve v2 Token Price [in USD]\", fontsize=25)\n",
    "ax.set_xlabel(\"Block Number\", fontsize=25)\n",
    "ax.tick_params(axis='both', which='major', labelsize=25)\n",
    "ax.tick_params(axis='both', which='major', labelsize=25, colors='black')\n",
    "ax.legend(fontsize=25);"
   ],
   "metadata": {
    "collapsed": false,
    "pycharm": {
     "name": "#%%\n",
     "is_executing": true
    }
   }
  },
  {
   "cell_type": "code",
   "execution_count": null,
   "outputs": [],
   "source": [],
   "metadata": {
    "collapsed": false,
    "pycharm": {
     "name": "#%%\n",
     "is_executing": true
    }
   }
  }
 ],
 "metadata": {
  "kernelspec": {
   "display_name": "Python 3",
   "language": "python",
   "name": "python3"
  },
  "language_info": {
   "codemirror_mode": {
    "name": "ipython",
    "version": 2
   },
   "file_extension": ".py",
   "mimetype": "text/x-python",
   "name": "python",
   "nbconvert_exporter": "python",
   "pygments_lexer": "ipython2",
   "version": "2.7.6"
  }
 },
 "nbformat": 4,
 "nbformat_minor": 0
}