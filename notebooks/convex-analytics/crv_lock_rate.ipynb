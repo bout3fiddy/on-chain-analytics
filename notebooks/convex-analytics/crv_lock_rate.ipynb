{
 "cells": [
  {
   "cell_type": "code",
   "execution_count": 1,
   "metadata": {},
   "outputs": [],
   "source": [
    "import sys, os, datetime, requests\n",
    "from mako.template import Template\n",
    "sys.path.append(\"../../\")\n",
    "\n",
    "from utils.contract_utils import init_contract\n",
    "from utils.network_utils import configure_network_and_connect\n",
    "\n",
    "import brownie"
   ]
  },
  {
   "cell_type": "code",
   "execution_count": 2,
   "metadata": {},
   "outputs": [],
   "source": [
    "import pandas as pd\n",
    "import matplotlib.pyplot as plt\n",
    "import matplotlib.dates as mdates\n",
    "import seaborn as sns\n",
    "sns.set_style(\"whitegrid\")"
   ]
  },
  {
   "cell_type": "code",
   "execution_count": 3,
   "metadata": {},
   "outputs": [],
   "source": [
    "ALCHEMY_API_KEY = os.environ['ALCHEMY_API_KEY']\n",
    "configure_network_and_connect(\n",
    "    node_provider_https=f\"https://eth-mainnet.alchemyapi.io/v2/{ALCHEMY_API_KEY}\",\n",
    "    network_name='mainnet'\n",
    ")"
   ]
  },
  {
   "cell_type": "markdown",
   "metadata": {},
   "source": [
    "# Convex CRV locker"
   ]
  },
  {
   "cell_type": "code",
   "execution_count": 4,
   "metadata": {},
   "outputs": [],
   "source": [
    "crv_depositor_contract = \"0x8014595F2AB54cD7c604B00E9fb932176fDc86Ae\"\n",
    "crv_depositor_contract_obj = init_contract(crv_depositor_contract)\n",
    "crv_depositor_contract_genesis_block = 12451019"
   ]
  },
  {
   "cell_type": "code",
   "execution_count": 5,
   "metadata": {},
   "outputs": [],
   "source": [
    "current_block = brownie.web3.eth.block_number"
   ]
  },
  {
   "cell_type": "code",
   "execution_count": 6,
   "metadata": {},
   "outputs": [],
   "source": [
    "def fetch_txes_for_contract(\n",
    "    contract: str, \n",
    "    start: int,\n",
    "    end: int,\n",
    "    block_steps: int = 100000,\n",
    "    etherscan_api_key: str = os.environ['ETHERSCAN_API_KEY']\n",
    "):\n",
    "\n",
    "    txes = Template(\"https://api.etherscan.io/api?module=account&action=txlist&address=${contract_addr}&startblock=${start_block}&endblock=${end_block}&sort=asc&page=1&offset=10000&apikey=${etherscan_key}\")\n",
    "\n",
    "    i = start\n",
    "    contract_txes = []\n",
    "    while i < end:\n",
    "\n",
    "        etherscan_query = txes.render(\n",
    "            etherscan_key=etherscan_api_key,\n",
    "            start_block=i,\n",
    "            end_block=i+block_steps,\n",
    "            contract_addr=contract\n",
    "        )\n",
    "        etherscan_api_response = requests.post(etherscan_query)\n",
    "        response_dict = etherscan_api_response.json()\n",
    "\n",
    "        if not 'result' in response_dict.keys():\n",
    "            break\n",
    "\n",
    "        queried_txes = response_dict['result']\n",
    "        if len(queried_txes) == 10000:  # probably missed txes: reduce steps and do it again.\n",
    "            block_steps *= 0.8\n",
    "            continue\n",
    "\n",
    "        contract_txes.extend(queried_txes)\n",
    "        i += block_steps\n",
    "\n",
    "    return contract_txes"
   ]
  },
  {
   "cell_type": "code",
   "execution_count": 7,
   "metadata": {},
   "outputs": [],
   "source": [
    "crv_deposit_txes = fetch_txes_for_contract(\n",
    "    contract=crv_depositor_contract, \n",
    "    start=crv_depositor_contract_genesis_block,\n",
    "    end=current_block,\n",
    "    block_steps=100000,\n",
    "    etherscan_api_key=os.environ['ETHERSCAN_API_KEY']\n",
    ")"
   ]
  },
  {
   "cell_type": "code",
   "execution_count": 20,
   "metadata": {},
   "outputs": [],
   "source": [
    "subset_crv_deposit_txes = crv_deposit_txes[-100:]"
   ]
  },
  {
   "cell_type": "code",
   "execution_count": 22,
   "metadata": {},
   "outputs": [
    {
     "data": {
      "text/plain": "{'blockNumber': '13296382',\n 'timeStamp': '1632591693',\n 'hash': '0xc474c6d85bc791a255b1c98fdb1b10557f84b4ee9b77fafb8568c0556897a770',\n 'nonce': '1152',\n 'blockHash': '0x99691314e055aee9d58d19141bf23aa5244633f19df58e77fb3185d174b1a130',\n 'transactionIndex': '262',\n 'from': '0x374f5fa69b977964d5242c95cd2d31db663bddf0',\n 'to': '0x8014595f2ab54cd7c604b00e9fb932176fdc86ae',\n 'value': '0',\n 'gas': '350883',\n 'gasPrice': '39867026188',\n 'isError': '0',\n 'txreceipt_status': '1',\n 'input': '0x80ed71e40000000000000000000000000000000000000000000000281037585b81dfac9e00000000000000000000000000000000000000000000000000000000000000000000000000000000000000003fe65692bfcd0e6cf84cb1e7d24108e434a7587e',\n 'contractAddress': '',\n 'cumulativeGasUsed': '24077490',\n 'gasUsed': '172260',\n 'confirmations': '255'}"
     },
     "execution_count": 22,
     "metadata": {},
     "output_type": "execute_result"
    }
   ],
   "source": [
    "tx"
   ]
  },
  {
   "cell_type": "code",
   "execution_count": null,
   "metadata": {},
   "outputs": [],
   "source": []
  },
  {
   "cell_type": "code",
   "execution_count": 21,
   "metadata": {},
   "outputs": [
    {
     "data": {
      "text/html": "<div>\n<style scoped>\n    .dataframe tbody tr th:only-of-type {\n        vertical-align: middle;\n    }\n\n    .dataframe tbody tr th {\n        vertical-align: top;\n    }\n\n    .dataframe thead th {\n        text-align: right;\n    }\n</style>\n<table border=\"1\" class=\"dataframe\">\n  <thead>\n    <tr style=\"text-align: right;\">\n      <th></th>\n      <th>qt</th>\n    </tr>\n    <tr>\n      <th>timestamp</th>\n      <th></th>\n    </tr>\n  </thead>\n  <tbody>\n    <tr>\n      <th>2021-09-24 20:40:38</th>\n      <td>335.176000</td>\n    </tr>\n    <tr>\n      <th>2021-09-24 21:05:48</th>\n      <td>278.687823</td>\n    </tr>\n    <tr>\n      <th>2021-09-24 21:23:34</th>\n      <td>8372.078037</td>\n    </tr>\n    <tr>\n      <th>2021-09-24 21:34:48</th>\n      <td>5014.108750</td>\n    </tr>\n    <tr>\n      <th>2021-09-24 22:02:54</th>\n      <td>2000.000000</td>\n    </tr>\n    <tr>\n      <th>...</th>\n      <td>...</td>\n    </tr>\n    <tr>\n      <th>2021-09-25 20:52:22</th>\n      <td>8574.287600</td>\n    </tr>\n    <tr>\n      <th>2021-09-25 21:03:08</th>\n      <td>248.073336</td>\n    </tr>\n    <tr>\n      <th>2021-09-25 21:27:46</th>\n      <td>3904.747871</td>\n    </tr>\n    <tr>\n      <th>2021-09-25 22:49:44</th>\n      <td>7047.822485</td>\n    </tr>\n    <tr>\n      <th>2021-09-25 23:11:33</th>\n      <td>739.038263</td>\n    </tr>\n  </tbody>\n</table>\n<p>99 rows × 1 columns</p>\n</div>",
      "text/plain": "                              qt\ntimestamp                       \n2021-09-24 20:40:38   335.176000\n2021-09-24 21:05:48   278.687823\n2021-09-24 21:23:34  8372.078037\n2021-09-24 21:34:48  5014.108750\n2021-09-24 22:02:54  2000.000000\n...                          ...\n2021-09-25 20:52:22  8574.287600\n2021-09-25 21:03:08   248.073336\n2021-09-25 21:27:46  3904.747871\n2021-09-25 22:49:44  7047.822485\n2021-09-25 23:11:33   739.038263\n\n[99 rows x 1 columns]"
     },
     "execution_count": 21,
     "metadata": {},
     "output_type": "execute_result"
    }
   ],
   "source": [
    "crv_lock_txes = {'timestamp': [], 'qt': []}\n",
    "for tx in subset_crv_deposit_txes:\n",
    "    try:\n",
    "        tx_receipt = brownie.network.transaction.TransactionReceipt(tx['hash'])\n",
    "        if tx_receipt.fn_name == 'deposit':\n",
    "            crv_lock_txes['qt'].append(tx_receipt.events[0]['_value'] * 1e-18)\n",
    "            crv_lock_txes['timestamp'].append(datetime.datetime.fromtimestamp(tx_receipt.timestamp))\n",
    "    except:\n",
    "        continue\n",
    "\n",
    "df_crv_lock_txes = pd.DataFrame(crv_lock_txes)\n",
    "df_crv_lock_txes.set_index('timestamp', inplace=True)\n",
    "df_crv_lock_txes"
   ]
  },
  {
   "cell_type": "code",
   "execution_count": 10,
   "metadata": {},
   "outputs": [
    {
     "data": {
      "text/html": "<div>\n<style scoped>\n    .dataframe tbody tr th:only-of-type {\n        vertical-align: middle;\n    }\n\n    .dataframe tbody tr th {\n        vertical-align: top;\n    }\n\n    .dataframe thead th {\n        text-align: right;\n    }\n</style>\n<table border=\"1\" class=\"dataframe\">\n  <thead>\n    <tr style=\"text-align: right;\">\n      <th></th>\n      <th>total_locked</th>\n    </tr>\n    <tr>\n      <th>timestamp</th>\n      <th></th>\n    </tr>\n  </thead>\n  <tbody>\n    <tr>\n      <th>2021-09-25</th>\n      <td>6.333903</td>\n    </tr>\n  </tbody>\n</table>\n</div>",
      "text/plain": "            total_locked\ntimestamp               \n2021-09-25      6.333903"
     },
     "execution_count": 10,
     "metadata": {},
     "output_type": "execute_result"
    }
   ],
   "source": [
    "df_crv_lock_daily = pd.DataFrame()\n",
    "df_crv_lock_daily['total_locked'] = df_crv_lock_txes.groupby(pd.Grouper(freq='1D'))['qt'].sum() / 10000\n",
    "df_crv_lock_daily"
   ]
  },
  {
   "cell_type": "markdown",
   "metadata": {},
   "source": [
    "# minted crv per day"
   ]
  },
  {
   "cell_type": "code",
   "execution_count": 19,
   "metadata": {},
   "outputs": [
    {
     "data": {
      "text/html": "<div>\n<style scoped>\n    .dataframe tbody tr th:only-of-type {\n        vertical-align: middle;\n    }\n\n    .dataframe tbody tr th {\n        vertical-align: top;\n    }\n\n    .dataframe thead th {\n        text-align: right;\n    }\n</style>\n<table border=\"1\" class=\"dataframe\">\n  <thead>\n    <tr style=\"text-align: right;\">\n      <th></th>\n      <th>DateTime</th>\n      <th>Total CRV</th>\n    </tr>\n  </thead>\n  <tbody>\n    <tr>\n      <th>0</th>\n      <td>2020-08-13 22:17:28</td>\n      <td>2.302417e+01</td>\n    </tr>\n    <tr>\n      <th>1</th>\n      <td>2020-08-14 22:17:28</td>\n      <td>1.990220e+06</td>\n    </tr>\n    <tr>\n      <th>2</th>\n      <td>2020-08-15 22:17:28</td>\n      <td>3.980417e+06</td>\n    </tr>\n    <tr>\n      <th>3</th>\n      <td>2020-08-16 22:17:28</td>\n      <td>5.970614e+06</td>\n    </tr>\n    <tr>\n      <th>4</th>\n      <td>2020-08-17 22:17:28</td>\n      <td>7.960810e+06</td>\n    </tr>\n    <tr>\n      <th>...</th>\n      <td>...</td>\n      <td>...</td>\n    </tr>\n    <tr>\n      <th>504</th>\n      <td>2021-09-21 22:17:28</td>\n      <td>7.830796e+08</td>\n    </tr>\n    <tr>\n      <th>505</th>\n      <td>2021-09-22 22:17:28</td>\n      <td>7.845347e+08</td>\n    </tr>\n    <tr>\n      <th>506</th>\n      <td>2021-09-23 22:17:28</td>\n      <td>7.859897e+08</td>\n    </tr>\n    <tr>\n      <th>507</th>\n      <td>2021-09-24 22:17:28</td>\n      <td>7.874448e+08</td>\n    </tr>\n    <tr>\n      <th>508</th>\n      <td>2021-09-25 22:17:28</td>\n      <td>7.888998e+08</td>\n    </tr>\n  </tbody>\n</table>\n<p>409 rows × 2 columns</p>\n</div>",
      "text/plain": "                DateTime     Total CRV\n0    2020-08-13 22:17:28  2.302417e+01\n1    2020-08-14 22:17:28  1.990220e+06\n2    2020-08-15 22:17:28  3.980417e+06\n3    2020-08-16 22:17:28  5.970614e+06\n4    2020-08-17 22:17:28  7.960810e+06\n..                   ...           ...\n504  2021-09-21 22:17:28  7.830796e+08\n505  2021-09-22 22:17:28  7.845347e+08\n506  2021-09-23 22:17:28  7.859897e+08\n507  2021-09-24 22:17:28  7.874448e+08\n508  2021-09-25 22:17:28  7.888998e+08\n\n[409 rows x 2 columns]"
     },
     "execution_count": 19,
     "metadata": {},
     "output_type": "execute_result"
    }
   ],
   "source": [
    "release_schedule_file = \"crv-released-locked-crv.csv\"\n",
    "df_daily_crv_minted = pd.read_csv(release_schedule_file)\n",
    "df_daily_crv_minted = df_daily_crv_minted.drop(columns=['Total vote-locked CRV']).dropna()\n",
    "df_daily_crv_minted"
   ]
  },
  {
   "cell_type": "code",
   "execution_count": null,
   "metadata": {},
   "outputs": [],
   "source": []
  }
 ],
 "metadata": {
  "kernelspec": {
   "display_name": "Python 3.7.10 64-bit ('venv': venv)",
   "name": "pythonjvsc74a57bd0ea544804ad94ad4b7270d2af05439f03f30e7952cca8d55759a97e338bf96f36"
  },
  "language_info": {
   "codemirror_mode": {
    "name": "ipython",
    "version": 3
   },
   "file_extension": ".py",
   "mimetype": "text/x-python",
   "name": "python",
   "nbconvert_exporter": "python",
   "pygments_lexer": "ipython3",
   "version": "3.7.10"
  },
  "metadata": {
   "interpreter": {
    "hash": "21df2f293af9707545440a88aaf24e48b342b3531ee3aea9e212c79967abcd9c"
   }
  },
  "orig_nbformat": 2
 },
 "nbformat": 4,
 "nbformat_minor": 2
}