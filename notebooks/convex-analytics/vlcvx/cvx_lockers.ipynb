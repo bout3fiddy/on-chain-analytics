{
 "cells": [
  {
   "cell_type": "code",
   "execution_count": 1,
   "outputs": [],
   "source": [
    "import os\n",
    "import datetime\n",
    "import requests\n",
    "\n",
    "import brownie\n",
    "\n",
    "from utils.network_utils import connect_eth_alchemy\n",
    "from utils.contract_utils import init_contract\n",
    "\n",
    "import pandas as pd\n",
    "pd.options.mode.chained_assignment = None  # default='warn'"
   ],
   "metadata": {
    "collapsed": false,
    "pycharm": {
     "name": "#%%\n"
    }
   }
  },
  {
   "cell_type": "code",
   "execution_count": 2,
   "outputs": [],
   "source": [
    "import matplotlib.pyplot as plt\n",
    "\n",
    "import seaborn as sns\n",
    "sns.set_style(\"whitegrid\")"
   ],
   "metadata": {
    "collapsed": false,
    "pycharm": {
     "name": "#%%\n"
    }
   }
  },
  {
   "cell_type": "code",
   "execution_count": 3,
   "outputs": [],
   "source": [
    "connect_eth_alchemy()"
   ],
   "metadata": {
    "collapsed": false,
    "pycharm": {
     "name": "#%%\n"
    }
   }
  },
  {
   "cell_type": "code",
   "execution_count": 4,
   "metadata": {
    "collapsed": true
   },
   "outputs": [],
   "source": [
    "vlcvx_addr = \"0xD18140b4B819b895A3dba5442F959fA44994AF50\""
   ]
  },
  {
   "cell_type": "code",
   "execution_count": 5,
   "outputs": [],
   "source": [
    "current_block = brownie.web3.eth.block_number"
   ],
   "metadata": {
    "collapsed": false,
    "pycharm": {
     "name": "#%%\n"
    }
   }
  },
  {
   "cell_type": "code",
   "execution_count": 6,
   "outputs": [],
   "source": [
    "query = f\"https://api.etherscan.io/api?module=account&action=txlist&address={vlcvx_addr}&startblock=0&endblock=9999999999&sort=asc&page=1&offset=10000&apikey={os.environ['ETHERSCAN_API_KEY']}\"\n",
    "response = requests.post(query)"
   ],
   "metadata": {
    "collapsed": false,
    "pycharm": {
     "name": "#%%\n"
    }
   }
  },
  {
   "cell_type": "code",
   "execution_count": 7,
   "outputs": [
    {
     "data": {
      "text/plain": "4453"
     },
     "execution_count": 7,
     "metadata": {},
     "output_type": "execute_result"
    }
   ],
   "source": [
    "interacting_addrs = []\n",
    "for tx in dict(response.json())['result']:\n",
    "    interacting_addrs.append(tx['from'])\n",
    "len(interacting_addrs)"
   ],
   "metadata": {
    "collapsed": false,
    "pycharm": {
     "name": "#%%\n"
    }
   }
  },
  {
   "cell_type": "code",
   "execution_count": 8,
   "outputs": [],
   "source": [
    "vlcvx = init_contract(vlcvx_addr)"
   ],
   "metadata": {
    "collapsed": false,
    "pycharm": {
     "name": "#%%\n"
    }
   }
  },
  {
   "cell_type": "code",
   "execution_count": 9,
   "outputs": [],
   "source": [
    "vlcvx_balances = []\n",
    "with brownie.multicall():\n",
    "    for addr in interacting_addrs:\n",
    "        vlcvx_balances.append(vlcvx.lockedBalanceOf(addr))"
   ],
   "metadata": {
    "collapsed": false,
    "pycharm": {
     "name": "#%%\n"
    }
   }
  },
  {
   "cell_type": "code",
   "execution_count": 10,
   "outputs": [
    {
     "data": {
      "text/plain": "                                            addr            vlcvx_balance\n0     0x947b7742c403f20e5faccdac5e092c943e7d0277                        0\n1     0x947b7742c403f20e5faccdac5e092c943e7d0277                        0\n2     0x947b7742c403f20e5faccdac5e092c943e7d0277                        0\n3     0x947b7742c403f20e5faccdac5e092c943e7d0277                        0\n4     0x947b7742c403f20e5faccdac5e092c943e7d0277                        0\n...                                          ...                      ...\n4448  0xc2479e356e96597cba1c05202fb65be1d862cd4d     28505002358806887175\n4449  0xd4af602e592a6c72a0080851c36abf40ecc4a14f  10000000000000000000000\n4450  0xe8142000ef4dad30b1b84705b32fdd8d906366d9   2442727376176952631113\n4451  0x33ce9f85cf8d0c1aaed050bf25ca319996c31351      6475864509386164077\n4452  0x30f1d1ffad34b24bb8310ad9dd237b854b4daea7   5011590659454923727285\n\n[4453 rows x 2 columns]",
      "text/html": "<div>\n<style scoped>\n    .dataframe tbody tr th:only-of-type {\n        vertical-align: middle;\n    }\n\n    .dataframe tbody tr th {\n        vertical-align: top;\n    }\n\n    .dataframe thead th {\n        text-align: right;\n    }\n</style>\n<table border=\"1\" class=\"dataframe\">\n  <thead>\n    <tr style=\"text-align: right;\">\n      <th></th>\n      <th>addr</th>\n      <th>vlcvx_balance</th>\n    </tr>\n  </thead>\n  <tbody>\n    <tr>\n      <th>0</th>\n      <td>0x947b7742c403f20e5faccdac5e092c943e7d0277</td>\n      <td>0</td>\n    </tr>\n    <tr>\n      <th>1</th>\n      <td>0x947b7742c403f20e5faccdac5e092c943e7d0277</td>\n      <td>0</td>\n    </tr>\n    <tr>\n      <th>2</th>\n      <td>0x947b7742c403f20e5faccdac5e092c943e7d0277</td>\n      <td>0</td>\n    </tr>\n    <tr>\n      <th>3</th>\n      <td>0x947b7742c403f20e5faccdac5e092c943e7d0277</td>\n      <td>0</td>\n    </tr>\n    <tr>\n      <th>4</th>\n      <td>0x947b7742c403f20e5faccdac5e092c943e7d0277</td>\n      <td>0</td>\n    </tr>\n    <tr>\n      <th>...</th>\n      <td>...</td>\n      <td>...</td>\n    </tr>\n    <tr>\n      <th>4448</th>\n      <td>0xc2479e356e96597cba1c05202fb65be1d862cd4d</td>\n      <td>28505002358806887175</td>\n    </tr>\n    <tr>\n      <th>4449</th>\n      <td>0xd4af602e592a6c72a0080851c36abf40ecc4a14f</td>\n      <td>10000000000000000000000</td>\n    </tr>\n    <tr>\n      <th>4450</th>\n      <td>0xe8142000ef4dad30b1b84705b32fdd8d906366d9</td>\n      <td>2442727376176952631113</td>\n    </tr>\n    <tr>\n      <th>4451</th>\n      <td>0x33ce9f85cf8d0c1aaed050bf25ca319996c31351</td>\n      <td>6475864509386164077</td>\n    </tr>\n    <tr>\n      <th>4452</th>\n      <td>0x30f1d1ffad34b24bb8310ad9dd237b854b4daea7</td>\n      <td>5011590659454923727285</td>\n    </tr>\n  </tbody>\n</table>\n<p>4453 rows × 2 columns</p>\n</div>"
     },
     "execution_count": 10,
     "metadata": {},
     "output_type": "execute_result"
    }
   ],
   "source": [
    "df_vlcvx_balances = pd.DataFrame({\"addr\": interacting_addrs, \"vlcvx_balance\": vlcvx_balances})\n",
    "df_vlcvx_balances"
   ],
   "metadata": {
    "collapsed": false,
    "pycharm": {
     "name": "#%%\n"
    }
   }
  },
  {
   "cell_type": "code",
   "execution_count": 11,
   "outputs": [
    {
     "data": {
      "text/plain": "                                            addr   vlcvx_balance\n0                                            NaN             NaN\n5     0xaac0aa431c237c2c0b5f041c8e59b3f1a43ac78f  1948054.430446\n6     0x94dfce828c3daaf6492f1b6f66f9a1825254d24b   547261.932749\n7     0xc7c022bd85529bed1b92de4ba847f3f4e8fd5cbf   499973.912018\n8     0x2ba8c59c99c94ac5d3b2af7019d2861c640e91f7     6568.236533\n...                                          ...             ...\n4445  0x464a574ce1734762b287b3d2d15bf3af29bdec1a            50.0\n4446  0x77375a8c9d13bf79afb2a87f1b0ac1dfd5f5bf66      270.975414\n4448  0xc2479e356e96597cba1c05202fb65be1d862cd4d       28.505002\n4450  0xe8142000ef4dad30b1b84705b32fdd8d906366d9     2442.727376\n4451  0x33ce9f85cf8d0c1aaed050bf25ca319996c31351        6.475865\n\n[2218 rows x 2 columns]",
      "text/html": "<div>\n<style scoped>\n    .dataframe tbody tr th:only-of-type {\n        vertical-align: middle;\n    }\n\n    .dataframe tbody tr th {\n        vertical-align: top;\n    }\n\n    .dataframe thead th {\n        text-align: right;\n    }\n</style>\n<table border=\"1\" class=\"dataframe\">\n  <thead>\n    <tr style=\"text-align: right;\">\n      <th></th>\n      <th>addr</th>\n      <th>vlcvx_balance</th>\n    </tr>\n  </thead>\n  <tbody>\n    <tr>\n      <th>0</th>\n      <td>NaN</td>\n      <td>NaN</td>\n    </tr>\n    <tr>\n      <th>5</th>\n      <td>0xaac0aa431c237c2c0b5f041c8e59b3f1a43ac78f</td>\n      <td>1948054.430446</td>\n    </tr>\n    <tr>\n      <th>6</th>\n      <td>0x94dfce828c3daaf6492f1b6f66f9a1825254d24b</td>\n      <td>547261.932749</td>\n    </tr>\n    <tr>\n      <th>7</th>\n      <td>0xc7c022bd85529bed1b92de4ba847f3f4e8fd5cbf</td>\n      <td>499973.912018</td>\n    </tr>\n    <tr>\n      <th>8</th>\n      <td>0x2ba8c59c99c94ac5d3b2af7019d2861c640e91f7</td>\n      <td>6568.236533</td>\n    </tr>\n    <tr>\n      <th>...</th>\n      <td>...</td>\n      <td>...</td>\n    </tr>\n    <tr>\n      <th>4445</th>\n      <td>0x464a574ce1734762b287b3d2d15bf3af29bdec1a</td>\n      <td>50.0</td>\n    </tr>\n    <tr>\n      <th>4446</th>\n      <td>0x77375a8c9d13bf79afb2a87f1b0ac1dfd5f5bf66</td>\n      <td>270.975414</td>\n    </tr>\n    <tr>\n      <th>4448</th>\n      <td>0xc2479e356e96597cba1c05202fb65be1d862cd4d</td>\n      <td>28.505002</td>\n    </tr>\n    <tr>\n      <th>4450</th>\n      <td>0xe8142000ef4dad30b1b84705b32fdd8d906366d9</td>\n      <td>2442.727376</td>\n    </tr>\n    <tr>\n      <th>4451</th>\n      <td>0x33ce9f85cf8d0c1aaed050bf25ca319996c31351</td>\n      <td>6.475865</td>\n    </tr>\n  </tbody>\n</table>\n<p>2218 rows × 2 columns</p>\n</div>"
     },
     "execution_count": 11,
     "metadata": {},
     "output_type": "execute_result"
    }
   ],
   "source": [
    "df_vlcvx_balances = df_vlcvx_balances.where(df_vlcvx_balances.vlcvx_balance > 0)\n",
    "df_vlcvx_balances['vlcvx_balance'] *= 1e-18\n",
    "df_vlcvx_balances.drop_duplicates(inplace=True)\n",
    "df_vlcvx_balances"
   ],
   "metadata": {
    "collapsed": false,
    "pycharm": {
     "name": "#%%\n"
    }
   }
  },
  {
   "cell_type": "code",
   "execution_count": 12,
   "outputs": [
    {
     "data": {
      "text/plain": "                                            addr   vlcvx_balance\n0     0xaac0aa431c237c2c0b5f041c8e59b3f1a43ac78f  1948054.430446\n1     0x9c5083dd4838e120dbeac44c052179692aa5dac5  1000000.002648\n2     0xa22eb3338dfd69458513a1f6d4742ab29f7ef333       1000000.0\n3     0xb3df5271b92e9fd2fed137253bb4611285923f16   815580.755035\n4     0x94dfce828c3daaf6492f1b6f66f9a1825254d24b   547261.932749\n...                                          ...             ...\n2212  0xe16f4f24fbc389441a83222b6fe7c61a1b0d50ff        1.470637\n2213  0x25b28ee7f335f0396f41f129039f1583345b21b8        1.222147\n2214  0x9ead5e6e90440e69b5f28fef5942a5b273387c13             1.0\n2215  0xff77fdef2685402f9064cd14ae24aa4609d8d867             1.0\n2216  0x789c455e63c476612bc8cd88c92f050e7446d14f             1.0\n\n[2217 rows x 2 columns]",
      "text/html": "<div>\n<style scoped>\n    .dataframe tbody tr th:only-of-type {\n        vertical-align: middle;\n    }\n\n    .dataframe tbody tr th {\n        vertical-align: top;\n    }\n\n    .dataframe thead th {\n        text-align: right;\n    }\n</style>\n<table border=\"1\" class=\"dataframe\">\n  <thead>\n    <tr style=\"text-align: right;\">\n      <th></th>\n      <th>addr</th>\n      <th>vlcvx_balance</th>\n    </tr>\n  </thead>\n  <tbody>\n    <tr>\n      <th>0</th>\n      <td>0xaac0aa431c237c2c0b5f041c8e59b3f1a43ac78f</td>\n      <td>1948054.430446</td>\n    </tr>\n    <tr>\n      <th>1</th>\n      <td>0x9c5083dd4838e120dbeac44c052179692aa5dac5</td>\n      <td>1000000.002648</td>\n    </tr>\n    <tr>\n      <th>2</th>\n      <td>0xa22eb3338dfd69458513a1f6d4742ab29f7ef333</td>\n      <td>1000000.0</td>\n    </tr>\n    <tr>\n      <th>3</th>\n      <td>0xb3df5271b92e9fd2fed137253bb4611285923f16</td>\n      <td>815580.755035</td>\n    </tr>\n    <tr>\n      <th>4</th>\n      <td>0x94dfce828c3daaf6492f1b6f66f9a1825254d24b</td>\n      <td>547261.932749</td>\n    </tr>\n    <tr>\n      <th>...</th>\n      <td>...</td>\n      <td>...</td>\n    </tr>\n    <tr>\n      <th>2212</th>\n      <td>0xe16f4f24fbc389441a83222b6fe7c61a1b0d50ff</td>\n      <td>1.470637</td>\n    </tr>\n    <tr>\n      <th>2213</th>\n      <td>0x25b28ee7f335f0396f41f129039f1583345b21b8</td>\n      <td>1.222147</td>\n    </tr>\n    <tr>\n      <th>2214</th>\n      <td>0x9ead5e6e90440e69b5f28fef5942a5b273387c13</td>\n      <td>1.0</td>\n    </tr>\n    <tr>\n      <th>2215</th>\n      <td>0xff77fdef2685402f9064cd14ae24aa4609d8d867</td>\n      <td>1.0</td>\n    </tr>\n    <tr>\n      <th>2216</th>\n      <td>0x789c455e63c476612bc8cd88c92f050e7446d14f</td>\n      <td>1.0</td>\n    </tr>\n  </tbody>\n</table>\n<p>2217 rows × 2 columns</p>\n</div>"
     },
     "execution_count": 12,
     "metadata": {},
     "output_type": "execute_result"
    }
   ],
   "source": [
    "export_df = df_vlcvx_balances.dropna().sort_values(by=['vlcvx_balance'], ascending=False).reset_index().drop(columns=['index'])\n",
    "export_df"
   ],
   "metadata": {
    "collapsed": false,
    "pycharm": {
     "name": "#%%\n"
    }
   }
  },
  {
   "cell_type": "code",
   "execution_count": 16,
   "outputs": [
    {
     "data": {
      "text/plain": "                                            addr   vlcvx_balance  \\\n0     0xaac0aa431c237c2c0b5f041c8e59b3f1a43ac78f  1948054.430446   \n1     0x9c5083dd4838e120dbeac44c052179692aa5dac5  1000000.002648   \n2     0xa22eb3338dfd69458513a1f6d4742ab29f7ef333       1000000.0   \n3     0xb3df5271b92e9fd2fed137253bb4611285923f16   815580.755035   \n4     0x94dfce828c3daaf6492f1b6f66f9a1825254d24b   547261.932749   \n...                                          ...             ...   \n2212  0xe16f4f24fbc389441a83222b6fe7c61a1b0d50ff        1.470637   \n2213  0x25b28ee7f335f0396f41f129039f1583345b21b8        1.222147   \n2214  0x9ead5e6e90440e69b5f28fef5942a5b273387c13             1.0   \n2215  0xff77fdef2685402f9064cd14ae24aa4609d8d867             1.0   \n2216  0x789c455e63c476612bc8cd88c92f050e7446d14f             1.0   \n\n     vlcvx_ownership  \n0           0.103503  \n1           0.053131  \n2           0.053131  \n3           0.043333  \n4           0.029077  \n...              ...  \n2212             0.0  \n2213             0.0  \n2214             0.0  \n2215             0.0  \n2216             0.0  \n\n[2217 rows x 3 columns]",
      "text/html": "<div>\n<style scoped>\n    .dataframe tbody tr th:only-of-type {\n        vertical-align: middle;\n    }\n\n    .dataframe tbody tr th {\n        vertical-align: top;\n    }\n\n    .dataframe thead th {\n        text-align: right;\n    }\n</style>\n<table border=\"1\" class=\"dataframe\">\n  <thead>\n    <tr style=\"text-align: right;\">\n      <th></th>\n      <th>addr</th>\n      <th>vlcvx_balance</th>\n      <th>vlcvx_ownership</th>\n    </tr>\n  </thead>\n  <tbody>\n    <tr>\n      <th>0</th>\n      <td>0xaac0aa431c237c2c0b5f041c8e59b3f1a43ac78f</td>\n      <td>1948054.430446</td>\n      <td>0.103503</td>\n    </tr>\n    <tr>\n      <th>1</th>\n      <td>0x9c5083dd4838e120dbeac44c052179692aa5dac5</td>\n      <td>1000000.002648</td>\n      <td>0.053131</td>\n    </tr>\n    <tr>\n      <th>2</th>\n      <td>0xa22eb3338dfd69458513a1f6d4742ab29f7ef333</td>\n      <td>1000000.0</td>\n      <td>0.053131</td>\n    </tr>\n    <tr>\n      <th>3</th>\n      <td>0xb3df5271b92e9fd2fed137253bb4611285923f16</td>\n      <td>815580.755035</td>\n      <td>0.043333</td>\n    </tr>\n    <tr>\n      <th>4</th>\n      <td>0x94dfce828c3daaf6492f1b6f66f9a1825254d24b</td>\n      <td>547261.932749</td>\n      <td>0.029077</td>\n    </tr>\n    <tr>\n      <th>...</th>\n      <td>...</td>\n      <td>...</td>\n      <td>...</td>\n    </tr>\n    <tr>\n      <th>2212</th>\n      <td>0xe16f4f24fbc389441a83222b6fe7c61a1b0d50ff</td>\n      <td>1.470637</td>\n      <td>0.0</td>\n    </tr>\n    <tr>\n      <th>2213</th>\n      <td>0x25b28ee7f335f0396f41f129039f1583345b21b8</td>\n      <td>1.222147</td>\n      <td>0.0</td>\n    </tr>\n    <tr>\n      <th>2214</th>\n      <td>0x9ead5e6e90440e69b5f28fef5942a5b273387c13</td>\n      <td>1.0</td>\n      <td>0.0</td>\n    </tr>\n    <tr>\n      <th>2215</th>\n      <td>0xff77fdef2685402f9064cd14ae24aa4609d8d867</td>\n      <td>1.0</td>\n      <td>0.0</td>\n    </tr>\n    <tr>\n      <th>2216</th>\n      <td>0x789c455e63c476612bc8cd88c92f050e7446d14f</td>\n      <td>1.0</td>\n      <td>0.0</td>\n    </tr>\n  </tbody>\n</table>\n<p>2217 rows × 3 columns</p>\n</div>"
     },
     "execution_count": 16,
     "metadata": {},
     "output_type": "execute_result"
    }
   ],
   "source": [
    "export_df['vlcvx_ownership'] = export_df.vlcvx_balance / export_df.vlcvx_balance.sum()\n",
    "export_df"
   ],
   "metadata": {
    "collapsed": false,
    "pycharm": {
     "name": "#%%\n"
    }
   }
  },
  {
   "cell_type": "code",
   "execution_count": 14,
   "outputs": [],
   "source": [
    "now = datetime.datetime.utcnow()\n",
    "now = datetime.datetime.strftime(now, \"%Y-%m-%d--%H-%M\")\n",
    "export_df.to_csv(f'lockooooors_{now}.csv')"
   ],
   "metadata": {
    "collapsed": false,
    "pycharm": {
     "name": "#%%\n"
    }
   }
  },
  {
   "cell_type": "code",
   "execution_count": 20,
   "outputs": [
    {
     "data": {
      "text/plain": "<Figure size 1080x576 with 1 Axes>",
      "image/png": "[encoded data removed]"
     },
     "metadata": {},
     "output_type": "display_data"
    }
   ],
   "source": [
    "fig, ax = plt.subplots(1,1, figsize=(15, 8))\n",
    "\n",
    "ax.hist(export_df.vlcvx_balance, bins=10)\n",
    "\n",
    "ax.set_ylabel(\"# Lockers\", fontsize=20)\n",
    "ax.set_xlabel(\"vlCVX Balance\", fontsize=20)\n",
    "ax.tick_params(axis='both', which='major', labelsize=20)\n",
    "ax.tick_params(axis='x', which='major', colors='black')\n",
    "ax.xaxis.get_major_formatter().set_scientific(False)\n",
    "ax.xaxis.get_major_formatter().set_useOffset(False)\n",
    "\n",
    "ax.set_xscale(\"log\")\n",
    "ax.set_yscale(\"log\")\n"
   ],
   "metadata": {
    "collapsed": false,
    "pycharm": {
     "name": "#%%\n"
    }
   }
  },
  {
   "cell_type": "code",
   "execution_count": 15,
   "outputs": [],
   "source": [],
   "metadata": {
    "collapsed": false,
    "pycharm": {
     "name": "#%%\n"
    }
   }
  }
 ],
 "metadata": {
  "kernelspec": {
   "display_name": "Python 3",
   "language": "python",
   "name": "python3"
  },
  "language_info": {
   "codemirror_mode": {
    "name": "ipython",
    "version": 2
   },
   "file_extension": ".py",
   "mimetype": "text/x-python",
   "name": "python",
   "nbconvert_exporter": "python",
   "pygments_lexer": "ipython2",
   "version": "2.7.6"
  }
 },
 "nbformat": 4,
 "nbformat_minor": 0
}