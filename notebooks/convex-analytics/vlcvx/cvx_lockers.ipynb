{
 "cells": [
  {
   "cell_type": "code",
   "execution_count": 1,
   "outputs": [],
   "source": [
    "import os\n",
    "import datetime\n",
    "import requests\n",
    "\n",
    "import brownie\n",
    "\n",
    "from utils.network_utils import connect_eth_alchemy\n",
    "from utils.contract_utils import init_contract\n",
    "\n",
    "import pandas as pd\n",
    "pd.options.mode.chained_assignment = None  # default='warn'"
   ],
   "metadata": {
    "collapsed": false,
    "pycharm": {
     "name": "#%%\n"
    }
   }
  },
  {
   "cell_type": "code",
   "execution_count": 2,
   "outputs": [],
   "source": [
    "import matplotlib.pyplot as plt\n",
    "\n",
    "import seaborn as sns\n",
    "sns.set_style(\"whitegrid\")"
   ],
   "metadata": {
    "collapsed": false,
    "pycharm": {
     "name": "#%%\n"
    }
   }
  },
  {
   "cell_type": "code",
   "execution_count": 3,
   "outputs": [],
   "source": [
    "connect_eth_alchemy()"
   ],
   "metadata": {
    "collapsed": false,
    "pycharm": {
     "name": "#%%\n"
    }
   }
  },
  {
   "cell_type": "code",
   "execution_count": 4,
   "metadata": {
    "collapsed": true
   },
   "outputs": [],
   "source": [
    "vlcvx_addr = \"0xD18140b4B819b895A3dba5442F959fA44994AF50\""
   ]
  },
  {
   "cell_type": "code",
   "execution_count": 5,
   "outputs": [],
   "source": [
    "current_block = brownie.web3.eth.block_number"
   ],
   "metadata": {
    "collapsed": false,
    "pycharm": {
     "name": "#%%\n"
    }
   }
  },
  {
   "cell_type": "code",
   "execution_count": 6,
   "outputs": [],
   "source": [
    "query = f\"https://api.etherscan.io/api?module=account&action=txlist&address={vlcvx_addr}&startblock=0&endblock=9999999999&sort=asc&page=1&offset=10000&apikey={os.environ['ETHERSCAN_API_KEY']}\"\n",
    "response = requests.post(query)"
   ],
   "metadata": {
    "collapsed": false,
    "pycharm": {
     "name": "#%%\n"
    }
   }
  },
  {
   "cell_type": "code",
   "execution_count": 7,
   "outputs": [
    {
     "data": {
      "text/plain": "6821"
     },
     "execution_count": 7,
     "metadata": {},
     "output_type": "execute_result"
    }
   ],
   "source": [
    "interacting_addrs = []\n",
    "for tx in dict(response.json())['result']:\n",
    "    interacting_addrs.append(tx['from'])\n",
    "len(interacting_addrs)"
   ],
   "metadata": {
    "collapsed": false,
    "pycharm": {
     "name": "#%%\n"
    }
   }
  },
  {
   "cell_type": "code",
   "execution_count": 8,
   "outputs": [],
   "source": [
    "vlcvx = init_contract(vlcvx_addr)"
   ],
   "metadata": {
    "collapsed": false,
    "pycharm": {
     "name": "#%%\n"
    }
   }
  },
  {
   "cell_type": "code",
   "execution_count": 17,
   "outputs": [
    {
     "data": {
      "text/plain": "1073446.351179645"
     },
     "execution_count": 17,
     "metadata": {},
     "output_type": "execute_result"
    }
   ],
   "source": [
    "vlcvx.lockedBalanceOf(\"0x7038C406e7e2C9F81571557190d26704bB39B8f3\") * 1e-18"
   ],
   "metadata": {
    "collapsed": false,
    "pycharm": {
     "name": "#%%\n"
    }
   }
  },
  {
   "cell_type": "code",
   "execution_count": 9,
   "outputs": [],
   "source": [
    "vlcvx_balances = []\n",
    "with brownie.multicall():\n",
    "    for addr in interacting_addrs:\n",
    "        vlcvx_balances.append(vlcvx.lockedBalanceOf(addr))"
   ],
   "metadata": {
    "collapsed": false,
    "pycharm": {
     "name": "#%%\n"
    }
   }
  },
  {
   "cell_type": "code",
   "execution_count": 10,
   "outputs": [
    {
     "data": {
      "text/plain": "                                            addr           vlcvx_balance\n0     0x947b7742c403f20e5faccdac5e092c943e7d0277                       0\n1     0x947b7742c403f20e5faccdac5e092c943e7d0277                       0\n2     0x947b7742c403f20e5faccdac5e092c943e7d0277                       0\n3     0x947b7742c403f20e5faccdac5e092c943e7d0277                       0\n4     0x947b7742c403f20e5faccdac5e092c943e7d0277                       0\n...                                          ...                     ...\n6816  0xbbd0e6a976af7c21b7072da96072d289b49059b9  1486065971326090595663\n6817  0x81827e9ee5d74d6436455bfba294361378fda274  1152972620622631540066\n6818  0x08f47ffbb40aae4662eb5f4f284f2d056deb0dc2  6793140634987782043233\n6819  0xef5695ef7b34e45f7e16282c2d86365128e4f021  1000086785420919979291\n6820  0x465b357bbac5f6f3bc78669db6980f9eaa21d0c2  2304896408853551095846\n\n[6821 rows x 2 columns]",
      "text/html": "<div>\n<style scoped>\n    .dataframe tbody tr th:only-of-type {\n        vertical-align: middle;\n    }\n\n    .dataframe tbody tr th {\n        vertical-align: top;\n    }\n\n    .dataframe thead th {\n        text-align: right;\n    }\n</style>\n<table border=\"1\" class=\"dataframe\">\n  <thead>\n    <tr style=\"text-align: right;\">\n      <th></th>\n      <th>addr</th>\n      <th>vlcvx_balance</th>\n    </tr>\n  </thead>\n  <tbody>\n    <tr>\n      <th>0</th>\n      <td>0x947b7742c403f20e5faccdac5e092c943e7d0277</td>\n      <td>0</td>\n    </tr>\n    <tr>\n      <th>1</th>\n      <td>0x947b7742c403f20e5faccdac5e092c943e7d0277</td>\n      <td>0</td>\n    </tr>\n    <tr>\n      <th>2</th>\n      <td>0x947b7742c403f20e5faccdac5e092c943e7d0277</td>\n      <td>0</td>\n    </tr>\n    <tr>\n      <th>3</th>\n      <td>0x947b7742c403f20e5faccdac5e092c943e7d0277</td>\n      <td>0</td>\n    </tr>\n    <tr>\n      <th>4</th>\n      <td>0x947b7742c403f20e5faccdac5e092c943e7d0277</td>\n      <td>0</td>\n    </tr>\n    <tr>\n      <th>...</th>\n      <td>...</td>\n      <td>...</td>\n    </tr>\n    <tr>\n      <th>6816</th>\n      <td>0xbbd0e6a976af7c21b7072da96072d289b49059b9</td>\n      <td>1486065971326090595663</td>\n    </tr>\n    <tr>\n      <th>6817</th>\n      <td>0x81827e9ee5d74d6436455bfba294361378fda274</td>\n      <td>1152972620622631540066</td>\n    </tr>\n    <tr>\n      <th>6818</th>\n      <td>0x08f47ffbb40aae4662eb5f4f284f2d056deb0dc2</td>\n      <td>6793140634987782043233</td>\n    </tr>\n    <tr>\n      <th>6819</th>\n      <td>0xef5695ef7b34e45f7e16282c2d86365128e4f021</td>\n      <td>1000086785420919979291</td>\n    </tr>\n    <tr>\n      <th>6820</th>\n      <td>0x465b357bbac5f6f3bc78669db6980f9eaa21d0c2</td>\n      <td>2304896408853551095846</td>\n    </tr>\n  </tbody>\n</table>\n<p>6821 rows × 2 columns</p>\n</div>"
     },
     "execution_count": 10,
     "metadata": {},
     "output_type": "execute_result"
    }
   ],
   "source": [
    "df_vlcvx_balances = pd.DataFrame({\"addr\": interacting_addrs, \"vlcvx_balance\": vlcvx_balances})\n",
    "df_vlcvx_balances"
   ],
   "metadata": {
    "collapsed": false,
    "pycharm": {
     "name": "#%%\n"
    }
   }
  },
  {
   "cell_type": "code",
   "execution_count": 11,
   "outputs": [
    {
     "data": {
      "text/plain": "                                            addr   vlcvx_balance\n0                                            NaN             NaN\n5     0xaac0aa431c237c2c0b5f041c8e59b3f1a43ac78f  2256881.270167\n6     0x94dfce828c3daaf6492f1b6f66f9a1825254d24b   947261.932749\n7     0xc7c022bd85529bed1b92de4ba847f3f4e8fd5cbf   555126.480567\n8     0x2ba8c59c99c94ac5d3b2af7019d2861c640e91f7     6628.986391\n...                                          ...             ...\n6812  0x8f95b408adbbae47a7ba04fb2ef939867e8d20f0     3116.171155\n6813  0x8e3698307355b4fdf598912f554bfc258abfdba8     1498.202788\n6814  0xc52f219abcd8f3f7fe742b60578570770432bd4f      302.175255\n6816  0xbbd0e6a976af7c21b7072da96072d289b49059b9     1486.065971\n6817  0x81827e9ee5d74d6436455bfba294361378fda274     1152.972621\n\n[2929 rows x 2 columns]",
      "text/html": "<div>\n<style scoped>\n    .dataframe tbody tr th:only-of-type {\n        vertical-align: middle;\n    }\n\n    .dataframe tbody tr th {\n        vertical-align: top;\n    }\n\n    .dataframe thead th {\n        text-align: right;\n    }\n</style>\n<table border=\"1\" class=\"dataframe\">\n  <thead>\n    <tr style=\"text-align: right;\">\n      <th></th>\n      <th>addr</th>\n      <th>vlcvx_balance</th>\n    </tr>\n  </thead>\n  <tbody>\n    <tr>\n      <th>0</th>\n      <td>NaN</td>\n      <td>NaN</td>\n    </tr>\n    <tr>\n      <th>5</th>\n      <td>0xaac0aa431c237c2c0b5f041c8e59b3f1a43ac78f</td>\n      <td>2256881.270167</td>\n    </tr>\n    <tr>\n      <th>6</th>\n      <td>0x94dfce828c3daaf6492f1b6f66f9a1825254d24b</td>\n      <td>947261.932749</td>\n    </tr>\n    <tr>\n      <th>7</th>\n      <td>0xc7c022bd85529bed1b92de4ba847f3f4e8fd5cbf</td>\n      <td>555126.480567</td>\n    </tr>\n    <tr>\n      <th>8</th>\n      <td>0x2ba8c59c99c94ac5d3b2af7019d2861c640e91f7</td>\n      <td>6628.986391</td>\n    </tr>\n    <tr>\n      <th>...</th>\n      <td>...</td>\n      <td>...</td>\n    </tr>\n    <tr>\n      <th>6812</th>\n      <td>0x8f95b408adbbae47a7ba04fb2ef939867e8d20f0</td>\n      <td>3116.171155</td>\n    </tr>\n    <tr>\n      <th>6813</th>\n      <td>0x8e3698307355b4fdf598912f554bfc258abfdba8</td>\n      <td>1498.202788</td>\n    </tr>\n    <tr>\n      <th>6814</th>\n      <td>0xc52f219abcd8f3f7fe742b60578570770432bd4f</td>\n      <td>302.175255</td>\n    </tr>\n    <tr>\n      <th>6816</th>\n      <td>0xbbd0e6a976af7c21b7072da96072d289b49059b9</td>\n      <td>1486.065971</td>\n    </tr>\n    <tr>\n      <th>6817</th>\n      <td>0x81827e9ee5d74d6436455bfba294361378fda274</td>\n      <td>1152.972621</td>\n    </tr>\n  </tbody>\n</table>\n<p>2929 rows × 2 columns</p>\n</div>"
     },
     "execution_count": 11,
     "metadata": {},
     "output_type": "execute_result"
    }
   ],
   "source": [
    "df_vlcvx_balances = df_vlcvx_balances.where(df_vlcvx_balances.vlcvx_balance > 0)\n",
    "df_vlcvx_balances['vlcvx_balance'] *= 1e-18\n",
    "df_vlcvx_balances.drop_duplicates(inplace=True)\n",
    "df_vlcvx_balances"
   ],
   "metadata": {
    "collapsed": false,
    "pycharm": {
     "name": "#%%\n"
    }
   }
  },
  {
   "cell_type": "code",
   "execution_count": 12,
   "outputs": [
    {
     "data": {
      "text/plain": "                                            addr   vlcvx_balance\n0     0xaac0aa431c237c2c0b5f041c8e59b3f1a43ac78f  2256881.270167\n1     0x9c5083dd4838e120dbeac44c052179692aa5dac5  1000000.002648\n2     0xa22eb3338dfd69458513a1f6d4742ab29f7ef333       1000000.0\n3     0x94dfce828c3daaf6492f1b6f66f9a1825254d24b   947261.932749\n4     0xb3df5271b92e9fd2fed137253bb4611285923f16   943478.452843\n...                                          ...             ...\n2923  0xeac03ab059b522886a6f273bd96b26bd86a0b4a2             1.0\n2924  0x789c455e63c476612bc8cd88c92f050e7446d14f             1.0\n2925  0x9ead5e6e90440e69b5f28fef5942a5b273387c13             1.0\n2926  0xff77fdef2685402f9064cd14ae24aa4609d8d867             1.0\n2927  0x7d73c4771193106cbb2e00d0053349372ba9a260             1.0\n\n[2928 rows x 2 columns]",
      "text/html": "<div>\n<style scoped>\n    .dataframe tbody tr th:only-of-type {\n        vertical-align: middle;\n    }\n\n    .dataframe tbody tr th {\n        vertical-align: top;\n    }\n\n    .dataframe thead th {\n        text-align: right;\n    }\n</style>\n<table border=\"1\" class=\"dataframe\">\n  <thead>\n    <tr style=\"text-align: right;\">\n      <th></th>\n      <th>addr</th>\n      <th>vlcvx_balance</th>\n    </tr>\n  </thead>\n  <tbody>\n    <tr>\n      <th>0</th>\n      <td>0xaac0aa431c237c2c0b5f041c8e59b3f1a43ac78f</td>\n      <td>2256881.270167</td>\n    </tr>\n    <tr>\n      <th>1</th>\n      <td>0x9c5083dd4838e120dbeac44c052179692aa5dac5</td>\n      <td>1000000.002648</td>\n    </tr>\n    <tr>\n      <th>2</th>\n      <td>0xa22eb3338dfd69458513a1f6d4742ab29f7ef333</td>\n      <td>1000000.0</td>\n    </tr>\n    <tr>\n      <th>3</th>\n      <td>0x94dfce828c3daaf6492f1b6f66f9a1825254d24b</td>\n      <td>947261.932749</td>\n    </tr>\n    <tr>\n      <th>4</th>\n      <td>0xb3df5271b92e9fd2fed137253bb4611285923f16</td>\n      <td>943478.452843</td>\n    </tr>\n    <tr>\n      <th>...</th>\n      <td>...</td>\n      <td>...</td>\n    </tr>\n    <tr>\n      <th>2923</th>\n      <td>0xeac03ab059b522886a6f273bd96b26bd86a0b4a2</td>\n      <td>1.0</td>\n    </tr>\n    <tr>\n      <th>2924</th>\n      <td>0x789c455e63c476612bc8cd88c92f050e7446d14f</td>\n      <td>1.0</td>\n    </tr>\n    <tr>\n      <th>2925</th>\n      <td>0x9ead5e6e90440e69b5f28fef5942a5b273387c13</td>\n      <td>1.0</td>\n    </tr>\n    <tr>\n      <th>2926</th>\n      <td>0xff77fdef2685402f9064cd14ae24aa4609d8d867</td>\n      <td>1.0</td>\n    </tr>\n    <tr>\n      <th>2927</th>\n      <td>0x7d73c4771193106cbb2e00d0053349372ba9a260</td>\n      <td>1.0</td>\n    </tr>\n  </tbody>\n</table>\n<p>2928 rows × 2 columns</p>\n</div>"
     },
     "execution_count": 12,
     "metadata": {},
     "output_type": "execute_result"
    }
   ],
   "source": [
    "export_df = df_vlcvx_balances.dropna().sort_values(by=['vlcvx_balance'], ascending=False).reset_index().drop(columns=['index'])\n",
    "export_df"
   ],
   "metadata": {
    "collapsed": false,
    "pycharm": {
     "name": "#%%\n"
    }
   }
  },
  {
   "cell_type": "code",
   "execution_count": 13,
   "outputs": [
    {
     "data": {
      "text/plain": "                                            addr   vlcvx_balance  \\\n0     0xaac0aa431c237c2c0b5f041c8e59b3f1a43ac78f  2256881.270167   \n1     0x9c5083dd4838e120dbeac44c052179692aa5dac5  1000000.002648   \n2     0xa22eb3338dfd69458513a1f6d4742ab29f7ef333       1000000.0   \n3     0x94dfce828c3daaf6492f1b6f66f9a1825254d24b   947261.932749   \n4     0xb3df5271b92e9fd2fed137253bb4611285923f16   943478.452843   \n...                                          ...             ...   \n2923  0xeac03ab059b522886a6f273bd96b26bd86a0b4a2             1.0   \n2924  0x789c455e63c476612bc8cd88c92f050e7446d14f             1.0   \n2925  0x9ead5e6e90440e69b5f28fef5942a5b273387c13             1.0   \n2926  0xff77fdef2685402f9064cd14ae24aa4609d8d867             1.0   \n2927  0x7d73c4771193106cbb2e00d0053349372ba9a260             1.0   \n\n     vlcvx_ownership  \n0           0.096939  \n1           0.042952  \n2           0.042952  \n3           0.040687  \n4           0.040525  \n...              ...  \n2923             0.0  \n2924             0.0  \n2925             0.0  \n2926             0.0  \n2927             0.0  \n\n[2928 rows x 3 columns]",
      "text/html": "<div>\n<style scoped>\n    .dataframe tbody tr th:only-of-type {\n        vertical-align: middle;\n    }\n\n    .dataframe tbody tr th {\n        vertical-align: top;\n    }\n\n    .dataframe thead th {\n        text-align: right;\n    }\n</style>\n<table border=\"1\" class=\"dataframe\">\n  <thead>\n    <tr style=\"text-align: right;\">\n      <th></th>\n      <th>addr</th>\n      <th>vlcvx_balance</th>\n      <th>vlcvx_ownership</th>\n    </tr>\n  </thead>\n  <tbody>\n    <tr>\n      <th>0</th>\n      <td>0xaac0aa431c237c2c0b5f041c8e59b3f1a43ac78f</td>\n      <td>2256881.270167</td>\n      <td>0.096939</td>\n    </tr>\n    <tr>\n      <th>1</th>\n      <td>0x9c5083dd4838e120dbeac44c052179692aa5dac5</td>\n      <td>1000000.002648</td>\n      <td>0.042952</td>\n    </tr>\n    <tr>\n      <th>2</th>\n      <td>0xa22eb3338dfd69458513a1f6d4742ab29f7ef333</td>\n      <td>1000000.0</td>\n      <td>0.042952</td>\n    </tr>\n    <tr>\n      <th>3</th>\n      <td>0x94dfce828c3daaf6492f1b6f66f9a1825254d24b</td>\n      <td>947261.932749</td>\n      <td>0.040687</td>\n    </tr>\n    <tr>\n      <th>4</th>\n      <td>0xb3df5271b92e9fd2fed137253bb4611285923f16</td>\n      <td>943478.452843</td>\n      <td>0.040525</td>\n    </tr>\n    <tr>\n      <th>...</th>\n      <td>...</td>\n      <td>...</td>\n      <td>...</td>\n    </tr>\n    <tr>\n      <th>2923</th>\n      <td>0xeac03ab059b522886a6f273bd96b26bd86a0b4a2</td>\n      <td>1.0</td>\n      <td>0.0</td>\n    </tr>\n    <tr>\n      <th>2924</th>\n      <td>0x789c455e63c476612bc8cd88c92f050e7446d14f</td>\n      <td>1.0</td>\n      <td>0.0</td>\n    </tr>\n    <tr>\n      <th>2925</th>\n      <td>0x9ead5e6e90440e69b5f28fef5942a5b273387c13</td>\n      <td>1.0</td>\n      <td>0.0</td>\n    </tr>\n    <tr>\n      <th>2926</th>\n      <td>0xff77fdef2685402f9064cd14ae24aa4609d8d867</td>\n      <td>1.0</td>\n      <td>0.0</td>\n    </tr>\n    <tr>\n      <th>2927</th>\n      <td>0x7d73c4771193106cbb2e00d0053349372ba9a260</td>\n      <td>1.0</td>\n      <td>0.0</td>\n    </tr>\n  </tbody>\n</table>\n<p>2928 rows × 3 columns</p>\n</div>"
     },
     "execution_count": 13,
     "metadata": {},
     "output_type": "execute_result"
    }
   ],
   "source": [
    "export_df['vlcvx_ownership'] = export_df.vlcvx_balance / export_df.vlcvx_balance.sum()\n",
    "export_df"
   ],
   "metadata": {
    "collapsed": false,
    "pycharm": {
     "name": "#%%\n"
    }
   }
  },
  {
   "cell_type": "code",
   "execution_count": 14,
   "outputs": [],
   "source": [
    "now = datetime.datetime.utcnow()\n",
    "now = datetime.datetime.strftime(now, \"%Y-%m-%d--%H-%M\")\n",
    "export_df.to_csv(f'lockooooors_{now}.csv')"
   ],
   "metadata": {
    "collapsed": false,
    "pycharm": {
     "name": "#%%\n"
    }
   }
  },
  {
   "cell_type": "code",
   "execution_count": 15,
   "outputs": [
    {
     "data": {
      "text/plain": "<Figure size 1080x576 with 1 Axes>",
      "image/png": "[encoded data removed]"
     },
     "metadata": {},
     "output_type": "display_data"
    }
   ],
   "source": [
    "fig, ax = plt.subplots(1,1, figsize=(15, 8))\n",
    "\n",
    "ax.hist(export_df.vlcvx_balance, bins=10)\n",
    "\n",
    "ax.set_ylabel(\"# Lockers\", fontsize=20)\n",
    "ax.set_xlabel(\"vlCVX Balance\", fontsize=20)\n",
    "ax.tick_params(axis='both', which='major', labelsize=20)\n",
    "ax.tick_params(axis='x', which='major', colors='black')\n",
    "ax.xaxis.get_major_formatter().set_scientific(False)\n",
    "ax.xaxis.get_major_formatter().set_useOffset(False)\n",
    "\n",
    "ax.set_xscale(\"log\")\n",
    "ax.set_yscale(\"log\")\n"
   ],
   "metadata": {
    "collapsed": false,
    "pycharm": {
     "name": "#%%\n"
    }
   }
  },
  {
   "cell_type": "code",
   "execution_count": 15,
   "outputs": [],
   "source": [],
   "metadata": {
    "collapsed": false,
    "pycharm": {
     "name": "#%%\n"
    }
   }
  }
 ],
 "metadata": {
  "kernelspec": {
   "display_name": "Python 3",
   "language": "python",
   "name": "python3"
  },
  "language_info": {
   "codemirror_mode": {
    "name": "ipython",
    "version": 2
   },
   "file_extension": ".py",
   "mimetype": "text/x-python",
   "name": "python",
   "nbconvert_exporter": "python",
   "pygments_lexer": "ipython2",
   "version": "2.7.6"
  }
 },
 "nbformat": 4,
 "nbformat_minor": 0
}