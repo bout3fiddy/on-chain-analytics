{
 "cells": [
  {
   "cell_type": "code",
   "execution_count": 1,
   "metadata": {
    "collapsed": true
   },
   "outputs": [],
   "source": [
    "import os\n",
    "import datetime\n",
    "import json\n",
    "\n",
    "from web3 import Web3, HTTPProvider\n",
    "\n",
    "import pandas as pd\n",
    "pd.options.mode.chained_assignment = None  # default='warn'"
   ]
  },
  {
   "cell_type": "code",
   "execution_count": 18,
   "outputs": [],
   "source": [
    "from collections import Counter"
   ],
   "metadata": {
    "collapsed": false,
    "pycharm": {
     "name": "#%%\n"
    }
   }
  },
  {
   "cell_type": "code",
   "execution_count": 2,
   "outputs": [],
   "source": [
    "ALCHEMY_API_KEY = os.environ['ALCHEMY_API_KEY']\n",
    "web3 = Web3(HTTPProvider(f\"https://eth-mainnet.alchemyapi.io/v2/{ALCHEMY_API_KEY}\"))"
   ],
   "metadata": {
    "collapsed": false,
    "pycharm": {
     "name": "#%%\n"
    }
   }
  },
  {
   "cell_type": "code",
   "execution_count": 5,
   "outputs": [],
   "source": [
    "with open(\"./delegateRegistry.json\", 'r') as f:\n",
    "    abi = json.load(f)\n",
    "delegate_registry = web3.eth.contract(address='0x469788fE6E9E9681C6ebF3bF78e7Fd26Fc015446', abi=abi)\n",
    "contract_genesis_block = 11215988\n",
    "current_block = web3.eth.blockNumber"
   ],
   "metadata": {
    "collapsed": false,
    "pycharm": {
     "name": "#%%\n"
    }
   }
  },
  {
   "cell_type": "code",
   "execution_count": 6,
   "outputs": [],
   "source": [
    "setDelegateEvents_filter = delegate_registry.events.SetDelegate.createFilter(\n",
    "    fromBlock=contract_genesis_block,\n",
    "    toBlock=current_block\n",
    ")\n",
    "set_delegate_txes = setDelegateEvents_filter.get_all_entries()"
   ],
   "metadata": {
    "collapsed": false,
    "pycharm": {
     "name": "#%%\n"
    }
   }
  },
  {
   "cell_type": "code",
   "execution_count": 35,
   "outputs": [
    {
     "data": {
      "text/plain": "                                       delegator  \\\n0     0xeF8305E140ac520225DAf050e2f71d5fBcC543e7   \n1     0x0FD57E5EAAFa52550C3498fe19859341a1e56CaB   \n2     0xeF8305E140ac520225DAf050e2f71d5fBcC543e7   \n3     0xeF8305E140ac520225DAf050e2f71d5fBcC543e7   \n4     0x7be08c5E75fa1Ca9416E29Cbf58D61D856b01a8C   \n...                                          ...   \n4159  0xE4ad3211CC460814d1e750D5c21244DCc3f30D3e   \n4160  0xaf045Cb0dBC1225948482e4692Ec9dC7Bb3cD48b   \n4161  0x7488d2ce5deb26db021285B50b661D655eB3d3d9   \n4162  0x8F95b408Adbbae47A7Ba04fB2ef939867E8d20F0   \n4163  0xc52F219aBcD8f3F7fe742B60578570770432bd4f   \n\n                                        delegate  \n0     0x4C7909d6F029b3a5798143C843F4f8e5341a3473  \n1     0x34bF0d00c38D714e7FfD96cC4E8c796F43832624  \n2     0xae25aD6cba120fc1497feA5B516C8E80a6B69726  \n3     0xae25aD6cba120fc1497feA5B516C8E80a6B69726  \n4     0x9F87C1aCaF3Afc6a5557c58284D9F8609470b571  \n...                                          ...  \n4159  0xEeaA36420519d85EfaB3b7120ac5Afa5a5825bFB  \n4160  0xa64af7F78DE39A238Ecd4ffF7D6D410DBACe2dF0  \n4161  0xde1E6A7ED0ad3F61D531a8a78E83CcDdbd6E0c49  \n4162  0xde1E6A7ED0ad3F61D531a8a78E83CcDdbd6E0c49  \n4163  0xde1E6A7ED0ad3F61D531a8a78E83CcDdbd6E0c49  \n\n[4164 rows x 2 columns]",
      "text/html": "<div>\n<style scoped>\n    .dataframe tbody tr th:only-of-type {\n        vertical-align: middle;\n    }\n\n    .dataframe tbody tr th {\n        vertical-align: top;\n    }\n\n    .dataframe thead th {\n        text-align: right;\n    }\n</style>\n<table border=\"1\" class=\"dataframe\">\n  <thead>\n    <tr style=\"text-align: right;\">\n      <th></th>\n      <th>delegator</th>\n      <th>delegate</th>\n    </tr>\n  </thead>\n  <tbody>\n    <tr>\n      <th>0</th>\n      <td>0xeF8305E140ac520225DAf050e2f71d5fBcC543e7</td>\n      <td>0x4C7909d6F029b3a5798143C843F4f8e5341a3473</td>\n    </tr>\n    <tr>\n      <th>1</th>\n      <td>0x0FD57E5EAAFa52550C3498fe19859341a1e56CaB</td>\n      <td>0x34bF0d00c38D714e7FfD96cC4E8c796F43832624</td>\n    </tr>\n    <tr>\n      <th>2</th>\n      <td>0xeF8305E140ac520225DAf050e2f71d5fBcC543e7</td>\n      <td>0xae25aD6cba120fc1497feA5B516C8E80a6B69726</td>\n    </tr>\n    <tr>\n      <th>3</th>\n      <td>0xeF8305E140ac520225DAf050e2f71d5fBcC543e7</td>\n      <td>0xae25aD6cba120fc1497feA5B516C8E80a6B69726</td>\n    </tr>\n    <tr>\n      <th>4</th>\n      <td>0x7be08c5E75fa1Ca9416E29Cbf58D61D856b01a8C</td>\n      <td>0x9F87C1aCaF3Afc6a5557c58284D9F8609470b571</td>\n    </tr>\n    <tr>\n      <th>...</th>\n      <td>...</td>\n      <td>...</td>\n    </tr>\n    <tr>\n      <th>4159</th>\n      <td>0xE4ad3211CC460814d1e750D5c21244DCc3f30D3e</td>\n      <td>0xEeaA36420519d85EfaB3b7120ac5Afa5a5825bFB</td>\n    </tr>\n    <tr>\n      <th>4160</th>\n      <td>0xaf045Cb0dBC1225948482e4692Ec9dC7Bb3cD48b</td>\n      <td>0xa64af7F78DE39A238Ecd4ffF7D6D410DBACe2dF0</td>\n    </tr>\n    <tr>\n      <th>4161</th>\n      <td>0x7488d2ce5deb26db021285B50b661D655eB3d3d9</td>\n      <td>0xde1E6A7ED0ad3F61D531a8a78E83CcDdbd6E0c49</td>\n    </tr>\n    <tr>\n      <th>4162</th>\n      <td>0x8F95b408Adbbae47A7Ba04fB2ef939867E8d20F0</td>\n      <td>0xde1E6A7ED0ad3F61D531a8a78E83CcDdbd6E0c49</td>\n    </tr>\n    <tr>\n      <th>4163</th>\n      <td>0xc52F219aBcD8f3F7fe742B60578570770432bd4f</td>\n      <td>0xde1E6A7ED0ad3F61D531a8a78E83CcDdbd6E0c49</td>\n    </tr>\n  </tbody>\n</table>\n<p>4164 rows × 2 columns</p>\n</div>"
     },
     "execution_count": 35,
     "metadata": {},
     "output_type": "execute_result"
    }
   ],
   "source": [
    "delegators = [tx['args']['delegator'] for tx in set_delegate_txes]\n",
    "delegates = [tx['args']['delegate'] for tx in set_delegate_txes]\n",
    "df_delegation = pd.DataFrame()\n",
    "df_delegation['delegator'] = delegators\n",
    "df_delegation['delegate'] = delegates\n",
    "df_delegation"
   ],
   "metadata": {
    "collapsed": false,
    "pycharm": {
     "name": "#%%\n"
    }
   }
  },
  {
   "cell_type": "code",
   "execution_count": 31,
   "outputs": [
    {
     "data": {
      "text/plain": "                                      delegates  count_delegates\n347  0xde1E6A7ED0ad3F61D531a8a78E83CcDdbd6E0c49             2408\n359  0x947B7742C403f20e5FaCcDAc5E092C943E7D0277              525\n333  0xd5e9eF1CedAd0D135d543D286a2c190B16cBb89E              204\n366  0x14F83fF95D4Ec5E8812DDf42DA1232b0ba1015e6               82\n160  0x2A52309eDF998799C4A8b89324CCAd91848c8676               57\n..                                          ...              ...\n194  0x9eEf87f4C08d8934cB2a3309dF4deC5635338115                1\n193  0xA386621F99D2B74DE33051cd5A5d00967668afDd                1\n192  0x6B1050C1C6B288C79Ac1db299Dc481048aBBBbcD                1\n190  0x3B2a223566c63fB2FE613df6CF2F581b3B123864                1\n539  0xa64af7F78DE39A238Ecd4ffF7D6D410DBACe2dF0                1\n\n[540 rows x 2 columns]",
      "text/html": "<div>\n<style scoped>\n    .dataframe tbody tr th:only-of-type {\n        vertical-align: middle;\n    }\n\n    .dataframe tbody tr th {\n        vertical-align: top;\n    }\n\n    .dataframe thead th {\n        text-align: right;\n    }\n</style>\n<table border=\"1\" class=\"dataframe\">\n  <thead>\n    <tr style=\"text-align: right;\">\n      <th></th>\n      <th>delegates</th>\n      <th>count_delegates</th>\n    </tr>\n  </thead>\n  <tbody>\n    <tr>\n      <th>347</th>\n      <td>0xde1E6A7ED0ad3F61D531a8a78E83CcDdbd6E0c49</td>\n      <td>2408</td>\n    </tr>\n    <tr>\n      <th>359</th>\n      <td>0x947B7742C403f20e5FaCcDAc5E092C943E7D0277</td>\n      <td>525</td>\n    </tr>\n    <tr>\n      <th>333</th>\n      <td>0xd5e9eF1CedAd0D135d543D286a2c190B16cBb89E</td>\n      <td>204</td>\n    </tr>\n    <tr>\n      <th>366</th>\n      <td>0x14F83fF95D4Ec5E8812DDf42DA1232b0ba1015e6</td>\n      <td>82</td>\n    </tr>\n    <tr>\n      <th>160</th>\n      <td>0x2A52309eDF998799C4A8b89324CCAd91848c8676</td>\n      <td>57</td>\n    </tr>\n    <tr>\n      <th>...</th>\n      <td>...</td>\n      <td>...</td>\n    </tr>\n    <tr>\n      <th>194</th>\n      <td>0x9eEf87f4C08d8934cB2a3309dF4deC5635338115</td>\n      <td>1</td>\n    </tr>\n    <tr>\n      <th>193</th>\n      <td>0xA386621F99D2B74DE33051cd5A5d00967668afDd</td>\n      <td>1</td>\n    </tr>\n    <tr>\n      <th>192</th>\n      <td>0x6B1050C1C6B288C79Ac1db299Dc481048aBBBbcD</td>\n      <td>1</td>\n    </tr>\n    <tr>\n      <th>190</th>\n      <td>0x3B2a223566c63fB2FE613df6CF2F581b3B123864</td>\n      <td>1</td>\n    </tr>\n    <tr>\n      <th>539</th>\n      <td>0xa64af7F78DE39A238Ecd4ffF7D6D410DBACe2dF0</td>\n      <td>1</td>\n    </tr>\n  </tbody>\n</table>\n<p>540 rows × 2 columns</p>\n</div>"
     },
     "execution_count": 31,
     "metadata": {},
     "output_type": "execute_result"
    }
   ],
   "source": [
    "dict_count_delegation = dict(Counter(delegates))\n",
    "\n",
    "df_count_delegation = pd.DataFrame()\n",
    "df_count_delegation['delegates'] = dict_count_delegation.keys()\n",
    "df_count_delegation['count_delegates'] = dict_count_delegation.values()\n",
    "df_count_delegation.sort_values(by='count_delegates', ascending=False, inplace=True)\n",
    "df_count_delegation"
   ],
   "metadata": {
    "collapsed": false,
    "pycharm": {
     "name": "#%%\n"
    }
   }
  },
  {
   "cell_type": "markdown",
   "source": [
    "get all clear delegations:"
   ],
   "metadata": {
    "collapsed": false
   }
  },
  {
   "cell_type": "code",
   "execution_count": 9,
   "outputs": [],
   "source": [
    "clearDelegateEvents_filter = delegate_registry.events.ClearDelegate.createFilter(\n",
    "    fromBlock=contract_genesis_block,\n",
    "    toBlock=current_block\n",
    ")\n",
    "clear_delegate_txes = clearDelegateEvents_filter.get_all_entries()"
   ],
   "metadata": {
    "collapsed": false,
    "pycharm": {
     "name": "#%%\n"
    }
   }
  },
  {
   "cell_type": "code",
   "execution_count": 36,
   "outputs": [
    {
     "data": {
      "text/plain": "                                      delegator  \\\n0    0xeF8305E140ac520225DAf050e2f71d5fBcC543e7   \n1    0xeF8305E140ac520225DAf050e2f71d5fBcC543e7   \n2    0x59b070fA414cB3e1952AC3D622FDdfAD804cc069   \n3    0xa4E097962c395b27399B326f16eD4d9466138Aa9   \n4    0x9381741a8aDa2B21CCAcC5a920A65e8C35d0fA94   \n..                                          ...   \n673  0xb14991f1390966c2A0eB98BbBC40B7b27a47f07F   \n674  0xD628c79A538452949D0eb0e6dfF6834b91055b4b   \n675  0xD146C1b85386DE84E557b0115B2102932930DF5D   \n676  0x7911670881A81F8410d06053d7B3c237cE77b9B4   \n677  0xFbC8FD94B7d0f9354a121c1ee4B90f2314b9D835   \n\n                                       delegate  \n0    0x4C7909d6F029b3a5798143C843F4f8e5341a3473  \n1    0xae25aD6cba120fc1497feA5B516C8E80a6B69726  \n2    0xc91Fe0276C0daC0aa80a9434922AD5497b281D46  \n3    0x449E8424e765a04b6b10E10C13EF941A9bF0D48A  \n4    0xd1a229Aafb92bb065D495BE603D76EE51C4200a0  \n..                                          ...  \n673  0x947B7742C403f20e5FaCcDAc5E092C943E7D0277  \n674  0x947B7742C403f20e5FaCcDAc5E092C943E7D0277  \n675  0xde1E6A7ED0ad3F61D531a8a78E83CcDdbd6E0c49  \n676  0xde1E6A7ED0ad3F61D531a8a78E83CcDdbd6E0c49  \n677  0x947B7742C403f20e5FaCcDAc5E092C943E7D0277  \n\n[678 rows x 2 columns]",
      "text/html": "<div>\n<style scoped>\n    .dataframe tbody tr th:only-of-type {\n        vertical-align: middle;\n    }\n\n    .dataframe tbody tr th {\n        vertical-align: top;\n    }\n\n    .dataframe thead th {\n        text-align: right;\n    }\n</style>\n<table border=\"1\" class=\"dataframe\">\n  <thead>\n    <tr style=\"text-align: right;\">\n      <th></th>\n      <th>delegator</th>\n      <th>delegate</th>\n    </tr>\n  </thead>\n  <tbody>\n    <tr>\n      <th>0</th>\n      <td>0xeF8305E140ac520225DAf050e2f71d5fBcC543e7</td>\n      <td>0x4C7909d6F029b3a5798143C843F4f8e5341a3473</td>\n    </tr>\n    <tr>\n      <th>1</th>\n      <td>0xeF8305E140ac520225DAf050e2f71d5fBcC543e7</td>\n      <td>0xae25aD6cba120fc1497feA5B516C8E80a6B69726</td>\n    </tr>\n    <tr>\n      <th>2</th>\n      <td>0x59b070fA414cB3e1952AC3D622FDdfAD804cc069</td>\n      <td>0xc91Fe0276C0daC0aa80a9434922AD5497b281D46</td>\n    </tr>\n    <tr>\n      <th>3</th>\n      <td>0xa4E097962c395b27399B326f16eD4d9466138Aa9</td>\n      <td>0x449E8424e765a04b6b10E10C13EF941A9bF0D48A</td>\n    </tr>\n    <tr>\n      <th>4</th>\n      <td>0x9381741a8aDa2B21CCAcC5a920A65e8C35d0fA94</td>\n      <td>0xd1a229Aafb92bb065D495BE603D76EE51C4200a0</td>\n    </tr>\n    <tr>\n      <th>...</th>\n      <td>...</td>\n      <td>...</td>\n    </tr>\n    <tr>\n      <th>673</th>\n      <td>0xb14991f1390966c2A0eB98BbBC40B7b27a47f07F</td>\n      <td>0x947B7742C403f20e5FaCcDAc5E092C943E7D0277</td>\n    </tr>\n    <tr>\n      <th>674</th>\n      <td>0xD628c79A538452949D0eb0e6dfF6834b91055b4b</td>\n      <td>0x947B7742C403f20e5FaCcDAc5E092C943E7D0277</td>\n    </tr>\n    <tr>\n      <th>675</th>\n      <td>0xD146C1b85386DE84E557b0115B2102932930DF5D</td>\n      <td>0xde1E6A7ED0ad3F61D531a8a78E83CcDdbd6E0c49</td>\n    </tr>\n    <tr>\n      <th>676</th>\n      <td>0x7911670881A81F8410d06053d7B3c237cE77b9B4</td>\n      <td>0xde1E6A7ED0ad3F61D531a8a78E83CcDdbd6E0c49</td>\n    </tr>\n    <tr>\n      <th>677</th>\n      <td>0xFbC8FD94B7d0f9354a121c1ee4B90f2314b9D835</td>\n      <td>0x947B7742C403f20e5FaCcDAc5E092C943E7D0277</td>\n    </tr>\n  </tbody>\n</table>\n<p>678 rows × 2 columns</p>\n</div>"
     },
     "execution_count": 36,
     "metadata": {},
     "output_type": "execute_result"
    }
   ],
   "source": [
    "clear_delegators = [tx['args']['delegator'] for tx in clear_delegate_txes]\n",
    "clear_delegates = [tx['args']['delegate'] for tx in clear_delegate_txes]\n",
    "df_clear_delegation = pd.DataFrame()\n",
    "df_clear_delegation['delegator'] = clear_delegators\n",
    "df_clear_delegation['delegate'] = clear_delegates\n",
    "df_clear_delegation"
   ],
   "metadata": {
    "collapsed": false,
    "pycharm": {
     "name": "#%%\n"
    }
   }
  },
  {
   "cell_type": "code",
   "execution_count": 37,
   "outputs": [
    {
     "data": {
      "text/plain": "                                     delegates  count_delegates\n49  0x947B7742C403f20e5FaCcDAc5E092C943E7D0277              292\n50  0xde1E6A7ED0ad3F61D531a8a78E83CcDdbd6E0c49              230\n55  0x14F83fF95D4Ec5E8812DDf42DA1232b0ba1015e6               52\n20  0x9326029b9aF034cc05fdc9af453CeDF249aC7Ed9                4\n24  0xf4Cac91813f4533d8C35965BE2323738a088d12A                3\n..                                         ...              ...\n31  0x8Cff6832174091DAe86F0244e3Fd92d4CeD2Fe07                1\n30  0xe15B4B1921BbF7066a82ca71A751063e99c86154                1\n28  0x8cABEC8fe71A3604E21e6E2BB55463EC6e26fBf8                1\n27  0xBcE0b2edcA1fBE32891Ac6096b8ea7408dd099c2                1\n88  0x724061efDFef4a421e8be05133ad24922D07b5Bf                1\n\n[89 rows x 2 columns]",
      "text/html": "<div>\n<style scoped>\n    .dataframe tbody tr th:only-of-type {\n        vertical-align: middle;\n    }\n\n    .dataframe tbody tr th {\n        vertical-align: top;\n    }\n\n    .dataframe thead th {\n        text-align: right;\n    }\n</style>\n<table border=\"1\" class=\"dataframe\">\n  <thead>\n    <tr style=\"text-align: right;\">\n      <th></th>\n      <th>delegates</th>\n      <th>count_delegates</th>\n    </tr>\n  </thead>\n  <tbody>\n    <tr>\n      <th>49</th>\n      <td>0x947B7742C403f20e5FaCcDAc5E092C943E7D0277</td>\n      <td>292</td>\n    </tr>\n    <tr>\n      <th>50</th>\n      <td>0xde1E6A7ED0ad3F61D531a8a78E83CcDdbd6E0c49</td>\n      <td>230</td>\n    </tr>\n    <tr>\n      <th>55</th>\n      <td>0x14F83fF95D4Ec5E8812DDf42DA1232b0ba1015e6</td>\n      <td>52</td>\n    </tr>\n    <tr>\n      <th>20</th>\n      <td>0x9326029b9aF034cc05fdc9af453CeDF249aC7Ed9</td>\n      <td>4</td>\n    </tr>\n    <tr>\n      <th>24</th>\n      <td>0xf4Cac91813f4533d8C35965BE2323738a088d12A</td>\n      <td>3</td>\n    </tr>\n    <tr>\n      <th>...</th>\n      <td>...</td>\n      <td>...</td>\n    </tr>\n    <tr>\n      <th>31</th>\n      <td>0x8Cff6832174091DAe86F0244e3Fd92d4CeD2Fe07</td>\n      <td>1</td>\n    </tr>\n    <tr>\n      <th>30</th>\n      <td>0xe15B4B1921BbF7066a82ca71A751063e99c86154</td>\n      <td>1</td>\n    </tr>\n    <tr>\n      <th>28</th>\n      <td>0x8cABEC8fe71A3604E21e6E2BB55463EC6e26fBf8</td>\n      <td>1</td>\n    </tr>\n    <tr>\n      <th>27</th>\n      <td>0xBcE0b2edcA1fBE32891Ac6096b8ea7408dd099c2</td>\n      <td>1</td>\n    </tr>\n    <tr>\n      <th>88</th>\n      <td>0x724061efDFef4a421e8be05133ad24922D07b5Bf</td>\n      <td>1</td>\n    </tr>\n  </tbody>\n</table>\n<p>89 rows × 2 columns</p>\n</div>"
     },
     "execution_count": 37,
     "metadata": {},
     "output_type": "execute_result"
    }
   ],
   "source": [
    "dict_count_clear_delegation = dict(Counter(clear_delegates))\n",
    "\n",
    "df_count_clear_delegation = pd.DataFrame()\n",
    "df_count_clear_delegation['delegates'] = dict_count_clear_delegation.keys()\n",
    "df_count_clear_delegation['count_delegates'] = dict_count_clear_delegation.values()\n",
    "df_count_clear_delegation.sort_values(by='count_delegates', ascending=False, inplace=True)\n",
    "df_count_clear_delegation"
   ],
   "metadata": {
    "collapsed": false,
    "pycharm": {
     "name": "#%%\n"
    }
   }
  },
  {
   "cell_type": "markdown",
   "source": [
    "Investigate a single address: here we're interested in FRAX Investor Custodian: 0x5180db0237291A6449DdA9ed33aD90a38787621c"
   ],
   "metadata": {
    "collapsed": false
   }
  },
  {
   "cell_type": "code",
   "execution_count": 38,
   "outputs": [],
   "source": [
    "addr = \"0x5180db0237291A6449DdA9ed33aD90a38787621c\""
   ],
   "metadata": {
    "collapsed": false,
    "pycharm": {
     "name": "#%%\n"
    }
   }
  },
  {
   "cell_type": "code",
   "execution_count": 41,
   "outputs": [
    {
     "data": {
      "text/plain": "                                      delegator  \\\n902  0x7038C406e7e2C9F81571557190d26704bB39B8f3   \n\n                                       delegate  \n902  0x5180db0237291A6449DdA9ed33aD90a38787621c  ",
      "text/html": "<div>\n<style scoped>\n    .dataframe tbody tr th:only-of-type {\n        vertical-align: middle;\n    }\n\n    .dataframe tbody tr th {\n        vertical-align: top;\n    }\n\n    .dataframe thead th {\n        text-align: right;\n    }\n</style>\n<table border=\"1\" class=\"dataframe\">\n  <thead>\n    <tr style=\"text-align: right;\">\n      <th></th>\n      <th>delegator</th>\n      <th>delegate</th>\n    </tr>\n  </thead>\n  <tbody>\n    <tr>\n      <th>902</th>\n      <td>0x7038C406e7e2C9F81571557190d26704bB39B8f3</td>\n      <td>0x5180db0237291A6449DdA9ed33aD90a38787621c</td>\n    </tr>\n  </tbody>\n</table>\n</div>"
     },
     "execution_count": 41,
     "metadata": {},
     "output_type": "execute_result"
    }
   ],
   "source": [
    "delegates_to_addr = df_delegation.where(df_delegation.delegate == addr).dropna()\n",
    "delegates_to_addr"
   ],
   "metadata": {
    "collapsed": false,
    "pycharm": {
     "name": "#%%\n"
    }
   }
  },
  {
   "cell_type": "code",
   "execution_count": 42,
   "outputs": [
    {
     "data": {
      "text/plain": "Empty DataFrame\nColumns: [delegator, delegate]\nIndex: []",
      "text/html": "<div>\n<style scoped>\n    .dataframe tbody tr th:only-of-type {\n        vertical-align: middle;\n    }\n\n    .dataframe tbody tr th {\n        vertical-align: top;\n    }\n\n    .dataframe thead th {\n        text-align: right;\n    }\n</style>\n<table border=\"1\" class=\"dataframe\">\n  <thead>\n    <tr style=\"text-align: right;\">\n      <th></th>\n      <th>delegator</th>\n      <th>delegate</th>\n    </tr>\n  </thead>\n  <tbody>\n  </tbody>\n</table>\n</div>"
     },
     "execution_count": 42,
     "metadata": {},
     "output_type": "execute_result"
    }
   ],
   "source": [
    "clear_delegations_from_addr = df_clear_delegation.where(df_clear_delegation.delegate == addr).dropna()\n",
    "clear_delegations_from_addr"
   ],
   "metadata": {
    "collapsed": false,
    "pycharm": {
     "name": "#%%\n"
    }
   }
  },
  {
   "cell_type": "code",
   "execution_count": null,
   "outputs": [],
   "source": [],
   "metadata": {
    "collapsed": false,
    "pycharm": {
     "name": "#%%\n"
    }
   }
  }
 ],
 "metadata": {
  "kernelspec": {
   "display_name": "Python 3",
   "language": "python",
   "name": "python3"
  },
  "language_info": {
   "codemirror_mode": {
    "name": "ipython",
    "version": 2
   },
   "file_extension": ".py",
   "mimetype": "text/x-python",
   "name": "python",
   "nbconvert_exporter": "python",
   "pygments_lexer": "ipython2",
   "version": "2.7.6"
  }
 },
 "nbformat": 4,
 "nbformat_minor": 0
}