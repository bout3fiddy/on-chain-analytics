{
 "cells": [
  {
   "cell_type": "code",
   "execution_count": 1,
   "outputs": [],
   "source": [
    "import os\n",
    "import datetime\n",
    "import requests\n",
    "\n",
    "import brownie\n",
    "\n",
    "from utils.network_utils import connect_eth_alchemy\n",
    "from utils.contract_utils import init_contract\n",
    "\n",
    "import pandas as pd\n",
    "pd.options.mode.chained_assignment = None  # default='warn'"
   ],
   "metadata": {
    "collapsed": false,
    "pycharm": {
     "name": "#%%\n"
    }
   }
  },
  {
   "cell_type": "code",
   "execution_count": 2,
   "outputs": [],
   "source": [
    "import matplotlib.pyplot as plt\n",
    "\n",
    "import seaborn as sns\n",
    "sns.set_style(\"whitegrid\")"
   ],
   "metadata": {
    "collapsed": false,
    "pycharm": {
     "name": "#%%\n"
    }
   }
  },
  {
   "cell_type": "code",
   "execution_count": 3,
   "outputs": [],
   "source": [
    "connect_eth_alchemy()"
   ],
   "metadata": {
    "collapsed": false,
    "pycharm": {
     "name": "#%%\n"
    }
   }
  },
  {
   "cell_type": "code",
   "execution_count": 4,
   "metadata": {
    "collapsed": true
   },
   "outputs": [],
   "source": [
    "vlcvx_addr = \"0xD18140b4B819b895A3dba5442F959fA44994AF50\""
   ]
  },
  {
   "cell_type": "code",
   "execution_count": 5,
   "outputs": [],
   "source": [
    "current_block = brownie.web3.eth.block_number"
   ],
   "metadata": {
    "collapsed": false,
    "pycharm": {
     "name": "#%%\n"
    }
   }
  },
  {
   "cell_type": "code",
   "execution_count": 6,
   "outputs": [],
   "source": [
    "query = f\"https://api.etherscan.io/api?module=account&action=txlist&address={vlcvx_addr}&startblock=0&endblock=9999999999&sort=asc&page=1&offset=10000&apikey={os.environ['ETHERSCAN_API_KEY']}\"\n",
    "response = requests.post(query)"
   ],
   "metadata": {
    "collapsed": false,
    "pycharm": {
     "name": "#%%\n"
    }
   }
  },
  {
   "cell_type": "code",
   "execution_count": 7,
   "outputs": [
    {
     "data": {
      "text/plain": "4227"
     },
     "execution_count": 7,
     "metadata": {},
     "output_type": "execute_result"
    }
   ],
   "source": [
    "interacting_addrs = []\n",
    "for tx in dict(response.json())['result']:\n",
    "    interacting_addrs.append(tx['from'])\n",
    "len(interacting_addrs)"
   ],
   "metadata": {
    "collapsed": false,
    "pycharm": {
     "name": "#%%\n"
    }
   }
  },
  {
   "cell_type": "code",
   "execution_count": 8,
   "outputs": [],
   "source": [
    "vlcvx = init_contract(vlcvx_addr)"
   ],
   "metadata": {
    "collapsed": false,
    "pycharm": {
     "name": "#%%\n"
    }
   }
  },
  {
   "cell_type": "code",
   "execution_count": 9,
   "outputs": [],
   "source": [
    "vlcvx_balances = []\n",
    "with brownie.multicall():\n",
    "    for addr in interacting_addrs:\n",
    "        vlcvx_balances.append(vlcvx.lockedBalanceOf(addr))"
   ],
   "metadata": {
    "collapsed": false,
    "pycharm": {
     "name": "#%%\n"
    }
   }
  },
  {
   "cell_type": "code",
   "execution_count": 10,
   "outputs": [
    {
     "data": {
      "text/plain": "                                            addr           vlcvx_balance\n0     0x947b7742c403f20e5faccdac5e092c943e7d0277                       0\n1     0x947b7742c403f20e5faccdac5e092c943e7d0277                       0\n2     0x947b7742c403f20e5faccdac5e092c943e7d0277                       0\n3     0x947b7742c403f20e5faccdac5e092c943e7d0277                       0\n4     0x947b7742c403f20e5faccdac5e092c943e7d0277                       0\n...                                          ...                     ...\n4222  0xe7e58a7dbfdcd14d77018bcd5fbbecb4f5153b53  3434376594074574140307\n4223  0xe90b4aa6002e263031e9a05d50ce8709b9f92fa8  1427936555955761917982\n4224  0x6384d3861d0dadcdc758d06da7d9628e4ed41d1a  2457966123792808414221\n4225  0x8aa1de245737f9323877684be0dc7651aff4531f   501342760862516274354\n4226  0x6e403a0f29a324c79ec25828388fe3b8aca8cbbd  4093523222925662745473\n\n[4227 rows x 2 columns]",
      "text/html": "<div>\n<style scoped>\n    .dataframe tbody tr th:only-of-type {\n        vertical-align: middle;\n    }\n\n    .dataframe tbody tr th {\n        vertical-align: top;\n    }\n\n    .dataframe thead th {\n        text-align: right;\n    }\n</style>\n<table border=\"1\" class=\"dataframe\">\n  <thead>\n    <tr style=\"text-align: right;\">\n      <th></th>\n      <th>addr</th>\n      <th>vlcvx_balance</th>\n    </tr>\n  </thead>\n  <tbody>\n    <tr>\n      <th>0</th>\n      <td>0x947b7742c403f20e5faccdac5e092c943e7d0277</td>\n      <td>0</td>\n    </tr>\n    <tr>\n      <th>1</th>\n      <td>0x947b7742c403f20e5faccdac5e092c943e7d0277</td>\n      <td>0</td>\n    </tr>\n    <tr>\n      <th>2</th>\n      <td>0x947b7742c403f20e5faccdac5e092c943e7d0277</td>\n      <td>0</td>\n    </tr>\n    <tr>\n      <th>3</th>\n      <td>0x947b7742c403f20e5faccdac5e092c943e7d0277</td>\n      <td>0</td>\n    </tr>\n    <tr>\n      <th>4</th>\n      <td>0x947b7742c403f20e5faccdac5e092c943e7d0277</td>\n      <td>0</td>\n    </tr>\n    <tr>\n      <th>...</th>\n      <td>...</td>\n      <td>...</td>\n    </tr>\n    <tr>\n      <th>4222</th>\n      <td>0xe7e58a7dbfdcd14d77018bcd5fbbecb4f5153b53</td>\n      <td>3434376594074574140307</td>\n    </tr>\n    <tr>\n      <th>4223</th>\n      <td>0xe90b4aa6002e263031e9a05d50ce8709b9f92fa8</td>\n      <td>1427936555955761917982</td>\n    </tr>\n    <tr>\n      <th>4224</th>\n      <td>0x6384d3861d0dadcdc758d06da7d9628e4ed41d1a</td>\n      <td>2457966123792808414221</td>\n    </tr>\n    <tr>\n      <th>4225</th>\n      <td>0x8aa1de245737f9323877684be0dc7651aff4531f</td>\n      <td>501342760862516274354</td>\n    </tr>\n    <tr>\n      <th>4226</th>\n      <td>0x6e403a0f29a324c79ec25828388fe3b8aca8cbbd</td>\n      <td>4093523222925662745473</td>\n    </tr>\n  </tbody>\n</table>\n<p>4227 rows × 2 columns</p>\n</div>"
     },
     "execution_count": 10,
     "metadata": {},
     "output_type": "execute_result"
    }
   ],
   "source": [
    "df_vlcvx_balances = pd.DataFrame({\"addr\": interacting_addrs, \"vlcvx_balance\": vlcvx_balances})\n",
    "df_vlcvx_balances"
   ],
   "metadata": {
    "collapsed": false,
    "pycharm": {
     "name": "#%%\n"
    }
   }
  },
  {
   "cell_type": "code",
   "execution_count": 11,
   "outputs": [
    {
     "data": {
      "text/plain": "                                            addr   vlcvx_balance\n0                                            NaN             NaN\n5     0xaac0aa431c237c2c0b5f041c8e59b3f1a43ac78f  1717677.369072\n6     0x94dfce828c3daaf6492f1b6f66f9a1825254d24b   547261.932749\n7     0xc7c022bd85529bed1b92de4ba847f3f4e8fd5cbf   499973.912018\n8     0x2ba8c59c99c94ac5d3b2af7019d2861c640e91f7     6568.236533\n...                                          ...             ...\n4214  0x375f95fb45811ace248adc5baee5228d91ffca50     5139.642443\n4215  0x8da4b8ae83ea2fcc7bdbaf9b6042b819cd2dae3c      128.734523\n4216  0x40997f435728ecc6d2af4e50bacd091386017433         1337.69\n4217  0xf960a6adc4ea8e2d3c873dc3116cfdb8a5d9c883     4016.956378\n4224  0x6384d3861d0dadcdc758d06da7d9628e4ed41d1a     2457.966124\n\n[2126 rows x 2 columns]",
      "text/html": "<div>\n<style scoped>\n    .dataframe tbody tr th:only-of-type {\n        vertical-align: middle;\n    }\n\n    .dataframe tbody tr th {\n        vertical-align: top;\n    }\n\n    .dataframe thead th {\n        text-align: right;\n    }\n</style>\n<table border=\"1\" class=\"dataframe\">\n  <thead>\n    <tr style=\"text-align: right;\">\n      <th></th>\n      <th>addr</th>\n      <th>vlcvx_balance</th>\n    </tr>\n  </thead>\n  <tbody>\n    <tr>\n      <th>0</th>\n      <td>NaN</td>\n      <td>NaN</td>\n    </tr>\n    <tr>\n      <th>5</th>\n      <td>0xaac0aa431c237c2c0b5f041c8e59b3f1a43ac78f</td>\n      <td>1717677.369072</td>\n    </tr>\n    <tr>\n      <th>6</th>\n      <td>0x94dfce828c3daaf6492f1b6f66f9a1825254d24b</td>\n      <td>547261.932749</td>\n    </tr>\n    <tr>\n      <th>7</th>\n      <td>0xc7c022bd85529bed1b92de4ba847f3f4e8fd5cbf</td>\n      <td>499973.912018</td>\n    </tr>\n    <tr>\n      <th>8</th>\n      <td>0x2ba8c59c99c94ac5d3b2af7019d2861c640e91f7</td>\n      <td>6568.236533</td>\n    </tr>\n    <tr>\n      <th>...</th>\n      <td>...</td>\n      <td>...</td>\n    </tr>\n    <tr>\n      <th>4214</th>\n      <td>0x375f95fb45811ace248adc5baee5228d91ffca50</td>\n      <td>5139.642443</td>\n    </tr>\n    <tr>\n      <th>4215</th>\n      <td>0x8da4b8ae83ea2fcc7bdbaf9b6042b819cd2dae3c</td>\n      <td>128.734523</td>\n    </tr>\n    <tr>\n      <th>4216</th>\n      <td>0x40997f435728ecc6d2af4e50bacd091386017433</td>\n      <td>1337.69</td>\n    </tr>\n    <tr>\n      <th>4217</th>\n      <td>0xf960a6adc4ea8e2d3c873dc3116cfdb8a5d9c883</td>\n      <td>4016.956378</td>\n    </tr>\n    <tr>\n      <th>4224</th>\n      <td>0x6384d3861d0dadcdc758d06da7d9628e4ed41d1a</td>\n      <td>2457.966124</td>\n    </tr>\n  </tbody>\n</table>\n<p>2126 rows × 2 columns</p>\n</div>"
     },
     "execution_count": 11,
     "metadata": {},
     "output_type": "execute_result"
    }
   ],
   "source": [
    "df_vlcvx_balances = df_vlcvx_balances.where(df_vlcvx_balances.vlcvx_balance > 0)\n",
    "df_vlcvx_balances['vlcvx_balance'] *= 1e-18\n",
    "df_vlcvx_balances.drop_duplicates(inplace=True)\n",
    "df_vlcvx_balances"
   ],
   "metadata": {
    "collapsed": false,
    "pycharm": {
     "name": "#%%\n"
    }
   }
  },
  {
   "cell_type": "code",
   "execution_count": 12,
   "outputs": [
    {
     "data": {
      "text/plain": "                                            addr   vlcvx_balance\n0     0xaac0aa431c237c2c0b5f041c8e59b3f1a43ac78f  1717677.369072\n1     0x9c5083dd4838e120dbeac44c052179692aa5dac5  1000000.002648\n2     0xa22eb3338dfd69458513a1f6d4742ab29f7ef333       1000000.0\n3     0xb3df5271b92e9fd2fed137253bb4611285923f16   775043.652014\n4     0x94dfce828c3daaf6492f1b6f66f9a1825254d24b   547261.932749\n...                                          ...             ...\n2120  0x94234cfd63e20f280111daf8627c95c0ab2c3ac7        2.218662\n2121  0xe16f4f24fbc389441a83222b6fe7c61a1b0d50ff        1.470637\n2122  0x25b28ee7f335f0396f41f129039f1583345b21b8        1.222147\n2123  0xff77fdef2685402f9064cd14ae24aa4609d8d867             1.0\n2124  0x789c455e63c476612bc8cd88c92f050e7446d14f             1.0\n\n[2125 rows x 2 columns]",
      "text/html": "<div>\n<style scoped>\n    .dataframe tbody tr th:only-of-type {\n        vertical-align: middle;\n    }\n\n    .dataframe tbody tr th {\n        vertical-align: top;\n    }\n\n    .dataframe thead th {\n        text-align: right;\n    }\n</style>\n<table border=\"1\" class=\"dataframe\">\n  <thead>\n    <tr style=\"text-align: right;\">\n      <th></th>\n      <th>addr</th>\n      <th>vlcvx_balance</th>\n    </tr>\n  </thead>\n  <tbody>\n    <tr>\n      <th>0</th>\n      <td>0xaac0aa431c237c2c0b5f041c8e59b3f1a43ac78f</td>\n      <td>1717677.369072</td>\n    </tr>\n    <tr>\n      <th>1</th>\n      <td>0x9c5083dd4838e120dbeac44c052179692aa5dac5</td>\n      <td>1000000.002648</td>\n    </tr>\n    <tr>\n      <th>2</th>\n      <td>0xa22eb3338dfd69458513a1f6d4742ab29f7ef333</td>\n      <td>1000000.0</td>\n    </tr>\n    <tr>\n      <th>3</th>\n      <td>0xb3df5271b92e9fd2fed137253bb4611285923f16</td>\n      <td>775043.652014</td>\n    </tr>\n    <tr>\n      <th>4</th>\n      <td>0x94dfce828c3daaf6492f1b6f66f9a1825254d24b</td>\n      <td>547261.932749</td>\n    </tr>\n    <tr>\n      <th>...</th>\n      <td>...</td>\n      <td>...</td>\n    </tr>\n    <tr>\n      <th>2120</th>\n      <td>0x94234cfd63e20f280111daf8627c95c0ab2c3ac7</td>\n      <td>2.218662</td>\n    </tr>\n    <tr>\n      <th>2121</th>\n      <td>0xe16f4f24fbc389441a83222b6fe7c61a1b0d50ff</td>\n      <td>1.470637</td>\n    </tr>\n    <tr>\n      <th>2122</th>\n      <td>0x25b28ee7f335f0396f41f129039f1583345b21b8</td>\n      <td>1.222147</td>\n    </tr>\n    <tr>\n      <th>2123</th>\n      <td>0xff77fdef2685402f9064cd14ae24aa4609d8d867</td>\n      <td>1.0</td>\n    </tr>\n    <tr>\n      <th>2124</th>\n      <td>0x789c455e63c476612bc8cd88c92f050e7446d14f</td>\n      <td>1.0</td>\n    </tr>\n  </tbody>\n</table>\n<p>2125 rows × 2 columns</p>\n</div>"
     },
     "execution_count": 12,
     "metadata": {},
     "output_type": "execute_result"
    }
   ],
   "source": [
    "export_df = df_vlcvx_balances.dropna().sort_values(by=['vlcvx_balance'], ascending=False).reset_index().drop(columns=['index'])\n",
    "export_df"
   ],
   "metadata": {
    "collapsed": false,
    "pycharm": {
     "name": "#%%\n"
    }
   }
  },
  {
   "cell_type": "code",
   "execution_count": 20,
   "outputs": [],
   "source": [
    "now = datetime.datetime.utcnow()\n",
    "now = datetime.datetime.strftime(now, \"%Y-%m-%d--%H-%M\")\n",
    "export_df.to_csv(f'lockooooors_{now}.csv')"
   ],
   "metadata": {
    "collapsed": false,
    "pycharm": {
     "name": "#%%\n"
    }
   }
  },
  {
   "cell_type": "code",
   "execution_count": 14,
   "outputs": [
    {
     "data": {
      "text/plain": "<Figure size 1080x576 with 1 Axes>",
      "image/png": "[encoded data removed]"
     },
     "metadata": {},
     "output_type": "display_data"
    }
   ],
   "source": [
    "fig, ax = plt.subplots(1,1, figsize=(15, 8))\n",
    "\n",
    "ax.hist(export_df.vlcvx_balance, bins=1000)\n",
    "\n",
    "ax.set_ylabel(\"# Lockers\", fontsize=20)\n",
    "ax.set_xlabel(\"vlCVX Balance\", fontsize=20)\n",
    "ax.tick_params(axis='both', which='major', labelsize=20)\n",
    "ax.tick_params(axis='x', which='major', colors='black')\n",
    "ax.xaxis.get_major_formatter().set_scientific(False)\n",
    "ax.xaxis.get_major_formatter().set_useOffset(False)\n",
    "\n",
    "ax.set_xscale(\"log\")\n"
   ],
   "metadata": {
    "collapsed": false,
    "pycharm": {
     "name": "#%%\n"
    }
   }
  },
  {
   "cell_type": "code",
   "execution_count": 14,
   "outputs": [],
   "source": [],
   "metadata": {
    "collapsed": false,
    "pycharm": {
     "name": "#%%\n"
    }
   }
  }
 ],
 "metadata": {
  "kernelspec": {
   "display_name": "Python 3",
   "language": "python",
   "name": "python3"
  },
  "language_info": {
   "codemirror_mode": {
    "name": "ipython",
    "version": 2
   },
   "file_extension": ".py",
   "mimetype": "text/x-python",
   "name": "python",
   "nbconvert_exporter": "python",
   "pygments_lexer": "ipython2",
   "version": "2.7.6"
  }
 },
 "nbformat": 4,
 "nbformat_minor": 0
}