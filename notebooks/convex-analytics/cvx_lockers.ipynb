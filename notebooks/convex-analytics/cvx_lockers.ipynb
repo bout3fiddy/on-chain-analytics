{
 "cells": [
  {
   "cell_type": "code",
   "execution_count": 34,
   "outputs": [],
   "source": [
    "import os\n",
    "import datetime\n",
    "import requests\n",
    "\n",
    "import brownie\n",
    "\n",
    "from utils.network_utils import connect_eth_alchemy\n",
    "from utils.contract_utils import init_contract\n",
    "\n",
    "import pandas as pd\n",
    "pd.options.mode.chained_assignment = None  # default='warn'"
   ],
   "metadata": {
    "collapsed": false,
    "pycharm": {
     "name": "#%%\n"
    }
   }
  },
  {
   "cell_type": "code",
   "execution_count": 33,
   "outputs": [],
   "source": [
    "import matplotlib.pyplot as plt\n",
    "\n",
    "import seaborn as sns\n",
    "sns.set_style(\"whitegrid\")"
   ],
   "metadata": {
    "collapsed": false,
    "pycharm": {
     "name": "#%%\n"
    }
   }
  },
  {
   "cell_type": "code",
   "execution_count": 2,
   "outputs": [],
   "source": [
    "connect_eth_alchemy()"
   ],
   "metadata": {
    "collapsed": false,
    "pycharm": {
     "name": "#%%\n"
    }
   }
  },
  {
   "cell_type": "code",
   "execution_count": 3,
   "metadata": {
    "collapsed": true
   },
   "outputs": [],
   "source": [
    "vlcvx_addr = \"0xD18140b4B819b895A3dba5442F959fA44994AF50\""
   ]
  },
  {
   "cell_type": "code",
   "execution_count": 4,
   "outputs": [],
   "source": [
    "current_block = brownie.web3.eth.block_number"
   ],
   "metadata": {
    "collapsed": false,
    "pycharm": {
     "name": "#%%\n"
    }
   }
  },
  {
   "cell_type": "code",
   "execution_count": 5,
   "outputs": [],
   "source": [
    "query = f\"https://api.etherscan.io/api?module=account&action=txlist&address={vlcvx_addr}&startblock=0&endblock=9999999999&sort=asc&page=1&offset=10000&apikey={os.environ['ETHERSCAN_API_KEY']}\"\n",
    "response = requests.post(query)"
   ],
   "metadata": {
    "collapsed": false,
    "pycharm": {
     "name": "#%%\n"
    }
   }
  },
  {
   "cell_type": "code",
   "execution_count": 6,
   "outputs": [
    {
     "data": {
      "text/plain": "4117"
     },
     "execution_count": 6,
     "metadata": {},
     "output_type": "execute_result"
    }
   ],
   "source": [
    "interacting_addrs = []\n",
    "for tx in dict(response.json())['result']:\n",
    "    interacting_addrs.append(tx['from'])\n",
    "len(interacting_addrs)"
   ],
   "metadata": {
    "collapsed": false,
    "pycharm": {
     "name": "#%%\n"
    }
   }
  },
  {
   "cell_type": "code",
   "execution_count": 7,
   "outputs": [],
   "source": [
    "vlcvx = init_contract(vlcvx_addr)"
   ],
   "metadata": {
    "collapsed": false,
    "pycharm": {
     "name": "#%%\n"
    }
   }
  },
  {
   "cell_type": "code",
   "execution_count": 28,
   "outputs": [],
   "source": [
    "vlcvx_balances = []\n",
    "with brownie.multicall():\n",
    "    for addr in interacting_addrs:\n",
    "        vlcvx_balances.append(vlcvx.lockedBalanceOf(addr))"
   ],
   "metadata": {
    "collapsed": false,
    "pycharm": {
     "name": "#%%\n"
    }
   }
  },
  {
   "cell_type": "code",
   "execution_count": 29,
   "outputs": [
    {
     "data": {
      "text/plain": "                                            addr            vlcvx_balance\n0     0x947b7742c403f20e5faccdac5e092c943e7d0277                        0\n1     0x947b7742c403f20e5faccdac5e092c943e7d0277                        0\n2     0x947b7742c403f20e5faccdac5e092c943e7d0277                        0\n3     0x947b7742c403f20e5faccdac5e092c943e7d0277                        0\n4     0x947b7742c403f20e5faccdac5e092c943e7d0277                        0\n...                                          ...                      ...\n4112  0x67f118166ba2745656f99ea58d62c002c26cca18    460893083453391134568\n4113  0x535051520c4ce3e2bfb3f609251b34a497ce343f    878546142449240350306\n4114  0xae30debe2ce8258523938b44d2adbc4d6805ab38     37134556859962955386\n4115  0x89f40ca416df2cb2fda79c3f5d9338e87cab0600  15693239487430347484291\n4116  0x70431e3cb7e1fb9dd0510c1e7ee0d509476047b9   7295053311534711580088\n\n[4117 rows x 2 columns]",
      "text/html": "<div>\n<style scoped>\n    .dataframe tbody tr th:only-of-type {\n        vertical-align: middle;\n    }\n\n    .dataframe tbody tr th {\n        vertical-align: top;\n    }\n\n    .dataframe thead th {\n        text-align: right;\n    }\n</style>\n<table border=\"1\" class=\"dataframe\">\n  <thead>\n    <tr style=\"text-align: right;\">\n      <th></th>\n      <th>addr</th>\n      <th>vlcvx_balance</th>\n    </tr>\n  </thead>\n  <tbody>\n    <tr>\n      <th>0</th>\n      <td>0x947b7742c403f20e5faccdac5e092c943e7d0277</td>\n      <td>0</td>\n    </tr>\n    <tr>\n      <th>1</th>\n      <td>0x947b7742c403f20e5faccdac5e092c943e7d0277</td>\n      <td>0</td>\n    </tr>\n    <tr>\n      <th>2</th>\n      <td>0x947b7742c403f20e5faccdac5e092c943e7d0277</td>\n      <td>0</td>\n    </tr>\n    <tr>\n      <th>3</th>\n      <td>0x947b7742c403f20e5faccdac5e092c943e7d0277</td>\n      <td>0</td>\n    </tr>\n    <tr>\n      <th>4</th>\n      <td>0x947b7742c403f20e5faccdac5e092c943e7d0277</td>\n      <td>0</td>\n    </tr>\n    <tr>\n      <th>...</th>\n      <td>...</td>\n      <td>...</td>\n    </tr>\n    <tr>\n      <th>4112</th>\n      <td>0x67f118166ba2745656f99ea58d62c002c26cca18</td>\n      <td>460893083453391134568</td>\n    </tr>\n    <tr>\n      <th>4113</th>\n      <td>0x535051520c4ce3e2bfb3f609251b34a497ce343f</td>\n      <td>878546142449240350306</td>\n    </tr>\n    <tr>\n      <th>4114</th>\n      <td>0xae30debe2ce8258523938b44d2adbc4d6805ab38</td>\n      <td>37134556859962955386</td>\n    </tr>\n    <tr>\n      <th>4115</th>\n      <td>0x89f40ca416df2cb2fda79c3f5d9338e87cab0600</td>\n      <td>15693239487430347484291</td>\n    </tr>\n    <tr>\n      <th>4116</th>\n      <td>0x70431e3cb7e1fb9dd0510c1e7ee0d509476047b9</td>\n      <td>7295053311534711580088</td>\n    </tr>\n  </tbody>\n</table>\n<p>4117 rows × 2 columns</p>\n</div>"
     },
     "execution_count": 29,
     "metadata": {},
     "output_type": "execute_result"
    }
   ],
   "source": [
    "df_vlcvx_balances = pd.DataFrame({\"addr\": interacting_addrs, \"vlcvx_balance\": vlcvx_balances})\n",
    "df_vlcvx_balances"
   ],
   "metadata": {
    "collapsed": false,
    "pycharm": {
     "name": "#%%\n"
    }
   }
  },
  {
   "cell_type": "code",
   "execution_count": 30,
   "outputs": [
    {
     "data": {
      "text/plain": "                                            addr   vlcvx_balance\n0                                            NaN             NaN\n5     0xaac0aa431c237c2c0b5f041c8e59b3f1a43ac78f  1717677.369072\n6     0x94dfce828c3daaf6492f1b6f66f9a1825254d24b   547261.932749\n7     0xc7c022bd85529bed1b92de4ba847f3f4e8fd5cbf   499973.912018\n8     0x2ba8c59c99c94ac5d3b2af7019d2861c640e91f7     6568.236533\n...                                          ...             ...\n4098  0xfd4ae564e8ec836c4c61903ddf9acc9529000170     3918.086746\n4099  0xe1f7ead40d33eef30dcf15eb5efc45409001aab8      131.713055\n4103  0xd43e13e7d3afbffd739c3ddb5e0cb7e680b59185         103.762\n4109  0xbcf19445c92ab292a9b8374ab5091efabd417b67        660.1205\n4112  0x67f118166ba2745656f99ea58d62c002c26cca18      460.893083\n\n[2079 rows x 2 columns]",
      "text/html": "<div>\n<style scoped>\n    .dataframe tbody tr th:only-of-type {\n        vertical-align: middle;\n    }\n\n    .dataframe tbody tr th {\n        vertical-align: top;\n    }\n\n    .dataframe thead th {\n        text-align: right;\n    }\n</style>\n<table border=\"1\" class=\"dataframe\">\n  <thead>\n    <tr style=\"text-align: right;\">\n      <th></th>\n      <th>addr</th>\n      <th>vlcvx_balance</th>\n    </tr>\n  </thead>\n  <tbody>\n    <tr>\n      <th>0</th>\n      <td>NaN</td>\n      <td>NaN</td>\n    </tr>\n    <tr>\n      <th>5</th>\n      <td>0xaac0aa431c237c2c0b5f041c8e59b3f1a43ac78f</td>\n      <td>1717677.369072</td>\n    </tr>\n    <tr>\n      <th>6</th>\n      <td>0x94dfce828c3daaf6492f1b6f66f9a1825254d24b</td>\n      <td>547261.932749</td>\n    </tr>\n    <tr>\n      <th>7</th>\n      <td>0xc7c022bd85529bed1b92de4ba847f3f4e8fd5cbf</td>\n      <td>499973.912018</td>\n    </tr>\n    <tr>\n      <th>8</th>\n      <td>0x2ba8c59c99c94ac5d3b2af7019d2861c640e91f7</td>\n      <td>6568.236533</td>\n    </tr>\n    <tr>\n      <th>...</th>\n      <td>...</td>\n      <td>...</td>\n    </tr>\n    <tr>\n      <th>4098</th>\n      <td>0xfd4ae564e8ec836c4c61903ddf9acc9529000170</td>\n      <td>3918.086746</td>\n    </tr>\n    <tr>\n      <th>4099</th>\n      <td>0xe1f7ead40d33eef30dcf15eb5efc45409001aab8</td>\n      <td>131.713055</td>\n    </tr>\n    <tr>\n      <th>4103</th>\n      <td>0xd43e13e7d3afbffd739c3ddb5e0cb7e680b59185</td>\n      <td>103.762</td>\n    </tr>\n    <tr>\n      <th>4109</th>\n      <td>0xbcf19445c92ab292a9b8374ab5091efabd417b67</td>\n      <td>660.1205</td>\n    </tr>\n    <tr>\n      <th>4112</th>\n      <td>0x67f118166ba2745656f99ea58d62c002c26cca18</td>\n      <td>460.893083</td>\n    </tr>\n  </tbody>\n</table>\n<p>2079 rows × 2 columns</p>\n</div>"
     },
     "execution_count": 30,
     "metadata": {},
     "output_type": "execute_result"
    }
   ],
   "source": [
    "df_vlcvx_balances = df_vlcvx_balances.where(df_vlcvx_balances.vlcvx_balance > 0)\n",
    "df_vlcvx_balances['vlcvx_balance'] *= 1e-18\n",
    "df_vlcvx_balances.drop_duplicates(inplace=True)\n",
    "df_vlcvx_balances"
   ],
   "metadata": {
    "collapsed": false,
    "pycharm": {
     "name": "#%%\n"
    }
   }
  },
  {
   "cell_type": "code",
   "execution_count": 31,
   "outputs": [
    {
     "data": {
      "text/plain": "                                            addr   vlcvx_balance\n0     0xaac0aa431c237c2c0b5f041c8e59b3f1a43ac78f  1717677.369072\n1     0x9c5083dd4838e120dbeac44c052179692aa5dac5  1000000.002648\n2     0xa22eb3338dfd69458513a1f6d4742ab29f7ef333       1000000.0\n3     0xb3df5271b92e9fd2fed137253bb4611285923f16   775043.652014\n4     0x94dfce828c3daaf6492f1b6f66f9a1825254d24b   547261.932749\n...                                          ...             ...\n2073  0x94234cfd63e20f280111daf8627c95c0ab2c3ac7        2.218662\n2074  0xe16f4f24fbc389441a83222b6fe7c61a1b0d50ff        1.470637\n2075  0x25b28ee7f335f0396f41f129039f1583345b21b8        1.222147\n2076  0xff77fdef2685402f9064cd14ae24aa4609d8d867             1.0\n2077  0x789c455e63c476612bc8cd88c92f050e7446d14f             1.0\n\n[2078 rows x 2 columns]",
      "text/html": "<div>\n<style scoped>\n    .dataframe tbody tr th:only-of-type {\n        vertical-align: middle;\n    }\n\n    .dataframe tbody tr th {\n        vertical-align: top;\n    }\n\n    .dataframe thead th {\n        text-align: right;\n    }\n</style>\n<table border=\"1\" class=\"dataframe\">\n  <thead>\n    <tr style=\"text-align: right;\">\n      <th></th>\n      <th>addr</th>\n      <th>vlcvx_balance</th>\n    </tr>\n  </thead>\n  <tbody>\n    <tr>\n      <th>0</th>\n      <td>0xaac0aa431c237c2c0b5f041c8e59b3f1a43ac78f</td>\n      <td>1717677.369072</td>\n    </tr>\n    <tr>\n      <th>1</th>\n      <td>0x9c5083dd4838e120dbeac44c052179692aa5dac5</td>\n      <td>1000000.002648</td>\n    </tr>\n    <tr>\n      <th>2</th>\n      <td>0xa22eb3338dfd69458513a1f6d4742ab29f7ef333</td>\n      <td>1000000.0</td>\n    </tr>\n    <tr>\n      <th>3</th>\n      <td>0xb3df5271b92e9fd2fed137253bb4611285923f16</td>\n      <td>775043.652014</td>\n    </tr>\n    <tr>\n      <th>4</th>\n      <td>0x94dfce828c3daaf6492f1b6f66f9a1825254d24b</td>\n      <td>547261.932749</td>\n    </tr>\n    <tr>\n      <th>...</th>\n      <td>...</td>\n      <td>...</td>\n    </tr>\n    <tr>\n      <th>2073</th>\n      <td>0x94234cfd63e20f280111daf8627c95c0ab2c3ac7</td>\n      <td>2.218662</td>\n    </tr>\n    <tr>\n      <th>2074</th>\n      <td>0xe16f4f24fbc389441a83222b6fe7c61a1b0d50ff</td>\n      <td>1.470637</td>\n    </tr>\n    <tr>\n      <th>2075</th>\n      <td>0x25b28ee7f335f0396f41f129039f1583345b21b8</td>\n      <td>1.222147</td>\n    </tr>\n    <tr>\n      <th>2076</th>\n      <td>0xff77fdef2685402f9064cd14ae24aa4609d8d867</td>\n      <td>1.0</td>\n    </tr>\n    <tr>\n      <th>2077</th>\n      <td>0x789c455e63c476612bc8cd88c92f050e7446d14f</td>\n      <td>1.0</td>\n    </tr>\n  </tbody>\n</table>\n<p>2078 rows × 2 columns</p>\n</div>"
     },
     "execution_count": 31,
     "metadata": {},
     "output_type": "execute_result"
    }
   ],
   "source": [
    "export_df = df_vlcvx_balances.dropna().sort_values(by=['vlcvx_balance'], ascending=False).reset_index().drop(columns=['index'])\n",
    "export_df"
   ],
   "metadata": {
    "collapsed": false,
    "pycharm": {
     "name": "#%%\n"
    }
   }
  },
  {
   "cell_type": "code",
   "execution_count": 32,
   "outputs": [],
   "source": [
    "now = datetime.datetime.utcnow().date\n",
    "export_df.to_csv(f'vlcvx_balances_{now}.csv')"
   ],
   "metadata": {
    "collapsed": false,
    "pycharm": {
     "name": "#%%\n"
    }
   }
  },
  {
   "cell_type": "code",
   "execution_count": 54,
   "outputs": [
    {
     "data": {
      "text/plain": "<Figure size 1080x576 with 1 Axes>",
      "image/png": "[encoded data removed]"
     },
     "metadata": {},
     "output_type": "display_data"
    }
   ],
   "source": [
    "fig, ax = plt.subplots(1,1, figsize=(15, 8))\n",
    "\n",
    "ax.hist(export_df.vlcvx_balance, bins=100000)\n",
    "\n",
    "ax.set_ylabel(\"# Lockers\", fontsize=20)\n",
    "ax.set_xlabel(\"vlCVX Balance\", fontsize=20)\n",
    "ax.tick_params(axis='both', which='major', labelsize=20)\n",
    "ax.tick_params(axis='x', which='major', colors='black')\n",
    "ax.xaxis.get_major_formatter().set_scientific(False)\n",
    "ax.xaxis.get_major_formatter().set_useOffset(False)\n",
    "\n",
    "ax.set_xscale(\"log\")\n"
   ],
   "metadata": {
    "collapsed": false,
    "pycharm": {
     "name": "#%%\n"
    }
   }
  },
  {
   "cell_type": "code",
   "execution_count": null,
   "outputs": [],
   "source": [],
   "metadata": {
    "collapsed": false,
    "pycharm": {
     "name": "#%%\n"
    }
   }
  }
 ],
 "metadata": {
  "kernelspec": {
   "display_name": "Python 3",
   "language": "python",
   "name": "python3"
  },
  "language_info": {
   "codemirror_mode": {
    "name": "ipython",
    "version": 2
   },
   "file_extension": ".py",
   "mimetype": "text/x-python",
   "name": "python",
   "nbconvert_exporter": "python",
   "pygments_lexer": "ipython2",
   "version": "2.7.6"
  }
 },
 "nbformat": 4,
 "nbformat_minor": 0
}