{
 "cells": [
  {
   "cell_type": "code",
   "execution_count": 1,
   "metadata": {},
   "outputs": [],
   "source": [
    "import pandas as pd\n",
    "import matplotlib.pyplot as plt\n",
    "import seaborn as sns\n",
    "import datetime\n",
    "import os"
   ]
  },
  {
   "cell_type": "code",
   "execution_count": 2,
   "metadata": {},
   "outputs": [],
   "source": [
    "from etherscan.accounts import Account"
   ]
  },
  {
   "cell_type": "code",
   "execution_count": 3,
   "metadata": {},
   "outputs": [],
   "source": [
    "import brownie\n",
    "\n",
    "brownie.network.connect(\"mainnet\")"
   ]
  },
  {
   "cell_type": "code",
   "execution_count": 4,
   "metadata": {},
   "outputs": [],
   "source": [
    "import requests as requests"
   ]
  },
  {
   "cell_type": "code",
   "execution_count": 5,
   "metadata": {},
   "outputs": [],
   "source": [
    "block_info_response = requests.get(\"https://api.blockcypher.com/v1/eth/main\")\n",
    "current_block = block_info_response.json()['height']"
   ]
  },
  {
   "cell_type": "code",
   "execution_count": 6,
   "metadata": {
    "collapsed": false,
    "pycharm": {
     "name": "#%%\n"
    }
   },
   "outputs": [
    {
     "name": "stdout",
     "output_type": "stream",
     "text": [
      "Fetching source of \u001b[0;1;34m0x8014595F2AB54cD7c604B00E9fb932176fDc86Ae\u001b[0;m from \u001b[0;1;34mapi.etherscan.io\u001b[0;m...\n"
     ]
    },
    {
     "name": "stderr",
     "output_type": "stream",
     "text": [
      "/Users/swadhinnanda/Projects/git/on-chain-analytics/venv/lib/python3.7/site-packages/brownie/network/contract.py:1239: BrownieCompilerWarning: 0x8014595F2AB54cD7c604B00E9fb932176fDc86Ae: Locally compiled and on-chain bytecode do not match!\n",
      "  BrownieCompilerWarning,\n"
     ]
    }
   ],
   "source": [
    "crv_depositor_contract = \"0x8014595F2AB54cD7c604B00E9fb932176fDc86Ae\"\n",
    "crv_depositor_contract_obj = brownie.network.contract.Contract.from_explorer(crv_depositor_contract)"
   ]
  },
  {
   "cell_type": "code",
   "execution_count": 7,
   "metadata": {
    "collapsed": false,
    "pycharm": {
     "name": "#%%\n"
    }
   },
   "outputs": [
    {
     "data": {
      "text/plain": "<Response [200]>"
     },
     "execution_count": 7,
     "metadata": {},
     "output_type": "execute_result"
    }
   ],
   "source": [
    "go_back = 100000\n",
    "query = f\"https://api.etherscan.io/api?module=account&action=txlist&address={crv_depositor_contract}&startblock={current_block-go_back}&endblock={current_block}&sort=asc&page=1&offset=10000&apikey={os.environ['ETHERSCAN_API_KEY']}\"\n",
    "etherscan_api_response = requests.post(query)\n",
    "etherscan_api_response"
   ]
  },
  {
   "cell_type": "code",
   "execution_count": 8,
   "metadata": {},
   "outputs": [
    {
     "data": {
      "text/plain": "504"
     },
     "execution_count": 8,
     "metadata": {},
     "output_type": "execute_result"
    }
   ],
   "source": [
    "crv_depositor_txes = etherscan_api_response.json()['result']\n",
    "len(crv_depositor_txes)"
   ]
  },
  {
   "cell_type": "code",
   "execution_count": 9,
   "metadata": {},
   "outputs": [
    {
     "name": "stdout",
     "output_type": "stream",
     "text": [
      "Transaction was Mined \n",
      "---------------------\n",
      "Tx Hash: \u001b[34m0x9732672d70db5e62492e44988f5b44eee3dbddc9fce601c5a91d1f5030ab833d\u001b[39;49;00m\n",
      "From: \u001b[34m0xF9cb2a5944654B0C9b07D2311715728e30D3eE82\u001b[39;49;00m\n",
      "To: \u001b[34m0x8014595F2AB54cD7c604B00E9fb932176fDc86Ae\u001b[39;49;00m\n",
      "Value: \u001b[34m0\u001b[39;49;00m\n",
      "Function: CrvDepositor.deposit\n",
      "Block: \u001b[34m13104401\u001b[39;49;00m\n",
      "Gas Used: \u001b[34m172269\u001b[39;49;00m / \u001b[34m325251\u001b[39;49;00m (\u001b[34m53.0\u001b[39;49;00m%)\n",
      "\n",
      "Events In This Transaction\n",
      "--------------------------\n",
      "\u001b[04m\u001b[91m├\u001b[39;49;00m\u001b[04m\u001b[91m─\u001b[39;49;00m\u001b[04m\u001b[91m─\u001b[39;49;00m \u001b[34m0xD533a949740bb3306d119CC777fa900bA034cd52\u001b[39;49;00m\n",
      "\u001b[04m\u001b[91m│\u001b[39;49;00m   \u001b[04m\u001b[91m└\u001b[39;49;00m\u001b[04m\u001b[91m─\u001b[39;49;00m\u001b[04m\u001b[91m─\u001b[39;49;00m Transfer\n",
      "\u001b[04m\u001b[91m│\u001b[39;49;00m       \u001b[04m\u001b[91m├\u001b[39;49;00m\u001b[04m\u001b[91m─\u001b[39;49;00m\u001b[04m\u001b[91m─\u001b[39;49;00m _from: \u001b[34m0xF9cb2a5944654B0C9b07D2311715728e30D3eE82\u001b[39;49;00m\n",
      "\u001b[04m\u001b[91m│\u001b[39;49;00m       \u001b[04m\u001b[91m├\u001b[39;49;00m\u001b[04m\u001b[91m─\u001b[39;49;00m\u001b[04m\u001b[91m─\u001b[39;49;00m _to: \u001b[34m0x8014595F2AB54cD7c604B00E9fb932176fDc86Ae\u001b[39;49;00m\n",
      "\u001b[04m\u001b[91m│\u001b[39;49;00m       \u001b[04m\u001b[91m└\u001b[39;49;00m\u001b[04m\u001b[91m─\u001b[39;49;00m\u001b[04m\u001b[91m─\u001b[39;49;00m _value: \u001b[34m5310123920076595644229\u001b[39;49;00m\n",
      "\u001b[04m\u001b[91m│\u001b[39;49;00m   \n",
      "\u001b[04m\u001b[91m├\u001b[39;49;00m\u001b[04m\u001b[91m─\u001b[39;49;00m\u001b[04m\u001b[91m─\u001b[39;49;00m \u001b[34m0x62B9c7356A2Dc64a1969e19C23e4f579F9810Aa7\u001b[39;49;00m\n",
      "\u001b[04m\u001b[91m│\u001b[39;49;00m   \u001b[04m\u001b[91m├\u001b[39;49;00m\u001b[04m\u001b[91m─\u001b[39;49;00m\u001b[04m\u001b[91m─\u001b[39;49;00m Transfer\n",
      "\u001b[04m\u001b[91m│\u001b[39;49;00m   \u001b[04m\u001b[91m│\u001b[39;49;00m   \u001b[04m\u001b[91m├\u001b[39;49;00m\u001b[04m\u001b[91m─\u001b[39;49;00m\u001b[04m\u001b[91m─\u001b[39;49;00m _from: \u001b[34m0x0000000000000000000000000000000000000000\u001b[39;49;00m\n",
      "\u001b[04m\u001b[91m│\u001b[39;49;00m   \u001b[04m\u001b[91m│\u001b[39;49;00m   \u001b[04m\u001b[91m├\u001b[39;49;00m\u001b[04m\u001b[91m─\u001b[39;49;00m\u001b[04m\u001b[91m─\u001b[39;49;00m _to: \u001b[34m0x8014595F2AB54cD7c604B00E9fb932176fDc86Ae\u001b[39;49;00m\n",
      "\u001b[04m\u001b[91m│\u001b[39;49;00m   \u001b[04m\u001b[91m│\u001b[39;49;00m   \u001b[04m\u001b[91m└\u001b[39;49;00m\u001b[04m\u001b[91m─\u001b[39;49;00m\u001b[04m\u001b[91m─\u001b[39;49;00m _value: \u001b[34m5310123920076595644229\u001b[39;49;00m\n",
      "\u001b[04m\u001b[91m│\u001b[39;49;00m   \u001b[04m\u001b[91m├\u001b[39;49;00m\u001b[04m\u001b[91m─\u001b[39;49;00m\u001b[04m\u001b[91m─\u001b[39;49;00m Approval\n",
      "\u001b[04m\u001b[91m│\u001b[39;49;00m   \u001b[04m\u001b[91m│\u001b[39;49;00m   \u001b[04m\u001b[91m├\u001b[39;49;00m\u001b[04m\u001b[91m─\u001b[39;49;00m\u001b[04m\u001b[91m─\u001b[39;49;00m _owner: \u001b[34m0x8014595F2AB54cD7c604B00E9fb932176fDc86Ae\u001b[39;49;00m\n",
      "\u001b[04m\u001b[91m│\u001b[39;49;00m   \u001b[04m\u001b[91m│\u001b[39;49;00m   \u001b[04m\u001b[91m├\u001b[39;49;00m\u001b[04m\u001b[91m─\u001b[39;49;00m\u001b[04m\u001b[91m─\u001b[39;49;00m _spender: \u001b[34m0x3Fe65692bfCD0e6CF84cB1E7d24108E434A7587e\u001b[39;49;00m\n",
      "\u001b[04m\u001b[91m│\u001b[39;49;00m   \u001b[04m\u001b[91m│\u001b[39;49;00m   \u001b[04m\u001b[91m└\u001b[39;49;00m\u001b[04m\u001b[91m─\u001b[39;49;00m\u001b[04m\u001b[91m─\u001b[39;49;00m _value: \u001b[34m0\u001b[39;49;00m\n",
      "\u001b[04m\u001b[91m│\u001b[39;49;00m   \u001b[04m\u001b[91m└\u001b[39;49;00m\u001b[04m\u001b[91m─\u001b[39;49;00m\u001b[04m\u001b[91m─\u001b[39;49;00m Approval\n",
      "\u001b[04m\u001b[91m│\u001b[39;49;00m       \u001b[04m\u001b[91m├\u001b[39;49;00m\u001b[04m\u001b[91m─\u001b[39;49;00m\u001b[04m\u001b[91m─\u001b[39;49;00m _owner: \u001b[34m0x8014595F2AB54cD7c604B00E9fb932176fDc86Ae\u001b[39;49;00m\n",
      "\u001b[04m\u001b[91m│\u001b[39;49;00m       \u001b[04m\u001b[91m├\u001b[39;49;00m\u001b[04m\u001b[91m─\u001b[39;49;00m\u001b[04m\u001b[91m─\u001b[39;49;00m _spender: \u001b[34m0x3Fe65692bfCD0e6CF84cB1E7d24108E434A7587e\u001b[39;49;00m\n",
      "\u001b[04m\u001b[91m│\u001b[39;49;00m       \u001b[04m\u001b[91m└\u001b[39;49;00m\u001b[04m\u001b[91m─\u001b[39;49;00m\u001b[04m\u001b[91m─\u001b[39;49;00m _value: \u001b[34m5310123920076595644229\u001b[39;49;00m\n",
      "\u001b[04m\u001b[91m│\u001b[39;49;00m   \n",
      "\u001b[04m\u001b[91m├\u001b[39;49;00m\u001b[04m\u001b[91m─\u001b[39;49;00m\u001b[04m\u001b[91m─\u001b[39;49;00m \u001b[34m0x7091dbb7fcbA54569eF1387Ac89Eb2a5C9F6d2EA\u001b[39;49;00m\n",
      "\u001b[04m\u001b[91m│\u001b[39;49;00m   \u001b[04m\u001b[91m└\u001b[39;49;00m\u001b[04m\u001b[91m─\u001b[39;49;00m\u001b[04m\u001b[91m─\u001b[39;49;00m Staked\n",
      "\u001b[04m\u001b[91m│\u001b[39;49;00m       \u001b[04m\u001b[91m├\u001b[39;49;00m\u001b[04m\u001b[91m─\u001b[39;49;00m\u001b[04m\u001b[91m─\u001b[39;49;00m user: \u001b[34m0xF9cb2a5944654B0C9b07D2311715728e30D3eE82\u001b[39;49;00m\n",
      "\u001b[04m\u001b[91m│\u001b[39;49;00m       \u001b[04m\u001b[91m└\u001b[39;49;00m\u001b[04m\u001b[91m─\u001b[39;49;00m\u001b[04m\u001b[91m─\u001b[39;49;00m amount: \u001b[34m5310123920076595644229\u001b[39;49;00m\n",
      "\u001b[04m\u001b[91m│\u001b[39;49;00m   \n",
      "\u001b[04m\u001b[91m├\u001b[39;49;00m\u001b[04m\u001b[91m─\u001b[39;49;00m\u001b[04m\u001b[91m─\u001b[39;49;00m \u001b[34m0x62B9c7356A2Dc64a1969e19C23e4f579F9810Aa7\u001b[39;49;00m\n",
      "\u001b[04m\u001b[91m│\u001b[39;49;00m   \u001b[04m\u001b[91m├\u001b[39;49;00m\u001b[04m\u001b[91m─\u001b[39;49;00m\u001b[04m\u001b[91m─\u001b[39;49;00m Transfer\n",
      "\u001b[04m\u001b[91m│\u001b[39;49;00m   \u001b[04m\u001b[91m│\u001b[39;49;00m   \u001b[04m\u001b[91m├\u001b[39;49;00m\u001b[04m\u001b[91m─\u001b[39;49;00m\u001b[04m\u001b[91m─\u001b[39;49;00m _from: \u001b[34m0x8014595F2AB54cD7c604B00E9fb932176fDc86Ae\u001b[39;49;00m\n",
      "\u001b[04m\u001b[91m│\u001b[39;49;00m   \u001b[04m\u001b[91m│\u001b[39;49;00m   \u001b[04m\u001b[91m├\u001b[39;49;00m\u001b[04m\u001b[91m─\u001b[39;49;00m\u001b[04m\u001b[91m─\u001b[39;49;00m _to: \u001b[34m0x3Fe65692bfCD0e6CF84cB1E7d24108E434A7587e\u001b[39;49;00m\n",
      "\u001b[04m\u001b[91m│\u001b[39;49;00m   \u001b[04m\u001b[91m│\u001b[39;49;00m   \u001b[04m\u001b[91m└\u001b[39;49;00m\u001b[04m\u001b[91m─\u001b[39;49;00m\u001b[04m\u001b[91m─\u001b[39;49;00m _value: \u001b[34m5310123920076595644229\u001b[39;49;00m\n",
      "\u001b[04m\u001b[91m│\u001b[39;49;00m   \u001b[04m\u001b[91m└\u001b[39;49;00m\u001b[04m\u001b[91m─\u001b[39;49;00m\u001b[04m\u001b[91m─\u001b[39;49;00m Approval\n",
      "\u001b[04m\u001b[91m│\u001b[39;49;00m       \u001b[04m\u001b[91m├\u001b[39;49;00m\u001b[04m\u001b[91m─\u001b[39;49;00m\u001b[04m\u001b[91m─\u001b[39;49;00m _owner: \u001b[34m0x8014595F2AB54cD7c604B00E9fb932176fDc86Ae\u001b[39;49;00m\n",
      "\u001b[04m\u001b[91m│\u001b[39;49;00m       \u001b[04m\u001b[91m├\u001b[39;49;00m\u001b[04m\u001b[91m─\u001b[39;49;00m\u001b[04m\u001b[91m─\u001b[39;49;00m _spender: \u001b[34m0x3Fe65692bfCD0e6CF84cB1E7d24108E434A7587e\u001b[39;49;00m\n",
      "\u001b[04m\u001b[91m│\u001b[39;49;00m       \u001b[04m\u001b[91m└\u001b[39;49;00m\u001b[04m\u001b[91m─\u001b[39;49;00m\u001b[04m\u001b[91m─\u001b[39;49;00m _value: \u001b[34m0\u001b[39;49;00m\n",
      "\u001b[04m\u001b[91m│\u001b[39;49;00m   \n",
      "\u001b[04m\u001b[91m└\u001b[39;49;00m\u001b[04m\u001b[91m─\u001b[39;49;00m\u001b[04m\u001b[91m─\u001b[39;49;00m \u001b[34m0x3Fe65692bfCD0e6CF84cB1E7d24108E434A7587e\u001b[39;49;00m\n",
      "    \u001b[04m\u001b[91m└\u001b[39;49;00m\u001b[04m\u001b[91m─\u001b[39;49;00m\u001b[04m\u001b[91m─\u001b[39;49;00m Staked\n",
      "        \u001b[04m\u001b[91m├\u001b[39;49;00m\u001b[04m\u001b[91m─\u001b[39;49;00m\u001b[04m\u001b[91m─\u001b[39;49;00m user: \u001b[34m0xF9cb2a5944654B0C9b07D2311715728e30D3eE82\u001b[39;49;00m\n",
      "        \u001b[04m\u001b[91m└\u001b[39;49;00m\u001b[04m\u001b[91m─\u001b[39;49;00m\u001b[04m\u001b[91m─\u001b[39;49;00m amount: \u001b[34m5310123920076595644229\u001b[39;49;00m\n",
      "\n"
     ]
    }
   ],
   "source": [
    "example_tx = crv_depositor_txes[10]\n",
    "tx_receipt = brownie.network.transaction.TransactionReceipt(example_tx['hash'])\n",
    "tx_receipt.info()"
   ]
  },
  {
   "cell_type": "code",
   "execution_count": 10,
   "metadata": {},
   "outputs": [],
   "source": [
    "crv_lock_txes = {'timestamp': [], 'qt': [], 'gas_price': []}\n",
    "for tx in crv_depositor_txes:\n",
    "    try:\n",
    "        tx_receipt = brownie.network.transaction.TransactionReceipt(tx['hash'])\n",
    "        if tx_receipt.fn_name == 'deposit':\n",
    "            crv_lock_txes['qt'].append(tx_receipt.events[0]['_value'] * 1e-18)\n",
    "            crv_lock_txes['gas_price'].append(tx_receipt.gas_price * 1e-9)\n",
    "            crv_lock_txes['timestamp'].append(datetime.datetime.fromtimestamp(tx_receipt.timestamp))\n",
    "    except:\n",
    "        continue"
   ]
  },
  {
   "cell_type": "code",
   "execution_count": 11,
   "metadata": {},
   "outputs": [
    {
     "data": {
      "text/html": "<div>\n<style scoped>\n    .dataframe tbody tr th:only-of-type {\n        vertical-align: middle;\n    }\n\n    .dataframe tbody tr th {\n        vertical-align: top;\n    }\n\n    .dataframe thead th {\n        text-align: right;\n    }\n</style>\n<table border=\"1\" class=\"dataframe\">\n  <thead>\n    <tr style=\"text-align: right;\">\n      <th></th>\n      <th>qt</th>\n      <th>gas_price</th>\n    </tr>\n    <tr>\n      <th>timestamp</th>\n      <th></th>\n      <th></th>\n    </tr>\n  </thead>\n  <tbody>\n    <tr>\n      <th>2021-08-26 16:25:32</th>\n      <td>600.000000</td>\n      <td>74.000000</td>\n    </tr>\n    <tr>\n      <th>2021-08-26 16:40:55</th>\n      <td>15000.000000</td>\n      <td>73.000000</td>\n    </tr>\n    <tr>\n      <th>2021-08-26 19:14:49</th>\n      <td>1120.178447</td>\n      <td>127.000000</td>\n    </tr>\n    <tr>\n      <th>2021-08-26 19:49:22</th>\n      <td>453.508374</td>\n      <td>70.735046</td>\n    </tr>\n    <tr>\n      <th>2021-08-26 20:38:28</th>\n      <td>23861.187621</td>\n      <td>72.000000</td>\n    </tr>\n    <tr>\n      <th>...</th>\n      <td>...</td>\n      <td>...</td>\n    </tr>\n    <tr>\n      <th>2021-09-10 20:11:36</th>\n      <td>29456.595175</td>\n      <td>74.000000</td>\n    </tr>\n    <tr>\n      <th>2021-09-10 20:34:52</th>\n      <td>352.012711</td>\n      <td>82.000000</td>\n    </tr>\n    <tr>\n      <th>2021-09-10 20:44:50</th>\n      <td>228.044756</td>\n      <td>80.000000</td>\n    </tr>\n    <tr>\n      <th>2021-09-10 21:36:51</th>\n      <td>1000.000000</td>\n      <td>150.000000</td>\n    </tr>\n    <tr>\n      <th>2021-09-10 22:55:54</th>\n      <td>43142.021780</td>\n      <td>95.000000</td>\n    </tr>\n  </tbody>\n</table>\n<p>495 rows × 2 columns</p>\n</div>",
      "text/plain": "                               qt   gas_price\ntimestamp                                    \n2021-08-26 16:25:32    600.000000   74.000000\n2021-08-26 16:40:55  15000.000000   73.000000\n2021-08-26 19:14:49   1120.178447  127.000000\n2021-08-26 19:49:22    453.508374   70.735046\n2021-08-26 20:38:28  23861.187621   72.000000\n...                           ...         ...\n2021-09-10 20:11:36  29456.595175   74.000000\n2021-09-10 20:34:52    352.012711   82.000000\n2021-09-10 20:44:50    228.044756   80.000000\n2021-09-10 21:36:51   1000.000000  150.000000\n2021-09-10 22:55:54  43142.021780   95.000000\n\n[495 rows x 2 columns]"
     },
     "execution_count": 11,
     "metadata": {},
     "output_type": "execute_result"
    }
   ],
   "source": [
    "df_crv_lock_txes = pd.DataFrame(crv_lock_txes)\n",
    "df_crv_lock_txes.set_index('timestamp', inplace=True)\n",
    "df_crv_lock_txes"
   ]
  },
  {
   "cell_type": "code",
   "execution_count": 12,
   "metadata": {},
   "outputs": [
    {
     "data": {
      "text/html": "<div>\n<style scoped>\n    .dataframe tbody tr th:only-of-type {\n        vertical-align: middle;\n    }\n\n    .dataframe tbody tr th {\n        vertical-align: top;\n    }\n\n    .dataframe thead th {\n        text-align: right;\n    }\n</style>\n<table border=\"1\" class=\"dataframe\">\n  <thead>\n    <tr style=\"text-align: right;\">\n      <th></th>\n      <th>avg_gas</th>\n      <th>total_locked</th>\n    </tr>\n    <tr>\n      <th>timestamp</th>\n      <th></th>\n      <th></th>\n    </tr>\n  </thead>\n  <tbody>\n    <tr>\n      <th>2021-08-26</th>\n      <td>84.748338</td>\n      <td>7.570679</td>\n    </tr>\n    <tr>\n      <th>2021-08-27</th>\n      <td>69.974074</td>\n      <td>59.423923</td>\n    </tr>\n    <tr>\n      <th>2021-08-28</th>\n      <td>60.954227</td>\n      <td>94.287892</td>\n    </tr>\n    <tr>\n      <th>2021-08-29</th>\n      <td>60.325949</td>\n      <td>28.593548</td>\n    </tr>\n    <tr>\n      <th>2021-08-30</th>\n      <td>71.995001</td>\n      <td>14.118240</td>\n    </tr>\n    <tr>\n      <th>2021-08-31</th>\n      <td>80.293222</td>\n      <td>17.013887</td>\n    </tr>\n    <tr>\n      <th>2021-09-01</th>\n      <td>92.181818</td>\n      <td>1.419798</td>\n    </tr>\n    <tr>\n      <th>2021-09-02</th>\n      <td>87.920723</td>\n      <td>8.339927</td>\n    </tr>\n    <tr>\n      <th>2021-09-03</th>\n      <td>81.087615</td>\n      <td>1.898888</td>\n    </tr>\n    <tr>\n      <th>2021-09-04</th>\n      <td>113.568665</td>\n      <td>26.517071</td>\n    </tr>\n    <tr>\n      <th>2021-09-05</th>\n      <td>86.500469</td>\n      <td>55.637856</td>\n    </tr>\n    <tr>\n      <th>2021-09-06</th>\n      <td>95.929443</td>\n      <td>57.634915</td>\n    </tr>\n    <tr>\n      <th>2021-09-07</th>\n      <td>119.833676</td>\n      <td>57.567325</td>\n    </tr>\n    <tr>\n      <th>2021-09-08</th>\n      <td>94.166862</td>\n      <td>26.428512</td>\n    </tr>\n    <tr>\n      <th>2021-09-09</th>\n      <td>106.146118</td>\n      <td>80.623051</td>\n    </tr>\n    <tr>\n      <th>2021-09-10</th>\n      <td>80.185688</td>\n      <td>133.079790</td>\n    </tr>\n  </tbody>\n</table>\n</div>",
      "text/plain": "               avg_gas  total_locked\ntimestamp                           \n2021-08-26   84.748338      7.570679\n2021-08-27   69.974074     59.423923\n2021-08-28   60.954227     94.287892\n2021-08-29   60.325949     28.593548\n2021-08-30   71.995001     14.118240\n2021-08-31   80.293222     17.013887\n2021-09-01   92.181818      1.419798\n2021-09-02   87.920723      8.339927\n2021-09-03   81.087615      1.898888\n2021-09-04  113.568665     26.517071\n2021-09-05   86.500469     55.637856\n2021-09-06   95.929443     57.634915\n2021-09-07  119.833676     57.567325\n2021-09-08   94.166862     26.428512\n2021-09-09  106.146118     80.623051\n2021-09-10   80.185688    133.079790"
     },
     "execution_count": 12,
     "metadata": {},
     "output_type": "execute_result"
    }
   ],
   "source": [
    "df_crv_lock_daily = pd.DataFrame()\n",
    "df_crv_lock_daily['avg_gas'] = df_crv_lock_txes.groupby(pd.Grouper(freq='1D'))['gas_price'].mean()\n",
    "df_crv_lock_daily['total_locked'] = df_crv_lock_txes.groupby(pd.Grouper(freq='1D'))['qt'].sum() / 10000\n",
    "df_crv_lock_daily"
   ]
  },
  {
   "cell_type": "code",
   "execution_count": 13,
   "metadata": {},
   "outputs": [
    {
     "data": {
      "text/plain": "Text(0.5, 1.0, 'total locked crv (x10000) and average gas each day')"
     },
     "execution_count": 13,
     "metadata": {},
     "output_type": "execute_result"
    },
    {
     "data": {
      "image/png": "[encoded data removed]",
      "text/plain": "<Figure size 720x360 with 1 Axes>"
     },
     "metadata": {
      "needs_background": "light"
     },
     "output_type": "display_data"
    }
   ],
   "source": [
    "fig, ax = plt.subplots(1,1, figsize=(10, 5))\n",
    "df_crv_lock_daily.plot(ax=ax, kind='bar')\n",
    "ax.set_title(\"total locked crv (x10000) and average gas each day\")"
   ]
  },
  {
   "cell_type": "code",
   "execution_count": null,
   "metadata": {},
   "outputs": [],
   "source": []
  }
 ],
 "metadata": {
  "kernelspec": {
   "display_name": "Python 3.7.10  ('venv': venv)",
   "name": "python3710jvsc74a57bd021df2f293af9707545440a88aaf24e48b342b3531ee3aea9e212c79967abcd9c"
  },
  "language_info": {
   "name": "python",
   "version": ""
  },
  "metadata": {
   "interpreter": {
    "hash": "21df2f293af9707545440a88aaf24e48b342b3531ee3aea9e212c79967abcd9c"
   }
  },
  "orig_nbformat": 2
 },
 "nbformat": 4,
 "nbformat_minor": 2
}