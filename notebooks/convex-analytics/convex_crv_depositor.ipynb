{
 "cells": [
  {
   "cell_type": "code",
   "execution_count": 1,
   "metadata": {},
   "outputs": [],
   "source": [
    "import pandas as pd\n",
    "import matplotlib.pyplot as plt\n",
    "import seaborn as sns\n",
    "import datetime\n",
    "import os"
   ]
  },
  {
   "cell_type": "code",
   "execution_count": 2,
   "metadata": {},
   "outputs": [],
   "source": [
    "from etherscan.accounts import Account"
   ]
  },
  {
   "cell_type": "code",
   "execution_count": 3,
   "metadata": {},
   "outputs": [],
   "source": [
    "import brownie\n",
    "\n",
    "brownie.network.connect(\"mainnet\")"
   ]
  },
  {
   "cell_type": "code",
   "execution_count": 4,
   "metadata": {},
   "outputs": [],
   "source": [
    "import requests as requests"
   ]
  },
  {
   "cell_type": "code",
   "execution_count": 5,
   "metadata": {},
   "outputs": [],
   "source": [
    "block_info_response = requests.get(\"https://api.blockcypher.com/v1/eth/main\")\n",
    "current_block = block_info_response.json()['height']"
   ]
  },
  {
   "cell_type": "code",
   "execution_count": 6,
   "metadata": {
    "collapsed": false,
    "pycharm": {
     "name": "#%%\n"
    }
   },
   "outputs": [
    {
     "name": "stdout",
     "output_type": "stream",
     "text": [
      "Fetching source of \u001B[0;1;34m0x8014595F2AB54cD7c604B00E9fb932176fDc86Ae\u001B[0;m from \u001B[0;1;34mapi.etherscan.io\u001B[0;m...\n"
     ]
    },
    {
     "name": "stderr",
     "output_type": "stream",
     "text": [
      "/Users/swadhinnanda/Projects/git/on-chain-analytics/venv/lib/python3.7/site-packages/brownie/network/contract.py:1239: BrownieCompilerWarning: 0x8014595F2AB54cD7c604B00E9fb932176fDc86Ae: Locally compiled and on-chain bytecode do not match!\n",
      "  BrownieCompilerWarning,\n"
     ]
    }
   ],
   "source": [
    "crv_depositor_contract = \"0x8014595F2AB54cD7c604B00E9fb932176fDc86Ae\"\n",
    "crv_depositor_contract_obj = brownie.network.contract.Contract.from_explorer(crv_depositor_contract)"
   ]
  },
  {
   "cell_type": "code",
   "execution_count": 7,
   "metadata": {
    "collapsed": false,
    "pycharm": {
     "name": "#%%\n"
    }
   },
   "outputs": [
    {
     "data": {
      "text/plain": "<Response [200]>"
     },
     "execution_count": 7,
     "metadata": {},
     "output_type": "execute_result"
    }
   ],
   "source": [
    "go_back = 100000\n",
    "query = f\"https://api.etherscan.io/api?module=account&action=txlist&address={crv_depositor_contract}&startblock={current_block-go_back}&endblock={current_block}&sort=asc&page=1&offset=10000&apikey={os.environ['ETHERSCAN_API_KEY']}\"\n",
    "etherscan_api_response = requests.post(query)\n",
    "etherscan_api_response"
   ]
  },
  {
   "cell_type": "code",
   "execution_count": 8,
   "metadata": {},
   "outputs": [
    {
     "data": {
      "text/plain": "849"
     },
     "execution_count": 8,
     "metadata": {},
     "output_type": "execute_result"
    }
   ],
   "source": [
    "crv_depositor_txes = etherscan_api_response.json()['result']\n",
    "len(crv_depositor_txes)"
   ]
  },
  {
   "cell_type": "code",
   "execution_count": 9,
   "metadata": {},
   "outputs": [
    {
     "name": "stdout",
     "output_type": "stream",
     "text": [
      "Transaction was Mined \n",
      "---------------------\n",
      "Tx Hash: \u001B[34m0xd9df0e55888b54bfe697a788c34aebee2b6beab906d049e9ee7eacdc13455ed7\u001B[39;49;00m\n",
      "From: \u001B[34m0x6a5282a527E41a117F4a46A7fc46AB09EDF69088\u001B[39;49;00m\n",
      "To: \u001B[34m0x8014595F2AB54cD7c604B00E9fb932176fDc86Ae\u001B[39;49;00m\n",
      "Value: \u001B[34m0\u001B[39;49;00m\n",
      "Function: CrvDepositor.deposit\n",
      "Block: \u001B[34m13280695\u001B[39;49;00m\n",
      "Gas Used: \u001B[34m476206\u001B[39;49;00m / \u001B[34m881020\u001B[39;49;00m (\u001B[34m54.1\u001B[39;49;00m%)\n",
      "\n",
      "Events In This Transaction\n",
      "--------------------------\n",
      "\u001B[04m\u001B[91m├\u001B[39;49;00m\u001B[04m\u001B[91m─\u001B[39;49;00m\u001B[04m\u001B[91m─\u001B[39;49;00m Curve DAO Token (\u001B[34m0xD533a949740bb3306d119CC777fa900bA034cd52\u001B[39;49;00m)\n",
      "\u001B[04m\u001B[91m│\u001B[39;49;00m   \u001B[04m\u001B[91m├\u001B[39;49;00m\u001B[04m\u001B[91m─\u001B[39;49;00m\u001B[04m\u001B[91m─\u001B[39;49;00m Transfer\n",
      "\u001B[04m\u001B[91m│\u001B[39;49;00m   \u001B[04m\u001B[91m│\u001B[39;49;00m   \u001B[04m\u001B[91m├\u001B[39;49;00m\u001B[04m\u001B[91m─\u001B[39;49;00m\u001B[04m\u001B[91m─\u001B[39;49;00m _from: \u001B[34m0x6a5282a527E41a117F4a46A7fc46AB09EDF69088\u001B[39;49;00m\n",
      "\u001B[04m\u001B[91m│\u001B[39;49;00m   \u001B[04m\u001B[91m│\u001B[39;49;00m   \u001B[04m\u001B[91m├\u001B[39;49;00m\u001B[04m\u001B[91m─\u001B[39;49;00m\u001B[04m\u001B[91m─\u001B[39;49;00m _to: \u001B[34m0x989AEb4d175e16225E39E87d0D97A3360524AD80\u001B[39;49;00m\n",
      "\u001B[04m\u001B[91m│\u001B[39;49;00m   \u001B[04m\u001B[91m│\u001B[39;49;00m   \u001B[04m\u001B[91m└\u001B[39;49;00m\u001B[04m\u001B[91m─\u001B[39;49;00m\u001B[04m\u001B[91m─\u001B[39;49;00m _value: \u001B[34m3256797609518248424466\u001B[39;49;00m\n",
      "\u001B[04m\u001B[91m│\u001B[39;49;00m   \u001B[04m\u001B[91m├\u001B[39;49;00m\u001B[04m\u001B[91m─\u001B[39;49;00m\u001B[04m\u001B[91m─\u001B[39;49;00m Transfer\n",
      "\u001B[04m\u001B[91m│\u001B[39;49;00m   \u001B[04m\u001B[91m│\u001B[39;49;00m   \u001B[04m\u001B[91m├\u001B[39;49;00m\u001B[04m\u001B[91m─\u001B[39;49;00m\u001B[04m\u001B[91m─\u001B[39;49;00m _from: \u001B[34m0x8014595F2AB54cD7c604B00E9fb932176fDc86Ae\u001B[39;49;00m\n",
      "\u001B[04m\u001B[91m│\u001B[39;49;00m   \u001B[04m\u001B[91m│\u001B[39;49;00m   \u001B[04m\u001B[91m├\u001B[39;49;00m\u001B[04m\u001B[91m─\u001B[39;49;00m\u001B[04m\u001B[91m─\u001B[39;49;00m _to: \u001B[34m0x989AEb4d175e16225E39E87d0D97A3360524AD80\u001B[39;49;00m\n",
      "\u001B[04m\u001B[91m│\u001B[39;49;00m   \u001B[04m\u001B[91m│\u001B[39;49;00m   \u001B[04m\u001B[91m└\u001B[39;49;00m\u001B[04m\u001B[91m─\u001B[39;49;00m\u001B[04m\u001B[91m─\u001B[39;49;00m _value: \u001B[34m24955793121825824798054\u001B[39;49;00m\n",
      "\u001B[04m\u001B[91m│\u001B[39;49;00m   \u001B[04m\u001B[91m├\u001B[39;49;00m\u001B[04m\u001B[91m─\u001B[39;49;00m\u001B[04m\u001B[91m─\u001B[39;49;00m Approval\n",
      "\u001B[04m\u001B[91m│\u001B[39;49;00m   \u001B[04m\u001B[91m│\u001B[39;49;00m   \u001B[04m\u001B[91m├\u001B[39;49;00m\u001B[04m\u001B[91m─\u001B[39;49;00m\u001B[04m\u001B[91m─\u001B[39;49;00m _owner: \u001B[34m0x989AEb4d175e16225E39E87d0D97A3360524AD80\u001B[39;49;00m\n",
      "\u001B[04m\u001B[91m│\u001B[39;49;00m   \u001B[04m\u001B[91m│\u001B[39;49;00m   \u001B[04m\u001B[91m├\u001B[39;49;00m\u001B[04m\u001B[91m─\u001B[39;49;00m\u001B[04m\u001B[91m─\u001B[39;49;00m _spender: \u001B[34m0x5f3b5DfEb7B28CDbD7FAba78963EE202a494e2A2\u001B[39;49;00m\n",
      "\u001B[04m\u001B[91m│\u001B[39;49;00m   \u001B[04m\u001B[91m│\u001B[39;49;00m   \u001B[04m\u001B[91m└\u001B[39;49;00m\u001B[04m\u001B[91m─\u001B[39;49;00m\u001B[04m\u001B[91m─\u001B[39;49;00m _value: \u001B[34m0\u001B[39;49;00m\n",
      "\u001B[04m\u001B[91m│\u001B[39;49;00m   \u001B[04m\u001B[91m├\u001B[39;49;00m\u001B[04m\u001B[91m─\u001B[39;49;00m\u001B[04m\u001B[91m─\u001B[39;49;00m Approval\n",
      "\u001B[04m\u001B[91m│\u001B[39;49;00m   \u001B[04m\u001B[91m│\u001B[39;49;00m   \u001B[04m\u001B[91m├\u001B[39;49;00m\u001B[04m\u001B[91m─\u001B[39;49;00m\u001B[04m\u001B[91m─\u001B[39;49;00m _owner: \u001B[34m0x989AEb4d175e16225E39E87d0D97A3360524AD80\u001B[39;49;00m\n",
      "\u001B[04m\u001B[91m│\u001B[39;49;00m   \u001B[04m\u001B[91m│\u001B[39;49;00m   \u001B[04m\u001B[91m├\u001B[39;49;00m\u001B[04m\u001B[91m─\u001B[39;49;00m\u001B[04m\u001B[91m─\u001B[39;49;00m _spender: \u001B[34m0x5f3b5DfEb7B28CDbD7FAba78963EE202a494e2A2\u001B[39;49;00m\n",
      "\u001B[04m\u001B[91m│\u001B[39;49;00m   \u001B[04m\u001B[91m│\u001B[39;49;00m   \u001B[04m\u001B[91m└\u001B[39;49;00m\u001B[04m\u001B[91m─\u001B[39;49;00m\u001B[04m\u001B[91m─\u001B[39;49;00m _value: \u001B[34m28212590731344073222520\u001B[39;49;00m\n",
      "\u001B[04m\u001B[91m│\u001B[39;49;00m   \u001B[04m\u001B[91m└\u001B[39;49;00m\u001B[04m\u001B[91m─\u001B[39;49;00m\u001B[04m\u001B[91m─\u001B[39;49;00m Transfer\n",
      "\u001B[04m\u001B[91m│\u001B[39;49;00m       \u001B[04m\u001B[91m├\u001B[39;49;00m\u001B[04m\u001B[91m─\u001B[39;49;00m\u001B[04m\u001B[91m─\u001B[39;49;00m _from: \u001B[34m0x989AEb4d175e16225E39E87d0D97A3360524AD80\u001B[39;49;00m\n",
      "\u001B[04m\u001B[91m│\u001B[39;49;00m       \u001B[04m\u001B[91m├\u001B[39;49;00m\u001B[04m\u001B[91m─\u001B[39;49;00m\u001B[04m\u001B[91m─\u001B[39;49;00m _to: \u001B[34m0x5f3b5DfEb7B28CDbD7FAba78963EE202a494e2A2\u001B[39;49;00m\n",
      "\u001B[04m\u001B[91m│\u001B[39;49;00m       \u001B[04m\u001B[91m└\u001B[39;49;00m\u001B[04m\u001B[91m─\u001B[39;49;00m\u001B[04m\u001B[91m─\u001B[39;49;00m _value: \u001B[34m28212590731344073222520\u001B[39;49;00m\n",
      "\u001B[04m\u001B[91m│\u001B[39;49;00m   \n",
      "\u001B[04m\u001B[91m├\u001B[39;49;00m\u001B[04m\u001B[91m─\u001B[39;49;00m\u001B[04m\u001B[91m─\u001B[39;49;00m \u001B[34m0x5f3b5DfEb7B28CDbD7FAba78963EE202a494e2A2\u001B[39;49;00m\n",
      "\u001B[04m\u001B[91m│\u001B[39;49;00m   \u001B[04m\u001B[91m├\u001B[39;49;00m\u001B[04m\u001B[91m─\u001B[39;49;00m\u001B[04m\u001B[91m─\u001B[39;49;00m (unknown)\n",
      "\u001B[04m\u001B[91m│\u001B[39;49;00m   \u001B[04m\u001B[91m│\u001B[39;49;00m   \u001B[04m\u001B[91m├\u001B[39;49;00m\u001B[04m\u001B[91m─\u001B[39;49;00m\u001B[04m\u001B[91m─\u001B[39;49;00m topic1: \u001B[34m0x4566dfc29f6f11d13a418c26a02bef7c28bae749d4de47e4e6a7cddea6730d59\u001B[39;49;00m\n",
      "\u001B[04m\u001B[91m│\u001B[39;49;00m   \u001B[04m\u001B[91m│\u001B[39;49;00m   \u001B[04m\u001B[91m├\u001B[39;49;00m\u001B[04m\u001B[91m─\u001B[39;49;00m\u001B[04m\u001B[91m─\u001B[39;49;00m topic2: \u001B[34m0x000000000000000000000000989aeb4d175e16225e39e87d0d97a3360524ad80\u001B[39;49;00m\n",
      "\u001B[04m\u001B[91m│\u001B[39;49;00m   \u001B[04m\u001B[91m│\u001B[39;49;00m   \u001B[04m\u001B[91m├\u001B[39;49;00m\u001B[04m\u001B[91m─\u001B[39;49;00m\u001B[04m\u001B[91m─\u001B[39;49;00m topic3: \u001B[34m0x0000000000000000000000000000000000000000000000000000000068cb4b80\u001B[39;49;00m\n",
      "\u001B[04m\u001B[91m│\u001B[39;49;00m   \u001B[04m\u001B[91m│\u001B[39;49;00m   \u001B[04m\u001B[91m└\u001B[39;49;00m\u001B[04m\u001B[91m─\u001B[39;49;00m\u001B[04m\u001B[91m─\u001B[39;49;00m data: \u001B[34m0x0000000000000000000000000000000000000000000005f968590172097c6978000000000000000000000000000000000000000000000000000000000000000200000000000000000000000000000000000000000000000000000000614c2f93\u001B[39;49;00m\n",
      "\u001B[04m\u001B[91m│\u001B[39;49;00m   \u001B[04m\u001B[91m└\u001B[39;49;00m\u001B[04m\u001B[91m─\u001B[39;49;00m\u001B[04m\u001B[91m─\u001B[39;49;00m (unknown)\n",
      "\u001B[04m\u001B[91m│\u001B[39;49;00m       \u001B[04m\u001B[91m├\u001B[39;49;00m\u001B[04m\u001B[91m─\u001B[39;49;00m\u001B[04m\u001B[91m─\u001B[39;49;00m topic1: \u001B[34m0x5e2aa66efd74cce82b21852e317e5490d9ecc9e6bb953ae24d90851258cc2f5c\u001B[39;49;00m\n",
      "\u001B[04m\u001B[91m│\u001B[39;49;00m       \u001B[04m\u001B[91m└\u001B[39;49;00m\u001B[04m\u001B[91m─\u001B[39;49;00m\u001B[04m\u001B[91m─\u001B[39;49;00m data: \u001B[34m0x000000000000000000000000000000000000000001002c2152114dbaaa3b995b00000000000000000000000000000000000000000100321aba6a4f2cb3b802d3\u001B[39;49;00m\n",
      "\u001B[04m\u001B[91m│\u001B[39;49;00m   \n",
      "\u001B[04m\u001B[91m├\u001B[39;49;00m\u001B[04m\u001B[91m─\u001B[39;49;00m\u001B[04m\u001B[91m─\u001B[39;49;00m Convex CRV (\u001B[34m0x62B9c7356A2Dc64a1969e19C23e4f579F9810Aa7\u001B[39;49;00m)\n",
      "\u001B[04m\u001B[91m│\u001B[39;49;00m   \u001B[04m\u001B[91m├\u001B[39;49;00m\u001B[04m\u001B[91m─\u001B[39;49;00m\u001B[04m\u001B[91m─\u001B[39;49;00m Transfer\n",
      "\u001B[04m\u001B[91m│\u001B[39;49;00m   \u001B[04m\u001B[91m│\u001B[39;49;00m   \u001B[04m\u001B[91m├\u001B[39;49;00m\u001B[04m\u001B[91m─\u001B[39;49;00m\u001B[04m\u001B[91m─\u001B[39;49;00m from: \u001B[34m0x0000000000000000000000000000000000000000\u001B[39;49;00m\n",
      "\u001B[04m\u001B[91m│\u001B[39;49;00m   \u001B[04m\u001B[91m│\u001B[39;49;00m   \u001B[04m\u001B[91m├\u001B[39;49;00m\u001B[04m\u001B[91m─\u001B[39;49;00m\u001B[04m\u001B[91m─\u001B[39;49;00m to: \u001B[34m0x8014595F2AB54cD7c604B00E9fb932176fDc86Ae\u001B[39;49;00m\n",
      "\u001B[04m\u001B[91m│\u001B[39;49;00m   \u001B[04m\u001B[91m│\u001B[39;49;00m   \u001B[04m\u001B[91m└\u001B[39;49;00m\u001B[04m\u001B[91m─\u001B[39;49;00m\u001B[04m\u001B[91m─\u001B[39;49;00m value: \u001B[34m3256797609518248424466\u001B[39;49;00m\n",
      "\u001B[04m\u001B[91m│\u001B[39;49;00m   \u001B[04m\u001B[91m├\u001B[39;49;00m\u001B[04m\u001B[91m─\u001B[39;49;00m\u001B[04m\u001B[91m─\u001B[39;49;00m Approval\n",
      "\u001B[04m\u001B[91m│\u001B[39;49;00m   \u001B[04m\u001B[91m│\u001B[39;49;00m   \u001B[04m\u001B[91m├\u001B[39;49;00m\u001B[04m\u001B[91m─\u001B[39;49;00m\u001B[04m\u001B[91m─\u001B[39;49;00m owner: \u001B[34m0x8014595F2AB54cD7c604B00E9fb932176fDc86Ae\u001B[39;49;00m\n",
      "\u001B[04m\u001B[91m│\u001B[39;49;00m   \u001B[04m\u001B[91m│\u001B[39;49;00m   \u001B[04m\u001B[91m├\u001B[39;49;00m\u001B[04m\u001B[91m─\u001B[39;49;00m\u001B[04m\u001B[91m─\u001B[39;49;00m spender: \u001B[34m0x3Fe65692bfCD0e6CF84cB1E7d24108E434A7587e\u001B[39;49;00m\n",
      "\u001B[04m\u001B[91m│\u001B[39;49;00m   \u001B[04m\u001B[91m│\u001B[39;49;00m   \u001B[04m\u001B[91m└\u001B[39;49;00m\u001B[04m\u001B[91m─\u001B[39;49;00m\u001B[04m\u001B[91m─\u001B[39;49;00m value: \u001B[34m0\u001B[39;49;00m\n",
      "\u001B[04m\u001B[91m│\u001B[39;49;00m   \u001B[04m\u001B[91m└\u001B[39;49;00m\u001B[04m\u001B[91m─\u001B[39;49;00m\u001B[04m\u001B[91m─\u001B[39;49;00m Approval\n",
      "\u001B[04m\u001B[91m│\u001B[39;49;00m       \u001B[04m\u001B[91m├\u001B[39;49;00m\u001B[04m\u001B[91m─\u001B[39;49;00m\u001B[04m\u001B[91m─\u001B[39;49;00m owner: \u001B[34m0x8014595F2AB54cD7c604B00E9fb932176fDc86Ae\u001B[39;49;00m\n",
      "\u001B[04m\u001B[91m│\u001B[39;49;00m       \u001B[04m\u001B[91m├\u001B[39;49;00m\u001B[04m\u001B[91m─\u001B[39;49;00m\u001B[04m\u001B[91m─\u001B[39;49;00m spender: \u001B[34m0x3Fe65692bfCD0e6CF84cB1E7d24108E434A7587e\u001B[39;49;00m\n",
      "\u001B[04m\u001B[91m│\u001B[39;49;00m       \u001B[04m\u001B[91m└\u001B[39;49;00m\u001B[04m\u001B[91m─\u001B[39;49;00m\u001B[04m\u001B[91m─\u001B[39;49;00m value: \u001B[34m3256797609518248424466\u001B[39;49;00m\n",
      "\u001B[04m\u001B[91m│\u001B[39;49;00m   \n",
      "\u001B[04m\u001B[91m├\u001B[39;49;00m\u001B[04m\u001B[91m─\u001B[39;49;00m\u001B[04m\u001B[91m─\u001B[39;49;00m \u001B[34m0x7091dbb7fcbA54569eF1387Ac89Eb2a5C9F6d2EA\u001B[39;49;00m\n",
      "\u001B[04m\u001B[91m│\u001B[39;49;00m   \u001B[04m\u001B[91m└\u001B[39;49;00m\u001B[04m\u001B[91m─\u001B[39;49;00m\u001B[04m\u001B[91m─\u001B[39;49;00m Staked\n",
      "\u001B[04m\u001B[91m│\u001B[39;49;00m       \u001B[04m\u001B[91m├\u001B[39;49;00m\u001B[04m\u001B[91m─\u001B[39;49;00m\u001B[04m\u001B[91m─\u001B[39;49;00m user: \u001B[34m0x6a5282a527E41a117F4a46A7fc46AB09EDF69088\u001B[39;49;00m\n",
      "\u001B[04m\u001B[91m│\u001B[39;49;00m       \u001B[04m\u001B[91m└\u001B[39;49;00m\u001B[04m\u001B[91m─\u001B[39;49;00m\u001B[04m\u001B[91m─\u001B[39;49;00m amount: \u001B[34m3256797609518248424466\u001B[39;49;00m\n",
      "\u001B[04m\u001B[91m│\u001B[39;49;00m   \n",
      "\u001B[04m\u001B[91m├\u001B[39;49;00m\u001B[04m\u001B[91m─\u001B[39;49;00m\u001B[04m\u001B[91m─\u001B[39;49;00m Convex CRV (\u001B[34m0x62B9c7356A2Dc64a1969e19C23e4f579F9810Aa7\u001B[39;49;00m)\n",
      "\u001B[04m\u001B[91m│\u001B[39;49;00m   \u001B[04m\u001B[91m├\u001B[39;49;00m\u001B[04m\u001B[91m─\u001B[39;49;00m\u001B[04m\u001B[91m─\u001B[39;49;00m Transfer\n",
      "\u001B[04m\u001B[91m│\u001B[39;49;00m   \u001B[04m\u001B[91m│\u001B[39;49;00m   \u001B[04m\u001B[91m├\u001B[39;49;00m\u001B[04m\u001B[91m─\u001B[39;49;00m\u001B[04m\u001B[91m─\u001B[39;49;00m from: \u001B[34m0x8014595F2AB54cD7c604B00E9fb932176fDc86Ae\u001B[39;49;00m\n",
      "\u001B[04m\u001B[91m│\u001B[39;49;00m   \u001B[04m\u001B[91m│\u001B[39;49;00m   \u001B[04m\u001B[91m├\u001B[39;49;00m\u001B[04m\u001B[91m─\u001B[39;49;00m\u001B[04m\u001B[91m─\u001B[39;49;00m to: \u001B[34m0x3Fe65692bfCD0e6CF84cB1E7d24108E434A7587e\u001B[39;49;00m\n",
      "\u001B[04m\u001B[91m│\u001B[39;49;00m   \u001B[04m\u001B[91m│\u001B[39;49;00m   \u001B[04m\u001B[91m└\u001B[39;49;00m\u001B[04m\u001B[91m─\u001B[39;49;00m\u001B[04m\u001B[91m─\u001B[39;49;00m value: \u001B[34m3256797609518248424466\u001B[39;49;00m\n",
      "\u001B[04m\u001B[91m│\u001B[39;49;00m   \u001B[04m\u001B[91m└\u001B[39;49;00m\u001B[04m\u001B[91m─\u001B[39;49;00m\u001B[04m\u001B[91m─\u001B[39;49;00m Approval\n",
      "\u001B[04m\u001B[91m│\u001B[39;49;00m       \u001B[04m\u001B[91m├\u001B[39;49;00m\u001B[04m\u001B[91m─\u001B[39;49;00m\u001B[04m\u001B[91m─\u001B[39;49;00m owner: \u001B[34m0x8014595F2AB54cD7c604B00E9fb932176fDc86Ae\u001B[39;49;00m\n",
      "\u001B[04m\u001B[91m│\u001B[39;49;00m       \u001B[04m\u001B[91m├\u001B[39;49;00m\u001B[04m\u001B[91m─\u001B[39;49;00m\u001B[04m\u001B[91m─\u001B[39;49;00m spender: \u001B[34m0x3Fe65692bfCD0e6CF84cB1E7d24108E434A7587e\u001B[39;49;00m\n",
      "\u001B[04m\u001B[91m│\u001B[39;49;00m       \u001B[04m\u001B[91m└\u001B[39;49;00m\u001B[04m\u001B[91m─\u001B[39;49;00m\u001B[04m\u001B[91m─\u001B[39;49;00m value: \u001B[34m0\u001B[39;49;00m\n",
      "\u001B[04m\u001B[91m│\u001B[39;49;00m   \n",
      "\u001B[04m\u001B[91m└\u001B[39;49;00m\u001B[04m\u001B[91m─\u001B[39;49;00m\u001B[04m\u001B[91m─\u001B[39;49;00m \u001B[34m0x3Fe65692bfCD0e6CF84cB1E7d24108E434A7587e\u001B[39;49;00m\n",
      "    \u001B[04m\u001B[91m└\u001B[39;49;00m\u001B[04m\u001B[91m─\u001B[39;49;00m\u001B[04m\u001B[91m─\u001B[39;49;00m Staked\n",
      "        \u001B[04m\u001B[91m├\u001B[39;49;00m\u001B[04m\u001B[91m─\u001B[39;49;00m\u001B[04m\u001B[91m─\u001B[39;49;00m user: \u001B[34m0x6a5282a527E41a117F4a46A7fc46AB09EDF69088\u001B[39;49;00m\n",
      "        \u001B[04m\u001B[91m└\u001B[39;49;00m\u001B[04m\u001B[91m─\u001B[39;49;00m\u001B[04m\u001B[91m─\u001B[39;49;00m amount: \u001B[34m3256797609518248424466\u001B[39;49;00m\n",
      "\n"
     ]
    }
   ],
   "source": [
    "example_tx = crv_depositor_txes[10]\n",
    "tx_receipt = brownie.network.transaction.TransactionReceipt(example_tx['hash'])\n",
    "tx_receipt.info()"
   ]
  },
  {
   "cell_type": "code",
   "execution_count": null,
   "metadata": {
    "pycharm": {
     "is_executing": true
    }
   },
   "outputs": [],
   "source": [
    "crv_lock_txes = {'timestamp': [], 'qt': [], 'gas_price': []}\n",
    "for tx in crv_depositor_txes:\n",
    "    try:\n",
    "        tx_receipt = brownie.network.transaction.TransactionReceipt(tx['hash'])\n",
    "        if tx_receipt.fn_name == 'deposit':\n",
    "            crv_lock_txes['qt'].append(tx_receipt.events[0]['_value'] * 1e-18)\n",
    "            crv_lock_txes['gas_price'].append(tx_receipt.gas_price * 1e-9)\n",
    "            crv_lock_txes['timestamp'].append(datetime.datetime.fromtimestamp(tx_receipt.timestamp))\n",
    "    except:\n",
    "        continue"
   ]
  },
  {
   "cell_type": "code",
   "execution_count": null,
   "metadata": {
    "pycharm": {
     "is_executing": true
    }
   },
   "outputs": [],
   "source": [
    "df_crv_lock_txes = pd.DataFrame(crv_lock_txes)\n",
    "df_crv_lock_txes.set_index('timestamp', inplace=True)\n",
    "df_crv_lock_txes"
   ]
  },
  {
   "cell_type": "code",
   "execution_count": null,
   "metadata": {
    "pycharm": {
     "is_executing": true
    }
   },
   "outputs": [],
   "source": [
    "df_crv_lock_daily = pd.DataFrame()\n",
    "df_crv_lock_daily['avg_gas'] = df_crv_lock_txes.groupby(pd.Grouper(freq='1D'))['gas_price'].mean()\n",
    "df_crv_lock_daily['total_locked'] = df_crv_lock_txes.groupby(pd.Grouper(freq='1D'))['qt'].sum() / 10000\n",
    "df_crv_lock_daily"
   ]
  },
  {
   "cell_type": "code",
   "execution_count": null,
   "metadata": {
    "pycharm": {
     "is_executing": true
    }
   },
   "outputs": [],
   "source": [
    "fig, ax = plt.subplots(1,1, figsize=(10, 5))\n",
    "df_crv_lock_daily.plot(ax=ax, kind='bar')\n",
    "ax.set_title(\"total locked crv (x10000) and average gas each day\")"
   ]
  },
  {
   "cell_type": "code",
   "execution_count": null,
   "metadata": {
    "pycharm": {
     "is_executing": true
    }
   },
   "outputs": [],
   "source": []
  }
 ],
 "metadata": {
  "kernelspec": {
   "display_name": "Python 3.7.10  ('venv': venv)",
   "name": "python3710jvsc74a57bd021df2f293af9707545440a88aaf24e48b342b3531ee3aea9e212c79967abcd9c"
  },
  "language_info": {
   "name": "python",
   "version": ""
  },
  "metadata": {
   "interpreter": {
    "hash": "21df2f293af9707545440a88aaf24e48b342b3531ee3aea9e212c79967abcd9c"
   }
  },
  "orig_nbformat": 2
 },
 "nbformat": 4,
 "nbformat_minor": 2
}