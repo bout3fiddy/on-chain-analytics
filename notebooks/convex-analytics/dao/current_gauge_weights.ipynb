{
 "cells": [
  {
   "cell_type": "code",
   "execution_count": 2,
   "metadata": {
    "collapsed": true
   },
   "outputs": [],
   "source": [
    "import requests\n",
    "import pandas as pd"
   ]
  },
  {
   "cell_type": "code",
   "execution_count": 3,
   "outputs": [],
   "source": [
    "import matplotlib.pyplot as plt\n",
    "import matplotlib.dates as mdates\n",
    "\n",
    "import seaborn as sns\n",
    "sns.set_style(\"whitegrid\")"
   ],
   "metadata": {
    "collapsed": false,
    "pycharm": {
     "name": "#%%\n"
    }
   }
  },
  {
   "cell_type": "code",
   "execution_count": 4,
   "outputs": [],
   "source": [
    "proposal_id = \"QmaV4eMYuQyyuXUqBQr1q1icPDHTrMJd6poYXiv5a4fxg7\""
   ],
   "metadata": {
    "collapsed": false,
    "pycharm": {
     "name": "#%%\n"
    }
   }
  },
  {
   "cell_type": "code",
   "execution_count": 5,
   "outputs": [],
   "source": [
    "snapshot_query = f\"\"\"query Votes {{\n",
    "  votes (\n",
    "    first: 10000\n",
    "    skip: 0\n",
    "    where: {{\n",
    "      proposal: \"{proposal_id}\"\n",
    "    }}\n",
    "    orderBy: \"created\",\n",
    "    orderDirection: desc\n",
    "  ) {{\n",
    "    id\n",
    "    voter\n",
    "    created\n",
    "    proposal {{\n",
    "      id\n",
    "    }}\n",
    "    choice\n",
    "    space {{\n",
    "      id\n",
    "    }}\n",
    "  }}\n",
    "}}\n",
    "\"\"\""
   ],
   "metadata": {
    "collapsed": false,
    "pycharm": {
     "name": "#%%\n"
    }
   }
  },
  {
   "cell_type": "code",
   "execution_count": 6,
   "outputs": [],
   "source": [
    "url = \"https://hub.snapshot.org/graphql\""
   ],
   "metadata": {
    "collapsed": false,
    "pycharm": {
     "name": "#%%\n"
    }
   }
  },
  {
   "cell_type": "code",
   "execution_count": 7,
   "outputs": [
    {
     "data": {
      "text/plain": "                                          voter     created  \\\n0    0x5B7060Fe99Ed27e7b8F00B61966cbDDf1c6A4c18  1639179380   \n1    0x2F7949779e18c18298C2F253E34F9355403a5c4E  1639177690   \n2    0x938D1596F4aaeff105F52E896ec50B6eC2D008d0  1639177464   \n3    0x0944aA037975596D2F849CC5B5e10Cf455232Ee5  1639177297   \n4    0xC575B5e473EF412c78DEacf11AD57E33e5c2639b  1639176284   \n..                                          ...         ...   \n179  0xb9d3470B2Ce9050be1C614898c4A07085245ebfc  1639015137   \n180  0x0A7382B5469D9FF71A9742f2e93303fa353771d3  1639015041   \n181  0x2f45724d7E384b38D5C97206e78470544304887F  1639014099   \n182  0x77C2E72268576c563b4F1B81Ec33B6E801902363  1639012455   \n183  0x14F83fF95D4Ec5E8812DDf42DA1232b0ba1015e6  1639008271   \n\n                   choice  \n0             {'78': 100}  \n1               {'77': 1}  \n2             {'34': 100}  \n3               {'55': 1}  \n4               {'34': 1}  \n..                    ...  \n179           {'34': 100}  \n180    {'62': 1, '70': 1}  \n181  {'62': 50, '69': 50}  \n182             {'62': 1}  \n183             {'70': 1}  \n\n[184 rows x 3 columns]",
      "text/html": "<div>\n<style scoped>\n    .dataframe tbody tr th:only-of-type {\n        vertical-align: middle;\n    }\n\n    .dataframe tbody tr th {\n        vertical-align: top;\n    }\n\n    .dataframe thead th {\n        text-align: right;\n    }\n</style>\n<table border=\"1\" class=\"dataframe\">\n  <thead>\n    <tr style=\"text-align: right;\">\n      <th></th>\n      <th>voter</th>\n      <th>created</th>\n      <th>choice</th>\n    </tr>\n  </thead>\n  <tbody>\n    <tr>\n      <th>0</th>\n      <td>0x5B7060Fe99Ed27e7b8F00B61966cbDDf1c6A4c18</td>\n      <td>1639179380</td>\n      <td>{'78': 100}</td>\n    </tr>\n    <tr>\n      <th>1</th>\n      <td>0x2F7949779e18c18298C2F253E34F9355403a5c4E</td>\n      <td>1639177690</td>\n      <td>{'77': 1}</td>\n    </tr>\n    <tr>\n      <th>2</th>\n      <td>0x938D1596F4aaeff105F52E896ec50B6eC2D008d0</td>\n      <td>1639177464</td>\n      <td>{'34': 100}</td>\n    </tr>\n    <tr>\n      <th>3</th>\n      <td>0x0944aA037975596D2F849CC5B5e10Cf455232Ee5</td>\n      <td>1639177297</td>\n      <td>{'55': 1}</td>\n    </tr>\n    <tr>\n      <th>4</th>\n      <td>0xC575B5e473EF412c78DEacf11AD57E33e5c2639b</td>\n      <td>1639176284</td>\n      <td>{'34': 1}</td>\n    </tr>\n    <tr>\n      <th>...</th>\n      <td>...</td>\n      <td>...</td>\n      <td>...</td>\n    </tr>\n    <tr>\n      <th>179</th>\n      <td>0xb9d3470B2Ce9050be1C614898c4A07085245ebfc</td>\n      <td>1639015137</td>\n      <td>{'34': 100}</td>\n    </tr>\n    <tr>\n      <th>180</th>\n      <td>0x0A7382B5469D9FF71A9742f2e93303fa353771d3</td>\n      <td>1639015041</td>\n      <td>{'62': 1, '70': 1}</td>\n    </tr>\n    <tr>\n      <th>181</th>\n      <td>0x2f45724d7E384b38D5C97206e78470544304887F</td>\n      <td>1639014099</td>\n      <td>{'62': 50, '69': 50}</td>\n    </tr>\n    <tr>\n      <th>182</th>\n      <td>0x77C2E72268576c563b4F1B81Ec33B6E801902363</td>\n      <td>1639012455</td>\n      <td>{'62': 1}</td>\n    </tr>\n    <tr>\n      <th>183</th>\n      <td>0x14F83fF95D4Ec5E8812DDf42DA1232b0ba1015e6</td>\n      <td>1639008271</td>\n      <td>{'70': 1}</td>\n    </tr>\n  </tbody>\n</table>\n<p>184 rows × 3 columns</p>\n</div>"
     },
     "execution_count": 7,
     "metadata": {},
     "output_type": "execute_result"
    }
   ],
   "source": [
    "r = requests.post(url, json={'query': snapshot_query})\n",
    "proposal_data = dict(r.json())\n",
    "df_proposal_data = pd.DataFrame(proposal_data['data']['votes'])\n",
    "df_proposal_data.drop(columns=['proposal', 'space', 'id'], inplace=True)\n",
    "df_proposal_data"
   ],
   "metadata": {
    "collapsed": false,
    "pycharm": {
     "name": "#%%\n"
    }
   }
  },
  {
   "cell_type": "code",
   "execution_count": null,
   "outputs": [],
   "source": [],
   "metadata": {
    "collapsed": false,
    "pycharm": {
     "name": "#%%\n"
    }
   }
  }
 ],
 "metadata": {
  "kernelspec": {
   "display_name": "Python 3",
   "language": "python",
   "name": "python3"
  },
  "language_info": {
   "codemirror_mode": {
    "name": "ipython",
    "version": 2
   },
   "file_extension": ".py",
   "mimetype": "text/x-python",
   "name": "python",
   "nbconvert_exporter": "python",
   "pygments_lexer": "ipython2",
   "version": "2.7.6"
  }
 },
 "nbformat": 4,
 "nbformat_minor": 0
}