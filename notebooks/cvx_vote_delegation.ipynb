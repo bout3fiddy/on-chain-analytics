{
 "cells": [
  {
   "cell_type": "code",
   "execution_count": 1,
   "metadata": {},
   "outputs": [],
   "source": [
    "import requests\n",
    "import brownie\n",
    "import os"
   ]
  },
  {
   "cell_type": "code",
   "execution_count": 2,
   "metadata": {},
   "outputs": [],
   "source": [
    "brownie.network.connect('mainnet')"
   ]
  },
  {
   "cell_type": "code",
   "execution_count": 3,
   "metadata": {},
   "outputs": [],
   "source": [
    "delegator_contract = \"0x469788fE6E9E9681C6ebF3bF78e7Fd26Fc015446\"\n",
    "delegator_contract_obj = brownie.network.contract.Contract(delegator_contract)"
   ]
  },
  {
   "cell_type": "code",
   "execution_count": 4,
   "metadata": {},
   "outputs": [],
   "source": [
    "vlCVX_contract = \"0xD18140b4B819b895A3dba5442F959fA44994AF50\"\n",
    "vlCVX_contract_obj = brownie.network.contract.Contract(vlCVX_contract)"
   ]
  },
  {
   "cell_type": "code",
   "execution_count": 5,
   "metadata": {},
   "outputs": [],
   "source": [
    "block_info_response = requests.get(\"https://api.blockcypher.com/v1/eth/main\")\n",
    "current_block = block_info_response.json()['height']"
   ]
  },
  {
   "cell_type": "code",
   "execution_count": 6,
   "metadata": {},
   "outputs": [
    {
     "data": {
      "text/plain": "<Response [200]>"
     },
     "execution_count": 6,
     "metadata": {},
     "output_type": "execute_result"
    }
   ],
   "source": [
    "query = f\"https://api.etherscan.io/api?module=account&action=txlist&address={delegator_contract}&startblock=0&endblock=9999999999&sort=asc&page=1&offset=10000&apikey={os.environ['ETHERSCAN_API_KEY']}\"\n",
    "etherscan_api_response = requests.post(query)\n",
    "etherscan_api_response"
   ]
  },
  {
   "cell_type": "code",
   "execution_count": 7,
   "metadata": {},
   "outputs": [
    {
     "data": {
      "text/plain": "513"
     },
     "execution_count": 7,
     "metadata": {},
     "output_type": "execute_result"
    }
   ],
   "source": [
    "vote_delegation_txes = etherscan_api_response.json()['result']\n",
    "len(vote_delegation_txes)"
   ]
  },
  {
   "cell_type": "code",
   "execution_count": 8,
   "metadata": {},
   "outputs": [
    {
     "data": {
      "text/plain": "[0x676e6f7369730000000000000000000000000000000000000000000000000000,\n '0xeF8305E140ac520225DAf050e2f71d5fBcC543e7']"
     },
     "execution_count": 8,
     "metadata": {},
     "output_type": "execute_result"
    }
   ],
   "source": [
    "delegator_contract_obj.setDelegate.decode_input(vote_delegation_txes[0]['input'])"
   ]
  },
  {
   "cell_type": "code",
   "execution_count": 16,
   "metadata": {},
   "outputs": [
    {
     "data": {
      "text/plain": "{'0xD549A42b5dd6E06d6145ba65F99df4a0f282AdEf': 3013.288,\n '0xde1E6A7ED0ad3F61D531a8a78E83CcDdbd6E0c49': 598507.6229116425,\n '0x947B7742C403f20e5FaCcDAc5E092C943E7D0277': 79390.15317149487}"
     },
     "execution_count": 16,
     "metadata": {},
     "output_type": "execute_result"
    }
   ],
   "source": [
    "delegate_cvx_stake = {}\n",
    "for tx in vote_delegation_txes:\n",
    "\n",
    "    tx_receipt = brownie.network.transaction.TransactionReceipt(tx['hash'])\n",
    "    delegator_addr = tx['from']\n",
    "    delegator_locked_supply = vlCVX_contract_obj.lockedBalanceOf(delegator_addr) * 1e-18\n",
    "\n",
    "    if delegator_locked_supply == 0.0:\n",
    "        continue\n",
    "\n",
    "    if tx_receipt.fn_name == \"setDelegate\":\n",
    "\n",
    "        delegate_addr = delegator_contract_obj.setDelegate.decode_input(tx['input'])[1]\n",
    "\n",
    "        if delegate_addr not in delegate_cvx_stake.keys():\n",
    "            delegate_cvx_stake[delegate_addr] = delegator_locked_supply\n",
    "        else:\n",
    "            delegate_cvx_stake[delegate_addr] += delegator_locked_supply\n",
    "\n",
    "    elif tx_receipt.fn_name == \"clearDelegate\":\n",
    "\n",
    "        delegated_addr = tx_receipt.events['ClearDelegate']['delegate']\n",
    "\n",
    "        if delegated_addr not in delegate_cvx_stake.keys():\n",
    "            delegate_cvx_stake[delegated_addr] = -delegator_locked_supply\n",
    "        else:\n",
    "            delegate_cvx_stake[delegated_addr] -= delegator_locked_supply\n",
    "\n",
    "delegate_cvx_stake"
   ]
  },
  {
   "cell_type": "code",
   "execution_count": 13,
   "metadata": {
    "pycharm": {
     "name": "#%%\n"
    }
   },
   "outputs": [
    {
     "data": {
      "text/plain": "'0x9381741a8ada2b21ccacc5a920a65e8c35d0fa94'"
     },
     "execution_count": 13,
     "metadata": {},
     "output_type": "execute_result"
    }
   ],
   "source": []
  }
 ],
 "metadata": {
  "kernelspec": {
   "display_name": "Python 3.7.10  ('venv': venv)",
   "name": "python3710jvsc74a57bd021df2f293af9707545440a88aaf24e48b342b3531ee3aea9e212c79967abcd9c"
  },
  "language_info": {
   "codemirror_mode": {
    "name": "ipython",
    "version": 3
   },
   "file_extension": ".py",
   "mimetype": "text/x-python",
   "name": "python",
   "nbconvert_exporter": "python",
   "pygments_lexer": "ipython3",
   "version": "3.7.10"
  },
  "metadata": {
   "interpreter": {
    "hash": "21df2f293af9707545440a88aaf24e48b342b3531ee3aea9e212c79967abcd9c"
   }
  },
  "orig_nbformat": 2
 },
 "nbformat": 4,
 "nbformat_minor": 2
}